{
 "cells": [
  {
   "cell_type": "markdown",
   "id": "562c702d",
   "metadata": {
    "slideshow": {
     "slide_type": "slide"
    }
   },
   "source": [
    "# Iterator\n",
    "\n",
    "- **Iterable**\n",
    "    - 여러개의 데이터를 하나씩 또는 한 단위씩 제공하는 객체.\n",
    "    - Iterator객체를 반환하는 `__iter__()` 특수 메소드를 정의해야 한다.\n",
    "        - `__iter__()`는 `iter(Iterable)` 내장함수에 의해 호출된다. \n",
    "- **Iterator**\n",
    "    - 자신을 생성한 Iterable의 값들을 하나씩 또는 한 단위씩 제공하는 객체\n",
    "    - Iterable의 값을 제공하는 `__next__()` 특수 메소드를 정의한다.\n",
    "        - `__next__()` 는 `next(Iterator)` 내정함수에 의해 호출된다.\n",
    "        - 더 이상 제공할 값이 없을 경우 **StopIteration** Exception을 발생시켜야 한다."
   ]
  },
  {
   "cell_type": "code",
   "execution_count": null,
   "id": "17ab9a1b",
   "metadata": {},
   "outputs": [],
   "source": [
    "#  Iterable: 원소를 갖고 있고\n",
    "#  Iterator: 원소를 하나씩 제공해주는 역할"
   ]
  },
  {
   "cell_type": "code",
   "execution_count": null,
   "id": "c7d5c4b6",
   "metadata": {
    "slideshow": {
     "slide_type": "fragment"
    }
   },
   "outputs": [],
   "source": [
    "# list -> Iterable 타입\n",
    "# list_iterater -> list iterable"
   ]
  },
  {
   "cell_type": "markdown",
   "id": "ad311a49",
   "metadata": {
    "slideshow": {
     "slide_type": "subslide"
    }
   },
   "source": [
    "## for in 문 Iterable의 값을 순환반복하는 과정\n",
    "\n",
    "1. 반복 조회할 iterable객체의 __iter__() 를 호출 하여 Iterator를 구한다.\n",
    "1. 매 반복마다 Iterator의 __next__() 를 호출하여 다음 원소를 조회한다.\n",
    "1. 모든 원소들이 다 제공해 StopIteration Exception이 발생하면 반복문을 멈추고 빠져나온다."
   ]
  },
  {
   "cell_type": "code",
   "execution_count": 8,
   "id": "0117087f",
   "metadata": {
    "ExecuteTime": {
     "end_time": "2023-01-03T03:34:07.471468Z",
     "start_time": "2023-01-03T03:34:07.457824Z"
    },
    "slideshow": {
     "slide_type": "fragment"
    }
   },
   "outputs": [
    {
     "name": "stdout",
     "output_type": "stream",
     "text": [
      "<class 'list_iterator'>\n"
     ]
    }
   ],
   "source": [
    "l = [1,2,3]    #iterable\n",
    "l_iterator = iter(l)          #iterator를 조회  -> 리스트가 가진 값들을 하나씩 제공해주는 역할\n",
    "print(type(l_iterator))"
   ]
  },
  {
   "cell_type": "code",
   "execution_count": 9,
   "id": "1cbb07d9",
   "metadata": {
    "ExecuteTime": {
     "end_time": "2023-01-03T03:34:09.119611Z",
     "start_time": "2023-01-03T03:34:09.111742Z"
    }
   },
   "outputs": [
    {
     "name": "stdout",
     "output_type": "stream",
     "text": [
      "1\n"
     ]
    }
   ],
   "source": [
    "# 리스트 원도들을 list iterator 를 이용ㅎ애서 하나씩 조회\n",
    "print(next(l_iterator))   # l_iterator.__next__()"
   ]
  },
  {
   "cell_type": "code",
   "execution_count": 10,
   "id": "7b9e900f",
   "metadata": {
    "ExecuteTime": {
     "end_time": "2023-01-03T03:34:11.405966Z",
     "start_time": "2023-01-03T03:34:11.389885Z"
    }
   },
   "outputs": [
    {
     "name": "stdout",
     "output_type": "stream",
     "text": [
      "2\n"
     ]
    }
   ],
   "source": [
    "print(next(l_iterator))"
   ]
  },
  {
   "cell_type": "code",
   "execution_count": 11,
   "id": "f1192475",
   "metadata": {
    "ExecuteTime": {
     "end_time": "2023-01-03T03:34:16.419798Z",
     "start_time": "2023-01-03T03:34:16.409358Z"
    }
   },
   "outputs": [
    {
     "name": "stdout",
     "output_type": "stream",
     "text": [
      "3\n"
     ]
    }
   ],
   "source": [
    "print(next(l_iterator))"
   ]
  },
  {
   "cell_type": "code",
   "execution_count": null,
   "id": "12659454",
   "metadata": {},
   "outputs": [],
   "source": []
  },
  {
   "cell_type": "code",
   "execution_count": 221,
   "id": "a8a89b0d",
   "metadata": {
    "ExecuteTime": {
     "end_time": "2023-01-03T09:30:36.726183Z",
     "start_time": "2023-01-03T09:30:36.715401Z"
    }
   },
   "outputs": [],
   "source": [
    "#for if 문을 구현\n",
    "def for_in(iterable):\n",
    "    \"\"\"\n",
    "    iterable의 값을 모두 출력하는 함수 -> for in 문을 구현\n",
    "    \n",
    "    \"\"\"\n",
    "    \n",
    "    iterator = iter(iterable)\n",
    "    while True:\n",
    "        try:\n",
    "            v = next(iterator)\n",
    "            print(v)\n",
    "        except StopIteration :         #StopIteration 예외가 발생하면 break하고 반복문을 중단\n",
    "            break"
   ]
  },
  {
   "cell_type": "code",
   "execution_count": 222,
   "id": "9bff1029",
   "metadata": {
    "ExecuteTime": {
     "end_time": "2023-01-03T09:30:40.292942Z",
     "start_time": "2023-01-03T09:30:40.281926Z"
    }
   },
   "outputs": [
    {
     "name": "stdout",
     "output_type": "stream",
     "text": [
      "0\n",
      "1\n",
      "2\n",
      "3\n",
      "4\n",
      "5\n",
      "6\n",
      "7\n",
      "8\n",
      "9\n",
      "10\n",
      "11\n",
      "12\n",
      "13\n",
      "14\n",
      "15\n",
      "16\n",
      "17\n",
      "18\n",
      "19\n",
      "20\n",
      "21\n",
      "22\n",
      "23\n",
      "24\n",
      "25\n",
      "26\n",
      "27\n",
      "28\n",
      "29\n",
      "30\n",
      "31\n",
      "32\n",
      "33\n",
      "34\n",
      "35\n",
      "36\n",
      "37\n",
      "38\n",
      "39\n",
      "40\n",
      "41\n",
      "42\n",
      "43\n",
      "44\n",
      "45\n",
      "46\n",
      "47\n",
      "48\n",
      "49\n",
      "50\n",
      "51\n",
      "52\n",
      "53\n",
      "54\n",
      "55\n",
      "56\n",
      "57\n",
      "58\n",
      "59\n",
      "60\n",
      "61\n",
      "62\n",
      "63\n",
      "64\n",
      "65\n",
      "66\n",
      "67\n",
      "68\n",
      "69\n",
      "70\n",
      "71\n",
      "72\n",
      "73\n",
      "74\n",
      "75\n",
      "76\n",
      "77\n",
      "78\n",
      "79\n",
      "80\n",
      "81\n",
      "82\n",
      "83\n",
      "84\n",
      "85\n",
      "86\n",
      "87\n",
      "88\n",
      "89\n",
      "90\n",
      "91\n",
      "92\n",
      "93\n",
      "94\n",
      "95\n",
      "96\n",
      "97\n",
      "98\n",
      "99\n",
      "100\n",
      "101\n",
      "102\n",
      "103\n",
      "104\n",
      "105\n",
      "106\n",
      "107\n",
      "108\n",
      "109\n",
      "110\n",
      "111\n",
      "112\n",
      "113\n",
      "114\n",
      "115\n",
      "116\n",
      "117\n",
      "118\n",
      "119\n",
      "120\n",
      "121\n",
      "122\n",
      "123\n",
      "124\n",
      "125\n",
      "126\n",
      "127\n",
      "128\n",
      "129\n",
      "130\n",
      "131\n",
      "132\n",
      "133\n",
      "134\n",
      "135\n",
      "136\n",
      "137\n",
      "138\n",
      "139\n",
      "140\n",
      "141\n",
      "142\n",
      "143\n",
      "144\n",
      "145\n",
      "146\n",
      "147\n",
      "148\n",
      "149\n",
      "150\n",
      "151\n",
      "152\n",
      "153\n",
      "154\n",
      "155\n",
      "156\n",
      "157\n",
      "158\n",
      "159\n",
      "160\n",
      "161\n",
      "162\n",
      "163\n",
      "164\n",
      "165\n",
      "166\n",
      "167\n",
      "168\n",
      "169\n",
      "170\n",
      "171\n",
      "172\n",
      "173\n",
      "174\n",
      "175\n",
      "176\n",
      "177\n",
      "178\n",
      "179\n",
      "180\n",
      "181\n",
      "182\n",
      "183\n",
      "184\n",
      "185\n",
      "186\n",
      "187\n",
      "188\n",
      "189\n",
      "190\n",
      "191\n",
      "192\n",
      "193\n",
      "194\n",
      "195\n",
      "196\n",
      "197\n",
      "198\n",
      "199\n",
      "200\n",
      "201\n",
      "202\n",
      "203\n",
      "204\n",
      "205\n",
      "206\n",
      "207\n",
      "208\n",
      "209\n",
      "210\n",
      "211\n",
      "212\n",
      "213\n",
      "214\n",
      "215\n",
      "216\n",
      "217\n",
      "218\n",
      "219\n",
      "220\n",
      "221\n",
      "222\n",
      "223\n",
      "224\n",
      "225\n",
      "226\n",
      "227\n",
      "228\n",
      "229\n",
      "230\n",
      "231\n",
      "232\n",
      "233\n",
      "234\n",
      "235\n",
      "236\n",
      "237\n",
      "238\n",
      "239\n",
      "240\n",
      "241\n",
      "242\n",
      "243\n",
      "244\n",
      "245\n",
      "246\n",
      "247\n",
      "248\n",
      "249\n",
      "250\n",
      "251\n",
      "252\n",
      "253\n",
      "254\n",
      "255\n",
      "256\n",
      "257\n",
      "258\n",
      "259\n",
      "260\n",
      "261\n",
      "262\n",
      "263\n",
      "264\n",
      "265\n",
      "266\n",
      "267\n",
      "268\n",
      "269\n",
      "270\n",
      "271\n",
      "272\n",
      "273\n",
      "274\n",
      "275\n",
      "276\n",
      "277\n",
      "278\n",
      "279\n",
      "280\n",
      "281\n",
      "282\n",
      "283\n",
      "284\n",
      "285\n",
      "286\n",
      "287\n",
      "288\n",
      "289\n",
      "290\n",
      "291\n",
      "292\n",
      "293\n",
      "294\n",
      "295\n",
      "296\n",
      "297\n",
      "298\n",
      "299\n",
      "300\n",
      "301\n",
      "302\n",
      "303\n",
      "304\n",
      "305\n",
      "306\n",
      "307\n",
      "308\n",
      "309\n",
      "310\n",
      "311\n",
      "312\n",
      "313\n",
      "314\n",
      "315\n",
      "316\n",
      "317\n",
      "318\n",
      "319\n",
      "320\n",
      "321\n",
      "322\n",
      "323\n",
      "324\n",
      "325\n",
      "326\n",
      "327\n",
      "328\n",
      "329\n",
      "330\n",
      "331\n",
      "332\n",
      "333\n",
      "334\n",
      "335\n",
      "336\n",
      "337\n",
      "338\n",
      "339\n",
      "340\n",
      "341\n",
      "342\n",
      "343\n",
      "344\n",
      "345\n",
      "346\n",
      "347\n",
      "348\n",
      "349\n",
      "350\n",
      "351\n",
      "352\n",
      "353\n",
      "354\n",
      "355\n",
      "356\n",
      "357\n",
      "358\n",
      "359\n",
      "360\n",
      "361\n",
      "362\n",
      "363\n",
      "364\n",
      "365\n",
      "366\n",
      "367\n",
      "368\n",
      "369\n",
      "370\n",
      "371\n",
      "372\n",
      "373\n",
      "374\n",
      "375\n",
      "376\n",
      "377\n",
      "378\n",
      "379\n",
      "380\n",
      "381\n",
      "382\n",
      "383\n",
      "384\n",
      "385\n",
      "386\n",
      "387\n",
      "388\n",
      "389\n",
      "390\n",
      "391\n",
      "392\n",
      "393\n",
      "394\n",
      "395\n",
      "396\n",
      "397\n",
      "398\n",
      "399\n",
      "400\n",
      "401\n",
      "402\n",
      "403\n",
      "404\n",
      "405\n",
      "406\n",
      "407\n",
      "408\n",
      "409\n",
      "410\n",
      "411\n",
      "412\n",
      "413\n",
      "414\n",
      "415\n",
      "416\n",
      "417\n",
      "418\n",
      "419\n",
      "420\n",
      "421\n",
      "422\n",
      "423\n",
      "424\n",
      "425\n",
      "426\n",
      "427\n",
      "428\n",
      "429\n",
      "430\n",
      "431\n",
      "432\n",
      "433\n",
      "434\n",
      "435\n",
      "436\n",
      "437\n",
      "438\n",
      "439\n",
      "440\n",
      "441\n",
      "442\n",
      "443\n",
      "444\n",
      "445\n",
      "446\n",
      "447\n",
      "448\n",
      "449\n",
      "450\n",
      "451\n",
      "452\n",
      "453\n",
      "454\n",
      "455\n",
      "456\n",
      "457\n",
      "458\n",
      "459\n",
      "460\n",
      "461\n",
      "462\n",
      "463\n",
      "464\n",
      "465\n",
      "466\n",
      "467\n",
      "468\n",
      "469\n",
      "470\n",
      "471\n",
      "472\n",
      "473\n",
      "474\n",
      "475\n",
      "476\n",
      "477\n",
      "478\n",
      "479\n",
      "480\n",
      "481\n",
      "482\n",
      "483\n",
      "484\n",
      "485\n",
      "486\n",
      "487\n",
      "488\n",
      "489\n",
      "490\n",
      "491\n",
      "492\n",
      "493\n",
      "494\n",
      "495\n",
      "496\n",
      "497\n",
      "498\n",
      "499\n",
      "500\n",
      "501\n",
      "502\n",
      "503\n",
      "504\n",
      "505\n",
      "506\n",
      "507\n",
      "508\n",
      "509\n",
      "510\n",
      "511\n",
      "512\n",
      "513\n",
      "514\n",
      "515\n",
      "516\n",
      "517\n",
      "518\n",
      "519\n",
      "520\n",
      "521\n",
      "522\n",
      "523\n",
      "524\n",
      "525\n",
      "526\n",
      "527\n",
      "528\n",
      "529\n",
      "530\n",
      "531\n",
      "532\n",
      "533\n",
      "534\n",
      "535\n",
      "536\n",
      "537\n",
      "538\n",
      "539\n",
      "540\n",
      "541\n",
      "542\n",
      "543\n",
      "544\n",
      "545\n",
      "546\n",
      "547\n",
      "548\n",
      "549\n",
      "550\n",
      "551\n",
      "552\n",
      "553\n",
      "554\n",
      "555\n",
      "556\n",
      "557\n",
      "558\n",
      "559\n",
      "560\n",
      "561\n",
      "562\n",
      "563\n",
      "564\n",
      "565\n",
      "566\n",
      "567\n",
      "568\n",
      "569\n",
      "570\n",
      "571\n",
      "572\n",
      "573\n",
      "574\n",
      "575\n",
      "576\n",
      "577\n",
      "578\n",
      "579\n",
      "580\n",
      "581\n",
      "582\n",
      "583\n",
      "584\n",
      "585\n",
      "586\n",
      "587\n",
      "588\n",
      "589\n",
      "590\n",
      "591\n",
      "592\n",
      "593\n",
      "594\n",
      "595\n",
      "596\n",
      "597\n",
      "598\n",
      "599\n",
      "600\n",
      "601\n",
      "602\n",
      "603\n",
      "604\n",
      "605\n",
      "606\n",
      "607\n",
      "608\n",
      "609\n",
      "610\n",
      "611\n",
      "612\n",
      "613\n",
      "614\n",
      "615\n",
      "616\n",
      "617\n",
      "618\n",
      "619\n",
      "620\n",
      "621\n",
      "622\n",
      "623\n",
      "624\n",
      "625\n",
      "626\n",
      "627\n",
      "628\n",
      "629\n",
      "630\n",
      "631\n",
      "632\n",
      "633\n",
      "634\n",
      "635\n",
      "636\n",
      "637\n",
      "638\n",
      "639\n",
      "640\n",
      "641\n",
      "642\n",
      "643\n",
      "644\n",
      "645\n",
      "646\n",
      "647\n",
      "648\n",
      "649\n",
      "650\n",
      "651\n",
      "652\n",
      "653\n",
      "654\n",
      "655\n",
      "656\n",
      "657\n",
      "658\n",
      "659\n",
      "660\n",
      "661\n",
      "662\n",
      "663\n",
      "664\n",
      "665\n",
      "666\n",
      "667\n",
      "668\n",
      "669\n",
      "670\n",
      "671\n",
      "672\n",
      "673\n",
      "674\n",
      "675\n",
      "676\n",
      "677\n",
      "678\n",
      "679\n",
      "680\n",
      "681\n",
      "682\n",
      "683\n",
      "684\n",
      "685\n",
      "686\n",
      "687\n",
      "688\n",
      "689\n",
      "690\n",
      "691\n",
      "692\n",
      "693\n",
      "694\n",
      "695\n",
      "696\n",
      "697\n",
      "698\n",
      "699\n",
      "700\n",
      "701\n",
      "702\n",
      "703\n",
      "704\n",
      "705\n",
      "706\n",
      "707\n",
      "708\n",
      "709\n",
      "710\n",
      "711\n",
      "712\n",
      "713\n",
      "714\n",
      "715\n",
      "716\n",
      "717\n",
      "718\n",
      "719\n",
      "720\n",
      "721\n",
      "722\n",
      "723\n",
      "724\n",
      "725\n",
      "726\n",
      "727\n",
      "728\n",
      "729\n",
      "730\n",
      "731\n",
      "732\n",
      "733\n",
      "734\n",
      "735\n",
      "736\n",
      "737\n",
      "738\n",
      "739\n",
      "740\n",
      "741\n",
      "742\n",
      "743\n",
      "744\n",
      "745\n",
      "746\n",
      "747\n",
      "748\n",
      "749\n",
      "750\n",
      "751\n",
      "752\n",
      "753\n",
      "754\n",
      "755\n",
      "756\n",
      "757\n",
      "758\n",
      "759\n",
      "760\n",
      "761\n",
      "762\n",
      "763\n",
      "764\n",
      "765\n",
      "766\n",
      "767\n",
      "768\n",
      "769\n",
      "770\n",
      "771\n",
      "772\n",
      "773\n",
      "774\n",
      "775\n",
      "776\n",
      "777\n",
      "778\n",
      "779\n",
      "780\n",
      "781\n",
      "782\n",
      "783\n",
      "784\n",
      "785\n",
      "786\n",
      "787\n",
      "788\n",
      "789\n",
      "790\n",
      "791\n",
      "792\n",
      "793\n",
      "794\n",
      "795\n",
      "796\n",
      "797\n",
      "798\n",
      "799\n",
      "800\n",
      "801\n",
      "802\n",
      "803\n",
      "804\n",
      "805\n",
      "806\n",
      "807\n",
      "808\n",
      "809\n",
      "810\n",
      "811\n",
      "812\n",
      "813\n",
      "814\n",
      "815\n",
      "816\n",
      "817\n",
      "818\n",
      "819\n",
      "820\n",
      "821\n",
      "822\n",
      "823\n",
      "824\n",
      "825\n",
      "826\n",
      "827\n",
      "828\n",
      "829\n",
      "830\n",
      "831\n",
      "832\n",
      "833\n",
      "834\n",
      "835\n",
      "836\n",
      "837\n",
      "838\n",
      "839\n",
      "840\n",
      "841\n",
      "842\n",
      "843\n",
      "844\n",
      "845\n",
      "846\n",
      "847\n",
      "848\n",
      "849\n",
      "850\n",
      "851\n",
      "852\n",
      "853\n",
      "854\n",
      "855\n",
      "856\n",
      "857\n",
      "858\n",
      "859\n",
      "860\n",
      "861\n",
      "862\n",
      "863\n",
      "864\n",
      "865\n",
      "866\n",
      "867\n",
      "868\n",
      "869\n",
      "870\n",
      "871\n",
      "872\n",
      "873\n",
      "874\n",
      "875\n",
      "876\n",
      "877\n",
      "878\n",
      "879\n",
      "880\n",
      "881\n",
      "882\n",
      "883\n",
      "884\n",
      "885\n",
      "886\n",
      "887\n",
      "888\n",
      "889\n",
      "890\n",
      "891\n",
      "892\n",
      "893\n",
      "894\n",
      "895\n",
      "896\n",
      "897\n",
      "898\n",
      "899\n",
      "900\n",
      "901\n",
      "902\n",
      "903\n",
      "904\n",
      "905\n",
      "906\n",
      "907\n",
      "908\n",
      "909\n",
      "910\n",
      "911\n",
      "912\n",
      "913\n",
      "914\n",
      "915\n",
      "916\n",
      "917\n",
      "918\n",
      "919\n",
      "920\n",
      "921\n",
      "922\n",
      "923\n",
      "924\n",
      "925\n",
      "926\n",
      "927\n",
      "928\n",
      "929\n",
      "930\n",
      "931\n",
      "932\n",
      "933\n",
      "934\n",
      "935\n",
      "936\n",
      "937\n",
      "938\n",
      "939\n",
      "940\n",
      "941\n",
      "942\n",
      "943\n",
      "944\n",
      "945\n",
      "946\n",
      "947\n",
      "948\n",
      "949\n",
      "950\n",
      "951\n",
      "952\n",
      "953\n",
      "954\n",
      "955\n",
      "956\n",
      "957\n",
      "958\n",
      "959\n",
      "960\n",
      "961\n",
      "962\n",
      "963\n",
      "964\n",
      "965\n",
      "966\n",
      "967\n",
      "968\n",
      "969\n",
      "970\n",
      "971\n",
      "972\n",
      "973\n",
      "974\n",
      "975\n",
      "976\n",
      "977\n",
      "978\n",
      "979\n",
      "980\n",
      "981\n",
      "982\n",
      "983\n",
      "984\n",
      "985\n",
      "986\n",
      "987\n",
      "988\n",
      "989\n",
      "990\n",
      "991\n",
      "992\n",
      "993\n",
      "994\n",
      "995\n",
      "996\n",
      "997\n",
      "998\n",
      "999\n"
     ]
    }
   ],
   "source": [
    "for_in(l)"
   ]
  },
  {
   "cell_type": "code",
   "execution_count": null,
   "id": "a4684181",
   "metadata": {},
   "outputs": [],
   "source": []
  },
  {
   "cell_type": "code",
   "execution_count": 30,
   "id": "e7fb1356",
   "metadata": {
    "ExecuteTime": {
     "end_time": "2023-01-03T05:32:42.389220Z",
     "start_time": "2023-01-03T05:32:42.376960Z"
    }
   },
   "outputs": [],
   "source": [
    "## Iterable 과 Iterator를 구현\n",
    "## Iterable 과 Iterator를 '다른' 클래스로 구현\n",
    "\n",
    "# Iterable 구현\n",
    "class MyIterable:       ####### 선생님 것 다시....######\n",
    "    \n",
    "    def __init__(self,*args ):\n",
    "        \"\"\"\n",
    "        *args: 제공해줄 원소들을 가변인자 받는다.\n",
    "        \"\"\"\n",
    "        self.values = args   #튜플\n",
    "        \n",
    "    def __str__(self):\n",
    "        \"\"\"제공할 원소들을 가진 튜플을 문자열로 반환.\"\"\"\n",
    "        return str(self.values)\n",
    "               \n",
    "    def __iter__(self):\n",
    "        \"\"\"iteravle은 __iter__()를 반드시 재정의 해야한다.\n",
    "        Iterator 객체를 생성해서 반환하도록 처리\"\"\"\n",
    "        \n",
    "        return MyIterator(self.values)   #MyItertor가 MyIterable의 Values 값을 사용할 수 있도록 전달."
   ]
  },
  {
   "cell_type": "code",
   "execution_count": 35,
   "id": "29c52818",
   "metadata": {
    "ExecuteTime": {
     "end_time": "2023-01-03T05:39:39.703532Z",
     "start_time": "2023-01-03T05:39:39.690597Z"
    }
   },
   "outputs": [],
   "source": [
    "class MyIterator:     ####### 선생님 것 다시....######\n",
    "    \n",
    "    def __init__(self, values):\n",
    "        \"\"\"iterator의 initializer()에서 Iterable의 원소들을 받아야 한다. \n",
    "           (Iterable객체 또는 그 원소들을 받도록 처리한다.)\"\"\"\n",
    "        self.values = values\n",
    "        self.index = 0.   # 몇번째 원소까지 제공했는지 상태를 저장할 attribute.\n",
    "        \n",
    "    def ___next__(self):\n",
    "        \"\"\"next(iterator) 했을 때, 호출된 메소드. 다음 원소를 제공하고, 제공할 다음 원소가 없으면\n",
    "           StopIteration Exception을 발생시킨다.\"\"\"\n",
    "        \n",
    "        #self.values의 값을 하나씩 조회해서 return\n",
    "        if len(self.values) <= self.index:\n",
    "            raise StopIteration()\n",
    "        ret_value =  self.values[self.index]\n",
    "        self.index += 1\n",
    "        return ret_value"
   ]
  },
  {
   "cell_type": "code",
   "execution_count": 36,
   "id": "5c852c5b",
   "metadata": {
    "ExecuteTime": {
     "end_time": "2023-01-03T05:39:41.967687Z",
     "start_time": "2023-01-03T05:39:41.944114Z"
    },
    "collapsed": true
   },
   "outputs": [
    {
     "name": "stdout",
     "output_type": "stream",
     "text": [
      "(1, 2, 3, 4)\n"
     ]
    },
    {
     "ename": "TypeError",
     "evalue": "iter() returned non-iterator of type 'MyIterator'",
     "output_type": "error",
     "traceback": [
      "\u001b[0;31m---------------------------------------------------------------------------\u001b[0m",
      "\u001b[0;31mTypeError\u001b[0m                                 Traceback (most recent call last)",
      "\u001b[0;32m/var/folders/jf/l3x8dj6n62s041cwvf169t5w0000gn/T/ipykernel_3280/536832391.py\u001b[0m in \u001b[0;36m<module>\u001b[0;34m\u001b[0m\n\u001b[1;32m      2\u001b[0m \u001b[0mprint\u001b[0m\u001b[0;34m(\u001b[0m\u001b[0mmi\u001b[0m\u001b[0;34m)\u001b[0m\u001b[0;34m\u001b[0m\u001b[0;34m\u001b[0m\u001b[0m\n\u001b[1;32m      3\u001b[0m \u001b[0;31m# iterable로 부터 iterator 생성\u001b[0m\u001b[0;34m\u001b[0m\u001b[0;34m\u001b[0m\u001b[0m\n\u001b[0;32m----> 4\u001b[0;31m \u001b[0mm_iter\u001b[0m \u001b[0;34m=\u001b[0m \u001b[0miter\u001b[0m\u001b[0;34m(\u001b[0m\u001b[0mmi\u001b[0m\u001b[0;34m)\u001b[0m\u001b[0;34m\u001b[0m\u001b[0;34m\u001b[0m\u001b[0m\n\u001b[0m\u001b[1;32m      5\u001b[0m \u001b[0mtypr\u001b[0m\u001b[0;34m(\u001b[0m\u001b[0mm_iter\u001b[0m\u001b[0;34m)\u001b[0m\u001b[0;34m\u001b[0m\u001b[0;34m\u001b[0m\u001b[0m\n",
      "\u001b[0;31mTypeError\u001b[0m: iter() returned non-iterator of type 'MyIterator'"
     ]
    }
   ],
   "source": [
    "mi = MyIterable(1,2,3,4)       ####여기 선생님 것######\n",
    "print(mi)\n",
    "# iterable로 부터 iterator 생성\n",
    "m_iter = iter(mi)\n",
    "typr(m_iter)"
   ]
  },
  {
   "cell_type": "code",
   "execution_count": 33,
   "id": "14204902",
   "metadata": {
    "ExecuteTime": {
     "end_time": "2023-01-03T05:35:11.160050Z",
     "start_time": "2023-01-03T05:35:11.137584Z"
    },
    "collapsed": true
   },
   "outputs": [
    {
     "ename": "NameError",
     "evalue": "name 'm_iter' is not defined",
     "output_type": "error",
     "traceback": [
      "\u001b[0;31m---------------------------------------------------------------------------\u001b[0m",
      "\u001b[0;31mNameError\u001b[0m                                 Traceback (most recent call last)",
      "\u001b[0;32m/var/folders/jf/l3x8dj6n62s041cwvf169t5w0000gn/T/ipykernel_3280/3580896844.py\u001b[0m in \u001b[0;36m<module>\u001b[0;34m\u001b[0m\n\u001b[0;32m----> 1\u001b[0;31m \u001b[0mm_iter\u001b[0m\u001b[0;34m.\u001b[0m\u001b[0m__next__\u001b[0m\u001b[0;34m(\u001b[0m\u001b[0;34m)\u001b[0m\u001b[0;34m\u001b[0m\u001b[0;34m\u001b[0m\u001b[0m\n\u001b[0m",
      "\u001b[0;31mNameError\u001b[0m: name 'm_iter' is not defined"
     ]
    }
   ],
   "source": [
    "m_iter.__next__()"
   ]
  },
  {
   "cell_type": "code",
   "execution_count": null,
   "id": "5cb45c7e",
   "metadata": {},
   "outputs": [],
   "source": [
    "next(m_iter)           ####### 선생님 것 다시....######"
   ]
  },
  {
   "cell_type": "code",
   "execution_count": null,
   "id": "0c31dda0",
   "metadata": {},
   "outputs": [],
   "source": [
    "next(m_iter)           ####### 선생님 것 다시....######"
   ]
  },
  {
   "cell_type": "code",
   "execution_count": null,
   "id": "4c955e13",
   "metadata": {},
   "outputs": [],
   "source": [
    "next(m_iter)          ####### 선생님 것 다시....######"
   ]
  },
  {
   "cell_type": "code",
   "execution_count": 34,
   "id": "87e8186d",
   "metadata": {
    "ExecuteTime": {
     "end_time": "2023-01-03T05:36:35.292330Z",
     "start_time": "2023-01-03T05:36:35.273986Z"
    },
    "collapsed": true
   },
   "outputs": [
    {
     "ename": "TypeError",
     "evalue": "iter() returned non-iterator of type 'MyIterator'",
     "output_type": "error",
     "traceback": [
      "\u001b[0;31m---------------------------------------------------------------------------\u001b[0m",
      "\u001b[0;31mTypeError\u001b[0m                                 Traceback (most recent call last)",
      "\u001b[0;32m/var/folders/jf/l3x8dj6n62s041cwvf169t5w0000gn/T/ipykernel_3280/1820376569.py\u001b[0m in \u001b[0;36m<module>\u001b[0;34m\u001b[0m\n\u001b[0;32m----> 1\u001b[0;31m \u001b[0;32mfor\u001b[0m \u001b[0mv\u001b[0m \u001b[0;32min\u001b[0m \u001b[0mMyIterable\u001b[0m\u001b[0;34m(\u001b[0m\u001b[0;34m'A'\u001b[0m\u001b[0;34m,\u001b[0m \u001b[0;34m'B'\u001b[0m\u001b[0;34m,\u001b[0m\u001b[0;34m'C'\u001b[0m\u001b[0;34m)\u001b[0m\u001b[0;34m:\u001b[0m\u001b[0;34m\u001b[0m\u001b[0;34m\u001b[0m\u001b[0m\n\u001b[0m\u001b[1;32m      2\u001b[0m     \u001b[0mprint\u001b[0m\u001b[0;34m(\u001b[0m\u001b[0mv\u001b[0m\u001b[0;34m)\u001b[0m\u001b[0;34m\u001b[0m\u001b[0;34m\u001b[0m\u001b[0m\n",
      "\u001b[0;31mTypeError\u001b[0m: iter() returned non-iterator of type 'MyIterator'"
     ]
    }
   ],
   "source": [
    "for v in MyIterable('A', 'B','C'):       ####### 선생님 것 다시....######\n",
    "    print(v)"
   ]
  },
  {
   "cell_type": "code",
   "execution_count": null,
   "id": "46457287",
   "metadata": {},
   "outputs": [],
   "source": []
  },
  {
   "cell_type": "code",
   "execution_count": 42,
   "id": "975ae524",
   "metadata": {
    "ExecuteTime": {
     "end_time": "2023-01-03T05:48:06.856342Z",
     "start_time": "2023-01-03T05:48:06.839036Z"
    }
   },
   "outputs": [
    {
     "ename": "IndentationError",
     "evalue": "unindent does not match any outer indentation level (<tokenize>, line 21)",
     "output_type": "error",
     "traceback": [
      "\u001b[0;36m  File \u001b[0;32m\"<tokenize>\"\u001b[0;36m, line \u001b[0;32m21\u001b[0m\n\u001b[0;31m    def ___next__(self):\u001b[0m\n\u001b[0m    ^\u001b[0m\n\u001b[0;31mIndentationError\u001b[0m\u001b[0;31m:\u001b[0m unindent does not match any outer indentation level\n"
     ]
    }
   ],
   "source": [
    "## Iterable 과 Iterator를 '한' 클래스로 구현    ####### 선생님 것 다시....######\n",
    "class MyIterable2:\n",
    "    \n",
    "    def __init__(self,*args ):\n",
    "        \"\"\"\n",
    "        *args: 제공해줄 원소들을 가변인자 받는다.\n",
    "        \"\"\"\n",
    "        self.values = args   #튜플\n",
    "        self.index = 0\n",
    "        \n",
    "    def __str__(self):\n",
    "        \"\"\"제공할 원소들을 가진 튜플을 문자열로 반환.\"\"\"\n",
    "        return str(self.values)\n",
    "               \n",
    "    def __iter__(self):\n",
    "        \"\"\"iterable은 __iter__()를 반드시 재정의 해야한다.\n",
    "        Iterator 객체를 생성해서 반환하도록 처리\"\"\"\n",
    "        \n",
    "        return self  #MyItertor가 MyIterable의 Values 값을 사용할 수 있도록 전달.\n",
    "    \n",
    "     def ___next__(self):\n",
    "        \"\"\"next(iterator) 했을 때, 호출된 메소드. 다음 원소를 제공하고, 제공할 다음 원소가 없으면\n",
    "           StopIteration Exception을 발생시킨다.\"\"\"\n",
    "        \n",
    "        #self.values의 값을 하나씩 조회해서 return\n",
    "        if len(self.values) <= self.index:\n",
    "            raise StopIteration()\n",
    "        ret_value =  self.values[self.index]\n",
    "        self.index += 1\n",
    "        return ret_value\n",
    "    \n",
    "    def __getitem__(self, index):\n",
    "        # 객체[index] : self = 객체, index = index\n",
    "        return self.values"
   ]
  },
  {
   "cell_type": "code",
   "execution_count": 39,
   "id": "b008ccaf",
   "metadata": {
    "ExecuteTime": {
     "end_time": "2023-01-03T05:42:34.424238Z",
     "start_time": "2023-01-03T05:42:34.404582Z"
    },
    "collapsed": true
   },
   "outputs": [
    {
     "ename": "NameError",
     "evalue": "name 'MyIterable2' is not defined",
     "output_type": "error",
     "traceback": [
      "\u001b[0;31m---------------------------------------------------------------------------\u001b[0m",
      "\u001b[0;31mNameError\u001b[0m                                 Traceback (most recent call last)",
      "\u001b[0;32m/var/folders/jf/l3x8dj6n62s041cwvf169t5w0000gn/T/ipykernel_3280/1596320884.py\u001b[0m in \u001b[0;36m<module>\u001b[0;34m\u001b[0m\n\u001b[0;32m----> 1\u001b[0;31m \u001b[0;32mfor\u001b[0m \u001b[0mv\u001b[0m \u001b[0;32min\u001b[0m \u001b[0mMyIterable2\u001b[0m\u001b[0;34m(\u001b[0m\u001b[0;36m1\u001b[0m\u001b[0;34m,\u001b[0m\u001b[0;36m2\u001b[0m\u001b[0;34m,\u001b[0m\u001b[0;36m3\u001b[0m\u001b[0;34m,\u001b[0m\u001b[0;36m4\u001b[0m\u001b[0;34m,\u001b[0m\u001b[0;36m5\u001b[0m\u001b[0;34m,\u001b[0m\u001b[0;36m6\u001b[0m\u001b[0;34m,\u001b[0m\u001b[0;36m7\u001b[0m\u001b[0;34m)\u001b[0m\u001b[0;34m:\u001b[0m\u001b[0;34m\u001b[0m\u001b[0;34m\u001b[0m\u001b[0m\n\u001b[0m\u001b[1;32m      2\u001b[0m     \u001b[0mprint\u001b[0m\u001b[0;34m(\u001b[0m\u001b[0mv\u001b[0m\u001b[0;34m,\u001b[0m \u001b[0mend\u001b[0m\u001b[0;34m=\u001b[0m\u001b[0;34m'\\t'\u001b[0m\u001b[0;34m)\u001b[0m\u001b[0;34m\u001b[0m\u001b[0;34m\u001b[0m\u001b[0m\n",
      "\u001b[0;31mNameError\u001b[0m: name 'MyIterable2' is not defined"
     ]
    }
   ],
   "source": [
    "for v in MyIterable2(1,2,3,4,5,6,7):       ####### 선생님 것 다시....######\n",
    "    print(v, end='\\t')"
   ]
  },
  {
   "cell_type": "code",
   "execution_count": 40,
   "id": "8461db4a",
   "metadata": {
    "ExecuteTime": {
     "end_time": "2023-01-03T05:43:30.656410Z",
     "start_time": "2023-01-03T05:43:30.637223Z"
    },
    "collapsed": true
   },
   "outputs": [
    {
     "ename": "NameError",
     "evalue": "name 'MyIterable2' is not defined",
     "output_type": "error",
     "traceback": [
      "\u001b[0;31m---------------------------------------------------------------------------\u001b[0m",
      "\u001b[0;31mNameError\u001b[0m                                 Traceback (most recent call last)",
      "\u001b[0;32m/var/folders/jf/l3x8dj6n62s041cwvf169t5w0000gn/T/ipykernel_3280/3622008583.py\u001b[0m in \u001b[0;36m<module>\u001b[0;34m\u001b[0m\n\u001b[0;32m----> 1\u001b[0;31m \u001b[0mmi2\u001b[0m \u001b[0;34m=\u001b[0m \u001b[0mMyIterable2\u001b[0m\u001b[0;34m(\u001b[0m\u001b[0;36m1\u001b[0m\u001b[0;34m,\u001b[0m\u001b[0;36m2\u001b[0m\u001b[0;34m,\u001b[0m\u001b[0;36m3\u001b[0m\u001b[0;34m,\u001b[0m\u001b[0;36m4\u001b[0m\u001b[0;34m,\u001b[0m\u001b[0;36m5\u001b[0m\u001b[0;34m)\u001b[0m\u001b[0;34m\u001b[0m\u001b[0;34m\u001b[0m\u001b[0m\n\u001b[0m\u001b[1;32m      2\u001b[0m \u001b[0mprint\u001b[0m\u001b[0;34m(\u001b[0m\u001b[0mtype\u001b[0m\u001b[0;34m(\u001b[0m\u001b[0mmi2\u001b[0m\u001b[0;34m)\u001b[0m\u001b[0;34m)\u001b[0m\u001b[0;34m\u001b[0m\u001b[0;34m\u001b[0m\u001b[0m\n\u001b[1;32m      3\u001b[0m \u001b[0mm_iter2\u001b[0m \u001b[0;34m=\u001b[0m \u001b[0miter\u001b[0m\u001b[0;34m(\u001b[0m\u001b[0mmi2\u001b[0m\u001b[0;34m)\u001b[0m\u001b[0;34m\u001b[0m\u001b[0;34m\u001b[0m\u001b[0m\n\u001b[1;32m      4\u001b[0m \u001b[0mprint\u001b[0m\u001b[0;34m(\u001b[0m\u001b[0mtype\u001b[0m\u001b[0;34m(\u001b[0m\u001b[0mm_iter2\u001b[0m\u001b[0;34m)\u001b[0m\u001b[0;34m)\u001b[0m\u001b[0;34m\u001b[0m\u001b[0;34m\u001b[0m\u001b[0m\n",
      "\u001b[0;31mNameError\u001b[0m: name 'MyIterable2' is not defined"
     ]
    }
   ],
   "source": [
    "mi2 = MyIterable2(1,2,3,4,5)                ####### 선생님 것 다시....######\n",
    "print(type(mi2))\n",
    "m_iter2 = iter(mi2)\n",
    "print(type(m_iter2))"
   ]
  },
  {
   "cell_type": "code",
   "execution_count": null,
   "id": "c3a6b45c",
   "metadata": {},
   "outputs": [],
   "source": [
    "mi2[0]   #indexer 연산자  ==>   __getitem__() 재정의해야 함. (Iterable에 재정의)"
   ]
  },
  {
   "cell_type": "code",
   "execution_count": null,
   "id": "5a03e626",
   "metadata": {},
   "outputs": [],
   "source": [
    "mi2[1]"
   ]
  },
  {
   "cell_type": "code",
   "execution_count": null,
   "id": "c9ceca2c",
   "metadata": {},
   "outputs": [],
   "source": [
    "mi2[2]"
   ]
  },
  {
   "cell_type": "code",
   "execution_count": null,
   "id": "af6d18e2",
   "metadata": {},
   "outputs": [],
   "source": []
  },
  {
   "cell_type": "code",
   "execution_count": null,
   "id": "f74f4c1e",
   "metadata": {},
   "outputs": [],
   "source": []
  },
  {
   "cell_type": "code",
   "execution_count": null,
   "id": "664f4cb2",
   "metadata": {},
   "outputs": [],
   "source": []
  },
  {
   "cell_type": "markdown",
   "id": "5323e175",
   "metadata": {
    "slideshow": {
     "slide_type": "subslide"
    }
   },
   "source": [
    "## Generator 함수\n",
    "- Iterable과 Iterator를 합친 기능을 '함수 형태(코루틴)'로 구현(정의)한 것을 generator라고 한다.\n",
    "    - 제공할 값들을 미리 메모리에 올리지 않고 로직을 통해 값들을 호출자가 필요할 때 마다 제공할 때 유용하다.\n",
    "- 제너레이터 함수에서 값을 반환\n",
    "    - **yield 반환값**\n",
    "        - 반환값을 가지고 호출한 곳으로 돌아간다. 현재 상태(돌아가기 직전 상태)를 기억하면서 돌아간다. \n",
    "            - 값을 반환하고 일시정지 상태라고 생각하면 된다.\n",
    "        - 다음 실행시점에 yield 구문 다음 부터 실행된다.\n",
    "    - **return \\[valuye\\]**\n",
    "        - generator 함수 종료\n",
    "        - StopIteration 발생시킨다.\n",
    "- Generator 의 원소 조회\n",
    "    - next(Generator객체)"
   ]
  },
  {
   "cell_type": "code",
   "execution_count": null,
   "id": "4df6590b",
   "metadata": {
    "slideshow": {
     "slide_type": "fragment"
    }
   },
   "outputs": [],
   "source": [
    "# 코루틴 형태의 함수 : 입력과 출력을 수차례 반복할 수 있다. \n",
    "#                  (보통 함수는 입력 한번, 출력 한번이다. )\n",
    "# Generator도 이런 코루틴 형식의 함수이다. \n"
   ]
  },
  {
   "cell_type": "code",
   "execution_count": 49,
   "id": "ce44c520",
   "metadata": {
    "ExecuteTime": {
     "end_time": "2023-01-03T06:24:44.912910Z",
     "start_time": "2023-01-03T06:24:44.901442Z"
    }
   },
   "outputs": [],
   "source": [
    "def test_gen(num=0):\n",
    "        print(\"1\", num)\n",
    "        num +=10\n",
    "        yield num\n",
    "        print(\"2\", num)\n",
    "        num +=20\n",
    "        yield num"
   ]
  },
  {
   "cell_type": "code",
   "execution_count": 52,
   "id": "2e3309f5",
   "metadata": {
    "ExecuteTime": {
     "end_time": "2023-01-03T06:25:28.133775Z",
     "start_time": "2023-01-03T06:25:28.125527Z"
    }
   },
   "outputs": [],
   "source": [
    "gen = test_gen(20)      #generator 를 호출 ===> generator 객체를 생성"
   ]
  },
  {
   "cell_type": "code",
   "execution_count": 53,
   "id": "f23bcfd2",
   "metadata": {
    "ExecuteTime": {
     "end_time": "2023-01-03T06:25:29.623273Z",
     "start_time": "2023-01-03T06:25:29.611316Z"
    }
   },
   "outputs": [
    {
     "name": "stdout",
     "output_type": "stream",
     "text": [
      "1 20\n"
     ]
    },
    {
     "data": {
      "text/plain": [
       "30"
      ]
     },
     "execution_count": 53,
     "metadata": {},
     "output_type": "execute_result"
    }
   ],
   "source": [
    "# generator를 호출 ==> next()를 이용\n",
    "next(gen)          # yield 까지 일한다."
   ]
  },
  {
   "cell_type": "code",
   "execution_count": 54,
   "id": "03dfaf68",
   "metadata": {
    "ExecuteTime": {
     "end_time": "2023-01-03T06:25:36.633075Z",
     "start_time": "2023-01-03T06:25:36.622246Z"
    }
   },
   "outputs": [
    {
     "name": "stdout",
     "output_type": "stream",
     "text": [
      "2 30\n"
     ]
    },
    {
     "data": {
      "text/plain": [
       "50"
      ]
     },
     "execution_count": 54,
     "metadata": {},
     "output_type": "execute_result"
    }
   ],
   "source": [
    "next(gen)    # 이전 yield 다음붜 다음 yield 까지 처리한다."
   ]
  },
  {
   "cell_type": "code",
   "execution_count": 55,
   "id": "4b75c85d",
   "metadata": {
    "ExecuteTime": {
     "end_time": "2023-01-03T06:26:48.481880Z",
     "start_time": "2023-01-03T06:26:48.465325Z"
    }
   },
   "outputs": [
    {
     "ename": "StopIteration",
     "evalue": "",
     "output_type": "error",
     "traceback": [
      "\u001b[0;31m---------------------------------------------------------------------------\u001b[0m",
      "\u001b[0;31mStopIteration\u001b[0m                             Traceback (most recent call last)",
      "\u001b[0;32m/var/folders/jf/l3x8dj6n62s041cwvf169t5w0000gn/T/ipykernel_3280/4293081279.py\u001b[0m in \u001b[0;36m<module>\u001b[0;34m\u001b[0m\n\u001b[0;32m----> 1\u001b[0;31m \u001b[0mnext\u001b[0m\u001b[0;34m(\u001b[0m\u001b[0mgen\u001b[0m\u001b[0;34m)\u001b[0m\u001b[0;34m\u001b[0m\u001b[0;34m\u001b[0m\u001b[0m\n\u001b[0m",
      "\u001b[0;31mStopIteration\u001b[0m: "
     ]
    }
   ],
   "source": [
    "next(gen)    # 더 이상 실행할 yield가 없으므로(return) StopIteration exception이 발생한다. "
   ]
  },
  {
   "cell_type": "code",
   "execution_count": 223,
   "id": "8316ea6f",
   "metadata": {
    "ExecuteTime": {
     "end_time": "2023-01-03T09:51:22.093692Z",
     "start_time": "2023-01-03T09:51:22.087357Z"
    }
   },
   "outputs": [
    {
     "name": "stdout",
     "output_type": "stream",
     "text": [
      "1 100\n",
      "110\n",
      "2 110\n",
      "130\n"
     ]
    }
   ],
   "source": [
    "for v in test_gen(100):\n",
    "    print(v)"
   ]
  },
  {
   "cell_type": "code",
   "execution_count": 58,
   "id": "704e8ef6",
   "metadata": {
    "ExecuteTime": {
     "end_time": "2023-01-03T06:34:48.694308Z",
     "start_time": "2023-01-03T06:34:48.683079Z"
    }
   },
   "outputs": [],
   "source": [
    "# range() 를 generator로 구현.\n",
    "def my_range(start, end=None, step=1):\n",
    "    if end == None: # not end로 표현해도 됨.\n",
    "        end = start\n",
    "        start = 0\n",
    "    while True:\n",
    "        if start >= end :\n",
    "            break\n",
    "        yield start\n",
    "        start += step"
   ]
  },
  {
   "cell_type": "code",
   "execution_count": 68,
   "id": "fea8b8e1",
   "metadata": {
    "ExecuteTime": {
     "end_time": "2023-01-03T06:36:51.366526Z",
     "start_time": "2023-01-03T06:36:51.356024Z"
    }
   },
   "outputs": [
    {
     "name": "stdout",
     "output_type": "stream",
     "text": [
      "<class 'generator'>\n"
     ]
    }
   ],
   "source": [
    "print(type(my_range(5,8)))"
   ]
  },
  {
   "cell_type": "code",
   "execution_count": 69,
   "id": "1d6b2cad",
   "metadata": {
    "ExecuteTime": {
     "end_time": "2023-01-03T06:36:52.803348Z",
     "start_time": "2023-01-03T06:36:52.792382Z"
    },
    "scrolled": true
   },
   "outputs": [
    {
     "name": "stdout",
     "output_type": "stream",
     "text": [
      "5\n"
     ]
    }
   ],
   "source": [
    "gen = my_range(5,8)\n",
    "print(next(gen))"
   ]
  },
  {
   "cell_type": "code",
   "execution_count": 71,
   "id": "66570d65",
   "metadata": {
    "ExecuteTime": {
     "end_time": "2023-01-03T06:37:06.929058Z",
     "start_time": "2023-01-03T06:37:06.918337Z"
    }
   },
   "outputs": [
    {
     "name": "stdout",
     "output_type": "stream",
     "text": [
      "7\n"
     ]
    }
   ],
   "source": [
    "print(next(gen))"
   ]
  },
  {
   "cell_type": "code",
   "execution_count": 73,
   "id": "c0884223",
   "metadata": {
    "ExecuteTime": {
     "end_time": "2023-01-03T06:37:51.732996Z",
     "start_time": "2023-01-03T06:37:51.721206Z"
    }
   },
   "outputs": [
    {
     "name": "stdout",
     "output_type": "stream",
     "text": [
      "1,11,21,31,41,51,61,71,81,91,"
     ]
    }
   ],
   "source": [
    "for i in my_range(1,100,10):\n",
    "    print(i, end=',')"
   ]
  },
  {
   "cell_type": "code",
   "execution_count": 74,
   "id": "9c038413",
   "metadata": {
    "ExecuteTime": {
     "end_time": "2023-01-03T06:38:21.705893Z",
     "start_time": "2023-01-03T06:38:21.699003Z"
    }
   },
   "outputs": [
    {
     "name": "stdout",
     "output_type": "stream",
     "text": [
      "0,1,2,3,4,"
     ]
    }
   ],
   "source": [
    "for i in my_range(5):\n",
    "    print(i, end=',')"
   ]
  },
  {
   "cell_type": "markdown",
   "id": "ae6dec96",
   "metadata": {
    "slideshow": {
     "slide_type": "subslide"
    }
   },
   "source": [
    "### Generator 표현식 (Generator Comprehension)\n",
    "- 컴프리헨션구문을 **( )** 로 묶어 표현한다.\n",
    "- 컴프리헨션 구문안의 Iterable의 원소들을 처리해서 제공하는 generator 표현식\n",
    "- Generator Comprehension 은 반복 가능한 객체만 만들고 실제 원소에 대한 요청이 왔을 때 값을 생성한다.\n",
    "    - 메모리 효율이 다른 Comprehension들 보다 좋다."
   ]
  },
  {
   "cell_type": "code",
   "execution_count": null,
   "id": "9d5f5acc",
   "metadata": {
    "ExecuteTime": {
     "end_time": "2023-01-03T06:36:55.054845Z",
     "start_time": "2023-01-03T06:36:55.043454Z"
    },
    "slideshow": {
     "slide_type": "fragment"
    }
   },
   "outputs": [],
   "source": [
    "# {i for i in range(10)}\n"
   ]
  },
  {
   "cell_type": "code",
   "execution_count": 85,
   "id": "28595cba",
   "metadata": {
    "ExecuteTime": {
     "end_time": "2023-01-03T06:47:51.721786Z",
     "start_time": "2023-01-03T06:47:51.710350Z"
    },
    "scrolled": true
   },
   "outputs": [
    {
     "name": "stdout",
     "output_type": "stream",
     "text": [
      "<class 'generator'>\n"
     ]
    }
   ],
   "source": [
    "gen = (i for i in range(10) if i %2 ==0 )\n",
    "print(type(gen))"
   ]
  },
  {
   "cell_type": "code",
   "execution_count": 86,
   "id": "df0aa05e",
   "metadata": {
    "ExecuteTime": {
     "end_time": "2023-01-03T06:47:53.494568Z",
     "start_time": "2023-01-03T06:47:53.478573Z"
    }
   },
   "outputs": [
    {
     "data": {
      "text/plain": [
       "0"
      ]
     },
     "execution_count": 86,
     "metadata": {},
     "output_type": "execute_result"
    }
   ],
   "source": [
    "next(gen)"
   ]
  },
  {
   "cell_type": "code",
   "execution_count": 87,
   "id": "7717b067",
   "metadata": {
    "ExecuteTime": {
     "end_time": "2023-01-03T06:47:56.356483Z",
     "start_time": "2023-01-03T06:47:56.345727Z"
    }
   },
   "outputs": [
    {
     "name": "stdout",
     "output_type": "stream",
     "text": [
      "2, 4, 6, 8, "
     ]
    }
   ],
   "source": [
    "for i in gen:\n",
    "    print(i, end= ', ')"
   ]
  },
  {
   "cell_type": "code",
   "execution_count": 83,
   "id": "31328625",
   "metadata": {
    "ExecuteTime": {
     "end_time": "2023-01-03T06:47:20.162920Z",
     "start_time": "2023-01-03T06:47:20.146153Z"
    }
   },
   "outputs": [
    {
     "ename": "StopIteration",
     "evalue": "",
     "output_type": "error",
     "traceback": [
      "\u001b[0;31m---------------------------------------------------------------------------\u001b[0m",
      "\u001b[0;31mStopIteration\u001b[0m                             Traceback (most recent call last)",
      "\u001b[0;32m/var/folders/jf/l3x8dj6n62s041cwvf169t5w0000gn/T/ipykernel_3280/4293081279.py\u001b[0m in \u001b[0;36m<module>\u001b[0;34m\u001b[0m\n\u001b[0;32m----> 1\u001b[0;31m \u001b[0mnext\u001b[0m\u001b[0;34m(\u001b[0m\u001b[0mgen\u001b[0m\u001b[0;34m)\u001b[0m\u001b[0;34m\u001b[0m\u001b[0;34m\u001b[0m\u001b[0m\n\u001b[0m",
      "\u001b[0;31mStopIteration\u001b[0m: "
     ]
    }
   ],
   "source": [
    "next(gen)"
   ]
  },
  {
   "cell_type": "code",
   "execution_count": null,
   "id": "223659c3",
   "metadata": {},
   "outputs": [],
   "source": []
  },
  {
   "cell_type": "code",
   "execution_count": 99,
   "id": "f7ee636c",
   "metadata": {
    "ExecuteTime": {
     "end_time": "2023-01-03T06:55:56.076432Z",
     "start_time": "2023-01-03T06:55:56.067282Z"
    }
   },
   "outputs": [],
   "source": [
    "def my_gen(num):\n",
    "    for i in range(num):\n",
    "        yield i "
   ]
  },
  {
   "cell_type": "code",
   "execution_count": 100,
   "id": "26978c33",
   "metadata": {
    "ExecuteTime": {
     "end_time": "2023-01-03T07:06:02.860634Z",
     "start_time": "2023-01-03T07:06:02.848974Z"
    }
   },
   "outputs": [
    {
     "name": "stdout",
     "output_type": "stream",
     "text": [
      "<class 'filter'>\n",
      "0,2,4,6,8,10,12,14,16,18,20,22,24,26,28,30,32,34,36,38,40,42,44,46,48,50,52,54,56,58,60,62,64,66,68,70,72,74,76,78,80,82,84,86,88,90,92,94,96,98,100,102,104,106,108,110,112,114,116,118,120,122,124,126,128,130,132,134,136,138,140,142,144,146,148,150,152,154,156,158,160,162,164,166,168,170,172,174,176,178,180,182,184,186,188,190,192,194,196,198,200,202,204,206,208,210,212,214,216,218,220,222,224,226,228,230,232,234,236,238,240,242,244,246,248,250,252,254,256,258,260,262,264,266,268,270,272,274,276,278,280,282,284,286,288,290,292,294,296,298,300,302,304,306,308,310,312,314,316,318,320,322,324,326,328,330,332,334,336,338,340,342,344,346,348,350,352,354,356,358,360,362,364,366,368,370,372,374,376,378,380,382,384,386,388,390,392,394,396,398,400,402,404,406,408,410,412,414,416,418,420,422,424,426,428,430,432,434,436,438,440,442,444,446,448,450,452,454,456,458,460,462,464,466,468,470,472,474,476,478,480,482,484,486,488,490,492,494,496,498,500,502,504,506,508,510,512,514,516,518,520,522,524,526,528,530,532,534,536,538,540,542,544,546,548,550,552,554,556,558,560,562,564,566,568,570,572,574,576,578,580,582,584,586,588,590,592,594,596,598,600,602,604,606,608,610,612,614,616,618,620,622,624,626,628,630,632,634,636,638,640,642,644,646,648,650,652,654,656,658,660,662,664,666,668,670,672,674,676,678,680,682,684,686,688,690,692,694,696,698,700,702,704,706,708,710,712,714,716,718,720,722,724,726,728,730,732,734,736,738,740,742,744,746,748,750,752,754,756,758,760,762,764,766,768,770,772,774,776,778,780,782,784,786,788,790,792,794,796,798,800,802,804,806,808,810,812,814,816,818,820,822,824,826,828,830,832,834,836,838,840,842,844,846,848,850,852,854,856,858,860,862,864,866,868,870,872,874,876,878,880,882,884,886,888,890,892,894,896,898,900,902,904,906,908,910,912,914,916,918,920,922,924,926,928,930,932,934,936,938,940,942,944,946,948,950,952,954,956,958,960,962,964,966,968,970,972,974,976,978,980,982,984,986,988,990,992,994,996,998,"
     ]
    }
   ],
   "source": [
    "l = list(range(1000))                 ##### 선생님 것 copy\n",
    "f = filter(lambda x : x % 2 == 0, l)\n",
    "print(type(f))\n",
    "for i in f:\n",
    "    print(i, end= ',')"
   ]
  },
  {
   "cell_type": "markdown",
   "id": "929f0230",
   "metadata": {
    "slideshow": {
     "slide_type": "slide"
    }
   },
   "source": [
    "# Decorator (장식자)\n",
    "\n",
    "## 파이썬에서 함수는 일급 시민(first class citizen) 이다.\n",
    "- 일급 시민 (first class citizen) 이란\n",
    "    1. 변수에 대입 할 수 있다.\n",
    "    2. Argument로 사용할 수 있다.\n",
    "    3. 함수나 메소드의 반환값으로 사용 할 수 있다.\n",
    "    "
   ]
  },
  {
   "cell_type": "markdown",
   "id": "b46580f2",
   "metadata": {
    "slideshow": {
     "slide_type": "subslide"
    }
   },
   "source": [
    "## 지역함수(Local Function) 란\n",
    "- 함수 안에 정의 한 함수를 말한다.\n",
    "    - 중첩 함수(Nested function) 이라고도 한다.\n",
    "- 지역함수가 선언된 함수를 **outer function** 지역함수는 **inner function** 이라고 한다. \n",
    "- inner function은 outer function의 지역변수를 자유롭게 사용할 수 있다.\n",
    "- 기본적으로 inner function은 outer function 안에서만 호출 할 수있다.\n",
    "- 단 outer function이 정의된 inner function을 return value로 반환하면 밖에서도 호출 할 수 있다."
   ]
  },
  {
   "cell_type": "markdown",
   "id": "766a1432",
   "metadata": {
    "slideshow": {
     "slide_type": "fragment"
    }
   },
   "source": [
    "## Closure (클로저)\n",
    "- 지역함수(Inner function)를 정의한 Outer function이 종료되어도 지역함수가 종료될 때까지 outer function의 지역변수들은 메모리에 계속 유지 되어 inner function에서 사용할 수 있다. \n",
    "- 파이썬 실행환경은 inner function이 종료될때 까지 outer function의 지역변수들(parameter포함)을 사용할 수 있도록 저장하는 공간이 **closure**이다."
   ]
  },
  {
   "cell_type": "code",
   "execution_count": null,
   "id": "0001effe",
   "metadata": {
    "slideshow": {
     "slide_type": "fragment"
    }
   },
   "outputs": [],
   "source": [
    "# @property   # =====> @ 표시를 데코레이터 라고 한다. \n",
    "# def year(self):\n",
    "#     return self.year"
   ]
  },
  {
   "cell_type": "code",
   "execution_count": 224,
   "id": "b7da2fc0",
   "metadata": {
    "ExecuteTime": {
     "end_time": "2023-01-03T09:57:52.203655Z",
     "start_time": "2023-01-03T09:57:52.196185Z"
    }
   },
   "outputs": [],
   "source": [
    "def outer():                                       #####선생님 것#########\n",
    "    outer_var = \"outer 함수의 변수\"\n",
    "    def inner(num):\n",
    "        inner_var = \"inner 함수의 변수\"\n",
    "        print(\"inner 함수 매개변수 num: \", num)\n",
    "        print(inner_var)\n",
    "        print(outer_var)\n",
    "#     print(outer_var)  #지역 변수를 호출(조회)\n",
    "#     inner(100)        #지역 함수를 호출\n",
    "\n",
    "    return inner     #함수를 반한."
   ]
  },
  {
   "cell_type": "code",
   "execution_count": 225,
   "id": "6fd86ed5",
   "metadata": {
    "ExecuteTime": {
     "end_time": "2023-01-03T09:57:59.786814Z",
     "start_time": "2023-01-03T09:57:59.781969Z"
    }
   },
   "outputs": [],
   "source": [
    "func = outer()   #####선생님 것#########\n",
    "func = 300"
   ]
  },
  {
   "cell_type": "markdown",
   "id": "b58a1e1d",
   "metadata": {
    "slideshow": {
     "slide_type": "slide"
    }
   },
   "source": [
    "## Decorator (장식자)\n",
    "- 기존의 함수를 수정하지 않고 그 함수 전/후에 실행되는 구문을 추가할 수 있도록 하는 함수를 말한다.\n",
    "- 기존 함수코드를 수정하지 않고 새로운 기능의 추가를 쉽게 해준다.\n",
    "- 함수의 전/후처리 하는 구문을 **필요하면 붙이고 필요 없으면 쉽게 제거할 수 있다**\n",
    "\n",
    "![개요](images/ch10_01.png)"
   ]
  },
  {
   "cell_type": "code",
   "execution_count": 152,
   "id": "5c7f5353",
   "metadata": {
    "ExecuteTime": {
     "end_time": "2023-01-03T08:18:54.702483Z",
     "start_time": "2023-01-03T08:18:54.690436Z"
    },
    "scrolled": true,
    "slideshow": {
     "slide_type": "fragment"
    }
   },
   "outputs": [
    {
     "name": "stdout",
     "output_type": "stream",
     "text": [
      "안녕하세요\n",
      "반갑습니다.\n"
     ]
    }
   ],
   "source": [
    "def a():\n",
    "    print('안녕하세요')\n",
    " \n",
    "def b():\n",
    "    print('반갑습니다.' )\n",
    "\n",
    "    \n",
    "a()\n",
    "b()"
   ]
  },
  {
   "cell_type": "code",
   "execution_count": 153,
   "id": "b6763ff8",
   "metadata": {
    "ExecuteTime": {
     "end_time": "2023-01-03T08:18:56.674600Z",
     "start_time": "2023-01-03T08:18:56.662590Z"
    }
   },
   "outputs": [],
   "source": [
    "def dash_decorator(func):\n",
    "#    func: 함수 - 전/후 처리를 추가할 original 함수\n",
    "    def wrapper():\n",
    "        print('-'*20)  # 전처리\n",
    "        func()\n",
    "        print('-'*20)  # 후처리\n",
    "        \n",
    "    return wrapper"
   ]
  },
  {
   "cell_type": "code",
   "execution_count": 155,
   "id": "1e2bef34",
   "metadata": {
    "ExecuteTime": {
     "end_time": "2023-01-03T08:19:15.783865Z",
     "start_time": "2023-01-03T08:19:15.778692Z"
    }
   },
   "outputs": [
    {
     "name": "stdout",
     "output_type": "stream",
     "text": [
      "--------------------\n",
      "안녕하세요\n",
      "--------------------\n"
     ]
    }
   ],
   "source": [
    "w_a = dash_decorator(a)\n",
    "w_a()"
   ]
  },
  {
   "cell_type": "code",
   "execution_count": 162,
   "id": "9d1dc05e",
   "metadata": {
    "ExecuteTime": {
     "end_time": "2023-01-03T08:27:01.948150Z",
     "start_time": "2023-01-03T08:27:01.938312Z"
    }
   },
   "outputs": [],
   "source": [
    "def shap_decorator(func):\n",
    "#    func: 함수 - 전/후 처리를 추가할 original 함수\n",
    "    def wrapper():\n",
    "        print('#'*50)  # 전처리\n",
    "        func()\n",
    "    return wrapper"
   ]
  },
  {
   "cell_type": "code",
   "execution_count": 163,
   "id": "efbb9639",
   "metadata": {
    "ExecuteTime": {
     "end_time": "2023-01-03T08:27:12.420711Z",
     "start_time": "2023-01-03T08:27:12.411153Z"
    }
   },
   "outputs": [],
   "source": [
    "## c() 함수를 호출하면 c 함수를 dash_decorator() 함수의 argument로 전달해서 호출하고, \n",
    "#  거기 반환되는 inner 함수를 실행시ㅕ라\n",
    "@dash_decorator\n",
    "@shap_decorator\n",
    "def c():\n",
    "    print('이것은 c 함수입니다.')"
   ]
  },
  {
   "cell_type": "code",
   "execution_count": 164,
   "id": "863aa726",
   "metadata": {
    "ExecuteTime": {
     "end_time": "2023-01-03T08:27:14.971887Z",
     "start_time": "2023-01-03T08:27:14.959814Z"
    }
   },
   "outputs": [
    {
     "name": "stdout",
     "output_type": "stream",
     "text": [
      "--------------------\n",
      "##################################################\n",
      "이것은 c 함수입니다.\n",
      "--------------------\n"
     ]
    }
   ],
   "source": [
    "c()"
   ]
  },
  {
   "cell_type": "code",
   "execution_count": 168,
   "id": "6e4133f8",
   "metadata": {
    "ExecuteTime": {
     "end_time": "2023-01-03T08:27:45.550296Z",
     "start_time": "2023-01-03T08:27:45.543439Z"
    }
   },
   "outputs": [],
   "source": [
    "@shap_decorator\n",
    "@dash_decorator\n",
    "def d():\n",
    "    print('이것은 c 함수입니다.')"
   ]
  },
  {
   "cell_type": "code",
   "execution_count": 169,
   "id": "48e188c0",
   "metadata": {
    "ExecuteTime": {
     "end_time": "2023-01-03T08:27:47.398802Z",
     "start_time": "2023-01-03T08:27:47.382018Z"
    }
   },
   "outputs": [
    {
     "name": "stdout",
     "output_type": "stream",
     "text": [
      "##################################################\n",
      "--------------------\n",
      "이것은 c 함수입니다.\n",
      "--------------------\n"
     ]
    }
   ],
   "source": [
    "d()"
   ]
  },
  {
   "cell_type": "code",
   "execution_count": null,
   "id": "ceca2d67",
   "metadata": {},
   "outputs": [],
   "source": []
  },
  {
   "cell_type": "code",
   "execution_count": 187,
   "id": "8e80025c",
   "metadata": {
    "ExecuteTime": {
     "end_time": "2023-01-03T08:35:19.438495Z",
     "start_time": "2023-01-03T08:35:19.427936Z"
    }
   },
   "outputs": [],
   "source": [
    "def shap_decorator2(func):      ######선생님#######\n",
    "    \n",
    "    def wrapper(name):\n",
    "        print('#'*30)\n",
    "        if name ==None:\n",
    "            func()\n",
    "        else:\n",
    "            func(name)\n",
    "    return wrapper"
   ]
  },
  {
   "cell_type": "code",
   "execution_count": 188,
   "id": "56decdf2",
   "metadata": {
    "ExecuteTime": {
     "end_time": "2023-01-03T08:35:23.241142Z",
     "start_time": "2023-01-03T08:35:23.231148Z"
    }
   },
   "outputs": [],
   "source": [
    "@shap_decorator                 ######선생님#######\n",
    "def greeting(name):\n",
    "    print(f\"{name}님 환영합니다.\")"
   ]
  },
  {
   "cell_type": "code",
   "execution_count": 177,
   "id": "17112166",
   "metadata": {
    "ExecuteTime": {
     "end_time": "2023-01-03T08:32:53.564691Z",
     "start_time": "2023-01-03T08:32:53.553392Z"
    }
   },
   "outputs": [],
   "source": []
  },
  {
   "cell_type": "code",
   "execution_count": 189,
   "id": "a6a98ebf",
   "metadata": {
    "ExecuteTime": {
     "end_time": "2023-01-03T08:35:34.206881Z",
     "start_time": "2023-01-03T08:35:34.186756Z"
    }
   },
   "outputs": [
    {
     "ename": "TypeError",
     "evalue": "wrapper() takes 0 positional arguments but 1 was given",
     "output_type": "error",
     "traceback": [
      "\u001b[0;31m---------------------------------------------------------------------------\u001b[0m",
      "\u001b[0;31mTypeError\u001b[0m                                 Traceback (most recent call last)",
      "\u001b[0;32m/var/folders/jf/l3x8dj6n62s041cwvf169t5w0000gn/T/ipykernel_3280/3353997297.py\u001b[0m in \u001b[0;36m<module>\u001b[0;34m\u001b[0m\n\u001b[0;32m----> 1\u001b[0;31m \u001b[0mgreeting\u001b[0m\u001b[0;34m(\u001b[0m\u001b[0;34m'홍길동'\u001b[0m\u001b[0;34m)\u001b[0m\u001b[0;34m\u001b[0m\u001b[0;34m\u001b[0m\u001b[0m\n\u001b[0m",
      "\u001b[0;31mTypeError\u001b[0m: wrapper() takes 0 positional arguments but 1 was given"
     ]
    }
   ],
   "source": [
    "greeting('홍길동')                ######선생님#######"
   ]
  },
  {
   "cell_type": "code",
   "execution_count": null,
   "id": "3ab4cf42",
   "metadata": {},
   "outputs": [],
   "source": []
  },
  {
   "cell_type": "markdown",
   "id": "aaf6447c",
   "metadata": {
    "slideshow": {
     "slide_type": "subslide"
    }
   },
   "source": [
    "### Decorator 구현 및 사용\n",
    "\n",
    "- 구현\n",
    "    1. 전/후처리 기능을 추가할 함수를 parameter로 받는다.\n",
    "    2. 그 함수 호출 전후로 추가할 기능을 작성한 **지역함수**를 정의한다.\n",
    "    3. `2`번의 함수를 반환한다.\n",
    "```python\n",
    "def decorator(func):\n",
    "    def wrapper([parameter]): # decorator 적용할 함수에 파라미터를 전달할 경우 parameter 변수들을 선언\n",
    "        # 전처리\n",
    "        func()\n",
    "        # 후처리\n",
    "    return wrapper \n",
    "```\n",
    "\n",
    "- 호출\n",
    "    - `@decorator이름`를 적용하고자하는 함수 선언전에 기술한다.\n",
    "```python\n",
    "@decorator\n",
    "def caller([parameter]):\n",
    "    ...\n",
    "```"
   ]
  },
  {
   "cell_type": "code",
   "execution_count": null,
   "id": "82f0e859",
   "metadata": {
    "slideshow": {
     "slide_type": "fragment"
    }
   },
   "outputs": [],
   "source": []
  },
  {
   "cell_type": "markdown",
   "id": "6121017a",
   "metadata": {
    "slideshow": {
     "slide_type": "skip"
    }
   },
   "source": [
    "# TODO\n",
    "함수가 실행된 실행시간(초)을 재는 decorator"
   ]
  },
  {
   "cell_type": "code",
   "execution_count": 190,
   "id": "22f52d36",
   "metadata": {
    "ExecuteTime": {
     "end_time": "2023-01-03T08:38:55.598908Z",
     "start_time": "2023-01-03T08:38:55.585572Z"
    },
    "slideshow": {
     "slide_type": "skip"
    }
   },
   "outputs": [
    {
     "data": {
      "text/plain": [
       "1672735135.589716"
      ]
     },
     "execution_count": 190,
     "metadata": {},
     "output_type": "execute_result"
    }
   ],
   "source": [
    "import time   # 타임 이라는 모듈 안에 타임이라는 함수\n",
    "\n",
    "time.time()   # 현재 시간 => Timestamp 형식으로 알려준다=> Timestamp: 1970년 1월 1일 0시0분0초부터(unix time)\n",
    "              #                                                  얼마나 지났는지 초 단위로 반환."
   ]
  },
  {
   "cell_type": "code",
   "execution_count": 191,
   "id": "ae4b8d97",
   "metadata": {
    "ExecuteTime": {
     "end_time": "2023-01-03T08:39:51.553011Z",
     "start_time": "2023-01-03T08:39:46.533991Z"
    }
   },
   "outputs": [
    {
     "name": "stdout",
     "output_type": "stream",
     "text": [
      "1\n",
      "2\n"
     ]
    }
   ],
   "source": [
    "print(1)\n",
    "time.sleep(5)  #5초 동안 멈춘다.\n",
    "print(2)"
   ]
  },
  {
   "cell_type": "code",
   "execution_count": null,
   "id": "fc3dfe06",
   "metadata": {},
   "outputs": [],
   "source": []
  },
  {
   "cell_type": "code",
   "execution_count": 227,
   "id": "f1795ed6",
   "metadata": {
    "ExecuteTime": {
     "end_time": "2023-01-04T00:46:19.759137Z",
     "start_time": "2023-01-04T00:46:19.749836Z"
    }
   },
   "outputs": [],
   "source": [
    "import time \n",
    "\n",
    "def timechecker_decorator(func):\n",
    "#    func: 함수 - 전/후 처리를 추가할 original 함수\n",
    "    def wrapper():\n",
    "        s = time.time()\n",
    "        func()\n",
    "        e = time.time()\n",
    "        print(e-s)\n",
    "        \n",
    "    return wrapper()"
   ]
  },
  {
   "cell_type": "code",
   "execution_count": 242,
   "id": "7c965688",
   "metadata": {
    "ExecuteTime": {
     "end_time": "2023-01-04T01:16:38.728110Z",
     "start_time": "2023-01-04T01:16:38.717726Z"
    }
   },
   "outputs": [],
   "source": [
    "####  선생님 ver. #####\n",
    "\n",
    "# 1. original 함수를 매개변수로 받는다.\n",
    "# 2. origial 함수 호출 전후로 전/후처리를 하는 inner 함수 구현\n",
    "\n",
    "import time\n",
    "\n",
    "def timechecker_decorator(func):\n",
    "    \n",
    "    def wrapper():\n",
    "        s = time.time()\n",
    "        func()\n",
    "        e = time.time()\n",
    "        print(f' 걸린시간: {round(e - s, 2)}초')\n",
    "    \n",
    "    return wrapper()\n",
    "\n",
    "# 함수.__name__ => 함수 이름"
   ]
  },
  {
   "cell_type": "code",
   "execution_count": 244,
   "id": "53c72e04",
   "metadata": {
    "ExecuteTime": {
     "end_time": "2023-01-04T01:17:17.779113Z",
     "start_time": "2023-01-04T01:17:17.770418Z"
    }
   },
   "outputs": [
    {
     "data": {
      "text/plain": [
       "'wrapper'"
      ]
     },
     "execution_count": 244,
     "metadata": {},
     "output_type": "execute_result"
    }
   ],
   "source": [
    "test3.__name__"
   ]
  },
  {
   "cell_type": "code",
   "execution_count": 243,
   "id": "5a25c49d",
   "metadata": {
    "ExecuteTime": {
     "end_time": "2023-01-04T01:16:44.058063Z",
     "start_time": "2023-01-04T01:16:41.044116Z"
    }
   },
   "outputs": [
    {
     "name": "stdout",
     "output_type": "stream",
     "text": [
      "1\n",
      "2\n",
      " 걸린시간: 3.0초\n"
     ]
    }
   ],
   "source": [
    "@timechecker_decorator\n",
    "def test1():\n",
    "    print(1)\n",
    "    time.sleep(3)\n",
    "    print(2)"
   ]
  },
  {
   "cell_type": "code",
   "execution_count": 238,
   "id": "95b00303",
   "metadata": {
    "ExecuteTime": {
     "end_time": "2023-01-04T01:15:21.392197Z",
     "start_time": "2023-01-04T01:15:21.383264Z"
    }
   },
   "outputs": [],
   "source": [
    "@timechecker_decorator\n",
    "def test2():\n",
    "    print(1)\n",
    "    time.sleep(2)\n",
    "    print(2)"
   ]
  },
  {
   "cell_type": "code",
   "execution_count": 239,
   "id": "befd75f6",
   "metadata": {
    "ExecuteTime": {
     "end_time": "2023-01-04T01:15:23.539002Z",
     "start_time": "2023-01-04T01:15:23.534027Z"
    }
   },
   "outputs": [],
   "source": [
    "@timechecker_decorator\n",
    "def test3():\n",
    "    print(1)\n",
    "    time.sleep(5)\n",
    "    print(2)"
   ]
  },
  {
   "cell_type": "code",
   "execution_count": 250,
   "id": "c85733d5",
   "metadata": {
    "ExecuteTime": {
     "end_time": "2023-01-04T01:20:25.167004Z",
     "start_time": "2023-01-04T01:20:20.146995Z"
    }
   },
   "outputs": [
    {
     "name": "stdout",
     "output_type": "stream",
     "text": [
      "1\n",
      "2\n",
      " 걸린시간: 5.0초\n"
     ]
    }
   ],
   "source": [
    "test1\n",
    "test2\n",
    "test3()"
   ]
  },
  {
   "cell_type": "code",
   "execution_count": null,
   "id": "dce64d59",
   "metadata": {},
   "outputs": [],
   "source": []
  },
  {
   "cell_type": "code",
   "execution_count": null,
   "id": "d53b0e97",
   "metadata": {},
   "outputs": [],
   "source": []
  },
  {
   "cell_type": "code",
   "execution_count": 194,
   "id": "cf058f95",
   "metadata": {
    "ExecuteTime": {
     "end_time": "2023-01-03T08:42:10.027375Z",
     "start_time": "2023-01-03T08:42:07.009120Z"
    }
   },
   "outputs": [
    {
     "name": "stdout",
     "output_type": "stream",
     "text": [
      "1\n",
      "2\n",
      "3.007097005844116\n"
     ]
    }
   ],
   "source": [
    "s = time.time()\n",
    "test1()\n",
    "e = time.time()\n",
    "print(e -s)        #첫번째 프리트 에서 두번째 프린트까지 걸린 시간.ㅣ"
   ]
  },
  {
   "cell_type": "code",
   "execution_count": 232,
   "id": "e97aca5e",
   "metadata": {
    "ExecuteTime": {
     "end_time": "2023-01-04T01:14:13.696788Z",
     "start_time": "2023-01-04T01:14:13.687568Z"
    }
   },
   "outputs": [],
   "source": []
  },
  {
   "cell_type": "code",
   "execution_count": null,
   "id": "bab57590",
   "metadata": {},
   "outputs": [],
   "source": []
  },
  {
   "cell_type": "code",
   "execution_count": null,
   "id": "99b7f8fe",
   "metadata": {},
   "outputs": [],
   "source": []
  },
  {
   "cell_type": "code",
   "execution_count": null,
   "id": "8a3cedf0",
   "metadata": {},
   "outputs": [],
   "source": []
  }
 ],
 "metadata": {
  "kernelspec": {
   "display_name": "Python 3 (ipykernel)",
   "language": "python",
   "name": "python3"
  },
  "language_info": {
   "codemirror_mode": {
    "name": "ipython",
    "version": 3
   },
   "file_extension": ".py",
   "mimetype": "text/x-python",
   "name": "python",
   "nbconvert_exporter": "python",
   "pygments_lexer": "ipython3",
   "version": "3.9.13"
  },
  "toc": {
   "base_numbering": 1,
   "nav_menu": {},
   "number_sections": true,
   "sideBar": true,
   "skip_h1_title": false,
   "title_cell": "Table of Contents",
   "title_sidebar": "Contents",
   "toc_cell": false,
   "toc_position": {},
   "toc_section_display": true,
   "toc_window_display": false
  },
  "varInspector": {
   "cols": {
    "lenName": 16,
    "lenType": 16,
    "lenVar": 40
   },
   "kernels_config": {
    "python": {
     "delete_cmd_postfix": "",
     "delete_cmd_prefix": "del ",
     "library": "var_list.py",
     "varRefreshCmd": "print(var_dic_list())"
    },
    "r": {
     "delete_cmd_postfix": ") ",
     "delete_cmd_prefix": "rm(",
     "library": "var_list.r",
     "varRefreshCmd": "cat(var_dic_list()) "
    }
   },
   "types_to_exclude": [
    "module",
    "function",
    "builtin_function_or_method",
    "instance",
    "_Feature"
   ],
   "window_display": false
  }
 },
 "nbformat": 4,
 "nbformat_minor": 5
}
