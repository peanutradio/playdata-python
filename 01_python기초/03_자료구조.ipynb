{
 "cells": [
  {
   "cell_type": "markdown",
   "id": "da193321",
   "metadata": {
    "slideshow": {
     "slide_type": "slide"
    }
   },
   "source": [
    "# 자료구조란\n",
    "\n",
    "- 여러 개의 값들을 모아서 관리하는 데이터 타입.\n",
    "    - 한 개의 변수는 한 개의 값 밖에는 가지지 못한다. 그러나 하나의 변수로 여러 개의 값 묶어서 저장해 관리해야 할 경우가 있다. \n",
    "    - 예) 고객의 정보의 경우 이름, 나이, 주소, 전화번호 등 여러개의 값이 모여서 하나의 값이 된다. \n",
    "- 파이썬은 데이터를 모으는 방식에 따라 다음과 같이 4개의 타입을 제공한다.\n",
    "    - List: 순서가 있으며 중복된 값들을 모으는 것을 허용하고 구성하는 값들(원소element)을 변경할 수 있다. ex) 영어성적. [   ]\n",
    "    - Tuple: 순서가 있으며 중복된 값들을 모으는 것을 허용하는데 구성하는 값들을 변경할 수 없다.           ex) 월별 강수량, (   )\n",
    "    - Dictionary: key-value 형태로 값들을 저장해 관리한다.\n",
    "    - Set: 중복을 허용하지 않고 값들의 순서가 없다.\n",
    "- 원소, 성분, 요소, element\n",
    "    - 자료구조의 값들을 구성하는 개별 값들을 말한다.\n",
    "    - len(자료구조) 함수\n",
    "        - 자료구조 내의 원소의 개수를 반환한다."
   ]
  },
  {
   "cell_type": "code",
   "execution_count": null,
   "id": "d5e08cf3",
   "metadata": {},
   "outputs": [],
   "source": [
    "#List 와 Tuple의 차이점? 구성하는 원소를 변경할수 있냐 없냐의 차이   ex) 영어성적 vs 월별강수량\n",
    "#Dictionary는 'key-값'을 저장한다.>index를 값(이름)으로 지정해 줄수 있다.\n",
    "     #ex) 이름    나이   주소\n",
    "     #    홍길동   20   서울\n",
    "     #     0       1     2\n",
    "#Set은 값들의 순서가 없다 > 다시 말해 식별이 불가능하다. > 중복된 값을 허용할 수 없을 때만 사용한다.\n",
    "\n",
    "#원소가 몇개인지 확인할때! len 사용한다. // len(원소1, 원소2, 원소3)"
   ]
  },
  {
   "cell_type": "code",
   "execution_count": 2,
   "id": "ddc4a6cd",
   "metadata": {
    "ExecuteTime": {
     "end_time": "2022-12-21T00:29:02.907051Z",
     "start_time": "2022-12-21T00:29:02.889067Z"
    }
   },
   "outputs": [],
   "source": [
    "#PYTHON\n",
    "  #: 동적타입의 언어 > 변수에 타입을 자유자재로 입력이 가능하다   ex) age = 30,  age=\"서른살\"\n",
    "                    #> 장점 : 분량이 적은 코딩에 능숙, 단점: 함수를 많이 불러오는 복잡한 코딩에는 오류가 난다.\n",
    "#JAVA  \n",
    "  #: 정적타입의 언어 > 변수에 정해진 타입의 언어만 입력할수 있다. ex) int(age) = 30, str(age) = \"서른살\"\n",
    "                    #> 장점 : 분량이 큰 코딩도 오류가 없다, 단점 : 코딩하는데 손이 많이 가고 무겁다. "
   ]
  },
  {
   "cell_type": "markdown",
   "id": "84431cfd",
   "metadata": {
    "slideshow": {
     "slide_type": "slide"
    }
   },
   "source": [
    "# List (리스트)\n",
    "\n",
    "- 값을 순서대로 모아서 관리하는 자료구조. 원소(element)들을 순번을 이용해 식별한다.\n",
    "    - 각각의 원소가 어떤 값인지를 순번을 가지고 식별하기 때문에 순서가 매우 중요하다. 즉 같은 값에 대해 순서가 바뀌면 안된다.\n",
    "- 각 원소들은 순번을 index라고 하며, 값을 조회하거나 변경할 때 index를 이용해 식별한다.\n",
    "    - index는 문자열과 마찮가지로 양수 index와 음수 index 두개가 각 값에 생긴다.\n",
    "    - 양수 index는 앞에서부터 음수 index는 뒤에서 부터 값을 식별할 때 사용하는 것이 편리하다.\n",
    "- 중복된 값들을 저장할 수 있다.\n",
    "- 각 원소들의 데이터 타입은 달라도 상관없다.\n",
    "    - 보통은 같은 타입의 데이터를 모은다.\n",
    "- 리스트를 구성하는 원소들을 변경할 수 있다. (추가, 삭제, 변경이 가능)\n",
    "\n",
    "## List 생성 구문\n",
    "```python\n",
    "[값, 값, 값, ..]\n",
    "```"
   ]
  },
  {
   "cell_type": "code",
   "execution_count": null,
   "id": "efc59691",
   "metadata": {
    "ExecuteTime": {
     "end_time": "2022-12-18T00:22:24.071490Z",
     "start_time": "2022-12-18T00:22:23.651455Z"
    },
    "slideshow": {
     "slide_type": "fragment"
    }
   },
   "outputs": [],
   "source": [
    "# 영어점수는 바꿀수 있기 때문에 사용가능 but 월별 강수량의 경우는 변경이 불가능하기 때문에 Dictionary 사용한다. \n",
    "# 중복 값 저장이 가능하다 [10, 10, 10, 10, 10]\n",
    "# index란? 원소 배열의 순서(or 순번)"
   ]
  },
  {
   "cell_type": "code",
   "execution_count": 1,
   "id": "9858f95c",
   "metadata": {
    "ExecuteTime": {
     "end_time": "2022-12-20T07:42:29.318460Z",
     "start_time": "2022-12-20T07:42:29.301471Z"
    }
   },
   "outputs": [
    {
     "name": "stdout",
     "output_type": "stream",
     "text": [
      "[10, 20, 30, 40, 50]\n"
     ]
    }
   ],
   "source": [
    "l1 = [10, 20, 30, 40, 50]\n",
    "print(l1)"
   ]
  },
  {
   "cell_type": "code",
   "execution_count": 3,
   "id": "a0dce192",
   "metadata": {
    "ExecuteTime": {
     "end_time": "2022-12-20T07:43:44.825269Z",
     "start_time": "2022-12-20T07:43:44.811270Z"
    }
   },
   "outputs": [
    {
     "data": {
      "text/plain": [
       "(int, float, bool, str)"
      ]
     },
     "execution_count": 3,
     "metadata": {},
     "output_type": "execute_result"
    }
   ],
   "source": [
    "#type(값) ; 값의 데이터타입을 반환\n",
    "type(30), type(3.2),type(True), type(\"abc\")"
   ]
  },
  {
   "cell_type": "code",
   "execution_count": 4,
   "id": "211978ea",
   "metadata": {
    "ExecuteTime": {
     "end_time": "2022-12-20T07:44:58.776644Z",
     "start_time": "2022-12-20T07:44:58.761650Z"
    }
   },
   "outputs": [
    {
     "data": {
      "text/plain": [
       "False"
      ]
     },
     "execution_count": 4,
     "metadata": {},
     "output_type": "execute_result"
    }
   ],
   "source": [
    "x = 30\n",
    "type(x) == int\n",
    "type(x) == bool"
   ]
  },
  {
   "cell_type": "code",
   "execution_count": 5,
   "id": "5ce2be43",
   "metadata": {
    "ExecuteTime": {
     "end_time": "2022-12-20T07:45:38.806309Z",
     "start_time": "2022-12-20T07:45:38.785405Z"
    }
   },
   "outputs": [
    {
     "data": {
      "text/plain": [
       "list"
      ]
     },
     "execution_count": 5,
     "metadata": {},
     "output_type": "execute_result"
    }
   ],
   "source": [
    "type(l1)"
   ]
  },
  {
   "cell_type": "code",
   "execution_count": 9,
   "id": "cafd50d8",
   "metadata": {
    "ExecuteTime": {
     "end_time": "2022-12-20T07:46:59.874999Z",
     "start_time": "2022-12-20T07:46:59.861035Z"
    }
   },
   "outputs": [
    {
     "data": {
      "text/plain": [
       "[100, 4.5, True, 'abcde']"
      ]
     },
     "execution_count": 9,
     "metadata": {},
     "output_type": "execute_result"
    }
   ],
   "source": [
    "l2 = [100, 4.5, True, \"abcde\"]\n",
    "l2"
   ]
  },
  {
   "cell_type": "code",
   "execution_count": 6,
   "id": "25afcd3a",
   "metadata": {
    "ExecuteTime": {
     "end_time": "2022-12-21T01:05:27.158167Z",
     "start_time": "2022-12-21T01:05:27.138934Z"
    },
    "scrolled": true
   },
   "outputs": [
    {
     "name": "stdout",
     "output_type": "stream",
     "text": [
      "[100, [1, 2, 3]]\n"
     ]
    }
   ],
   "source": [
    "l3 = [100, [1,2,3]]    #리스트(자료구조)도 값\n",
    "print(l3)"
   ]
  },
  {
   "cell_type": "markdown",
   "id": "08d634bf",
   "metadata": {
    "slideshow": {
     "slide_type": "subslide"
    }
   },
   "source": [
    "## Indexing과 Slicing을 이용한 원소(element) 조회 및 변경\n",
    "\n",
    "### Indexing\n",
    "- 하나의 원소를 조회하거나 변경할 때 사용\n",
    "- 리스트\\[index\\] \n",
    "    - index의 원소를 조회\n",
    "- 리스트\\[index\\] = 값\n",
    "    - index의 원소를 변경"
   ]
  },
  {
   "cell_type": "markdown",
   "id": "ab5a40cb",
   "metadata": {
    "slideshow": {
     "slide_type": "fragment"
    }
   },
   "source": [
    "### Slicing\n",
    "- 범위로 조회하거나 그 범위의 값들을 변경한다.\n",
    "- 기본구문: **리스트\\[ 시작 index : 종료 index : 간격\\]**     간격은 생략 가능함!\n",
    "    - 시작 index ~ (종료 index – 1)\n",
    "    - 간격을 지정하면 간격만큼 index를 증/감한다. (생략 시 1이 기본 간격)\n",
    "- **0번 index 부터 조회 할 경우 시작 index는 생략가능**\n",
    "    - 리스트 \\[ : 5\\] => 0 ~ 4 까지 조회\n",
    "- **마지막 index까지 (끝까지) 조회 할 경우 종료 index는 생략 가능**\n",
    "    - 리스트\\[2 : \\] => 2번 index 에서 끝까지\n",
    "- **명시적으로 간격을 줄 경우**\n",
    "    - 리스트\\[ : : 3 \\] => 0, 3, 6, 9.. index의 값 조회\n",
    "    - 리스트\\[1 : 9 : 2\\] => 1, 3, 5, 7 index의 값 조회\n",
    "- **시작 index > 종료 index, 간격을 음수로 하면 역으로 반환한다.(Reverse)**\n",
    "    - 리스트\\[5: 1: -1\\] => 5, 4, 3, 2 index의 값 조회\n",
    "    - 리스트\\[: : -1\\]  => 마지막 index ~ 0번 index 까지 의미. Reverse 한다.\n",
    "\n",
    "#### slicing을 이용한 값 변경\n",
    "- slicing 을 이용할 경우 slicing된 원소 개수와 동일한 개수의 값들을 대입한다.\n",
    "    - `리스트[1:5] = 10,20,30,40` : index 1, 2, 3, 4의 값을 20으로 변경"
   ]
  },
  {
   "cell_type": "code",
   "execution_count": 20,
   "id": "5d462776",
   "metadata": {
    "ExecuteTime": {
     "end_time": "2022-12-21T01:16:10.689271Z",
     "start_time": "2022-12-21T01:16:10.669291Z"
    },
    "slideshow": {
     "slide_type": "fragment"
    }
   },
   "outputs": [
    {
     "data": {
      "text/plain": [
       "7"
      ]
     },
     "execution_count": 20,
     "metadata": {},
     "output_type": "execute_result"
    }
   ],
   "source": [
    "l = [0, 1, 2, 3, 4, 5, 6, 7, 8, 9]\n",
    "# indexing - 한개값을 조회\n",
    "l[2] #앞에서 세번째 값\n",
    "l[-3] #뒤에서 세전째 값"
   ]
  },
  {
   "cell_type": "code",
   "execution_count": 2,
   "id": "e5ba472d",
   "metadata": {
    "ExecuteTime": {
     "end_time": "2022-12-24T03:30:49.525557Z",
     "start_time": "2022-12-24T03:30:49.519538Z"
    }
   },
   "outputs": [
    {
     "name": "stdout",
     "output_type": "stream",
     "text": [
      "[0, 100, 2, 3]\n"
     ]
    }
   ],
   "source": [
    "# 변경\n",
    "\n",
    "l = [0, 1, 2, 3]\n",
    "l[1] = 100 \n",
    "print(l)"
   ]
  },
  {
   "cell_type": "code",
   "execution_count": 3,
   "id": "e9abdcb6",
   "metadata": {
    "ExecuteTime": {
     "end_time": "2022-12-24T03:31:14.885250Z",
     "start_time": "2022-12-24T03:31:14.877863Z"
    }
   },
   "outputs": [
    {
     "name": "stdout",
     "output_type": "stream",
     "text": [
      "1\n"
     ]
    }
   ],
   "source": [
    "l[-2] = 800\n",
    "print(1)"
   ]
  },
  {
   "cell_type": "code",
   "execution_count": null,
   "id": "8c9b1276",
   "metadata": {},
   "outputs": [],
   "source": [
    "# slicing: 범위로 여러개의 원소 조회"
   ]
  },
  {
   "cell_type": "code",
   "execution_count": 27,
   "id": "057dd896",
   "metadata": {
    "ExecuteTime": {
     "end_time": "2022-12-21T01:17:35.140549Z",
     "start_time": "2022-12-21T01:17:35.130573Z"
    }
   },
   "outputs": [
    {
     "data": {
      "text/plain": [
       "[2, 4, 6]"
      ]
     },
     "execution_count": 27,
     "metadata": {},
     "output_type": "execute_result"
    }
   ],
   "source": [
    "l[2:7:2]"
   ]
  },
  {
   "cell_type": "code",
   "execution_count": 28,
   "id": "e734acfe",
   "metadata": {
    "ExecuteTime": {
     "end_time": "2022-12-21T01:18:17.697737Z",
     "start_time": "2022-12-21T01:18:17.680779Z"
    }
   },
   "outputs": [
    {
     "data": {
      "text/plain": [
       "[2, 3, 4, 5, 6]"
      ]
     },
     "execution_count": 28,
     "metadata": {},
     "output_type": "execute_result"
    }
   ],
   "source": [
    "l[2:7]"
   ]
  },
  {
   "cell_type": "code",
   "execution_count": 29,
   "id": "c0ef460f",
   "metadata": {
    "ExecuteTime": {
     "end_time": "2022-12-21T01:18:41.541947Z",
     "start_time": "2022-12-21T01:18:41.526291Z"
    }
   },
   "outputs": [
    {
     "data": {
      "text/plain": [
       "[0, 100, 2, 3, 4, 5, 6]"
      ]
     },
     "execution_count": 29,
     "metadata": {},
     "output_type": "execute_result"
    }
   ],
   "source": [
    "l[:7]    #0 ~7-1, 1씩 증가"
   ]
  },
  {
   "cell_type": "code",
   "execution_count": 30,
   "id": "4abb73fb",
   "metadata": {
    "ExecuteTime": {
     "end_time": "2022-12-21T01:19:06.639138Z",
     "start_time": "2022-12-21T01:19:06.621184Z"
    }
   },
   "outputs": [
    {
     "data": {
      "text/plain": [
       "[4, 5, 6, 7, 8, 9]"
      ]
     },
     "execution_count": 30,
     "metadata": {},
     "output_type": "execute_result"
    }
   ],
   "source": [
    "l[4:]   # 4  ~  끝까지, 1씩 증가"
   ]
  },
  {
   "cell_type": "code",
   "execution_count": 31,
   "id": "ef4ef4ab",
   "metadata": {
    "ExecuteTime": {
     "end_time": "2022-12-21T01:19:41.300611Z",
     "start_time": "2022-12-21T01:19:41.292666Z"
    }
   },
   "outputs": [
    {
     "data": {
      "text/plain": [
       "[4, 7]"
      ]
     },
     "execution_count": 31,
     "metadata": {},
     "output_type": "execute_result"
    }
   ],
   "source": [
    "l[4::3]  # 4 ~ 끝, 3씩 증가"
   ]
  },
  {
   "cell_type": "code",
   "execution_count": 32,
   "id": "8922fc72",
   "metadata": {
    "ExecuteTime": {
     "end_time": "2022-12-21T01:20:52.654508Z",
     "start_time": "2022-12-21T01:20:52.633390Z"
    }
   },
   "outputs": [
    {
     "data": {
      "text/plain": [
       "[8, 7, 6, 5, 4, 3]"
      ]
     },
     "execution_count": 32,
     "metadata": {},
     "output_type": "execute_result"
    }
   ],
   "source": [
    "#Reverse\n",
    "l[8:2:-1]    # 8  ~ 2, -1씩 반대로"
   ]
  },
  {
   "cell_type": "code",
   "execution_count": 36,
   "id": "efd36452",
   "metadata": {
    "ExecuteTime": {
     "end_time": "2022-12-21T01:22:30.963098Z",
     "start_time": "2022-12-21T01:22:30.947109Z"
    }
   },
   "outputs": [
    {
     "data": {
      "text/plain": [
       "[9, 800, 7, 6, 5, 4, 3, 2, 100, 0]"
      ]
     },
     "execution_count": 36,
     "metadata": {},
     "output_type": "execute_result"
    }
   ],
   "source": [
    "l[::-1]"
   ]
  },
  {
   "cell_type": "markdown",
   "id": "a4f9fe12",
   "metadata": {
    "slideshow": {
     "slide_type": "slide"
    }
   },
   "source": [
    "## List 연산자\n",
    "- 리스트 + 리스트\n",
    "    - 두 리스트의 원소들을 합친 리스트를 반환한다.\n",
    "- 리스트 * 정수\n",
    "    - 같은 리스트의 원소들을 정수번 합친 리스트를 반환한다.   \n",
    "- in, not in 연산자\n",
    "    - 값 in 리스트\n",
    "        - 리스트의 원소로 값이 **있으면** True, 없으면 False 반환\n",
    "    - 값 not in 리스트\n",
    "        - 리스트의 원소로 값이 **없으면** True, 있으면 False 반환  \n",
    "- len(리스트)\n",
    "    - 리스트 내의 원소수를 반환.        "
   ]
  },
  {
   "cell_type": "code",
   "execution_count": 5,
   "id": "f085e817",
   "metadata": {
    "ExecuteTime": {
     "end_time": "2022-12-24T03:33:30.871018Z",
     "start_time": "2022-12-24T03:33:30.863572Z"
    },
    "slideshow": {
     "slide_type": "fragment"
    }
   },
   "outputs": [
    {
     "name": "stdout",
     "output_type": "stream",
     "text": [
      "[1, 2, 3, 10, 20, 30]\n"
     ]
    }
   ],
   "source": [
    "a = [1, 2, 3]\n",
    "b = [10, 20, 30]\n",
    "c = a + b\n",
    "print(c)"
   ]
  },
  {
   "cell_type": "code",
   "execution_count": 6,
   "id": "aba97dd7",
   "metadata": {
    "ExecuteTime": {
     "end_time": "2022-12-24T03:33:33.884094Z",
     "start_time": "2022-12-24T03:33:33.874571Z"
    }
   },
   "outputs": [
    {
     "name": "stdout",
     "output_type": "stream",
     "text": [
      "[1, 2, 3, 1, 2, 3, 1, 2, 3, 1, 2, 3, 1, 2, 3]\n"
     ]
    }
   ],
   "source": [
    "d = a * 5   #a + a + a + a + a\n",
    "print(d)"
   ]
  },
  {
   "cell_type": "code",
   "execution_count": 7,
   "id": "bd7ad9a8",
   "metadata": {
    "ExecuteTime": {
     "end_time": "2022-12-24T03:33:36.328349Z",
     "start_time": "2022-12-24T03:33:36.319701Z"
    }
   },
   "outputs": [
    {
     "name": "stdout",
     "output_type": "stream",
     "text": [
      "True\n",
      "False\n"
     ]
    }
   ],
   "source": [
    "print(10 in c)   # 10이 리스트 c의 원소로 있는지 여부\n",
    "print(100 in c)"
   ]
  },
  {
   "cell_type": "code",
   "execution_count": 8,
   "id": "b49a6a4f",
   "metadata": {
    "ExecuteTime": {
     "end_time": "2022-12-24T03:33:44.265024Z",
     "start_time": "2022-12-24T03:33:44.255390Z"
    },
    "scrolled": true
   },
   "outputs": [
    {
     "name": "stdout",
     "output_type": "stream",
     "text": [
      "False\n",
      "True\n"
     ]
    }
   ],
   "source": [
    "print(10 not in c)   # 10이 리스트 c의 원소로 없는지 여부\n",
    "print(100 not in c)"
   ]
  },
  {
   "cell_type": "code",
   "execution_count": 91,
   "id": "4667e713",
   "metadata": {
    "ExecuteTime": {
     "end_time": "2022-12-21T01:56:33.450927Z",
     "start_time": "2022-12-21T01:56:33.431941Z"
    }
   },
   "outputs": [
    {
     "name": "stdout",
     "output_type": "stream",
     "text": [
      "True\n",
      "True\n"
     ]
    }
   ],
   "source": [
    "print([1, 2] in c) #  리스트 안에 [1, 2]가 있는지 물어보는 것\n",
    "c = [[1, 2], 3, 4]\n",
    "print([1, 2] in c)"
   ]
  },
  {
   "cell_type": "code",
   "execution_count": 50,
   "id": "9686f994",
   "metadata": {
    "ExecuteTime": {
     "end_time": "2022-12-21T01:35:12.184326Z",
     "start_time": "2022-12-21T01:35:12.170363Z"
    }
   },
   "outputs": [
    {
     "data": {
      "text/plain": [
       "True"
      ]
     },
     "execution_count": 50,
     "metadata": {},
     "output_type": "execute_result"
    }
   ],
   "source": [
    "3 in c and 4 in c   # c안에 3, 4 둘다 있는지 여부\n",
    "3 in c or 100 in c  # c 안에 3 또는 100 둘중 하난가 있는지 여부"
   ]
  },
  {
   "cell_type": "code",
   "execution_count": 9,
   "id": "d5680544",
   "metadata": {
    "ExecuteTime": {
     "end_time": "2022-12-24T03:34:52.477382Z",
     "start_time": "2022-12-24T03:34:52.457497Z"
    }
   },
   "outputs": [
    {
     "data": {
      "text/plain": [
       "([1, 2], 4)"
      ]
     },
     "execution_count": 9,
     "metadata": {},
     "output_type": "execute_result"
    }
   ],
   "source": [
    "c = [[1, 2], 3, 4]\n",
    "c[0], c[2]"
   ]
  },
  {
   "cell_type": "markdown",
   "id": "f90af754",
   "metadata": {
    "slideshow": {
     "slide_type": "slide"
    }
   },
   "source": [
    "## 중첩 리스트 (Nested List)\n",
    "- List가 원소로 List를 가지는 것을 말한다.\n",
    "    - List를 포함한 모든 자료구조 타입들도 다 값이므로 다른 자료구조의 원소로 들어갈 수 있다.    "
   ]
  },
  {
   "cell_type": "code",
   "execution_count": 92,
   "id": "01bede57",
   "metadata": {
    "ExecuteTime": {
     "end_time": "2022-12-21T01:56:39.102980Z",
     "start_time": "2022-12-21T01:56:39.095002Z"
    },
    "slideshow": {
     "slide_type": "fragment"
    }
   },
   "outputs": [],
   "source": [
    "l = [\n",
    "    [1,2,3],\n",
    "    [4,5,6],\n",
    "    [7,8,9]\n",
    "]"
   ]
  },
  {
   "cell_type": "code",
   "execution_count": 93,
   "id": "6c177cb7",
   "metadata": {
    "ExecuteTime": {
     "end_time": "2022-12-21T01:56:40.832545Z",
     "start_time": "2022-12-21T01:56:40.819584Z"
    }
   },
   "outputs": [
    {
     "name": "stdout",
     "output_type": "stream",
     "text": [
      "[[1, 2, 3], [4, 5, 6], [7, 8, 9]]\n"
     ]
    }
   ],
   "source": [
    "print(l)"
   ]
  },
  {
   "cell_type": "code",
   "execution_count": 73,
   "id": "0ef28e9e",
   "metadata": {
    "ExecuteTime": {
     "end_time": "2022-12-21T01:44:44.647944Z",
     "start_time": "2022-12-21T01:44:44.627963Z"
    }
   },
   "outputs": [
    {
     "data": {
      "text/plain": [
       "3"
      ]
     },
     "execution_count": 73,
     "metadata": {},
     "output_type": "execute_result"
    }
   ],
   "source": [
    "len(l)"
   ]
  },
  {
   "cell_type": "code",
   "execution_count": 78,
   "id": "5999a334",
   "metadata": {
    "ExecuteTime": {
     "end_time": "2022-12-21T01:46:21.835057Z",
     "start_time": "2022-12-21T01:46:21.813114Z"
    }
   },
   "outputs": [
    {
     "data": {
      "text/plain": [
       "(2, 9)"
      ]
     },
     "execution_count": 78,
     "metadata": {},
     "output_type": "execute_result"
    }
   ],
   "source": [
    "l[0][1], l[2][2]    # 중첩 리스트에서 원하는 숫자 불러오기"
   ]
  },
  {
   "cell_type": "markdown",
   "id": "29ff0e07",
   "metadata": {
    "slideshow": {
     "slide_type": "slide"
    }
   },
   "source": [
    "## List 대입\n",
    "리스트의 원소들을 각각 다른 변수에 대입하는 표현식"
   ]
  },
  {
   "cell_type": "code",
   "execution_count": 94,
   "id": "2dfd6c46",
   "metadata": {
    "ExecuteTime": {
     "end_time": "2022-12-21T01:56:45.364506Z",
     "start_time": "2022-12-21T01:56:45.356592Z"
    },
    "scrolled": true,
    "slideshow": {
     "slide_type": "fragment"
    }
   },
   "outputs": [
    {
     "name": "stdout",
     "output_type": "stream",
     "text": [
      "1 2 3\n"
     ]
    }
   ],
   "source": [
    "l = [1, 2, 3]\n",
    "num1, num2, num3 = l\n",
    "print(num1, num2, num3)"
   ]
  },
  {
   "cell_type": "code",
   "execution_count": null,
   "id": "60d36f69",
   "metadata": {},
   "outputs": [],
   "source": [
    "a, b, c, = [100, 200, 300]  #근데 보통 이렇게 하진 않고 아래처럼 한다.\n",
    "\n",
    "print(a, b, c)"
   ]
  },
  {
   "cell_type": "code",
   "execution_count": null,
   "id": "5c21a60e",
   "metadata": {},
   "outputs": [],
   "source": [
    "d, e, f = 10, 20, 30    # 이렇게도 가능하지 궂이 list 대입하진 않아도 된다. "
   ]
  },
  {
   "cell_type": "markdown",
   "id": "826b8780",
   "metadata": {
    "slideshow": {
     "slide_type": "slide"
    }
   },
   "source": [
    "## List 주요 메소드\n",
    "|메소드|설명|\n",
    "|:-|-|\n",
    "|append(value)|value를  추가한다(마지막에 삽입).|  |\n",
    "|extend(List)|[List]의 원소들을 추가한다.|\n",
    "|sort(\\[reverse=False\\])|원소들을 오름차순 정렬한다. reverse=True로 하면 내림차순정렬 한다.|\n",
    "|insert(index, 삽입할값)|지정한 index에 '삽입할값'을 삽입한다(중간삽입).|\n",
    "|remove(삭제할값)|'삭제할값' 값과 같은 원소를 삭제한다.|\n",
    "|index(찾을값\\[, 시작index\\])|'찾을값'의 index를 반환한다.|\n",
    "|pop(\\[index\\])|index의 값을 반환하면서 삭제한다. index 생략하면 가장 마지막 값을 반환하며 삭제한다.|\n",
    "|count(값)|'값'이 리스트의 원소로 몇개 있는지 반환한다.|\n",
    "|clear()|리스트 안의 모든(All) 원소들을 삭제한다.|\n",
    "\n"
   ]
  },
  {
   "cell_type": "code",
   "execution_count": 117,
   "id": "4b14d8e8",
   "metadata": {
    "ExecuteTime": {
     "end_time": "2022-12-21T02:14:58.490393Z",
     "start_time": "2022-12-21T02:14:58.472401Z"
    },
    "slideshow": {
     "slide_type": "fragment"
    }
   },
   "outputs": [
    {
     "name": "stdout",
     "output_type": "stream",
     "text": [
      "[1, 2, 3]\n",
      "[1, 2, 3, 10]\n"
     ]
    }
   ],
   "source": [
    "#append\n",
    "l = [1,2,3]\n",
    "print(l)\n",
    "l.append(10)   #append: 10을 l 리스트 마지막에 추가\n",
    "print(l)"
   ]
  },
  {
   "cell_type": "code",
   "execution_count": 118,
   "id": "784bc004",
   "metadata": {
    "ExecuteTime": {
     "end_time": "2022-12-21T02:18:17.836334Z",
     "start_time": "2022-12-21T02:18:17.819412Z"
    }
   },
   "outputs": [
    {
     "name": "stdout",
     "output_type": "stream",
     "text": [
      "[1, 2, 3, 10, 100, 200, 300]\n"
     ]
    }
   ],
   "source": [
    "#extend: 리스트에 원소 추가\n",
    "l.extend([100,200,300])\n",
    "print(l)"
   ]
  },
  {
   "cell_type": "code",
   "execution_count": 119,
   "id": "9f86caf7",
   "metadata": {
    "ExecuteTime": {
     "end_time": "2022-12-21T02:19:37.113482Z",
     "start_time": "2022-12-21T02:19:37.105503Z"
    }
   },
   "outputs": [
    {
     "name": "stdout",
     "output_type": "stream",
     "text": [
      "[2, 4, 7, 8, 20, 30, 100]\n"
     ]
    }
   ],
   "source": [
    "#정렬 : 오름차순\n",
    "l2 =  [2,100,7,20,30,4,8]\n",
    "l2.sort()  #오름차순\n",
    "print(l2)"
   ]
  },
  {
   "cell_type": "code",
   "execution_count": 121,
   "id": "e056ff1e",
   "metadata": {
    "ExecuteTime": {
     "end_time": "2022-12-21T02:20:25.087259Z",
     "start_time": "2022-12-21T02:20:25.068312Z"
    }
   },
   "outputs": [
    {
     "name": "stdout",
     "output_type": "stream",
     "text": [
      "[100, 30, 20, 8, 7, 4, 2]\n"
     ]
    }
   ],
   "source": [
    "#정렬 : 내림차순\n",
    "l2.sort(reverse=True)  #내림차순\n",
    "print(l2)"
   ]
  },
  {
   "cell_type": "code",
   "execution_count": 123,
   "id": "2bb4283d",
   "metadata": {
    "ExecuteTime": {
     "end_time": "2022-12-21T02:21:32.779742Z",
     "start_time": "2022-12-21T02:21:32.766737Z"
    }
   },
   "outputs": [
    {
     "data": {
      "text/plain": [
       "[2, 4, 7, 8, 20, 30, 100]"
      ]
     },
     "execution_count": 123,
     "metadata": {},
     "output_type": "execute_result"
    }
   ],
   "source": [
    "sorted(l2)   #l2를 정렬한 결과를 담은 새로운 리스트를 반환\n",
    "             #list만 아니라 다른 자료구조들도 정렬한다."
   ]
  },
  {
   "cell_type": "code",
   "execution_count": 124,
   "id": "f9b9cb96",
   "metadata": {
    "ExecuteTime": {
     "end_time": "2022-12-21T02:22:45.920663Z",
     "start_time": "2022-12-21T02:22:45.903707Z"
    },
    "scrolled": true
   },
   "outputs": [
    {
     "data": {
      "text/plain": [
       "[100, 30, 20, 8, 7, 4, 2]"
      ]
     },
     "execution_count": 124,
     "metadata": {},
     "output_type": "execute_result"
    }
   ],
   "source": [
    "sorted(l2, reverse=True) #sorted 내림차순 정렬"
   ]
  },
  {
   "cell_type": "code",
   "execution_count": null,
   "id": "bddf8b8d",
   "metadata": {},
   "outputs": [],
   "source": [
    "####sort 와 sorted의 차이? sorted는 바로 반환된다####\n",
    "####다시 말해, sorted는 print와 같다####"
   ]
  },
  {
   "cell_type": "code",
   "execution_count": 126,
   "id": "95c38957",
   "metadata": {
    "ExecuteTime": {
     "end_time": "2022-12-21T02:28:08.827805Z",
     "start_time": "2022-12-21T02:28:08.812839Z"
    }
   },
   "outputs": [
    {
     "name": "stdout",
     "output_type": "stream",
     "text": [
      "[100, 30, 1000, 20, 8, 7, 4, 2]\n"
     ]
    }
   ],
   "source": [
    "#insert\n",
    "l2.insert(2, 1000)\n",
    "print(l2)"
   ]
  },
  {
   "cell_type": "code",
   "execution_count": 127,
   "id": "fd392338",
   "metadata": {
    "ExecuteTime": {
     "end_time": "2022-12-21T02:29:00.856238Z",
     "start_time": "2022-12-21T02:29:00.850288Z"
    }
   },
   "outputs": [
    {
     "name": "stdout",
     "output_type": "stream",
     "text": [
      "[100, 30, 20, 8, 7, 4, 2]\n"
     ]
    }
   ],
   "source": [
    "#remove 삭제\n",
    "l2.remove(1000) #값으로 삭제. 처음 찾은 그(the) 한개만 삭제!!!\n",
    "print(l2)"
   ]
  },
  {
   "cell_type": "code",
   "execution_count": 128,
   "id": "79e57f96",
   "metadata": {
    "ExecuteTime": {
     "end_time": "2022-12-21T02:31:50.893245Z",
     "start_time": "2022-12-21T02:31:50.873257Z"
    }
   },
   "outputs": [
    {
     "data": {
      "text/plain": [
       "[100, 30, 20, 8, 7, 4, 2]"
      ]
     },
     "execution_count": 128,
     "metadata": {},
     "output_type": "execute_result"
    }
   ],
   "source": [
    "# index 삭제\n"
   ]
  },
  {
   "cell_type": "code",
   "execution_count": 132,
   "id": "619508c4",
   "metadata": {
    "ExecuteTime": {
     "end_time": "2022-12-21T02:34:00.093637Z",
     "start_time": "2022-12-21T02:34:00.084698Z"
    }
   },
   "outputs": [
    {
     "name": "stdout",
     "output_type": "stream",
     "text": [
      "2\n"
     ]
    }
   ],
   "source": [
    "# 삭제한 뒤 삭제한 값을 반환\n",
    "r = l2.pop()    #마지막 index의 값을 삭제하면서 반환(print)\n",
    "print(r)"
   ]
  },
  {
   "cell_type": "code",
   "execution_count": 134,
   "id": "fbde4948",
   "metadata": {
    "ExecuteTime": {
     "end_time": "2022-12-21T02:35:42.464065Z",
     "start_time": "2022-12-21T02:35:42.446075Z"
    }
   },
   "outputs": [
    {
     "name": "stdout",
     "output_type": "stream",
     "text": [
      "[100, 30, 20, 4]\n",
      "[]\n",
      "0\n"
     ]
    }
   ],
   "source": [
    "#clear : 싹다 지워버림(가장 마음에 듦 ㅋㅋㅋ)\n",
    "print(l2)\n",
    "l2.clear()\n",
    "print(l2)\n",
    "print(len(l2))"
   ]
  },
  {
   "cell_type": "code",
   "execution_count": 139,
   "id": "8423499e",
   "metadata": {
    "ExecuteTime": {
     "end_time": "2022-12-21T02:37:20.398356Z",
     "start_time": "2022-12-21T02:37:20.382403Z"
    }
   },
   "outputs": [
    {
     "name": "stdout",
     "output_type": "stream",
     "text": [
      "[1, 1, 1, 1, 1, 1]\n",
      "0\n"
     ]
    }
   ],
   "source": [
    "l3 = [1,1,1,1,1,1]\n",
    "print (l3)\n",
    "print(l3.index(1))      # 원소값 1이 몇번 index에 있는지 조회, 조회는 앞에서붜 (index 0부터) 찾는다."
   ]
  },
  {
   "cell_type": "code",
   "execution_count": 140,
   "id": "7394dbb9",
   "metadata": {
    "ExecuteTime": {
     "end_time": "2022-12-21T02:38:38.207818Z",
     "start_time": "2022-12-21T02:38:38.192033Z"
    }
   },
   "outputs": [
    {
     "name": "stdout",
     "output_type": "stream",
     "text": [
      "3\n"
     ]
    }
   ],
   "source": [
    "print(l3.index(1, 3))   #원소 1이란 값을 찾을 것이고, 3번째 자리부터 찾아줘~~라는 지시"
   ]
  },
  {
   "cell_type": "code",
   "execution_count": 141,
   "id": "41c30d53",
   "metadata": {
    "ExecuteTime": {
     "end_time": "2022-12-21T02:39:14.403009Z",
     "start_time": "2022-12-21T02:39:14.382029Z"
    }
   },
   "outputs": [
    {
     "data": {
      "text/plain": [
       "6"
      ]
     },
     "execution_count": 141,
     "metadata": {},
     "output_type": "execute_result"
    }
   ],
   "source": [
    "l3.count(1)   #원소 1이 몇개 있는지 찾아줘~"
   ]
  },
  {
   "cell_type": "code",
   "execution_count": 145,
   "id": "4a478585",
   "metadata": {
    "ExecuteTime": {
     "end_time": "2022-12-21T02:40:51.793688Z",
     "start_time": "2022-12-21T02:40:51.778067Z"
    }
   },
   "outputs": [
    {
     "data": {
      "text/plain": [
       "['-', '3', 'A', 'a', '가']"
      ]
     },
     "execution_count": 145,
     "metadata": {},
     "output_type": "execute_result"
    }
   ],
   "source": [
    "l4 = [\"A\", \"a\", \"가\", \"3\", \"-\"]\n",
    "sorted(l4)                           #정렬 순수가 작은 값부터 나온다 / 부호 < 숫자 < 문자(영) < 문자(한)"
   ]
  },
  {
   "cell_type": "code",
   "execution_count": null,
   "id": "218f1c36",
   "metadata": {},
   "outputs": [],
   "source": []
  },
  {
   "cell_type": "markdown",
   "id": "5b28f033",
   "metadata": {
    "slideshow": {
     "slide_type": "slide"
    }
   },
   "source": [
    "# Tuple (튜플)\n",
    "- List와 같이 순서대로 원소들을 관리한다. 단 저장된 원소를 변경할 수 없다.\n",
    "- Tuple 은 각 위치(Index) 마다 정해진 의미가 있고 그 값이 한번 설정되면 바뀌지 않는 경우에 사용한다. \n",
    "    - Tuple은 값의 변경되지 않으므로 안전하다.\n",
    "    \n",
    "## Tuple 생성\n",
    "- `(value, value, value, ...)`\n",
    "- 소괄호를 생략할 수 있다.\n",
    "- 원소가 하나인 Tuple 표현식\n",
    "    - `(value,)` 또는 `value,` \n",
    "        - 값 뒤에 `,` 를 붙여준다. `,`를 붙이지 않으면 ( )가 연산자 우선순위 괄호가 된다. "
   ]
  },
  {
   "cell_type": "code",
   "execution_count": null,
   "id": "17099a9e",
   "metadata": {
    "slideshow": {
     "slide_type": "fragment"
    }
   },
   "outputs": [],
   "source": [
    "# 원소 변경이 안되기 때문에 List와 달리 '조회'만 가능하다\n",
    "# 그래서 List보다 간단함."
   ]
  },
  {
   "cell_type": "code",
   "execution_count": null,
   "id": "62d5d695",
   "metadata": {},
   "outputs": [],
   "source": [
    "#원소가 1개인 tuple은 반드시 ,을 찍어준다 ex)(10, )"
   ]
  },
  {
   "cell_type": "code",
   "execution_count": 181,
   "id": "a93eebfa",
   "metadata": {
    "ExecuteTime": {
     "end_time": "2022-12-21T03:13:53.784672Z",
     "start_time": "2022-12-21T03:13:53.773701Z"
    }
   },
   "outputs": [
    {
     "name": "stdout",
     "output_type": "stream",
     "text": [
      "(1, 2, 3, 4, 5)\n",
      "('A', 'B', 'C')\n",
      "('A', '20', True)\n"
     ]
    }
   ],
   "source": [
    "t1 = (1,2,3,4,5)\n",
    "t2 = ('A', 'B','C')\n",
    "t3 = ('A', '20', True)\n",
    "print(t1)\n",
    "print(t2)\n",
    "print(t3)"
   ]
  },
  {
   "cell_type": "code",
   "execution_count": 182,
   "id": "3679c1e7",
   "metadata": {
    "ExecuteTime": {
     "end_time": "2022-12-21T03:14:46.770162Z",
     "start_time": "2022-12-21T03:14:46.760225Z"
    }
   },
   "outputs": [
    {
     "data": {
      "text/plain": [
       "tuple"
      ]
     },
     "execution_count": 182,
     "metadata": {},
     "output_type": "execute_result"
    }
   ],
   "source": [
    "type(t1)"
   ]
  },
  {
   "cell_type": "markdown",
   "id": "16954356",
   "metadata": {
    "slideshow": {
     "slide_type": "slide"
    }
   },
   "source": [
    "## Indexing과 Slicing을 이용한 원소(element) 조회\n",
    "- 리스트와 동일하다.\n",
    "- 단 튜플은 조회만 가능하고 원소를 변경할 수 없다."
   ]
  },
  {
   "cell_type": "code",
   "execution_count": 185,
   "id": "0666bcdf",
   "metadata": {
    "ExecuteTime": {
     "end_time": "2022-12-21T03:18:22.840646Z",
     "start_time": "2022-12-21T03:18:22.819667Z"
    }
   },
   "outputs": [
    {
     "data": {
      "text/plain": [
       "(1, 2, 3, 4, 5)"
      ]
     },
     "execution_count": 185,
     "metadata": {},
     "output_type": "execute_result"
    }
   ],
   "source": [
    "t5 = 1,2,3,4,5   #괄호 안해도 Tuple이다.\n",
    "t5"
   ]
  },
  {
   "cell_type": "code",
   "execution_count": 183,
   "id": "6c5b9b2c",
   "metadata": {
    "ExecuteTime": {
     "end_time": "2022-12-21T03:16:42.329130Z",
     "start_time": "2022-12-21T03:16:42.308219Z"
    },
    "slideshow": {
     "slide_type": "fragment"
    }
   },
   "outputs": [
    {
     "data": {
      "text/plain": [
       "(0, 1, 2, 3, 4, 5, 6, 7, 8, 9)"
      ]
     },
     "execution_count": 183,
     "metadata": {},
     "output_type": "execute_result"
    }
   ],
   "source": [
    "t = (0,1,2,3,4,5,6,7,8,9)\n",
    "t "
   ]
  },
  {
   "cell_type": "code",
   "execution_count": 186,
   "id": "02226c8a",
   "metadata": {
    "ExecuteTime": {
     "end_time": "2022-12-21T03:19:42.541428Z",
     "start_time": "2022-12-21T03:19:42.531453Z"
    }
   },
   "outputs": [
    {
     "data": {
      "text/plain": [
       "tuple"
      ]
     },
     "execution_count": 186,
     "metadata": {},
     "output_type": "execute_result"
    }
   ],
   "source": [
    "t5 = (1,)     #원소가 1개일때는 무조건 ,(클론,쉼표) 찍어주기\n",
    "type(t5)"
   ]
  },
  {
   "cell_type": "code",
   "execution_count": 187,
   "id": "b16f9e38",
   "metadata": {
    "ExecuteTime": {
     "end_time": "2022-12-21T03:20:03.071951Z",
     "start_time": "2022-12-21T03:20:03.055995Z"
    }
   },
   "outputs": [
    {
     "data": {
      "text/plain": [
       "tuple"
      ]
     },
     "execution_count": 187,
     "metadata": {},
     "output_type": "execute_result"
    }
   ],
   "source": [
    "t6 = 1.5,      #원소가 1개일때는 무조건 ,(클론,쉼표) 찍어주기\n",
    "type(t6)"
   ]
  },
  {
   "cell_type": "code",
   "execution_count": 188,
   "id": "8be11831",
   "metadata": {
    "ExecuteTime": {
     "end_time": "2022-12-21T03:21:02.797724Z",
     "start_time": "2022-12-21T03:21:02.781778Z"
    }
   },
   "outputs": [
    {
     "data": {
      "text/plain": [
       "(0, 5, 8)"
      ]
     },
     "execution_count": 188,
     "metadata": {},
     "output_type": "execute_result"
    }
   ],
   "source": [
    "t[0], t[5], t[8]"
   ]
  },
  {
   "cell_type": "code",
   "execution_count": 189,
   "id": "b279ece4",
   "metadata": {
    "ExecuteTime": {
     "end_time": "2022-12-21T03:21:45.548446Z",
     "start_time": "2022-12-21T03:21:45.530491Z"
    }
   },
   "outputs": [
    {
     "ename": "TypeError",
     "evalue": "'tuple' object does not support item assignment",
     "output_type": "error",
     "traceback": [
      "\u001b[1;31m---------------------------------------------------------------------------\u001b[0m",
      "\u001b[1;31mTypeError\u001b[0m                                 Traceback (most recent call last)",
      "\u001b[1;32m~\\AppData\\Local\\Temp\\ipykernel_3460\\1339239567.py\u001b[0m in \u001b[0;36m<module>\u001b[1;34m\u001b[0m\n\u001b[1;32m----> 1\u001b[1;33m \u001b[0mt\u001b[0m\u001b[1;33m[\u001b[0m\u001b[1;36m0\u001b[0m\u001b[1;33m]\u001b[0m \u001b[1;33m=\u001b[0m \u001b[1;36m100\u001b[0m    \u001b[1;31m#튜플은 값을 변경할 수 없다.\u001b[0m\u001b[1;33m\u001b[0m\u001b[1;33m\u001b[0m\u001b[0m\n\u001b[0m",
      "\u001b[1;31mTypeError\u001b[0m: 'tuple' object does not support item assignment"
     ]
    }
   ],
   "source": [
    "t[0] = 100    #튜플은 값을 변경할 수 없다. //'tuple' object does not support item assignment"
   ]
  },
  {
   "cell_type": "code",
   "execution_count": 190,
   "id": "c4920136",
   "metadata": {
    "ExecuteTime": {
     "end_time": "2022-12-21T03:22:27.956672Z",
     "start_time": "2022-12-21T03:22:27.943669Z"
    }
   },
   "outputs": [
    {
     "data": {
      "text/plain": [
       "(2, 4, 6)"
      ]
     },
     "execution_count": 190,
     "metadata": {},
     "output_type": "execute_result"
    }
   ],
   "source": [
    "#slicing\n",
    "t[2:8:2]"
   ]
  },
  {
   "cell_type": "code",
   "execution_count": 191,
   "id": "814223c8",
   "metadata": {
    "ExecuteTime": {
     "end_time": "2022-12-21T03:22:47.080780Z",
     "start_time": "2022-12-21T03:22:47.067776Z"
    }
   },
   "outputs": [
    {
     "data": {
      "text/plain": [
       "(0, 2, 4, 6)"
      ]
     },
     "execution_count": 191,
     "metadata": {},
     "output_type": "execute_result"
    }
   ],
   "source": [
    "t[:8:2]"
   ]
  },
  {
   "cell_type": "code",
   "execution_count": 192,
   "id": "6651a4e8",
   "metadata": {
    "ExecuteTime": {
     "end_time": "2022-12-21T03:23:32.567997Z",
     "start_time": "2022-12-21T03:23:32.552370Z"
    }
   },
   "outputs": [
    {
     "data": {
      "text/plain": [
       "(0, 2, 4, 6, 8)"
      ]
     },
     "execution_count": 192,
     "metadata": {},
     "output_type": "execute_result"
    }
   ],
   "source": [
    "t[::2]"
   ]
  },
  {
   "cell_type": "code",
   "execution_count": 193,
   "id": "15a0196d",
   "metadata": {
    "ExecuteTime": {
     "end_time": "2022-12-21T03:24:00.027647Z",
     "start_time": "2022-12-21T03:24:00.006704Z"
    }
   },
   "outputs": [
    {
     "data": {
      "text/plain": [
       "(2, 3, 4)"
      ]
     },
     "execution_count": 193,
     "metadata": {},
     "output_type": "execute_result"
    }
   ],
   "source": [
    "t[2:5]"
   ]
  },
  {
   "cell_type": "code",
   "execution_count": 194,
   "id": "3cfd5d15",
   "metadata": {
    "ExecuteTime": {
     "end_time": "2022-12-21T03:24:21.649100Z",
     "start_time": "2022-12-21T03:24:21.641122Z"
    }
   },
   "outputs": [
    {
     "data": {
      "text/plain": [
       "(7, 5, 3)"
      ]
     },
     "execution_count": 194,
     "metadata": {},
     "output_type": "execute_result"
    }
   ],
   "source": [
    "t[7:2:-2]"
   ]
  },
  {
   "cell_type": "markdown",
   "id": "135101f3",
   "metadata": {
    "slideshow": {
     "slide_type": "slide"
    }
   },
   "source": [
    "## Tuple 연산자\n",
    "- tuple + tuple\n",
    "    - 두 tuple의 원소들을 합친 tuple을 반환한다.\n",
    "- tuple * 정수\n",
    "    - 같은 tuple의 원소들을 정수번 합친 tuple를 반환한다.  \n",
    "- in, not in 연산자\n",
    "    - 값 in tuple\n",
    "        - tuple의 원소로 값이 **있으면** True, 없으면 False 반환\n",
    "    - 값 not in tuple\n",
    "        - tuple의 원소로 값이 **없으면** True, 있으면 False 반환    \n",
    "- len(tuple)\n",
    "    - tuple의 원소 개수 반환        "
   ]
  },
  {
   "cell_type": "code",
   "execution_count": 209,
   "id": "5903e00f",
   "metadata": {
    "ExecuteTime": {
     "end_time": "2022-12-21T03:31:30.789368Z",
     "start_time": "2022-12-21T03:31:30.775367Z"
    },
    "slideshow": {
     "slide_type": "fragment"
    }
   },
   "outputs": [
    {
     "name": "stdout",
     "output_type": "stream",
     "text": [
      "(1, 2, 3, 4, 5)\n",
      "('A', 'B', 'C')\n",
      "(1, 2, 3, 4, 5, 'A', 'B', 'C')\n"
     ]
    }
   ],
   "source": [
    "print(t1)\n",
    "print(t2)\n",
    "result = t1+t2\n",
    "print(result)"
   ]
  },
  {
   "cell_type": "code",
   "execution_count": 206,
   "id": "ef1d8ae3",
   "metadata": {
    "ExecuteTime": {
     "end_time": "2022-12-21T03:31:10.952811Z",
     "start_time": "2022-12-21T03:31:10.936857Z"
    }
   },
   "outputs": [
    {
     "name": "stdout",
     "output_type": "stream",
     "text": [
      "(1, 2, 3, 4, 5, 1, 2, 3, 4, 5, 1, 2, 3, 4, 5)\n"
     ]
    }
   ],
   "source": [
    "result2 = t1 * 3     # t1 + t1 + t1\n",
    "print(result2)"
   ]
  },
  {
   "cell_type": "code",
   "execution_count": 210,
   "id": "e49574b9",
   "metadata": {
    "ExecuteTime": {
     "end_time": "2022-12-21T03:31:34.714062Z",
     "start_time": "2022-12-21T03:31:34.698400Z"
    }
   },
   "outputs": [
    {
     "name": "stdout",
     "output_type": "stream",
     "text": [
      "True\n",
      "False\n"
     ]
    }
   ],
   "source": [
    "print('B' in result)\n",
    "print('B' not in result)"
   ]
  },
  {
   "cell_type": "code",
   "execution_count": 212,
   "id": "ada781a9",
   "metadata": {
    "ExecuteTime": {
     "end_time": "2022-12-21T03:32:32.156928Z",
     "start_time": "2022-12-21T03:32:32.138975Z"
    }
   },
   "outputs": [
    {
     "data": {
      "text/plain": [
       "tuple"
      ]
     },
     "execution_count": 212,
     "metadata": {},
     "output_type": "execute_result"
    }
   ],
   "source": [
    "length = len(t), len(t2), len(result)\n",
    "type(length)"
   ]
  },
  {
   "cell_type": "code",
   "execution_count": 213,
   "id": "a0f15ecc",
   "metadata": {
    "ExecuteTime": {
     "end_time": "2022-12-21T03:33:59.812478Z",
     "start_time": "2022-12-21T03:33:59.797749Z"
    }
   },
   "outputs": [
    {
     "name": "stdout",
     "output_type": "stream",
     "text": [
      "10 3 3\n"
     ]
    }
   ],
   "source": [
    "#튜플 대입\n",
    "len1, len2, len3 = len(t), len(t2), len(t3)\n",
    "print(len1, len2, len3)"
   ]
  },
  {
   "cell_type": "markdown",
   "id": "89803fdd",
   "metadata": {
    "slideshow": {
     "slide_type": "subslide"
    }
   },
   "source": [
    "## Tuple의 주요 메소드\n",
    "|메소드|설명|\n",
    "|:-|-|\n",
    "|index(찾을값 \\[, 시작index\\])|'찾을값'이 몇번 index인지 반환한다.|\n",
    "|count(값)|원소로 '값'이 몇개 있는지 반환한다.|"
   ]
  },
  {
   "cell_type": "code",
   "execution_count": null,
   "id": "93a527af",
   "metadata": {
    "slideshow": {
     "slide_type": "fragment"
    }
   },
   "outputs": [],
   "source": [
    "# 원소를 바꿀수 없기 때문에 조회만 가능하다!!!! 꿀! 완전 사랑해!!"
   ]
  },
  {
   "cell_type": "code",
   "execution_count": 214,
   "id": "82ae14a8",
   "metadata": {
    "ExecuteTime": {
     "end_time": "2022-12-21T03:36:58.791878Z",
     "start_time": "2022-12-21T03:36:58.770935Z"
    }
   },
   "outputs": [
    {
     "data": {
      "text/plain": [
       "5"
      ]
     },
     "execution_count": 214,
     "metadata": {},
     "output_type": "execute_result"
    }
   ],
   "source": [
    "result.index('A')"
   ]
  },
  {
   "cell_type": "code",
   "execution_count": 215,
   "id": "1c08f0bb",
   "metadata": {
    "ExecuteTime": {
     "end_time": "2022-12-21T03:37:08.710202Z",
     "start_time": "2022-12-21T03:37:08.697194Z"
    }
   },
   "outputs": [
    {
     "ename": "ValueError",
     "evalue": "tuple.index(x): x not in tuple",
     "output_type": "error",
     "traceback": [
      "\u001b[1;31m---------------------------------------------------------------------------\u001b[0m",
      "\u001b[1;31mValueError\u001b[0m                                Traceback (most recent call last)",
      "\u001b[1;32m~\\AppData\\Local\\Temp\\ipykernel_3460\\2639677009.py\u001b[0m in \u001b[0;36m<module>\u001b[1;34m\u001b[0m\n\u001b[1;32m----> 1\u001b[1;33m \u001b[0mresult\u001b[0m\u001b[1;33m.\u001b[0m\u001b[0mindex\u001b[0m\u001b[1;33m(\u001b[0m\u001b[1;34m'A'\u001b[0m\u001b[1;33m,\u001b[0m \u001b[1;36m6\u001b[0m\u001b[1;33m)\u001b[0m\u001b[1;33m\u001b[0m\u001b[1;33m\u001b[0m\u001b[0m\n\u001b[0m",
      "\u001b[1;31mValueError\u001b[0m: tuple.index(x): x not in tuple"
     ]
    }
   ],
   "source": [
    "result.index('A', 6)    #index 6에서부터 'A'를 찾는다. "
   ]
  },
  {
   "cell_type": "code",
   "execution_count": 216,
   "id": "036aac3c",
   "metadata": {
    "ExecuteTime": {
     "end_time": "2022-12-21T03:38:21.669633Z",
     "start_time": "2022-12-21T03:38:21.645697Z"
    }
   },
   "outputs": [
    {
     "data": {
      "text/plain": [
       "4"
      ]
     },
     "execution_count": 216,
     "metadata": {},
     "output_type": "execute_result"
    }
   ],
   "source": [
    "t = (1,1,2,3,3,2,2,2)\n",
    "t.count(2)                     #count : 2가 몇개 있는지 확인!!"
   ]
  },
  {
   "cell_type": "markdown",
   "id": "e6c196f5",
   "metadata": {
    "slideshow": {
     "slide_type": "slide"
    }
   },
   "source": [
    "# Dictionary\n",
    "- 값을 키(key)-값(value) 쌍으로 묶어서 저장하는 자료구조이다.\n",
    "    - 리스트나 튜플의 index의 역할을 하는 key를 직접 지정한다.\n",
    "    - 서로 의미가 다른 값들을 하나로 묶을 때 그 값의 의미를 key로 가질 수 있는 dictionary를 사용한다.\n",
    "        - cf) 값의 의미가 같을 경우 List나 Tuple을 사용한다.\n",
    "    - key-value 쌍으로 묶은 데이터 한개를 **item 또는 entry**라고 한다.\n",
    "    \n",
    "## Dictionary 생성\n",
    "- 구문\n",
    "    1. `{ 키 : 값, 키 : 값, 키 : 값 }`\n",
    "    2. dict(key=value, key=value) 함수 이용\n",
    "    - 키(key)는 불변(Immutable)의 값들만 사용 가능하다. (숫자, 문자열, 튜플) 일반적으로 문자열을 사용한다.\n",
    "    - dict() 함수를 사용할 경우 key는 변수로 정의한다"
   ]
  },
  {
   "cell_type": "code",
   "execution_count": null,
   "id": "d9d37f28",
   "metadata": {
    "slideshow": {
     "slide_type": "fragment"
    }
   },
   "outputs": [],
   "source": [
    "# key=value  --> 이 형태를 item(PYTHON) 혹은 entry(JAVA)라고 명칭한다. \n",
    "# Dictionary {  :  } / List [ ] / Tuple (  )"
   ]
  },
  {
   "cell_type": "code",
   "execution_count": 228,
   "id": "eacb7d19",
   "metadata": {
    "ExecuteTime": {
     "end_time": "2022-12-21T05:31:37.525231Z",
     "start_time": "2022-12-21T05:31:37.506279Z"
    }
   },
   "outputs": [
    {
     "ename": "SyntaxError",
     "evalue": "invalid syntax (1800937067.py, line 10)",
     "output_type": "error",
     "traceback": [
      "\u001b[1;36m  File \u001b[1;32m\"C:\\Users\\Playdata\\AppData\\Local\\Temp\\ipykernel_3460\\1800937067.py\"\u001b[1;36m, line \u001b[1;32m10\u001b[0m\n\u001b[1;33m    customer_1 = ['이름' : '홍길동',\u001b[0m\n\u001b[1;37m                       ^\u001b[0m\n\u001b[1;31mSyntaxError\u001b[0m\u001b[1;31m:\u001b[0m invalid syntax\n"
     ]
    }
   ],
   "source": [
    "#fruit_count = [10, 20, 50, 70, 90, 5]\n",
    "#fruit_count[0]\n",
    "\n",
    "fruit_count = {\"사과\":10, \"귤\":20, \"배\":15, \"복숭아\":70, \"수박\":7}\n",
    "\n",
    "# 한 사람의 고객정보: 이름, 나이, 주소, 직업\n",
    "#customer_1 = [\"홍길동\", \"20\", \"서울\", \"학생\"]\n",
    "#customer_1[0]\n",
    "\n",
    "customer_1 = ['이름' : '홍길동', \n",
    "              '나이' : 20,\n",
    "              '주소' : '서울',\n",
    "              '직업' : '학생']\n",
    "\n",
    "print(fruit_counts)\n",
    "print(\"-\"20)\n",
    "print(customer_1)"
   ]
  },
  {
   "cell_type": "code",
   "execution_count": 221,
   "id": "0b7942d1",
   "metadata": {
    "ExecuteTime": {
     "end_time": "2022-12-21T05:25:54.950103Z",
     "start_time": "2022-12-21T05:25:54.936140Z"
    }
   },
   "outputs": [
    {
     "name": "stdout",
     "output_type": "stream",
     "text": [
      "{'name': '홍길동', 'nickname': '홍길동'}\n"
     ]
    }
   ],
   "source": [
    "#key는 중복을 허용안함. value는 중복을 허용\n",
    "d = {\"name\": \"홍길동\", \"nickname\": \"홍길동\"}\n",
    "print(d)"
   ]
  },
  {
   "cell_type": "code",
   "execution_count": 222,
   "id": "5e67725a",
   "metadata": {
    "ExecuteTime": {
     "end_time": "2022-12-21T05:26:44.847615Z",
     "start_time": "2022-12-21T05:26:44.835648Z"
    }
   },
   "outputs": [
    {
     "name": "stdout",
     "output_type": "stream",
     "text": [
      "{'name': '유관순'}\n"
     ]
    }
   ],
   "source": [
    "d2 = {\"name\": \"홍길동\",\"name\": \"이순신\",\"name\": \"유관순\"}\n",
    "print(d2)"
   ]
  },
  {
   "cell_type": "code",
   "execution_count": 224,
   "id": "29c30b97",
   "metadata": {
    "ExecuteTime": {
     "end_time": "2022-12-21T05:28:08.605675Z",
     "start_time": "2022-12-21T05:28:08.584732Z"
    }
   },
   "outputs": [
    {
     "name": "stdout",
     "output_type": "stream",
     "text": [
      "{'name': '홍길동', 'age': 30, 'address': '부산'}\n"
     ]
    }
   ],
   "source": [
    "customer2 = dict(name= \"홍길동\", age=30, address=\"부산\")\n",
    "print(customer2)"
   ]
  },
  {
   "cell_type": "markdown",
   "id": "f8c87bd3",
   "metadata": {
    "slideshow": {
     "slide_type": "subslide"
    }
   },
   "source": [
    "## Dictionary 원소 조회 및 변경\n",
    "- 조회: index에 key값을 식별자로 지정한다.\n",
    "    - dictionary\\[ key \\]\n",
    "    - 없는 키로 조회 시 KeyError 발생\n",
    "- 변경\n",
    "    - dictionary\\[ key \\] = 값\n",
    "    - 있는 key값에 값을 대입하면 변경이고 없는 key 일 경우는 새로운 item을 추가하는 것이다."
   ]
  },
  {
   "cell_type": "code",
   "execution_count": 230,
   "id": "459db630",
   "metadata": {
    "ExecuteTime": {
     "end_time": "2022-12-21T05:31:51.525597Z",
     "start_time": "2022-12-21T05:31:51.505608Z"
    },
    "slideshow": {
     "slide_type": "fragment"
    }
   },
   "outputs": [
    {
     "ename": "NameError",
     "evalue": "name 'customer' is not defined",
     "output_type": "error",
     "traceback": [
      "\u001b[1;31m---------------------------------------------------------------------------\u001b[0m",
      "\u001b[1;31mNameError\u001b[0m                                 Traceback (most recent call last)",
      "\u001b[1;32m~\\AppData\\Local\\Temp\\ipykernel_3460\\2050980761.py\u001b[0m in \u001b[0;36m<module>\u001b[1;34m\u001b[0m\n\u001b[1;32m----> 1\u001b[1;33m \u001b[0mcustomer\u001b[0m\u001b[1;33m\u001b[0m\u001b[1;33m\u001b[0m\u001b[0m\n\u001b[0m",
      "\u001b[1;31mNameError\u001b[0m: name 'customer' is not defined"
     ]
    }
   ],
   "source": [
    "##### 여기 부분은 선생님 것으로 다시....#\n",
    "#customer 다시 정의해야함."
   ]
  },
  {
   "cell_type": "markdown",
   "id": "d5aade1e",
   "metadata": {
    "slideshow": {
     "slide_type": "slide"
    }
   },
   "source": [
    "## Dictionary 연산자\n",
    "\n",
    "- in, not in 연산자\n",
    "    - 값 in dictionary\n",
    "        - dictionary의 **Key**로 값이 **있으면** True, 없으면 False 반환\n",
    "    - 값 not in tuple\n",
    "        - dictionary의 **Key**로 값이 **없으면** True, 있으면 False 반환    \n",
    "- len(dictionary)\n",
    "    - dictionary의 **Item의 개수** 반환        "
   ]
  },
  {
   "cell_type": "code",
   "execution_count": 10,
   "id": "0f2647c6",
   "metadata": {
    "ExecuteTime": {
     "end_time": "2022-12-25T02:45:31.993355Z",
     "start_time": "2022-12-25T02:45:31.977788Z"
    },
    "slideshow": {
     "slide_type": "fragment"
    }
   },
   "outputs": [
    {
     "name": "stdout",
     "output_type": "stream",
     "text": [
      "{'name': '홍길동', 'age': 30, 'address': '부산'}\n"
     ]
    }
   ],
   "source": [
    "customer = {'name': '홍길동', 'age': 30, 'address': '부산'}\n",
    "print(customer)"
   ]
  },
  {
   "cell_type": "code",
   "execution_count": 234,
   "id": "22affe2c",
   "metadata": {
    "ExecuteTime": {
     "end_time": "2022-12-21T05:38:33.336322Z",
     "start_time": "2022-12-21T05:38:33.314758Z"
    }
   },
   "outputs": [
    {
     "data": {
      "text/plain": [
       "False"
      ]
     },
     "execution_count": 234,
     "metadata": {},
     "output_type": "execute_result"
    }
   ],
   "source": [
    "\"나이\" in customer   #딕셔너리에 나이 키가 있는지 여부"
   ]
  },
  {
   "cell_type": "code",
   "execution_count": 235,
   "id": "d5950b89",
   "metadata": {
    "ExecuteTime": {
     "end_time": "2022-12-21T05:39:05.760361Z",
     "start_time": "2022-12-21T05:39:05.739453Z"
    }
   },
   "outputs": [
    {
     "data": {
      "text/plain": [
       "True"
      ]
     },
     "execution_count": 235,
     "metadata": {},
     "output_type": "execute_result"
    }
   ],
   "source": [
    "\"나이\" not in customer   #딕셔너리에 나이 키가 없는지 여부"
   ]
  },
  {
   "cell_type": "code",
   "execution_count": 236,
   "id": "272c395d",
   "metadata": {
    "ExecuteTime": {
     "end_time": "2022-12-21T05:39:41.258187Z",
     "start_time": "2022-12-21T05:39:41.251206Z"
    },
    "scrolled": true
   },
   "outputs": [
    {
     "data": {
      "text/plain": [
       "False"
      ]
     },
     "execution_count": 236,
     "metadata": {},
     "output_type": "execute_result"
    }
   ],
   "source": [
    "10 in customer    #10이란 key가 있는가?"
   ]
  },
  {
   "cell_type": "code",
   "execution_count": 237,
   "id": "0cc72d20",
   "metadata": {
    "ExecuteTime": {
     "end_time": "2022-12-21T05:40:05.596215Z",
     "start_time": "2022-12-21T05:40:05.588237Z"
    }
   },
   "outputs": [
    {
     "data": {
      "text/plain": [
       "3"
      ]
     },
     "execution_count": 237,
     "metadata": {},
     "output_type": "execute_result"
    }
   ],
   "source": [
    "len(customer)"
   ]
  },
  {
   "cell_type": "code",
   "execution_count": null,
   "id": "424bb84c",
   "metadata": {},
   "outputs": [],
   "source": []
  },
  {
   "cell_type": "markdown",
   "id": "9f620ec1",
   "metadata": {
    "slideshow": {
     "slide_type": "slide"
    }
   },
   "source": [
    "## Dictionary 주요 메소드\n",
    "\n",
    "|메소드|설명|\n",
    "|:-|-|\n",
    "|get(key\\[, 기본값\\])|key의 item의 값을 반환한다. 단 key가 없을 경우 None또는 기본값을 반환한다.|\n",
    "|pop(key)|key의 item의 값을 반환하면서 dictionary에서 삭제한다. 없는 key일 경우 KeyError발생|\n",
    "|clear()|dictionary의 모든 item들을 삭제한다.|\n",
    "|del dict\\[key\\]|key의 item을 제거한다.|\n",
    "|items()|item의 key, value를 튜플로 묶어 모아 반환한다.|\n",
    "|keys()|key값들만 모아 반환한다.|\n",
    "|values()|values값들만 모아 반환한다.|"
   ]
  },
  {
   "cell_type": "code",
   "execution_count": 238,
   "id": "350e7ad5",
   "metadata": {
    "ExecuteTime": {
     "end_time": "2022-12-21T05:45:40.045999Z",
     "start_time": "2022-12-21T05:45:40.037024Z"
    },
    "slideshow": {
     "slide_type": "fragment"
    }
   },
   "outputs": [
    {
     "name": "stdout",
     "output_type": "stream",
     "text": [
      "None\n"
     ]
    }
   ],
   "source": [
    "#customer\n",
    "v= customer.get('키')\n",
    "print(v)"
   ]
  },
  {
   "cell_type": "code",
   "execution_count": 243,
   "id": "d0e65536",
   "metadata": {
    "ExecuteTime": {
     "end_time": "2022-12-21T05:46:37.831446Z",
     "start_time": "2022-12-21T05:46:37.822504Z"
    }
   },
   "outputs": [
    {
     "name": "stdout",
     "output_type": "stream",
     "text": [
      "None\n"
     ]
    }
   ],
   "source": [
    "v= customer.get('몸무게')\n",
    "print(v)"
   ]
  },
  {
   "cell_type": "code",
   "execution_count": 244,
   "id": "40dfff5e",
   "metadata": {
    "ExecuteTime": {
     "end_time": "2022-12-21T05:47:07.477890Z",
     "start_time": "2022-12-21T05:47:07.458944Z"
    }
   },
   "outputs": [
    {
     "name": "stdout",
     "output_type": "stream",
     "text": [
      "키는 수집 못함\n"
     ]
    }
   ],
   "source": [
    "v= customer.get('키','키는 수집 못함')   #요청하는 '키' 값이 없다면 '키는 수집 못함'이라는 문구를 프린트하라.\n",
    "print(v)"
   ]
  },
  {
   "cell_type": "code",
   "execution_count": 246,
   "id": "3b7093ea",
   "metadata": {
    "ExecuteTime": {
     "end_time": "2022-12-21T05:47:56.704189Z",
     "start_time": "2022-12-21T05:47:56.684240Z"
    },
    "scrolled": true
   },
   "outputs": [
    {
     "name": "stdout",
     "output_type": "stream",
     "text": [
      "부산\n"
     ]
    }
   ],
   "source": [
    "v= customer.get('address', 'address 수집 못함')   #요청하는 키값이 있으면 출력하고, 없으면 다음 문구를 출력하라.\n",
    "print(v)"
   ]
  },
  {
   "cell_type": "code",
   "execution_count": null,
   "id": "837b304e",
   "metadata": {},
   "outputs": [],
   "source": [
    "##pop & del의 차이점## 이 부분은 선생님 것으로 다시 공부"
   ]
  },
  {
   "cell_type": "code",
   "execution_count": 248,
   "id": "4fcf900a",
   "metadata": {
    "ExecuteTime": {
     "end_time": "2022-12-21T05:50:28.035155Z",
     "start_time": "2022-12-21T05:50:28.019529Z"
    }
   },
   "outputs": [
    {
     "data": {
      "text/plain": [
       "dict_items([('name', '홍길동'), ('age', 30), ('address', '부산')])"
      ]
     },
     "execution_count": 248,
     "metadata": {},
     "output_type": "execute_result"
    }
   ],
   "source": [
    "customer.items()     #딕셔너리용 아이템스"
   ]
  },
  {
   "cell_type": "code",
   "execution_count": 249,
   "id": "6e2f9e36",
   "metadata": {
    "ExecuteTime": {
     "end_time": "2022-12-21T05:51:22.717809Z",
     "start_time": "2022-12-21T05:51:22.706804Z"
    }
   },
   "outputs": [
    {
     "data": {
      "text/plain": [
       "dict_keys(['name', 'age', 'address'])"
      ]
     },
     "execution_count": 249,
     "metadata": {},
     "output_type": "execute_result"
    }
   ],
   "source": [
    "customer.keys()"
   ]
  },
  {
   "cell_type": "code",
   "execution_count": 250,
   "id": "68a14eda",
   "metadata": {
    "ExecuteTime": {
     "end_time": "2022-12-21T05:51:30.709711Z",
     "start_time": "2022-12-21T05:51:30.693749Z"
    }
   },
   "outputs": [
    {
     "data": {
      "text/plain": [
       "dict_values(['홍길동', 30, '부산'])"
      ]
     },
     "execution_count": 250,
     "metadata": {},
     "output_type": "execute_result"
    }
   ],
   "source": [
    "customer.values()"
   ]
  },
  {
   "cell_type": "code",
   "execution_count": null,
   "id": "86f0b28f",
   "metadata": {},
   "outputs": [],
   "source": []
  },
  {
   "cell_type": "code",
   "execution_count": null,
   "id": "82a349c0",
   "metadata": {},
   "outputs": [],
   "source": []
  },
  {
   "cell_type": "markdown",
   "id": "d97869af",
   "metadata": {
    "slideshow": {
     "slide_type": "slide"
    }
   },
   "source": [
    "# Set \n",
    "\n",
    "- Set은 중복되는 값을 허용하지 않고 순서를 신경 쓰지 않는다.\n",
    "    - 원소를 식별할 수 있는 식별자가 없기 때문에 Set은 indexing과 slicing을 지원하지 않는다\n",
    "\n",
    "## Set 생성\n",
    "- 구문\n",
    "    - {값, 값, 값 }\n",
    "\n",
    "> -빈 Dictionary 만들기\n",
    ">    - info = {}\n",
    ">    - 중괄호만 사용하면 빈 set이 아니라 빈 dictionary를 생성하는 것임.\n"
   ]
  },
  {
   "cell_type": "code",
   "execution_count": 268,
   "id": "5c88480a",
   "metadata": {
    "ExecuteTime": {
     "end_time": "2022-12-21T06:19:54.758761Z",
     "start_time": "2022-12-21T06:19:54.727839Z"
    },
    "slideshow": {
     "slide_type": "fragment"
    }
   },
   "outputs": [
    {
     "name": "stdout",
     "output_type": "stream",
     "text": [
      "{1, 2, 3, 4}\n"
     ]
    }
   ],
   "source": [
    "s = {1,2,3,4}\n",
    "print(s)"
   ]
  },
  {
   "cell_type": "code",
   "execution_count": 270,
   "id": "bec08318",
   "metadata": {
    "ExecuteTime": {
     "end_time": "2022-12-21T06:20:47.016057Z",
     "start_time": "2022-12-21T06:20:47.002062Z"
    }
   },
   "outputs": [
    {
     "data": {
      "text/plain": [
       "{1, 2, 3, 4, 5, 6, 7, 8}"
      ]
     },
     "execution_count": 270,
     "metadata": {},
     "output_type": "execute_result"
    }
   ],
   "source": [
    "s2 = {1,1,1,2,2,2,3,3,3,3,4,4,4,5,5,6,6,6,7,7,7,7,8,8,8,}  ## 중복을 절대 허용하지 않는다.\n",
    "s2"
   ]
  },
  {
   "cell_type": "code",
   "execution_count": 271,
   "id": "7929bb3d",
   "metadata": {
    "ExecuteTime": {
     "end_time": "2022-12-21T06:22:13.723003Z",
     "start_time": "2022-12-21T06:22:13.701099Z"
    }
   },
   "outputs": [
    {
     "ename": "TypeError",
     "evalue": "'set' object is not subscriptable",
     "output_type": "error",
     "traceback": [
      "\u001b[1;31m---------------------------------------------------------------------------\u001b[0m",
      "\u001b[1;31mTypeError\u001b[0m                                 Traceback (most recent call last)",
      "\u001b[1;32m~\\AppData\\Local\\Temp\\ipykernel_3460\\2344841457.py\u001b[0m in \u001b[0;36m<module>\u001b[1;34m\u001b[0m\n\u001b[1;32m----> 1\u001b[1;33m \u001b[0ms2\u001b[0m\u001b[1;33m[\u001b[0m\u001b[1;36m0\u001b[0m\u001b[1;33m]\u001b[0m\u001b[1;33m\u001b[0m\u001b[1;33m\u001b[0m\u001b[0m\n\u001b[0m",
      "\u001b[1;31mTypeError\u001b[0m: 'set' object is not subscriptable"
     ]
    }
   ],
   "source": [
    "s2[0]    #set은 개별 원소를 조회할수 없다. // 'set' object is not subscriptable"
   ]
  },
  {
   "cell_type": "markdown",
   "id": "79cf0f20",
   "metadata": {
    "slideshow": {
     "slide_type": "slide"
    }
   },
   "source": [
    "## Set 연산자\n",
    "\n",
    "- in, not in 연산자\n",
    "    - 값 in Set\n",
    "        - Set의 원소로 값이 **있으면** True, 없으면 False 반환\n",
    "    - 값 not in Set\n",
    "        - Set의 원소로 값이 **없으면** True, 있으면 False 반환    \n",
    "- len(Set)\n",
    "    - Set의 **원소의 개수** 반환        "
   ]
  },
  {
   "cell_type": "code",
   "execution_count": 274,
   "id": "80be18ad",
   "metadata": {
    "ExecuteTime": {
     "end_time": "2022-12-21T06:26:06.505735Z",
     "start_time": "2022-12-21T06:26:06.484832Z"
    },
    "slideshow": {
     "slide_type": "fragment"
    }
   },
   "outputs": [
    {
     "data": {
      "text/plain": [
       "False"
      ]
     },
     "execution_count": 274,
     "metadata": {},
     "output_type": "execute_result"
    }
   ],
   "source": [
    "10 in s2    #s2에 10이 있는지 여부\n",
    "10 not in s2\n",
    "2 in s2\n",
    "2 not in s2"
   ]
  },
  {
   "cell_type": "code",
   "execution_count": 275,
   "id": "d7ca44ef",
   "metadata": {
    "ExecuteTime": {
     "end_time": "2022-12-21T06:26:21.473268Z",
     "start_time": "2022-12-21T06:26:21.458783Z"
    }
   },
   "outputs": [
    {
     "data": {
      "text/plain": [
       "{1, 2, 3, 4, 5, 6, 7, 8}"
      ]
     },
     "execution_count": 275,
     "metadata": {},
     "output_type": "execute_result"
    }
   ],
   "source": [
    "s2"
   ]
  },
  {
   "cell_type": "code",
   "execution_count": 276,
   "id": "eabcabe7",
   "metadata": {
    "ExecuteTime": {
     "end_time": "2022-12-21T06:26:30.771716Z",
     "start_time": "2022-12-21T06:26:30.760746Z"
    }
   },
   "outputs": [
    {
     "data": {
      "text/plain": [
       "8"
      ]
     },
     "execution_count": 276,
     "metadata": {},
     "output_type": "execute_result"
    }
   ],
   "source": [
    "len(s2)"
   ]
  },
  {
   "cell_type": "markdown",
   "id": "080c2a17",
   "metadata": {
    "slideshow": {
     "slide_type": "slide"
    }
   },
   "source": [
    "## Set의 주요 메소드\n",
    "\n",
    "|메소드|설명|\n",
    "|-|-|\n",
    "|add(값)|집합에 값 추가|\n",
    "|update(자료구조)|자료구조내의 원소들을 모두 집합에 추가|\n",
    "|pop()|마지막 원소를 반환하고 Set에서 삭제한다.|\n",
    "|remove(값)|값을 찾아서 Set에서 삭제한다.|"
   ]
  },
  {
   "cell_type": "code",
   "execution_count": 277,
   "id": "b12f08b0",
   "metadata": {
    "ExecuteTime": {
     "end_time": "2022-12-21T06:28:49.521802Z",
     "start_time": "2022-12-21T06:28:49.511828Z"
    },
    "slideshow": {
     "slide_type": "fragment"
    }
   },
   "outputs": [
    {
     "data": {
      "text/plain": [
       "{1, 2, 3, 4, 5, 6, 7, 8}"
      ]
     },
     "execution_count": 277,
     "metadata": {},
     "output_type": "execute_result"
    }
   ],
   "source": [
    "s2"
   ]
  },
  {
   "cell_type": "code",
   "execution_count": 279,
   "id": "c9f595a8",
   "metadata": {
    "ExecuteTime": {
     "end_time": "2022-12-21T06:29:05.229004Z",
     "start_time": "2022-12-21T06:29:05.221060Z"
    }
   },
   "outputs": [
    {
     "name": "stdout",
     "output_type": "stream",
     "text": [
      "{1, 2, 3, 4, 5, 6, 7, 8, 10}\n"
     ]
    }
   ],
   "source": [
    "s2.add(10)\n",
    "print(s2)"
   ]
  },
  {
   "cell_type": "code",
   "execution_count": 280,
   "id": "eff9ec47",
   "metadata": {
    "ExecuteTime": {
     "end_time": "2022-12-21T06:29:24.141237Z",
     "start_time": "2022-12-21T06:29:24.125616Z"
    }
   },
   "outputs": [
    {
     "name": "stdout",
     "output_type": "stream",
     "text": [
      "{1, 2, 3, 4, 5, 6, 7, 8, 10, -20}\n"
     ]
    }
   ],
   "source": [
    "s2.add(-20)\n",
    "print(s2)"
   ]
  },
  {
   "cell_type": "code",
   "execution_count": 282,
   "id": "71636b0f",
   "metadata": {
    "ExecuteTime": {
     "end_time": "2022-12-21T06:29:57.992635Z",
     "start_time": "2022-12-21T06:29:57.986650Z"
    }
   },
   "outputs": [
    {
     "name": "stdout",
     "output_type": "stream",
     "text": [
      "{1, 2, 3, 4, 5, 6, 7, 8, 10, -20}\n"
     ]
    }
   ],
   "source": [
    "s2.add(-20)\n",
    "print(s2)      #중복 추가는 안된다."
   ]
  },
  {
   "cell_type": "code",
   "execution_count": 284,
   "id": "e3e7da17",
   "metadata": {
    "ExecuteTime": {
     "end_time": "2022-12-21T06:31:44.548551Z",
     "start_time": "2022-12-21T06:31:44.532994Z"
    }
   },
   "outputs": [
    {
     "name": "stdout",
     "output_type": "stream",
     "text": [
      "{1, 2, 3, 4, 5, 6, 7, 8, 'a', 10, -20, 'b'}\n"
     ]
    }
   ],
   "source": [
    "s2.update({'a':100, \"b\": 200})\n",
    "print(s2)"
   ]
  },
  {
   "cell_type": "code",
   "execution_count": 286,
   "id": "fb9b1104",
   "metadata": {
    "ExecuteTime": {
     "end_time": "2022-12-21T06:32:28.127227Z",
     "start_time": "2022-12-21T06:32:28.107286Z"
    }
   },
   "outputs": [
    {
     "name": "stdout",
     "output_type": "stream",
     "text": [
      "1\n",
      "{2, 3, 4, 5, 6, 7, 8, 'a', 10, -20, 'b'}\n"
     ]
    }
   ],
   "source": [
    "v= s2.pop()\n",
    "print(v)\n",
    "print(s2)"
   ]
  },
  {
   "cell_type": "code",
   "execution_count": 287,
   "id": "1adcef55",
   "metadata": {
    "ExecuteTime": {
     "end_time": "2022-12-21T06:33:15.011900Z",
     "start_time": "2022-12-21T06:33:15.004921Z"
    }
   },
   "outputs": [
    {
     "name": "stdout",
     "output_type": "stream",
     "text": [
      "{2, 3, 4, 5, 6, 8, 'a', 10, -20, 'b'}\n"
     ]
    }
   ],
   "source": [
    "s2.remove(7)\n",
    "print(s2)"
   ]
  },
  {
   "cell_type": "markdown",
   "id": "33d115cd",
   "metadata": {
    "slideshow": {
     "slide_type": "subslide"
    }
   },
   "source": [
    "## Set의 집합연산 연산자 및 메소드\n",
    "\n",
    "- 합집합\n",
    "    - 집합A | 집합B\n",
    "    - 집합A.union(집합B)\n",
    "- 교집합\n",
    "    - 집합A & 집합B\n",
    "    - 집합A.intersection(집합B)\n",
    "- 차집합\n",
    "    - 집합A - 집합B\n",
    "    - 집합A.difference(집합B)"
   ]
  },
  {
   "cell_type": "code",
   "execution_count": null,
   "id": "64bf5839",
   "metadata": {
    "slideshow": {
     "slide_type": "fragment"
    }
   },
   "outputs": [],
   "source": [
    "# 합집합: 전체 // 교집합: 공통분모 // 차집합: 교집합 외에 부분"
   ]
  },
  {
   "cell_type": "code",
   "execution_count": 289,
   "id": "b826478a",
   "metadata": {
    "ExecuteTime": {
     "end_time": "2022-12-21T06:37:16.049675Z",
     "start_time": "2022-12-21T06:37:16.027697Z"
    }
   },
   "outputs": [
    {
     "name": "stdout",
     "output_type": "stream",
     "text": [
      "{1, 2, 3, 4, 5}\n",
      "{3, 4, 5, 6, 7}\n",
      "{1, 2, 3, 4, 5, 6, 7}\n"
     ]
    }
   ],
   "source": [
    "s1 = {1,2,3,4,5}\n",
    "s2 = {3,4,5,6,7}\n",
    "\n",
    "s3 = s1 | s2   #합집합!\n",
    "print(s1)\n",
    "print(s2)\n",
    "print(s3)"
   ]
  },
  {
   "cell_type": "code",
   "execution_count": 290,
   "id": "e621d25e",
   "metadata": {
    "ExecuteTime": {
     "end_time": "2022-12-21T06:37:57.653511Z",
     "start_time": "2022-12-21T06:37:57.640544Z"
    }
   },
   "outputs": [
    {
     "name": "stdout",
     "output_type": "stream",
     "text": [
      "{1, 2, 3, 4, 5, 6, 7}\n"
     ]
    }
   ],
   "source": [
    "print(s1.union(s2)) "
   ]
  },
  {
   "cell_type": "code",
   "execution_count": 291,
   "id": "a4931110",
   "metadata": {
    "ExecuteTime": {
     "end_time": "2022-12-21T06:38:23.990499Z",
     "start_time": "2022-12-21T06:38:23.977567Z"
    }
   },
   "outputs": [
    {
     "name": "stdout",
     "output_type": "stream",
     "text": [
      "{3, 4, 5}\n"
     ]
    }
   ],
   "source": [
    "###교집합 #####\n",
    "s4 = s1 & s2\n",
    "print(s4)"
   ]
  },
  {
   "cell_type": "code",
   "execution_count": 294,
   "id": "4e686c7d",
   "metadata": {
    "ExecuteTime": {
     "end_time": "2022-12-21T06:38:59.554273Z",
     "start_time": "2022-12-21T06:38:59.538610Z"
    }
   },
   "outputs": [
    {
     "name": "stdout",
     "output_type": "stream",
     "text": [
      "{3, 4, 5}\n"
     ]
    }
   ],
   "source": [
    "print(s1.intersection(s2))"
   ]
  },
  {
   "cell_type": "code",
   "execution_count": 295,
   "id": "f5fb262e",
   "metadata": {
    "ExecuteTime": {
     "end_time": "2022-12-21T06:39:20.722606Z",
     "start_time": "2022-12-21T06:39:20.714627Z"
    }
   },
   "outputs": [
    {
     "name": "stdout",
     "output_type": "stream",
     "text": [
      "{1, 2}\n"
     ]
    }
   ],
   "source": [
    "###차집합###\n",
    "print(s1 -s2)"
   ]
  },
  {
   "cell_type": "code",
   "execution_count": 296,
   "id": "72c99035",
   "metadata": {
    "ExecuteTime": {
     "end_time": "2022-12-21T06:39:35.244525Z",
     "start_time": "2022-12-21T06:39:35.227532Z"
    }
   },
   "outputs": [
    {
     "name": "stdout",
     "output_type": "stream",
     "text": [
      "{1, 2}\n"
     ]
    }
   ],
   "source": [
    "print(s1.difference(s2))"
   ]
  },
  {
   "cell_type": "markdown",
   "id": "a3778f41",
   "metadata": {
    "slideshow": {
     "slide_type": "slide"
    }
   },
   "source": [
    "# 자료구조 변환 함수\n",
    "\n",
    "- list(자료구조)\n",
    "    - 대상 자료구조/Iterable을 List로 변환한다.\n",
    "- tuple(자료구조)\n",
    "    - 대상 자료구조/Iterable을 Tuple로 변환\n",
    "- set(자료구조)\n",
    "    - 대상 자료구조/Iterable을 Set으로 변환\n",
    "    - 다른 자료구조의 원소 중 중복을 빼고 조회할 때 set()를 이용해 Set으로 변환한다.\n",
    "- Dictionary로 변환하는 함수는 없다.\n",
    "- 변경할 대상이 Dictionary 일 경우에는 key값들만 모아서 변환한다.\n",
    "\n",
    "> - Iterable\n",
    ">    - 반복가능한 객체. 반복문(for in)을 이용해 일련의 값들을 반복적으로 각각 제공하는 객체를 말한다. \n",
    ">    - 대표적으로 자료구조, 문자열 등이 있다."
   ]
  },
  {
   "cell_type": "code",
   "execution_count": 299,
   "id": "07fd6373",
   "metadata": {
    "ExecuteTime": {
     "end_time": "2022-12-21T06:46:36.245597Z",
     "start_time": "2022-12-21T06:46:36.236621Z"
    },
    "slideshow": {
     "slide_type": "fragment"
    }
   },
   "outputs": [
    {
     "name": "stdout",
     "output_type": "stream",
     "text": [
      "{1, 2, 3, 4, 5, 6, 7, 8, 9}\n"
     ]
    }
   ],
   "source": [
    "l = [1,2,2,2,3,4,5,6,6,6,7,8,8,8,9]\n",
    "고유값 = set(l)\n",
    "print(고유값)"
   ]
  },
  {
   "cell_type": "code",
   "execution_count": 300,
   "id": "207f1320",
   "metadata": {
    "ExecuteTime": {
     "end_time": "2022-12-21T06:46:57.670560Z",
     "start_time": "2022-12-21T06:46:57.660625Z"
    }
   },
   "outputs": [
    {
     "name": "stdout",
     "output_type": "stream",
     "text": [
      "{1, 2, 3}\n"
     ]
    }
   ],
   "source": [
    "t = (1,1,1,1,1,1,2,2,2,2,2,3,3,3,3,3)\n",
    "print(set(t))"
   ]
  },
  {
   "cell_type": "code",
   "execution_count": 301,
   "id": "407e894e",
   "metadata": {
    "ExecuteTime": {
     "end_time": "2022-12-21T06:47:48.604971Z",
     "start_time": "2022-12-21T06:47:48.585026Z"
    }
   },
   "outputs": [
    {
     "name": "stdout",
     "output_type": "stream",
     "text": [
      "{'C', 'B', 'A'}\n"
     ]
    }
   ],
   "source": [
    "d = {'A':1, 'B': 2, 'C':3 }\n",
    "print(set(d))                        #key 값만 받음\n"
   ]
  },
  {
   "cell_type": "code",
   "execution_count": 302,
   "id": "9710a9da",
   "metadata": {
    "ExecuteTime": {
     "end_time": "2022-12-21T06:49:31.178210Z",
     "start_time": "2022-12-21T06:49:31.159261Z"
    }
   },
   "outputs": [
    {
     "data": {
      "text/plain": [
       "(1, 2, 30)"
      ]
     },
     "execution_count": 302,
     "metadata": {},
     "output_type": "execute_result"
    }
   ],
   "source": [
    "t = (1,2,3)    # 3-->30으로 바꾸고 싶다\n",
    "l = list(t)\n",
    "l[2] = 30\n",
    "t = tuple(l)\n",
    "t\n"
   ]
  },
  {
   "cell_type": "code",
   "execution_count": 305,
   "id": "85a303e9",
   "metadata": {
    "ExecuteTime": {
     "end_time": "2022-12-21T06:51:08.057498Z",
     "start_time": "2022-12-21T06:51:08.043500Z"
    }
   },
   "outputs": [
    {
     "data": {
      "text/plain": [
       "['a',\n",
       " 'b',\n",
       " 'c',\n",
       " 'd',\n",
       " 'e',\n",
       " 'f',\n",
       " 'g',\n",
       " '가',\n",
       " '나',\n",
       " '다',\n",
       " '마',\n",
       " '바',\n",
       " '1',\n",
       " '2',\n",
       " '3',\n",
       " '4',\n",
       " '5']"
      ]
     },
     "execution_count": 305,
     "metadata": {},
     "output_type": "execute_result"
    }
   ],
   "source": [
    "a = list(\"abcdefg가나다마바12345\")      ##문자열 --> 리스트\n",
    "a"
   ]
  },
  {
   "cell_type": "code",
   "execution_count": null,
   "id": "a74b8321",
   "metadata": {},
   "outputs": [],
   "source": []
  },
  {
   "cell_type": "markdown",
   "id": "b4671a5d",
   "metadata": {
    "slideshow": {
     "slide_type": "skip"
    }
   },
   "source": [
    "# TODO"
   ]
  },
  {
   "cell_type": "code",
   "execution_count": null,
   "id": "63644245",
   "metadata": {
    "slideshow": {
     "slide_type": "skip"
    }
   },
   "outputs": [],
   "source": [
    "# 문제 1 ~ 7\n",
    "jumsu = [100, 90, 100, 80, 70, 100, 80, 90, 95, 85] \n",
    "# 위 리스트는 학생번호 1번 ~ 10번까지 10명의 시험 점수이다. \n"
   ]
  },
  {
   "cell_type": "code",
   "execution_count": 357,
   "id": "55e12596",
   "metadata": {
    "ExecuteTime": {
     "end_time": "2022-12-21T08:03:52.005674Z",
     "start_time": "2022-12-21T08:03:51.998693Z"
    },
    "slideshow": {
     "slide_type": "skip"
    }
   },
   "outputs": [
    {
     "name": "stdout",
     "output_type": "stream",
     "text": [
      "80\n"
     ]
    }
   ],
   "source": [
    "#(1)  7번의 점수를 출력하세요 \n",
    "jumsu = [100, 90, 100, 80, 70, 100, 80, 90, 95, 85] \n",
    "print(jumsu[6])"
   ]
  },
  {
   "cell_type": "code",
   "execution_count": 358,
   "id": "0fbf125c",
   "metadata": {
    "ExecuteTime": {
     "end_time": "2022-12-21T08:03:59.752414Z",
     "start_time": "2022-12-21T08:03:59.736458Z"
    },
    "slideshow": {
     "slide_type": "skip"
    }
   },
   "outputs": [
    {
     "name": "stdout",
     "output_type": "stream",
     "text": [
      "[100, 90, 100, 80, 70]\n"
     ]
    }
   ],
   "source": [
    "#(2)  1번부터 5번까지의 점수를 출력하세요.\n",
    "print(jumsu[:5])"
   ]
  },
  {
   "cell_type": "code",
   "execution_count": 100,
   "id": "fa107464",
   "metadata": {
    "ExecuteTime": {
     "end_time": "2022-12-21T02:00:09.839025Z",
     "start_time": "2022-12-21T02:00:09.832048Z"
    },
    "slideshow": {
     "slide_type": "skip"
    }
   },
   "outputs": [
    {
     "data": {
      "text/plain": [
       "[80, 70, 100, 80]"
      ]
     },
     "execution_count": 100,
     "metadata": {},
     "output_type": "execute_result"
    }
   ],
   "source": [
    "#(3)  4, 5, 6, 7번의 점수를 출력하세요.\n",
    "jumsu[3:7]"
   ]
  },
  {
   "cell_type": "code",
   "execution_count": 359,
   "id": "491f90cc",
   "metadata": {
    "ExecuteTime": {
     "end_time": "2022-12-21T08:06:30.274444Z",
     "start_time": "2022-12-21T08:06:30.258785Z"
    },
    "slideshow": {
     "slide_type": "skip"
    }
   },
   "outputs": [
    {
     "data": {
      "text/plain": [
       "[90, 80, 100, 90, 85]"
      ]
     },
     "execution_count": 359,
     "metadata": {},
     "output_type": "execute_result"
    }
   ],
   "source": [
    "#(4) 짝수번째 점수를 출력하세요.\n",
    "jumsu[1::2]"
   ]
  },
  {
   "cell_type": "code",
   "execution_count": 360,
   "id": "9d83a3d9",
   "metadata": {
    "ExecuteTime": {
     "end_time": "2022-12-21T08:06:43.349997Z",
     "start_time": "2022-12-21T08:06:43.336996Z"
    },
    "slideshow": {
     "slide_type": "skip"
    }
   },
   "outputs": [
    {
     "data": {
      "text/plain": [
       "[100, 100, 70, 80, 95]"
      ]
     },
     "execution_count": 360,
     "metadata": {},
     "output_type": "execute_result"
    }
   ],
   "source": [
    "#(5) 홀수번째 점수를 출력하세요.\n",
    "jumsu[::2]"
   ]
  },
  {
   "cell_type": "code",
   "execution_count": 363,
   "id": "9b454052",
   "metadata": {
    "ExecuteTime": {
     "end_time": "2022-12-21T08:08:24.502745Z",
     "start_time": "2022-12-21T08:08:24.496797Z"
    },
    "scrolled": true,
    "slideshow": {
     "slide_type": "skip"
    }
   },
   "outputs": [
    {
     "name": "stdout",
     "output_type": "stream",
     "text": [
      "[100, 90, 100, 80, 70, 100, 80, 90, 20, 20, 85]\n",
      "[100, 90, 100, 80, 70, 100, 80, 90, 20, 20, 85]\n"
     ]
    }
   ],
   "source": [
    "#(6) 9번의 점수를 20으로 변경하고 전체 출력하세요.\n",
    "print(jumsu)\n",
    "jumsu[8] = 20\n",
    "print(jumsu)"
   ]
  },
  {
   "cell_type": "code",
   "execution_count": 364,
   "id": "caa17c43",
   "metadata": {
    "ExecuteTime": {
     "end_time": "2022-12-21T08:15:41.942819Z",
     "start_time": "2022-12-21T08:15:41.930854Z"
    }
   },
   "outputs": [
    {
     "name": "stdout",
     "output_type": "stream",
     "text": [
      "10 500\n"
     ]
    }
   ],
   "source": [
    "#immutable 한 값(string, 정수, 실수, 논리, 튜플)\n",
    "# 변수를 이용해서 다른 변수에 대입한 다음에 다른 변수에서 값을 바꿔도 원본은 안바뀐다. \n",
    "\n",
    "#Mutable한 값(리스트,셋,딕셔너리)\n",
    "#변수를 이용해서 다른 변수에 대입한 다음에 다른 변수에 값을 바꾸면 원본도 바뀐다. \n",
    "\n",
    "a=10\n",
    "b=a\n",
    "b=500\n",
    "print(a,b)"
   ]
  },
  {
   "cell_type": "code",
   "execution_count": 349,
   "id": "5747eab4",
   "metadata": {
    "ExecuteTime": {
     "end_time": "2022-12-21T07:47:40.079961Z",
     "start_time": "2022-12-21T07:47:40.059020Z"
    },
    "slideshow": {
     "slide_type": "skip"
    }
   },
   "outputs": [
    {
     "name": "stdout",
     "output_type": "stream",
     "text": [
      "{100, 70, 80, 85, 90, 95}\n"
     ]
    }
   ],
   "source": [
    "#(7) 중복된 점수는 제거하고 하나씩만 나오도록 출력하세요.\n",
    "jumsu1 = [100, 90, 100, 80, 70, 100, 80, 90, 95, 85] \n",
    "duplication=set(jumsu1)\n",
    "print(duplication)"
   ]
  },
  {
   "cell_type": "code",
   "execution_count": 365,
   "id": "f7756122",
   "metadata": {
    "ExecuteTime": {
     "end_time": "2022-12-21T08:21:54.562122Z",
     "start_time": "2022-12-21T08:21:54.546500Z"
    },
    "slideshow": {
     "slide_type": "skip"
    }
   },
   "outputs": [
    {
     "name": "stdout",
     "output_type": "stream",
     "text": [
      "['복숭아', '수박', '딸기']\n",
      "['복숭아', '수박', '딸기', '사과', '귤']\n"
     ]
    }
   ],
   "source": [
    "# 문제 8 ~ 9\n",
    "fruits = [\"복숭아\", \"수박\", \"딸기\"]\n",
    "\n",
    "#(8) fruits 리스트에 마지막 원소로 \"사과\", \"귤\"을 추가하세요.\n",
    "print(fruits)\n",
    "#fruits.append(\"사과\")\n",
    "#fruits.append(\"귤\")\n",
    "\n",
    "fruits.extend(['사과','귤'])\n",
    "print(fruits)"
   ]
  },
  {
   "cell_type": "code",
   "execution_count": null,
   "id": "bcdea877",
   "metadata": {},
   "outputs": [],
   "source": []
  },
  {
   "cell_type": "code",
   "execution_count": 370,
   "id": "bcce5a3b",
   "metadata": {
    "ExecuteTime": {
     "end_time": "2022-12-21T08:26:13.571573Z",
     "start_time": "2022-12-21T08:26:13.560640Z"
    },
    "scrolled": true,
    "slideshow": {
     "slide_type": "skip"
    }
   },
   "outputs": [
    {
     "name": "stdout",
     "output_type": "stream",
     "text": [
      "['수박', '딸기']\n"
     ]
    }
   ],
   "source": [
    "#(9) fruits 리스트에서 \"복숭아\"를 제거하세요.\n",
    "fruits = [\"복숭아\", \"수박\", \"딸기\"]\n",
    "fruits.remove(\"복숭아\")\n",
    "print(fruits)"
   ]
  },
  {
   "cell_type": "code",
   "execution_count": 371,
   "id": "d6e4b645",
   "metadata": {
    "ExecuteTime": {
     "end_time": "2022-12-21T08:28:04.648088Z",
     "start_time": "2022-12-21T08:28:04.633641Z"
    },
    "slideshow": {
     "slide_type": "skip"
    }
   },
   "outputs": [
    {
     "name": "stdout",
     "output_type": "stream",
     "text": [
      "{'이름': '박찬후', '나이': 39, 'email주소': 'pch8303@gmail.com', '취미': ['독서', '영화'], '결혼유무': '유'}\n"
     ]
    }
   ],
   "source": [
    "# 문제 10 ~ 15\n",
    "#(10)본인의 이름, 나이, email주소, 취미, 결혼유무를 사전(딕셔너리)으로 생성. \n",
    "# 취미는 2개 이상의 값을 넣는다..\n",
    "\n",
    "me = {\"이름\": \"박찬후\", \n",
    "      \"나이\":39, \n",
    "      \"email주소\": \"pch8303@gmail.com\", \n",
    "      \"취미\": [\"독서\", \"영화\"], \n",
    "      \"결혼유무\": \"유\" }\n",
    "print(me)\n",
    "\n",
    "#info2 = dict--> 강사님 것 참고"
   ]
  },
  {
   "cell_type": "code",
   "execution_count": 331,
   "id": "4c877cc3",
   "metadata": {
    "ExecuteTime": {
     "end_time": "2022-12-21T07:16:27.964750Z",
     "start_time": "2022-12-21T07:16:27.953770Z"
    },
    "slideshow": {
     "slide_type": "skip"
    }
   },
   "outputs": [
    {
     "name": "stdout",
     "output_type": "stream",
     "text": [
      "박찬후 ashin@ashin.or.kr\n"
     ]
    }
   ],
   "source": [
    "#(11) 위 딕셔너리에서 이름과 email주소를 조회해서 출력하세요.\n",
    "print(me['이름'], me['email주소'])"
   ]
  },
  {
   "cell_type": "code",
   "execution_count": 372,
   "id": "62fa0ba1",
   "metadata": {
    "ExecuteTime": {
     "end_time": "2022-12-21T08:28:14.484865Z",
     "start_time": "2022-12-21T08:28:14.471892Z"
    },
    "slideshow": {
     "slide_type": "skip"
    }
   },
   "outputs": [
    {
     "name": "stdout",
     "output_type": "stream",
     "text": [
      "영화\n"
     ]
    }
   ],
   "source": [
    "#(12) 위 딕셔너리에서 취미중 두번째 취미를 조회해서 출력하세요.\n",
    "print(me['취미'][1])"
   ]
  },
  {
   "cell_type": "code",
   "execution_count": 373,
   "id": "f818d5a9",
   "metadata": {
    "ExecuteTime": {
     "end_time": "2022-12-21T08:32:34.293553Z",
     "start_time": "2022-12-21T08:32:34.270577Z"
    },
    "slideshow": {
     "slide_type": "skip"
    }
   },
   "outputs": [
    {
     "data": {
      "text/plain": [
       "{'이름': '박찬후',\n",
       " '나이': 39,\n",
       " 'email주소': 'pch8303@gmail.com',\n",
       " '취미': ['독서', '영화'],\n",
       " '결혼유무': '유',\n",
       " '몸무게': 69,\n",
       " '키': 163}"
      ]
     },
     "execution_count": 373,
     "metadata": {},
     "output_type": "execute_result"
    }
   ],
   "source": [
    "#(13) 위 딕셔너리에 몸무게와 키 항목을 추가하세요.   \n",
    "me['몸무게'] = 69            #딕셔너리 추가는 변경과 동일하다.\n",
    "me['키'] = 163\n",
    "me"
   ]
  },
  {
   "cell_type": "code",
   "execution_count": 317,
   "id": "7f4bed43",
   "metadata": {
    "ExecuteTime": {
     "end_time": "2022-12-21T07:04:31.005935Z",
     "start_time": "2022-12-21T07:04:30.998953Z"
    },
    "slideshow": {
     "slide_type": "skip"
    }
   },
   "outputs": [
    {
     "name": "stdout",
     "output_type": "stream",
     "text": [
      "{'이름': '박찬후', 'email주소': 'pch8303@gmail.com', '취미': '독서, 음악/영상', '결혼유무': '유', '몸무게': 69, '키': 163}\n"
     ]
    }
   ],
   "source": [
    "#(14) 위 딕셔너리에서 나이를 제거하세요.\n",
    "del me['나이']\n",
    "print(me)"
   ]
  },
  {
   "cell_type": "code",
   "execution_count": 319,
   "id": "12398809",
   "metadata": {
    "ExecuteTime": {
     "end_time": "2022-12-21T07:06:20.063456Z",
     "start_time": "2022-12-21T07:06:20.048495Z"
    },
    "slideshow": {
     "slide_type": "skip"
    }
   },
   "outputs": [
    {
     "name": "stdout",
     "output_type": "stream",
     "text": [
      "{'이름': '박찬후', 'email주소': 'ashin@ashin.or.kr', '취미': '독서, 음악/영상', '결혼유무': '유', '몸무게': 69, '키': 163}\n"
     ]
    }
   ],
   "source": [
    "#(15) 위 딕셔너리에서 email 주소를 다른 값으로 변경하세요.\n",
    "me['email주소'] = 'ashin@ashin.or.kr'\n",
    "print(me)"
   ]
  }
 ],
 "metadata": {
  "kernelspec": {
   "display_name": "Python 3 (ipykernel)",
   "language": "python",
   "name": "python3"
  },
  "language_info": {
   "codemirror_mode": {
    "name": "ipython",
    "version": 3
   },
   "file_extension": ".py",
   "mimetype": "text/x-python",
   "name": "python",
   "nbconvert_exporter": "python",
   "pygments_lexer": "ipython3",
   "version": "3.9.13"
  },
  "toc": {
   "base_numbering": 1,
   "nav_menu": {},
   "number_sections": true,
   "sideBar": true,
   "skip_h1_title": false,
   "title_cell": "Table of Contents",
   "title_sidebar": "Contents",
   "toc_cell": false,
   "toc_position": {},
   "toc_section_display": true,
   "toc_window_display": false
  },
  "varInspector": {
   "cols": {
    "lenName": 16,
    "lenType": 16,
    "lenVar": 40
   },
   "kernels_config": {
    "python": {
     "delete_cmd_postfix": "",
     "delete_cmd_prefix": "del ",
     "library": "var_list.py",
     "varRefreshCmd": "print(var_dic_list())"
    },
    "r": {
     "delete_cmd_postfix": ") ",
     "delete_cmd_prefix": "rm(",
     "library": "var_list.r",
     "varRefreshCmd": "cat(var_dic_list()) "
    }
   },
   "types_to_exclude": [
    "module",
    "function",
    "builtin_function_or_method",
    "instance",
    "_Feature"
   ],
   "window_display": false
  }
 },
 "nbformat": 4,
 "nbformat_minor": 5
}
