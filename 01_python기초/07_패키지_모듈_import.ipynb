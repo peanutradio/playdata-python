{
 "cells": [
  {
   "cell_type": "markdown",
   "id": "9d39c99a",
   "metadata": {
    "slideshow": {
     "slide_type": "slide"
    }
   },
   "source": [
    "# 모듈(Module)\n",
    "\n",
    "- 독립적인 기능을 가지고 재사용가능한 프로그램 단위를 모듈이라고 한다.\n",
    "- **파이썬에서 모듈**은 재사용 가능한 함수, 클래스등을 작성한 소스 파일을 말한다.\n",
    "    - 함수나 클래스를 작성한 `.py` 스크립트 파일 파일이 모듈이 된다.\n",
    "- 모듈의 함수나 클래스들을 다른 python 프로그램에서 호출 하여 사용할 수 있다.\n",
    "    - 단 사용하기 위해서는 `import` 를 먼저 해야 한다.\n",
    "- 이런 모듈들을 모아 놓으면 라이브러리가 된다.\n",
    "- **모듈의 종류**\n",
    "    - 표준 모듈\n",
    "        - 파이썬에 내장된 모듈\n",
    "    - 사용자 정의 모듈\n",
    "        - 개발자가 재사용을 위해 직접 만든 모듈 \n",
    "    - 3rd Party 모듈\n",
    "        - 특정 개발업체나 개발자들이 만들어 배포하는 모듈\n",
    "        - 사용자 정의 모듈도 배포되어 다른 곳에서 사용되면 3rd party 모듈이 된다.\n",
    "\n",
    "\n"
   ]
  },
  {
   "cell_type": "code",
   "execution_count": null,
   "id": "8504712e",
   "metadata": {},
   "outputs": [],
   "source": [
    "# class들을 모아놓은 것 ex) m2.py"
   ]
  },
  {
   "cell_type": "code",
   "execution_count": null,
   "id": "781316b9",
   "metadata": {},
   "outputs": [],
   "source": [
    "a = 10\n",
    "print(a)\n"
   ]
  },
  {
   "cell_type": "code",
   "execution_count": null,
   "id": "0a3fd80d",
   "metadata": {},
   "outputs": [],
   "source": []
  },
  {
   "cell_type": "code",
   "execution_count": 15,
   "id": "3a2992fb",
   "metadata": {
    "ExecuteTime": {
     "end_time": "2022-12-31T05:32:22.168411Z",
     "start_time": "2022-12-31T05:32:22.151234Z"
    }
   },
   "outputs": [],
   "source": [
    "# module 불러오는 방법\n",
    "\n",
    "import my_module"
   ]
  },
  {
   "cell_type": "code",
   "execution_count": 16,
   "id": "81a1a77d",
   "metadata": {
    "ExecuteTime": {
     "end_time": "2022-12-31T05:32:33.931876Z",
     "start_time": "2022-12-31T05:32:33.922640Z"
    }
   },
   "outputs": [
    {
     "name": "stdout",
     "output_type": "stream",
     "text": [
      "1.0\n",
      "홍길동님 안녕하세요\n"
     ]
    }
   ],
   "source": [
    "print(my_module.__version__)\n",
    "print(my_module.greeting('홍길동'))"
   ]
  },
  {
   "cell_type": "markdown",
   "id": "0ba07092",
   "metadata": {
    "slideshow": {
     "slide_type": "slide"
    }
   },
   "source": [
    "# 패키지 (Package)\n",
    "- 모듈들을 모아 놓은 것을 패키지라고 한다.\n",
    "    - 그래서 파이썬에서는 **라이브러리를 패키지라고 한다.** (재사용가능한 모듈들을 모아 놓은 것이 패키지이므로)\n",
    "- 물리적으로는 모듈 파일들을 모아놓은 디렉토리(폴더)가 패키지이다.  \n",
    "- python 3.3 이전 버전은 package 디렉토리에 **\\_\\_init\\_\\_.py** 파일을 그 디렉토리에 반드시 위치시켜야 한다.\n",
    "    - 3.3 이후에는 위치시킬 필요는 없지만 package안의 모듈들의 import 관련 설정을 해야 하는 경우에는 `__init__.py`에 작성하고 위치시킨다.\n",
    "- **Root Package**\n",
    "    - 전체 모듈들을 담고 있는 최상위 패키지(디렉토리)\n",
    "    - 패키지 내의 속한 패키지를 통칭 **sub package** 라고 한다.\n",
    "    - Root package를 제외한 모든 package들은 다 sub package가 된다."
   ]
  },
  {
   "cell_type": "code",
   "execution_count": null,
   "id": "14f0fc73",
   "metadata": {},
   "outputs": [],
   "source": [
    "# 모듈을 모아놓은 것.   ex) m1.py, ,m2.py, m3.py  ==>비슷한 모듈끼리 묶은 것을 package라고 함"
   ]
  },
  {
   "cell_type": "markdown",
   "id": "4a874a76",
   "metadata": {
    "slideshow": {
     "slide_type": "slide"
    }
   },
   "source": [
    "# import\n",
    "\n",
    "## 함수, 클래스 정의란\n",
    "1. 함수를 구현한다.\n",
    "2. 구현된 함수, 클래스를 파이썬 실행환경에 등록한다.\n",
    "    - 등록하는 것은 메모리에 올리는(loading) 작업이다.\n",
    "    - 메모리에 올리기 위해서는 실행시켜서 파이썬 실행환경이 읽도록 해야 한다.\n",
    "- 파이썬 실행환경에 등록된 함수와 클래스만 호출해서 사용할 수 있다."
   ]
  },
  {
   "cell_type": "markdown",
   "id": "654df5d6",
   "metadata": {
    "slideshow": {
     "slide_type": "subslide"
    }
   },
   "source": [
    "## import 란\n",
    "- 파이썬 모듈 파일에 정의된 변수, 함수, 클래스들을 사용하기 위해 **파이썬 실행환경에 등록하는 작업**을 말한다.\n",
    "- 현재 프로그램 모듈의 것들이 아니라 **다른 모듈에 있는 것들은 사용하기 위해 import 작업을 먼저 해야 한다.**\n",
    "- 모듈을 import 하면 모듈의 내용이 실행되면서 그 안에 구현된 변수, 함수, 클래스들이 파이썬 실행환경에 그 모듈 이름을 namespace로 하여 등록된다.\n",
    "\n",
    "\n",
    "> - **namespace**\n",
    ">    - 여러개의 객체(존재하는 무언가)를 하나로 묶어 주면서 구분자 역할을 하는 이름을 주는 것을 namespace라고 한다.\n",
    ">    - namespace를 이용해 각 그룹들의 객체들을 구분할 수 있다. 그래서 같은 이름의 객체들을 사용할 수 있다.\n",
    ">    - 파이썬에서는 모듈에 정의된 변수, 함수, 클래스 들을 실행환경에 등록할 때 모듈명을 namespace로 묶어서 등록한다.\n",
    ">    - [위키백과 참고](https://ko.wikipedia.org/wiki/%EC%9D%B4%EB%A6%84%EA%B3%B5%EA%B0%84)"
   ]
  },
  {
   "cell_type": "markdown",
   "id": "34083bd0",
   "metadata": {
    "slideshow": {
     "slide_type": "subslide"
    }
   },
   "source": [
    "## import 구문\n",
    "- 기본구문\n",
    "    - `[from 사용할 것의 경로] import 사용할 것 [as 별칭] [, 사용할 것..]`\n",
    "    - \\[ \\] : 생략 가능한 구문\n",
    "    - 사용할 것\n",
    "        - 모듈\n",
    "        - 모듈안에 정의된 변수, 함수, 클래스"
   ]
  },
  {
   "cell_type": "code",
   "execution_count": null,
   "id": "7d881913",
   "metadata": {},
   "outputs": [],
   "source": [
    "#from A의 f1, f2, f3"
   ]
  },
  {
   "cell_type": "code",
   "execution_count": 17,
   "id": "31b5f645",
   "metadata": {
    "ExecuteTime": {
     "end_time": "2022-12-31T05:42:00.992898Z",
     "start_time": "2022-12-31T05:42:00.974194Z"
    }
   },
   "outputs": [
    {
     "data": {
      "text/plain": [
       "'홍길동님 안녕하세요'"
      ]
     },
     "execution_count": 17,
     "metadata": {},
     "output_type": "execute_result"
    }
   ],
   "source": [
    "import my_module\n",
    "my_module.greeting('홍길동')"
   ]
  },
  {
   "cell_type": "code",
   "execution_count": 21,
   "id": "1f81a9c5",
   "metadata": {
    "ExecuteTime": {
     "end_time": "2022-12-31T05:43:52.619362Z",
     "start_time": "2022-12-31T05:43:52.607619Z"
    }
   },
   "outputs": [
    {
     "data": {
      "text/plain": [
       "15"
      ]
     },
     "execution_count": 21,
     "metadata": {},
     "output_type": "execute_result"
    }
   ],
   "source": [
    "from my_package import calculator as calc  # 가독성은 이것이 좋다.\n",
    "calc.plus(10, 5)"
   ]
  },
  {
   "cell_type": "code",
   "execution_count": 22,
   "id": "bf5e8d4d",
   "metadata": {
    "ExecuteTime": {
     "end_time": "2022-12-31T05:43:53.945970Z",
     "start_time": "2022-12-31T05:43:53.933029Z"
    }
   },
   "outputs": [
    {
     "data": {
      "text/plain": [
       "15"
      ]
     },
     "execution_count": 22,
     "metadata": {},
     "output_type": "execute_result"
    }
   ],
   "source": [
    "import my_package.calculator as calc\n",
    "calc.plus(10, 5)"
   ]
  },
  {
   "cell_type": "markdown",
   "id": "37a67c0e",
   "metadata": {
    "slideshow": {
     "slide_type": "subslide"
    }
   },
   "source": [
    "<b style='font-size:1.2em'> 1. 모듈 import</b>\n",
    "```python\n",
    "import 모듈   # 하나의 모듈 import.\n",
    "import 모듈 as 별칭 # namespace의 이름을 모듈명이 아니라 별칭으로 지정한다.\n",
    "import 모듈_1, 모듈_2 # 여러개 모듈 import.','를 구분자로 나열한다.\n",
    "import 모듈_1 as 별칭1, 모듈_2 as 별칭2\n",
    "```\n",
    "- 모듈을 import 하고 그 안에 함수, 클래스들을 사용할 때는 모듈명이 namespace 역할을 하기 때문에 `모듈명.함수()`, `모듈명.Class` 구문으로 호출한다.\n",
    "- 별칭(Alias)를 주면 namespace로 별칭을 사용한다.\n",
    "- **예**\n",
    "```python\n",
    "import test_module\n",
    "import my_module as mm\n",
    "# test_module의 hello() 함수 호출시\n",
    "test_module.hello()\n",
    "# my_module은 mm 별칭을 지정했으므로 mm을 namespace로 사용한다.\n",
    "p = mm.Person('홍길동', 30) # my_module의 Person 클래스 객체 생성\n",
    "```"
   ]
  },
  {
   "cell_type": "markdown",
   "id": "63abaa38",
   "metadata": {
    "slideshow": {
     "slide_type": "subslide"
    }
   },
   "source": [
    "<b style='font-size:1.2em'>2. 모듈내의 특정 항목만 import</b>\n",
    "```python\n",
    "\n",
    "from 모듈 import 함수  # 함수/클래스가 있는 모듈과 함수를 분리해서 import한다.\n",
    "from 모듈 import 클래스\n",
    "from 모듈 import 함수_1, 함수_2, 클래스\n",
    "from 모듈 import *   \n",
    "```\n",
    "- 모듈에 정의된 **일부 함수나 클래스만 사용할 경우** 개별적으로 import 할 수있다.\n",
    "- `from 모듈 import 함수` 구문으로 import 하면 import한 함수나 클래스들이 현재 실행중인 모듈의 namespace로 들어간다. 그래서 모듈명없이 바로 호출 할 수 있다.\n",
    "- `*`를 이용하면 그 모듈의 모든 함수/클래스들을 현재 실행중인 namespace에 추가해 사용할 수 있게 해준다. 이 방식은 **이름 충돌의 가능성이 있기때문에 추천되지 않는다.**"
   ]
  },
  {
   "cell_type": "code",
   "execution_count": 1,
   "id": "378beac0",
   "metadata": {
    "ExecuteTime": {
     "end_time": "2022-12-31T06:07:44.919706Z",
     "start_time": "2022-12-31T06:07:44.793420Z"
    }
   },
   "outputs": [
    {
     "name": "stdout",
     "output_type": "stream",
     "text": [
      "bbb님 안녕하세요\n"
     ]
    },
    {
     "ename": "NameError",
     "evalue": "name 'Person' is not defined",
     "output_type": "error",
     "traceback": [
      "\u001b[0;31m---------------------------------------------------------------------------\u001b[0m",
      "\u001b[0;31mNameError\u001b[0m                                 Traceback (most recent call last)",
      "\u001b[0;32m/var/folders/jf/l3x8dj6n62s041cwvf169t5w0000gn/T/ipykernel_17786/1620513036.py\u001b[0m in \u001b[0;36m<module>\u001b[0;34m\u001b[0m\n\u001b[1;32m      2\u001b[0m \u001b[0mgreeting\u001b[0m\u001b[0;34m(\u001b[0m\u001b[0;34m'aaa'\u001b[0m\u001b[0;34m)\u001b[0m                 \u001b[0;31m#현재 모듈에 있는 함수 사용 가능.\u001b[0m\u001b[0;34m\u001b[0m\u001b[0;34m\u001b[0m\u001b[0m\n\u001b[1;32m      3\u001b[0m \u001b[0mprint\u001b[0m\u001b[0;34m(\u001b[0m\u001b[0mgreeting\u001b[0m\u001b[0;34m(\u001b[0m\u001b[0;34m'bbb'\u001b[0m\u001b[0;34m)\u001b[0m\u001b[0;34m)\u001b[0m\u001b[0;34m\u001b[0m\u001b[0;34m\u001b[0m\u001b[0m\n\u001b[0;32m----> 4\u001b[0;31m \u001b[0mprint\u001b[0m\u001b[0;34m(\u001b[0m\u001b[0mPerson\u001b[0m\u001b[0;34m(\u001b[0m\u001b[0;34m'이름: '\u001b[0m\u001b[0;34m,\u001b[0m \u001b[0;36m40\u001b[0m\u001b[0;34m)\u001b[0m\u001b[0;34m)\u001b[0m\u001b[0;34m\u001b[0m\u001b[0;34m\u001b[0m\u001b[0m\n\u001b[0m",
      "\u001b[0;31mNameError\u001b[0m: name 'Person' is not defined"
     ]
    }
   ],
   "source": [
    "from my_module import greeting\n",
    "greeting('aaa')                 #현재 모듈에 있는 함수 사용 가능.\n",
    "print(greeting('bbb'))\n",
    "print(Person('이름: ', 40))"
   ]
  },
  {
   "cell_type": "markdown",
   "id": "b8bc6da8",
   "metadata": {
    "slideshow": {
     "slide_type": "subslide"
    }
   },
   "source": [
    "<b style='font-size:1.2em'>3. 패키지에 속한 모듈 import</b>\n",
    "\n",
    "```python\n",
    "from 패키지명 import 모듈\n",
    "from 패키지명.모듈 import 함수\n",
    "from 패키지명.모듈 import 클래스\n",
    "from 패키지명.모듈 import 함수_1, 함수_2, 클래스\n",
    "from Root패키지.Sub패키지1.Sub패키지2 import 모듈        # 패키지가 계층구조로 되있을 경우 `.` 으로 이용해 나열한다.\n",
    "from Root패키지.Sub패키지1.Sub패키지2.모듈 import 함수\n",
    "from Root패키지.Sub패키지1.Sub패키지2.모듈 import 클래스\n",
    "```\n",
    "\n",
    "- 패키지에 속한 모듈을 import 할 때는 **from 절에 패키지를 import 절에 모듈을** 설정한다.\n",
    "- **import 가능한 것은 변수, 모듈, 함수, 클래스 들이다.**  <b style='color:red'>패키지는 import 할수 없다.</b>"
   ]
  },
  {
   "cell_type": "code",
   "execution_count": 1,
   "id": "e8dc3812",
   "metadata": {
    "ExecuteTime": {
     "end_time": "2022-12-29T01:42:43.369266Z",
     "start_time": "2022-12-29T01:42:43.347183Z"
    },
    "collapsed": true
   },
   "outputs": [
    {
     "ename": "SyntaxError",
     "evalue": "invalid syntax (2477232311.py, line 1)",
     "output_type": "error",
     "traceback": [
      "\u001b[0;36m  File \u001b[0;32m\"/var/folders/jf/l3x8dj6n62s041cwvf169t5w0000gn/T/ipykernel_4442/2477232311.py\"\u001b[0;36m, line \u001b[0;32m1\u001b[0m\n\u001b[0;31m    from my_package import calculator as calc.  #모듈 import\u001b[0m\n\u001b[0m                                             ^\u001b[0m\n\u001b[0;31mSyntaxError\u001b[0m\u001b[0;31m:\u001b[0m invalid syntax\n"
     ]
    }
   ],
   "source": [
    "from my_package import calculator as calc.  #모듈 import\n",
    "calc.plus(10,10)                            ####calc 설정이 안된듯####"
   ]
  },
  {
   "cell_type": "code",
   "execution_count": 19,
   "id": "d33daed5",
   "metadata": {
    "ExecuteTime": {
     "end_time": "2022-12-29T01:41:03.571094Z",
     "start_time": "2022-12-29T01:41:03.557031Z"
    }
   },
   "outputs": [
    {
     "data": {
      "text/plain": [
       "(15, 10)"
      ]
     },
     "execution_count": 19,
     "metadata": {},
     "output_type": "execute_result"
    }
   ],
   "source": [
    "#  함수, class 단위로 import 하면 현재 모듈의 namespace에 들어간다. \n",
    "#  그래서 사용할 때 현재 모듈에서 정의한 함수나 클래스처럼 호출한다.\n",
    "\n",
    "from my_package.calculator import plus, minus\n",
    "plus(10,5), minus(20,10)"
   ]
  },
  {
   "cell_type": "code",
   "execution_count": 4,
   "id": "2b707f06",
   "metadata": {
    "ExecuteTime": {
     "end_time": "2022-12-29T01:44:34.201168Z",
     "start_time": "2022-12-29T01:44:34.174175Z"
    }
   },
   "outputs": [
    {
     "data": {
      "text/plain": [
       "(15, 10, 20, 2.0)"
      ]
     },
     "execution_count": 4,
     "metadata": {},
     "output_type": "execute_result"
    }
   ],
   "source": [
    "# 모듈의 모든 클래스/함수를 import\n",
    "# 그러나 선생님은 이 방식을 추천하지 않으신다고 한다. 이유는 사용하다보면 이전 것에 덮어 쓸수 있어서...\n",
    "from my_package.calculator import *  \n",
    "plus(10,5), minus(20,10), multiply(10,2), divide(4,2)"
   ]
  },
  {
   "cell_type": "markdown",
   "id": "6a263cf2",
   "metadata": {
    "slideshow": {
     "slide_type": "slide"
    }
   },
   "source": [
    "## import 된 모듈 찾는 경로 및 PYTHONPATH\n",
    "\n",
    "- `import 모듈` 구문을 사용하면 파이썬 실행 환경은 모듈을 다음 경로에서 찾는다.\n",
    "    1. 현재 실행중인 모듈(import 구문을 사용한 모듈)이 있는 경로\n",
    "    2. 파이썬 실행환경에 등록된 경로\n",
    "- 모듈을 찾는 순서는 다음에서 확인할 수 있다.\n",
    "```python\n",
    "import sys      # 표준모듈 sys\n",
    "print(sys.path) # 모듈을 찾는 경로를 저장한 list\n",
    "```\n",
    "- 위의 경로 이외에 파이썬 모듈이 있을 경우 PYTHONPATH 환경변수에 그 디렉토리 경로를 등록한다.\n",
    "    1. sys.path 에 추가한다. (사용할 때 마다 추가해야 한다.) ---->일시적으로 사용\n",
    "    2. 운영체제 환경변수에 등록한다. (한번만 하면된다.)        ---->영구적으로 사용"
   ]
  },
  {
   "cell_type": "code",
   "execution_count": 15,
   "id": "83f16ba5",
   "metadata": {
    "ExecuteTime": {
     "end_time": "2022-12-29T03:13:24.742339Z",
     "start_time": "2022-12-29T03:13:24.725727Z"
    }
   },
   "outputs": [
    {
     "name": "stdout",
     "output_type": "stream",
     "text": [
      "['/Users/chanhupark/Documents/CODING/PLAYDATA/Python/01_python기초',\n",
      " '/Users/chanhupark/opt/anaconda3/lib/python39.zip',\n",
      " '/Users/chanhupark/opt/anaconda3/lib/python3.9',\n",
      " '/Users/chanhupark/opt/anaconda3/lib/python3.9/lib-dynload',\n",
      " '',\n",
      " '/Users/chanhupark/opt/anaconda3/lib/python3.9/site-packages',\n",
      " '/Users/chanhupark/opt/anaconda3/lib/python3.9/site-packages/aeosa',\n",
      " '/Users/chanhupark/opt/anaconda3/lib/python3.9/site-packages/IPython/extensions',\n",
      " '/Users/chanhupark/.ipython',\n",
      " 'Macintosh\\\\사용자\\\\chanhupark']\n"
     ]
    }
   ],
   "source": [
    "# 맥에 등록하는 방법 검색해봐야겠다...\n",
    "# 윈도우에서는 1)아래 경로로 활용  2)윈도우 환경변수>새사용자 변수  3)맥에서 설정하는 방법(선생님...)\n",
    "\n",
    "#1) 이건 일시적이여서 매번 해야함.\n",
    "sys.path.append(r'Macintosh\\사용자\\chanhupark')   \n",
    "pprint(sys.path)\n",
    "                \n",
    "#2)윈도우방식 : 시스템속성->고급>환경변수>새사용자 변수\n",
    "#            맥은 쉘 환경변경하는 방법으로 등록하면 된다. \n",
    "#            베시, 알시"
   ]
  },
  {
   "cell_type": "code",
   "execution_count": 11,
   "id": "2bc373e2",
   "metadata": {
    "ExecuteTime": {
     "end_time": "2022-12-29T02:48:30.155475Z",
     "start_time": "2022-12-29T02:48:30.144553Z"
    },
    "scrolled": true
   },
   "outputs": [
    {
     "name": "stdout",
     "output_type": "stream",
     "text": [
      "['/Users/chanhupark/Documents/CODING/PLAYDATA/Python/01_python기초',\n",
      " '/Users/chanhupark/opt/anaconda3/lib/python39.zip',\n",
      " '/Users/chanhupark/opt/anaconda3/lib/python3.9',\n",
      " '/Users/chanhupark/opt/anaconda3/lib/python3.9/lib-dynload',\n",
      " '',\n",
      " '/Users/chanhupark/opt/anaconda3/lib/python3.9/site-packages',\n",
      " '/Users/chanhupark/opt/anaconda3/lib/python3.9/site-packages/aeosa',\n",
      " '/Users/chanhupark/opt/anaconda3/lib/python3.9/site-packages/IPython/extensions',\n",
      " '/Users/chanhupark/.ipython']\n"
     ]
    }
   ],
   "source": [
    "import sys\n",
    "from pprint import pprint    # 자료구조를 가독성 좋게(읽기 좋게) 출력해준다.\n",
    "pprint(sys.path)"
   ]
  },
  {
   "cell_type": "code",
   "execution_count": 9,
   "id": "2c3be8fd",
   "metadata": {
    "ExecuteTime": {
     "end_time": "2022-12-31T06:25:20.442774Z",
     "start_time": "2022-12-31T06:25:20.422873Z"
    }
   },
   "outputs": [
    {
     "ename": "ModuleNotFoundError",
     "evalue": "No module named 'test_module'",
     "output_type": "error",
     "traceback": [
      "\u001b[0;31m---------------------------------------------------------------------------\u001b[0m",
      "\u001b[0;31mModuleNotFoundError\u001b[0m                       Traceback (most recent call last)",
      "\u001b[0;32m/var/folders/jf/l3x8dj6n62s041cwvf169t5w0000gn/T/ipykernel_18085/1125805249.py\u001b[0m in \u001b[0;36m<module>\u001b[0;34m\u001b[0m\n\u001b[1;32m      1\u001b[0m \u001b[0;31m# 기존 폴더 아닌 다른 폴더에 있는 파일 찾는 경우.\u001b[0m\u001b[0;34m\u001b[0m\u001b[0;34m\u001b[0m\u001b[0m\n\u001b[0;32m----> 2\u001b[0;31m \u001b[0;32mimport\u001b[0m \u001b[0mtest_module\u001b[0m \u001b[0;32mas\u001b[0m \u001b[0mtm\u001b[0m\u001b[0;34m\u001b[0m\u001b[0;34m\u001b[0m\u001b[0m\n\u001b[0m\u001b[1;32m      3\u001b[0m \u001b[0mtm\u001b[0m\u001b[0;34m.\u001b[0m\u001b[0mtest\u001b[0m\u001b[0;34m(\u001b[0m\u001b[0;34m)\u001b[0m\u001b[0;34m\u001b[0m\u001b[0;34m\u001b[0m\u001b[0m\n",
      "\u001b[0;31mModuleNotFoundError\u001b[0m: No module named 'test_module'"
     ]
    }
   ],
   "source": [
    "# 기존 폴더 아닌 다른 폴더에 있는 파일 찾는 경우.\n",
    "import test_module as tm\n",
    "tm.test()"
   ]
  },
  {
   "cell_type": "markdown",
   "id": "4222ef77",
   "metadata": {
    "slideshow": {
     "slide_type": "slide"
    }
   },
   "source": [
    "# 메인 모듈(Main Module)과 하위 모듈(Sub Module)\n",
    "\n",
    "- **메인 모듈**\n",
    "    - 현재 실행하고 있는 모듈\n",
    "- **하위 모듈 (Sub module)**\n",
    "    - 메인 모듈에서 import 되어 실행되는 모듈\n",
    "    - 모듈을 import하면 그 모듈을 실행 시킨다. 이때 모듈에 있는 실행코드들도 같이 실행된다. 이것을 방지 하기 위해 모듈이 메인 모듈로 실행되는지 하위 모듈로 실행되는지 확인이 필요하다.\n",
    "- <b>`__name__`</b> 내장 전역변수\n",
    "    - 실행 중인 모듈명을 저장하는 내장 전역변수\n",
    "    - **메인 모듈은 '\\\\main\\\\'** 을 **하위 모듈은 모듈명(파일명)** 이 저장된다.\n",
    "    - 모듈이 메인 모듈로 시작하는지 여부 확인 할 때 사용한다.\n",
    "    \n",
    "```python\n",
    "if __name__ == '__main__':\n",
    "    #메인모듈일 때 실행할 코드 블록\n",
    "```"
   ]
  },
  {
   "cell_type": "code",
   "execution_count": 13,
   "id": "f958ebb9",
   "metadata": {
    "ExecuteTime": {
     "end_time": "2022-12-29T02:48:41.339583Z",
     "start_time": "2022-12-29T02:48:41.326393Z"
    }
   },
   "outputs": [],
   "source": [
    "import my_module"
   ]
  },
  {
   "cell_type": "code",
   "execution_count": 14,
   "id": "476fb404",
   "metadata": {
    "ExecuteTime": {
     "end_time": "2022-12-29T02:49:51.607189Z",
     "start_time": "2022-12-29T02:49:51.585026Z"
    }
   },
   "outputs": [
    {
     "data": {
      "text/plain": [
       "'aaaaa님 안녕하세요'"
      ]
     },
     "execution_count": 14,
     "metadata": {},
     "output_type": "execute_result"
    }
   ],
   "source": [
    "my_module.greeting('aaaaa')"
   ]
  }
 ],
 "metadata": {
  "kernelspec": {
   "display_name": "Python 3 (ipykernel)",
   "language": "python",
   "name": "python3"
  },
  "language_info": {
   "codemirror_mode": {
    "name": "ipython",
    "version": 3
   },
   "file_extension": ".py",
   "mimetype": "text/x-python",
   "name": "python",
   "nbconvert_exporter": "python",
   "pygments_lexer": "ipython3",
   "version": "3.9.13"
  },
  "toc": {
   "base_numbering": 1,
   "nav_menu": {},
   "number_sections": true,
   "sideBar": true,
   "skip_h1_title": false,
   "title_cell": "Table of Contents",
   "title_sidebar": "Contents",
   "toc_cell": false,
   "toc_position": {},
   "toc_section_display": true,
   "toc_window_display": false
  },
  "varInspector": {
   "cols": {
    "lenName": 16,
    "lenType": 16,
    "lenVar": 40
   },
   "kernels_config": {
    "python": {
     "delete_cmd_postfix": "",
     "delete_cmd_prefix": "del ",
     "library": "var_list.py",
     "varRefreshCmd": "print(var_dic_list())"
    },
    "r": {
     "delete_cmd_postfix": ") ",
     "delete_cmd_prefix": "rm(",
     "library": "var_list.r",
     "varRefreshCmd": "cat(var_dic_list()) "
    }
   },
   "types_to_exclude": [
    "module",
    "function",
    "builtin_function_or_method",
    "instance",
    "_Feature"
   ],
   "window_display": false
  }
 },
 "nbformat": 4,
 "nbformat_minor": 5
}
