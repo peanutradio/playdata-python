{
 "cells": [
  {
   "cell_type": "markdown",
   "metadata": {
    "slideshow": {
     "slide_type": "slide"
    }
   },
   "source": [
    "# Path (경로)\n",
    "\n",
    "- **경로(Path)**\n",
    "    - 프로그램에서 사용할 **자원의 위치**를 path/경로 라고 한다.\n",
    "    - **파일 시스템**에서는 파일이나 디렉토리가 있는 위치의 경로를 말한다.\n",
    "    "
   ]
  },
  {
   "cell_type": "markdown",
   "metadata": {
    "slideshow": {
     "slide_type": "subslide"
    }
   },
   "source": [
    "- **절대경로**\n",
    "    - 자원의 전체 경로를 표현하는 방식\n",
    "    - 시작 경로부터 자원(파일, 디렉토리)이 있는 위치까지 표현한다.\n",
    "        - 시작 경로: Root Path\n",
    "            - windows: `c:`, `d:`\n",
    "            - Unix, Linux: `/`"
   ]
  },
  {
   "cell_type": "markdown",
   "metadata": {
    "slideshow": {
     "slide_type": "fragment"
    }
   },
   "source": [
    "- **상대경로**\n",
    "    - 현재 작업 경로(위치)에서 부터 자원이 있는 위치까지 표현한다.\n",
    "        - 시작 경로: 현재 작업경로\n",
    "    - 구문\n",
    "        - `.` : 현재 디렉토리\n",
    "        - `..`: 상위 디렉토리\n",
    "        - `/` : 경로 구분자,  상위경로/하위경로"
   ]
  },
  {
   "cell_type": "markdown",
   "metadata": {
    "slideshow": {
     "slide_type": "fragment"
    }
   },
   "source": [
    "- 운영체제(O/S)별 경로구분자\n",
    "    - 윈도우즈: `\\` (역슬래쉬)\n",
    "    - 리눅스/유닉스: `/` (슬래쉬)"
   ]
  },
  {
   "cell_type": "code",
   "execution_count": null,
   "metadata": {
    "slideshow": {
     "slide_type": "fragment"
    }
   },
   "outputs": [],
   "source": [
    "# '자원의 위치' : 파일, DB, Network\n",
    "# / \\ --> 파이썬에서 사용할 때는 맥, 윈도우 구분 없이 사용해도 괜찮다.\n",
    "# Linux, Unix는 경로 찾을 때 대소문자 구분해야 한다."
   ]
  },
  {
   "cell_type": "code",
   "execution_count": 2,
   "metadata": {
    "ExecuteTime": {
     "end_time": "2023-01-02T00:51:30.995075Z",
     "start_time": "2023-01-02T00:51:30.985729Z"
    },
    "collapsed": true
   },
   "outputs": [
    {
     "ename": "IndentationError",
     "evalue": "unexpected indent (4206378375.py, line 2)",
     "output_type": "error",
     "traceback": [
      "\u001b[0;36m  File \u001b[0;32m\"/var/folders/jf/l3x8dj6n62s041cwvf169t5w0000gn/T/ipykernel_2833/4206378375.py\"\u001b[0;36m, line \u001b[0;32m2\u001b[0m\n\u001b[0;31m    https://webruden.tistory.com/867\u001b[0m\n\u001b[0m    ^\u001b[0m\n\u001b[0;31mIndentationError\u001b[0m\u001b[0;31m:\u001b[0m unexpected indent\n"
     ]
    }
   ],
   "source": [
    "####맥북 방식의 경로 찾기 공부해야!!!########\n",
    " https://webruden.tistory.com/867"
   ]
  },
  {
   "cell_type": "code",
   "execution_count": null,
   "metadata": {},
   "outputs": [],
   "source": [
    "c:\\Classes\\01_python\\my_package"
   ]
  },
  {
   "cell_type": "code",
   "execution_count": null,
   "metadata": {},
   "outputs": [],
   "source": [
    "./my_package/calculatar.py -> 현재 디렉토리에서 마이패키지 폴더 안에 cal 파일 찾아"
   ]
  },
  {
   "cell_type": "code",
   "execution_count": null,
   "metadata": {},
   "outputs": [],
   "source": [
    "./main.py        | main.py"
   ]
  },
  {
   "cell_type": "code",
   "execution_count": null,
   "metadata": {},
   "outputs": [],
   "source": [
    "./../main.py  -> 현재 디렉토리에서 상위로 하나 나가서 메인 파일을 찾어.  |  ../main.py"
   ]
  },
  {
   "cell_type": "code",
   "execution_count": 1,
   "metadata": {
    "ExecuteTime": {
     "end_time": "2023-01-02T00:47:18.888664Z",
     "start_time": "2023-01-02T00:47:18.876181Z"
    },
    "collapsed": true
   },
   "outputs": [
    {
     "ename": "SyntaxError",
     "evalue": "invalid syntax (1671924096.py, line 1)",
     "output_type": "error",
     "traceback": [
      "\u001b[0;36m  File \u001b[0;32m\"/var/folders/jf/l3x8dj6n62s041cwvf169t5w0000gn/T/ipykernel_2833/1671924096.py\"\u001b[0;36m, line \u001b[0;32m1\u001b[0m\n\u001b[0;31m    ./../01_python기초/main.py --> 현재 디렉토리에서 나간 다음에 파이썬기초 폴더에서 메일파일을 찾어.\u001b[0m\n\u001b[0m    ^\u001b[0m\n\u001b[0;31mSyntaxError\u001b[0m\u001b[0;31m:\u001b[0m invalid syntax\n"
     ]
    }
   ],
   "source": [
    "./../01_python기초/main.py --> 현재 디렉토리에서 나간 다음에 파이썬기초 폴더에서 메일파일을 찾어. \n",
    "                               |../01_python 기초/main.py"
   ]
  },
  {
   "cell_type": "code",
   "execution_count": null,
   "metadata": {},
   "outputs": [],
   "source": [
    "\\ -> 역슬러시를 쓰려면 row string을 사용하면 된다. | r'main\\......"
   ]
  },
  {
   "cell_type": "code",
   "execution_count": null,
   "metadata": {},
   "outputs": [],
   "source": [
    "path = \"a/b/c\"  #시작 root 경로 -> 절대경로 표현\n",
    "path = \"./a/b\"  #시작 현재 경로==> ./ 또는 디렉토리나 파일명일 경우 ==> 상대경로 표현 \n",
    "path = 'a/b/c'\n"
   ]
  },
  {
   "cell_type": "code",
   "execution_count": null,
   "metadata": {},
   "outputs": [],
   "source": [
    "# 경로 다루는 모듈\n",
    "# os 모듈, pathlib(파이썬 3.4에 추가) 모듈"
   ]
  },
  {
   "cell_type": "code",
   "execution_count": 5,
   "metadata": {
    "ExecuteTime": {
     "end_time": "2023-01-02T01:15:00.222743Z",
     "start_time": "2023-01-02T01:15:00.201849Z"
    }
   },
   "outputs": [
    {
     "name": "stdout",
     "output_type": "stream",
     "text": [
      "/Users/chanhupark/Documents/CODING/PLAYDATA/Python/01_python기초\n"
     ]
    },
    {
     "data": {
      "text/plain": [
       "str"
      ]
     },
     "execution_count": 5,
     "metadata": {},
     "output_type": "execute_result"
    }
   ],
   "source": [
    "import os   #!!!!  os == 모듈이다. 다양한 기능을 쓸 수 있다. !!!!!!\n",
    "\n",
    "# 현재(working) 디렉토리 - 현재 main 모듈이 있는 경로.\n",
    "\n",
    "cwd = os.getcwd()\n",
    "print(cwd)\n",
    "type(cwd)"
   ]
  },
  {
   "cell_type": "code",
   "execution_count": 42,
   "metadata": {
    "ExecuteTime": {
     "end_time": "2023-01-02T01:59:47.886314Z",
     "start_time": "2023-01-02T01:59:47.864553Z"
    }
   },
   "outputs": [
    {
     "ename": "FileNotFoundError",
     "evalue": "[Errno 2] No such file or directory: 'Macintosh/사용자/chanhupark'",
     "output_type": "error",
     "traceback": [
      "\u001b[0;31m---------------------------------------------------------------------------\u001b[0m",
      "\u001b[0;31mFileNotFoundError\u001b[0m                         Traceback (most recent call last)",
      "\u001b[0;32m/var/folders/jf/l3x8dj6n62s041cwvf169t5w0000gn/T/ipykernel_2833/783177748.py\u001b[0m in \u001b[0;36m<module>\u001b[0;34m\u001b[0m\n\u001b[1;32m      1\u001b[0m \u001b[0;31m# 현재 working directory 변경---#### 이거 맥 os에서 꼭 해봐야####\u001b[0m\u001b[0;34m\u001b[0m\u001b[0;34m\u001b[0m\u001b[0m\n\u001b[0;32m----> 2\u001b[0;31m \u001b[0mos\u001b[0m\u001b[0;34m.\u001b[0m\u001b[0mchdir\u001b[0m\u001b[0;34m(\u001b[0m\u001b[0;34mr'Macintosh/사용자/chanhupark'\u001b[0m\u001b[0;34m)\u001b[0m      \u001b[0;31m# r 로우 스트링 쓰면 역슬러시를 인식하지 않고 패씽한다.\u001b[0m\u001b[0;34m\u001b[0m\u001b[0;34m\u001b[0m\u001b[0m\n\u001b[0m\u001b[1;32m      3\u001b[0m \u001b[0mprint\u001b[0m\u001b[0;34m(\u001b[0m\u001b[0mos\u001b[0m\u001b[0;34m.\u001b[0m\u001b[0mgetwed\u001b[0m\u001b[0;34m(\u001b[0m\u001b[0;34m)\u001b[0m\u001b[0;34m)\u001b[0m\u001b[0;34m\u001b[0m\u001b[0;34m\u001b[0m\u001b[0m\n",
      "\u001b[0;31mFileNotFoundError\u001b[0m: [Errno 2] No such file or directory: 'Macintosh/사용자/chanhupark'"
     ]
    }
   ],
   "source": [
    "# 현재 working directory 변경---#### 이거 맥 os에서 꼭 해봐야####\n",
    "# https://study2give.tistory.com/entry/Python-%ED%8C%8C%EC%9D%BC-%EA%B2%BD%EB%A1%9C-%EC%84%A4%EC%A0%95\n",
    "\n",
    "os.chdir(r'Macintosh/사용자/chanhupark')      # r 로우 스트링 쓰면 역슬러시를 인식하지 않고 패씽한다.\n",
    "print(os.getwed())"
   ]
  },
  {
   "cell_type": "code",
   "execution_count": 41,
   "metadata": {
    "ExecuteTime": {
     "end_time": "2023-01-02T01:58:37.854238Z",
     "start_time": "2023-01-02T01:58:37.835245Z"
    }
   },
   "outputs": [
    {
     "ename": "FileNotFoundError",
     "evalue": "[Errno 2] No such file or directory: 'Macintosh\\\\사용자\\\\chanhupark'",
     "output_type": "error",
     "traceback": [
      "\u001b[0;31m---------------------------------------------------------------------------\u001b[0m",
      "\u001b[0;31mFileNotFoundError\u001b[0m                         Traceback (most recent call last)",
      "\u001b[0;32m/var/folders/jf/l3x8dj6n62s041cwvf169t5w0000gn/T/ipykernel_2833/3209839563.py\u001b[0m in \u001b[0;36m<module>\u001b[0;34m\u001b[0m\n\u001b[0;32m----> 1\u001b[0;31m \u001b[0mos\u001b[0m\u001b[0;34m.\u001b[0m\u001b[0mchdir\u001b[0m\u001b[0;34m(\u001b[0m\u001b[0;34mr'Macintosh\\사용자\\chanhupark'\u001b[0m\u001b[0;34m)\u001b[0m\u001b[0;34m\u001b[0m\u001b[0;34m\u001b[0m\u001b[0m\n\u001b[0m",
      "\u001b[0;31mFileNotFoundError\u001b[0m: [Errno 2] No such file or directory: 'Macintosh\\\\사용자\\\\chanhupark'"
     ]
    }
   ],
   "source": [
    "os.chdir(r'Macintosh\\사용자\\chanhupark') \n",
    "print(os.getwed())"
   ]
  },
  {
   "cell_type": "code",
   "execution_count": 8,
   "metadata": {
    "ExecuteTime": {
     "end_time": "2023-01-02T01:19:54.238364Z",
     "start_time": "2023-01-02T01:19:54.226528Z"
    }
   },
   "outputs": [],
   "source": [
    "## 디렉토리 생성\n",
    "os.mkdir('test')  #test 디렉토리를 생성(없으면 생성, 있으면 Excepttion 발생)"
   ]
  },
  {
   "cell_type": "code",
   "execution_count": 9,
   "metadata": {
    "ExecuteTime": {
     "end_time": "2023-01-02T01:21:40.447930Z",
     "start_time": "2023-01-02T01:21:40.437396Z"
    }
   },
   "outputs": [],
   "source": [
    "try: \n",
    "    os.mkdir('test1') \n",
    "except:\n",
    "    print(\"있는 디렉토리\")"
   ]
  },
  {
   "cell_type": "code",
   "execution_count": 11,
   "metadata": {
    "ExecuteTime": {
     "end_time": "2023-01-02T01:23:25.769945Z",
     "start_time": "2023-01-02T01:23:25.755625Z"
    }
   },
   "outputs": [
    {
     "data": {
      "text/plain": [
       "True"
      ]
     },
     "execution_count": 11,
     "metadata": {},
     "output_type": "execute_result"
    }
   ],
   "source": [
    "os.path.isdir('test1')  #test1이 존재하고 디렉토리인지 여부 확인\n",
    "os.path.isfile('test1') #test1이 존재하고 파일인지 여부 확인\n",
    "os.path.exists('test1') #test1이 존재하는지 여부 확인 "
   ]
  },
  {
   "cell_type": "code",
   "execution_count": 22,
   "metadata": {
    "ExecuteTime": {
     "end_time": "2023-01-02T01:32:08.081258Z",
     "start_time": "2023-01-02T01:32:08.072637Z"
    }
   },
   "outputs": [],
   "source": [
    "path = 'test2'\n",
    "if not os.path.isdir(path):    # -> isdir 뭐지? \n",
    "    os.mkdir(path)             # -> mkdir 뭐지?"
   ]
  },
  {
   "cell_type": "code",
   "execution_count": 14,
   "metadata": {
    "ExecuteTime": {
     "end_time": "2023-01-02T01:26:06.783901Z",
     "start_time": "2023-01-02T01:26:06.775838Z"
    }
   },
   "outputs": [],
   "source": [
    "## 디렉토리 삭제\n",
    "if os.path.isdir('test2)':\n",
    "     os.rmdir('test2')     # 없는 디렉토리인 경우 Exception 발생"
   ]
  },
  {
   "cell_type": "code",
   "execution_count": 21,
   "metadata": {
    "ExecuteTime": {
     "end_time": "2023-01-02T01:31:50.679971Z",
     "start_time": "2023-01-02T01:31:50.661485Z"
    },
    "collapsed": true
   },
   "outputs": [
    {
     "ename": "OSError",
     "evalue": "[Errno 66] Directory not empty: 'test1'",
     "output_type": "error",
     "traceback": [
      "\u001b[0;31m---------------------------------------------------------------------------\u001b[0m",
      "\u001b[0;31mOSError\u001b[0m                                   Traceback (most recent call last)",
      "\u001b[0;32m/var/folders/jf/l3x8dj6n62s041cwvf169t5w0000gn/T/ipykernel_2833/1173152622.py\u001b[0m in \u001b[0;36m<module>\u001b[0;34m\u001b[0m\n\u001b[1;32m      1\u001b[0m \u001b[0;31m# rmdir (디렉토리) - 안에 파일이나 하위 디렉토리가 있으면 Exception 발생\u001b[0m\u001b[0;34m\u001b[0m\u001b[0;34m\u001b[0m\u001b[0m\n\u001b[0;32m----> 2\u001b[0;31m \u001b[0mos\u001b[0m\u001b[0;34m.\u001b[0m\u001b[0mrmdir\u001b[0m\u001b[0;34m(\u001b[0m\u001b[0;34m\"test1\"\u001b[0m\u001b[0;34m)\u001b[0m\u001b[0;34m\u001b[0m\u001b[0;34m\u001b[0m\u001b[0m\n\u001b[0m",
      "\u001b[0;31mOSError\u001b[0m: [Errno 66] Directory not empty: 'test1'"
     ]
    }
   ],
   "source": [
    "# rmdir (디렉토리) - 안에 파일이나 하위 디렉토리가 있으면 Exception 발생\n",
    "os.rmdir(\"test1\")"
   ]
  },
  {
   "cell_type": "code",
   "execution_count": 19,
   "metadata": {
    "ExecuteTime": {
     "end_time": "2023-01-02T01:30:55.690653Z",
     "start_time": "2023-01-02T01:30:55.673015Z"
    },
    "collapsed": true
   },
   "outputs": [
    {
     "ename": "FileNotFoundError",
     "evalue": "[Errno 2] No such file or directory: 'test1/a.txt'",
     "output_type": "error",
     "traceback": [
      "\u001b[0;31m---------------------------------------------------------------------------\u001b[0m",
      "\u001b[0;31mFileNotFoundError\u001b[0m                         Traceback (most recent call last)",
      "\u001b[0;32m/var/folders/jf/l3x8dj6n62s041cwvf169t5w0000gn/T/ipykernel_2833/4031916634.py\u001b[0m in \u001b[0;36m<module>\u001b[0;34m\u001b[0m\n\u001b[0;32m----> 1\u001b[0;31m \u001b[0mos\u001b[0m\u001b[0;34m.\u001b[0m\u001b[0mremove\u001b[0m\u001b[0;34m(\u001b[0m\u001b[0;34m'test1/a.txt'\u001b[0m\u001b[0;34m)\u001b[0m\u001b[0;34m\u001b[0m\u001b[0;34m\u001b[0m\u001b[0m\n\u001b[0m",
      "\u001b[0;31mFileNotFoundError\u001b[0m: [Errno 2] No such file or directory: 'test1/a.txt'"
     ]
    }
   ],
   "source": [
    "os.remove('test1/a.txt')   # 디렉토리 안 파일 삭제  "
   ]
  },
  {
   "cell_type": "code",
   "execution_count": 20,
   "metadata": {
    "ExecuteTime": {
     "end_time": "2023-01-02T01:30:59.512711Z",
     "start_time": "2023-01-02T01:30:59.492227Z"
    }
   },
   "outputs": [
    {
     "ename": "OSError",
     "evalue": "[Errno 66] Directory not empty: 'test1'",
     "output_type": "error",
     "traceback": [
      "\u001b[0;31m---------------------------------------------------------------------------\u001b[0m",
      "\u001b[0;31mOSError\u001b[0m                                   Traceback (most recent call last)",
      "\u001b[0;32m/var/folders/jf/l3x8dj6n62s041cwvf169t5w0000gn/T/ipykernel_2833/2850436885.py\u001b[0m in \u001b[0;36m<module>\u001b[0;34m\u001b[0m\n\u001b[0;32m----> 1\u001b[0;31m \u001b[0mos\u001b[0m\u001b[0;34m.\u001b[0m\u001b[0mrmdir\u001b[0m\u001b[0;34m(\u001b[0m\u001b[0;34m'test1'\u001b[0m\u001b[0;34m)\u001b[0m\u001b[0;34m\u001b[0m\u001b[0;34m\u001b[0m\u001b[0m\n\u001b[0m",
      "\u001b[0;31mOSError\u001b[0m: [Errno 66] Directory not empty: 'test1'"
     ]
    }
   ],
   "source": [
    "os.rmdir('test1')       # 디렉토리(폴더) 삭제"
   ]
  },
  {
   "cell_type": "code",
   "execution_count": 27,
   "metadata": {
    "ExecuteTime": {
     "end_time": "2023-01-02T01:38:08.342442Z",
     "start_time": "2023-01-02T01:38:08.331507Z"
    }
   },
   "outputs": [
    {
     "name": "stdout",
     "output_type": "stream",
     "text": [
      "['untitled.txt', 'untitled1.txt', 'untitled2.txt', 'untitled3.txt', '.ipynb_checkpoints', 'dir1']\n"
     ]
    }
   ],
   "source": [
    "path = 'test'\n",
    "\n",
    "#test 디렉토리 아래 있는 파일들을 삭제하고 싶을 때.\n",
    "# 1. test 디렉토리 아래 있는 파일/디렉토리의 이름들을 조회\n",
    "sub_list = os.listdir(path)   #path 디렉토리 하위에 있는 디렉토리, 파일 이름을 리스트로 반환\n",
    "print(sub_list)\n",
    "\n"
   ]
  },
  {
   "cell_type": "code",
   "execution_count": 32,
   "metadata": {
    "ExecuteTime": {
     "end_time": "2023-01-02T01:41:45.733877Z",
     "start_time": "2023-01-02T01:41:45.722889Z"
    }
   },
   "outputs": [
    {
     "name": "stdout",
     "output_type": "stream",
     "text": [
      "a/b/c/d/e\n",
      "test/untitled.txt\n"
     ]
    }
   ],
   "source": [
    "# 삭제전 경로는 합치기\n",
    "# print(path + '/' + sub_list[0])\n",
    "print(os.path.join(\"a\",\"b\",\"c\",\"d\",\"e\"))\n",
    "print(os.path.join(path, sub_list[0]))"
   ]
  },
  {
   "cell_type": "code",
   "execution_count": 36,
   "metadata": {
    "ExecuteTime": {
     "end_time": "2023-01-02T01:44:18.165442Z",
     "start_time": "2023-01-02T01:44:18.153441Z"
    }
   },
   "outputs": [],
   "source": [
    "for fname in sub_list:\n",
    "#     print(os.path.join(path, fname))\n",
    "    p = os.path.join(path, fname)\n",
    "    if os.path.isfile(p):\n",
    "        os.remove(p)\n"
   ]
  },
  {
   "cell_type": "markdown",
   "metadata": {},
   "source": [
    "- ## glob 모듈***(굉장히 많이 씀)\n",
    "   - 디렉토리 안에 있는 파일/디렉토리들을 wild card 문자를 이용해서 다양하게 조회할 수 있다. \n",
    "   - wild card\n",
    "      - \\* : 0글자 이상의 모든 문자열\n",
    "         - ex) \\*.jpg 확장자가 jpg 인 모든 이름의 파일. a\\*.png: 이름이 a로 시작하고 확장자가 PNG인 모든 파일\n",
    "      - ? : 한글자.\n",
    "         - ex) ad?de.jpg : dlfmadl ab와 de 사이에 아무글자나 한글자가 들어오는 jpg 파일\n",
    "      - \\*\\* : 모든 하위 디렉토리, 하위디렉토리의 하위 디렉토리 포함.\n",
    "      "
   ]
  },
  {
   "cell_type": "code",
   "execution_count": 53,
   "metadata": {
    "ExecuteTime": {
     "end_time": "2023-01-02T02:24:24.930464Z",
     "start_time": "2023-01-02T02:24:24.914381Z"
    }
   },
   "outputs": [
    {
     "data": {
      "text/plain": [
       "[]"
      ]
     },
     "execution_count": 53,
     "metadata": {},
     "output_type": "execute_result"
    }
   ],
   "source": [
    "from glob import glob  #글롭이라는 모듈 안에 글롭이라는 함수를 쓰는 것.\n",
    "glob('test')\n",
    "glob('test/a1.py')"
   ]
  },
  {
   "cell_type": "code",
   "execution_count": 59,
   "metadata": {
    "ExecuteTime": {
     "end_time": "2023-01-02T02:25:39.810431Z",
     "start_time": "2023-01-02T02:25:39.797388Z"
    }
   },
   "outputs": [
    {
     "data": {
      "text/plain": [
       "['test/a1.txt', 'test/a2.txt', 'test/a3.txt', 'test/img2.png', 'test/img1.png']"
      ]
     },
     "execution_count": 59,
     "metadata": {},
     "output_type": "execute_result"
    }
   ],
   "source": [
    "glob('test/*.*')"
   ]
  },
  {
   "cell_type": "code",
   "execution_count": 61,
   "metadata": {
    "ExecuteTime": {
     "end_time": "2023-01-02T02:26:02.366241Z",
     "start_time": "2023-01-02T02:26:02.355151Z"
    }
   },
   "outputs": [
    {
     "data": {
      "text/plain": [
       "[]"
      ]
     },
     "execution_count": 61,
     "metadata": {},
     "output_type": "execute_result"
    }
   ],
   "source": [
    "glob('test/*.py')"
   ]
  },
  {
   "cell_type": "code",
   "execution_count": 58,
   "metadata": {
    "ExecuteTime": {
     "end_time": "2023-01-02T02:25:35.161794Z",
     "start_time": "2023-01-02T02:25:35.150059Z"
    }
   },
   "outputs": [
    {
     "data": {
      "text/plain": [
       "['test/a1.txt', 'test/a2.txt', 'test/a3.txt']"
      ]
     },
     "execution_count": 58,
     "metadata": {},
     "output_type": "execute_result"
    }
   ],
   "source": [
    "glob('test/a?.*')"
   ]
  },
  {
   "cell_type": "code",
   "execution_count": 57,
   "metadata": {
    "ExecuteTime": {
     "end_time": "2023-01-02T02:25:27.823603Z",
     "start_time": "2023-01-02T02:25:27.812853Z"
    }
   },
   "outputs": [
    {
     "data": {
      "text/plain": [
       "['test/a1.txt',\n",
       " 'test/a2.txt',\n",
       " 'test/a3.txt',\n",
       " 'test/img2.png',\n",
       " 'test/img1.png',\n",
       " 'test/dir1']"
      ]
     },
     "execution_count": 57,
     "metadata": {},
     "output_type": "execute_result"
    }
   ],
   "source": [
    "glob('test/*')"
   ]
  },
  {
   "cell_type": "code",
   "execution_count": 62,
   "metadata": {
    "ExecuteTime": {
     "end_time": "2023-01-02T02:28:22.078346Z",
     "start_time": "2023-01-02T02:28:22.065732Z"
    }
   },
   "outputs": [
    {
     "data": {
      "text/plain": [
       "['test/dir1 복사본/a1.py',\n",
       " 'test/dir1 복사본/a2.py',\n",
       " 'test/dir1/a1.py',\n",
       " 'test/dir1/a2.py',\n",
       " 'test/dir1 복사본 2/a1.py',\n",
       " 'test/dir1 복사본 2/a2.py']"
      ]
     },
     "execution_count": 62,
     "metadata": {},
     "output_type": "execute_result"
    }
   ],
   "source": [
    "glob(\"test/**/*.py\")    # test / 모든하위디렉토리 / *.py"
   ]
  },
  {
   "cell_type": "code",
   "execution_count": null,
   "metadata": {},
   "outputs": [],
   "source": [
    "glob(\"test/**/*.py, recursive=True\")  #Test directory, 그 하위, 그 하위 --> 모든 하위 디렉토리를 다 찾아준다."
   ]
  },
  {
   "cell_type": "code",
   "execution_count": 71,
   "metadata": {
    "ExecuteTime": {
     "end_time": "2023-01-02T02:36:25.191798Z",
     "start_time": "2023-01-02T02:36:25.171604Z"
    },
    "collapsed": true
   },
   "outputs": [
    {
     "ename": "FileExistsError",
     "evalue": "[Errno 17] File exists: 'a/b/c/d'",
     "output_type": "error",
     "traceback": [
      "\u001b[0;31m---------------------------------------------------------------------------\u001b[0m",
      "\u001b[0;31mFileExistsError\u001b[0m                           Traceback (most recent call last)",
      "\u001b[0;32m/var/folders/jf/l3x8dj6n62s041cwvf169t5w0000gn/T/ipykernel_2833/3234381558.py\u001b[0m in \u001b[0;36m<module>\u001b[0;34m\u001b[0m\n\u001b[1;32m      1\u001b[0m \u001b[0;31m# os.mkdir('a/b/c/d')    # 오류나는 이유는 a,b,c 디렉토리가 없기 때문에 못찾음\u001b[0m\u001b[0;34m\u001b[0m\u001b[0;34m\u001b[0m\u001b[0m\n\u001b[0;32m----> 2\u001b[0;31m \u001b[0mos\u001b[0m\u001b[0;34m.\u001b[0m\u001b[0mmakedirs\u001b[0m\u001b[0;34m(\u001b[0m\u001b[0;34m'a/b/c/d'\u001b[0m\u001b[0;34m)\u001b[0m  \u001b[0;31m# 상위디렉토리가 없으면 상위 디렉토리까지 만든다.\u001b[0m\u001b[0;34m\u001b[0m\u001b[0;34m\u001b[0m\u001b[0m\n\u001b[0m\u001b[1;32m      3\u001b[0m \u001b[0;31m# os.makedirs('a/b/c/e', exist_ok=True)  # 상위디렉토리가 없으면 만들고 있으면 말어.\u001b[0m\u001b[0;34m\u001b[0m\u001b[0;34m\u001b[0m\u001b[0m\n",
      "\u001b[0;32m~/opt/anaconda3/lib/python3.9/os.py\u001b[0m in \u001b[0;36mmakedirs\u001b[0;34m(name, mode, exist_ok)\u001b[0m\n\u001b[1;32m    223\u001b[0m             \u001b[0;32mreturn\u001b[0m\u001b[0;34m\u001b[0m\u001b[0;34m\u001b[0m\u001b[0m\n\u001b[1;32m    224\u001b[0m     \u001b[0;32mtry\u001b[0m\u001b[0;34m:\u001b[0m\u001b[0;34m\u001b[0m\u001b[0;34m\u001b[0m\u001b[0m\n\u001b[0;32m--> 225\u001b[0;31m         \u001b[0mmkdir\u001b[0m\u001b[0;34m(\u001b[0m\u001b[0mname\u001b[0m\u001b[0;34m,\u001b[0m \u001b[0mmode\u001b[0m\u001b[0;34m)\u001b[0m\u001b[0;34m\u001b[0m\u001b[0;34m\u001b[0m\u001b[0m\n\u001b[0m\u001b[1;32m    226\u001b[0m     \u001b[0;32mexcept\u001b[0m \u001b[0mOSError\u001b[0m\u001b[0;34m:\u001b[0m\u001b[0;34m\u001b[0m\u001b[0;34m\u001b[0m\u001b[0m\n\u001b[1;32m    227\u001b[0m         \u001b[0;31m# Cannot rely on checking for EEXIST, since the operating system\u001b[0m\u001b[0;34m\u001b[0m\u001b[0;34m\u001b[0m\u001b[0m\n",
      "\u001b[0;31mFileExistsError\u001b[0m: [Errno 17] File exists: 'a/b/c/d'"
     ]
    }
   ],
   "source": [
    "# os.mkdir('a/b/c/d')    # 오류나는 이유는 a,b,c 디렉토리가 없기 때문에 못찾음\n",
    "os.makedirs('a/b/c/d')  # 상위디렉토리가 없으면 상위 디렉토리까지 만든다.\n",
    "# os.makedirs('a/b/c/e', exist_ok=True)  # 상위디렉토리가 없으면 만들고 있으면 말어."
   ]
  },
  {
   "cell_type": "markdown",
   "metadata": {},
   "source": [
    "## Pathlib 모듈을 이용해 경로 처리 ##"
   ]
  },
  {
   "cell_type": "code",
   "execution_count": 73,
   "metadata": {
    "ExecuteTime": {
     "end_time": "2023-01-02T02:39:39.804839Z",
     "start_time": "2023-01-02T02:39:39.794035Z"
    },
    "scrolled": true
   },
   "outputs": [
    {
     "name": "stdout",
     "output_type": "stream",
     "text": [
      "test\n",
      "<class 'pathlib.PosixPath'>\n"
     ]
    }
   ],
   "source": [
    "from pathlib import Path\n",
    "#Path: attribute 로 파일/디렉토리 경로를 가지며 그 경로 관련 처리를 하는 다양한 메소드를 제공.\n",
    "\n",
    "path = Path('test')  # test 디렉토리를 다루는 경로객체 생성\n",
    "print(path)\n",
    "print(type(path))"
   ]
  },
  {
   "cell_type": "code",
   "execution_count": 74,
   "metadata": {
    "ExecuteTime": {
     "end_time": "2023-01-02T02:41:33.808890Z",
     "start_time": "2023-01-02T02:41:33.799954Z"
    }
   },
   "outputs": [
    {
     "name": "stdout",
     "output_type": "stream",
     "text": [
      "test/dir1/dir2/my_file.txt\n"
     ]
    }
   ],
   "source": [
    "# 경로 합치기( os.path.join('경로1','경로2','경로3')    '경로1/경로2/경로3'\n",
    "path1 = path / \"dir1\" / \"dir2\" / \"my_file.txt\"   # 경로를 만드는 것이지 있는지 없는지는 모른다.\n",
    "print(path1)"
   ]
  },
  {
   "cell_type": "code",
   "execution_count": 77,
   "metadata": {
    "ExecuteTime": {
     "end_time": "2023-01-02T02:44:41.241828Z",
     "start_time": "2023-01-02T02:44:41.229367Z"
    }
   },
   "outputs": [
    {
     "data": {
      "text/plain": [
       "(False, True, False)"
      ]
     },
     "execution_count": 77,
     "metadata": {},
     "output_type": "execute_result"
    }
   ],
   "source": [
    "path1.is_file(), path.is_dir(), path1.exists()    #path1이 가진 경로가 있는지 여부 확인\n",
    "                                                  # 파일이 있어? 디렉토리가 있어? 경로가 있어?"
   ]
  },
  {
   "cell_type": "code",
   "execution_count": 79,
   "metadata": {
    "ExecuteTime": {
     "end_time": "2023-01-02T02:46:23.518085Z",
     "start_time": "2023-01-02T02:46:23.504886Z"
    }
   },
   "outputs": [
    {
     "data": {
      "text/plain": [
       "('test', 'dir1', 'dir2', 'my_file.txt')"
      ]
     },
     "execution_count": 79,
     "metadata": {},
     "output_type": "execute_result"
    }
   ],
   "source": [
    "path1.parts   # 각 경로 요소들을 나눠서 튜플로 반환"
   ]
  },
  {
   "cell_type": "code",
   "execution_count": 82,
   "metadata": {
    "ExecuteTime": {
     "end_time": "2023-01-02T02:47:29.416509Z",
     "start_time": "2023-01-02T02:47:29.403286Z"
    }
   },
   "outputs": [
    {
     "data": {
      "text/plain": [
       "('my_file.txt', 'my_file.txt')"
      ]
     },
     "execution_count": 82,
     "metadata": {},
     "output_type": "execute_result"
    }
   ],
   "source": [
    "path1.name    # 마지막 경로(파일/디렉토리)의 이름을 조회.\n",
    "path1.name, path1.parts[-1]   #위에 것과 동일하지만 다른 표현"
   ]
  },
  {
   "cell_type": "code",
   "execution_count": 84,
   "metadata": {
    "ExecuteTime": {
     "end_time": "2023-01-02T02:48:12.968227Z",
     "start_time": "2023-01-02T02:48:12.961760Z"
    }
   },
   "outputs": [
    {
     "data": {
      "text/plain": [
       "'.txt'"
      ]
     },
     "execution_count": 84,
     "metadata": {},
     "output_type": "execute_result"
    }
   ],
   "source": [
    "path1.suffix   #마지막 경로가 피일일 때 확장자를 반환. 확장자가 없을 경우 None 반환"
   ]
  },
  {
   "cell_type": "code",
   "execution_count": 86,
   "metadata": {
    "ExecuteTime": {
     "end_time": "2023-01-02T02:48:50.894282Z",
     "start_time": "2023-01-02T02:48:50.884177Z"
    },
    "scrolled": true
   },
   "outputs": [
    {
     "data": {
      "text/plain": [
       "'my_file'"
      ]
     },
     "execution_count": 86,
     "metadata": {},
     "output_type": "execute_result"
    }
   ],
   "source": [
    "path1.stem     #확장자를 뺀 파일명 또는 디렉토리 이름을 반환."
   ]
  },
  {
   "cell_type": "code",
   "execution_count": 87,
   "metadata": {
    "ExecuteTime": {
     "end_time": "2023-01-02T02:49:20.667008Z",
     "start_time": "2023-01-02T02:49:20.655678Z"
    }
   },
   "outputs": [
    {
     "data": {
      "text/plain": [
       "PosixPath('test')"
      ]
     },
     "execution_count": 87,
     "metadata": {},
     "output_type": "execute_result"
    }
   ],
   "source": [
    "path"
   ]
  },
  {
   "cell_type": "code",
   "execution_count": 96,
   "metadata": {
    "ExecuteTime": {
     "end_time": "2023-01-02T02:50:50.377197Z",
     "start_time": "2023-01-02T02:50:50.364551Z"
    }
   },
   "outputs": [
    {
     "data": {
      "text/plain": [
       "[PosixPath('test/dir1 복사본/a1.py'),\n",
       " PosixPath('test/dir1 복사본/a2.py'),\n",
       " PosixPath('test/dir1/a1.py'),\n",
       " PosixPath('test/dir1/a2.py'),\n",
       " PosixPath('test/dir1 복사본 2/a1.py'),\n",
       " PosixPath('test/dir1 복사본 2/a2.py')]"
      ]
     },
     "execution_count": 96,
     "metadata": {},
     "output_type": "execute_result"
    }
   ],
   "source": [
    "lst = path.glob(\"**/*.py\")\n",
    "list(lst)"
   ]
  },
  {
   "cell_type": "code",
   "execution_count": 99,
   "metadata": {
    "ExecuteTime": {
     "end_time": "2023-01-02T02:52:07.597023Z",
     "start_time": "2023-01-02T02:52:07.585718Z"
    }
   },
   "outputs": [
    {
     "data": {
      "text/plain": [
       "[PosixPath('test/img2.png'), PosixPath('test/img1.png')]"
      ]
     },
     "execution_count": 99,
     "metadata": {},
     "output_type": "execute_result"
    }
   ],
   "source": [
    "list(path.glob('*.png'))"
   ]
  },
  {
   "cell_type": "code",
   "execution_count": 101,
   "metadata": {
    "ExecuteTime": {
     "end_time": "2023-01-02T03:09:17.102738Z",
     "start_time": "2023-01-02T03:09:17.091135Z"
    }
   },
   "outputs": [
    {
     "data": {
      "text/plain": [
       "'/Users/chanhupark/Documents/CODING/PLAYDATA/Python/01_python기초'"
      ]
     },
     "execution_count": 101,
     "metadata": {},
     "output_type": "execute_result"
    }
   ],
   "source": [
    "os.getcwd()     #현재 디렉토리"
   ]
  },
  {
   "cell_type": "code",
   "execution_count": 104,
   "metadata": {
    "ExecuteTime": {
     "end_time": "2023-01-02T03:11:14.941037Z",
     "start_time": "2023-01-02T03:11:14.931487Z"
    }
   },
   "outputs": [],
   "source": [
    "dir_path = Path('test5')\n",
    "dir_path.mkdir()            # test5(폴더) 라는 Path 객체 경로의 디렉토리를 생성 "
   ]
  },
  {
   "cell_type": "code",
   "execution_count": null,
   "metadata": {},
   "outputs": [],
   "source": [
    "dir_path.mkdir(exist_ok = True) #Path 객체 경로의 디렉토리를 생성/    "
   ]
  },
  {
   "cell_type": "code",
   "execution_count": 105,
   "metadata": {
    "ExecuteTime": {
     "end_time": "2023-01-02T03:14:27.957210Z",
     "start_time": "2023-01-02T03:14:27.945780Z"
    }
   },
   "outputs": [
    {
     "name": "stdout",
     "output_type": "stream",
     "text": [
      "new-test5\n"
     ]
    }
   ],
   "source": [
    "new_path = dir_path.rename(r'new-test5')  # 디렉토리/파일의 이름을 변경하고 새경로(path)를 반환\n",
    "print(new_path)\n",
    "\n",
    "#### 이 부분 2개 선생님 것!!####"
   ]
  },
  {
   "cell_type": "code",
   "execution_count": 106,
   "metadata": {
    "ExecuteTime": {
     "end_time": "2023-01-02T03:14:35.754507Z",
     "start_time": "2023-01-02T03:14:35.744217Z"
    }
   },
   "outputs": [
    {
     "data": {
      "text/plain": [
       "PosixPath('new-test5')"
      ]
     },
     "execution_count": 106,
     "metadata": {},
     "output_type": "execute_result"
    }
   ],
   "source": [
    "new_path"
   ]
  },
  {
   "cell_type": "code",
   "execution_count": null,
   "metadata": {},
   "outputs": [],
   "source": [
    "# 디렉토리 삭제#"
   ]
  },
  {
   "cell_type": "code",
   "execution_count": 107,
   "metadata": {
    "ExecuteTime": {
     "end_time": "2023-01-02T03:15:28.139539Z",
     "start_time": "2023-01-02T03:15:28.130403Z"
    }
   },
   "outputs": [],
   "source": [
    "new_path.rmdir()"
   ]
  },
  {
   "cell_type": "code",
   "execution_count": 108,
   "metadata": {
    "ExecuteTime": {
     "end_time": "2023-01-02T03:16:23.385719Z",
     "start_time": "2023-01-02T03:16:23.380088Z"
    }
   },
   "outputs": [
    {
     "name": "stdout",
     "output_type": "stream",
     "text": [
      "<bound method Path.is_file of PosixPath('test/a1.py')> test/a1.py\n"
     ]
    }
   ],
   "source": [
    "f_path = path / 'a1.py'\n",
    "print(f_path.is_file, f_path)"
   ]
  },
  {
   "cell_type": "code",
   "execution_count": 109,
   "metadata": {
    "ExecuteTime": {
     "end_time": "2023-01-02T03:17:04.470730Z",
     "start_time": "2023-01-02T03:17:04.452358Z"
    }
   },
   "outputs": [
    {
     "ename": "FileNotFoundError",
     "evalue": "[Errno 2] No such file or directory: 'test/a1.py'",
     "output_type": "error",
     "traceback": [
      "\u001b[0;31m---------------------------------------------------------------------------\u001b[0m",
      "\u001b[0;31mFileNotFoundError\u001b[0m                         Traceback (most recent call last)",
      "\u001b[0;32m/var/folders/jf/l3x8dj6n62s041cwvf169t5w0000gn/T/ipykernel_2833/518641156.py\u001b[0m in \u001b[0;36m<module>\u001b[0;34m\u001b[0m\n\u001b[1;32m      1\u001b[0m \u001b[0;31m# 파일 삭제\u001b[0m\u001b[0;34m\u001b[0m\u001b[0;34m\u001b[0m\u001b[0m\n\u001b[0;32m----> 2\u001b[0;31m \u001b[0mf_path\u001b[0m\u001b[0;34m.\u001b[0m\u001b[0munlink\u001b[0m\u001b[0;34m(\u001b[0m\u001b[0;34m)\u001b[0m\u001b[0;34m\u001b[0m\u001b[0;34m\u001b[0m\u001b[0m\n\u001b[0m\u001b[1;32m      3\u001b[0m \u001b[0mprint\u001b[0m\u001b[0;34m(\u001b[0m\u001b[0mf_path\u001b[0m\u001b[0;34m.\u001b[0m\u001b[0mis_file\u001b[0m\u001b[0;34m(\u001b[0m\u001b[0;34m)\u001b[0m\u001b[0;34m,\u001b[0m \u001b[0mf_path\u001b[0m\u001b[0;34m)\u001b[0m\u001b[0;34m\u001b[0m\u001b[0;34m\u001b[0m\u001b[0m\n",
      "\u001b[0;32m~/opt/anaconda3/lib/python3.9/pathlib.py\u001b[0m in \u001b[0;36munlink\u001b[0;34m(self, missing_ok)\u001b[0m\n\u001b[1;32m   1352\u001b[0m         \"\"\"\n\u001b[1;32m   1353\u001b[0m         \u001b[0;32mtry\u001b[0m\u001b[0;34m:\u001b[0m\u001b[0;34m\u001b[0m\u001b[0;34m\u001b[0m\u001b[0m\n\u001b[0;32m-> 1354\u001b[0;31m             \u001b[0mself\u001b[0m\u001b[0;34m.\u001b[0m\u001b[0m_accessor\u001b[0m\u001b[0;34m.\u001b[0m\u001b[0munlink\u001b[0m\u001b[0;34m(\u001b[0m\u001b[0mself\u001b[0m\u001b[0;34m)\u001b[0m\u001b[0;34m\u001b[0m\u001b[0;34m\u001b[0m\u001b[0m\n\u001b[0m\u001b[1;32m   1355\u001b[0m         \u001b[0;32mexcept\u001b[0m \u001b[0mFileNotFoundError\u001b[0m\u001b[0;34m:\u001b[0m\u001b[0;34m\u001b[0m\u001b[0;34m\u001b[0m\u001b[0m\n\u001b[1;32m   1356\u001b[0m             \u001b[0;32mif\u001b[0m \u001b[0;32mnot\u001b[0m \u001b[0mmissing_ok\u001b[0m\u001b[0;34m:\u001b[0m\u001b[0;34m\u001b[0m\u001b[0;34m\u001b[0m\u001b[0m\n",
      "\u001b[0;31mFileNotFoundError\u001b[0m: [Errno 2] No such file or directory: 'test/a1.py'"
     ]
    }
   ],
   "source": [
    "# 파일 삭제\n",
    "f_path.unlink()\n",
    "print(f_path.is_file(), f_path)"
   ]
  },
  {
   "cell_type": "code",
   "execution_count": 110,
   "metadata": {
    "ExecuteTime": {
     "end_time": "2023-01-02T03:18:33.109319Z",
     "start_time": "2023-01-02T03:18:33.100317Z"
    }
   },
   "outputs": [],
   "source": [
    "for f in path.glob('*.py'):  # 확장자가 .py 인 파일 모두 삭제.\n",
    "\n",
    "#       print(type(f))\n",
    "       f.unlink()"
   ]
  },
  {
   "cell_type": "markdown",
   "metadata": {},
   "source": []
  },
  {
   "cell_type": "markdown",
   "metadata": {
    "slideshow": {
     "slide_type": "slide"
    }
   },
   "source": [
    "# 입출력 (IO)\n",
    "\n",
    "## 입출력이란\n",
    "- 프로그램이 사용하려는 외부 자원을 연결하여 데이터를 입력 받거나 출력하는 작업을 IO라고 한다.\n",
    "- 외부 자원\n",
    "    - 파일, 원격지 컴퓨터, 파일 등.\n",
    "- **Stream**\n",
    "    - 입출력 시 **데이터의 흐름을 stream** 이라고 한다.\n",
    "- InputStream  (읽어드리는 기능)\n",
    "    - Program이 외부로 부터 데이터를 읽어 들이는 흐름.\n",
    "- OutputStream  (출력해주는 기능)\n",
    "    - Program이 외부로 데이터를 써주는 흐름.\n",
    "\n",
    "\n",
    "![io](images/ch09_01.png)"
   ]
  },
  {
   "cell_type": "markdown",
   "metadata": {
    "slideshow": {
     "slide_type": "subslide"
    }
   },
   "source": [
    "## IO 코딩 순서\n",
    "![순서](images/ch09_02.png)"
   ]
  },
  {
   "cell_type": "markdown",
   "metadata": {
    "slideshow": {
     "slide_type": "subslide"
    }
   },
   "source": [
    "### 파일 열기(연결)\n",
    "- open() 함수 사용\n",
    "    - 연결된 파일과 입출력 메소드를 제공하는 객체(Stream)를 리턴\n",
    "- 구문\n",
    "    - `open(file, mode='r', encoding=None)`\n",
    "    - 함수 주요 매개변수\n",
    "        - file : 연결할 파일 경로\n",
    "        - mode : 열기 모드\n",
    "        - 모드는 목적, 데이터종류를 조합한다.\n",
    "        - encoding \n",
    "            - 텍스트 파일일 경우 인코딩 방식\n",
    "            - None 또는 생략하면  os 기본 encoding방식을 따른다.\n",
    "                - Windows: cp949/euckr\n",
    "                - Linux, Unix: utf-8\n",
    "|mode타입|mode문자|설명|\n",
    "|:-|-|-|\n",
    "|목적|r(input)|읽기 목적의 기본 모드(제일많이사용)|\n",
    "||w(output)|새로 쓰기 모드(제일많이사용)|\n",
    "||a(output)|이어 쓰기 모드|\n",
    "||x(output)|새로 쓰기모드-연결하려는 파일이 있으면 Exception발생|\n",
    "|데이터종류|b|binary 모드|\n",
    "||t|Text모드-text데이터 입출력시 사용|\n",
    "ex) \"rt\", \"rp\"    "
   ]
  },
  {
   "cell_type": "markdown",
   "metadata": {
    "slideshow": {
     "slide_type": "subslide"
    }
   },
   "source": [
    "### 출력 메소드\n",
    "\n",
    "- write(출력할 Data)\n",
    "    - 연결된 파일에 `출력할 Data` 출력한다.\n",
    "- writelines(문자열을 가진 컬렉션)\n",
    "    - 리스트, 튜플, 집합이 원소로 가진 문자열들을 한번에 출력한다.\n",
    "    - text 출력일 경우에만 사용가능.\n",
    "    - 원소에 문자열 이외의 타입의 값이 있을 경우 TypeError 발생"
   ]
  },
  {
   "cell_type": "code",
   "execution_count": 118,
   "metadata": {
    "ExecuteTime": {
     "end_time": "2023-01-02T05:37:28.538329Z",
     "start_time": "2023-01-02T05:37:28.526951Z"
    }
   },
   "outputs": [
    {
     "data": {
      "text/plain": [
       "'/Users/chanhupark/Documents/CODING/PLAYDATA/Python/01_python기초'"
      ]
     },
     "execution_count": 118,
     "metadata": {},
     "output_type": "execute_result"
    }
   ],
   "source": [
    "os.getcwd()"
   ]
  },
  {
   "cell_type": "code",
   "execution_count": 116,
   "metadata": {
    "ExecuteTime": {
     "end_time": "2023-01-02T05:36:54.277170Z",
     "start_time": "2023-01-02T05:36:54.265665Z"
    },
    "slideshow": {
     "slide_type": "fragment"
    }
   },
   "outputs": [
    {
     "name": "stdout",
     "output_type": "stream",
     "text": [
      "file_data/test.txt\n"
     ]
    }
   ],
   "source": [
    "from pathlib import Path\n",
    "# file_data 폴더 아래 text/binary 파일을 쓰기\n",
    "# 파일 저장할 디렉토리가 없으면 디렉토리를 만든다.\n",
    "dir_path =Path('file_data')\n",
    "dir_path.mkdir(exist_ok=True)\n",
    "write_path = \"file_data/test.txt\"    \n",
    "print(write_path)"
   ]
  },
  {
   "cell_type": "code",
   "execution_count": 117,
   "metadata": {
    "ExecuteTime": {
     "end_time": "2023-01-02T05:37:02.167660Z",
     "start_time": "2023-01-02T05:37:02.153880Z"
    },
    "slideshow": {
     "slide_type": "fragment"
    }
   },
   "outputs": [
    {
     "data": {
      "text/plain": [
       "<_io.TextIOWrapper name='file_data/test.txt' mode='wt' encoding='UTF-8'>"
      ]
     },
     "execution_count": 117,
     "metadata": {},
     "output_type": "execute_result"
    }
   ],
   "source": [
    "open(write_path, mode='wt')"
   ]
  },
  {
   "cell_type": "code",
   "execution_count": 121,
   "metadata": {
    "ExecuteTime": {
     "end_time": "2023-01-02T06:14:47.891822Z",
     "start_time": "2023-01-02T06:14:47.881100Z"
    }
   },
   "outputs": [],
   "source": [
    "# 1. 연결\n",
    "#    1. 연결할 파일의 경로: 문자열, path객체 - 절대경로/상대경로 상관 없음\n",
    "#    2. wt - w : 쓰기 모드, t: text\n",
    "fw = open(write_path, mode='wt')   \n",
    "\n",
    "# 2. 출력(w모드)\n",
    "fw.write('abcde\\n')\n",
    "fw.write('가나다라\\n')\n",
    "fw.write('12345')\n",
    "\n",
    "# 연결 닫기\n",
    "fw.close()"
   ]
  },
  {
   "cell_type": "code",
   "execution_count": 124,
   "metadata": {
    "ExecuteTime": {
     "end_time": "2023-01-02T06:17:08.168021Z",
     "start_time": "2023-01-02T06:17:08.157068Z"
    }
   },
   "outputs": [],
   "source": [
    "txt = \"\"\"안녕하세요.\n",
    "반갑습니다'\n",
    "또 만나요.\"\"\"\n",
    "\n",
    "write_path2  = dir_path / 'test2.txt'\n",
    "fw = open(write_path2, mode='wt', encoding='utf-8')\n",
    "fw.write(txt)\n",
    "fw.close()"
   ]
  },
  {
   "cell_type": "code",
   "execution_count": null,
   "metadata": {},
   "outputs": [],
   "source": [
    "txt_list = [\"첫번째 줄\", \"두번째 줄\", \"세번째 줄\"]    ####선생님것!!!!!######\n",
    "write_path3 = dir_path / 'test3.txt'\n",
    "fw = open(write)\n",
    "# for txt in txt_list\n",
    "#     fw.write(txt)\n",
    "\n",
    "fw.writelines(txt_lines)\n",
    "fw.close()"
   ]
  },
  {
   "cell_type": "code",
   "execution_count": 125,
   "metadata": {
    "ExecuteTime": {
     "end_time": "2023-01-02T06:26:46.725689Z",
     "start_time": "2023-01-02T06:26:46.712597Z"
    }
   },
   "outputs": [
    {
     "ename": "SyntaxError",
     "evalue": "invalid syntax (2878819163.py, line 3)",
     "output_type": "error",
     "traceback": [
      "\u001b[0;36m  File \u001b[0;32m\"/var/folders/jf/l3x8dj6n62s041cwvf169t5w0000gn/T/ipykernel_2833/2878819163.py\"\u001b[0;36m, line \u001b[0;32m3\u001b[0m\n\u001b[0;31m    print(fw.mode, fw.encoding)\u001b[0m\n\u001b[0m    ^\u001b[0m\n\u001b[0;31mSyntaxError\u001b[0m\u001b[0;31m:\u001b[0m invalid syntax\n"
     ]
    }
   ],
   "source": [
    "fw = open(write_path3, mode = 'rt', encoding='utf-8' )  ######선생님 것!!######\n",
    "print (type(fw)\n",
    "print(fw.mode, fw.encoding)\n",
    "fw.close()\n",
    "fw.write('abc)')\n",
    "       \n",
    "       "
   ]
  },
  {
   "cell_type": "markdown",
   "metadata": {
    "slideshow": {
     "slide_type": "slide"
    }
   },
   "source": [
    "### 입력 메소드(읽는 것)\n",
    "- read() : 문자열(text mode), bytes(binary mode) \n",
    "    - 연결된 파일의 내용을 한번에 모두 읽어 들인다.\n",
    "- readline() : 문자열(text mode), bytes(binary mode)\n",
    "    - 한 줄만 읽는다.\n",
    "    - text 입력일 경우만 사용가능\n",
    "    - 읽은 라인이 없으면 `빈문자열`을 리턴한다.\n",
    "- readlines() : 리스트\n",
    "    - 한번에 다 읽은 뒤 각각의 라인을 리스트에 원소로 담아 반환한다.\n",
    "- Input Stream (TextIOWrapper, BufferedReader)는 Iterable 타입\n",
    "    - for문을 이용한 라인단위 순차 조회할 수 있다."
   ]
  },
  {
   "cell_type": "code",
   "execution_count": 128,
   "metadata": {
    "ExecuteTime": {
     "end_time": "2023-01-02T06:38:37.718642Z",
     "start_time": "2023-01-02T06:38:37.708454Z"
    },
    "scrolled": true,
    "slideshow": {
     "slide_type": "fragment"
    }
   },
   "outputs": [
    {
     "name": "stdout",
     "output_type": "stream",
     "text": [
      "abcde\n",
      "가나다라\n",
      "12345\n"
     ]
    }
   ],
   "source": [
    "# read_path = dir_path / 'test.txt'\n",
    "read_path = \"file_data/test.txt\"\n",
    "fr = open(read_path, mode = 'rt', encoding='utf-8') \n",
    "# 모드: r-read, t-text파일, encoding : default는 os 인코딩방식\n",
    "#                                   (win: cp949, mac: ????? )\n",
    "\n",
    "# 읽기 - read() : 한번에 전체를 다 읽는다.\n",
    "\n",
    "r_txt = fr.read()\n",
    "\n",
    "print(r_txt)\n",
    "\n",
    "#3. 연결닫기\n",
    "fr.close()"
   ]
  },
  {
   "cell_type": "code",
   "execution_count": 131,
   "metadata": {
    "ExecuteTime": {
     "end_time": "2023-01-02T06:43:36.962964Z",
     "start_time": "2023-01-02T06:43:36.953394Z"
    }
   },
   "outputs": [
    {
     "name": "stdout",
     "output_type": "stream",
     "text": [
      "abcde\n",
      "\n",
      "가나다라\n",
      "\n",
      "12345\n",
      "\n",
      "\n"
     ]
    }
   ],
   "source": [
    "fr = open(read_path, mode = 'rt', encoding='utf-8')\n",
    "print(fr.readline())       #첫번째 줄.\n",
    "print(fr.readline())       #두번째 줄.\n",
    "print(fr.readline())       #세번째 줄.\n",
    "print(fr.readline())       #네번째 줄. - 없는 줄일 경우 비문자 반환.\n",
    "\n",
    "fr.close()"
   ]
  },
  {
   "cell_type": "code",
   "execution_count": 132,
   "metadata": {
    "ExecuteTime": {
     "end_time": "2023-01-02T06:48:01.246827Z",
     "start_time": "2023-01-02T06:48:01.230577Z"
    }
   },
   "outputs": [
    {
     "ename": "NameError",
     "evalue": "name 'line_num' is not defined",
     "output_type": "error",
     "traceback": [
      "\u001b[0;31m---------------------------------------------------------------------------\u001b[0m",
      "\u001b[0;31mNameError\u001b[0m                                 Traceback (most recent call last)",
      "\u001b[0;32m/var/folders/jf/l3x8dj6n62s041cwvf169t5w0000gn/T/ipykernel_2833/44685463.py\u001b[0m in \u001b[0;36m<module>\u001b[0;34m\u001b[0m\n\u001b[1;32m      4\u001b[0m     \u001b[0;32mif\u001b[0m \u001b[0;32mnot\u001b[0m \u001b[0mtxt\u001b[0m\u001b[0;34m:\u001b[0m \u001b[0;31m#빈 문자열이라면 -> 다 읽었다.\u001b[0m\u001b[0;34m\u001b[0m\u001b[0;34m\u001b[0m\u001b[0m\n\u001b[1;32m      5\u001b[0m         \u001b[0;32mbreak\u001b[0m\u001b[0;34m\u001b[0m\u001b[0;34m\u001b[0m\u001b[0m\n\u001b[0;32m----> 6\u001b[0;31m     \u001b[0mline_num\u001b[0m \u001b[0;34m+=\u001b[0m \u001b[0;36m1\u001b[0m\u001b[0;34m\u001b[0m\u001b[0;34m\u001b[0m\u001b[0m\n\u001b[0m\u001b[1;32m      7\u001b[0m     \u001b[0mprint\u001b[0m\u001b[0;34m(\u001b[0m\u001b[0mstr\u001b[0m\u001b[0;34m(\u001b[0m\u001b[0mline_num\u001b[0m\u001b[0;34m)\u001b[0m\u001b[0;34m+\u001b[0m\u001b[0;34m\", \"\u001b[0m \u001b[0;34m+\u001b[0m \u001b[0mtxt\u001b[0m\u001b[0;34m,\u001b[0m \u001b[0mend\u001b[0m \u001b[0;34m=\u001b[0m \u001b[0;34m''\u001b[0m\u001b[0;34m)\u001b[0m\u001b[0;34m\u001b[0m\u001b[0;34m\u001b[0m\u001b[0m\n\u001b[1;32m      8\u001b[0m \u001b[0mfr\u001b[0m\u001b[0;34m.\u001b[0m\u001b[0mclose\u001b[0m\u001b[0;34m(\u001b[0m\u001b[0;34m)\u001b[0m\u001b[0;34m\u001b[0m\u001b[0;34m\u001b[0m\u001b[0m\n",
      "\u001b[0;31mNameError\u001b[0m: name 'line_num' is not defined"
     ]
    }
   ],
   "source": [
    "fr = open(read_path, mode = 'rt', encoding='utf-8')    ###선생님것. 왜 안되지?????####\n",
    "while True:\n",
    "    txt = fr.readline()\n",
    "    if not txt: #빈 문자열이라면 -> 다 읽었다.\n",
    "        break\n",
    "    line_num += 1\n",
    "    print(str(line_num)+\", \" + txt, end = '') \n",
    "fr.close()"
   ]
  },
  {
   "cell_type": "code",
   "execution_count": 136,
   "metadata": {
    "ExecuteTime": {
     "end_time": "2023-01-02T06:52:28.401882Z",
     "start_time": "2023-01-02T06:52:28.387578Z"
    }
   },
   "outputs": [
    {
     "name": "stdout",
     "output_type": "stream",
     "text": [
      "['abcde\\n', '가나다라\\n', '12345']\n",
      "1, abcde\n",
      " 2, 가나다라\n",
      " 3, 12345 "
     ]
    }
   ],
   "source": [
    "# readlines        ######선생님것##########\n",
    "fr = open(read_path, mode = 'rt', encoding='utf-8')\n",
    "txt_list = fr.readlines()\n",
    "print(txt_list)\n",
    "for idx, txt in enumerate (txt_list, start =1):\n",
    "    print(f\"{idx}, {txt}\", end=' ')\n",
    "fr.close()"
   ]
  },
  {
   "cell_type": "code",
   "execution_count": 140,
   "metadata": {
    "ExecuteTime": {
     "end_time": "2023-01-02T07:14:04.423047Z",
     "start_time": "2023-01-02T07:14:04.409840Z"
    }
   },
   "outputs": [
    {
     "name": "stdout",
     "output_type": "stream",
     "text": [
      "0-abcde\n",
      "1-가나다라\n",
      "2-12345"
     ]
    }
   ],
   "source": [
    "fr = open(read_path, mode='rt', encoding='utf-8')\n",
    "#read 모드의 Inputstrem rorcpsms Iterable 타입=>for in 문에서 사용가능=>한너 반복시마다 한줄씩 반환.\n",
    "for line_num, txt in enumerate(fr):\n",
    "    print(f'{line_num}-{txt}', end='')\n",
    "fr.close()"
   ]
  },
  {
   "cell_type": "code",
   "execution_count": null,
   "metadata": {},
   "outputs": [],
   "source": []
  },
  {
   "cell_type": "code",
   "execution_count": null,
   "metadata": {},
   "outputs": [],
   "source": []
  },
  {
   "cell_type": "markdown",
   "metadata": {
    "slideshow": {
     "slide_type": "slide"
    }
   },
   "source": [
    "## with block\n",
    "\n",
    "파일과 입출력 작업이 다 끝나면 반드시 연결을 닫아야 한다. 매번 연결을 닫는 작업을 하는 것이 번거롭고 실수로 안 닫을 경우 문제가 생길 수 있다. **with block은 block을 벗어나면 자동으로 연결을 닫아 준다.** 그래서 연결을 닫는 코드를 생략할 수 있다.\n",
    "\n",
    "- 구문\n",
    "```python\n",
    "with open() as 변수: # `변수`는 open()이 반환하는 Stream객체를 참조한다.\n",
    "    입출력 작업      # 변수를 이용해 입출력 작업을 처리한다.\n",
    "# with block을 빠져 나오면 close()가 자동으로 실행된다.\n",
    "```"
   ]
  },
  {
   "cell_type": "code",
   "execution_count": null,
   "metadata": {
    "slideshow": {
     "slide_type": "fragment"
    }
   },
   "outputs": [],
   "source": [
    "변수 = open(대상파일, 모드)             \n",
    "with open(대상파일, 모드) as 변수:\n",
    "    변수를 이용해서 입출력\n",
    "    블록\n",
    "    블록\n",
    "with 블록 밖 ==> close() 자동으로 처리"
   ]
  },
  {
   "cell_type": "code",
   "execution_count": 143,
   "metadata": {
    "ExecuteTime": {
     "end_time": "2023-01-02T07:27:05.060726Z",
     "start_time": "2023-01-02T07:27:05.047539Z"
    }
   },
   "outputs": [
    {
     "name": "stdout",
     "output_type": "stream",
     "text": [
      "종료-write block 밖\n",
      "True\n"
     ]
    }
   ],
   "source": [
    "write_path = 'file_data/my_text.txt'\n",
    "with open(write_path, 'wt', encoding='utf-8') as fw:\n",
    "    fw.write('A')\n",
    "    fw.write('B\\n')\n",
    "    fw.write('3\\n')\n",
    "    \n",
    "    #fw.close()\n",
    "print('종료-write block 밖')\n",
    "print(fw.closed)"
   ]
  },
  {
   "cell_type": "code",
   "execution_count": 147,
   "metadata": {
    "ExecuteTime": {
     "end_time": "2023-01-02T07:29:04.459527Z",
     "start_time": "2023-01-02T07:29:04.447542Z"
    }
   },
   "outputs": [
    {
     "name": "stdout",
     "output_type": "stream",
     "text": [
      "AB\n",
      "3\n",
      "\n",
      "종료 True\n"
     ]
    }
   ],
   "source": [
    "with open(write_path, 'rt', encoding='utf-8') as fr:\n",
    "    print(fr.read())\n",
    "\n",
    "print('종료', fr.closed)"
   ]
  },
  {
   "cell_type": "code",
   "execution_count": 150,
   "metadata": {
    "ExecuteTime": {
     "end_time": "2023-01-02T07:46:16.996119Z",
     "start_time": "2023-01-02T07:46:16.983643Z"
    }
   },
   "outputs": [],
   "source": [
    "# binary data를 I/O                    ######선생님것########3\n",
    "# copy\n",
    "\n",
    "def copy_file(src:str, target:str):\n",
    "    \"\"\"\n",
    "    src 경로의 파일을 target 경로로 카피\n",
    "    \"\"\"\n",
    "    \n",
    "    #Input Stream-src연결, outputStream-target연결\n",
    "    \n",
    "    fr=open(src, mode='rb')\n",
    "    fw=open(target, mode='wb')\n",
    " \n",
    "    # 2. I/O\n",
    "    r_data = fr.read()  # 읽기\n",
    "    fw.write(r_data)    #출력\n",
    "    \n",
    "    print(type(fr), type(fw))\n",
    "    print(type(r_data))\n",
    "    \n",
    "    # 3. close\n",
    "    fr.close()\n",
    "    fw.close()"
   ]
  },
  {
   "cell_type": "code",
   "execution_count": 151,
   "metadata": {
    "ExecuteTime": {
     "end_time": "2023-01-02T07:46:18.706763Z",
     "start_time": "2023-01-02T07:46:18.692783Z"
    }
   },
   "outputs": [
    {
     "name": "stdout",
     "output_type": "stream",
     "text": [
      "<class '_io.BufferedReader'> <class '_io.BufferedWriter'>\n",
      "<class 'bytes'>\n"
     ]
    }
   ],
   "source": [
    "import os                                    ######선생님것######## 복제가 안됨......\n",
    "src = os.path.join('file_data', 'img.png')\n",
    "target = os.path.join('file_data, img2.png')   #img 파일 복제\n",
    "\n",
    "copy_file(src, target)"
   ]
  },
  {
   "cell_type": "code",
   "execution_count": 155,
   "metadata": {
    "ExecuteTime": {
     "end_time": "2023-01-02T07:50:31.852640Z",
     "start_time": "2023-01-02T07:50:31.843330Z"
    }
   },
   "outputs": [
    {
     "name": "stdout",
     "output_type": "stream",
     "text": [
      "10\n"
     ]
    }
   ],
   "source": [
    "i = 10\n",
    "print(i)  # 정수 i를 문자열(str)으로 변환해서 출력\n"
   ]
  },
  {
   "cell_type": "code",
   "execution_count": 156,
   "metadata": {
    "ExecuteTime": {
     "end_time": "2023-01-02T07:50:34.118704Z",
     "start_time": "2023-01-02T07:50:34.107897Z"
    }
   },
   "outputs": [],
   "source": [
    "with open('a.txt', 'wt') as fw:\n",
    "#     fw.write(i)   # t 모드 -> text를 출력 ->str\n",
    "    fw.write(str(i))"
   ]
  },
  {
   "cell_type": "code",
   "execution_count": 157,
   "metadata": {
    "ExecuteTime": {
     "end_time": "2023-01-02T07:52:12.599934Z",
     "start_time": "2023-01-02T07:52:12.588633Z"
    }
   },
   "outputs": [
    {
     "name": "stdout",
     "output_type": "stream",
     "text": [
      "30\n"
     ]
    }
   ],
   "source": [
    "with open ('a.txt', 'rt') as fr:\n",
    "    a = fr.read()\n",
    "    print(int(a) + 20)   #a: str"
   ]
  },
  {
   "cell_type": "code",
   "execution_count": 160,
   "metadata": {
    "ExecuteTime": {
     "end_time": "2023-01-02T08:00:35.259838Z",
     "start_time": "2023-01-02T08:00:35.248340Z"
    }
   },
   "outputs": [],
   "source": [
    "i = 10\n",
    "# int i의 값(10)을 출력 -> binary 모드로 출력 ->bytes 타입을 변환해서 출력(바이트 타입만 된다)\n",
    "\n",
    "i_bytes = i.to_bytes(1, byteorder='little', signed=True)\n",
    "# 1: 크기  - 1byte 크기로 변환, byteorder: little, big\n",
    "with open('file_data/int.dat', 'wb') as fw : \n",
    "    fw.write(i_bytes)"
   ]
  },
  {
   "cell_type": "code",
   "execution_count": 163,
   "metadata": {
    "ExecuteTime": {
     "end_time": "2023-01-02T08:05:09.652471Z",
     "start_time": "2023-01-02T08:05:09.639496Z"
    }
   },
   "outputs": [
    {
     "name": "stdout",
     "output_type": "stream",
     "text": [
      "<class 'bytes'>\n",
      "110\n"
     ]
    }
   ],
   "source": [
    "with open('file_data/int.dat', 'rb') as fr:\n",
    "    r_data = fr.read()\n",
    "    print(type(r_data))\n",
    "#     print(r_data)\n",
    "#    bytes로 읽은 것을 int로 변환\n",
    "    i = int.from_bytes(r_data, byteorder='little', signed=True)\n",
    "    print(i + 100)"
   ]
  },
  {
   "cell_type": "markdown",
   "metadata": {
    "slideshow": {
     "slide_type": "slide"
    }
   },
   "source": [
    "# pickle 모듈을 이용한 객체 직렬화\n",
    "\n",
    "## 객체 직렬화(Object Serialization)\n",
    "- 객체의 속성값들을 bytes로 변환해 출력하는 것을 객체 직렬화(Object Serialization) 이라고 한다.\n",
    "- bytes로 출력된 데이터를 읽어 객체화 하는 것을 객체 역직렬화(Object Deserialization) 이라고 한다."
   ]
  },
  {
   "cell_type": "markdown",
   "metadata": {
    "slideshow": {
     "slide_type": "fragment"
    }
   },
   "source": [
    "### pickle\n",
    "- 객체 파일 입출력을 위한 파이썬 모듈\n",
    "- open() 시 **binary mode**로 설정한다.\n",
    "- 저장시 파일 확장자는 보통 `pkl` 이나 `pickle` 로 한다.\n",
    "- ex)\n",
    "```python\n",
    "fw = open(\"data.pkl\", \"wb\") # 객체를 pickle에 저장하기 위한 output stream 생성\n",
    "fr = open(\"data.pkl\", \"rb\") # 파일에 저장된 객체를 읽어오기 위한 input stream 생성\n",
    "```\n",
    "- **메소드**\n",
    "    - dump(저장할 객체, fw) : 출력\n",
    "    - load(fr): 입력 - 읽은 객체를 반환한다."
   ]
  },
  {
   "cell_type": "code",
   "execution_count": null,
   "metadata": {
    "slideshow": {
     "slide_type": "fragment"
    }
   },
   "outputs": [],
   "source": [
    "# pickle 바로 이에 바이트 변환하는 로직이 어렵기 때문에 대체할 수 있는 방식이 pickle이다."
   ]
  },
  {
   "cell_type": "markdown",
   "metadata": {
    "slideshow": {
     "slide_type": "skip"
    }
   },
   "source": [
    "# TODO"
   ]
  },
  {
   "cell_type": "markdown",
   "metadata": {
    "slideshow": {
     "slide_type": "skip"
    }
   },
   "source": [
    "- 간단한 터미널 기반 메모장\n",
    "    1. 사용자로부터 파일명을 입력받는다.\n",
    "    2. 사용자로부터 파일에 저장할 문장을 입력받아서 파일에 저장한다.\n",
    "        - 한줄씩 입력받는다.\n",
    "        - 사용자가 !q 를 입력하면 저장후 종료한다.\n",
    "    3. 사용자가 저장한 파일을 읽어서 출력한다.\n"
   ]
  },
  {
   "cell_type": "code",
   "execution_count": 1,
   "metadata": {
    "ExecuteTime": {
     "end_time": "2023-01-03T00:44:51.124585Z",
     "start_time": "2023-01-02T23:56:13.705337Z"
    },
    "collapsed": true,
    "slideshow": {
     "slide_type": "skip"
    }
   },
   "outputs": [
    {
     "ename": "KeyboardInterrupt",
     "evalue": "Interrupted by user",
     "output_type": "error",
     "traceback": [
      "\u001b[0;31m---------------------------------------------------------------------------\u001b[0m",
      "\u001b[0;31mKeyboardInterrupt\u001b[0m                         Traceback (most recent call last)",
      "\u001b[0;32m/var/folders/jf/l3x8dj6n62s041cwvf169t5w0000gn/T/ipykernel_1406/3578151484.py\u001b[0m in \u001b[0;36m<module>\u001b[0;34m\u001b[0m\n\u001b[1;32m      3\u001b[0m \u001b[0;34m\u001b[0m\u001b[0m\n\u001b[1;32m      4\u001b[0m \u001b[0;32mwhile\u001b[0m \u001b[0;32mTrue\u001b[0m\u001b[0;34m:\u001b[0m\u001b[0;34m\u001b[0m\u001b[0;34m\u001b[0m\u001b[0m\n\u001b[0;32m----> 5\u001b[0;31m     \u001b[0mtxt\u001b[0m \u001b[0;34m=\u001b[0m \u001b[0minput\u001b[0m\u001b[0;34m(\u001b[0m\u001b[0;34m\"파일명을 입력하세요 : \"\u001b[0m \u001b[0;34m)\u001b[0m\u001b[0;34m\u001b[0m\u001b[0;34m\u001b[0m\u001b[0m\n\u001b[0m\u001b[1;32m      6\u001b[0m     \u001b[0;32mif\u001b[0m \u001b[0mtxt\u001b[0m \u001b[0;34m==\u001b[0m \u001b[0;34m\"!q\"\u001b[0m\u001b[0;34m:\u001b[0m\u001b[0;34m\u001b[0m\u001b[0;34m\u001b[0m\u001b[0m\n\u001b[1;32m      7\u001b[0m         \u001b[0;32mbreak\u001b[0m\u001b[0;34m\u001b[0m\u001b[0;34m\u001b[0m\u001b[0m\n",
      "\u001b[0;32m~/opt/anaconda3/lib/python3.9/site-packages/ipykernel/kernelbase.py\u001b[0m in \u001b[0;36mraw_input\u001b[0;34m(self, prompt)\u001b[0m\n\u001b[1;32m   1175\u001b[0m                 \u001b[0;34m\"raw_input was called, but this frontend does not support input requests.\"\u001b[0m\u001b[0;34m\u001b[0m\u001b[0;34m\u001b[0m\u001b[0m\n\u001b[1;32m   1176\u001b[0m             )\n\u001b[0;32m-> 1177\u001b[0;31m         return self._input_request(\n\u001b[0m\u001b[1;32m   1178\u001b[0m             \u001b[0mstr\u001b[0m\u001b[0;34m(\u001b[0m\u001b[0mprompt\u001b[0m\u001b[0;34m)\u001b[0m\u001b[0;34m,\u001b[0m\u001b[0;34m\u001b[0m\u001b[0;34m\u001b[0m\u001b[0m\n\u001b[1;32m   1179\u001b[0m             \u001b[0mself\u001b[0m\u001b[0;34m.\u001b[0m\u001b[0m_parent_ident\u001b[0m\u001b[0;34m[\u001b[0m\u001b[0;34m\"shell\"\u001b[0m\u001b[0;34m]\u001b[0m\u001b[0;34m,\u001b[0m\u001b[0;34m\u001b[0m\u001b[0;34m\u001b[0m\u001b[0m\n",
      "\u001b[0;32m~/opt/anaconda3/lib/python3.9/site-packages/ipykernel/kernelbase.py\u001b[0m in \u001b[0;36m_input_request\u001b[0;34m(self, prompt, ident, parent, password)\u001b[0m\n\u001b[1;32m   1217\u001b[0m             \u001b[0;32mexcept\u001b[0m \u001b[0mKeyboardInterrupt\u001b[0m\u001b[0;34m:\u001b[0m\u001b[0;34m\u001b[0m\u001b[0;34m\u001b[0m\u001b[0m\n\u001b[1;32m   1218\u001b[0m                 \u001b[0;31m# re-raise KeyboardInterrupt, to truncate traceback\u001b[0m\u001b[0;34m\u001b[0m\u001b[0;34m\u001b[0m\u001b[0m\n\u001b[0;32m-> 1219\u001b[0;31m                 \u001b[0;32mraise\u001b[0m \u001b[0mKeyboardInterrupt\u001b[0m\u001b[0;34m(\u001b[0m\u001b[0;34m\"Interrupted by user\"\u001b[0m\u001b[0;34m)\u001b[0m \u001b[0;32mfrom\u001b[0m \u001b[0;32mNone\u001b[0m\u001b[0;34m\u001b[0m\u001b[0;34m\u001b[0m\u001b[0m\n\u001b[0m\u001b[1;32m   1220\u001b[0m             \u001b[0;32mexcept\u001b[0m \u001b[0mException\u001b[0m\u001b[0;34m:\u001b[0m\u001b[0;34m\u001b[0m\u001b[0;34m\u001b[0m\u001b[0m\n\u001b[1;32m   1221\u001b[0m                 \u001b[0mself\u001b[0m\u001b[0;34m.\u001b[0m\u001b[0mlog\u001b[0m\u001b[0;34m.\u001b[0m\u001b[0mwarning\u001b[0m\u001b[0;34m(\u001b[0m\u001b[0;34m\"Invalid Message:\"\u001b[0m\u001b[0;34m,\u001b[0m \u001b[0mexc_info\u001b[0m\u001b[0;34m=\u001b[0m\u001b[0;32mTrue\u001b[0m\u001b[0;34m)\u001b[0m\u001b[0;34m\u001b[0m\u001b[0;34m\u001b[0m\u001b[0m\n",
      "\u001b[0;31mKeyboardInterrupt\u001b[0m: Interrupted by user"
     ]
    }
   ],
   "source": [
    "file = \"file_data/test.txt\"\n",
    "fr = open(file, mode = 'wt', encoding='utf-8')\n",
    "\n",
    "while True:\n",
    "    txt = input(\"파일명을 입력하세요 : \" )\n",
    "    if txt == \"!q\":\n",
    "        break\n",
    "print(f\">> {txt}\\n\"+ \"종료\")"
   ]
  },
  {
   "cell_type": "code",
   "execution_count": 12,
   "metadata": {
    "ExecuteTime": {
     "end_time": "2023-01-03T01:06:24.190353Z",
     "start_time": "2023-01-03T01:05:26.213584Z"
    }
   },
   "outputs": [
    {
     "name": "stdout",
     "output_type": "stream",
     "text": [
      "저장할 파일명을 입력하세요\n",
      "파일명: 안녕\n",
      "안녕에 저장합니다.\n",
      "==============================\n",
      "저장할 내용을 입력하세요.\n",
      "==============================\n",
      ">우리\n",
      ">는\n",
      ">다시\n",
      ">!q\n",
      "종료\n"
     ]
    }
   ],
   "source": [
    "#### 선생님 방식1 #####\n",
    "\n",
    "print(\"저장할 파일명을 입력하세요\")\n",
    "file_name = input(\"파일명: \")\n",
    "print(f\"{file_name}에 저장합니다.\")\n",
    "print(\"==============================\")\n",
    "\n",
    "with open(file_name, 'wt', encoding='utf8') as fw:\n",
    "    print(\"저장할 내용을 입력하세요.\")\n",
    "    print('='*30)\n",
    "    \n",
    "    while True:\n",
    "        line_txt = input('>')\n",
    "        if line_txt == \"!q\":\n",
    "            break\n",
    "        fw.write(line_txt+\"\\n\")    #원하는 파일명 !q 이 입력되면 while 문 빠져 나오고, with문 빠져 나오고 종료\n",
    "print(\"종료\")"
   ]
  },
  {
   "cell_type": "code",
   "execution_count": 11,
   "metadata": {
    "ExecuteTime": {
     "end_time": "2023-01-03T00:55:35.038980Z",
     "start_time": "2023-01-03T00:55:35.025012Z"
    }
   },
   "outputs": [],
   "source": [
    "#### 선생님 방식2 ##### 이 부분은 내가 다시 카피해보기.\n",
    "\n",
    "def memo():\n",
    "    "
   ]
  },
  {
   "cell_type": "code",
   "execution_count": null,
   "metadata": {},
   "outputs": [],
   "source": [
    "# 주피터 노트북 명령어(매직커맨드)\n",
    "%load my_memo.py\n",
    "# my_memo 파일 앞에 %load 를 입력하면 지정한 파일을 풀러온다. \n",
    "%%writefile my_memo.py\n",
    "# %%writefile 파일명  -> 실행하면 cell의 내용을 파일에 출력"
   ]
  },
  {
   "cell_type": "code",
   "execution_count": null,
   "metadata": {},
   "outputs": [],
   "source": []
  },
  {
   "cell_type": "code",
   "execution_count": null,
   "metadata": {},
   "outputs": [],
   "source": []
  },
  {
   "cell_type": "markdown",
   "metadata": {
    "slideshow": {
     "slide_type": "skip"
    }
   },
   "source": [
    "- member.csv 파일을 읽어서 각 열의 값을 배열에 담는다.    \n",
    "이름,나이,주소  형태의 csv를 읽어    \n",
    "```python\n",
    "names = []\n",
    "ages =[]\n",
    "address =[]    \n",
    "```\n",
    "배열에 넣는다. \n",
    "    - 단 첫줄은 head이므로 읽지 않는다.\n",
    "    - 참고 함수: 문자열 split(), for문 관련 enumerate()\n",
    "\n"
   ]
  },
  {
   "cell_type": "markdown",
   "metadata": {
    "slideshow": {
     "slide_type": "skip"
    }
   },
   "source": [
    "> **CSV (Comma Separated Value)** 파일\n",
    "> - 데이터들을 정형화(표)된 형태로 텍스트파일에 저장하는 방식\n",
    "> - 하나의 데이터는 한줄에 표시. (데이터 구분자는 엔터)\n",
    "> - 하나의 데이터를 구성하는 값들(속성)들은 , 로 구분\n",
    ">     - tab으로 구분하는 경우 TSV \n",
    ">     - 각 속성값들은 \" \" 로 감싸기도 한다.\n",
    "> - 텍스트기반\n",
    "> - 파일 확장자는 `.csv`, `.tsv` 로 준다."
   ]
  },
  {
   "cell_type": "code",
   "execution_count": null,
   "metadata": {},
   "outputs": [],
   "source": [
    "# 표로 만드는 파일 : CSV, TSV 등등"
   ]
  },
  {
   "cell_type": "code",
   "execution_count": null,
   "metadata": {},
   "outputs": [],
   "source": []
  },
  {
   "cell_type": "code",
   "execution_count": null,
   "metadata": {},
   "outputs": [],
   "source": []
  },
  {
   "cell_type": "code",
   "execution_count": null,
   "metadata": {},
   "outputs": [],
   "source": []
  }
 ],
 "metadata": {
  "kernelspec": {
   "display_name": "Python 3 (ipykernel)",
   "language": "python",
   "name": "python3"
  },
  "language_info": {
   "codemirror_mode": {
    "name": "ipython",
    "version": 3
   },
   "file_extension": ".py",
   "mimetype": "text/x-python",
   "name": "python",
   "nbconvert_exporter": "python",
   "pygments_lexer": "ipython3",
   "version": "3.9.13"
  },
  "toc": {
   "base_numbering": 1,
   "nav_menu": {},
   "number_sections": true,
   "sideBar": true,
   "skip_h1_title": false,
   "title_cell": "Table of Contents",
   "title_sidebar": "Contents",
   "toc_cell": false,
   "toc_position": {
    "height": "calc(100% - 180px)",
    "left": "10px",
    "top": "150px",
    "width": "274.908px"
   },
   "toc_section_display": true,
   "toc_window_display": false
  },
  "varInspector": {
   "cols": {
    "lenName": 16,
    "lenType": 16,
    "lenVar": 40
   },
   "kernels_config": {
    "python": {
     "delete_cmd_postfix": "",
     "delete_cmd_prefix": "del ",
     "library": "var_list.py",
     "varRefreshCmd": "print(var_dic_list())"
    },
    "r": {
     "delete_cmd_postfix": ") ",
     "delete_cmd_prefix": "rm(",
     "library": "var_list.r",
     "varRefreshCmd": "cat(var_dic_list()) "
    }
   },
   "types_to_exclude": [
    "module",
    "function",
    "builtin_function_or_method",
    "instance",
    "_Feature"
   ],
   "window_display": false
  }
 },
 "nbformat": 4,
 "nbformat_minor": 4
}
