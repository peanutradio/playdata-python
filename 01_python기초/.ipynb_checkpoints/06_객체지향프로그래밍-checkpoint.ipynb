{
 "cells": [
  {
   "cell_type": "markdown",
   "metadata": {
    "slideshow": {
     "slide_type": "slide"
    }
   },
   "source": [
    "# 객체지향 프로그래밍 (Object Oriented Programming)\n",
    "\n",
    "프로그램을 구성하는 변수와 함수를 서로 연관성있는 것끼리 묶어서 모듈화하는 개발하는 언어들을 객체지향프로그래밍 언어라고 한다."
   ]
  },
  {
   "cell_type": "code",
   "execution_count": null,
   "metadata": {},
   "outputs": [],
   "source": [
    "# 절차지향적인 방식(순서대로 일을 처리하는 것)\n",
    "# 프로그램이 무거워지면 수정보수할 때 발생하는 문제들 때문에, 카테고리별로 변수와 함수를 나눠서 관리하기 위해 만든 것이 객체지향 프로그래밍이다."
   ]
  },
  {
   "cell_type": "markdown",
   "metadata": {
    "slideshow": {
     "slide_type": "fragment"
    }
   },
   "source": [
    "# Instance(객체)\n",
    "- 연관성 있는 값들과 그 값들을 처리하는 함수(메소드)들을 묶어서 가지고 있는 것(값).\n",
    "- 객체의 구성요소\n",
    "    - 속성(Attribute)\n",
    "        - 객체의 데이터/상태로 객체를 구성하는 값들.\n",
    "    - 메소드(method)\n",
    "        - 객체가 제공하는 기능으로 주로 Attribute들을 처리한다.\n",
    "        "
   ]
  },
  {
   "cell_type": "code",
   "execution_count": null,
   "metadata": {},
   "outputs": [],
   "source": [
    "#객체란 객체지향 프로그래밍에서 만드는 객체를 객체(instance)라고 얘기한다. "
   ]
  },
  {
   "cell_type": "markdown",
   "metadata": {
    "slideshow": {
     "slide_type": "subslide"
    }
   },
   "source": [
    "## Class(클래스) 정의\n",
    "\n",
    "- class란: 객체의 설계도\n",
    "    - 동일한 형태의 객체들이 가져야 하는 Attribute(속성)와 Method(메소드)들을 정의 한 것\n",
    "        - 클래스를 정의할 때 어떤 속성과 메소드를 가지는지 먼저 설계해야 한다.\n",
    "    - 클래스로 부터 객체(instance)를 생성한 뒤 사용한다.\n",
    "```python\n",
    "class 클래스이름:  #선언부\n",
    "    #클래스 구현\n",
    "    #메소드들을 정의\n",
    "```\n",
    "- 클래스 이름의 관례: 파스칼 표기법-각 단어의 첫글자는 대문자 나머진 소문자로 정의한다.\n",
    "    - ex) Person, Student, HighSchoolStudent\n",
    "    "
   ]
  },
  {
   "cell_type": "code",
   "execution_count": null,
   "metadata": {},
   "outputs": [],
   "source": [
    "# 같은 타입들을 모아둔 것을 클래스라고 한다. \n",
    "# 작업주문서, 설계도, 메뉴얼이라고 생각하면 된다\n",
    "#    -> 하나의 작업주문서, 그리고 그 아래 생산되는 동일한 대량 옷들.\n",
    "# class 이름은 메소드들을 정의한다. \n",
    "# class 표기: 파스칼 표기법_단어의 첫글자만 대문자!!! 나머진 소문자\n",
    "#           (camel 표기: 첫글자만 소문자, 다음글자는 대문자.)\n",
    "# Attribute는  'self.변수' 형식으로 표현"
   ]
  },
  {
   "cell_type": "markdown",
   "metadata": {
    "slideshow": {
     "slide_type": "fragment"
    }
   },
   "source": [
    "## 클래스로부터 객체(Instance) 생성\n",
    "- 클래스는 데이터 타입 instance는 값이다.\n",
    "\n",
    "```python\n",
    "변수 = 클래스이름()\n",
    "```"
   ]
  },
  {
   "cell_type": "code",
   "execution_count": null,
   "metadata": {
    "slideshow": {
     "slide_type": "fragment"
    }
   },
   "outputs": [],
   "source": [
    "#변수 = 클리스이름()\n",
    "# 객체(instance)는 attribute와 method를 갖고 있다. \n",
    "# class(클래스) 는 type이 되는 것이고, instance(객체)는 value가 된다."
   ]
  },
  {
   "cell_type": "code",
   "execution_count": 5,
   "metadata": {
    "ExecuteTime": {
     "end_time": "2022-12-28T00:23:48.360317Z",
     "start_time": "2022-12-28T00:23:48.348693Z"
    }
   },
   "outputs": [],
   "source": [
    "#클래스를 구현\n",
    "class Person: \n",
    "    pass       #여기에 원래 메소드를 구현해야하지만 일단 지금은 패스~"
   ]
  },
  {
   "cell_type": "code",
   "execution_count": 6,
   "metadata": {
    "ExecuteTime": {
     "end_time": "2022-12-28T00:23:49.945112Z",
     "start_time": "2022-12-28T00:23:49.933324Z"
    }
   },
   "outputs": [],
   "source": [
    "#instance(객체)를 생성\n",
    "p = Person()"
   ]
  },
  {
   "cell_type": "code",
   "execution_count": 7,
   "metadata": {
    "ExecuteTime": {
     "end_time": "2022-12-28T00:23:51.921753Z",
     "start_time": "2022-12-28T00:23:51.918998Z"
    }
   },
   "outputs": [
    {
     "name": "stdout",
     "output_type": "stream",
     "text": [
      "<class '__main__.Person'>\n"
     ]
    }
   ],
   "source": [
    "print(type(p))\n",
    "\n",
    "#class : Data type, instance: Value"
   ]
  },
  {
   "cell_type": "code",
   "execution_count": 8,
   "metadata": {
    "ExecuteTime": {
     "end_time": "2022-12-28T00:23:54.292695Z",
     "start_time": "2022-12-28T00:23:54.279022Z"
    }
   },
   "outputs": [
    {
     "name": "stdout",
     "output_type": "stream",
     "text": [
      "<class 'int'> <class 'float'> <class 'str'>\n"
     ]
    }
   ],
   "source": [
    "print(type(10), type(18.8), type(\"aaa\"))"
   ]
  },
  {
   "cell_type": "markdown",
   "metadata": {
    "slideshow": {
     "slide_type": "subslide"
    }
   },
   "source": [
    "## Attribute(속성) \n",
    "- attribute는 객체의 데이터, 객체가 가지는 값, 객체의 상태\n",
    "\n",
    "### 객체에 속성을 추가, 조회\n",
    "- 객체의 속성 추가(값 변경)\n",
    "    1. Initializer(생성자)를 통한 추가\n",
    "    2. 객체.속성명 = 값 (추가/변경)\n",
    "    3. 메소드를 통한 추가/변경\n",
    "    - 1(Initializer)은 초기화할 때. 2, 3은 속성값을 변경할 때 적용.\n",
    "    \n",
    "- 속성 값 조회\n",
    "    - 객체.속성명\n",
    "    \n",
    "- **객체.\\_\\_dict\\_\\_**\n",
    "    - 객체가 가지고 있는 Attribute(속성)들을 dictionary로 반환한다."
   ]
  },
  {
   "cell_type": "code",
   "execution_count": 9,
   "metadata": {
    "ExecuteTime": {
     "end_time": "2022-12-28T00:23:56.864475Z",
     "start_time": "2022-12-28T00:23:56.845724Z"
    }
   },
   "outputs": [
    {
     "data": {
      "text/plain": [
       "['__class__',\n",
       " '__delattr__',\n",
       " '__dict__',\n",
       " '__dir__',\n",
       " '__doc__',\n",
       " '__eq__',\n",
       " '__format__',\n",
       " '__ge__',\n",
       " '__getattribute__',\n",
       " '__gt__',\n",
       " '__hash__',\n",
       " '__init__',\n",
       " '__init_subclass__',\n",
       " '__le__',\n",
       " '__lt__',\n",
       " '__module__',\n",
       " '__ne__',\n",
       " '__new__',\n",
       " '__reduce__',\n",
       " '__reduce_ex__',\n",
       " '__repr__',\n",
       " '__setattr__',\n",
       " '__sizeof__',\n",
       " '__str__',\n",
       " '__subclasshook__',\n",
       " '__weakref__']"
      ]
     },
     "execution_count": 9,
     "metadata": {},
     "output_type": "execute_result"
    }
   ],
   "source": [
    "dir(p)"
   ]
  },
  {
   "cell_type": "code",
   "execution_count": 10,
   "metadata": {
    "ExecuteTime": {
     "end_time": "2022-12-28T00:23:59.909496Z",
     "start_time": "2022-12-28T00:23:59.896126Z"
    },
    "slideshow": {
     "slide_type": "fragment"
    }
   },
   "outputs": [
    {
     "name": "stdout",
     "output_type": "stream",
     "text": [
      "{}\n"
     ]
    }
   ],
   "source": [
    "#객체 생성\n",
    "p = Person()\n",
    "# 객체가 가진 attribute 들을 조회\n",
    "print(p.__dict__)"
   ]
  },
  {
   "cell_type": "code",
   "execution_count": 11,
   "metadata": {
    "ExecuteTime": {
     "end_time": "2022-12-28T00:24:02.864235Z",
     "start_time": "2022-12-28T00:24:02.851496Z"
    }
   },
   "outputs": [
    {
     "name": "stdout",
     "output_type": "stream",
     "text": [
      "{'name': '홍길동', 'age': 30, 'address': '서울'}\n"
     ]
    }
   ],
   "source": [
    "#attribute 추가 (2번방식)\n",
    "p.name = '홍길동'   #p.name ==> p객체\"의\" name 변수  ==> p라는 공간 안에 name, age, address 담음! 그래서 부를때도 p.로 부름\n",
    "p.age = 30\n",
    "p.address = \"서울\"\n",
    "print(p.__dict__)"
   ]
  },
  {
   "cell_type": "code",
   "execution_count": 36,
   "metadata": {
    "ExecuteTime": {
     "end_time": "2022-12-27T03:39:07.834177Z",
     "start_time": "2022-12-27T03:39:07.826888Z"
    }
   },
   "outputs": [
    {
     "name": "stdout",
     "output_type": "stream",
     "text": [
      "홍길동 30 서울\n"
     ]
    }
   ],
   "source": [
    "#attribute 조회\n",
    "print(p.name, p.age, p.address)"
   ]
  },
  {
   "cell_type": "code",
   "execution_count": 33,
   "metadata": {
    "ExecuteTime": {
     "end_time": "2022-12-27T03:39:01.494470Z",
     "start_time": "2022-12-27T03:39:01.480456Z"
    }
   },
   "outputs": [],
   "source": [
    "p2 = Person()  # 이제 p2라는 공간을 만들어서 이름과 나이, 주소를 담는다.\n",
    "p2.name = '이순신'\n",
    "p2.age = 20\n",
    "p2.address = '인천'"
   ]
  },
  {
   "cell_type": "code",
   "execution_count": 34,
   "metadata": {
    "ExecuteTime": {
     "end_time": "2022-12-27T03:39:03.534883Z",
     "start_time": "2022-12-27T03:39:03.524644Z"
    }
   },
   "outputs": [
    {
     "name": "stdout",
     "output_type": "stream",
     "text": [
      "이순신 20 인천\n"
     ]
    }
   ],
   "source": [
    "print(p2.name, p2.age, p2.address)"
   ]
  },
  {
   "cell_type": "code",
   "execution_count": null,
   "metadata": {},
   "outputs": [],
   "source": [
    "print(p.name, p.age, p.address)"
   ]
  },
  {
   "cell_type": "code",
   "execution_count": 61,
   "metadata": {
    "ExecuteTime": {
     "end_time": "2022-12-27T05:07:06.819297Z",
     "start_time": "2022-12-27T05:07:06.813589Z"
    }
   },
   "outputs": [],
   "source": [
    "p3 = Person()\n",
    "p3.name = '유관순'\n",
    "p3.age = 25\n",
    "p3.email = 'idnv@didid.com'"
   ]
  },
  {
   "cell_type": "code",
   "execution_count": 62,
   "metadata": {
    "ExecuteTime": {
     "end_time": "2022-12-27T05:07:08.622546Z",
     "start_time": "2022-12-27T05:07:08.616270Z"
    }
   },
   "outputs": [
    {
     "name": "stdout",
     "output_type": "stream",
     "text": [
      "유관순 25 서울\n"
     ]
    }
   ],
   "source": [
    "print(p3.name, p3.age, p3.address)"
   ]
  },
  {
   "cell_type": "markdown",
   "metadata": {
    "slideshow": {
     "slide_type": "subslide"
    }
   },
   "source": [
    "### 생성자(Initializer)\n",
    "- 객체를 생성할 때 호출되는 특수메소드로 attribute들 초기화에 하는 코드를 구현한다.\n",
    "    - Inializer를 이용해 초기화하는 Attribute들이 그 클래스의 객체들이 가져야 하는 공통 Attribute가 된다.\n",
    "- 구문\n",
    "```python\n",
    "def __init__(self [,매개변수들 선언]):  #[ ] 옵션.\n",
    "    # 구현 -> attribute(instance변수) 초기화\n",
    "    self.속성명 = 값\n",
    "```\n",
    "> 변수 초기화: 처음 변수 만들어서 처음 값 대입.    "
   ]
  },
  {
   "cell_type": "code",
   "execution_count": null,
   "metadata": {},
   "outputs": [],
   "source": []
  },
  {
   "cell_type": "markdown",
   "metadata": {
    "slideshow": {
     "slide_type": "fragment"
    }
   },
   "source": [
    "### self  parameter\n",
    "- 메소드는 반드시 한개 이상의 parameter를 선언해야 하고 그 첫번째 parameter를 말한다.\n",
    "- 메소드 호출시 그 메소드를 소유한 instance가 self parameter에 할당된다.\n",
    "- Initializer의 self\n",
    "    - 현재 만들어 지고 있는 객체를 받는다.\n",
    "- 메소드의 self\n",
    "    - 메소드를 소유한 객체를 받는다.\n",
    "- Caller에서 생성자/메소드에 전달된 argument들을 받을 parameter는 두번째 변수부터 선언한다.    "
   ]
  },
  {
   "cell_type": "code",
   "execution_count": 1,
   "metadata": {
    "ExecuteTime": {
     "end_time": "2022-12-31T07:09:35.989055Z",
     "start_time": "2022-12-31T07:09:35.981451Z"
    }
   },
   "outputs": [],
   "source": [
    "class Person2:\n",
    "    \n",
    "    def __init__(self, name, age, address=None):\n",
    "        \"\"\"\n",
    "        Person 객체의 name, age, address 속성을 초기화.\n",
    "        \"\"\"\n",
    "        # 속성에 값 대입 - self.변수명 = 값\n",
    "        self.name = name\n",
    "        self.age = age\n",
    "        self.address = address"
   ]
  },
  {
   "cell_type": "code",
   "execution_count": 2,
   "metadata": {
    "ExecuteTime": {
     "end_time": "2022-12-31T07:09:43.174434Z",
     "start_time": "2022-12-31T07:09:43.169547Z"
    }
   },
   "outputs": [],
   "source": [
    "p = Person2('강감찬', 50, '광주')"
   ]
  },
  {
   "cell_type": "code",
   "execution_count": 3,
   "metadata": {
    "ExecuteTime": {
     "end_time": "2022-12-31T07:09:49.036049Z",
     "start_time": "2022-12-31T07:09:49.024370Z"
    }
   },
   "outputs": [
    {
     "name": "stdout",
     "output_type": "stream",
     "text": [
      "강감찬 50 광주\n"
     ]
    }
   ],
   "source": [
    "print(p.name, p.age, p.address)"
   ]
  },
  {
   "cell_type": "markdown",
   "metadata": {
    "slideshow": {
     "slide_type": "subslide"
    }
   },
   "source": [
    "### Instance 메소드(method)\n",
    "- 객체가 제공하는 기능\n",
    "- 객체의 attribute 값을 처리하는 기능을 구현한다.\n",
    "- 구문\n",
    "```python\n",
    "def 이름(self [, 매개변수들 선언]):\n",
    "    # 구현\n",
    "    # attribute 사용(조회/대입)\n",
    "    self.attribute \n",
    "```\n",
    "- self (첫번째 매개변수)\n",
    "    - 메소드를 소유한 객체를 받는 변수\n",
    "    - 호출할 때 전달하는 argument를 받는 매개변수는 두번째 부터 선언한다.\n",
    "![self](images/ch06_01.png)\n",
    "    \n",
    "- **메소드 호출**\n",
    "    - `객체.메소드이름([argument, ...])`"
   ]
  },
  {
   "cell_type": "code",
   "execution_count": 7,
   "metadata": {
    "ExecuteTime": {
     "end_time": "2022-12-31T07:13:17.295256Z",
     "start_time": "2022-12-31T07:13:17.282499Z"
    },
    "slideshow": {
     "slide_type": "fragment"
    }
   },
   "outputs": [],
   "source": [
    "class Person3:\n",
    "    \n",
    "    def __init__(self, name, age, address=None):              #메서드1(작성 순서가 함수랑 비슷하다)\n",
    "        self.name = name\n",
    "        self.age = age\n",
    "        self.address = address\n",
    "        \n",
    "    def print_info(self): # argument가 없는 메소드               #메서드1(작성 순서가 함수랑 비슷하다)\n",
    "        #attribute를 출력하는 메소드\n",
    "        print(f\"이름: {self.name}, 나이: {self.age}, 주소: {self.address}\")\n",
    "        \n",
    "    def add_age(self, age):                                  #메서드1(작성 순서가 함수랑 비슷하다)\n",
    "         #나이에 전달받은 age를 더하는 메소드\n",
    "            self.age += age    #self.age = self.age +age\n",
    "        "
   ]
  },
  {
   "cell_type": "code",
   "execution_count": null,
   "metadata": {},
   "outputs": [],
   "source": [
    "#메서드는 작성 순서가 '함수'랑 비슷하다) / ##메서드와 함수와의 차이: 메서드는 특성 객체를 위해 만듦, 함수는 범용적으로 사용하고자 만듦"
   ]
  },
  {
   "cell_type": "code",
   "execution_count": 8,
   "metadata": {
    "ExecuteTime": {
     "end_time": "2022-12-31T07:13:19.317955Z",
     "start_time": "2022-12-31T07:13:19.304202Z"
    }
   },
   "outputs": [],
   "source": [
    "p1 = Person3(\"이순신\", 10, \"대전\")"
   ]
  },
  {
   "cell_type": "code",
   "execution_count": 9,
   "metadata": {
    "ExecuteTime": {
     "end_time": "2022-12-31T07:13:22.039407Z",
     "start_time": "2022-12-31T07:13:22.031176Z"
    }
   },
   "outputs": [],
   "source": [
    "p2 = Person3(\"유관순\", 20, \"서울\")"
   ]
  },
  {
   "cell_type": "code",
   "execution_count": 10,
   "metadata": {
    "ExecuteTime": {
     "end_time": "2022-12-31T07:13:35.663449Z",
     "start_time": "2022-12-31T07:13:35.652937Z"
    },
    "scrolled": true
   },
   "outputs": [
    {
     "name": "stdout",
     "output_type": "stream",
     "text": [
      "이름: 이순신, 나이: 10, 주소: 대전\n"
     ]
    }
   ],
   "source": [
    "p1.print_info()"
   ]
  },
  {
   "cell_type": "code",
   "execution_count": 11,
   "metadata": {
    "ExecuteTime": {
     "end_time": "2022-12-31T07:13:39.773751Z",
     "start_time": "2022-12-31T07:13:39.762363Z"
    }
   },
   "outputs": [
    {
     "name": "stdout",
     "output_type": "stream",
     "text": [
      "이름: 유관순, 나이: 20, 주소: 서울\n"
     ]
    }
   ],
   "source": [
    "p2.print_info()"
   ]
  },
  {
   "cell_type": "code",
   "execution_count": 12,
   "metadata": {
    "ExecuteTime": {
     "end_time": "2022-12-31T07:13:47.617645Z",
     "start_time": "2022-12-31T07:13:47.609696Z"
    }
   },
   "outputs": [],
   "source": [
    "p1.add_age(2)    #나이 함수를 통해 나이 변경"
   ]
  },
  {
   "cell_type": "code",
   "execution_count": 13,
   "metadata": {
    "ExecuteTime": {
     "end_time": "2022-12-31T07:13:54.299970Z",
     "start_time": "2022-12-31T07:13:54.289828Z"
    }
   },
   "outputs": [
    {
     "name": "stdout",
     "output_type": "stream",
     "text": [
      "이름: 이순신, 나이: 12, 주소: 대전\n"
     ]
    }
   ],
   "source": [
    "p1.print_info()  #다시 객체를 부르면 나이가 변경된 것을 알수 있다. "
   ]
  },
  {
   "cell_type": "code",
   "execution_count": 14,
   "metadata": {
    "ExecuteTime": {
     "end_time": "2022-12-31T07:13:57.424331Z",
     "start_time": "2022-12-31T07:13:57.416047Z"
    }
   },
   "outputs": [],
   "source": [
    "p2.add_age(5)    #나이 함수를 통해 나이 변경"
   ]
  },
  {
   "cell_type": "code",
   "execution_count": 19,
   "metadata": {
    "ExecuteTime": {
     "end_time": "2022-12-27T06:19:02.941763Z",
     "start_time": "2022-12-27T06:19:02.934355Z"
    }
   },
   "outputs": [
    {
     "name": "stdout",
     "output_type": "stream",
     "text": [
      "이름: 유관순, 나이: 25, 주소: 서울\n"
     ]
    }
   ],
   "source": [
    "p2.print_info()  #다시 객체를 부르면 나이가 변경된 것을 알수 있다. "
   ]
  },
  {
   "cell_type": "code",
   "execution_count": 29,
   "metadata": {
    "ExecuteTime": {
     "end_time": "2022-12-27T06:24:44.738294Z",
     "start_time": "2022-12-27T06:24:44.727431Z"
    }
   },
   "outputs": [
    {
     "name": "stdout",
     "output_type": "stream",
     "text": [
      "이순신\n",
      "이름: 리순신, 나이: 12, 주소: 대전\n"
     ]
    }
   ],
   "source": [
    "# #p1 이름 조회\n",
    "print(p1.name)\n",
    "#p1의 이름 변경  ----> 아무나 변경할수 없도록하기 위해 아래 정보은닉 메소드를 사용한다. settind/ getting\n",
    "p1.name = \"리순신\"\n",
    "p1.print_info()"
   ]
  },
  {
   "cell_type": "code",
   "execution_count": 30,
   "metadata": {
    "ExecuteTime": {
     "end_time": "2022-12-27T06:25:07.456285Z",
     "start_time": "2022-12-27T06:25:07.449419Z"
    }
   },
   "outputs": [],
   "source": [
    "p1.age = 6000"
   ]
  },
  {
   "cell_type": "code",
   "execution_count": null,
   "metadata": {},
   "outputs": [],
   "source": []
  },
  {
   "cell_type": "code",
   "execution_count": null,
   "metadata": {},
   "outputs": [],
   "source": []
  },
  {
   "cell_type": "code",
   "execution_count": null,
   "metadata": {},
   "outputs": [],
   "source": []
  },
  {
   "cell_type": "markdown",
   "metadata": {
    "slideshow": {
     "slide_type": "slide"
    }
   },
   "source": [
    "## 정보 은닉 (Information Hiding)\n",
    "- Attribute의 값을 caller(객체 외부)가 마음대로 바꾸지 못하게 하기 위해 직접 호출을 막고 setter/getter 메소드를 통해 값을 변경/조회 하도록 한다.\n",
    "    - 데이터 보호가 주목적이다.\n",
    "    - 변경 메소드에 Attribube 변경 조건을 넣어 업무 규칙에 맞는 값들만 변경되도록 처리한다.\n",
    "    - **setter**\n",
    "        - Attribute의 값을 변경하는 메소드. 관례상 set 으로 시작\n",
    "    - **getter**\n",
    "        - Attribute의 값을 조회하는 메소드. 관례상 get 으로 시작\n",
    "- Attribute 직접 호출 막기\n",
    "    - Attribute의 이름을 \\_\\_(double underscore)로 시작한다. (\\_\\_로 끝나면 안된다.)\n",
    "    - 같은 클래스에서는 선언한 이름으로 사용가능하지만 외부에서는 그 이름으로 호출할 수 없게 된다.\n",
    "    "
   ]
  },
  {
   "cell_type": "code",
   "execution_count": null,
   "metadata": {
    "slideshow": {
     "slide_type": "fragment"
    }
   },
   "outputs": [],
   "source": [
    "# self.__name --> 이런 식으로 표시하면 정보 변경이 불가하다. -> 이렇게 은닉하는 것임."
   ]
  },
  {
   "cell_type": "code",
   "execution_count": 15,
   "metadata": {
    "ExecuteTime": {
     "end_time": "2022-12-31T07:29:23.723795Z",
     "start_time": "2022-12-31T07:29:23.708247Z"
    }
   },
   "outputs": [],
   "source": [
    "class Person4: \n",
    "    # name : 이름은 두 글자 이상만 대입할 수 있다. \n",
    "    # age  :  10이상만 대입할 수 있다.\n",
    "    # address: 특별한 규칙이 없다. \n",
    "    # name, age는 아무값이나 대입할 수 없도록 처리 -> 정보은닉(Information Hiding)\n",
    "\n",
    "    def __init__(self, name, age, address):\n",
    "        self.__name = None\n",
    "        self.set_name(name)   # 같은 클래스의 instance 메소드를 호출 -> self.메소드()\n",
    "#         if len(name)  >= 2:\n",
    "#             self.__name = name\n",
    "        self.__age = None\n",
    "        self.set_age(age)\n",
    "#         if age >= 10:\n",
    "#             self.__age = age\n",
    "        self.address = address     #특별한 규칙이 없으니 __ 은 생략함\n",
    "        \n",
    "    # 정보은닉 - 이름을 변경하는 메서드\n",
    "    def set_name(self, name):\n",
    "        if len(name) >= 2:\n",
    "            self.__name = name\n",
    "            \n",
    "    # 정보은닉 - 이름을 조회\n",
    "    def get_name(self):\n",
    "        return self.__name\n",
    "    \n",
    "    # 나이 변경   ---> 외부에서는 변경이 불가능하나 같은 객체 안에서는 가능\n",
    "    def set_age(self,age):\n",
    "        if age <=10:\n",
    "            self.__age = age\n",
    "    # 나이 조회   ---> 외부에서는 변경이 불가능하나 같은 객체 안에서는 가능\n",
    "    def get_age(self):\n",
    "        return self.__age\n",
    "    \n",
    "    def print_info(self):\n",
    "        print(f\"이름: {self.__name}, 나이: {self.__age}, 주소: {self.address}\")\n",
    "    "
   ]
  },
  {
   "cell_type": "code",
   "execution_count": 17,
   "metadata": {
    "ExecuteTime": {
     "end_time": "2022-12-31T07:29:27.766540Z",
     "start_time": "2022-12-31T07:29:27.749148Z"
    }
   },
   "outputs": [
    {
     "ename": "AttributeError",
     "evalue": "'Person4' object has no attribute '__name'",
     "output_type": "error",
     "traceback": [
      "\u001b[0;31m---------------------------------------------------------------------------\u001b[0m",
      "\u001b[0;31mAttributeError\u001b[0m                            Traceback (most recent call last)",
      "\u001b[0;32m/var/folders/jf/l3x8dj6n62s041cwvf169t5w0000gn/T/ipykernel_18123/1205812066.py\u001b[0m in \u001b[0;36m<module>\u001b[0;34m\u001b[0m\n\u001b[1;32m      1\u001b[0m \u001b[0mp\u001b[0m \u001b[0;34m=\u001b[0m \u001b[0mPerson4\u001b[0m\u001b[0;34m(\u001b[0m\u001b[0;34m\"홍길동\"\u001b[0m\u001b[0;34m,\u001b[0m \u001b[0;36m20\u001b[0m\u001b[0;34m,\u001b[0m \u001b[0;34m\"서울\"\u001b[0m\u001b[0;34m)\u001b[0m\u001b[0;34m\u001b[0m\u001b[0;34m\u001b[0m\u001b[0m\n\u001b[0;32m----> 2\u001b[0;31m \u001b[0mprint\u001b[0m\u001b[0;34m(\u001b[0m\u001b[0mp\u001b[0m\u001b[0;34m.\u001b[0m\u001b[0m__name\u001b[0m\u001b[0;34m,\u001b[0m \u001b[0mp\u001b[0m\u001b[0;34m.\u001b[0m\u001b[0m__age\u001b[0m\u001b[0;34m,\u001b[0m \u001b[0mp\u001b[0m\u001b[0;34m.\u001b[0m\u001b[0maddress\u001b[0m\u001b[0;34m)\u001b[0m    \u001b[0;31m#기존 정보는불려지지 않음\u001b[0m\u001b[0;34m\u001b[0m\u001b[0;34m\u001b[0m\u001b[0m\n\u001b[0m",
      "\u001b[0;31mAttributeError\u001b[0m: 'Person4' object has no attribute '__name'"
     ]
    }
   ],
   "source": [
    "p = Person4(\"홍길동\", 20, \"서울\")\n",
    "print(p.__name, p.__age, p.address)    #기존 정보는불려지지 않음"
   ]
  },
  {
   "cell_type": "code",
   "execution_count": 18,
   "metadata": {
    "ExecuteTime": {
     "end_time": "2022-12-31T07:29:38.353473Z",
     "start_time": "2022-12-31T07:29:38.341447Z"
    }
   },
   "outputs": [
    {
     "name": "stdout",
     "output_type": "stream",
     "text": [
      "이름\n"
     ]
    }
   ],
   "source": [
    "p.__name = \"이름\"                      #그러나 변경된 정보는 불려진다\n",
    "print(p.__name)                       # 이유는 initializer() 에서 초기화한 __name이 아니기 때문이다."
   ]
  },
  {
   "cell_type": "code",
   "execution_count": 19,
   "metadata": {
    "ExecuteTime": {
     "end_time": "2022-12-31T07:29:41.941245Z",
     "start_time": "2022-12-31T07:29:41.921573Z"
    }
   },
   "outputs": [
    {
     "data": {
      "text/plain": [
       "{'_Person4__name': '홍길동',\n",
       " '_Person4__age': None,\n",
       " 'address': '서울',\n",
       " '__name': '이름'}"
      ]
     },
     "execution_count": 19,
     "metadata": {},
     "output_type": "execute_result"
    }
   ],
   "source": [
    "p.__dict__    # 객체 p가 가지는 attribute 들을 dictionary로 반환."
   ]
  },
  {
   "cell_type": "code",
   "execution_count": 37,
   "metadata": {
    "ExecuteTime": {
     "end_time": "2022-12-27T06:45:50.260301Z",
     "start_time": "2022-12-27T06:45:50.252827Z"
    }
   },
   "outputs": [
    {
     "name": "stdout",
     "output_type": "stream",
     "text": [
      "홍길동\n"
     ]
    }
   ],
   "source": [
    "print(p._Person4__name)    #아예 접근이 불가능한 것은 아니지만, 가급적 규칙을 지켜주는 것이 좋다. "
   ]
  },
  {
   "cell_type": "code",
   "execution_count": 56,
   "metadata": {
    "ExecuteTime": {
     "end_time": "2022-12-27T07:26:41.927017Z",
     "start_time": "2022-12-27T07:26:41.921749Z"
    },
    "scrolled": false
   },
   "outputs": [
    {
     "name": "stdout",
     "output_type": "stream",
     "text": [
      "이름: None, 나이: 5, 주소: 안전\n"
     ]
    }
   ],
   "source": [
    "p2 = Person4('김', 5, \"안전\")\n",
    "p2.print_info()"
   ]
  },
  {
   "cell_type": "code",
   "execution_count": 57,
   "metadata": {
    "ExecuteTime": {
     "end_time": "2022-12-27T07:26:44.794821Z",
     "start_time": "2022-12-27T07:26:44.784438Z"
    }
   },
   "outputs": [
    {
     "name": "stdout",
     "output_type": "stream",
     "text": [
      "이름: None, 나이: 5, 주소: 부산\n"
     ]
    }
   ],
   "source": [
    "p2.set_name('조')\n",
    "p2.set_age(33)\n",
    "p2.address = '부산'\n",
    "p2.print_info()"
   ]
  },
  {
   "cell_type": "code",
   "execution_count": 58,
   "metadata": {
    "ExecuteTime": {
     "end_time": "2022-12-27T07:26:46.710089Z",
     "start_time": "2022-12-27T07:26:46.702072Z"
    }
   },
   "outputs": [
    {
     "name": "stdout",
     "output_type": "stream",
     "text": [
      "이름:  None\n",
      "나이:  5\n",
      "주소:  부산\n"
     ]
    }
   ],
   "source": [
    "print('이름: ', p2.get_name())\n",
    "print('나이: ', p2.get_age())\n",
    "print(\"주소: \", p2.address)"
   ]
  },
  {
   "cell_type": "markdown",
   "metadata": {
    "slideshow": {
     "slide_type": "subslide"
    }
   },
   "source": [
    "### property함수를 사용\n",
    "- 은닉된 instance 변수의 값을 사용할 때 getter/setter대신 변수를 사용하는 방식으로 호출할 수 있도록 한다.\n",
    "- 구현\n",
    "    1. getter/setter 메소드를 만든다.\n",
    "    2. 변수 = property(getter, setter) 를 등록한다.\n",
    "    3. 호출\n",
    "        - 값조회: 변수를 사용 => getter가 호출 된다.\n",
    "        - 값변경: 변수 = 변경할 값 => setter가 호출 된다."
   ]
  },
  {
   "cell_type": "code",
   "execution_count": 61,
   "metadata": {
    "ExecuteTime": {
     "end_time": "2022-12-27T07:27:59.688965Z",
     "start_time": "2022-12-27T07:27:59.675190Z"
    },
    "slideshow": {
     "slide_type": "fragment"
    }
   },
   "outputs": [],
   "source": [
    "class Person5: \n",
    "    # name : 이름은 두 글자 이상만 대입할 수 있다. \n",
    "    # age  :  10이상만 대입할 수 있다.\n",
    "    # address: 특별한 규칙이 없다. \n",
    "    # name, age는 아무값이나 대입할 수 없도록 처리 -> 정보은닉(Information Hiding)\n",
    "\n",
    "    def __init__(self, name, age, address):\n",
    "        self.__name = None\n",
    "        self.set_name(name)   \n",
    "        self.__age = None\n",
    "        self.set_age(age)\n",
    "        self.address = address  \n",
    "        \n",
    "    # 정보은닉 - 이름을 변경하는 메서드\n",
    "    def set_name(self, name):\n",
    "        if len(name) >= 2:\n",
    "            self.__name = name\n",
    "            \n",
    "    # 정보은닉 - 이름을 조회\n",
    "    def get_name(self):\n",
    "        return self.__name\n",
    "    \n",
    "    # 나이 변경   ---> 외부에서는 변경이 불가능하나 같은 객체 안에서는 가능\n",
    "    def set_age(self,age):\n",
    "        if age <=10:\n",
    "            self.__age = age\n",
    "    # 나이 조회   ---> 외부에서는 변경이 불가능하나 같은 객체 안에서는 가능\n",
    "    def get_age(self):\n",
    "        return self.__age\n",
    "    \n",
    "    def print_info(self):\n",
    "        print(f\"이름: {self.__name}, 나이: {self.__age}, 주소: {self.address}\")\n",
    "    \n",
    "    \n",
    "    ##property() 함수를 이용해서 gette/setter를 변수에 등록. 변수를 이용해 getter/setter를 호출할 수 있게 한다.\n",
    "    name = property(get_name, set_name)  # property(getter, setter)\n",
    "    age = property(get_age, set_age)"
   ]
  },
  {
   "cell_type": "code",
   "execution_count": 63,
   "metadata": {
    "ExecuteTime": {
     "end_time": "2022-12-27T07:28:30.909752Z",
     "start_time": "2022-12-27T07:28:30.901052Z"
    }
   },
   "outputs": [
    {
     "name": "stdout",
     "output_type": "stream",
     "text": [
      "이순신\n",
      "None\n",
      "부산\n",
      "이순신\n"
     ]
    }
   ],
   "source": [
    "p = Person5('홍길동', 20, '서울')\n",
    "\n",
    "p.name= '이순신'     #set_name\n",
    "p.age = 40         #set_age\n",
    "p.address = '부산'  #address\n",
    "\n",
    "print(p.name)      #get_name\n",
    "print(p.age)       #get_age\n",
    "print(p.address)   #address\n",
    "p.name = '박'\n",
    "print(p.name)"
   ]
  },
  {
   "cell_type": "markdown",
   "metadata": {
    "slideshow": {
     "slide_type": "subslide"
    },
    "tags": []
   },
   "source": [
    "### 데코레이터(decorator)를 이용해 property 지정.\n",
    "- setter/getter 구현 + property()를 이용해 변수 등록 하는 것을 더 간단하게 구현하는 방식\n",
    "- setter/getter 메소드이름을 변수처럼 지정. (보통은 같은 이름으로 지정)\n",
    "- getter메소드: @property 데코레이터를 선언  \n",
    "- setter메소드: @getter메소드이름.setter  데코레이터를 선언.\n",
    "    - 반드시 getter 메소드를 먼저 정의한다.\n",
    "    - setter메소드 이름은 getter와 동일해야 한다.\n",
    "- getter/setter의 이름을 Attribute 변수처럼 사용한다.\n",
    "- 주의: getter/setter 메소드를 직접 호출 할 수 없다. 변수형식으로만 호출가능하다."
   ]
  },
  {
   "cell_type": "code",
   "execution_count": 20,
   "metadata": {
    "ExecuteTime": {
     "end_time": "2022-12-31T07:31:52.751751Z",
     "start_time": "2022-12-31T07:31:52.737903Z"
    },
    "slideshow": {
     "slide_type": "fragment"
    }
   },
   "outputs": [],
   "source": [
    "class Person6:\n",
    "    def __init__(self, name, age, address=None):\n",
    "        self.name = name  # setter name메소드 호출\n",
    "        self.age = age    # setter age메소드 호출\n",
    "        self.address = address\n",
    "      \n",
    "    @property\n",
    "    def name(self):\n",
    "#         name의 getter\n",
    "        print('getter name')\n",
    "        return self.__name\n",
    "\n",
    "    @name.setter\n",
    "    def name(self, name):\n",
    "#     name의 setter\n",
    "        print('setter name', name)\n",
    "        if len(name) >= 2:\n",
    "            self.__name = name\n",
    "            \n",
    "    @property\n",
    "    def age(self):\n",
    "        return self.__age\n",
    "    \n",
    "    @age.setter\n",
    "    def age(self, age):\n",
    "        if age >= 10:\n",
    "            self.__age = age\n",
    "    \n",
    "    def print_info(self):\n",
    "        print(f\"이름: {self.name}, 나이: {self.age}, 주소: {self.address}\")"
   ]
  },
  {
   "cell_type": "code",
   "execution_count": 21,
   "metadata": {
    "ExecuteTime": {
     "end_time": "2022-12-31T07:32:05.010099Z",
     "start_time": "2022-12-31T07:32:04.998518Z"
    }
   },
   "outputs": [
    {
     "name": "stdout",
     "output_type": "stream",
     "text": [
      "setter name 홍길동\n"
     ]
    }
   ],
   "source": [
    "p = Person6(\"홍길동\", 30, '서울')\n",
    "# p.print_info()"
   ]
  },
  {
   "cell_type": "code",
   "execution_count": 22,
   "metadata": {
    "ExecuteTime": {
     "end_time": "2022-12-31T07:32:13.830360Z",
     "start_time": "2022-12-31T07:32:13.820311Z"
    }
   },
   "outputs": [
    {
     "name": "stdout",
     "output_type": "stream",
     "text": [
      "setter name 리\n",
      "getter name\n",
      "홍길동\n"
     ]
    }
   ],
   "source": [
    "p.name = '리'\n",
    "print(p.name)"
   ]
  },
  {
   "cell_type": "markdown",
   "metadata": {
    "slideshow": {
     "slide_type": "subslide"
    }
   },
   "source": [
    "## TODO\n",
    "- 제품 클래스 구현\n",
    "- 속성 : 제품ID:str 제품이름: str, 제품가격:int, 제조사이름:str\n",
    "-       정보은닉에 맞춰서 작성. 값을 대입/조회 하는 것은 변수처리 방식을 할 수 있도록 구현.\n",
    "- 메소드: 전체 정보를 출력하는 메소드\n",
    "\n",
    "메소드 : setter-4개, getter-4개. 전체정보 출력하는 메소드-1개"
   ]
  },
  {
   "cell_type": "code",
   "execution_count": 23,
   "metadata": {
    "ExecuteTime": {
     "end_time": "2022-12-31T07:32:50.503865Z",
     "start_time": "2022-12-31T07:32:50.484377Z"
    },
    "slideshow": {
     "slide_type": "fragment"
    }
   },
   "outputs": [],
   "source": [
    "class Product: \n",
    "    # name : 이름은 두 글자 이상만 대입할 수 있다. \n",
    "    # age  :  10이상만 대입할 수 있다.\n",
    "    # address: 특별한 규칙이 없다. \n",
    "    # name, age는 아무값이나 대입할 수 없도록 처리 -> 정보은닉(Information Hiding)\n",
    "\n",
    "    def __init__(self, id, name, price, brand):\n",
    "        self.__id = None\n",
    "        self.set_id(id)\n",
    "        \n",
    "        self.__name = None\n",
    "        self.set_name(name) \n",
    "        \n",
    "        self.__price = None\n",
    "        self.set_price(price)\n",
    "        \n",
    "        self.__brand = None\n",
    "        self.set_brand(brand)  \n",
    "        \n",
    "    # 정보은닉 - 이름을 변경하는 메서드\n",
    "    \n",
    "    def set_id(self, id):\n",
    "        if len(id) >=2:\n",
    "            self.__id = id\n",
    "            \n",
    "    def get_id(self):\n",
    "        return self.__id\n",
    "    \n",
    "    def set_name(self, name):\n",
    "        if len(name) >= 2:\n",
    "            self.__name = name\n",
    "            \n",
    "    # 정보은닉 - 이름을 조회\n",
    "    def get_name(self):\n",
    "        return self.__name\n",
    "    \n",
    "    # 나이 변경   ---> 외부에서는 변경이 불가능하나 같은 객체 안에서는 가능\n",
    "    def set_price(self,price):\n",
    "        if price <=10:\n",
    "            self.__price = price\n",
    "    # 나이 조회   ---> 외부에서는 변경이 불가능하나 같은 객체 안에서는 가능\n",
    "    def get_price(self):\n",
    "        return self.__price\n",
    "    \n",
    "    def set_brand(self, brand):\n",
    "        if len(brand)  >= 2:\n",
    "            self.__brand = brand\n",
    "            \n",
    "    def get_brand(self):\n",
    "        return self.__brand\n",
    "    \n",
    "    def print_info(self):\n",
    "        print(f\"ID: {self.__id}, 제품명: {self.__name}, 가격: {self.__price}, 제조사: {self.__brand}\")\n",
    "    \n",
    "    \n",
    "#     ##property() 함수를 이용해서 gette/setter를 변수에 등록. 변수를 이용해 getter/setter를 호출할 수 있게 한다.\n",
    "#     name = property(get_name, set_name)  # property(getter, setter)\n",
    "#     age = property(get_age, set_age)"
   ]
  },
  {
   "cell_type": "code",
   "execution_count": 24,
   "metadata": {
    "ExecuteTime": {
     "end_time": "2022-12-31T07:32:52.326710Z",
     "start_time": "2022-12-31T07:32:52.311982Z"
    },
    "scrolled": true
   },
   "outputs": [
    {
     "name": "stdout",
     "output_type": "stream",
     "text": [
      "ID: p-100, 제품명: TV, 가격: None, 제조사: LG\n"
     ]
    },
    {
     "ename": "AttributeError",
     "evalue": "'Product' object has no attribute 'price'",
     "output_type": "error",
     "traceback": [
      "\u001b[0;31m---------------------------------------------------------------------------\u001b[0m",
      "\u001b[0;31mAttributeError\u001b[0m                            Traceback (most recent call last)",
      "\u001b[0;32m/var/folders/jf/l3x8dj6n62s041cwvf169t5w0000gn/T/ipykernel_18123/2435669527.py\u001b[0m in \u001b[0;36m<module>\u001b[0;34m\u001b[0m\n\u001b[1;32m      1\u001b[0m \u001b[0mp\u001b[0m \u001b[0;34m=\u001b[0m \u001b[0mProduct\u001b[0m\u001b[0;34m(\u001b[0m\u001b[0;34m'p-100'\u001b[0m\u001b[0;34m,\u001b[0m \u001b[0;34m'TV'\u001b[0m\u001b[0;34m,\u001b[0m \u001b[0;36m1000000\u001b[0m\u001b[0;34m,\u001b[0m \u001b[0;34m'LG'\u001b[0m\u001b[0;34m)\u001b[0m\u001b[0;34m\u001b[0m\u001b[0;34m\u001b[0m\u001b[0m\n\u001b[1;32m      2\u001b[0m \u001b[0mp\u001b[0m\u001b[0;34m.\u001b[0m\u001b[0mprint_info\u001b[0m\u001b[0;34m(\u001b[0m\u001b[0;34m)\u001b[0m\u001b[0;34m\u001b[0m\u001b[0;34m\u001b[0m\u001b[0m\n\u001b[0;32m----> 3\u001b[0;31m \u001b[0mprint\u001b[0m\u001b[0;34m(\u001b[0m\u001b[0mp\u001b[0m\u001b[0;34m.\u001b[0m\u001b[0mprice\u001b[0m\u001b[0;34m)\u001b[0m\u001b[0;34m\u001b[0m\u001b[0;34m\u001b[0m\u001b[0m\n\u001b[0m",
      "\u001b[0;31mAttributeError\u001b[0m: 'Product' object has no attribute 'price'"
     ]
    }
   ],
   "source": [
    "p = Product('p-100', 'TV', 1000000, 'LG')\n",
    "p.print_info()\n",
    "print(p.price)"
   ]
  },
  {
   "cell_type": "code",
   "execution_count": 88,
   "metadata": {
    "ExecuteTime": {
     "end_time": "2022-12-27T08:41:19.588197Z",
     "start_time": "2022-12-27T08:41:19.570422Z"
    }
   },
   "outputs": [],
   "source": [
    "##선생님 ver\n",
    "\n",
    "class Product:\n",
    "    \n",
    "    def __init__(self, id, name, price, maker):\n",
    "        self.id = id\n",
    "        self.name = name\n",
    "        self.price = price\n",
    "        self.maker = makeer\n",
    "        \n",
    "    # Setter\n",
    "    def set_id(self,id):\n",
    "        if id:\n",
    "            self.___id = id\n",
    "   \n",
    "    def set_name(self,name):\n",
    "        if name:\n",
    "            self.___name = name\n",
    "            \n",
    "    def set_price(self, price):\n",
    "        if price:\n",
    "            self.__print = price\n",
    "            \n",
    "    def set_maker(self,maker):\n",
    "        if maker:\n",
    "            self.___maker = maker\n",
    "           \n",
    "    #getter\n",
    "    def get_id(self):\n",
    "        return self.__id\n",
    "  \n",
    "    def get_name(self):\n",
    "        return self.__name   \n",
    "    \n",
    "    def get_price(self):\n",
    "        return self.__price\n",
    "    \n",
    "    def get_maker(self):\n",
    "        return self.__maker\n",
    "    \n",
    "    id = property(get_id, set_id)\n",
    "    name = property(get_name, set_name)\n",
    "    price = property(get_price, set_price)\n",
    "    maker = property(get_maker, set_maker)\n",
    "\n",
    "    def print_info(self):\n",
    "        print(f\"제품 id: {self.id}, 제품이름: {self.name}, 가격: {self.price}, 제조사: {self.maker}\")\n",
    "    "
   ]
  },
  {
   "cell_type": "code",
   "execution_count": null,
   "metadata": {},
   "outputs": [],
   "source": [
    "p = Product('p-100', 'TV', 1000000, 'LG')\n",
    "p.print_info()\n",
    "print(p.price)"
   ]
  },
  {
   "cell_type": "code",
   "execution_count": null,
   "metadata": {},
   "outputs": [],
   "source": [
    "p.price = 0\n",
    "p.print_info()"
   ]
  },
  {
   "cell_type": "code",
   "execution_count": null,
   "metadata": {},
   "outputs": [],
   "source": [
    "p.price = 500  # set_price() 호출\n",
    "p.print_info()"
   ]
  },
  {
   "cell_type": "code",
   "execution_count": 25,
   "metadata": {
    "ExecuteTime": {
     "end_time": "2022-12-31T07:37:42.378494Z",
     "start_time": "2022-12-31T07:37:42.362655Z"
    }
   },
   "outputs": [],
   "source": [
    "class Product2:\n",
    "    \n",
    "    def __init__(self, id, name, price, maker):\n",
    "        self.id = id\n",
    "        self.name = name\n",
    "        self.price = price\n",
    "        self.maker = maker\n",
    "    \n",
    "    # getter\n",
    "    @property\n",
    "    def id(self):\n",
    "        return self.__id\n",
    "    \n",
    "    @property\n",
    "    def name(self):\n",
    "        return self.__name\n",
    "    \n",
    "    @property\n",
    "    def price(self):\n",
    "        return self.__price\n",
    "    \n",
    "    @property\n",
    "    def maker(self):\n",
    "        return self.__maker\n",
    "    \n",
    "    # setter\n",
    "    @id.setter\n",
    "    def id(self, id):\n",
    "        if id:\n",
    "            self.__id = id\n",
    "    \n",
    "    @name.setter\n",
    "    def name(self, name):\n",
    "        if name:\n",
    "            self.__name = name\n",
    "    \n",
    "    @price.setter\n",
    "    def price(self, price):\n",
    "        if price: \n",
    "            self.__price = price\n",
    "        \n",
    "    @maker.setter\n",
    "    def maker(self, maker):\n",
    "        if maker:\n",
    "            self.__maker = maker\n",
    "   \n",
    "    def print_info(self):\n",
    "        print(f\"제품 id: {self.id}, 제품이름: {self.name}, 가격: {self.price}, 제조사: {self.maker}\")"
   ]
  },
  {
   "cell_type": "code",
   "execution_count": 26,
   "metadata": {
    "ExecuteTime": {
     "end_time": "2022-12-31T07:37:44.460474Z",
     "start_time": "2022-12-31T07:37:44.449314Z"
    }
   },
   "outputs": [
    {
     "name": "stdout",
     "output_type": "stream",
     "text": [
      "제품 id: id-1000, 제품이름: 노트북, 가격: 500000, 제조사: 삼성\n"
     ]
    }
   ],
   "source": [
    "p2 = Product2(\"id-1000\", '노트북', 500000, '삼성' )\n",
    "p2.print_info()"
   ]
  },
  {
   "cell_type": "code",
   "execution_count": 27,
   "metadata": {
    "ExecuteTime": {
     "end_time": "2022-12-31T07:37:46.497241Z",
     "start_time": "2022-12-31T07:37:46.487299Z"
    }
   },
   "outputs": [
    {
     "name": "stdout",
     "output_type": "stream",
     "text": [
      "제품 id: id-1000, 제품이름: 노트북, 가격: 500000, 제조사: Apple\n"
     ]
    }
   ],
   "source": [
    "p2.maker = 'Apple'\n",
    "p2.print_info()"
   ]
  },
  {
   "cell_type": "code",
   "execution_count": 28,
   "metadata": {
    "ExecuteTime": {
     "end_time": "2022-12-31T07:37:48.154730Z",
     "start_time": "2022-12-31T07:37:48.145470Z"
    }
   },
   "outputs": [
    {
     "name": "stdout",
     "output_type": "stream",
     "text": [
      "제품 id: id-1000, 제품이름: 노트북, 가격: 500000, 제조사: Apple\n"
     ]
    }
   ],
   "source": [
    "p2.maker = ''\n",
    "p2.print_info()"
   ]
  },
  {
   "cell_type": "markdown",
   "metadata": {
    "slideshow": {
     "slide_type": "slide"
    }
   },
   "source": [
    "## 상속 (Inheritance)\n",
    "\n",
    "- 기존 클래스를 확장하여 새로운 클래스를 구현한다.\n",
    "    - 생성된 객체(instance)가 기존 클래스에 정의된 Attribute나 method를 사용할 수있고 그 외의 추가적인 member들을 가질 수 있는 클래스를 구현하는 방법.\n",
    "- **기반(Base) 클래스, 상위(Super) 클래스, 부모(Parent) 클래스**\n",
    "    - 물려 주는 클래스.\n",
    "    - 상속하는 클래스에 비해 더 추상적인 클래스가 된다. \n",
    "    - 상속하는 클래스의 데이터 타입이 된다.\n",
    "- **파생(Derived) 클래스, 하위(Sub) 클래스, 자식(Child) 클래스**\n",
    "    - 상속하는 클래스.\n",
    "    - 상속을 해준 클래스 보다 좀더 구체적인 클래스가 된다.\n",
    "- 상위 클래스와 하위클래스는 계층관계를 이룬다."
   ]
  },
  {
   "cell_type": "markdown",
   "metadata": {
    "slideshow": {
     "slide_type": "subslide"
    }
   },
   "source": [
    "### 다중상속과 단일 상속\n",
    "- 다중상속\n",
    "    - 여러 클래스로부터 상속할 수 있다(파이썬은 다중상속을 지원한다).\n",
    "- 단일상속\n",
    "    - 하나의 클래스로 부터만 상속할 수 있다(자바는 단일상속만 지원한다).\n",
    "- 파이썬은 다중상속을 지원한다.\n",
    "- MRO (Method Resolution Order)\n",
    "    - 다중상속시 메소드 호출할 때 그 메소드를 찾는 순서. \n",
    "    1. 자기자신\n",
    "    2. 상위클래스(하위에서 상위로 올라간다)\n",
    "        - 다중상속의 경우 먼저 선언한 클래스 부터 찾는다. (왼쪽->오른쪽)\n",
    "- MRO 순서 조회 \n",
    "    - Class이름.mro()"
   ]
  },
  {
   "cell_type": "code",
   "execution_count": 12,
   "metadata": {
    "ExecuteTime": {
     "end_time": "2022-12-28T01:29:26.958656Z",
     "start_time": "2022-12-28T01:29:26.950429Z"
    },
    "slideshow": {
     "slide_type": "fragment"
    }
   },
   "outputs": [],
   "source": [
    "class Person:\n",
    "    \n",
    "    def go(self):\n",
    "        print('학교에 간다.')\n",
    "        \n",
    "    def eat(self):\n",
    "        print('점심을 먹는다.')"
   ]
  },
  {
   "cell_type": "code",
   "execution_count": 13,
   "metadata": {
    "ExecuteTime": {
     "end_time": "2022-12-28T01:31:52.903394Z",
     "start_time": "2022-12-28T01:31:52.891862Z"
    }
   },
   "outputs": [],
   "source": [
    "#Person을 상속받아서 Student/Teacher 클래스를 구현\n",
    "class Student(Person):          # 상속받으려면 상속할 클래스 이름을 넣는다 [ , 상속할 클래스이름들, ...]\n",
    "\n",
    "    def study(self):\n",
    "        print('학생이 공부한다.')"
   ]
  },
  {
   "cell_type": "code",
   "execution_count": 14,
   "metadata": {
    "ExecuteTime": {
     "end_time": "2022-12-28T01:32:26.147520Z",
     "start_time": "2022-12-28T01:32:26.135054Z"
    }
   },
   "outputs": [],
   "source": [
    "class Teacher(Person):\n",
    "    \n",
    "    def teach(self):\n",
    "        print('수업을 가르친다.')"
   ]
  },
  {
   "cell_type": "code",
   "execution_count": 15,
   "metadata": {
    "ExecuteTime": {
     "end_time": "2022-12-28T01:35:46.026476Z",
     "start_time": "2022-12-28T01:35:46.010307Z"
    }
   },
   "outputs": [],
   "source": [
    "class UniversityStudent(Student):   # 이번에는 Student로부터 상속을 받는다.\n",
    "    \n",
    "    def drink(self):\n",
    "        print('술을 마신다.')"
   ]
  },
  {
   "cell_type": "code",
   "execution_count": 16,
   "metadata": {
    "ExecuteTime": {
     "end_time": "2022-12-28T01:37:22.859159Z",
     "start_time": "2022-12-28T01:37:22.846839Z"
    }
   },
   "outputs": [
    {
     "name": "stdout",
     "output_type": "stream",
     "text": [
      "학교에 간다.\n",
      "점심을 먹는다.\n",
      "수업을 가르친다.\n"
     ]
    }
   ],
   "source": [
    "t = Teacher()\n",
    "t.go()       # 상속받은 메소드여서 실행 가능\n",
    "t.eat()      # 상속받은 메소드여서 실행 가능\n",
    "t.teach()    # 티쳐 안에 있는 메소드"
   ]
  },
  {
   "cell_type": "code",
   "execution_count": 17,
   "metadata": {
    "ExecuteTime": {
     "end_time": "2022-12-28T01:39:35.152660Z",
     "start_time": "2022-12-28T01:39:35.141853Z"
    }
   },
   "outputs": [
    {
     "name": "stdout",
     "output_type": "stream",
     "text": [
      "학교에 간다.\n",
      "점심을 먹는다.\n",
      "학생이 공부한다.\n",
      "술을 마신다.\n"
     ]
    }
   ],
   "source": [
    "us = UniversityStudent()\n",
    "us.go()       # Person 상속받은 메소드여서 실행 가능\n",
    "us.eat()      # Person 상속받은 메소드여서 실행 가능\n",
    "us.study()    # Student 상속받은 메소드여서 실행 가능\n",
    "us.drink()    # 자체 메소드여서 실행 가능"
   ]
  },
  {
   "cell_type": "code",
   "execution_count": 18,
   "metadata": {
    "ExecuteTime": {
     "end_time": "2022-12-28T01:42:04.287209Z",
     "start_time": "2022-12-28T01:42:04.267923Z"
    },
    "collapsed": true
   },
   "outputs": [
    {
     "ename": "AttributeError",
     "evalue": "'UniversityStudent' object has no attribute 'teach'",
     "output_type": "error",
     "traceback": [
      "\u001b[0;31m---------------------------------------------------------------------------\u001b[0m",
      "\u001b[0;31mAttributeError\u001b[0m                            Traceback (most recent call last)",
      "\u001b[0;32m/var/folders/jf/l3x8dj6n62s041cwvf169t5w0000gn/T/ipykernel_2192/694460131.py\u001b[0m in \u001b[0;36m<module>\u001b[0;34m\u001b[0m\n\u001b[0;32m----> 1\u001b[0;31m \u001b[0mus\u001b[0m\u001b[0;34m.\u001b[0m\u001b[0mteach\u001b[0m\u001b[0;34m(\u001b[0m\u001b[0;34m)\u001b[0m\u001b[0;34m\u001b[0m\u001b[0;34m\u001b[0m\u001b[0m\n\u001b[0m",
      "\u001b[0;31mAttributeError\u001b[0m: 'UniversityStudent' object has no attribute 'teach'"
     ]
    }
   ],
   "source": [
    "us.teach()   #이 메소드는 상속받지 않은 메소드여서 error 남."
   ]
  },
  {
   "cell_type": "code",
   "execution_count": null,
   "metadata": {},
   "outputs": [],
   "source": [
    "---------------------------------------------------------------------"
   ]
  },
  {
   "cell_type": "code",
   "execution_count": 19,
   "metadata": {
    "ExecuteTime": {
     "end_time": "2022-12-28T01:46:06.720541Z",
     "start_time": "2022-12-28T01:46:06.703730Z"
    }
   },
   "outputs": [
    {
     "data": {
      "text/plain": [
       "[__main__.UniversityStudent, __main__.Student, __main__.Person, object]"
      ]
     },
     "execution_count": 19,
     "metadata": {},
     "output_type": "execute_result"
    }
   ],
   "source": [
    "# 다중상속\n",
    "\n",
    "UniversityStudent.mro()"
   ]
  },
  {
   "cell_type": "code",
   "execution_count": null,
   "metadata": {},
   "outputs": [],
   "source": [
    "# tab  자동완성 기능 !!!! 대박!!!-->다른 노트북에서는 cntl+space!!"
   ]
  },
  {
   "cell_type": "markdown",
   "metadata": {
    "slideshow": {
     "slide_type": "subslide"
    }
   },
   "source": [
    "### Method Overriding (메소드 재정의)\n",
    "기반 클래스의 메소드의 구현부를 파생클래스에서 다시 구현하는 것을 말한다.  \n",
    "기반 클래스는 모든 파생클래스들에 적용할 수 있는 추상적인 구현밖에는 못한다.  \n",
    "이 경우 파생클래스에서 그 내용을 자신에 맞게 좀더 구체적으로 재구현할 수 있게 해주는 것을 Method Overriding이라고 한다.  \n",
    "방법은 파생클래스에서 overriding할 메소드의 선언문은 그래로 사용하고 그 구현부는 재구현하면 된다.  \n",
    "\n",
    "### super() 내장함수\n",
    "- 파생 클래스에서 기반 클래스의 instance를 반환(return) 해주는 함수\n",
    "- 구문\n",
    "```python\n",
    "super().메소드명() \n",
    "```\n",
    "- 기반 클래스의 Instance 메소드를 호출할 때 – super().메소드()\n",
    "    - 특히 method overriding을 한 클래스에서 기반 클래스의 overriding한 메소드를 호출 할 경우 반드시 `super().메소드() `형식으로 호출해야 한다.\n",
    "- 같은 클래스의 Instance 메소드를 호출할 때 – self.메소드()"
   ]
  },
  {
   "cell_type": "code",
   "execution_count": 38,
   "metadata": {
    "ExecuteTime": {
     "end_time": "2022-12-28T02:24:40.117654Z",
     "start_time": "2022-12-28T02:24:40.107369Z"
    },
    "slideshow": {
     "slide_type": "fragment"
    }
   },
   "outputs": [],
   "source": [
    "# Method Overriding\n",
    "class Person2:\n",
    "    \n",
    "    def go(self):\n",
    "        print('학교에 간다.')\n",
    "        \n",
    "    def eat(self):\n",
    "        print('점심을 먹는다.')"
   ]
  },
  {
   "cell_type": "code",
   "execution_count": 52,
   "metadata": {
    "ExecuteTime": {
     "end_time": "2022-12-28T02:34:33.457022Z",
     "start_time": "2022-12-28T02:34:33.445470Z"
    }
   },
   "outputs": [],
   "source": [
    "# Student는 학교에 스쿨버스를 타고 가는 좀 더 구체적인 구현을 해야 한다. \n",
    "# Teacher는 점심을 밖에 나가서 먹는다 라는 좀 더 구체적인 구현을 해야 한다. \n",
    "\n",
    "class Student2(Person2):\n",
    "    def study(self):\n",
    "        print('공부를 한다.')\n",
    "        \n",
    "    def go(self):\n",
    "        print('스쿨버스를 탄다')\n",
    "#         print('학교에 간다')      # 상위클래스 정의된 내용이므로 상위클래스의 go()를 호출해서 처리.\n",
    "        super().go()               # super() 내장함수 --> 부모 객체 불러오기!\n",
    "#         print(\"학교에 스쿨 버스를 타고 간다.\")"
   ]
  },
  {
   "cell_type": "code",
   "execution_count": 65,
   "metadata": {
    "ExecuteTime": {
     "end_time": "2022-12-28T02:35:12.618296Z",
     "start_time": "2022-12-28T02:35:12.610579Z"
    }
   },
   "outputs": [
    {
     "name": "stdout",
     "output_type": "stream",
     "text": [
      "스쿨버스를 탄다\n",
      "학교에 간다.\n"
     ]
    }
   ],
   "source": [
    "s = Student2()\n",
    "s.go()            # self 메소드도 호출하고 super 메소드도 호출한다."
   ]
  },
  {
   "cell_type": "code",
   "execution_count": 32,
   "metadata": {
    "ExecuteTime": {
     "end_time": "2022-12-28T02:23:59.531570Z",
     "start_time": "2022-12-28T02:23:59.521481Z"
    }
   },
   "outputs": [],
   "source": [
    "# Method Overriding\n",
    "class Teacher2(Person2):\n",
    "    def teach(self):\n",
    "        print('수업을 가르친다.')\n",
    "    def eat(self):\n",
    "        print('밖으로 나가서 점심을 먹는다')"
   ]
  },
  {
   "cell_type": "code",
   "execution_count": 41,
   "metadata": {
    "ExecuteTime": {
     "end_time": "2022-12-28T02:25:10.812769Z",
     "start_time": "2022-12-28T02:25:10.798759Z"
    }
   },
   "outputs": [
    {
     "name": "stdout",
     "output_type": "stream",
     "text": [
      "학교에 간다.\n",
      "밖으로 나가서 점심을 먹는다\n"
     ]
    }
   ],
   "source": [
    "t = Teacher2()\n",
    "t.go()\n",
    "t.eat()          "
   ]
  },
  {
   "cell_type": "code",
   "execution_count": null,
   "metadata": {},
   "outputs": [],
   "source": [
    "-----------------------------------------------------------------------------------"
   ]
  },
  {
   "cell_type": "code",
   "execution_count": 132,
   "metadata": {
    "ExecuteTime": {
     "end_time": "2022-12-28T03:33:30.951454Z",
     "start_time": "2022-12-28T03:33:30.939195Z"
    }
   },
   "outputs": [],
   "source": [
    "class Person():\n",
    "    def __init__(self, name, age, address=None):\n",
    "        self.name = name\n",
    "        self.age = age\n",
    "        self.address = address\n",
    "        \n",
    "    @property\n",
    "    def name(self):\n",
    "        return self.__name\n",
    "    \n",
    "    @name.setter\n",
    "    def name(self, name):\n",
    "        if len(name) >=2:\n",
    "            self.__name = name\n",
    "            \n",
    "    @property\n",
    "    def age(self):\n",
    "        return self.__age\n",
    "    \n",
    "    @age.setter\n",
    "    def age(self, age):\n",
    "        if age>= 10:\n",
    "            self.__age = age\n",
    "    \n",
    "    \n",
    "    # 나이값을 더하는 메소드\n",
    "    def add_age(self, age):\n",
    "        self.age = self.age + age\n",
    "        \n",
    "    # Person 의 Attribute들 (name, age, address)를 하나의 문자열로 만들어서 반환\n",
    "    def get_info(self):\n",
    "        return f\"이름: {self.name}, 나이: {self.age}, 주소: {self.address}\"\n",
    "    "
   ]
  },
  {
   "cell_type": "code",
   "execution_count": 147,
   "metadata": {
    "ExecuteTime": {
     "end_time": "2022-12-28T05:11:18.095536Z",
     "start_time": "2022-12-28T05:11:18.080527Z"
    }
   },
   "outputs": [
    {
     "name": "stdout",
     "output_type": "stream",
     "text": [
      "이름: 홍길동, 나이: 30, 주소: 서울\n",
      "이름: 홍길동, 나이: 33, 주소: 서울\n",
      "33\n"
     ]
    }
   ],
   "source": [
    "#Thony로 어떻게 작동하는지 확인해보자.\n",
    "\n",
    "p  = Person(\"홍길동\", 30, \"서울\")\n",
    "info = p.get_info()\n",
    "print(info)\n",
    "p.add_age(3)\n",
    "print(p.get_info())\n",
    "print(p.age)"
   ]
  },
  {
   "cell_type": "code",
   "execution_count": 135,
   "metadata": {
    "ExecuteTime": {
     "end_time": "2022-12-28T03:33:50.384957Z",
     "start_time": "2022-12-28T03:33:50.374404Z"
    }
   },
   "outputs": [],
   "source": [
    "#Person 속성 : name, age, address  \n",
    "#Student 속성 : grade(성적)\n",
    "\n",
    "class Student(Person):\n",
    "    def __init__(self, name, age, address, grade):\n",
    "        \n",
    "        #name, age, address는 부모객체에 초기화 -> Person 클래스의 __init__() 호출\n",
    "        super().__init__(name, age, address) #부모 클래스의 __init__ ()  메소드를 호출\n",
    "        self.grade = grade\n",
    "        \n",
    "    #get_info() 메소드를 overriding  -> grade  정보까지 추가\n",
    "    def get_info(self): \n",
    "        # name, age, address는 Person의 get_info()를 이용해서 조회\n",
    "        i = super().get_info()\n",
    "        return f'{i}, 성적 {self.grade}'"
   ]
  },
  {
   "cell_type": "code",
   "execution_count": 121,
   "metadata": {
    "ExecuteTime": {
     "end_time": "2022-12-28T03:24:16.293512Z",
     "start_time": "2022-12-28T03:24:16.279652Z"
    },
    "scrolled": true
   },
   "outputs": [
    {
     "name": "stdout",
     "output_type": "stream",
     "text": [
      "김학생 15 서울 10\n"
     ]
    }
   ],
   "source": [
    "s = Student(\"김학생\", 15, \"서울\", 10) \n",
    "print(s.name, s.age, s.address, s.grade)"
   ]
  },
  {
   "cell_type": "code",
   "execution_count": 124,
   "metadata": {
    "ExecuteTime": {
     "end_time": "2022-12-28T03:27:25.379297Z",
     "start_time": "2022-12-28T03:27:25.355717Z"
    }
   },
   "outputs": [],
   "source": [
    "s.add_age(-2)   # 자녀 것에 이 메소드 없으니 부모 것 불러와서 대입"
   ]
  },
  {
   "cell_type": "code",
   "execution_count": 125,
   "metadata": {
    "ExecuteTime": {
     "end_time": "2022-12-28T03:27:27.249225Z",
     "start_time": "2022-12-28T03:27:27.232400Z"
    }
   },
   "outputs": [
    {
     "data": {
      "text/plain": [
       "11"
      ]
     },
     "execution_count": 125,
     "metadata": {},
     "output_type": "execute_result"
    }
   ],
   "source": [
    "s.age"
   ]
  },
  {
   "cell_type": "code",
   "execution_count": 136,
   "metadata": {
    "ExecuteTime": {
     "end_time": "2022-12-28T03:33:56.857175Z",
     "start_time": "2022-12-28T03:33:56.845933Z"
    }
   },
   "outputs": [
    {
     "name": "stdout",
     "output_type": "stream",
     "text": [
      "이름: 김학생, 나이: 11, 주소: 서울\n"
     ]
    }
   ],
   "source": [
    "s_info = s.get_info()   ###선생님 것 참고### 위에 메소드 추가한 것 참고\n",
    "print(s_info)"
   ]
  },
  {
   "cell_type": "code",
   "execution_count": null,
   "metadata": {},
   "outputs": [],
   "source": [
    "-------------------------------------------------------------------------------"
   ]
  },
  {
   "cell_type": "code",
   "execution_count": 138,
   "metadata": {
    "ExecuteTime": {
     "end_time": "2022-12-28T03:37:26.730674Z",
     "start_time": "2022-12-28T03:37:26.720292Z"
    }
   },
   "outputs": [],
   "source": [
    "#다중 상속시 메소드 호출 순서(MRO)\n",
    "# A_1, A_2<-B_1<C->B_2\n",
    "\n",
    "class A_1:\n",
    "    pass\n",
    "class A_2:\n",
    "    pass\n",
    "class B_1(A_1, A_2):\n",
    "    pass\n",
    "class B_2:\n",
    "    pass\n",
    "class C(B_1, B_2):\n",
    "    pass\n"
   ]
  },
  {
   "cell_type": "code",
   "execution_count": 139,
   "metadata": {
    "ExecuteTime": {
     "end_time": "2022-12-28T03:37:49.399602Z",
     "start_time": "2022-12-28T03:37:49.389111Z"
    }
   },
   "outputs": [
    {
     "data": {
      "text/plain": [
       "[__main__.C, __main__.B_1, __main__.A_1, __main__.A_2, __main__.B_2, object]"
      ]
     },
     "execution_count": 139,
     "metadata": {},
     "output_type": "execute_result"
    }
   ],
   "source": [
    "C.mro()"
   ]
  },
  {
   "cell_type": "code",
   "execution_count": null,
   "metadata": {},
   "outputs": [],
   "source": []
  },
  {
   "cell_type": "markdown",
   "metadata": {
    "slideshow": {
     "slide_type": "slide"
    }
   },
   "source": [
    "## 객체 관련 유용한 내장 함수, 특수 변수\n",
    "-  **`isinstance(객체, 클래스이름-datatype)`** : bool\n",
    "    - 객체가 두번째 매개변수로 지정한 클래스의 타입이면 True, 아니면 False 반환\n",
    "    - 여러개의 타입여부를 확인할 경우 class이름(type)들을 리스트로 묶어 준다.\n",
    "    - 기반클래스는 파생클래스객체의 타입이 되므로 객체와 그 객체의 기반클래스 비교시 True가 나온다.\n",
    "- **`객체.__dict__`**\n",
    "     - 객체가 가지고 있는 Attribute 변수들과 대입된 값을 dictionary에 넣어 반환\n",
    "- **`객체.__class__`**\n",
    "    - 객체의 타입을 반환"
   ]
  },
  {
   "cell_type": "code",
   "execution_count": 150,
   "metadata": {
    "ExecuteTime": {
     "end_time": "2022-12-28T05:12:21.236970Z",
     "start_time": "2022-12-28T05:12:21.217971Z"
    }
   },
   "outputs": [
    {
     "data": {
      "text/plain": [
       "False"
      ]
     },
     "execution_count": 150,
     "metadata": {},
     "output_type": "execute_result"
    }
   ],
   "source": [
    "isinstance(p, Person)\n",
    "isinstance(\"abc\", Person)\n",
    "isinstance(s, Student)\n",
    "isinstance(s, Person)\n",
    "\n",
    "# 객체(값) 의 타입 -> 생성한 클래스, 생성한 클래서의 상위 클래스\n",
    "# s(Student객체)dml xkdlq: Student, Person"
   ]
  },
  {
   "cell_type": "code",
   "execution_count": 152,
   "metadata": {
    "ExecuteTime": {
     "end_time": "2022-12-28T05:14:14.190863Z",
     "start_time": "2022-12-28T05:14:14.173869Z"
    }
   },
   "outputs": [
    {
     "name": "stdout",
     "output_type": "stream",
     "text": [
      "<class 'int'>\n"
     ]
    },
    {
     "data": {
      "text/plain": [
       "(True, True)"
      ]
     },
     "execution_count": 152,
     "metadata": {},
     "output_type": "execute_result"
    }
   ],
   "source": [
    "print(type(10))\n",
    "type(10) == int, isinstance(10, int)"
   ]
  },
  {
   "cell_type": "code",
   "execution_count": 153,
   "metadata": {
    "ExecuteTime": {
     "end_time": "2022-12-28T05:14:40.210027Z",
     "start_time": "2022-12-28T05:14:40.194715Z"
    },
    "scrolled": true
   },
   "outputs": [
    {
     "data": {
      "text/plain": [
       "(False, False)"
      ]
     },
     "execution_count": 153,
     "metadata": {},
     "output_type": "execute_result"
    }
   ],
   "source": [
    "type(s) == Student, isinstance(s, Student)"
   ]
  },
  {
   "cell_type": "code",
   "execution_count": 154,
   "metadata": {
    "ExecuteTime": {
     "end_time": "2022-12-28T05:15:10.117583Z",
     "start_time": "2022-12-28T05:15:10.105421Z"
    }
   },
   "outputs": [
    {
     "data": {
      "text/plain": [
       "True"
      ]
     },
     "execution_count": 154,
     "metadata": {},
     "output_type": "execute_result"
    }
   ],
   "source": [
    "isinstance(10, (str, int))\n",
    "\n",
    "# 10(값)이 str 또는 int 타입인지 여부 물음"
   ]
  },
  {
   "cell_type": "code",
   "execution_count": 162,
   "metadata": {
    "ExecuteTime": {
     "end_time": "2022-12-28T05:18:24.404537Z",
     "start_time": "2022-12-28T05:18:24.397009Z"
    }
   },
   "outputs": [],
   "source": [
    "def func(value):\n",
    "    \n",
    "    if isinstance(value, (int, float)):\n",
    "#   if type(value) in [int, float]:\n",
    "        print(value * 30)\n",
    "        \n",
    "    else:\n",
    "        print(\"계산할 수 없습니다.\")"
   ]
  },
  {
   "cell_type": "code",
   "execution_count": 163,
   "metadata": {
    "ExecuteTime": {
     "end_time": "2022-12-28T05:18:26.337080Z",
     "start_time": "2022-12-28T05:18:26.315711Z"
    },
    "scrolled": true
   },
   "outputs": [
    {
     "name": "stdout",
     "output_type": "stream",
     "text": [
      "300\n",
      "168.0\n",
      "계산할 수 없습니다.\n"
     ]
    },
    {
     "data": {
      "text/plain": [
       "(None, None, None)"
      ]
     },
     "execution_count": 163,
     "metadata": {},
     "output_type": "execute_result"
    }
   ],
   "source": [
    "func(10), func(5.6), func('abd')"
   ]
  },
  {
   "cell_type": "code",
   "execution_count": 164,
   "metadata": {
    "ExecuteTime": {
     "end_time": "2022-12-28T05:20:22.459565Z",
     "start_time": "2022-12-28T05:20:22.447011Z"
    }
   },
   "outputs": [
    {
     "data": {
      "text/plain": [
       "{'_Person__name': '김학생', '_Person__age': 11, 'address': '서울', 'grade': 10}"
      ]
     },
     "execution_count": 164,
     "metadata": {},
     "output_type": "execute_result"
    }
   ],
   "source": [
    "# s 객체의 속성을 dictionary 로 반환\n",
    "s.__dict__"
   ]
  },
  {
   "cell_type": "code",
   "execution_count": 165,
   "metadata": {
    "ExecuteTime": {
     "end_time": "2022-12-28T05:20:37.946297Z",
     "start_time": "2022-12-28T05:20:37.938453Z"
    }
   },
   "outputs": [
    {
     "data": {
      "text/plain": [
       "{'_Person__name': '홍길동', '_Person__age': 33, 'address': '서울'}"
      ]
     },
     "execution_count": 165,
     "metadata": {},
     "output_type": "execute_result"
    }
   ],
   "source": [
    "p.__dict__"
   ]
  },
  {
   "cell_type": "code",
   "execution_count": 167,
   "metadata": {
    "ExecuteTime": {
     "end_time": "2022-12-28T05:21:30.197537Z",
     "start_time": "2022-12-28T05:21:30.188467Z"
    }
   },
   "outputs": [
    {
     "data": {
      "text/plain": [
       "(type, __main__.Student)"
      ]
     },
     "execution_count": 167,
     "metadata": {},
     "output_type": "execute_result"
    }
   ],
   "source": [
    "# 객체가 어떤 클래스의 타입인지를 조회.\n",
    "type(s.__class__), s.__class__"
   ]
  },
  {
   "cell_type": "code",
   "execution_count": 169,
   "metadata": {
    "ExecuteTime": {
     "end_time": "2022-12-28T05:23:44.511601Z",
     "start_time": "2022-12-28T05:23:44.492473Z"
    },
    "collapsed": true
   },
   "outputs": [
    {
     "data": {
      "text/plain": [
       "['_Person__age',\n",
       " '_Person__name',\n",
       " '__class__',\n",
       " '__delattr__',\n",
       " '__dict__',\n",
       " '__dir__',\n",
       " '__doc__',\n",
       " '__eq__',\n",
       " '__format__',\n",
       " '__ge__',\n",
       " '__getattribute__',\n",
       " '__gt__',\n",
       " '__hash__',\n",
       " '__init__',\n",
       " '__init_subclass__',\n",
       " '__le__',\n",
       " '__lt__',\n",
       " '__module__',\n",
       " '__ne__',\n",
       " '__new__',\n",
       " '__reduce__',\n",
       " '__reduce_ex__',\n",
       " '__repr__',\n",
       " '__setattr__',\n",
       " '__sizeof__',\n",
       " '__str__',\n",
       " '__subclasshook__',\n",
       " '__weakref__',\n",
       " 'add_age',\n",
       " 'address',\n",
       " 'age',\n",
       " 'get_info',\n",
       " 'grade',\n",
       " 'name']"
      ]
     },
     "execution_count": 169,
     "metadata": {},
     "output_type": "execute_result"
    }
   ],
   "source": [
    "# 객체.__dir__() : 객체를 통해서 호출할 수 있는 모든 속성, 메소드들을 리스트로 반환.\n",
    "s.__dir__()  # 이렇게도 부를 수 있고\n",
    "dir(s)       # 이렇게도 부를 수 있다."
   ]
  },
  {
   "cell_type": "markdown",
   "metadata": {
    "slideshow": {
     "slide_type": "slide"
    }
   },
   "source": [
    "## 특수 메소드\n",
    "\n",
    "\n",
    "### 특수 메소드란\n",
    "- 특정한 상황에서 사용될 때 자동으로 호출되도록 파이썬 실행환경에 정의된 약속된 메소드들이다. 객체에 특정 기능들을 추가할 때 사용한다.\n",
    "    - 정의한 메소드와 그것을 호출하는 함수가 다르다.\n",
    "         - ex) `__init__()` => 객체 생성할 때 호출 된다.\n",
    "- 메소드 명이 더블 언더스코어로 시작하고 끝난다. \n",
    "    - ex) `__init__(), __str__()`\n",
    "- 매직 메소드(Magic Method), 던더(DUNDER) 메소드라고도 한다.\n",
    "- 특수메소드 종류\n",
    "    - https://docs.python.org/ko/3/reference/datamodel.html#special-method-names"
   ]
  },
  {
   "cell_type": "markdown",
   "metadata": {
    "slideshow": {
     "slide_type": "subslide"
    }
   },
   "source": [
    "### 주요 특수메소드\n",
    "- **`__init__(self [, …])`**\n",
    "    - Initializer\n",
    "    - 객체 생성시 호출 된다.\n",
    "    - 객체 생성시 Attribute의 값들을 초기화하는 것을 구현한다.\n",
    "    - self 변수로 받은 instance에 Attribute를 설정한다.\n",
    "- **`__call__(self, […])`**\n",
    "    - 객체를 함수처럼 호출하면 실행되는 메소드\n",
    "    - Argument를 받을 Parameter 변수는 self 변수 다음에 필요한대로 선언한다.\n",
    "    - 처리결과를 반환할 경우 `return value` 구문을 넣는다. (필수는 아니다.)\n",
    "\n"
   ]
  },
  {
   "cell_type": "code",
   "execution_count": 201,
   "metadata": {
    "ExecuteTime": {
     "end_time": "2022-12-28T05:46:28.456383Z",
     "start_time": "2022-12-28T05:46:28.443296Z"
    },
    "slideshow": {
     "slide_type": "fragment"
    }
   },
   "outputs": [],
   "source": [
    "class Plus:          \n",
    "    \n",
    "    def __init__(self, num1, num2):\n",
    "        \n",
    "        # 덧셈할 때 사용할 피연산자 두 개를 속성으로 저장.\n",
    "        self.num1 = num1\n",
    "        self.num2 = num2\n",
    "        \n",
    "#     def calc(self):\n",
    "#         return self.num1 + self.num2\n",
    "    def __call__(self, n):\n",
    "        #객체의 메인 기능(동작)을 구현하는 메소드 -> 객체를 함수처럼 사용할 수 있도로 한다. \n",
    "        return (self.num1 + self.num2)**n"
   ]
  },
  {
   "cell_type": "code",
   "execution_count": 202,
   "metadata": {
    "ExecuteTime": {
     "end_time": "2022-12-28T05:46:30.011664Z",
     "start_time": "2022-12-28T05:46:30.002987Z"
    }
   },
   "outputs": [
    {
     "name": "stdout",
     "output_type": "stream",
     "text": [
      "900\n"
     ]
    }
   ],
   "source": [
    "plus = Plus(10, 20)         \n",
    "result = plus(2)   # 객체를 함수처럼 호출  ---> __call__() 호출\n",
    "# result = plus.calc()\n",
    "# print(result)\n",
    "print(result)\n",
    "# print(plus.__call(3))"
   ]
  },
  {
   "cell_type": "markdown",
   "metadata": {
    "slideshow": {
     "slide_type": "subslide"
    }
   },
   "source": [
    "- **`__repr__(self)`**\n",
    "    - Instance(객체) 자체를 표현할 수 있는 문자열을 반환한다.\n",
    "        - 보통 객체 생성하는 구문을 문자열로 반환한다.\n",
    "        - 반환된 문자열을 eval() 에 넣으면 동일한 attribute값들을 가진 객체를 생성할 수 있도록 정의한다.\n",
    "    - 내장함수 **repr(객체)** 호출할 때 이 메소드가 호출 된다.\n",
    "    - 대화형 IDE(REPL) 에서 객체를 참조하는 변수 출력할 때도 호출된다.\n",
    "> - eval(문자열)\n",
    ">     - 실행 가능한 구문의 문자열을 받아서 실행한다.\n",
    "\n",
    "- **`__str__(self)`**\n",
    "    - Instance(객체)의 Attribute들을 묶어서 문자열로 반환한다.\n",
    "    - 내장 함수 **str(객체)**  호출할 때 이 메소드가 호출 된다.\n",
    "        - str() 호출할 때 객체에 `__str__()`의 정의 안되 있으면 `__repr__()` 을 호출한다. `__repr__()`도 없으면 상위클래스에 정의된 `__str__()`을 호출한다.\n",
    "        - print() 함수는 값을 문자열로 변환해서 출력한다. 이때 그 값을 str() 에 넣어 문자열로 변환한다."
   ]
  },
  {
   "cell_type": "code",
   "execution_count": 225,
   "metadata": {
    "ExecuteTime": {
     "end_time": "2022-12-28T06:41:25.435358Z",
     "start_time": "2022-12-28T06:41:25.419374Z"
    },
    "slideshow": {
     "slide_type": "fragment"
    }
   },
   "outputs": [
    {
     "ename": "IndentationError",
     "evalue": "expected an indented block (2839667570.py, line 47)",
     "output_type": "error",
     "traceback": [
      "\u001b[0;36m  File \u001b[0;32m\"/var/folders/jf/l3x8dj6n62s041cwvf169t5w0000gn/T/ipykernel_2192/2839667570.py\"\u001b[0;36m, line \u001b[0;32m47\u001b[0m\n\u001b[0;31m    def __lt__(self, other):                  ####선생님것####\u001b[0m\n\u001b[0m    ^\u001b[0m\n\u001b[0;31mIndentationError\u001b[0m\u001b[0;31m:\u001b[0m expected an indented block\n"
     ]
    }
   ],
   "source": [
    "class Person():\n",
    "    def __init__(self, name, age, address=None):\n",
    "        self.name = name\n",
    "        self.age = age\n",
    "        self.address = address\n",
    "        \n",
    "    @property\n",
    "    def name(self):\n",
    "        return self.__name\n",
    "    \n",
    "    @name.setter\n",
    "    def name(self, name):\n",
    "        if len(name) >=2:\n",
    "            self.__name = name\n",
    "            \n",
    "    @property\n",
    "    def age(self):\n",
    "        return self.__age\n",
    "    \n",
    "    @age.setter\n",
    "    def age(self, age):\n",
    "        if age>= 10:\n",
    "            self.__age = age\n",
    "    \n",
    "    \n",
    "    # 나이값을 더하는 메소드\n",
    "    def add_age(self, age):\n",
    "        self.age = self.age + age\n",
    "        \n",
    "    # 특수메소드 정의\n",
    "    def __repr__(self):\n",
    "        return f'Person(\"{self.name}\", {self.age}, \"{self.address}\")'   #어떻게 만들지\n",
    "    \n",
    "    def __str__(self):\n",
    "        return f\"이름: {self.name}, 나이: {self.age}, 주소: {self.address}\" #무슨값 갖고 있는지\n",
    "    \n",
    "    # 연산자 재정의 특수메소드\n",
    "    # 덧셈\n",
    "    \n",
    "    def __add__(self, other):\n",
    "#         other가 숫자이면 self.age에 더한다\n",
    "#         other가 다른  Person 객체이면 그 객체의 age에 self의 age를 더한다\n",
    "#         p + 30 (self:p, ther:30)\n",
    "        if isinstance(other, (int,float)):   ####선생님것####\n",
    "        \n",
    "        \n",
    "    def __lt__(self, other):                  ####선생님것####\n",
    "        \n",
    "        if isinstance(other, Person):\n",
    "            return self.age > other.age\n",
    "        else:\n",
    "            raise TypeError(f\"Person과 {type(other)}와는 비교할 수 없습니다.\") #Exception 발생"
   ]
  },
  {
   "cell_type": "code",
   "execution_count": 207,
   "metadata": {
    "ExecuteTime": {
     "end_time": "2022-12-28T05:55:32.634006Z",
     "start_time": "2022-12-28T05:55:32.621013Z"
    }
   },
   "outputs": [],
   "source": [
    "p = Person(\"이순신\", 30, \"서울\")"
   ]
  },
  {
   "cell_type": "code",
   "execution_count": 218,
   "metadata": {
    "ExecuteTime": {
     "end_time": "2022-12-28T06:23:59.627582Z",
     "start_time": "2022-12-28T06:23:59.607993Z"
    }
   },
   "outputs": [
    {
     "name": "stdout",
     "output_type": "stream",
     "text": [
      "<class 'str'>\n"
     ]
    },
    {
     "data": {
      "text/plain": [
       "'Person(\"이순신\", 30, \"서울\")'"
      ]
     },
     "execution_count": 218,
     "metadata": {},
     "output_type": "execute_result"
    }
   ],
   "source": [
    "result = repr(p)\n",
    "print(type(result))\n",
    "result"
   ]
  },
  {
   "cell_type": "code",
   "execution_count": 219,
   "metadata": {
    "ExecuteTime": {
     "end_time": "2022-12-28T06:24:01.678108Z",
     "start_time": "2022-12-28T06:24:01.657942Z"
    }
   },
   "outputs": [
    {
     "data": {
      "text/plain": [
       "Person(\"이순신\", 30, \"서울\")"
      ]
     },
     "execution_count": 219,
     "metadata": {},
     "output_type": "execute_result"
    }
   ],
   "source": [
    "p"
   ]
  },
  {
   "cell_type": "code",
   "execution_count": 212,
   "metadata": {
    "ExecuteTime": {
     "end_time": "2022-12-28T06:01:54.476351Z",
     "start_time": "2022-12-28T06:01:54.466453Z"
    }
   },
   "outputs": [
    {
     "data": {
      "text/plain": [
       "2"
      ]
     },
     "execution_count": 212,
     "metadata": {},
     "output_type": "execute_result"
    }
   ],
   "source": [
    "eval('1+1')           #eval 은 잘 사용하지는 않는다. "
   ]
  },
  {
   "cell_type": "code",
   "execution_count": 210,
   "metadata": {
    "ExecuteTime": {
     "end_time": "2022-12-28T06:01:26.559704Z",
     "start_time": "2022-12-28T06:01:26.533820Z"
    }
   },
   "outputs": [
    {
     "name": "stdout",
     "output_type": "stream",
     "text": [
      "<class '__main__.Person'>\n"
     ]
    },
    {
     "data": {
      "text/plain": [
       "('이순신', 30, '서울')"
      ]
     },
     "execution_count": 210,
     "metadata": {},
     "output_type": "execute_result"
    }
   ],
   "source": [
    "p2 = eval(result)\n",
    "print(type(p2))\n",
    "p2.name, p2.age, p2.address"
   ]
  },
  {
   "cell_type": "code",
   "execution_count": 216,
   "metadata": {
    "ExecuteTime": {
     "end_time": "2022-12-28T06:23:07.187549Z",
     "start_time": "2022-12-28T06:23:07.165175Z"
    }
   },
   "outputs": [
    {
     "data": {
      "text/plain": [
       "'Person(\"이순신\", 30, \"서울\")'"
      ]
     },
     "execution_count": 216,
     "metadata": {},
     "output_type": "execute_result"
    }
   ],
   "source": [
    "# str(객체) -> __str__() 호출\n",
    "str(p)"
   ]
  },
  {
   "cell_type": "markdown",
   "metadata": {
    "slideshow": {
     "slide_type": "subslide"
    }
   },
   "source": [
    "#### 연산자 재정의(Operator overriding) 관련 특수 메소드\n",
    "- 연산자의 피연산자로 객체를 사용하면 호출되는 메소드들\n",
    "- 다항연산자일 경우 가장 왼쪽의 객체에 정의된 메소드가 호출된다.\n",
    "    - `a + b` 일경우 a의 `__add__()` 가 호출된다.\n",
    "- **비교 연산자**\n",
    "    - **`__eq__(self, other)`** : self == other\n",
    "        - == 로 객체의 내용을 비교할 때 정의 한다.\n",
    "    - **`__lt__(self, other)`** : self < other, __gt__(self, other): self > other, less than\n",
    "        - min()이나 max()에서 인수로 사용할 경우 정의해야 한다.\n",
    "    - **`__le__(self, other)`**: self <= other, less equal\n",
    "    - **`__ge__(self, other)`**: self >= other, greater than equal\n",
    "    - **`__ne__(self, other)`**: self != other, not equal"
   ]
  },
  {
   "cell_type": "markdown",
   "metadata": {
    "slideshow": {
     "slide_type": "fragment"
    }
   },
   "source": [
    "- **산술 연산자**\n",
    "    - **`__add__(self, other)`**: self + other\n",
    "    - **`__sub__(self, other)`**: self - other\n",
    "    - **`__mul__(self, other)`**: self * other\n",
    "    - **`__truediv__(self, other)`**: self / other\n",
    "    - **`__floordiv__(self, other)`**: self // other\n",
    "    - **`__mod__(self, other)`**: self % other"
   ]
  },
  {
   "cell_type": "markdown",
   "metadata": {
    "slideshow": {
     "slide_type": "slide"
    }
   },
   "source": [
    "# class변수, class 메소드\n",
    "- **class변수**\n",
    "    - (Intance가 아닌) 클래스 자체의 데이터\n",
    "    - Attribute가 객체별로 생성된다면, class변수는 클래스당 하나가 생성된다.\n",
    "    - 구현\n",
    "        - class 블럭에 변수 선언.\n",
    "- **class 메소드**\n",
    "    - 클래스 변수를 처리하는 메소드\n",
    "    - 구현\n",
    "        - @classmethod 데코레이터를 붙인다.\n",
    "        - 첫번째 매개변수로 클래스를 받는 변수를 선언한다. 이 변수를 이용해 클래스 변수나 다른 클래스 메소드를 호출 한다."
   ]
  },
  {
   "cell_type": "markdown",
   "metadata": {
    "slideshow": {
     "slide_type": "subslide"
    }
   },
   "source": [
    "# static 메소드\n",
    "- 클래스의 메소드로 클래스 변수와 상관없는 단순기능을 정의한다.\n",
    "    - Caller 에서 받은 argument만 가지고 일하는 메소드를 구현한다.\n",
    "- 구현\n",
    "    - @staticmethod 데코레이터를 붙인다.\n",
    "    - Parameter에 대한 규칙은 없이 필요한 변수들만 선언한다.\n",
    "    "
   ]
  },
  {
   "cell_type": "markdown",
   "metadata": {
    "slideshow": {
     "slide_type": "fragment"
    }
   },
   "source": [
    "## class 메소드/변수, static 메소드 호출\n",
    "- 클래스이름.변수\n",
    "- 클래스이름.메소드() "
   ]
  },
  {
   "cell_type": "code",
   "execution_count": 240,
   "metadata": {
    "ExecuteTime": {
     "end_time": "2022-12-28T07:29:11.610325Z",
     "start_time": "2022-12-28T07:29:11.587606Z"
    },
    "slideshow": {
     "slide_type": "fragment"
    }
   },
   "outputs": [],
   "source": [
    "class Calculator:\n",
    "    PI = 3.14       #클래스 변수명을 대문자로 하는 이유는 '바꾸지 말라'는 것.\n",
    "    \n",
    "    @classmethod\n",
    "    def circle_area(clazz, radius):\n",
    "        return radius * radius * clazz.PI  # 클래스 변수 호출.\n",
    "    \n",
    "    @staticmethod\n",
    "    def square_area(width, height):\n",
    "        return width * height"
   ]
  },
  {
   "cell_type": "code",
   "execution_count": 234,
   "metadata": {
    "ExecuteTime": {
     "end_time": "2022-12-28T07:24:30.250188Z",
     "start_time": "2022-12-28T07:24:30.244899Z"
    }
   },
   "outputs": [
    {
     "name": "stdout",
     "output_type": "stream",
     "text": [
      "3.14159\n"
     ]
    }
   ],
   "source": [
    "# 클래스 변수 호출: 클래스이름.변수명\n",
    "print(Calculator.PI)\n",
    "# Calculator.PI = 3.14159\n",
    "# print(Calculator.PI)"
   ]
  },
  {
   "cell_type": "code",
   "execution_count": 237,
   "metadata": {
    "ExecuteTime": {
     "end_time": "2022-12-28T07:24:40.152242Z",
     "start_time": "2022-12-28T07:24:40.131164Z"
    }
   },
   "outputs": [
    {
     "data": {
      "text/plain": [
       "78.5"
      ]
     },
     "execution_count": 237,
     "metadata": {},
     "output_type": "execute_result"
    }
   ],
   "source": [
    "Calculator.circle_area(5)"
   ]
  },
  {
   "cell_type": "code",
   "execution_count": 241,
   "metadata": {
    "ExecuteTime": {
     "end_time": "2022-12-28T07:29:14.224274Z",
     "start_time": "2022-12-28T07:29:14.205132Z"
    }
   },
   "outputs": [
    {
     "data": {
      "text/plain": [
       "50"
      ]
     },
     "execution_count": 241,
     "metadata": {},
     "output_type": "execute_result"
    }
   ],
   "source": [
    "Calculator.square_area(10,5)"
   ]
  },
  {
   "cell_type": "code",
   "execution_count": 242,
   "metadata": {
    "ExecuteTime": {
     "end_time": "2022-12-28T07:33:32.596179Z",
     "start_time": "2022-12-28T07:33:32.586977Z"
    }
   },
   "outputs": [
    {
     "data": {
      "text/plain": [
       "[__main__.Calculator, object]"
      ]
     },
     "execution_count": 242,
     "metadata": {},
     "output_type": "execute_result"
    }
   ],
   "source": [
    "Calculator.mro()"
   ]
  },
  {
   "cell_type": "code",
   "execution_count": null,
   "metadata": {},
   "outputs": [],
   "source": []
  }
 ],
 "metadata": {
  "kernelspec": {
   "display_name": "Python 3 (ipykernel)",
   "language": "python",
   "name": "python3"
  },
  "language_info": {
   "codemirror_mode": {
    "name": "ipython",
    "version": 3
   },
   "file_extension": ".py",
   "mimetype": "text/x-python",
   "name": "python",
   "nbconvert_exporter": "python",
   "pygments_lexer": "ipython3",
   "version": "3.9.13"
  },
  "toc": {
   "base_numbering": 1,
   "nav_menu": {},
   "number_sections": true,
   "sideBar": true,
   "skip_h1_title": false,
   "title_cell": "Table of Contents",
   "title_sidebar": "Contents",
   "toc_cell": false,
   "toc_position": {
    "height": "678.182px",
    "left": "410px",
    "top": "163px",
    "width": "315.17px"
   },
   "toc_section_display": true,
   "toc_window_display": false
  },
  "varInspector": {
   "cols": {
    "lenName": 16,
    "lenType": 16,
    "lenVar": 40
   },
   "kernels_config": {
    "python": {
     "delete_cmd_postfix": "",
     "delete_cmd_prefix": "del ",
     "library": "var_list.py",
     "varRefreshCmd": "print(var_dic_list())"
    },
    "r": {
     "delete_cmd_postfix": ") ",
     "delete_cmd_prefix": "rm(",
     "library": "var_list.r",
     "varRefreshCmd": "cat(var_dic_list()) "
    }
   },
   "types_to_exclude": [
    "module",
    "function",
    "builtin_function_or_method",
    "instance",
    "_Feature"
   ],
   "window_display": false
  }
 },
 "nbformat": 4,
 "nbformat_minor": 4
}
