{
 "cells": [
  {
   "cell_type": "markdown",
   "id": "8c49cd8e",
   "metadata": {
    "slideshow": {
     "slide_type": "slide"
    }
   },
   "source": [
    "# 제어문(Control flow statement)\n",
    "기본적으로 프로그램은 순차구조를 가진다. 즉 작성한 순서대로 실행이 된다.  \n",
    "이런 실행흐름을 다른 순서로 제어하기 위한 구문을 만드는 문법이 제어문이다.  \n",
    "제어문은 **조건문** 과 **반복문** 두가지 문법이 있다.\n",
    "- 조건문\n",
    "    - if 문\n",
    "- 반복문\n",
    "    - while 문\n",
    "    - for in 문"
   ]
  },
  {
   "cell_type": "markdown",
   "id": "92c502ce",
   "metadata": {
    "slideshow": {
     "slide_type": "slide"
    }
   },
   "source": [
    "# 조건문/분기문 (conditional statement)\n",
    "- 프로그램이 명령문들을 실행하는 도중 특정 순서에서 **조건에 따라 흐름의 나눠져야 하는 경우 사용한다**\n",
    "- 파이썬은 조건문으로 **if문**이 있다.\n",
    "\n",
    "![조건문](images/ch03_01.png)\n",
    "\n",
    "<center>입력 받은 a 의 값이 0인지 여부에 따라 두가지 흐름으로 분기된다.</center>\n"
   ]
  },
  {
   "cell_type": "markdown",
   "id": "2a3c1835",
   "metadata": {
    "slideshow": {
     "slide_type": "subslide"
    }
   },
   "source": [
    "## 구문\n",
    "\n",
    "- 조건이 True일 경우만 특정 구문들을 실행 하는 조건문.\n",
    "```python\n",
    "if 조건:    # 조건은 bool 표현식을 기술한다. 조건선언 다음에 : 으로 선언해서 코드블록을 구분한다.\n",
    "    명령문1  # 조건이 True이면 실행할 구문들을 코드블럭에 기술한다.\n",
    "    명령문2  # 코드 블록은 들여쓰기를 이용해 묶어준다. 보통 공백 4칸으로 들여쓰기를 한다.\n",
    "    ...\n",
    "```\n",
    "> <b style='font-size:1.2em'>파이썬의 코드블록(code block)</b>  \n",
    "> 코드블록이란 여러개의 실행명령문들을 묶어놓은 것을 말한다. \n",
    "> 파이썬에서는 코드블록을 작성할 때 들여쓰기를 이용해 묶어준다. 같은 칸만큼 들여쓰기를 한 명령문들이 같은 블록으로 묶인다.\n",
    "> 들여쓰기는 관례적으로 공백 4칸을 사용한다. "
   ]
  },
  {
   "cell_type": "code",
   "execution_count": 3,
   "id": "5070b3d6",
   "metadata": {
    "ExecuteTime": {
     "end_time": "2022-12-22T00:46:58.730743Z",
     "start_time": "2022-12-22T00:46:56.337807Z"
    }
   },
   "outputs": [
    {
     "name": "stdout",
     "output_type": "stream",
     "text": [
      "정수10\n",
      "종료\n"
     ]
    }
   ],
   "source": [
    "#1. 정수를 입력 받는다.\n",
    "num = int(input(\"정수\"))\n",
    "\n",
    "#2. 입력받은 정수가 영이면 \"영입니다\"라고 출력을 한다.\n",
    "if num == 0: \n",
    "    print('영입니다.')\n",
    "    print('zero')\n",
    "\n",
    "#3. \"종료\"를 출력한다. \n",
    "print('종료')    "
   ]
  },
  {
   "cell_type": "markdown",
   "id": "09c79c35",
   "metadata": {
    "slideshow": {
     "slide_type": "subslide"
    }
   },
   "source": [
    "- 조건이 True일때 실행할 구문과 False일때 실행하는 조건문.\n",
    "```python\n",
    "if 조건:     \n",
    "    명령문1_1 # 조건이 True일 경우 실행할 구문들\n",
    "    명령문1_2\n",
    "    ...\n",
    "else:\n",
    "    명령문2_1 # 조건이 False일 경우 실행할 구문들\n",
    "    명령문2_2\n",
    "    ...\n",
    "```"
   ]
  },
  {
   "cell_type": "code",
   "execution_count": null,
   "id": "87b51956",
   "metadata": {
    "ExecuteTime": {
     "end_time": "2022-12-22T01:28:46.179834Z",
     "start_time": "2022-12-22T01:28:46.179827Z"
    },
    "slideshow": {
     "slide_type": "fragment"
    }
   },
   "outputs": [],
   "source": [
    "#1. 정수를 입력 받는다. \n",
    "num = int(input(\"정수: \"))\n",
    "\n",
    "#2. 만약에 정수가 0이면 \"영입니다.\" 출력\n",
    "if num == 0:\n",
    "    print('영 입니다.')\n",
    "    print('zero')\n",
    "\n",
    "#2-2. 0이 아니면 \"영이 아닙니다\"를 출력\n",
    "else:\n",
    "    print('영이 아닙니다.')\n",
    "    print('Not zero')\n",
    "    \n",
    "#w3. 종료\n",
    "print('종료')"
   ]
  },
  {
   "cell_type": "code",
   "execution_count": 13,
   "id": "d043a172",
   "metadata": {
    "ExecuteTime": {
     "end_time": "2022-12-22T01:28:52.716820Z",
     "start_time": "2022-12-22T01:28:48.154899Z"
    }
   },
   "outputs": [
    {
     "name": "stdout",
     "output_type": "stream",
     "text": [
      "ID: kdidkdd\n",
      "사용할 수 있는 ID입니다\n",
      "가입처리\n"
     ]
    }
   ],
   "source": [
    "#id를 입력 받는다. \n",
    "id = input(\"ID: \")\n",
    "\n",
    "#2-1. id가 5글자 이상이면 \"사용할 수 있는 ID 입니다.\"를 출력\n",
    "\n",
    "if len(id) >= 5: \n",
    "    print(\"사용할 수 있는 ID입니다\")\n",
    "\n",
    "#2-2. id가 5글자 미만이면 \"ID는 5글자 이상 입력하세요\" 를 출력\n",
    "\n",
    "else :\n",
    "    print(\"ID는 5글자 이상 입력하세요\")\n",
    "\n",
    "#. \"가입 처리\"를 출력\n",
    "\n",
    "print(\"가입처리 완료\")"
   ]
  },
  {
   "cell_type": "code",
   "execution_count": 15,
   "id": "da811efd",
   "metadata": {
    "ExecuteTime": {
     "end_time": "2022-12-22T01:31:59.176726Z",
     "start_time": "2022-12-22T01:31:56.982035Z"
    }
   },
   "outputs": [
    {
     "name": "stdout",
     "output_type": "stream",
     "text": [
      "입력하세요 : 아ㅏ앙\n",
      "0글자 이상\n",
      "글을 입력했습니다\n"
     ]
    }
   ],
   "source": [
    "#입력 받은 글자가 0 글자 이상이면 \"글을 입력했습니다.\"\n",
    "s = input(\"입력하세요 : \")\n",
    "#if len(s) > 0:\n",
    "if s:\n",
    "    print(\"0글자 이상\")\n",
    "    \n",
    "else:\n",
    "    print('빈문자열')\n",
    "    \n",
    "print(\"글을 입력했습니다\")\n"
   ]
  },
  {
   "cell_type": "markdown",
   "id": "621eae9a",
   "metadata": {
    "slideshow": {
     "slide_type": "subslide"
    }
   },
   "source": [
    "- 조건이 여러개인 조건문.\n",
    "```python\n",
    "if 조건1:\n",
    "    명령문1_1  # 조건1이 True일 경우 실행할 코드블록. \n",
    "    명령문1_2\n",
    "    ...\n",
    "elif 조건2:    # 다음 조건으로 앞의 조건들이 모드 False일 경우 비교한다.\n",
    "    명령문2_1  # 조건2가 True일 경우 실행할 코드블록.\n",
    "    명령문2_2\n",
    "    ...\n",
    "elif 조건3 :\n",
    "    명령문3_1\n",
    "    명령문3_2\n",
    "    ...\n",
    "else:         # 위의 모든 조건이 False일 경우 실행하는 코드블록. 생략 가능하다.\n",
    "    명령문4\n",
    "```"
   ]
  },
  {
   "cell_type": "code",
   "execution_count": 17,
   "id": "4c6a532d",
   "metadata": {
    "ExecuteTime": {
     "end_time": "2022-12-22T01:42:38.635513Z",
     "start_time": "2022-12-22T01:42:34.334423Z"
    },
    "slideshow": {
     "slide_type": "fragment"
    }
   },
   "outputs": [
    {
     "name": "stdout",
     "output_type": "stream",
     "text": [
      "정수: 8\n",
      "양수입니다.\n",
      "종료\n"
     ]
    }
   ],
   "source": [
    "#1. 점수를 입력받는다. \n",
    "num = int(input(\"정수: \"))\n",
    "\n",
    "#2-1. 입력 받은 정수가 0 초과이면 \"양수입니다.\" 출력\n",
    "\n",
    "if num > 0 :\n",
    "    print('양수입니다.')\n",
    "\n",
    "#2-2. 입력 받은 정수가 0이면 \"0입니다.\" 출력\n",
    "\n",
    "elif num == 0:   #not num\n",
    "    print('0입니다')\n",
    "\n",
    "#2-3. 입력 받은 정수가 0 미만이면 \"음수입니다.\" 를 출력\n",
    "\n",
    "elif num < 0:\n",
    "    print('음수입니다')\n",
    "\n",
    "#3. 종료\n",
    "print('종료')"
   ]
  },
  {
   "cell_type": "code",
   "execution_count": 19,
   "id": "bee06da3",
   "metadata": {
    "ExecuteTime": {
     "end_time": "2022-12-22T01:47:54.075000Z",
     "start_time": "2022-12-22T01:47:51.400771Z"
    }
   },
   "outputs": [
    {
     "name": "stdout",
     "output_type": "stream",
     "text": [
      "정수: 130\n",
      "양수입니다.\n",
      "100 이상입니다.\n"
     ]
    }
   ],
   "source": [
    "# 정수를 입력 받아서 0이상이면 \"양수입니다.\" 출력 / 100 이상이면 추가로 \"100이상입니다\"를 출력\n",
    "num = int(input(\"정수: \"))\n",
    "\n",
    "if num >= 0:\n",
    "    print(\"양수입니다.\")\n",
    "    \n",
    "if num >= 100:\n",
    "    print('100 이상입니다.')"
   ]
  },
  {
   "cell_type": "code",
   "execution_count": 22,
   "id": "41145504",
   "metadata": {
    "ExecuteTime": {
     "end_time": "2022-12-22T01:50:40.817602Z",
     "start_time": "2022-12-22T01:50:38.001621Z"
    }
   },
   "outputs": [
    {
     "name": "stdout",
     "output_type": "stream",
     "text": [
      "정수: 680\n",
      "양수입니다.\n",
      "100 이상입니다.\n",
      "종료\n"
     ]
    }
   ],
   "source": [
    "num = int(input(\"정수: \"))\n",
    "\n",
    "if num >= 0:\n",
    "    print(\"양수입니다.\")\n",
    "    \n",
    "    if num >= 100:\n",
    "        print('100 이상입니다.')\n",
    "        if num >= 1000:\n",
    "            print('1000 이상입니다')\n",
    "\n",
    "print('종료')"
   ]
  },
  {
   "cell_type": "markdown",
   "id": "2149b728",
   "metadata": {
    "slideshow": {
     "slide_type": "slide"
    }
   },
   "source": [
    "# 반복문 (Loop statement)\n",
    "\n",
    "특정 구문들을 반복해서 실행할 때 사용한다. 동일한 코드를 여러번 반복하거나 값이 일정하게 변하는 코드를 반복할 경우 사용한다.  \n",
    "단순 반복을 처리하는 **while문**과 iterable객체가 제공하는 값들을 반복 조회하는 **for in문** 두가지 문법이 있다.\n",
    "\n",
    "![반복문](images/ch03_02.png)\n",
    "<center>count의 값이 limit의 값보다 크거나 같을때 까지 count의 값을 1증가 후 출력하는 구문을 반복한다. </center>"
   ]
  },
  {
   "cell_type": "code",
   "execution_count": null,
   "id": "8f61f605",
   "metadata": {},
   "outputs": [],
   "source": [
    "# While문은 조건이 True 일때 계속 반복하는 조건문\n",
    "    # -> while은 if문처럼 if 자리에 넣어주면 된다.\n",
    "# for in 문은 조건을 여러차례 계속 줄수 있는 것(?)"
   ]
  },
  {
   "cell_type": "code",
   "execution_count": 29,
   "id": "3367a17a",
   "metadata": {
    "ExecuteTime": {
     "end_time": "2022-12-22T02:27:04.959105Z",
     "start_time": "2022-12-22T02:27:02.405384Z"
    }
   },
   "outputs": [
    {
     "name": "stdout",
     "output_type": "stream",
     "text": [
      "반복횟수 : 5\n",
      "1\n",
      "2\n",
      "3\n",
      "4\n",
      "5\n"
     ]
    }
   ],
   "source": [
    "# 증감식 원리\n",
    "#limit = int(input('반복횟수 : '))\n",
    "\n",
    "count = 0 #몇번째 반복인지를 저장하는 변수\n",
    "\n",
    "while count < limit: \n",
    "    count = count + 1  #count += 1  ==> 조건을 변경하는 구문이 있어야 반복을 멈춘다.\n",
    "    print(count)\n"
   ]
  },
  {
   "cell_type": "markdown",
   "id": "b4740a36",
   "metadata": {
    "slideshow": {
     "slide_type": "subslide"
    }
   },
   "source": [
    "## while문\n",
    "- 조건이 True인 동안 구문을 반복해서 실행한다.\n",
    "\n",
    "### 구문\n",
    "```python\n",
    "while 조건:       # 조건은 bool 표현식을 기술한다. 조건선언 다음에 : 으로 선언해서 코드블록을 구분한다\n",
    "    반복할 구문1  # 반복할 구문을 코드블록으로 작성한다.  \n",
    "    반복할 구문2\n",
    "    ...\n",
    "```"
   ]
  },
  {
   "cell_type": "code",
   "execution_count": null,
   "id": "6b11bde6",
   "metadata": {
    "slideshow": {
     "slide_type": "fragment"
    }
   },
   "outputs": [],
   "source": []
  },
  {
   "cell_type": "markdown",
   "id": "04f12e55",
   "metadata": {
    "slideshow": {
     "slide_type": "subslide"
    }
   },
   "source": [
    "## for  in 문\n",
    "- for in문은 Iterable 타입의 객체가 가지고 있는 값들을 각각 모두 조회하여 처리하는 구문을 작성할 때 사용한다.\n",
    "\n",
    "> - Iterable\n",
    ">    - 반복가능한 객체. 반복문(for in)을 이용해 일련의 값들을 반복적으로 각각 제공하는 객체를 말한다. \n",
    ">    - 대표적으로 List, Tuple, Dictionary, Set, 문자열 등이 있다.\n",
    "\n",
    "### 구문\n",
    "```python\n",
    "for 변수 in Iterable: # for in 선언후 : 으로 선언부와 구현부를 나눈다.\n",
    "    반복구문          # Iterable이 반복시 제공하는 값을 가지는 \"변수\"를 이용한 반복구문을 코드블록으로 작성한다.\n",
    "    반복구문\n",
    "```"
   ]
  },
  {
   "cell_type": "code",
   "execution_count": null,
   "id": "da0ce0f6",
   "metadata": {
    "slideshow": {
     "slide_type": "fragment"
    }
   },
   "outputs": [],
   "source": [
    "# for in 문은 iterable 값에 넣어주는 값을 하나씩 하나씩 순차적으로 처리한다. "
   ]
  },
  {
   "cell_type": "code",
   "execution_count": 119,
   "id": "f3c04c86",
   "metadata": {
    "ExecuteTime": {
     "end_time": "2022-12-22T07:17:16.759232Z",
     "start_time": "2022-12-22T07:17:16.750671Z"
    }
   },
   "outputs": [],
   "source": [
    "l = [10,5,8,20,8,7] #iterable 타입\n",
    "l_iter = iter(l)    #iterotor: 방안에 담겨 있는 값들을 내보내주는 역할(매니져 같은)"
   ]
  },
  {
   "cell_type": "code",
   "execution_count": 43,
   "id": "bc3d8d73",
   "metadata": {
    "ExecuteTime": {
     "end_time": "2022-12-22T02:41:46.863857Z",
     "start_time": "2022-12-22T02:41:46.845021Z"
    }
   },
   "outputs": [
    {
     "name": "stdout",
     "output_type": "stream",
     "text": [
      "10 200\n",
      "5 100\n",
      "8 160\n",
      "20 400\n",
      "8 160\n",
      "7 140\n"
     ]
    },
    {
     "ename": "StopIteration",
     "evalue": "",
     "output_type": "error",
     "traceback": [
      "\u001b[0;31m---------------------------------------------------------------------------\u001b[0m",
      "\u001b[0;31mStopIteration\u001b[0m                             Traceback (most recent call last)",
      "\u001b[0;32m/var/folders/jf/l3x8dj6n62s041cwvf169t5w0000gn/T/ipykernel_4747/1960945905.py\u001b[0m in \u001b[0;36m<module>\u001b[0;34m\u001b[0m\n\u001b[1;32m      1\u001b[0m \u001b[0;32mwhile\u001b[0m \u001b[0;32mTrue\u001b[0m\u001b[0;34m:\u001b[0m            \u001b[0;31m# 리스트의 모든 값들을 다 처리하 ㄹ때까지. ==>StopIteration이란 exeption이 발생할 때까지.\u001b[0m\u001b[0;34m\u001b[0m\u001b[0;34m\u001b[0m\u001b[0m\n\u001b[0;32m----> 2\u001b[0;31m     \u001b[0mv\u001b[0m \u001b[0;34m=\u001b[0m \u001b[0mnext\u001b[0m\u001b[0;34m(\u001b[0m\u001b[0ml_iter\u001b[0m\u001b[0;34m)\u001b[0m   \u001b[0;31m#값을 하나 조회해서 변수 v에 할당.\u001b[0m\u001b[0;34m\u001b[0m\u001b[0;34m\u001b[0m\u001b[0m\n\u001b[0m\u001b[1;32m      3\u001b[0m     \u001b[0mv2\u001b[0m \u001b[0;34m=\u001b[0m \u001b[0mv\u001b[0m \u001b[0;34m*\u001b[0m \u001b[0;36m20\u001b[0m        \u001b[0;31m#v의 값을 처리\u001b[0m\u001b[0;34m\u001b[0m\u001b[0;34m\u001b[0m\u001b[0m\n\u001b[1;32m      4\u001b[0m     \u001b[0mprint\u001b[0m\u001b[0;34m(\u001b[0m\u001b[0mv\u001b[0m\u001b[0;34m,\u001b[0m \u001b[0mv2\u001b[0m\u001b[0;34m)\u001b[0m\u001b[0;34m\u001b[0m\u001b[0;34m\u001b[0m\u001b[0m\n",
      "\u001b[0;31mStopIteration\u001b[0m: "
     ]
    }
   ],
   "source": [
    "while True:            # 리스트의 모든 값들을 다 처리할 때까지. ==>StopIteration이란 exeption이 발생할 때까지.\n",
    "    v = next(l_iter)   # 값을 하나 조회해서 변수 v에 할당.\n",
    "    v2 = v * 20        # v의 값을 처리\n",
    "    print(v, v2)"
   ]
  },
  {
   "cell_type": "code",
   "execution_count": 44,
   "id": "28954547",
   "metadata": {
    "ExecuteTime": {
     "end_time": "2022-12-22T02:43:40.760928Z",
     "start_time": "2022-12-22T02:43:40.752352Z"
    }
   },
   "outputs": [
    {
     "name": "stdout",
     "output_type": "stream",
     "text": [
      "10 200\n",
      "5 100\n",
      "8 160\n",
      "20 400\n",
      "8 160\n",
      "7 140\n"
     ]
    }
   ],
   "source": [
    "for v in l:\n",
    "    v2 = v * 20\n",
    "    print(v, v2)"
   ]
  },
  {
   "cell_type": "code",
   "execution_count": 46,
   "id": "8d1e4e67",
   "metadata": {
    "ExecuteTime": {
     "end_time": "2022-12-22T02:45:00.319429Z",
     "start_time": "2022-12-22T02:45:00.314233Z"
    }
   },
   "outputs": [
    {
     "name": "stdout",
     "output_type": "stream",
     "text": [
      "1, 2, 3, 4, 5, "
     ]
    }
   ],
   "source": [
    "for v in (1,2,3,4,5):\n",
    "    print(v, end=', ')\n"
   ]
  },
  {
   "cell_type": "code",
   "execution_count": 49,
   "id": "43a65d29",
   "metadata": {
    "ExecuteTime": {
     "end_time": "2022-12-22T02:46:14.187843Z",
     "start_time": "2022-12-22T02:46:14.176083Z"
    },
    "scrolled": true
   },
   "outputs": [
    {
     "name": "stdout",
     "output_type": "stream",
     "text": [
      "10\t20\t30\t"
     ]
    }
   ],
   "source": [
    "for v in {10,20,30,10,10}: \n",
    "    print(v, end='\\t')"
   ]
  },
  {
   "cell_type": "code",
   "execution_count": 51,
   "id": "b17d1a07",
   "metadata": {
    "ExecuteTime": {
     "end_time": "2022-12-22T02:47:47.985662Z",
     "start_time": "2022-12-22T02:47:47.976933Z"
    }
   },
   "outputs": [
    {
     "name": "stdout",
     "output_type": "stream",
     "text": [
      "key1 1\n",
      "key2 2\n",
      "key3 3\n"
     ]
    }
   ],
   "source": [
    "d = {'key1':1,'key2':2, 'key3':3}\n",
    "for v in d:\n",
    "    print(v, d[v])"
   ]
  },
  {
   "cell_type": "code",
   "execution_count": 53,
   "id": "26088885",
   "metadata": {
    "ExecuteTime": {
     "end_time": "2022-12-22T02:49:24.209397Z",
     "start_time": "2022-12-22T02:49:24.201593Z"
    },
    "scrolled": true
   },
   "outputs": [
    {
     "name": "stdout",
     "output_type": "stream",
     "text": [
      "a\n",
      "k\n",
      "d\n",
      "i\n",
      "가\n",
      "나\n",
      "다\n"
     ]
    }
   ],
   "source": [
    "for v in \"akdi가나다\":\n",
    "    print(v)"
   ]
  },
  {
   "cell_type": "code",
   "execution_count": 55,
   "id": "f99e8572",
   "metadata": {
    "ExecuteTime": {
     "end_time": "2022-12-22T02:50:39.035103Z",
     "start_time": "2022-12-22T02:50:39.015749Z"
    },
    "scrolled": true
   },
   "outputs": [
    {
     "name": "stdout",
     "output_type": "stream",
     "text": [
      "[1, 2, 3]\n",
      "[4, 5, 6]\n",
      "[7, 8, 9]\n"
     ]
    }
   ],
   "source": [
    "l = [         #중첩문 반복!!! 중요!!!!\n",
    "    [1,2,3],\n",
    "    [4,5,6],\n",
    "    [7,8,9]\n",
    "]\n",
    "\n",
    "for v in l:\n",
    "    print(v)"
   ]
  },
  {
   "cell_type": "code",
   "execution_count": 58,
   "id": "fcd0dd99",
   "metadata": {
    "ExecuteTime": {
     "end_time": "2022-12-22T02:53:17.925127Z",
     "start_time": "2022-12-22T02:53:17.914745Z"
    }
   },
   "outputs": [
    {
     "name": "stdout",
     "output_type": "stream",
     "text": [
      "1\n",
      "2\n",
      "3\n",
      "---------\n",
      "4\n",
      "5\n",
      "6\n",
      "---------\n",
      "7\n",
      "8\n",
      "9\n",
      "---------\n"
     ]
    }
   ],
   "source": [
    "l = [         #중첩문 안에 원소 일일히 출력할때는 for in 문을 2번 돌리면 된다.\n",
    "    [1,2,3],\n",
    "    [4,5,6],\n",
    "    [7,8,9]\n",
    "]\n",
    "\n",
    "for v in l:               #첫번째 for in\n",
    "#    print(v)\n",
    "    for value in v:       #두번째 for in\n",
    "        print(value)\n",
    "        \n",
    "    print('---------')"
   ]
  },
  {
   "cell_type": "markdown",
   "id": "1f30cd6f",
   "metadata": {
    "slideshow": {
     "slide_type": "subslide"
    }
   },
   "source": [
    "## continue와 break를 이용한 반복문 제어\n",
    "- **continue**\n",
    "    - 현재 반복을 중단하고 다음 반복을 진행한다.\n",
    "    - 특정 조건에서 처리를 멈추고 다음 처리를 반복할 때 사용한다.\n",
    "- **break**\n",
    "    - 반복을 중단한다.\n",
    "    - 특정 조건에서 반복문을 중간에 중지할때 사용한다.\n",
    "- continue와 break는 특정 조건에서 실행되야 하는 경우가 대부분이므로 if문 안에 작성한다.    "
   ]
  },
  {
   "cell_type": "code",
   "execution_count": null,
   "id": "fe257c13",
   "metadata": {},
   "outputs": [],
   "source": [
    "# 반복문 안에 사용하는 반복"
   ]
  },
  {
   "cell_type": "code",
   "execution_count": 59,
   "id": "b8783681",
   "metadata": {
    "ExecuteTime": {
     "end_time": "2022-12-22T03:16:47.187841Z",
     "start_time": "2022-12-22T03:16:47.178538Z"
    }
   },
   "outputs": [
    {
     "name": "stdout",
     "output_type": "stream",
     "text": [
      "3\n",
      "6\n",
      "9\n"
     ]
    }
   ],
   "source": [
    "l = [1,2,3,4,5,6,7,8,9,10,11]\n",
    "#3의 배수들만 출력\n",
    "\n",
    "for v in l:\n",
    "    if v %3 == 0:\n",
    "        print(v)"
   ]
  },
  {
   "cell_type": "code",
   "execution_count": 63,
   "id": "90c41e9f",
   "metadata": {
    "ExecuteTime": {
     "end_time": "2022-12-22T03:18:38.741197Z",
     "start_time": "2022-12-22T03:18:38.730556Z"
    },
    "scrolled": true,
    "slideshow": {
     "slide_type": "fragment"
    }
   },
   "outputs": [
    {
     "name": "stdout",
     "output_type": "stream",
     "text": [
      "3\n",
      "6\n",
      "9\n"
     ]
    }
   ],
   "source": [
    "for v in l:\n",
    "    if v % 3 != 0:       # 3의 배수가 아니라면\n",
    "        continue         #다음 원소를 반복 조회해라.\n",
    "    print(v)"
   ]
  },
  {
   "cell_type": "code",
   "execution_count": 65,
   "id": "aa22f3f8",
   "metadata": {
    "ExecuteTime": {
     "end_time": "2022-12-22T03:20:13.729097Z",
     "start_time": "2022-12-22T03:20:13.721464Z"
    }
   },
   "outputs": [
    {
     "name": "stdout",
     "output_type": "stream",
     "text": [
      "1\n",
      "2\n",
      "3\n",
      "4\n",
      "5\n",
      "6\n"
     ]
    }
   ],
   "source": [
    "#list의 값이 7이 있을 경우 더이상 출력하지 않는다. \n",
    "for v in l:\n",
    "    if v == 7:\n",
    "        break\n",
    "    \n",
    "    print(v)"
   ]
  },
  {
   "cell_type": "code",
   "execution_count": 66,
   "id": "02a64035",
   "metadata": {
    "ExecuteTime": {
     "end_time": "2022-12-22T03:25:01.431604Z",
     "start_time": "2022-12-22T03:25:01.422065Z"
    }
   },
   "outputs": [
    {
     "name": "stdout",
     "output_type": "stream",
     "text": [
      "7 없음\n"
     ]
    }
   ],
   "source": [
    "l2 = [10,20,30,40,7,50,60,70,80,7]\n",
    "#l2에 7이 있는지를 확인\n",
    "\n",
    "result = False    # 7이 있는지 여부를 bool 값으로 저장할 변수\n",
    "for v in l2:\n",
    "    if v == 7:\n",
    "        result == True     #만약 7이 몇개인지 확인하고자 하면 전체를 검사해야 하지만, 7 있는지 여부만확인할 경우 첫번째 것을 찾고 끝낸다.\n",
    "        break\n",
    "\n",
    "if result:\n",
    "    print(\"7 있음\")\n",
    "else:\n",
    "    print(\"7 없음\")\n",
    "    "
   ]
  },
  {
   "cell_type": "code",
   "execution_count": 73,
   "id": "0508aecf",
   "metadata": {
    "ExecuteTime": {
     "end_time": "2022-12-22T03:32:29.490243Z",
     "start_time": "2022-12-22T03:32:25.848321Z"
    }
   },
   "outputs": [
    {
     "name": "stdout",
     "output_type": "stream",
     "text": [
      "text: aaa\n",
      ">>aaa\n",
      "text: !q\n"
     ]
    }
   ],
   "source": [
    "# 사용자가 \"!q\" 를 입력할 때까지 글을 입력받아서 출력한다. \n",
    "# while true 로 무한 반복을 하도록 만들고, break을 통해 빠져나오도록 한다.\n",
    "while True:\n",
    "    txt = input(\"text: \")\n",
    "    if txt == \"!q\":\n",
    "        break\n",
    "    print(f\">>{txt}\")\n",
    "\n"
   ]
  },
  {
   "cell_type": "code",
   "execution_count": 74,
   "id": "7ec6d3c6",
   "metadata": {
    "ExecuteTime": {
     "end_time": "2022-12-22T03:34:12.102475Z",
     "start_time": "2022-12-22T03:34:06.543786Z"
    },
    "scrolled": true
   },
   "outputs": [
    {
     "name": "stdout",
     "output_type": "stream",
     "text": [
      "text: kfkfkf\n",
      ">>kfkfkf\n",
      "text: !q\n"
     ]
    }
   ],
   "source": [
    "txt = input('text: ')\n",
    "while txt != '!q':\n",
    "    print(f\">>{txt}\")\n",
    "    txt = input('text: ')"
   ]
  },
  {
   "cell_type": "code",
   "execution_count": 87,
   "id": "8057861c",
   "metadata": {
    "ExecuteTime": {
     "end_time": "2022-12-22T03:43:01.881222Z",
     "start_time": "2022-12-22T03:43:01.869960Z"
    }
   },
   "outputs": [
    {
     "name": "stdout",
     "output_type": "stream",
     "text": [
      "1,2,3,\n",
      "10,20,"
     ]
    }
   ],
   "source": [
    "l = [[1,2,3,],[10,20,30],[100,200,300]]\n",
    "# 20이 있으면 전체 반복을 멈춘다.\n",
    "is_finish = False  # 전체 반복을 멈출지 여부(True: 멈춤, False: 안멈춤)\n",
    "for v in l: \n",
    "    \n",
    "    for value in v: \n",
    "        print(value, end=',')\n",
    "        if value == 20:\n",
    "            is_finish = True\n",
    "            break\n",
    "    if is_finish:\n",
    "        break\n",
    "    print()    "
   ]
  },
  {
   "cell_type": "markdown",
   "id": "dc6099c5",
   "metadata": {
    "slideshow": {
     "slide_type": "slide"
    }
   },
   "source": [
    "## for in 문 연관 내장 함수\n",
    "\n",
    "### range()\n",
    "- 일정한 간격의 연속된 정수를 제공하는 반복가능 객체 생성한다.\n",
    "- 구문\n",
    "    - `range([시작값], 멈춤값, [증감값])`\n",
    "        - 시작값, 멈춤값, 증감값 모두 정수만 가능하다.\n",
    "        - 시작값 > 멈춤값 이고 증감값이 음수이면 내림차순으로 값을 제공한다.\n",
    "        1. 전달값이 **1개: 멈춤값**. \n",
    "            - 0 ~ (멈춤값-1)까지 1씩 증가하는 정수를 제공\n",
    "        2. 전달값이 **2개: 시작값, 멈춤값**. \n",
    "            - 시작값 ~ (멈춤값-1) 까지 1씩 증가하는 정수 제공\n",
    "        3. 전달값이 **3개: 시작값, 멈춤값, 증감값(간격)**. \n",
    "            - 시작값 ~ (멈춤값-1)까지 증감값만큼 증가하는 정수를 제공.\n"
   ]
  },
  {
   "cell_type": "code",
   "execution_count": null,
   "id": "352d937b",
   "metadata": {
    "slideshow": {
     "slide_type": "fragment"
    }
   },
   "outputs": [],
   "source": [
    "# range: 정수만 가능"
   ]
  },
  {
   "cell_type": "code",
   "execution_count": 15,
   "id": "651e2a86",
   "metadata": {
    "ExecuteTime": {
     "end_time": "2022-12-22T05:18:26.206977Z",
     "start_time": "2022-12-22T05:18:26.187521Z"
    }
   },
   "outputs": [
    {
     "name": "stdout",
     "output_type": "stream",
     "text": [
      "<class 'range'>\n",
      "range(10, 101, 10)\n"
     ]
    },
    {
     "data": {
      "text/plain": [
       "[10, 20, 30, 40, 50, 60, 70, 80, 90, 100]"
      ]
     },
     "execution_count": 15,
     "metadata": {},
     "output_type": "execute_result"
    }
   ],
   "source": [
    "r = range(10,101,10) # 10~101-1, 10씩 증가\n",
    "print(type(r))\n",
    "print(r)\n",
    "list(r)"
   ]
  },
  {
   "cell_type": "code",
   "execution_count": 17,
   "id": "d3d66121",
   "metadata": {
    "ExecuteTime": {
     "end_time": "2022-12-22T05:19:42.793692Z",
     "start_time": "2022-12-22T05:19:42.782279Z"
    }
   },
   "outputs": [
    {
     "name": "stdout",
     "output_type": "stream",
     "text": [
      "10,20,30,40,50,60,70,80,90,100,"
     ]
    }
   ],
   "source": [
    "for i in range(10,101,10):\n",
    "    print(i, end = ',')"
   ]
  },
  {
   "cell_type": "code",
   "execution_count": 18,
   "id": "58c049dd",
   "metadata": {
    "ExecuteTime": {
     "end_time": "2022-12-22T05:20:22.419622Z",
     "start_time": "2022-12-22T05:20:22.408453Z"
    }
   },
   "outputs": [
    {
     "name": "stdout",
     "output_type": "stream",
     "text": [
      "10, 11, 12, 13, 14, "
     ]
    }
   ],
   "source": [
    "for i in range(10,15):\n",
    "    print(i, end=', ')"
   ]
  },
  {
   "cell_type": "code",
   "execution_count": 19,
   "id": "ecab7c3d",
   "metadata": {
    "ExecuteTime": {
     "end_time": "2022-12-22T05:21:02.823933Z",
     "start_time": "2022-12-22T05:21:02.811685Z"
    }
   },
   "outputs": [
    {
     "name": "stdout",
     "output_type": "stream",
     "text": [
      "0, 1, 2, 3, 4, 5, 6, 7, 8, 9, "
     ]
    }
   ],
   "source": [
    "for i in range(10):   # endrkqt\n",
    "    print(i, end =', ')"
   ]
  },
  {
   "cell_type": "code",
   "execution_count": 21,
   "id": "db48d91d",
   "metadata": {
    "ExecuteTime": {
     "end_time": "2022-12-22T05:22:08.655346Z",
     "start_time": "2022-12-22T05:22:08.644920Z"
    }
   },
   "outputs": [
    {
     "name": "stdout",
     "output_type": "stream",
     "text": [
      "100,90,80,70,60,50,40,30,20,10,0,"
     ]
    }
   ],
   "source": [
    "for i in range(100, -1, -10):\n",
    "    print(i, end=',')"
   ]
  },
  {
   "cell_type": "code",
   "execution_count": 26,
   "id": "c230cd0b",
   "metadata": {
    "ExecuteTime": {
     "end_time": "2022-12-22T05:24:42.895097Z",
     "start_time": "2022-12-22T05:24:42.883297Z"
    },
    "scrolled": true
   },
   "outputs": [
    {
     "name": "stdout",
     "output_type": "stream",
     "text": [
      "안녕하세요\n",
      "안녕하세요\n",
      "안녕하세요\n",
      "안녕하세요\n",
      "안녕하세요\n",
      "안녕하세요\n",
      "안녕하세요\n",
      "안녕하세요\n",
      "안녕하세요\n",
      "안녕하세요\n"
     ]
    }
   ],
   "source": [
    "# \"안녕하세요\"를 10번 출력\n",
    "for i in range(10):\n",
    "    print('안녕하세요')"
   ]
  },
  {
   "cell_type": "code",
   "execution_count": 27,
   "id": "ad6ae355",
   "metadata": {
    "ExecuteTime": {
     "end_time": "2022-12-22T05:25:50.484429Z",
     "start_time": "2022-12-22T05:25:50.472625Z"
    },
    "scrolled": true
   },
   "outputs": [
    {
     "name": "stdout",
     "output_type": "stream",
     "text": [
      "안녕하세요\n",
      "안녕하세요\n",
      "안녕하세요\n",
      "안녕하세요\n",
      "안녕하세요\n",
      "안녕하세요\n",
      "안녕하세요\n",
      "안녕하세요\n",
      "안녕하세요\n",
      "안녕하세요\n"
     ]
    }
   ],
   "source": [
    "# 변수명을 '-' 를 사용하는 관례 : 이 변수는 사용하지 않는데 구문상 어쩔 수 없이 넣었다. \n",
    "\n",
    "for _ in range(10):\n",
    "    print(\"안녕하세요\")"
   ]
  },
  {
   "cell_type": "code",
   "execution_count": 28,
   "id": "ea26f329",
   "metadata": {
    "ExecuteTime": {
     "end_time": "2022-12-22T05:26:35.605506Z",
     "start_time": "2022-12-22T05:26:35.595786Z"
    }
   },
   "outputs": [],
   "source": [
    "a,b,_ = (1,2,3,)  # a,b는 사용할 변수 //  _ 는 사용안 할 변수"
   ]
  },
  {
   "cell_type": "markdown",
   "id": "5de9d74e",
   "metadata": {
    "slideshow": {
     "slide_type": "subslide"
    }
   },
   "source": [
    "## enumerate()\n",
    "\n",
    "- 구문\n",
    "    - `enumerate(Iterable,  [, start=정수])`\n",
    "        - 현재 몇번째 값을 제공하는 지(현재 몇번째 반복인지)를 나타내는 **index**와 제공하는 **원소**를 tuple로 묶어서 반환\n",
    "        - Iterable\n",
    "            - 값을 제공할 Iterable객체\n",
    "        - start: 정수\n",
    "            - index 시작 값. 생략하면 0부터 시작한다."
   ]
  },
  {
   "cell_type": "code",
   "execution_count": 1,
   "id": "33dd96c5",
   "metadata": {
    "ExecuteTime": {
     "end_time": "2022-12-26T00:17:52.382979Z",
     "start_time": "2022-12-26T00:17:52.369822Z"
    },
    "slideshow": {
     "slide_type": "fragment"
    }
   },
   "outputs": [
    {
     "name": "stdout",
     "output_type": "stream",
     "text": [
      "(0, 10)\n",
      "(1, 20)\n",
      "(2, 30)\n",
      "(3, 40)\n",
      "(4, 50)\n",
      "********************\n",
      "(100, 10)\n",
      "(101, 20)\n",
      "(102, 30)\n",
      "(103, 40)\n",
      "(104, 50)\n"
     ]
    }
   ],
   "source": [
    "#Dictionary와 비슷하다고 생각해되 되겠다. \n",
    "nums = [10,20,30,40,50]\n",
    "for value in enumerate(nums):\n",
    "    print(value)\n",
    "    \n",
    "print(\"*\"*20)\n",
    "\n",
    "for value in enumerate(nums, start=100):\n",
    "    print(value)\n"
   ]
  },
  {
   "cell_type": "code",
   "execution_count": 35,
   "id": "4dbed093",
   "metadata": {
    "ExecuteTime": {
     "end_time": "2022-12-22T05:38:17.969151Z",
     "start_time": "2022-12-22T05:38:17.952731Z"
    }
   },
   "outputs": [
    {
     "name": "stdout",
     "output_type": "stream",
     "text": [
      "index: 0, value:10\n",
      "index: 1, value:20\n",
      "index: 2, value:30\n",
      "index: 3, value:40\n",
      "index: 4, value:50\n"
     ]
    }
   ],
   "source": [
    "for value in enumerate(nums):\n",
    "    print(f\"index: {value[0]}, value:{value[1]}\")"
   ]
  },
  {
   "cell_type": "code",
   "execution_count": 38,
   "id": "888cf75d",
   "metadata": {
    "ExecuteTime": {
     "end_time": "2022-12-22T05:39:35.372492Z",
     "start_time": "2022-12-22T05:39:35.360962Z"
    },
    "scrolled": true
   },
   "outputs": [
    {
     "name": "stdout",
     "output_type": "stream",
     "text": [
      "1. 10\n",
      "2. 20\n",
      "3. 30\n",
      "4. 40\n",
      "5. 50\n"
     ]
    }
   ],
   "source": [
    "for index, value in enumerate(nums, start=1):  #tuple 대입을 통해 각각의 변수에 따로 대입하라\n",
    "    print(f\"{index}. {value}\")"
   ]
  },
  {
   "cell_type": "code",
   "execution_count": 44,
   "id": "a339692e",
   "metadata": {
    "ExecuteTime": {
     "end_time": "2022-12-22T05:43:25.897331Z",
     "start_time": "2022-12-22T05:43:25.881686Z"
    }
   },
   "outputs": [
    {
     "name": "stdout",
     "output_type": "stream",
     "text": [
      "0. 기록남기기\n",
      "1000. 기록남기기\n",
      "2000. 기록남기기\n",
      "3000. 기록남기기\n",
      "4000. 기록남기기\n",
      "5000. 기록남기기\n",
      "6000. 기록남기기\n",
      "7000. 기록남기기\n",
      "8000. 기록남기기\n",
      "9000. 기록남기기\n"
     ]
    }
   ],
   "source": [
    "for index, data in enumerate(range(10000)):\n",
    "#    처리\n",
    "#    처리에 대한 기록(log)을 저장 ==>1000번에 한번씩\n",
    "\n",
    "    if index % 1000 == 0:\n",
    "        print(f'{index}. 기록남기기')\n"
   ]
  },
  {
   "cell_type": "markdown",
   "id": "f5a5540f",
   "metadata": {
    "slideshow": {
     "slide_type": "subslide"
    }
   },
   "source": [
    "## zip()\n",
    "- 여러 개의 Iterable 객체를 받아 반복시 같은 index의 값끼리 튜플로 묶어 반환한다.\n",
    "- 구문\n",
    "    - `zip(Iterable1, Iterable2, Iterable3 [, .......])`\n",
    "        - Iterable 2개이상.전달한다.\n",
    "- 각 자료구조 객체의 크기가 다를 경우 크기가 작은 것의 개수에 맞춰 반복한다."
   ]
  },
  {
   "cell_type": "code",
   "execution_count": 45,
   "id": "1b99057f",
   "metadata": {
    "ExecuteTime": {
     "end_time": "2022-12-22T05:47:05.378101Z",
     "start_time": "2022-12-22T05:47:05.368260Z"
    },
    "slideshow": {
     "slide_type": "fragment"
    }
   },
   "outputs": [],
   "source": [
    "## 세명의 정보를 이름, 나이, 주소별로 따로 저장함.\n",
    "## 같은 index의 값드링 한 사람의 정보가 된다.\n",
    "\n",
    "names = ['이순신', '유관순', '강감천']\n",
    "ages =  [  30,     40,     50]\n",
    "address = ['서울', '인천', '광주']\n"
   ]
  },
  {
   "cell_type": "code",
   "execution_count": 53,
   "id": "96fc7af1",
   "metadata": {
    "ExecuteTime": {
     "end_time": "2022-12-22T05:51:45.563363Z",
     "start_time": "2022-12-22T05:51:45.549915Z"
    }
   },
   "outputs": [
    {
     "name": "stdout",
     "output_type": "stream",
     "text": [
      "<class 'tuple'> ('이순신', 30, '서울')\n",
      "<class 'tuple'> ('유관순', 40, '인천')\n",
      "<class 'tuple'> ('강감천', 50, '광주')\n"
     ]
    }
   ],
   "source": [
    "for value in zip(names, ages, address):\n",
    "    print(type(value), value)"
   ]
  },
  {
   "cell_type": "code",
   "execution_count": 55,
   "id": "91cf2ed8",
   "metadata": {
    "ExecuteTime": {
     "end_time": "2022-12-22T05:52:01.975852Z",
     "start_time": "2022-12-22T05:52:01.964764Z"
    }
   },
   "outputs": [
    {
     "name": "stdout",
     "output_type": "stream",
     "text": [
      "이름: 이순신, 나이: 30, 주소: 서울\n",
      "이름: 유관순, 나이: 40, 주소: 인천\n",
      "이름: 강감천, 나이: 50, 주소: 광주\n"
     ]
    }
   ],
   "source": [
    "for names, ages, address in zip(names, ages, address):\n",
    "    print(f\"이름: {names}, 나이: {ages}, 주소: {address}\")"
   ]
  },
  {
   "cell_type": "markdown",
   "id": "2df89dae",
   "metadata": {
    "slideshow": {
     "slide_type": "subslide"
    }
   },
   "source": [
    "# 컴프리헨션(Comprehension)\n",
    "\n",
    "- 기존 Iterable의 원소들을 이용해서 새로운 자료구조(List, Dictionary, Set)를 생성하는 구문.\n",
    "    - 기존 Iterable의 **원소들을 처리한 결과**나  **특정 조건이 True인 값들을** 새로운 자료구조에 넣을때 사용.\n",
    "    - 결과를 넣을 새로운 자료구조에 따라 다음 세가지 구문이 있다.\n",
    "        - 리스트 컴프리헨션\n",
    "        - 딕셔너리  컴프리헨션\n",
    "        - 셋  컴프리헨션\n",
    "- 튜플 컴프리헨션은 없다.\n",
    "- 딕셔너리 컴프리헨션과 셋 컴프리헨션은 파이썬 3 에 새로 추가되었다."
   ]
  },
  {
   "cell_type": "code",
   "execution_count": 2,
   "id": "e04827d9",
   "metadata": {
    "ExecuteTime": {
     "end_time": "2022-12-26T00:28:38.506828Z",
     "start_time": "2022-12-26T00:28:38.500065Z"
    },
    "slideshow": {
     "slide_type": "fragment"
    }
   },
   "outputs": [],
   "source": [
    "#Tuple 컴프리헨션은 없다. //  # 자료구조 안에 for in문을 넣는다!!"
   ]
  },
  {
   "cell_type": "code",
   "execution_count": null,
   "id": "63a25695",
   "metadata": {},
   "outputs": [],
   "source": []
  },
  {
   "cell_type": "code",
   "execution_count": 84,
   "id": "fa28dc36",
   "metadata": {
    "ExecuteTime": {
     "end_time": "2022-12-22T06:17:58.118841Z",
     "start_time": "2022-12-22T06:17:58.107693Z"
    }
   },
   "outputs": [
    {
     "name": "stdout",
     "output_type": "stream",
     "text": [
      "결과 :  [10, 20, 30, 40, 50, 60, 70, 80, 10, 20, 30]\n"
     ]
    }
   ],
   "source": [
    "l1 = [1,2,3,4,5,6,7,8,1,2,3]\n",
    "#l1의 원소들을 10배한 결과를 가지는 리스트를 갖고 싶다.\n",
    "\n",
    "#for in 문으로 처리.\n",
    "\n",
    "result_list = []\n",
    "for value in l1:\n",
    "    result_list.append(value*10)\n",
    "    \n",
    "print('결과 : ', result_list)"
   ]
  },
  {
   "cell_type": "code",
   "execution_count": 85,
   "id": "7fee48bf",
   "metadata": {
    "ExecuteTime": {
     "end_time": "2022-12-22T06:18:00.098695Z",
     "start_time": "2022-12-22T06:18:00.085729Z"
    }
   },
   "outputs": [
    {
     "data": {
      "text/plain": [
       "[10, 20, 30, 40, 50, 60, 70, 80, 10, 20, 30]"
      ]
     },
     "execution_count": 85,
     "metadata": {},
     "output_type": "execute_result"
    }
   ],
   "source": [
    "#리스트 컴프리헨션\n",
    "[value*10 for value in l1]    "
   ]
  },
  {
   "cell_type": "code",
   "execution_count": 86,
   "id": "515c612b",
   "metadata": {
    "ExecuteTime": {
     "end_time": "2022-12-22T06:18:02.578619Z",
     "start_time": "2022-12-22T06:18:02.564156Z"
    }
   },
   "outputs": [
    {
     "data": {
      "text/plain": [
       "{10, 20, 30, 40, 50, 60, 70, 80}"
      ]
     },
     "execution_count": 86,
     "metadata": {},
     "output_type": "execute_result"
    }
   ],
   "source": [
    "#SET 컴프리헨션\n",
    "{value*10 for value in l1}"
   ]
  },
  {
   "cell_type": "code",
   "execution_count": 90,
   "id": "f0fd5578",
   "metadata": {
    "ExecuteTime": {
     "end_time": "2022-12-22T06:20:34.908380Z",
     "start_time": "2022-12-22T06:20:34.891045Z"
    }
   },
   "outputs": [
    {
     "data": {
      "text/plain": [
       "{'key--0': 1,\n",
       " 'key--1': 2,\n",
       " 'key--2': 3,\n",
       " 'key--3': 4,\n",
       " 'key--4': 5,\n",
       " 'key--5': 6,\n",
       " 'key--6': 7,\n",
       " 'key--7': 8,\n",
       " 'key--8': 1,\n",
       " 'key--9': 2,\n",
       " 'key--10': 3}"
      ]
     },
     "execution_count": 90,
     "metadata": {},
     "output_type": "execute_result"
    }
   ],
   "source": [
    "result_dict = {}\n",
    "\n",
    "for index, value  in enumerate(l1):\n",
    "    result_dict[f\"key--{index}\"] = value\n",
    "    \n",
    "result_dict    "
   ]
  },
  {
   "cell_type": "code",
   "execution_count": 92,
   "id": "b27100ec",
   "metadata": {
    "ExecuteTime": {
     "end_time": "2022-12-22T06:23:18.510552Z",
     "start_time": "2022-12-22T06:23:18.495739Z"
    },
    "scrolled": true
   },
   "outputs": [
    {
     "data": {
      "text/plain": [
       "{'key--0': 10,\n",
       " 'key--1': 20,\n",
       " 'key--2': 30,\n",
       " 'key--3': 40,\n",
       " 'key--4': 50,\n",
       " 'key--5': 60,\n",
       " 'key--6': 70,\n",
       " 'key--7': 80,\n",
       " 'key--8': 10,\n",
       " 'key--9': 20,\n",
       " 'key--10': 30}"
      ]
     },
     "execution_count": 92,
     "metadata": {},
     "output_type": "execute_result"
    }
   ],
   "source": [
    "## Dictionary 컴프리핸션\n",
    "\n",
    "{f\"key--{index}\": value*10 for index, value in enumerate(l1)}       #key: value"
   ]
  },
  {
   "cell_type": "code",
   "execution_count": null,
   "id": "a149ac0e",
   "metadata": {},
   "outputs": [],
   "source": [
    "# 일괄 처리 기법 => map이라고 한다.  / (각 값들과 처리함수-연산해서 처리)"
   ]
  },
  {
   "cell_type": "code",
   "execution_count": 94,
   "id": "0f674083",
   "metadata": {
    "ExecuteTime": {
     "end_time": "2022-12-22T06:30:59.943965Z",
     "start_time": "2022-12-22T06:30:59.929232Z"
    }
   },
   "outputs": [
    {
     "data": {
      "text/plain": [
       "[2,\n",
       " 4,\n",
       " 6,\n",
       " 8,\n",
       " 10,\n",
       " 12,\n",
       " 14,\n",
       " 16,\n",
       " 18,\n",
       " 20,\n",
       " 22,\n",
       " 24,\n",
       " 26,\n",
       " 28,\n",
       " 30,\n",
       " 32,\n",
       " 34,\n",
       " 36,\n",
       " 38,\n",
       " 40,\n",
       " 42,\n",
       " 44,\n",
       " 46,\n",
       " 48,\n",
       " 50,\n",
       " 52,\n",
       " 54,\n",
       " 56,\n",
       " 58,\n",
       " 60,\n",
       " 62,\n",
       " 64,\n",
       " 66,\n",
       " 68,\n",
       " 70,\n",
       " 72,\n",
       " 74,\n",
       " 76,\n",
       " 78,\n",
       " 80,\n",
       " 82,\n",
       " 84,\n",
       " 86,\n",
       " 88,\n",
       " 90,\n",
       " 92,\n",
       " 94,\n",
       " 96,\n",
       " 98]"
      ]
     },
     "execution_count": 94,
     "metadata": {},
     "output_type": "execute_result"
    }
   ],
   "source": [
    "l2 = list(range(1,100))\n",
    "#l2의 값들 중에 짝수만 찾아서 리스트에 담는다.  ==> 값들 중에서 특정 조건이 True인 값들만 걸러내는 처리 ==>filter\n",
    "\n",
    "result_list2 = []\n",
    "for value in l2:\n",
    "    if value % 2 == 0:    #not value % 2\n",
    "        result_list2.append(value)\n",
    "        \n",
    "result_list2"
   ]
  },
  {
   "cell_type": "code",
   "execution_count": 95,
   "id": "65fb7446",
   "metadata": {
    "ExecuteTime": {
     "end_time": "2022-12-22T06:32:33.415334Z",
     "start_time": "2022-12-22T06:32:33.399138Z"
    }
   },
   "outputs": [
    {
     "data": {
      "text/plain": [
       "[2,\n",
       " 4,\n",
       " 6,\n",
       " 8,\n",
       " 10,\n",
       " 12,\n",
       " 14,\n",
       " 16,\n",
       " 18,\n",
       " 20,\n",
       " 22,\n",
       " 24,\n",
       " 26,\n",
       " 28,\n",
       " 30,\n",
       " 32,\n",
       " 34,\n",
       " 36,\n",
       " 38,\n",
       " 40,\n",
       " 42,\n",
       " 44,\n",
       " 46,\n",
       " 48,\n",
       " 50,\n",
       " 52,\n",
       " 54,\n",
       " 56,\n",
       " 58,\n",
       " 60,\n",
       " 62,\n",
       " 64,\n",
       " 66,\n",
       " 68,\n",
       " 70,\n",
       " 72,\n",
       " 74,\n",
       " 76,\n",
       " 78,\n",
       " 80,\n",
       " 82,\n",
       " 84,\n",
       " 86,\n",
       " 88,\n",
       " 90,\n",
       " 92,\n",
       " 94,\n",
       " 96,\n",
       " 98]"
      ]
     },
     "execution_count": 95,
     "metadata": {},
     "output_type": "execute_result"
    }
   ],
   "source": [
    "[value for value in l2 if value % 2 == 0]"
   ]
  },
  {
   "cell_type": "code",
   "execution_count": 96,
   "id": "9ae034b3",
   "metadata": {
    "ExecuteTime": {
     "end_time": "2022-12-22T06:34:15.932783Z",
     "start_time": "2022-12-22T06:34:15.916755Z"
    }
   },
   "outputs": [
    {
     "data": {
      "text/plain": [
       "{2: 2,\n",
       " 4: 4,\n",
       " 6: 6,\n",
       " 8: 8,\n",
       " 10: 10,\n",
       " 12: 12,\n",
       " 14: 14,\n",
       " 16: 16,\n",
       " 18: 18,\n",
       " 20: 20,\n",
       " 22: 22,\n",
       " 24: 24,\n",
       " 26: 26,\n",
       " 28: 28,\n",
       " 30: 30,\n",
       " 32: 32,\n",
       " 34: 34,\n",
       " 36: 36,\n",
       " 38: 38,\n",
       " 40: 40,\n",
       " 42: 42,\n",
       " 44: 44,\n",
       " 46: 46,\n",
       " 48: 48,\n",
       " 50: 50,\n",
       " 52: 52,\n",
       " 54: 54,\n",
       " 56: 56,\n",
       " 58: 58,\n",
       " 60: 60,\n",
       " 62: 62,\n",
       " 64: 64,\n",
       " 66: 66,\n",
       " 68: 68,\n",
       " 70: 70,\n",
       " 72: 72,\n",
       " 74: 74,\n",
       " 76: 76,\n",
       " 78: 78,\n",
       " 80: 80,\n",
       " 82: 82,\n",
       " 84: 84,\n",
       " 86: 86,\n",
       " 88: 88,\n",
       " 90: 90,\n",
       " 92: 92,\n",
       " 94: 94,\n",
       " 96: 96,\n",
       " 98: 98}"
      ]
     },
     "execution_count": 96,
     "metadata": {},
     "output_type": "execute_result"
    }
   ],
   "source": [
    "{value:value for value in l2 if value % 2 == 0}"
   ]
  },
  {
   "cell_type": "code",
   "execution_count": 97,
   "id": "de78eed0",
   "metadata": {
    "ExecuteTime": {
     "end_time": "2022-12-22T06:36:26.948021Z",
     "start_time": "2022-12-22T06:36:26.932642Z"
    }
   },
   "outputs": [
    {
     "data": {
      "text/plain": [
       "[0.1, 0.2, 0.3, 0.4, 0.5, 0.6, 0.7, 0.8, 0.9]"
      ]
     },
     "execution_count": 97,
     "metadata": {},
     "output_type": "execute_result"
    }
   ],
   "source": [
    "# l2의 값들 중에 10의 배수만 찾아서 100으로 나눈 값을 리스트에 담는다.  ->> filter/map 기능이 있음\n",
    "[value/100 for value in l2 if not value %10]"
   ]
  },
  {
   "cell_type": "code",
   "execution_count": 100,
   "id": "c32993b9",
   "metadata": {
    "ExecuteTime": {
     "end_time": "2022-12-22T06:41:54.476658Z",
     "start_time": "2022-12-22T06:41:54.463325Z"
    }
   },
   "outputs": [
    {
     "data": {
      "text/plain": [
       "['abd', 'aabb', 'ddffddd', 'ddadavrf']"
      ]
     },
     "execution_count": 100,
     "metadata": {},
     "output_type": "execute_result"
    }
   ],
   "source": [
    "l3 = ('Abd', 'aabb', 'DDffddd', 'DDadavrf')\n",
    "#l3 의 모든 문자열을 소문자로 변환한 결과를 리스트에 담기\n",
    "\n",
    "[value. lower() for value in l3]"
   ]
  },
  {
   "cell_type": "code",
   "execution_count": 101,
   "id": "90d8e0fd",
   "metadata": {
    "ExecuteTime": {
     "end_time": "2022-12-22T06:41:57.145915Z",
     "start_time": "2022-12-22T06:41:57.131067Z"
    }
   },
   "outputs": [
    {
     "data": {
      "text/plain": [
       "{'Abd': 3, 'aabb': 4, 'DDffddd': 7, 'DDadavrf': 8}"
      ]
     },
     "execution_count": 101,
     "metadata": {},
     "output_type": "execute_result"
    }
   ],
   "source": [
    "# l3의 문자열의 글자수를 문자열 : 글자수 형식의 딕셔너리로 저장.\n",
    "{ txt:len(txt) for txt in l3}"
   ]
  },
  {
   "cell_type": "code",
   "execution_count": 102,
   "id": "b3e6ebec",
   "metadata": {
    "ExecuteTime": {
     "end_time": "2022-12-22T06:42:56.334509Z",
     "start_time": "2022-12-22T06:42:56.320884Z"
    },
    "scrolled": true
   },
   "outputs": [
    {
     "data": {
      "text/plain": [
       "{'DDffddd': 7, 'DDadavrf': 8}"
      ]
     },
     "execution_count": 102,
     "metadata": {},
     "output_type": "execute_result"
    }
   ],
   "source": [
    "{txt:len(txt) for txt in l3 if len(txt) > 5}"
   ]
  },
  {
   "cell_type": "code",
   "execution_count": 117,
   "id": "a92bf750",
   "metadata": {
    "ExecuteTime": {
     "end_time": "2022-12-22T07:11:19.888703Z",
     "start_time": "2022-12-22T07:11:19.875001Z"
    }
   },
   "outputs": [
    {
     "data": {
      "text/plain": [
       "[50, 100]"
      ]
     },
     "execution_count": 117,
     "metadata": {},
     "output_type": "execute_result"
    }
   ],
   "source": [
    "l4 = [[1,2,3,4,5], [6,7,8,9,10]]\n",
    "result_list3 = []\n",
    "for lst in l4:\n",
    "      for value in lst:                          #1 문장\n",
    "            if value %5 ==0:                     #2 문장\n",
    "                result_list3.append(value * 10)  #3 문장\n",
    "      \n",
    "result_list3"
   ]
  },
  {
   "cell_type": "code",
   "execution_count": 118,
   "id": "accda89b",
   "metadata": {
    "ExecuteTime": {
     "end_time": "2022-12-22T07:12:10.331773Z",
     "start_time": "2022-12-22T07:12:10.317087Z"
    }
   },
   "outputs": [
    {
     "data": {
      "text/plain": [
       "[50, 100]"
      ]
     },
     "execution_count": 118,
     "metadata": {},
     "output_type": "execute_result"
    }
   ],
   "source": [
    "[value*10 for lst in l4 for value in lst if value %5 ==0]"
   ]
  },
  {
   "cell_type": "markdown",
   "id": "092288d7",
   "metadata": {
    "slideshow": {
     "slide_type": "skip"
    }
   },
   "source": [
    "# TODO"
   ]
  },
  {
   "cell_type": "code",
   "execution_count": 162,
   "id": "6f397647",
   "metadata": {
    "ExecuteTime": {
     "end_time": "2022-12-22T08:11:12.005150Z",
     "start_time": "2022-12-22T08:11:09.424613Z"
    },
    "slideshow": {
     "slide_type": "skip"
    }
   },
   "outputs": [
    {
     "name": "stdout",
     "output_type": "stream",
     "text": [
      "점수를 입력하세요: 85\n",
      "B학점입니다.\n"
     ]
    }
   ],
   "source": [
    "#(1) 다음 점수 구간에 맞게 학점을 출력하세요.\n",
    "# 91 ~ 100 : A학점\n",
    "# 81 ~ 90 :  B학점\n",
    "# 71 ~ 80 :  C학점\n",
    "# 61 ~ 70 :  D학점\n",
    "# 60이하   :  F학점\n",
    "\n",
    "num = int(input(\"점수를 입력하세요: \"))\n",
    "\n",
    "if num <0 or num> 100:\n",
    "    print(f'{num}은 변환할 수 없는 점수입니다.0~100 사이의 값을 넣으세요.')\n",
    "\n",
    "elif num >= 91 :\n",
    "    print(\"A학점입니다.\")\n",
    "    \n",
    "elif num >= 81 :\n",
    "    print(\"B학점입니다.\")\n",
    "    \n",
    "elif num >= 71 :\n",
    "    print(\"C학점입니다.\")\n",
    "    \n",
    "elif num >= 61:\n",
    "    print(\"D학점입니다.\")\n",
    "  \n",
    "else :\n",
    "    print(\"F학점입니다.\")\n",
    "    "
   ]
  },
  {
   "cell_type": "code",
   "execution_count": null,
   "id": "bb051419",
   "metadata": {},
   "outputs": [],
   "source": []
  },
  {
   "cell_type": "code",
   "execution_count": 3,
   "id": "53943539",
   "metadata": {
    "ExecuteTime": {
     "end_time": "2022-12-22T05:00:42.175003Z",
     "start_time": "2022-12-22T05:00:39.861195Z"
    },
    "slideshow": {
     "slide_type": "skip"
    }
   },
   "outputs": [
    {
     "name": "stdout",
     "output_type": "stream",
     "text": [
      "ID: 5\n",
      "사용할 수 없은 ID입니다.\n"
     ]
    }
   ],
   "source": [
    "#(2) 사용자로 부터 ID를 입력 받은 뒤 입력받은 ID가 5글자 이상이면 \"사용할 수 있습니다.\"를 5글자 미만이면 \"사용할 수 없는 ID입니다.\"를 출력하세요.\n",
    "id = input(\"ID: \")\n",
    "if len(id) >= 5:\n",
    "    print(\"사용할 수 있습니다.\")\n",
    "    \n",
    "else:\n",
    "    print(\"사용할 수 없은 ID입니다.\")"
   ]
  },
  {
   "cell_type": "code",
   "execution_count": 172,
   "id": "5389206d",
   "metadata": {
    "ExecuteTime": {
     "end_time": "2022-12-22T08:17:33.225992Z",
     "start_time": "2022-12-22T08:17:29.071650Z"
    },
    "slideshow": {
     "slide_type": "skip"
    }
   },
   "outputs": [
    {
     "name": "stdout",
     "output_type": "stream",
     "text": [
      "도시명: 아무곳\n",
      "특별시나 광역시가 아닙니다\n"
     ]
    }
   ],
   "source": [
    "#(3) 사용자로부터 우리나라 도시명을 입력 받은 뒤 입력받은 도시명이 서울이면 \"특별시\"를 인천,부산,광주,대구,대전,울산 이면 \"광역시\"를 나머지는 \n",
    "#    \"특별시나 광역시가 아닙니다.\"를 출력하세요.\n",
    "\n",
    "city = input('도시명: ')\n",
    "\n",
    "if city == '서울':\n",
    "    print('특별시입니다.')\n",
    "\n",
    "elif city in ['인천','부산','광주','대구','대전','울산']:\n",
    "    print('광역시입니다.')\n",
    "\n",
    "else:\n",
    "    print('특별시나 광역시가 아닙니다')"
   ]
  },
  {
   "cell_type": "code",
   "execution_count": 176,
   "id": "5ed27a02",
   "metadata": {
    "ExecuteTime": {
     "end_time": "2022-12-22T08:22:33.012232Z",
     "start_time": "2022-12-22T08:22:32.995010Z"
    },
    "slideshow": {
     "slide_type": "skip"
    }
   },
   "outputs": [
    {
     "name": "stdout",
     "output_type": "stream",
     "text": [
      "총점:  890\n",
      "평균:  89.0\n"
     ]
    }
   ],
   "source": [
    "#(4) 아래 리스트의 평균을 구하시오. \n",
    "jumsu = [100, 90, 100, 80, 70, 100, 80, 90, 95, 85]  #len의 끝을 모를경우....\n",
    "\n",
    "\n",
    "sum = 0\n",
    "for n in jumsu:\n",
    "    sum += n\n",
    "\n",
    "print(\"총점: \", sum)\n",
    "\n",
    "avg = sum / len(jumsu)\n",
    "print(\"평균: \", avg) "
   ]
  },
  {
   "cell_type": "code",
   "execution_count": 180,
   "id": "d370386b",
   "metadata": {
    "ExecuteTime": {
     "end_time": "2022-12-22T08:26:53.897576Z",
     "start_time": "2022-12-22T08:26:53.886291Z"
    },
    "scrolled": true,
    "slideshow": {
     "slide_type": "skip"
    }
   },
   "outputs": [
    {
     "name": "stdout",
     "output_type": "stream",
     "text": [
      "0--pass\n",
      "1--pass\n",
      "2--pass\n",
      "3--Fail\n",
      "4--Fail\n",
      "5--pass\n",
      "6--Fail\n",
      "7--pass\n",
      "8--pass\n",
      "9--Fail\n"
     ]
    }
   ],
   "source": [
    "#(5) 위 jumsu리스트에서 평균점수이상은 pass, 미만은 fail을 index번호와 함께 출력하시오. (ex: 0-pass, 1-pass, 2-fail)\n",
    "\n",
    "for index, value in enumerate(jumsu):\n",
    "    if value >= avg:\n",
    "        print(f\"{index}--pass\")\n",
    "    else:\n",
    "        print(f\"{index}--Fail\")"
   ]
  },
  {
   "cell_type": "code",
   "execution_count": 184,
   "id": "698c951f",
   "metadata": {
    "ExecuteTime": {
     "end_time": "2022-12-22T08:31:29.623002Z",
     "start_time": "2022-12-22T08:31:29.604259Z"
    },
    "slideshow": {
     "slide_type": "skip"
    }
   },
   "outputs": [
    {
     "ename": "NameError",
     "evalue": "name 'max_value' is not defined",
     "output_type": "error",
     "traceback": [
      "\u001b[0;31m---------------------------------------------------------------------------\u001b[0m",
      "\u001b[0;31mNameError\u001b[0m                                 Traceback (most recent call last)",
      "\u001b[0;32m/var/folders/jf/l3x8dj6n62s041cwvf169t5w0000gn/T/ipykernel_1182/4265322385.py\u001b[0m in \u001b[0;36m<module>\u001b[0;34m\u001b[0m\n\u001b[1;32m      5\u001b[0m \u001b[0mmac_value\u001b[0m \u001b[0;34m=\u001b[0m \u001b[0;34m-\u001b[0m\u001b[0;36m1\u001b[0m                    \u001b[0;31m#최대 값을 저장할 변수 만듦. 각각의 원소들은 이 변수 값과 비교해서 큰 값으로 이 변수값을 변경\u001b[0m\u001b[0;34m\u001b[0m\u001b[0;34m\u001b[0m\u001b[0m\n\u001b[1;32m      6\u001b[0m \u001b[0;32mfor\u001b[0m \u001b[0mvalue\u001b[0m \u001b[0;32min\u001b[0m \u001b[0mjumsu\u001b[0m \u001b[0;34m:\u001b[0m\u001b[0;34m\u001b[0m\u001b[0;34m\u001b[0m\u001b[0m\n\u001b[0;32m----> 7\u001b[0;31m     \u001b[0;32mif\u001b[0m \u001b[0mvalue\u001b[0m \u001b[0;34m>\u001b[0m \u001b[0mmax_value\u001b[0m \u001b[0;34m:\u001b[0m\u001b[0;34m\u001b[0m\u001b[0;34m\u001b[0m\u001b[0m\n\u001b[0m\u001b[1;32m      8\u001b[0m         \u001b[0mmax_value\u001b[0m \u001b[0;34m=\u001b[0m \u001b[0mvalue\u001b[0m\u001b[0;34m\u001b[0m\u001b[0;34m\u001b[0m\u001b[0m\n\u001b[1;32m      9\u001b[0m \u001b[0;34m\u001b[0m\u001b[0m\n",
      "\u001b[0;31mNameError\u001b[0m: name 'max_value' is not defined"
     ]
    }
   ],
   "source": [
    "#(6) 아래 리스트 값들 중 최대값을 조회해 출력\n",
    "jumsu = [60, 90, 80, 80, 70, 55, 80, 90, 95, 85]\n",
    "\n",
    "# 최대값\n",
    "mac_value = -1                    #최대 값을 저장할 변수 만듦. 각각의 원소들은 이 변수 값과 비교해서 큰 값으로 이 변수값을 변경\n",
    "for value in jumsu :\n",
    "    if value > max_value :\n",
    "        max_value = value \n",
    "        \n",
    "print('최대값: ', max_value)"
   ]
  },
  {
   "cell_type": "code",
   "execution_count": 131,
   "id": "ec2c0877",
   "metadata": {
    "ExecuteTime": {
     "end_time": "2022-12-22T07:31:08.792586Z",
     "start_time": "2022-12-22T07:31:08.780910Z"
    },
    "slideshow": {
     "slide_type": "skip"
    }
   },
   "outputs": [
    {
     "name": "stdout",
     "output_type": "stream",
     "text": [
      "['소', '호랑이', '용', '뱀']\n"
     ]
    }
   ],
   "source": [
    "#(7) 다음 리스트 중에서 \"쥐\"와 \"토끼\" 제외한 나머지를 출력하세요.\n",
    "str_list = [\"쥐\", \"소\", \"호랑이\", \"토끼\", \"용\", \"뱀\"]\n",
    "\n",
    "str_list.remove(\"쥐\")\n",
    "str_list.remove(\"토끼\")\n",
    "print(str_list)"
   ]
  },
  {
   "cell_type": "code",
   "execution_count": 185,
   "id": "2bd3d181",
   "metadata": {
    "ExecuteTime": {
     "end_time": "2022-12-22T08:33:27.581100Z",
     "start_time": "2022-12-22T08:33:27.567858Z"
    }
   },
   "outputs": [
    {
     "name": "stdout",
     "output_type": "stream",
     "text": [
      "소\n",
      "호랑이\n",
      "용\n",
      "뱀\n"
     ]
    }
   ],
   "source": [
    "#(7) 다음 리스트 중에서 \"쥐\"와 \"토끼\" 제외한 나머지를 출력하세요.\n",
    "str_list = [\"쥐\", \"소\", \"호랑이\", \"토끼\", \"용\", \"뱀\"]\n",
    "\n",
    "for value in str_list:\n",
    "    if value in ['쥐', '토끼']:\n",
    "        continue\n",
    "    print(value)"
   ]
  },
  {
   "cell_type": "code",
   "execution_count": 187,
   "id": "60980322",
   "metadata": {
    "ExecuteTime": {
     "end_time": "2022-12-22T08:35:49.954274Z",
     "start_time": "2022-12-22T08:35:48.066672Z"
    },
    "slideshow": {
     "slide_type": "skip"
    }
   },
   "outputs": [
    {
     "name": "stdout",
     "output_type": "stream",
     "text": [
      "단을 입력하시오: 2\n",
      "2 x 1 = 2\n",
      "2 x 2 = 4\n",
      "2 x 3 = 6\n",
      "2 x 4 = 8\n",
      "2 x 5 = 10\n",
      "2 x 6 = 12\n",
      "2 x 7 = 14\n",
      "2 x 8 = 16\n",
      "2 x 9 = 18\n"
     ]
    }
   ],
   "source": [
    "#(8) 사용자로부터 정수를 입력받아 그 단의 구구단을 출력하시오. \n",
    "# ex) 단을 입력하시오 : 2  \n",
    "# 2 x 1 = 2\n",
    "# 2 x 2 = 4\n",
    "#..\n",
    "# 2 x 9 = 18\n",
    "\n",
    "dan = int(input(\"단을 입력하시오: \"))\n",
    "\n",
    "for i in range(1,10):\n",
    "    print(f\"{dan} x {i} = {dan*i}\")\n",
    "    "
   ]
  },
  {
   "cell_type": "code",
   "execution_count": 147,
   "id": "fbbe307b",
   "metadata": {
    "ExecuteTime": {
     "end_time": "2022-12-22T07:45:16.459255Z",
     "start_time": "2022-12-22T07:45:16.442912Z"
    },
    "slideshow": {
     "slide_type": "skip"
    }
   },
   "outputs": [
    {
     "data": {
      "text/plain": [
       "[20, 60, 140, 10, 240, 1400, 2, 70]"
      ]
     },
     "execution_count": 147,
     "metadata": {},
     "output_type": "execute_result"
    }
   ],
   "source": [
    "#컴프리헨션\n",
    "\n",
    "#(9) 다음 리스트가 가진 값에 두배(* 2)를 가지는 새로운 리스트를 만드시오. (리스트 컴프리헨션 이용)\n",
    "lst = [10, 30, 70, 5, 120, 700, 1, 35]\n",
    "\n",
    "[value*2 for value in lst]\n"
   ]
  },
  {
   "cell_type": "code",
   "execution_count": 188,
   "id": "74f130e7",
   "metadata": {
    "ExecuteTime": {
     "end_time": "2022-12-22T08:38:45.566068Z",
     "start_time": "2022-12-22T08:38:45.552638Z"
    },
    "slideshow": {
     "slide_type": "skip"
    }
   },
   "outputs": [
    {
     "ename": "SyntaxError",
     "evalue": "invalid syntax (407854883.py, line 5)",
     "output_type": "error",
     "traceback": [
      "\u001b[0;36m  File \u001b[0;32m\"/var/folders/jf/l3x8dj6n62s041cwvf169t5w0000gn/T/ipykernel_1182/407854883.py\"\u001b[0;36m, line \u001b[0;32m5\u001b[0m\n\u001b[0;31m    [(value:value*10) for value in lst]\u001b[0m\n\u001b[0m           ^\u001b[0m\n\u001b[0;31mSyntaxError\u001b[0m\u001b[0;31m:\u001b[0m invalid syntax\n"
     ]
    }
   ],
   "source": [
    "#(10) 다음 리스트가 가진 값에 10배의 값을 가지는 값을 (원래값, 10배값) 의 튜플 묶음으로 가지는 리스트를 만드시오 (리스트 컴프리헨션 이용)\n",
    "# Ex) [(10,100), (30,300), .., (35, 350)]\n",
    "lst = [10, 30, 70, 5, 5, 120, 700, 1, 35, 35]\n",
    "\n",
    "[(value:value*10) for value in lst]"
   ]
  },
  {
   "cell_type": "code",
   "execution_count": 154,
   "id": "4fa7fdb3",
   "metadata": {
    "ExecuteTime": {
     "end_time": "2022-12-22T07:52:52.580890Z",
     "start_time": "2022-12-22T07:52:52.565798Z"
    },
    "slideshow": {
     "slide_type": "skip"
    }
   },
   "outputs": [
    {
     "data": {
      "text/plain": [
       "[3, 33, 21, 33, 60, 120]"
      ]
     },
     "execution_count": 154,
     "metadata": {},
     "output_type": "execute_result"
    }
   ],
   "source": [
    "#(11) 다음 리스트가 가진 값들 중 3의 배수만 가지는 리스트를 만드시오. (리스트 컴프리헨션 이용)\n",
    "lst2 = [ 3, 20, 33, 21, 33, 8, 11, 10, 7, 17, 60, 120, 2]\n",
    "\n",
    "[value for value in lst2 if value %3 ==0]"
   ]
  },
  {
   "cell_type": "code",
   "execution_count": 191,
   "id": "c9085937",
   "metadata": {
    "ExecuteTime": {
     "end_time": "2022-12-22T08:41:05.492671Z",
     "start_time": "2022-12-22T08:41:05.478369Z"
    },
    "slideshow": {
     "slide_type": "skip"
    }
   },
   "outputs": [
    {
     "data": {
      "text/plain": [
       "['a.exe', 'function.exe', 'b.exe', 'run.exe']"
      ]
     },
     "execution_count": 191,
     "metadata": {},
     "output_type": "execute_result"
    }
   ],
   "source": [
    "#(12) 다음 파일이름들을 담은 리스트에서 확장자가 exe인 파일만 골라서 새로운 리스트에 담으시오.(string의 endswith()함수 이용)\n",
    "file_name=[\"test.txt\", \"a.exe\", \"jupyter.bat\", \"function.exe\", \"b.exe\", \"cat.jpg\", \"dog.png\", \"run.exe\", \"i.dll\"]\n",
    "\n",
    "\n",
    "[file for file in file_name if file.endswith('.exe')]"
   ]
  },
  {
   "cell_type": "code",
   "execution_count": 192,
   "id": "0e7b703b",
   "metadata": {
    "ExecuteTime": {
     "end_time": "2022-12-22T08:42:01.998199Z",
     "start_time": "2022-12-22T08:42:01.985232Z"
    },
    "slideshow": {
     "slide_type": "skip"
    }
   },
   "outputs": [
    {
     "data": {
      "text/plain": [
       "['mystroy.txt', 'jupyter.bat', 'function.exe']"
      ]
     },
     "execution_count": 192,
     "metadata": {},
     "output_type": "execute_result"
    }
   ],
   "source": [
    "#(13) 다음 중 10글자 이상인 파일명(확장자포함)만 가지는 리스트를 만드시오.\n",
    "file_name=[\"mystroy.txt\", \"a.exe\", \"jupyter.bat\", \"function.exe\", \"b.exe\", \"cat.jpg\", \"dog.png\", \"run.exe\", \"i.dll\"]\n",
    "\n",
    "[value for value in file_name if len(value) >= 10]"
   ]
  },
  {
   "cell_type": "code",
   "execution_count": 193,
   "id": "164e085a",
   "metadata": {
    "ExecuteTime": {
     "end_time": "2022-12-22T08:44:54.152956Z",
     "start_time": "2022-12-22T08:44:54.139929Z"
    }
   },
   "outputs": [
    {
     "data": {
      "text/plain": [
       "['mystroy.txt', 'jupyter.bat', 'function.exe']"
      ]
     },
     "execution_count": 193,
     "metadata": {},
     "output_type": "execute_result"
    }
   ],
   "source": [
    "# 확장자를 뺀 파일명이 5글자 이상인 파일들.\n",
    "[file for file in file_name if len(file.split('.')[0]) >5]"
   ]
  },
  {
   "cell_type": "code",
   "execution_count": 197,
   "id": "a0cc04fa",
   "metadata": {
    "ExecuteTime": {
     "end_time": "2022-12-22T08:48:12.836144Z",
     "start_time": "2022-12-22T08:48:12.822471Z"
    },
    "slideshow": {
     "slide_type": "skip"
    }
   },
   "outputs": [
    {
     "data": {
      "text/plain": [
       "['c', 'g', 'h', 'k']"
      ]
     },
     "execution_count": 197,
     "metadata": {},
     "output_type": "execute_result"
    }
   ],
   "source": [
    "#(14) 다음 리스트에서 소문자만 가지는 새로운 리스트를 만드시오.\n",
    "str_list = [\"A\", \"B\", \"c\", \"D\", \"E\", \"F\", \"g\", \"h\", \"I\", \"J\", \"k\"]\n",
    "[value for value in str_list if value.islower()]"
   ]
  }
 ],
 "metadata": {
  "celltoolbar": "Slideshow",
  "kernelspec": {
   "display_name": "Python 3 (ipykernel)",
   "language": "python",
   "name": "python3"
  },
  "language_info": {
   "codemirror_mode": {
    "name": "ipython",
    "version": 3
   },
   "file_extension": ".py",
   "mimetype": "text/x-python",
   "name": "python",
   "nbconvert_exporter": "python",
   "pygments_lexer": "ipython3",
   "version": "3.9.13"
  },
  "toc": {
   "base_numbering": 1,
   "nav_menu": {},
   "number_sections": true,
   "sideBar": true,
   "skip_h1_title": false,
   "title_cell": "Table of Contents",
   "title_sidebar": "Contents",
   "toc_cell": false,
   "toc_position": {},
   "toc_section_display": true,
   "toc_window_display": false
  },
  "varInspector": {
   "cols": {
    "lenName": 16,
    "lenType": 16,
    "lenVar": 40
   },
   "kernels_config": {
    "python": {
     "delete_cmd_postfix": "",
     "delete_cmd_prefix": "del ",
     "library": "var_list.py",
     "varRefreshCmd": "print(var_dic_list())"
    },
    "r": {
     "delete_cmd_postfix": ") ",
     "delete_cmd_prefix": "rm(",
     "library": "var_list.r",
     "varRefreshCmd": "cat(var_dic_list()) "
    }
   },
   "types_to_exclude": [
    "module",
    "function",
    "builtin_function_or_method",
    "instance",
    "_Feature"
   ],
   "window_display": false
  }
 },
 "nbformat": 4,
 "nbformat_minor": 5
}
