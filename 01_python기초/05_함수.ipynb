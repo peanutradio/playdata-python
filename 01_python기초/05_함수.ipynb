{
 "cells": [
  {
   "cell_type": "markdown",
   "metadata": {
    "slideshow": {
     "slide_type": "slide"
    }
   },
   "source": [
    "# 함수란\n",
    "- 함수란 입력변수와 출력변수간의 대응 관계를 정의한 것을 말한다.\n",
    "- 프로그램에서 함수란 하나의 작업, 기능, 동작을 처리하기 위한 사용자 정의 연산자라고 할 수 있다.\n",
    "    - 함수는 값을 입력(Input)을 받아서 처리후 처리결과를 출력(Output)하는 일련의 과정을 정의한 것을 말한다.\n",
    "    - 만들어진 함수는 동일한 작업이 필요할 때 마다 재사용될 수 있다.\n",
    "    - 함수를 구현해 파이썬 실행환경에 등록하는 것을 **함수를 정의(define)한다** 라고 한다.\n",
    "    - 정의된 함수를 사용하는 것을 **함수를 호출(call)한다** 라고 한다.\n",
    "    - 파이썬에서 함수는 일급 시민 객체(First Class Citizen Object)이다.\n",
    "    \n",
    "> - **일급 시민 객체란**   \n",
    ">    – 변수에 할당할 수 있고, 함수의 입력값으로 전달할 수 있고, 함수의 반환 값으로 반환할 수 있는 객체를 말한다."
   ]
  },
  {
   "cell_type": "code",
   "execution_count": null,
   "metadata": {},
   "outputs": [],
   "source": [
    "# 재사용하려고 하는 코드를 만들어 놓고, 필요할 때 가져다가(호출) 쓴다."
   ]
  },
  {
   "cell_type": "markdown",
   "metadata": {
    "slideshow": {
     "slide_type": "slide"
    }
   },
   "source": [
    "## 함수 만들기\n",
    "- 함수의 정의\n",
    "    - 새로운 함수를 만드는 것을 함수의 정의라고 한다.\n",
    "    - 함수를 구현하고 그것을 파이썬 실행환경에 새로운 기능으로 등록하는 과정을 말한다."
   ]
  },
  {
   "cell_type": "markdown",
   "metadata": {
    "slideshow": {
     "slide_type": "fragment"
    }
   },
   "source": [
    "- 함수 구현\n",
    "    - 함수의 선언부와 구현부로 나누어진다\n",
    "        - 함수의 선언부(Header) : 함수의 이름과 입력값을 받을 변수(Parameter, 매개변수)를 지정한다.\n",
    "        - 함수의 구현부(Body) : 함수가 호출 되었을 때 실행할 실행문들을 순서대로 작성한다."
   ]
  },
  {
   "cell_type": "code",
   "execution_count": null,
   "metadata": {},
   "outputs": [],
   "source": [
    "#함수의 선언부 : Parameter변수는 매개변수 즉, 서로 주고받도록 하는 변수를 말한다. \n",
    "#함수의 구현부 : 함수를 실행하는 것, Body를 의미한다."
   ]
  },
  {
   "cell_type": "markdown",
   "metadata": {
    "slideshow": {
     "slide_type": "fragment"
    }
   },
   "source": [
    "   \n",
    "``` python\n",
    "def 함수이름( [변수, 변수, ..]):  # 선언 부(Header)\n",
    "    # 구현 부(body)\n",
    "    실행구문1\n",
    "    실행구문2\n",
    "    실행구문3\n",
    "    …\n",
    "    [return [결과값]]\n",
    "```\n",
    "- 함수 선언 마지막에는 `:` 을 넣어 구현부와 구분한다.\n",
    "- Parameter(매개변수)는 argument(호출하는 곳에서 전달하는 함수의 입력값)를 받기 위한 변수로 0개 이상 선언할 수 있다.\n",
    "- 함수의 실행구문은 코드블록으로 들여쓰기로 블록을 묶어준다. \n",
    "    - 들여쓰기는 보통 공백 4칸을 사용한다.\n",
    "- 함수의 처리 결과값이 있을 경우 **return 구문**을 넣고 없을 경우 return은 생략할 수 있다.\n",
    "- **함수이름 관례**\n",
    "    - 함수이름은 보통 동사형으로 만든다.\n",
    "    - 모두 소문자로 하고 여러단어로 구성할 경우 각 단어들을 `_`로 연결한다. (변수와 동일)"
   ]
  },
  {
   "cell_type": "code",
   "execution_count": null,
   "metadata": {
    "slideshow": {
     "slide_type": "fragment"
    }
   },
   "outputs": [],
   "source": [
    "# def , : 무조건 넣어줘야 한다. \n",
    "# return은 종종 return을 생략할수도 있고, return 안에 [결과값]을 생략하는 경우도 있다. "
   ]
  },
  {
   "cell_type": "code",
   "execution_count": 17,
   "metadata": {
    "ExecuteTime": {
     "end_time": "2022-12-26T01:40:30.357190Z",
     "start_time": "2022-12-26T01:40:30.345270Z"
    }
   },
   "outputs": [],
   "source": [
    "#함수 정의\n",
    "def greeting() :      #header(선언부) : parameter가 없는 함수\n",
    "    # body(구현부)\n",
    "    print('안녕하세요')\n",
    "    print('반갑습니다')\n",
    "    \n",
    "    #이런 형식은 반환값(return value) 없는 함수.\n",
    "    #실행 시키면 greeting이라는 함수가 파이썬에 등록이 될 것이다.\n",
    "    #이후 함수 greeting 을 호출하면 아래처럼 출력될 것이다. "
   ]
  },
  {
   "cell_type": "code",
   "execution_count": 18,
   "metadata": {
    "ExecuteTime": {
     "end_time": "2022-12-26T01:40:32.126882Z",
     "start_time": "2022-12-26T01:40:32.117889Z"
    }
   },
   "outputs": [
    {
     "name": "stdout",
     "output_type": "stream",
     "text": [
      "안녕하세요\n",
      "반갑습니다\n"
     ]
    }
   ],
   "source": [
    "# 함수 호출 - []: 선택사항\n",
    "# [반환값을 저장할 변수 = ] 함수이름([ argument들 나열,   ])\n",
    "# 함수 이름\n",
    "\n",
    "greeting()"
   ]
  },
  {
   "cell_type": "code",
   "execution_count": 3,
   "metadata": {
    "ExecuteTime": {
     "end_time": "2022-12-26T01:30:12.631761Z",
     "start_time": "2022-12-26T01:30:12.622221Z"
    }
   },
   "outputs": [
    {
     "name": "stdout",
     "output_type": "stream",
     "text": [
      "안녕하세요\n",
      "반갑습니다\n",
      "안녕하세요\n",
      "반갑습니다\n",
      "안녕하세요\n",
      "반갑습니다\n"
     ]
    }
   ],
   "source": [
    "# 복잡한 함수가 필요할 때, 일일히 찍는 것이 아니라 함수에 저장해서 불라내면 된다.\n",
    "greeting()\n",
    "greeting()\n",
    "greeting()"
   ]
  },
  {
   "cell_type": "code",
   "execution_count": 5,
   "metadata": {
    "ExecuteTime": {
     "end_time": "2022-12-26T01:32:33.061378Z",
     "start_time": "2022-12-26T01:32:33.054638Z"
    }
   },
   "outputs": [
    {
     "name": "stdout",
     "output_type": "stream",
     "text": [
      "나이30\n"
     ]
    }
   ],
   "source": [
    "print('나이: ' + str(30))    #내장함수 호출"
   ]
  },
  {
   "cell_type": "code",
   "execution_count": 6,
   "metadata": {
    "ExecuteTime": {
     "end_time": "2022-12-26T01:36:14.053225Z",
     "start_time": "2022-12-26T01:36:14.043126Z"
    }
   },
   "outputs": [],
   "source": [
    "# 파라미터가 있는 함수  --> 파라미터: 호출하는 쪽(caller) 에 전달 받을 값(argument)을 저장할 변수(개수 제한 없다)\n",
    "def greeting2(name):\n",
    "    print(f'{name}님 안녕하세요')\n",
    "    print('반갑습니다')"
   ]
  },
  {
   "cell_type": "code",
   "execution_count": 12,
   "metadata": {
    "ExecuteTime": {
     "end_time": "2022-12-26T01:37:12.621319Z",
     "start_time": "2022-12-26T01:37:12.614382Z"
    },
    "scrolled": true,
    "slideshow": {
     "slide_type": "fragment"
    }
   },
   "outputs": [
    {
     "name": "stdout",
     "output_type": "stream",
     "text": [
      "Jason님 안녕하세요\n",
      "반갑습니다\n"
     ]
    }
   ],
   "source": [
    "greeting2(\"Jason\")"
   ]
  },
  {
   "cell_type": "code",
   "execution_count": 19,
   "metadata": {
    "ExecuteTime": {
     "end_time": "2022-12-26T01:40:35.054025Z",
     "start_time": "2022-12-26T01:40:35.044647Z"
    }
   },
   "outputs": [],
   "source": [
    "def greeting3(name, age):  #--> name, age를 매개변수 라고 한다.\n",
    "    print(f\"{age}세의 {name}님 안녕하세요\")\n",
    "    print('반갑습니다')"
   ]
  },
  {
   "cell_type": "code",
   "execution_count": 20,
   "metadata": {
    "ExecuteTime": {
     "end_time": "2022-12-26T01:40:36.706023Z",
     "start_time": "2022-12-26T01:40:36.690386Z"
    }
   },
   "outputs": [
    {
     "name": "stdout",
     "output_type": "stream",
     "text": [
      "40세의 박찬후님 안녕하세요\n",
      "반갑습니다\n",
      "38세의 peter님 안녕하세요\n",
      "반갑습니다\n"
     ]
    }
   ],
   "source": [
    "greeting3('박찬후', 40)\n",
    "greeting3('peter', 38)"
   ]
  },
  {
   "cell_type": "markdown",
   "metadata": {
    "slideshow": {
     "slide_type": "subslide"
    }
   },
   "source": [
    "### return value(반환값)\n",
    "- 함수가 호출받아 처리한 결과값으로 호출한 곳으로 반환하는 값이다.\n",
    "- 함수 구현부에 return \\[값\\] 구문을 사용해 반환한다.\n",
    "    - **return**\n",
    "        - 함수가 정상적으로 끝났고 호출한곳으로 돌아간다.\n",
    "        - 보통은 함수 구현의 마지막에 넣지만 경우에 따라 중간에 올 수 있다.\n",
    "    - return 반환값\n",
    "        - 호출한 곳으로 값을 가지고 돌아간다. (반환한다)\n",
    "        - 반환값이 없을 경우 None을 반환한다.\n",
    "        - 함수에 return 구문이 없을 경우 마지막에 return None이 실행된다.\n",
    "- 여러개의 값을 return 하는 경우 자료구조로 묶어서 전달해야한다.\n",
    "    - 함수는 한개의 값만 반환할 수 있다. "
   ]
  },
  {
   "cell_type": "code",
   "execution_count": null,
   "metadata": {
    "slideshow": {
     "slide_type": "fragment"
    }
   },
   "outputs": [],
   "source": [
    "#return 반환은 보통 tuple로 반환한다."
   ]
  },
  {
   "cell_type": "code",
   "execution_count": 21,
   "metadata": {
    "ExecuteTime": {
     "end_time": "2022-12-26T01:51:53.710551Z",
     "start_time": "2022-12-26T01:51:53.701190Z"
    },
    "slideshow": {
     "slide_type": "fragment"
    }
   },
   "outputs": [],
   "source": [
    "#return 값이 있는 함수\n",
    "def greeting4(name): \n",
    "    txt = f\"{name}님 안녕하세요.\\n반갑습니다.\"\n",
    "    return txt #호출한 곳으로(caller)로 txt 변수 값을 가지고 돌아가라."
   ]
  },
  {
   "cell_type": "code",
   "execution_count": 22,
   "metadata": {
    "ExecuteTime": {
     "end_time": "2022-12-26T01:52:30.267831Z",
     "start_time": "2022-12-26T01:52:30.258421Z"
    }
   },
   "outputs": [
    {
     "name": "stdout",
     "output_type": "stream",
     "text": [
      "홍길동님 안녕하세요.\n",
      "반갑습니다.\n"
     ]
    }
   ],
   "source": [
    "txt = greeting4('홍길동')  # 여기서 txt는 greeting4 함수 txt와는 다른 txt이다.\n",
    "print(txt)"
   ]
  },
  {
   "cell_type": "code",
   "execution_count": 23,
   "metadata": {
    "ExecuteTime": {
     "end_time": "2022-12-26T01:54:04.441022Z",
     "start_time": "2022-12-26T01:54:04.430607Z"
    }
   },
   "outputs": [
    {
     "name": "stdout",
     "output_type": "stream",
     "text": [
      "안녕하세요\n",
      "반갑습니다\n",
      "None\n"
     ]
    }
   ],
   "source": [
    "r_value = greeting()\n",
    "print(r_value)     #return 값이 없는 함수의 return 값은 'None'"
   ]
  },
  {
   "cell_type": "code",
   "execution_count": 25,
   "metadata": {
    "ExecuteTime": {
     "end_time": "2022-12-26T02:00:08.273851Z",
     "start_time": "2022-12-26T02:00:08.264363Z"
    }
   },
   "outputs": [],
   "source": [
    "# return 값이 여러개인 함수\n",
    "def calculate(num1, num2):     #멀티커서 : opt 누르고 커서 이동\n",
    "    r1 = num1 + num2\n",
    "    r2 = num1 - num2\n",
    "    r3 = num1 * num2\n",
    "    r4 = num1 / num2\n",
    "    \n",
    "    return r1, r2, r3, r4     #튜플로 묶어서 변환   \n",
    "#   return [r1, r2, r3, r4]   #List로 묶는 것도 가능 []\n",
    " \n",
    "    "
   ]
  },
  {
   "cell_type": "code",
   "execution_count": 27,
   "metadata": {
    "ExecuteTime": {
     "end_time": "2022-12-26T02:00:47.915389Z",
     "start_time": "2022-12-26T02:00:47.909800Z"
    }
   },
   "outputs": [
    {
     "name": "stdout",
     "output_type": "stream",
     "text": [
      "<class 'tuple'>\n",
      "(30, -10, 200, 0.5)\n"
     ]
    }
   ],
   "source": [
    "result = calculate(10, 20)\n",
    "print(type(result))\n",
    "print(result)"
   ]
  },
  {
   "cell_type": "code",
   "execution_count": 28,
   "metadata": {
    "ExecuteTime": {
     "end_time": "2022-12-26T02:01:56.358596Z",
     "start_time": "2022-12-26T02:01:56.348020Z"
    }
   },
   "outputs": [
    {
     "name": "stdout",
     "output_type": "stream",
     "text": [
      "150 50 5000 2.0\n"
     ]
    }
   ],
   "source": [
    "r1, r2, r3, r4 = calculate(100, 50)\n",
    "print(r1, r2, r3, r4)                 #튜플 대입, 리스트 대입"
   ]
  },
  {
   "cell_type": "code",
   "execution_count": 39,
   "metadata": {
    "ExecuteTime": {
     "end_time": "2022-12-26T02:28:07.449500Z",
     "start_time": "2022-12-26T02:28:07.441581Z"
    }
   },
   "outputs": [],
   "source": [
    "def divide(num1, num2):\n",
    "    \n",
    "    if num2 ==0:\n",
    "        print('0으로 못나눕니다.')    # 에러 로그\n",
    "        return  #None\n",
    "    \n",
    "    \n",
    "    return num1 / num2"
   ]
  },
  {
   "cell_type": "code",
   "execution_count": 40,
   "metadata": {
    "ExecuteTime": {
     "end_time": "2022-12-26T02:28:09.102443Z",
     "start_time": "2022-12-26T02:28:09.090818Z"
    }
   },
   "outputs": [
    {
     "name": "stdout",
     "output_type": "stream",
     "text": [
      "5.0\n"
     ]
    }
   ],
   "source": [
    "result = divide(10, 2)\n",
    "print(result)"
   ]
  },
  {
   "cell_type": "code",
   "execution_count": 41,
   "metadata": {
    "ExecuteTime": {
     "end_time": "2022-12-26T02:28:10.672496Z",
     "start_time": "2022-12-26T02:28:10.662836Z"
    }
   },
   "outputs": [
    {
     "name": "stdout",
     "output_type": "stream",
     "text": [
      "0으로 못나눕니다.\n",
      "None\n"
     ]
    }
   ],
   "source": [
    "result = divide(10, 0)\n",
    "print(result)"
   ]
  },
  {
   "cell_type": "markdown",
   "metadata": {
    "slideshow": {
     "slide_type": "slide"
    }
   },
   "source": [
    "## Parameter (매개변수)\n",
    " \n",
    "### 기본값이 있는 Parameter\n",
    "- 매개변수에 값을 대입하는 구문을 작성하면 호출할 때 argument 가 넘어오지 않으면 대입해놓은 기본값을 사용한다.\n",
    "- 함수 정의시 기본값 없는 매개변수, 있는 매개변수를 같이 선언할 수 있다.\n",
    "    - **이때 기본값 없는 매개변수들을 선언하고 그 다음에 기본값 있는 매개변수들을 선언한다.** "
   ]
  },
  {
   "cell_type": "code",
   "execution_count": null,
   "metadata": {
    "slideshow": {
     "slide_type": "fragment"
    }
   },
   "outputs": [],
   "source": [
    "#argument를 받는 변수를 parameter라고 한다. "
   ]
  },
  {
   "cell_type": "code",
   "execution_count": 42,
   "metadata": {
    "ExecuteTime": {
     "end_time": "2022-12-26T02:35:01.115659Z",
     "start_time": "2022-12-26T02:35:01.110030Z"
    }
   },
   "outputs": [],
   "source": [
    "def print_info(name):      # 매개변수(parameter)에는 반드시 값이 대입되야 한다.\n",
    "    print(f'이름: {name}')"
   ]
  },
  {
   "cell_type": "code",
   "execution_count": 44,
   "metadata": {
    "ExecuteTime": {
     "end_time": "2022-12-26T02:35:31.101097Z",
     "start_time": "2022-12-26T02:35:31.086268Z"
    }
   },
   "outputs": [
    {
     "name": "stdout",
     "output_type": "stream",
     "text": [
      "이름: 홍길동\n"
     ]
    },
    {
     "ename": "TypeError",
     "evalue": "print_info() missing 1 required positional argument: 'name'",
     "output_type": "error",
     "traceback": [
      "\u001b[0;31m---------------------------------------------------------------------------\u001b[0m",
      "\u001b[0;31mTypeError\u001b[0m                                 Traceback (most recent call last)",
      "\u001b[0;32m/var/folders/jf/l3x8dj6n62s041cwvf169t5w0000gn/T/ipykernel_19432/39674612.py\u001b[0m in \u001b[0;36m<module>\u001b[0;34m\u001b[0m\n\u001b[1;32m      1\u001b[0m \u001b[0mprint_info\u001b[0m\u001b[0;34m(\u001b[0m\u001b[0;34m'홍길동'\u001b[0m\u001b[0;34m)\u001b[0m\u001b[0;34m\u001b[0m\u001b[0;34m\u001b[0m\u001b[0m\n\u001b[0;32m----> 2\u001b[0;31m \u001b[0mprint_info\u001b[0m\u001b[0;34m(\u001b[0m\u001b[0;34m)\u001b[0m\u001b[0;34m\u001b[0m\u001b[0;34m\u001b[0m\u001b[0m\n\u001b[0m",
      "\u001b[0;31mTypeError\u001b[0m: print_info() missing 1 required positional argument: 'name'"
     ]
    }
   ],
   "source": [
    "print_info('홍길동')\n",
    "print_info()"
   ]
  },
  {
   "cell_type": "code",
   "execution_count": 55,
   "metadata": {
    "ExecuteTime": {
     "end_time": "2022-12-26T02:40:00.980717Z",
     "start_time": "2022-12-26T02:40:00.974860Z"
    }
   },
   "outputs": [],
   "source": [
    "def print_info2(name = None):   #기본값이 있는 파라미터 -> caller가 argument 를 잔달하지 않으면 기본값을 대입해서 사용!!\n",
    "    if name == None:\n",
    "        print('이름이 없습니다')\n",
    "        return\n",
    "    \n",
    "    print(f'name : {name}')"
   ]
  },
  {
   "cell_type": "code",
   "execution_count": 56,
   "metadata": {
    "ExecuteTime": {
     "end_time": "2022-12-26T02:40:03.073709Z",
     "start_time": "2022-12-26T02:40:03.062059Z"
    }
   },
   "outputs": [
    {
     "name": "stdout",
     "output_type": "stream",
     "text": [
      "name : 홍길동\n",
      "이름이 없습니다\n"
     ]
    }
   ],
   "source": [
    "print_info2(\"홍길동\")\n",
    "print_info2()"
   ]
  },
  {
   "cell_type": "code",
   "execution_count": 57,
   "metadata": {
    "ExecuteTime": {
     "end_time": "2022-12-26T02:41:00.071238Z",
     "start_time": "2022-12-26T02:41:00.059105Z"
    }
   },
   "outputs": [
    {
     "ename": "SyntaxError",
     "evalue": "non-default argument follows default argument (826289795.py, line 1)",
     "output_type": "error",
     "traceback": [
      "\u001b[0;36m  File \u001b[0;32m\"/var/folders/jf/l3x8dj6n62s041cwvf169t5w0000gn/T/ipykernel_19432/826289795.py\"\u001b[0;36m, line \u001b[0;32m1\u001b[0m\n\u001b[0;31m    def print_info3(id, name, address=None, age, email=None):\u001b[0m\n\u001b[0m                                                 ^\u001b[0m\n\u001b[0;31mSyntaxError\u001b[0m\u001b[0;31m:\u001b[0m non-default argument follows default argument\n"
     ]
    }
   ],
   "source": [
    "def print_info3(id, name, address=None, age, email=None):     #순서: 기본값 없는 파라미터들->기본값 있는 파라미터들\n",
    "    print(id, name, address, age, email)"
   ]
  },
  {
   "cell_type": "code",
   "execution_count": 58,
   "metadata": {
    "ExecuteTime": {
     "end_time": "2022-12-26T02:42:18.892044Z",
     "start_time": "2022-12-26T02:42:18.881262Z"
    }
   },
   "outputs": [],
   "source": [
    "def print_info3(id, name, age, address=None,email=None):     #순서대로 변경하니 함수 적용이 되었다.\n",
    "    print(id, name, address, age, email)"
   ]
  },
  {
   "cell_type": "code",
   "execution_count": 62,
   "metadata": {
    "ExecuteTime": {
     "end_time": "2022-12-26T02:44:16.882086Z",
     "start_time": "2022-12-26T02:44:16.870626Z"
    }
   },
   "outputs": [
    {
     "name": "stdout",
     "output_type": "stream",
     "text": [
      "id-1 홍길동 None 30 None\n",
      "id-1 홍길동 서울 30 None\n",
      "id-1 홍길동 서울 30 pch8303@ndm.com\n"
     ]
    }
   ],
   "source": [
    "print_info3('id-1', '홍길동', 30)\n",
    "print_info3('id-1', '홍길동', 30, '서울')\n",
    "print_info3('id-1', '홍길동', 30, '서울', 'pch8303@ndm.com')"
   ]
  },
  {
   "cell_type": "markdown",
   "metadata": {
    "slideshow": {
     "slide_type": "subslide"
    }
   },
   "source": [
    "### Positional argument와 Keyword argument \n",
    "- Argument는 함수/메소드를 호출할 때 전달하는 입력값을 말한다.\n",
    "    - Argument는 전달하는 값이고 Parameter는 그 값을 저장하는 변수\n",
    "- Positional argument\n",
    "    -  함수 호출 할때 argument(전달인자)를 Parameter  순서에 맞춰 값을 넣어서 호출.\n",
    "- keyword  argument \n",
    "    - 함수 호출할 때 argument를 `Parameter변수명 = 전달할값` 형식으로 선언해서 어떤 parameter에 어떤 값을 전달할 것인지 지정해서 호출.\n",
    "    - 순서와 상관없이 호출하는 것이 가능.\n",
    "    - parameter가 많고 대부분 기본값이 있는 함수 호출 할 때 뒤 쪽에 선언된 parameter에만 값을 전달하고 싶을 경우 유용하다."
   ]
  },
  {
   "cell_type": "code",
   "execution_count": null,
   "metadata": {
    "slideshow": {
     "slide_type": "fragment"
    }
   },
   "outputs": [],
   "source": [
    "#Positional argument는 순서대로 나열해서 전달하는 것(위에 했던 예제라고 생각하면 된다.)\n",
    "     #ex) print_info3('id-1', '홍길동', 30, '서울', 'pch8303@ndm.com')\n",
    "    \n",
    "#Keyword argument는 변수에 어떤 값을 넣을지 지정해 주는 것\n",
    "    #ex) print_info3(email = 'kdkdk', name ='홍길동', age =30, 등등)"
   ]
  },
  {
   "cell_type": "code",
   "execution_count": 65,
   "metadata": {
    "ExecuteTime": {
     "end_time": "2022-12-26T03:09:51.789500Z",
     "start_time": "2022-12-26T03:09:51.782039Z"
    }
   },
   "outputs": [],
   "source": [
    "def test_func(a,b,c,d,e,f,g):\n",
    "    print(a,b,c,d,e,f,g, sep=',')"
   ]
  },
  {
   "cell_type": "code",
   "execution_count": 66,
   "metadata": {
    "ExecuteTime": {
     "end_time": "2022-12-26T03:09:54.167637Z",
     "start_time": "2022-12-26T03:09:54.155205Z"
    }
   },
   "outputs": [
    {
     "name": "stdout",
     "output_type": "stream",
     "text": [
      "10,20,30,40,50,60,70\n"
     ]
    }
   ],
   "source": [
    "test_func(10,20,30,40,50,60,70) #positional argument 방식의 호출"
   ]
  },
  {
   "cell_type": "code",
   "execution_count": 69,
   "metadata": {
    "ExecuteTime": {
     "end_time": "2022-12-26T03:11:41.816256Z",
     "start_time": "2022-12-26T03:11:41.805322Z"
    }
   },
   "outputs": [
    {
     "name": "stdout",
     "output_type": "stream",
     "text": [
      "100,200,300,700,400,700,500\n"
     ]
    }
   ],
   "source": [
    "test_func(a=100, b=200, c=300, g=500, f=700, e=400, d=700) #keyword argument 방식 호출 \n",
    "                                                            #순서는 원하는대로^^"
   ]
  },
  {
   "cell_type": "code",
   "execution_count": 75,
   "metadata": {
    "ExecuteTime": {
     "end_time": "2022-12-26T03:16:34.234988Z",
     "start_time": "2022-12-26T03:16:34.224228Z"
    }
   },
   "outputs": [],
   "source": [
    "def test_func2(a=0,b=0,c=0,d=0,e=0,f=0,g=0) :  #멀티 커서 1)opt+comm+ 커서 클릭  / 2)opt+커서 드래그\n",
    "    print(a,b,c,d,e,f,g, sep=',')"
   ]
  },
  {
   "cell_type": "code",
   "execution_count": 77,
   "metadata": {
    "ExecuteTime": {
     "end_time": "2022-12-26T03:16:58.052623Z",
     "start_time": "2022-12-26T03:16:58.040470Z"
    }
   },
   "outputs": [
    {
     "name": "stdout",
     "output_type": "stream",
     "text": [
      "0,0,0,0,0,0,100\n",
      "0,0,0,0,0,0,200\n"
     ]
    }
   ],
   "source": [
    "# 파라미터 g(마지막)의 값만 대입, 나머지는 default으로 호출\n",
    "# 위치기반\n",
    "test_func2(0,0,0,0,0,0,100)\n",
    "test_func2(g=200)"
   ]
  },
  {
   "cell_type": "markdown",
   "metadata": {
    "slideshow": {
     "slide_type": "subslide"
    }
   },
   "source": [
    "### 가변인자 (Var args) 파라미터\n",
    "- 호출하는 쪽에서 argument로 0 ~ n개의 값을 나열해서 여러개의 값들을 전달하면 **tuple이나 dictionary로 묶어서** 받을 수있도록 선언하는 parameter\n",
    "    - positial argument로 전달하는 것과 keyword argument로 전달되는 값을 받는 두가지 방식이 있다.\n",
    "- \\*변수명: **positional argument**를 개수와 상관없이 하나의 변수로 받을 수 있도록 선언하는 가변인자.\n",
    "    - 전달된 값들은 tuple로 받아서 처리한다.\n",
    "    - 관례적으로 변수명은 \\*args 를 사용한다.\n",
    "- \\*\\*변수명: **keyword argument**를 개수와 상관없이 하나의 변수로 받을 수 있도록 선언하는 가변인자.\n",
    "    - 전달된 값들은 dictionary로 받아서 처리한다.\n",
    "    - 관례적으로 변수명은 \\*\\*kwargs 를 사용한다.\n",
    "- 하나의 함수에 가변인자는 \\* 하나, \\*\\* 두개짜리 각각 한개씩만 선언할 수 있다.\n",
    "- 일반 parameter들과 같이 사용할 경우 일반 parameter들을 먼저 선언하고 가변인자를 나중에 선언한다.\n",
    "    - 두 중류의 가변인자를 같이 선언할 때는 *변수명 가변 인자를 먼저 선언한다. \n",
    "   "
   ]
  },
  {
   "cell_type": "code",
   "execution_count": 229,
   "metadata": {
    "ExecuteTime": {
     "end_time": "2022-12-26T08:17:30.844971Z",
     "start_time": "2022-12-26T08:17:30.834664Z"
    },
    "slideshow": {
     "slide_type": "fragment"
    }
   },
   "outputs": [],
   "source": [
    "def summation(nums):\n",
    "    #누적 합계 계산을 구하고 싶다.\n",
    "    # 입력값에 제한 없이 값을 받고 싶다. 1, 2, 3 => 1 + 2 + 3(x)\n",
    "    result = 0\n",
    "    for i in nums:\n",
    "        result += i\n",
    "    return result    "
   ]
  },
  {
   "cell_type": "code",
   "execution_count": 86,
   "metadata": {
    "ExecuteTime": {
     "end_time": "2022-12-26T03:25:11.166434Z",
     "start_time": "2022-12-26T03:25:11.157193Z"
    }
   },
   "outputs": [
    {
     "name": "stdout",
     "output_type": "stream",
     "text": [
      "3\n",
      "15\n",
      "55\n"
     ]
    }
   ],
   "source": [
    "# 전달해 줘야 하는 값의 개수가 가변(변경될 수 있다)인 경우 리스트나 튜플 같은 자료구조로 묶어선 전달.\n",
    "r = summation([1,2])\n",
    "print(r)\n",
    "r = summation([1,2,3,4,5])\n",
    "print(r)\n",
    "r = summation([1,2,3,4,5,6,7,8,9,10])\n",
    "print(r)\n"
   ]
  },
  {
   "cell_type": "code",
   "execution_count": 97,
   "metadata": {
    "ExecuteTime": {
     "end_time": "2022-12-26T03:31:48.324932Z",
     "start_time": "2022-12-26T03:31:48.313802Z"
    }
   },
   "outputs": [],
   "source": [
    "def summation2(*nums):\n",
    "    print(type(nums), nums)\n",
    "    result = 0\n",
    "    for i in nums :\n",
    "        result += i\n",
    "    return result    "
   ]
  },
  {
   "cell_type": "code",
   "execution_count": 98,
   "metadata": {
    "ExecuteTime": {
     "end_time": "2022-12-26T03:31:50.351365Z",
     "start_time": "2022-12-26T03:31:50.344090Z"
    }
   },
   "outputs": [
    {
     "name": "stdout",
     "output_type": "stream",
     "text": [
      "<class 'tuple'> ()\n"
     ]
    },
    {
     "data": {
      "text/plain": [
       "0"
      ]
     },
     "execution_count": 98,
     "metadata": {},
     "output_type": "execute_result"
    }
   ],
   "source": [
    "summation2()"
   ]
  },
  {
   "cell_type": "code",
   "execution_count": 101,
   "metadata": {
    "ExecuteTime": {
     "end_time": "2022-12-26T03:33:44.936682Z",
     "start_time": "2022-12-26T03:33:44.927502Z"
    },
    "scrolled": true
   },
   "outputs": [
    {
     "name": "stdout",
     "output_type": "stream",
     "text": [
      "<class 'tuple'> (1, 2, 3, 4, 5)\n"
     ]
    },
    {
     "data": {
      "text/plain": [
       "15"
      ]
     },
     "execution_count": 101,
     "metadata": {},
     "output_type": "execute_result"
    }
   ],
   "source": [
    "summation2(1,2,3,4,5)"
   ]
  },
  {
   "cell_type": "code",
   "execution_count": 102,
   "metadata": {
    "ExecuteTime": {
     "end_time": "2022-12-26T03:34:24.312244Z",
     "start_time": "2022-12-26T03:34:24.303328Z"
    }
   },
   "outputs": [],
   "source": [
    "def print_info3(**info):\n",
    "    print(type(info), info)"
   ]
  },
  {
   "cell_type": "code",
   "execution_count": 108,
   "metadata": {
    "ExecuteTime": {
     "end_time": "2022-12-26T03:37:30.218519Z",
     "start_time": "2022-12-26T03:37:30.206500Z"
    }
   },
   "outputs": [
    {
     "name": "stdout",
     "output_type": "stream",
     "text": [
      "<class 'dict'> {}\n",
      "<class 'dict'> {'name': '홍길동', 'age': 30}\n",
      "<class 'dict'> {'id': 'id-1', 'name': '홍길동', 'age': 30, 'address': '서울'}\n"
     ]
    }
   ],
   "source": [
    "#가변인자 ** 에 값을 전달  ---> keyword argument를 나열한다. \n",
    "#print_info3(1,2,3)\n",
    "print_info3()\n",
    "print_info3(name='홍길동', age=30)\n",
    "print_info3(id='id-1', name='홍길동', age=30, address ='서울')"
   ]
  },
  {
   "cell_type": "code",
   "execution_count": 109,
   "metadata": {
    "ExecuteTime": {
     "end_time": "2022-12-26T05:09:53.993543Z",
     "start_time": "2022-12-26T05:09:53.982446Z"
    }
   },
   "outputs": [],
   "source": [
    "def test_func(a,b,c, *args):\n",
    "    print(a,b,c, args)"
   ]
  },
  {
   "cell_type": "code",
   "execution_count": 110,
   "metadata": {
    "ExecuteTime": {
     "end_time": "2022-12-26T05:09:55.396323Z",
     "start_time": "2022-12-26T05:09:55.385445Z"
    }
   },
   "outputs": [
    {
     "name": "stdout",
     "output_type": "stream",
     "text": [
      "10 20 30 (40, 50, 60)\n"
     ]
    }
   ],
   "source": [
    "test_func(10,20,30,40,50,60)"
   ]
  },
  {
   "cell_type": "code",
   "execution_count": 123,
   "metadata": {
    "ExecuteTime": {
     "end_time": "2022-12-26T05:17:56.051757Z",
     "start_time": "2022-12-26T05:17:56.044767Z"
    }
   },
   "outputs": [],
   "source": [
    "def test_func(a,b,c, *args, **kwargs):\n",
    "    print(a,b,c, args, kwargs)"
   ]
  },
  {
   "cell_type": "code",
   "execution_count": 125,
   "metadata": {
    "ExecuteTime": {
     "end_time": "2022-12-26T05:18:03.477768Z",
     "start_time": "2022-12-26T05:18:03.465737Z"
    }
   },
   "outputs": [
    {
     "name": "stdout",
     "output_type": "stream",
     "text": [
      "10 20 30 (40, 50, 60) {'가': 10, '나': 20, '다': 30}\n"
     ]
    }
   ],
   "source": [
    "test_func(10,20,30,40,50,60, 가=10, 나=20, 다=30)"
   ]
  },
  {
   "cell_type": "code",
   "execution_count": 126,
   "metadata": {
    "ExecuteTime": {
     "end_time": "2022-12-26T05:18:05.554551Z",
     "start_time": "2022-12-26T05:18:05.543699Z"
    }
   },
   "outputs": [
    {
     "name": "stdout",
     "output_type": "stream",
     "text": [
      "1 2 3 (100, 200, 300, 400) {'aaa': 10, 'bbb': 20, 'ccc': 30}\n"
     ]
    }
   ],
   "source": [
    "lst = (100,200,300,400)\n",
    "dic = {'aaa': 10, 'bbb': 20, 'ccc': 30}\n",
    "# test_fun() ghcnf -> *args에 lst 튜플을 **kwargs는 dic 딕셔너리의 값을 전달.\n",
    "test_func(1,2,3, *lst, **dic)\n",
    "# 가변인자 파라미터에 전달할 튜플/리스트dp *를 딕셔너리에 **를 붙이면 position args와 keyword args로 변환되어 호출한다."
   ]
  },
  {
   "cell_type": "markdown",
   "metadata": {
    "slideshow": {
     "slide_type": "slide"
    }
   },
   "source": [
    "# 변수의 유효범위\n",
    "\n",
    "- 전역변수 (global variable)\n",
    "    - 함수 밖에 선언 된 변수\n",
    "    - 모든 함수들이 공통적으로 사용할 수 있다.\n",
    "    - 하나의 함수에서 값을 변경하면 그 변한 값이 모든 함수에 영향을 주기 때문에 함부로 변경하지 않는다.\n",
    "    - 함수내에서 전역변수에 값을 대입하기 위해서는 global 키워드를 이용해 사용할 것을 미리 선언해야 한다.\n",
    "        - global로 선언하지 않으면 이름이 동일한 지역변수가 된다. \n",
    "        - 조회할 경우에는 상관없다.\n",
    "- 지역변수 (local variable)\n",
    "    - 함수안에 선언된 변수\n",
    "    - 선언된 그 함수 안에서만 사용할 수 있다."
   ]
  },
  {
   "cell_type": "code",
   "execution_count": null,
   "metadata": {
    "slideshow": {
     "slide_type": "fragment"
    }
   },
   "outputs": [],
   "source": [
    "# 전역변수 : 전지역에서 사용할 수 있는 변수 > 모든 함수에 공통적으로 사용 가능함.\n",
    "\n",
    "# 지역변수 : 함수 안에 선언된 변수 > 선언된 함수 안에서만 사용 가능함"
   ]
  },
  {
   "cell_type": "code",
   "execution_count": 153,
   "metadata": {
    "ExecuteTime": {
     "end_time": "2022-12-26T05:40:46.789804Z",
     "start_time": "2022-12-26T05:40:46.772608Z"
    }
   },
   "outputs": [],
   "source": [
    "name = '홍길동'              #전역변수: 모든 함수들이 검색해서 쓸수 있다. \n",
    "address = '서울'\n",
    "def func5() :\n",
    "    #전역변수 neme의 값을 변경\n",
    "    global name, address            #이 함수에서 neme 변수를 사용하면(대입, 조회( 전연변수 nㅁme를 가리킨다. 고 선언\n",
    "    name = '이순신'                   #전역변수의 값 변경.\n",
    "\n",
    "\n",
    "def func4():\n",
    "    name = '이순신'          #지역변수 (함수 안에 정의된 변수는 다 지역변수.)\n",
    "    print('func4: ', name)\n",
    "    \n",
    "def func1():\n",
    "    age = 10               # 지역변수: 함수 안에 선언 및 초기화 ==> 함수 안에서만 조회가 가능하다.\n",
    "    print(name, age)\n",
    "    \n",
    "def func2():\n",
    "    age = 30\n",
    "    print(name, age)\n",
    "    \n",
    "def func3():     # func3가 출력되려면, 지역변수 age가 있던지 혹은 맨위 전역변수에 age가 있어야 한다.  \n",
    "    print(age)\n",
    "    "
   ]
  },
  {
   "cell_type": "code",
   "execution_count": 154,
   "metadata": {
    "ExecuteTime": {
     "end_time": "2022-12-26T05:40:48.231471Z",
     "start_time": "2022-12-26T05:40:48.224221Z"
    }
   },
   "outputs": [
    {
     "name": "stdout",
     "output_type": "stream",
     "text": [
      "홍길동 10\n",
      "이순신 10\n"
     ]
    }
   ],
   "source": [
    "func1()\n",
    "func5()\n",
    "func1()"
   ]
  },
  {
   "cell_type": "code",
   "execution_count": 138,
   "metadata": {
    "ExecuteTime": {
     "end_time": "2022-12-26T05:32:04.519399Z",
     "start_time": "2022-12-26T05:32:04.512574Z"
    }
   },
   "outputs": [
    {
     "name": "stdout",
     "output_type": "stream",
     "text": [
      "func4:  이순신\n",
      "홍길동 10\n"
     ]
    }
   ],
   "source": [
    "func4()\n",
    "func1()\n"
   ]
  },
  {
   "cell_type": "code",
   "execution_count": 139,
   "metadata": {
    "ExecuteTime": {
     "end_time": "2022-12-26T05:33:25.977519Z",
     "start_time": "2022-12-26T05:33:25.954431Z"
    }
   },
   "outputs": [
    {
     "name": "stdout",
     "output_type": "stream",
     "text": [
      "홍길동 10\n",
      "홍길동 30\n"
     ]
    },
    {
     "ename": "NameError",
     "evalue": "name 'age' is not defined",
     "output_type": "error",
     "traceback": [
      "\u001b[0;31m---------------------------------------------------------------------------\u001b[0m",
      "\u001b[0;31mNameError\u001b[0m                                 Traceback (most recent call last)",
      "\u001b[0;32m/var/folders/jf/l3x8dj6n62s041cwvf169t5w0000gn/T/ipykernel_19432/2875283223.py\u001b[0m in \u001b[0;36m<module>\u001b[0;34m\u001b[0m\n\u001b[1;32m      1\u001b[0m \u001b[0mfunc1\u001b[0m\u001b[0;34m(\u001b[0m\u001b[0;34m)\u001b[0m\u001b[0;34m\u001b[0m\u001b[0;34m\u001b[0m\u001b[0m\n\u001b[1;32m      2\u001b[0m \u001b[0mfunc2\u001b[0m\u001b[0;34m(\u001b[0m\u001b[0;34m)\u001b[0m\u001b[0;34m\u001b[0m\u001b[0;34m\u001b[0m\u001b[0m\n\u001b[0;32m----> 3\u001b[0;31m \u001b[0mfunc3\u001b[0m\u001b[0;34m(\u001b[0m\u001b[0;34m)\u001b[0m\u001b[0;34m\u001b[0m\u001b[0;34m\u001b[0m\u001b[0m\n\u001b[0m",
      "\u001b[0;32m/var/folders/jf/l3x8dj6n62s041cwvf169t5w0000gn/T/ipykernel_19432/3053246390.py\u001b[0m in \u001b[0;36mfunc3\u001b[0;34m()\u001b[0m\n\u001b[1;32m     14\u001b[0m \u001b[0;34m\u001b[0m\u001b[0m\n\u001b[1;32m     15\u001b[0m \u001b[0;32mdef\u001b[0m \u001b[0mfunc3\u001b[0m\u001b[0;34m(\u001b[0m\u001b[0;34m)\u001b[0m\u001b[0;34m:\u001b[0m     \u001b[0;31m# func3가 출력되려면, 지역변수 age가 있던지 혹은 맨위 전역변수에 age가 있어야 한다.\u001b[0m\u001b[0;34m\u001b[0m\u001b[0;34m\u001b[0m\u001b[0m\n\u001b[0;32m---> 16\u001b[0;31m     \u001b[0mprint\u001b[0m\u001b[0;34m(\u001b[0m\u001b[0mage\u001b[0m\u001b[0;34m)\u001b[0m\u001b[0;34m\u001b[0m\u001b[0;34m\u001b[0m\u001b[0m\n\u001b[0m\u001b[1;32m     17\u001b[0m \u001b[0;34m\u001b[0m\u001b[0m\n",
      "\u001b[0;31mNameError\u001b[0m: name 'age' is not defined"
     ]
    }
   ],
   "source": [
    "func1()\n",
    "func2()\n",
    "func3()"
   ]
  },
  {
   "cell_type": "code",
   "execution_count": null,
   "metadata": {},
   "outputs": [],
   "source": []
  },
  {
   "cell_type": "markdown",
   "metadata": {
    "slideshow": {
     "slide_type": "slide"
    }
   },
   "source": [
    "# 함수는 일급시민객체 => 함수는 값이다.\n",
    "- 일급시민객체\n",
    "    1. 변수에 대입 할 수 있다.\n",
    "    1. 함수 호출할때 argument로 사용할 수 있다.\n",
    "    1. 함수의 return 값으로 사용할 수 있다.\n"
   ]
  },
  {
   "cell_type": "code",
   "execution_count": 157,
   "metadata": {
    "ExecuteTime": {
     "end_time": "2022-12-26T05:46:28.484265Z",
     "start_time": "2022-12-26T05:46:28.473339Z"
    }
   },
   "outputs": [
    {
     "name": "stdout",
     "output_type": "stream",
     "text": [
      "Hello World\n",
      "None\n"
     ]
    }
   ],
   "source": [
    "def hello():                 # 1. 변수에 대입할 수 있다 --> 변수를 다른 변수 이름에 수시로 대입 가능하다.\n",
    "    print ('Hello World')\n",
    "    \n",
    "v = hello()\n",
    "print(v)"
   ]
  },
  {
   "cell_type": "code",
   "execution_count": 159,
   "metadata": {
    "ExecuteTime": {
     "end_time": "2022-12-26T05:47:34.593539Z",
     "start_time": "2022-12-26T05:47:34.582164Z"
    }
   },
   "outputs": [
    {
     "name": "stdout",
     "output_type": "stream",
     "text": [
      "<class 'function'> <function hello at 0x7fc7902f1b80>\n"
     ]
    }
   ],
   "source": [
    "my_hello = hello                # 괄호 없는 것은?? 함수를 my_hello라는 변수에 대입한 것.\n",
    "print(type(my_hello), my_hello)"
   ]
  },
  {
   "cell_type": "code",
   "execution_count": 160,
   "metadata": {
    "ExecuteTime": {
     "end_time": "2022-12-26T05:49:40.973776Z",
     "start_time": "2022-12-26T05:49:40.963711Z"
    }
   },
   "outputs": [
    {
     "name": "stdout",
     "output_type": "stream",
     "text": [
      "Hello World\n"
     ]
    }
   ],
   "source": [
    "my_hello()"
   ]
  },
  {
   "cell_type": "code",
   "execution_count": 162,
   "metadata": {
    "ExecuteTime": {
     "end_time": "2022-12-26T05:52:35.846481Z",
     "start_time": "2022-12-26T05:52:35.836464Z"
    }
   },
   "outputs": [
    {
     "name": "stdout",
     "output_type": "stream",
     "text": [
      "Hello World\n"
     ]
    }
   ],
   "source": [
    "your_hello = my_hello   #괄호 있는 것이 들어가는 것과 괄호 없는 것이 들어가는 것에 대한 차이점이 있다. \n",
    "your_hello()"
   ]
  },
  {
   "cell_type": "code",
   "execution_count": 164,
   "metadata": {
    "ExecuteTime": {
     "end_time": "2022-12-26T06:16:31.815541Z",
     "start_time": "2022-12-26T06:16:31.806013Z"
    },
    "slideshow": {
     "slide_type": "fragment"
    }
   },
   "outputs": [],
   "source": [
    "def plus(num1, num2):\n",
    "    # 함수에 구현 -> 값 두개를 어떻게 처리할지 로직\n",
    "    # 처리할 방법은 있는데 값은 없으니 받겠다는 것\n",
    "    # 처리할 값  -> parameter로 받는다. \n",
    "    return num1 + num2"
   ]
  },
  {
   "cell_type": "code",
   "execution_count": 165,
   "metadata": {
    "ExecuteTime": {
     "end_time": "2022-12-26T06:16:33.400530Z",
     "start_time": "2022-12-26T06:16:33.388392Z"
    }
   },
   "outputs": [
    {
     "data": {
      "text/plain": [
       "500"
      ]
     },
     "execution_count": 165,
     "metadata": {},
     "output_type": "execute_result"
    }
   ],
   "source": [
    "plus(1,2)\n",
    "plus(100,400)"
   ]
  },
  {
   "cell_type": "code",
   "execution_count": 172,
   "metadata": {
    "ExecuteTime": {
     "end_time": "2022-12-26T06:24:07.658297Z",
     "start_time": "2022-12-26T06:24:07.647064Z"
    }
   },
   "outputs": [],
   "source": [
    "def calc(func):\n",
    "    # 처리할 값을 함수가 가지고 있지만, 어떻게 처리할지 방법이 없다. \n",
    "    num1, num2 = 10, 20 \n",
    "    result = func(num1, num2)\n",
    "    print('계산결과: ', result)"
   ]
  },
  {
   "cell_type": "code",
   "execution_count": 168,
   "metadata": {
    "ExecuteTime": {
     "end_time": "2022-12-26T06:22:20.006158Z",
     "start_time": "2022-12-26T06:22:19.997585Z"
    }
   },
   "outputs": [],
   "source": [
    "def plus(n1, n2):\n",
    "    return n1 + n2\n",
    "\n",
    "def minus(n1, n2):\n",
    "    return n1 - n2\n",
    "\n",
    "def greater_than(n1, n2):\n",
    "    return n1 > n2\n"
   ]
  },
  {
   "cell_type": "code",
   "execution_count": 174,
   "metadata": {
    "ExecuteTime": {
     "end_time": "2022-12-26T06:27:07.554401Z",
     "start_time": "2022-12-26T06:27:07.543968Z"
    }
   },
   "outputs": [
    {
     "name": "stdout",
     "output_type": "stream",
     "text": [
      "계산결과:  30\n",
      "계산결과:  -10\n"
     ]
    }
   ],
   "source": [
    "calc(plus)\n",
    "calc(minus)"
   ]
  },
  {
   "cell_type": "code",
   "execution_count": null,
   "metadata": {},
   "outputs": [],
   "source": [
    "m_plus = plus\n"
   ]
  },
  {
   "cell_type": "markdown",
   "metadata": {
    "slideshow": {
     "slide_type": "slide"
    }
   },
   "source": [
    "## 람다식/람다표현식 (Lambda Expression)\n",
    "- 함수를 하나의 식을 이용해서 정의할때 사용하는 표현식(구문).\n",
    "- 값을 입력받아서 **간단한 처리한 결과**를 반환하는 간단한 함수를 표현식으로 정의할 수 있다.\n",
    "    - 처리결과를 return 하는 구문을 하나의 명령문으로 처리할 수 있을때 람다식을 사용할 수 있다. => return x + y\n",
    "- 구문\n",
    "```python\n",
    "lambda 매개변수[, 매개변수, ...] : 명령문(구문)\n",
    "```\n",
    "- 명령문(구문)은 하나의 실행문만 가능하다.\n",
    "- 명령문(구문)이 처리한 결과를 리턴해준다.\n",
    "- **람다식은 함수의 매개변수로 함수를 전달하는 일회성 함수를 만들때 주로 사용한다.**"
   ]
  },
  {
   "cell_type": "code",
   "execution_count": null,
   "metadata": {
    "slideshow": {
     "slide_type": "fragment"
    }
   },
   "outputs": [],
   "source": [
    "# 람다식은 자동 return 된다. 그래서 리턴 구문이 들어가지 않는다. \n",
    "# 1회성으로 사용할 때 사용한다. \n"
   ]
  },
  {
   "cell_type": "code",
   "execution_count": 182,
   "metadata": {
    "ExecuteTime": {
     "end_time": "2022-12-26T06:34:25.118344Z",
     "start_time": "2022-12-26T06:34:25.107041Z"
    }
   },
   "outputs": [],
   "source": [
    "def plus(n1, n2):\n",
    "    return n1 + n2\n",
    "\n",
    "plus2 = lambda n1, n2 : n1 + n2\n",
    "              #매개변수   #리턴값\n"
   ]
  },
  {
   "cell_type": "code",
   "execution_count": 183,
   "metadata": {
    "ExecuteTime": {
     "end_time": "2022-12-26T06:34:26.511988Z",
     "start_time": "2022-12-26T06:34:26.501675Z"
    }
   },
   "outputs": [
    {
     "name": "stdout",
     "output_type": "stream",
     "text": [
      "300\n"
     ]
    }
   ],
   "source": [
    "r = plus2(100,200)\n",
    "print(r)"
   ]
  },
  {
   "cell_type": "code",
   "execution_count": 187,
   "metadata": {
    "ExecuteTime": {
     "end_time": "2022-12-26T06:36:40.471419Z",
     "start_time": "2022-12-26T06:36:40.459568Z"
    }
   },
   "outputs": [
    {
     "name": "stdout",
     "output_type": "stream",
     "text": [
      "False\n"
     ]
    }
   ],
   "source": [
    "def greater_than(n1, n2):\n",
    "    return n1> n2\n",
    "\n",
    "plus3 = lambda n1, n2 : n1 >n2\n",
    "\n",
    "r2 = plus3(100,200)\n",
    "print(r2)"
   ]
  },
  {
   "cell_type": "code",
   "execution_count": 189,
   "metadata": {
    "ExecuteTime": {
     "end_time": "2022-12-26T06:38:26.042643Z",
     "start_time": "2022-12-26T06:38:26.033643Z"
    }
   },
   "outputs": [
    {
     "name": "stdout",
     "output_type": "stream",
     "text": [
      "계산결과:  -10\n"
     ]
    }
   ],
   "source": [
    "calc(lambda n1, n2: n1-n2)"
   ]
  },
  {
   "cell_type": "code",
   "execution_count": 191,
   "metadata": {
    "ExecuteTime": {
     "end_time": "2022-12-26T06:39:10.093971Z",
     "start_time": "2022-12-26T06:39:10.083305Z"
    }
   },
   "outputs": [
    {
     "name": "stdout",
     "output_type": "stream",
     "text": [
      "계산결과:  True\n"
     ]
    }
   ],
   "source": [
    "calc(lambda n1, n2: n1<= n2)"
   ]
  },
  {
   "cell_type": "code",
   "execution_count": 193,
   "metadata": {
    "ExecuteTime": {
     "end_time": "2022-12-26T06:40:21.701850Z",
     "start_time": "2022-12-26T06:40:21.688486Z"
    }
   },
   "outputs": [
    {
     "data": {
      "text/plain": [
       "300"
      ]
     },
     "execution_count": 193,
     "metadata": {},
     "output_type": "execute_result"
    }
   ],
   "source": [
    "n1, n2 = 100, 200\n",
    "plus(n1, n2)"
   ]
  },
  {
   "cell_type": "markdown",
   "metadata": {
    "slideshow": {
     "slide_type": "slide"
    }
   },
   "source": [
    "### iterable 관련 함수에서 함수를 매개변수로 받아 처리하는 함수들\n",
    "- sorted(iterable, reverse=False, key=None)\n",
    "    - 정렬처리\n",
    "    - 매개변수\n",
    "        - reverse: True - 내림차순, False - 오름차순(기본)\n",
    "        - key: 함수 \n",
    "            - Parameter로 iterable의 각 원소를 받는 함수.\n",
    "            - 정렬을 할 때 iterable의 원소기준으로 정렬하는 것이 아니라 이 함수가 반환하는 값을 기준으로 정렬\n",
    "- filter(함수, Iterable)\n",
    "    - Iterable의 원소들 중에서 특정 조건을 만족하는 원소들만 걸러주는 함수\n",
    "    - 함수\n",
    "        - 어떻게 걸러낼 것인지 조건을 정의. 매개변수 1개, 반환값 bool\n",
    "        - 원소 하나 하나를 함수에 전달해 True를 반환하는 것만 반환\n",
    "- map(함수, Iterable)\n",
    "    - Iterable의 원소들 하나 하나를 처리(변형)해서 그 결과를 반환\n",
    "    - 함수\n",
    "        - 원소들을 어떻게 처리할지 정의. 매개변수 1개. 반환값: 처리 결과\n",
    "- **filter/map 반환타입**: generator 형태로 반환 된다. (리스트가 아님)"
   ]
  },
  {
   "cell_type": "code",
   "execution_count": null,
   "metadata": {},
   "outputs": [],
   "source": [
    "##filter, map = for문 매핑을 함수로 표현 한 것이라고 생각하면 된다. \n",
    "##filter는 걸러내는 것"
   ]
  },
  {
   "cell_type": "code",
   "execution_count": 194,
   "metadata": {
    "ExecuteTime": {
     "end_time": "2022-12-26T06:44:33.555825Z",
     "start_time": "2022-12-26T06:44:33.542586Z"
    }
   },
   "outputs": [
    {
     "data": {
      "text/plain": [
       "['aaa', 'ab', 'ba', 'c', 'e', '가', '안녕하세요']"
      ]
     },
     "execution_count": 194,
     "metadata": {},
     "output_type": "execute_result"
    }
   ],
   "source": [
    "l = ['aaa','c', 'e','ba', 'ab','안녕하세요', '가']\n",
    "sorted(l)"
   ]
  },
  {
   "cell_type": "code",
   "execution_count": 197,
   "metadata": {
    "ExecuteTime": {
     "end_time": "2022-12-26T06:47:11.015864Z",
     "start_time": "2022-12-26T06:47:11.006194Z"
    }
   },
   "outputs": [],
   "source": [
    "def sort_elem(word):\n",
    "    return len(word)"
   ]
  },
  {
   "cell_type": "code",
   "execution_count": 198,
   "metadata": {
    "ExecuteTime": {
     "end_time": "2022-12-26T06:47:12.436192Z",
     "start_time": "2022-12-26T06:47:12.423568Z"
    }
   },
   "outputs": [
    {
     "name": "stdout",
     "output_type": "stream",
     "text": [
      "3\n",
      "1\n",
      "1\n",
      "2\n",
      "2\n",
      "5\n",
      "1\n"
     ]
    }
   ],
   "source": [
    "for w in l:\n",
    "    print(sort_elem(w))"
   ]
  },
  {
   "cell_type": "code",
   "execution_count": 199,
   "metadata": {
    "ExecuteTime": {
     "end_time": "2022-12-26T06:47:26.969706Z",
     "start_time": "2022-12-26T06:47:26.957087Z"
    }
   },
   "outputs": [
    {
     "data": {
      "text/plain": [
       "['c', 'e', '가', 'ba', 'ab', 'aaa', '안녕하세요']"
      ]
     },
     "execution_count": 199,
     "metadata": {},
     "output_type": "execute_result"
    }
   ],
   "source": [
    "#글자수(글자수 많은 순서) 순서로 정렬하고 싶다면...?\n",
    "sorted(l, key=sort_elem )\n",
    "# sorted(l key=len)  이렇게도 쓸수 있다. 결과값은 동일하다.\n"
   ]
  },
  {
   "cell_type": "code",
   "execution_count": 200,
   "metadata": {
    "ExecuteTime": {
     "end_time": "2022-12-26T06:48:11.418162Z",
     "start_time": "2022-12-26T06:48:11.404119Z"
    }
   },
   "outputs": [
    {
     "data": {
      "text/plain": [
       "['안녕하세요', 'aaa', 'ba', 'ab', 'c', 'e', '가']"
      ]
     },
     "execution_count": 200,
     "metadata": {},
     "output_type": "execute_result"
    }
   ],
   "source": [
    "sorted(l, key=sort_elem, reverse=True )"
   ]
  },
  {
   "cell_type": "code",
   "execution_count": 203,
   "metadata": {
    "ExecuteTime": {
     "end_time": "2022-12-26T07:15:45.294792Z",
     "start_time": "2022-12-26T07:15:45.279818Z"
    },
    "collapsed": true
   },
   "outputs": [
    {
     "data": {
      "text/plain": [
       "[1,\n",
       " 2,\n",
       " 3,\n",
       " 4,\n",
       " 5,\n",
       " 6,\n",
       " 7,\n",
       " 8,\n",
       " 9,\n",
       " 10,\n",
       " 11,\n",
       " 12,\n",
       " 13,\n",
       " 14,\n",
       " 15,\n",
       " 16,\n",
       " 17,\n",
       " 18,\n",
       " 19,\n",
       " 20,\n",
       " 21,\n",
       " 22,\n",
       " 23,\n",
       " 24,\n",
       " 25,\n",
       " 26,\n",
       " 27,\n",
       " 28,\n",
       " 29,\n",
       " 30,\n",
       " 31,\n",
       " 32,\n",
       " 33,\n",
       " 34,\n",
       " 35,\n",
       " 36,\n",
       " 37,\n",
       " 38,\n",
       " 39,\n",
       " 40,\n",
       " 41,\n",
       " 42,\n",
       " 43,\n",
       " 44,\n",
       " 45,\n",
       " 46,\n",
       " 47,\n",
       " 48,\n",
       " 49,\n",
       " 50,\n",
       " 51,\n",
       " 52,\n",
       " 53,\n",
       " 54,\n",
       " 55,\n",
       " 56,\n",
       " 57,\n",
       " 58,\n",
       " 59,\n",
       " 60,\n",
       " 61,\n",
       " 62,\n",
       " 63,\n",
       " 64,\n",
       " 65,\n",
       " 66,\n",
       " 67,\n",
       " 68,\n",
       " 69,\n",
       " 70,\n",
       " 71,\n",
       " 72,\n",
       " 73,\n",
       " 74,\n",
       " 75,\n",
       " 76,\n",
       " 77,\n",
       " 78,\n",
       " 79,\n",
       " 80,\n",
       " 81,\n",
       " 82,\n",
       " 83,\n",
       " 84,\n",
       " 85,\n",
       " 86,\n",
       " 87,\n",
       " 88,\n",
       " 89,\n",
       " 90,\n",
       " 91,\n",
       " 92,\n",
       " 93,\n",
       " 94,\n",
       " 95,\n",
       " 96,\n",
       " 97,\n",
       " 98,\n",
       " 99]"
      ]
     },
     "execution_count": 203,
     "metadata": {},
     "output_type": "execute_result"
    }
   ],
   "source": [
    "nums = list(range(1,100))\n",
    "nums"
   ]
  },
  {
   "cell_type": "code",
   "execution_count": 205,
   "metadata": {
    "ExecuteTime": {
     "end_time": "2022-12-26T07:17:19.578793Z",
     "start_time": "2022-12-26T07:17:19.564717Z"
    },
    "collapsed": true
   },
   "outputs": [
    {
     "data": {
      "text/plain": [
       "[2,\n",
       " 4,\n",
       " 6,\n",
       " 8,\n",
       " 10,\n",
       " 12,\n",
       " 14,\n",
       " 16,\n",
       " 18,\n",
       " 20,\n",
       " 22,\n",
       " 24,\n",
       " 26,\n",
       " 28,\n",
       " 30,\n",
       " 32,\n",
       " 34,\n",
       " 36,\n",
       " 38,\n",
       " 40,\n",
       " 42,\n",
       " 44,\n",
       " 46,\n",
       " 48,\n",
       " 50,\n",
       " 52,\n",
       " 54,\n",
       " 56,\n",
       " 58,\n",
       " 60,\n",
       " 62,\n",
       " 64,\n",
       " 66,\n",
       " 68,\n",
       " 70,\n",
       " 72,\n",
       " 74,\n",
       " 76,\n",
       " 78,\n",
       " 80,\n",
       " 82,\n",
       " 84,\n",
       " 86,\n",
       " 88,\n",
       " 90,\n",
       " 92,\n",
       " 94,\n",
       " 96,\n",
       " 98]"
      ]
     },
     "execution_count": 205,
     "metadata": {},
     "output_type": "execute_result"
    }
   ],
   "source": [
    "# nums에서 짝수만 조회\n",
    "result = []\n",
    "for v in nums:\n",
    "    if v % 2 == 0:\n",
    "        result. append(v)\n",
    "result"
   ]
  },
  {
   "cell_type": "code",
   "execution_count": 208,
   "metadata": {
    "ExecuteTime": {
     "end_time": "2022-12-26T07:18:12.353110Z",
     "start_time": "2022-12-26T07:18:12.335290Z"
    },
    "collapsed": true
   },
   "outputs": [
    {
     "data": {
      "text/plain": [
       "[2,\n",
       " 4,\n",
       " 6,\n",
       " 8,\n",
       " 10,\n",
       " 12,\n",
       " 14,\n",
       " 16,\n",
       " 18,\n",
       " 20,\n",
       " 22,\n",
       " 24,\n",
       " 26,\n",
       " 28,\n",
       " 30,\n",
       " 32,\n",
       " 34,\n",
       " 36,\n",
       " 38,\n",
       " 40,\n",
       " 42,\n",
       " 44,\n",
       " 46,\n",
       " 48,\n",
       " 50,\n",
       " 52,\n",
       " 54,\n",
       " 56,\n",
       " 58,\n",
       " 60,\n",
       " 62,\n",
       " 64,\n",
       " 66,\n",
       " 68,\n",
       " 70,\n",
       " 72,\n",
       " 74,\n",
       " 76,\n",
       " 78,\n",
       " 80,\n",
       " 82,\n",
       " 84,\n",
       " 86,\n",
       " 88,\n",
       " 90,\n",
       " 92,\n",
       " 94,\n",
       " 96,\n",
       " 98]"
      ]
     },
     "execution_count": 208,
     "metadata": {},
     "output_type": "execute_result"
    }
   ],
   "source": [
    "result2 = [v for v in nums if v%2==0]\n",
    "result2"
   ]
  },
  {
   "cell_type": "code",
   "execution_count": 209,
   "metadata": {
    "ExecuteTime": {
     "end_time": "2022-12-26T07:18:54.322149Z",
     "start_time": "2022-12-26T07:18:54.315416Z"
    }
   },
   "outputs": [],
   "source": [
    "def func(num):\n",
    "    #dnjsthfmf qkedktj\n",
    "    return num%2 == 0 #bool 값을 반환"
   ]
  },
  {
   "cell_type": "code",
   "execution_count": 210,
   "metadata": {
    "ExecuteTime": {
     "end_time": "2022-12-26T07:19:58.829424Z",
     "start_time": "2022-12-26T07:19:58.817103Z"
    },
    "collapsed": true
   },
   "outputs": [
    {
     "name": "stdout",
     "output_type": "stream",
     "text": [
      "<class 'filter'>\n",
      "2\n",
      "4\n",
      "6\n",
      "8\n",
      "10\n",
      "12\n",
      "14\n",
      "16\n",
      "18\n",
      "20\n",
      "22\n",
      "24\n",
      "26\n",
      "28\n",
      "30\n",
      "32\n",
      "34\n",
      "36\n",
      "38\n",
      "40\n",
      "42\n",
      "44\n",
      "46\n",
      "48\n",
      "50\n",
      "52\n",
      "54\n",
      "56\n",
      "58\n",
      "60\n",
      "62\n",
      "64\n",
      "66\n",
      "68\n",
      "70\n",
      "72\n",
      "74\n",
      "76\n",
      "78\n",
      "80\n",
      "82\n",
      "84\n",
      "86\n",
      "88\n",
      "90\n",
      "92\n",
      "94\n",
      "96\n",
      "98\n"
     ]
    }
   ],
   "source": [
    "result_gen = filter(func, nums)\n",
    "print(type(result_gen))\n",
    "for r in result_gen:\n",
    "    print(r)"
   ]
  },
  {
   "cell_type": "code",
   "execution_count": 211,
   "metadata": {
    "ExecuteTime": {
     "end_time": "2022-12-26T07:25:36.188213Z",
     "start_time": "2022-12-26T07:25:36.177496Z"
    },
    "collapsed": true
   },
   "outputs": [
    {
     "name": "stdout",
     "output_type": "stream",
     "text": [
      "0.1\n",
      "0.2\n",
      "0.3\n",
      "0.4\n",
      "0.5\n",
      "0.6\n",
      "0.7\n",
      "0.8\n",
      "0.9\n",
      "1.0\n",
      "1.1\n",
      "1.2\n",
      "1.3\n",
      "1.4\n",
      "1.5\n",
      "1.6\n",
      "1.7\n",
      "1.8\n",
      "1.9\n",
      "2.0\n",
      "2.1\n",
      "2.2\n",
      "2.3\n",
      "2.4\n",
      "2.5\n",
      "2.6\n",
      "2.7\n",
      "2.8\n",
      "2.9\n",
      "3.0\n",
      "3.1\n",
      "3.2\n",
      "3.3\n",
      "3.4\n",
      "3.5\n",
      "3.6\n",
      "3.7\n",
      "3.8\n",
      "3.9\n",
      "4.0\n",
      "4.1\n",
      "4.2\n",
      "4.3\n",
      "4.4\n",
      "4.5\n",
      "4.6\n",
      "4.7\n",
      "4.8\n",
      "4.9\n",
      "5.0\n",
      "5.1\n",
      "5.2\n",
      "5.3\n",
      "5.4\n",
      "5.5\n",
      "5.6\n",
      "5.7\n",
      "5.8\n",
      "5.9\n",
      "6.0\n",
      "6.1\n",
      "6.2\n",
      "6.3\n",
      "6.4\n",
      "6.5\n",
      "6.6\n",
      "6.7\n",
      "6.8\n",
      "6.9\n",
      "7.0\n",
      "7.1\n",
      "7.2\n",
      "7.3\n",
      "7.4\n",
      "7.5\n",
      "7.6\n",
      "7.7\n",
      "7.8\n",
      "7.9\n",
      "8.0\n",
      "8.1\n",
      "8.2\n",
      "8.3\n",
      "8.4\n",
      "8.5\n",
      "8.6\n",
      "8.7\n",
      "8.8\n",
      "8.9\n",
      "9.0\n",
      "9.1\n",
      "9.2\n",
      "9.3\n",
      "9.4\n",
      "9.5\n",
      "9.6\n",
      "9.7\n",
      "9.8\n",
      "9.9\n"
     ]
    }
   ],
   "source": [
    "## mapping\n",
    "\n",
    "for v in map(lambda num : num / 10, nums):\n",
    "    print(v)\n"
   ]
  },
  {
   "cell_type": "code",
   "execution_count": 212,
   "metadata": {
    "ExecuteTime": {
     "end_time": "2022-12-26T07:26:29.875451Z",
     "start_time": "2022-12-26T07:26:29.859292Z"
    },
    "collapsed": true
   },
   "outputs": [
    {
     "data": {
      "text/plain": [
       "[0.1,\n",
       " 0.2,\n",
       " 0.3,\n",
       " 0.4,\n",
       " 0.5,\n",
       " 0.6,\n",
       " 0.7,\n",
       " 0.8,\n",
       " 0.9,\n",
       " 1.0,\n",
       " 1.1,\n",
       " 1.2,\n",
       " 1.3,\n",
       " 1.4,\n",
       " 1.5,\n",
       " 1.6,\n",
       " 1.7,\n",
       " 1.8,\n",
       " 1.9,\n",
       " 2.0,\n",
       " 2.1,\n",
       " 2.2,\n",
       " 2.3,\n",
       " 2.4,\n",
       " 2.5,\n",
       " 2.6,\n",
       " 2.7,\n",
       " 2.8,\n",
       " 2.9,\n",
       " 3.0,\n",
       " 3.1,\n",
       " 3.2,\n",
       " 3.3,\n",
       " 3.4,\n",
       " 3.5,\n",
       " 3.6,\n",
       " 3.7,\n",
       " 3.8,\n",
       " 3.9,\n",
       " 4.0,\n",
       " 4.1,\n",
       " 4.2,\n",
       " 4.3,\n",
       " 4.4,\n",
       " 4.5,\n",
       " 4.6,\n",
       " 4.7,\n",
       " 4.8,\n",
       " 4.9,\n",
       " 5.0,\n",
       " 5.1,\n",
       " 5.2,\n",
       " 5.3,\n",
       " 5.4,\n",
       " 5.5,\n",
       " 5.6,\n",
       " 5.7,\n",
       " 5.8,\n",
       " 5.9,\n",
       " 6.0,\n",
       " 6.1,\n",
       " 6.2,\n",
       " 6.3,\n",
       " 6.4,\n",
       " 6.5,\n",
       " 6.6,\n",
       " 6.7,\n",
       " 6.8,\n",
       " 6.9,\n",
       " 7.0,\n",
       " 7.1,\n",
       " 7.2,\n",
       " 7.3,\n",
       " 7.4,\n",
       " 7.5,\n",
       " 7.6,\n",
       " 7.7,\n",
       " 7.8,\n",
       " 7.9,\n",
       " 8.0,\n",
       " 8.1,\n",
       " 8.2,\n",
       " 8.3,\n",
       " 8.4,\n",
       " 8.5,\n",
       " 8.6,\n",
       " 8.7,\n",
       " 8.8,\n",
       " 8.9,\n",
       " 9.0,\n",
       " 9.1,\n",
       " 9.2,\n",
       " 9.3,\n",
       " 9.4,\n",
       " 9.5,\n",
       " 9.6,\n",
       " 9.7,\n",
       " 9.8,\n",
       " 9.9]"
      ]
     },
     "execution_count": 212,
     "metadata": {},
     "output_type": "execute_result"
    }
   ],
   "source": [
    "[v/10 for v in nums]"
   ]
  },
  {
   "cell_type": "code",
   "execution_count": null,
   "metadata": {},
   "outputs": [],
   "source": []
  },
  {
   "cell_type": "code",
   "execution_count": null,
   "metadata": {},
   "outputs": [],
   "source": []
  },
  {
   "cell_type": "markdown",
   "metadata": {
    "slideshow": {
     "slide_type": "subslide"
    }
   },
   "source": [
    "# docstring\n",
    "- 함수에 대한 설명\n",
    "- 함수의 구현부의 첫번째에 여러줄 문자열로 작성한다.\n",
    "- 함수 매개변수/리턴타입에 대한 힌트(주석)"
   ]
  },
  {
   "cell_type": "code",
   "execution_count": null,
   "metadata": {
    "slideshow": {
     "slide_type": "fragment"
    }
   },
   "outputs": [],
   "source": [
    "# 프로그램 실행과는 상관이 없지만, 설명을 달아주는 주석이라고 생각하면 된다. \n",
    "# 우리가 만든 함수에 대한 설명!!!!"
   ]
  },
  {
   "cell_type": "code",
   "execution_count": 214,
   "metadata": {
    "ExecuteTime": {
     "end_time": "2022-12-26T07:38:40.131634Z",
     "start_time": "2022-12-26T07:38:40.121400Z"
    }
   },
   "outputs": [],
   "source": [
    "def greeting(name:str, age:int, address:str=None)  -> str:\n",
    "    \"\"\"\n",
    "    함수에 대한 설명\n",
    "    parameter:\n",
    "        변수명 : 데이터 타입 - 설명\n",
    "        name: sr. - name 파라이미터 설명\n",
    "        age : int. -age 파라미터 설명\n",
    "        address: str = None - address 파라미터 설명.\n",
    "    return:\n",
    "        리턴 값의 타입  - 리턴 값에 대한 설명\n",
    "        str - 인사말을 반환한다.\n",
    "    raise: \n",
    "        함수 실행도중 발생 가능성이 있는 Exception타입을 설명.\n",
    "        TypeError: 이름, 나이를 입력받지 못하면 발생.\n",
    "    \"\"\"\n",
    "    return f\"{address}에 사는 {age}세의 {name}님 안녕하세요.\""
   ]
  },
  {
   "cell_type": "code",
   "execution_count": 215,
   "metadata": {
    "ExecuteTime": {
     "end_time": "2022-12-26T07:38:42.433343Z",
     "start_time": "2022-12-26T07:38:42.421968Z"
    }
   },
   "outputs": [
    {
     "name": "stdout",
     "output_type": "stream",
     "text": [
      "Help on function greeting in module __main__:\n",
      "\n",
      "greeting(name, age, address)\n",
      "    함수에 대한 설명\n",
      "    parameter:\n",
      "        변수명 : 데이터 타입 - 설명\n",
      "        name: sr. - name 파라이미터 설명\n",
      "        age : int. -age 파라미터 설명\n",
      "        address: str = None - address 파라미터 설명.\n",
      "    return:\n",
      "        리턴 값의 타입  - 리턴 값에 대한 설명\n",
      "        str - 인사말을 반환한다.\n",
      "    raise: \n",
      "        함수 실행도중 발생 가능성이 있는 Exception타입을 설명.\n",
      "        TypeError: 이름, 나이를 입력받지 못하면 발생.\n",
      "\n"
     ]
    }
   ],
   "source": [
    "help(greeting)                 #파이썬식 주석 보는 방법"
   ]
  },
  {
   "cell_type": "code",
   "execution_count": 216,
   "metadata": {
    "ExecuteTime": {
     "end_time": "2022-12-26T07:39:05.054496Z",
     "start_time": "2022-12-26T07:39:04.998232Z"
    }
   },
   "outputs": [],
   "source": [
    "greeting?                    #쥬피터식 주석 보는 방법"
   ]
  },
  {
   "cell_type": "code",
   "execution_count": null,
   "metadata": {},
   "outputs": [],
   "source": [
    "greeting #shift + tab"
   ]
  },
  {
   "cell_type": "markdown",
   "metadata": {
    "slideshow": {
     "slide_type": "subslide"
    }
   },
   "source": [
    "### pass 키워드(예약어)\n",
    "- 빈 구현부를 만들때 사용\n",
    "    - 코드블럭을 하는 일 없이 채울 때 사용\n",
    "    - `...` 을 대신 사용할 수 있다."
   ]
  },
  {
   "cell_type": "code",
   "execution_count": 217,
   "metadata": {
    "ExecuteTime": {
     "end_time": "2022-12-26T07:46:16.491925Z",
     "start_time": "2022-12-26T07:46:16.481155Z"
    }
   },
   "outputs": [],
   "source": [
    "def test1():\n",
    "    pass\n",
    "\n",
    "def test2():\n",
    "    pass\n",
    "\n",
    "def test3():\n",
    "    pass"
   ]
  },
  {
   "cell_type": "code",
   "execution_count": null,
   "metadata": {},
   "outputs": [],
   "source": [
    "a = 10\n",
    "if a>10:\n",
    "    pass\n",
    "else:\n",
    "    print(a)   "
   ]
  },
  {
   "cell_type": "code",
   "execution_count": null,
   "metadata": {},
   "outputs": [],
   "source": [
    "def test5():\n",
    "    ...            #...은 pass 대용(대신 쓸수 있다) / 가급적 pass를 써라."
   ]
  },
  {
   "cell_type": "markdown",
   "metadata": {
    "slideshow": {
     "slide_type": "skip"
    }
   },
   "source": [
    "# TODO"
   ]
  },
  {
   "cell_type": "code",
   "execution_count": 224,
   "metadata": {
    "ExecuteTime": {
     "end_time": "2022-12-26T08:12:20.214539Z",
     "start_time": "2022-12-26T08:12:20.203370Z"
    },
    "slideshow": {
     "slide_type": "skip"
    }
   },
   "outputs": [],
   "source": [
    "# 1. 사용자가 입력한 단의 구구단을 출력하는 함수를 구현(매개변수로 단을 받는다.)\n",
    "\n",
    "def guguNormal(n):\n",
    "    \"\"\"\n",
    "    단을 입력 받아서 구구단을 출력하는 함수.\n",
    "    parameter:\n",
    "       dan:int - 출력할 단을 2~9 사이 정수로 입력받는다.\n",
    "    return\n",
    "    raise\n",
    "    \"\"\"\n",
    "    for m in range(1, 10):\n",
    "        print(f'{n} x {m} = {n * m}') "
   ]
  },
  {
   "cell_type": "code",
   "execution_count": 228,
   "metadata": {
    "ExecuteTime": {
     "end_time": "2022-12-26T08:16:06.950783Z",
     "start_time": "2022-12-26T08:16:06.459655Z"
    },
    "scrolled": true
   },
   "outputs": [
    {
     "name": "stdout",
     "output_type": "stream",
     "text": [
      "단수를 입력하세요: 2\n",
      "2 x 1 = 2\n",
      "2 x 2 = 4\n",
      "2 x 3 = 6\n",
      "2 x 4 = 8\n",
      "2 x 5 = 10\n",
      "2 x 6 = 12\n",
      "2 x 7 = 14\n",
      "2 x 8 = 16\n",
      "2 x 9 = 18\n"
     ]
    }
   ],
   "source": [
    "n = int(input(\"단수를 입력하세요: \"))\n",
    "guguNormal(n)"
   ]
  },
  {
   "cell_type": "code",
   "execution_count": 234,
   "metadata": {
    "ExecuteTime": {
     "end_time": "2022-12-26T08:26:59.700920Z",
     "start_time": "2022-12-26T08:26:59.688183Z"
    },
    "slideshow": {
     "slide_type": "skip"
    }
   },
   "outputs": [],
   "source": [
    "# 2. 시작 정수, 끝 정수를 받아 그 사이의 모든 정수의 합을 구해서 반환하는 함수를 구현(\n",
    "# ex: 1, 20 => 1에서 20 사이의 모든 정수의 합계)\n",
    "\n",
    "def sum_n(n):\n",
    "    s = 0 # 합을 계산할 변수\n",
    "    for i in range(1, n + 1): # 1부터 n까지 반복(n + 1은 제외)\n",
    "        s = s + i\n",
    "    return s\n",
    " "
   ]
  },
  {
   "cell_type": "code",
   "execution_count": 235,
   "metadata": {
    "ExecuteTime": {
     "end_time": "2022-12-26T08:27:04.345940Z",
     "start_time": "2022-12-26T08:27:04.335709Z"
    }
   },
   "outputs": [
    {
     "name": "stdout",
     "output_type": "stream",
     "text": [
      "231\n"
     ]
    }
   ],
   "source": [
    "print(sum_n(21))"
   ]
  },
  {
   "cell_type": "code",
   "execution_count": 281,
   "metadata": {
    "ExecuteTime": {
     "end_time": "2022-12-27T00:55:06.868034Z",
     "start_time": "2022-12-27T00:55:06.861734Z"
    }
   },
   "outputs": [],
   "source": [
    "# 선생님 버전.\n",
    "def accumulate(start:int, stop:int)->int:\n",
    "    \"\"\"\n",
    "    특정 범위의 정수들의 합계를 계산하는 함수\n",
    "    parameter:\n",
    "        starter: ing - 범위의 시작값\n",
    "        stop   : int - 범위의 끝값\n",
    "    return:\n",
    "        int - 범위의 값을 누적한 합게를 반환.\n",
    "    raise\n",
    "    example:\n",
    "        >> i = acumulate(1,18)\n",
    "        >> print(i)\n",
    "        55\n",
    "    \"\"\"\n",
    "    \n",
    "    result = 0\n",
    "    for v in range(start, stop+1):\n",
    "        result += v\n",
    "    return result\n"
   ]
  },
  {
   "cell_type": "code",
   "execution_count": 282,
   "metadata": {
    "ExecuteTime": {
     "end_time": "2022-12-27T00:55:08.969938Z",
     "start_time": "2022-12-27T00:55:08.958179Z"
    }
   },
   "outputs": [
    {
     "data": {
      "text/plain": [
       "(55, 15)"
      ]
     },
     "execution_count": 282,
     "metadata": {},
     "output_type": "execute_result"
    }
   ],
   "source": [
    "accumulate(1, 10), accumulate(1, 5)"
   ]
  },
  {
   "cell_type": "code",
   "execution_count": 283,
   "metadata": {
    "ExecuteTime": {
     "end_time": "2022-12-27T01:14:59.805861Z",
     "start_time": "2022-12-27T01:14:59.797118Z"
    },
    "slideshow": {
     "slide_type": "skip"
    }
   },
   "outputs": [],
   "source": [
    "# 3. 2번 문제에서 시작을 받지 않은 경우 0부터, 끝 정수를 받지 않으면 10까지 들어가도록 구현을 변경\n",
    "\n",
    "#선생님 ver.\n",
    "\n",
    "def accumulate2(start=0, stop=10):\n",
    "    return sum(range(start, stop+1))"
   ]
  },
  {
   "cell_type": "code",
   "execution_count": 287,
   "metadata": {
    "ExecuteTime": {
     "end_time": "2022-12-27T01:17:30.607866Z",
     "start_time": "2022-12-27T01:17:30.594670Z"
    }
   },
   "outputs": [
    {
     "data": {
      "text/plain": [
       "21"
      ]
     },
     "execution_count": 287,
     "metadata": {},
     "output_type": "execute_result"
    }
   ],
   "source": [
    "accumulate2(100,200)  #값을 주었기 때문에 100부터 200까지 더람\n",
    "accumulate2()         #값을 안주었기 때문에 위에 정해진 0부터 10까지 더한다.\n",
    "accumulate2(5)        #값을 하나만 주었기 때문에 5부터 시작하고 10까지 더한다. \n",
    "accumulate2(stop=6)   #stop에 값을 주었기 때문에 0에서 시작하고 6까지 더한다."
   ]
  },
  {
   "cell_type": "code",
   "execution_count": 291,
   "metadata": {
    "ExecuteTime": {
     "end_time": "2022-12-27T01:24:55.165668Z",
     "start_time": "2022-12-27T01:24:55.154890Z"
    }
   },
   "outputs": [],
   "source": [
    "#선생님 버전\n",
    "def accumulate3(**kwagrs):\n",
    "# 가변인자를 사용할 경우에느 docstring을 필수로 잘 달아줘야 함.\n",
    "    start = kwargs['start']  # kwarg.get('start', 0)\n",
    "    stop = kwargs['stop']\n",
    "    operator = kwargs['operator'] \n",
    "    result = None\n",
    "    if operator == '+': \n",
    "        result = sum(range(start, stop+1))\n",
    "    elif operator == 'x':\n",
    "        result = 1\n",
    "        for i in range(start, stop+1):\n",
    "            result *=i\n",
    "    return result"
   ]
  },
  {
   "cell_type": "code",
   "execution_count": 289,
   "metadata": {
    "ExecuteTime": {
     "end_time": "2022-12-27T01:22:00.060412Z",
     "start_time": "2022-12-27T01:22:00.048467Z"
    }
   },
   "outputs": [
    {
     "name": "stdout",
     "output_type": "stream",
     "text": [
      "Help on function accumulate3 in module __main__:\n",
      "\n",
      "accumulate3(**kwagrs)\n",
      "    #선생님 버전\n",
      "\n"
     ]
    }
   ],
   "source": [
    "help(accumulate3)"
   ]
  },
  {
   "cell_type": "code",
   "execution_count": 292,
   "metadata": {
    "ExecuteTime": {
     "end_time": "2022-12-27T01:24:58.541435Z",
     "start_time": "2022-12-27T01:24:58.520846Z"
    }
   },
   "outputs": [
    {
     "ename": "NameError",
     "evalue": "name 'kwargs' is not defined",
     "output_type": "error",
     "traceback": [
      "\u001b[0;31m---------------------------------------------------------------------------\u001b[0m",
      "\u001b[0;31mNameError\u001b[0m                                 Traceback (most recent call last)",
      "\u001b[0;32m/var/folders/jf/l3x8dj6n62s041cwvf169t5w0000gn/T/ipykernel_19432/16363155.py\u001b[0m in \u001b[0;36m<module>\u001b[0;34m\u001b[0m\n\u001b[0;32m----> 1\u001b[0;31m \u001b[0maccumulate3\u001b[0m\u001b[0;34m(\u001b[0m\u001b[0mstart\u001b[0m\u001b[0;34m=\u001b[0m\u001b[0;36m1\u001b[0m\u001b[0;34m,\u001b[0m \u001b[0mstop\u001b[0m\u001b[0;34m=\u001b[0m\u001b[0;36m3\u001b[0m\u001b[0;34m,\u001b[0m \u001b[0moperator\u001b[0m\u001b[0;34m=\u001b[0m\u001b[0;34m'+'\u001b[0m\u001b[0;34m)\u001b[0m\u001b[0;34m\u001b[0m\u001b[0;34m\u001b[0m\u001b[0m\n\u001b[0m",
      "\u001b[0;32m/var/folders/jf/l3x8dj6n62s041cwvf169t5w0000gn/T/ipykernel_19432/3619456275.py\u001b[0m in \u001b[0;36maccumulate3\u001b[0;34m(**kwagrs)\u001b[0m\n\u001b[1;32m      2\u001b[0m \u001b[0;32mdef\u001b[0m \u001b[0maccumulate3\u001b[0m\u001b[0;34m(\u001b[0m\u001b[0;34m**\u001b[0m\u001b[0mkwagrs\u001b[0m\u001b[0;34m)\u001b[0m\u001b[0;34m:\u001b[0m\u001b[0;34m\u001b[0m\u001b[0;34m\u001b[0m\u001b[0m\n\u001b[1;32m      3\u001b[0m \u001b[0;31m# 가변인자를 사용할 경우에느 docstring을 필수로 잘 달아줘야 함.\u001b[0m\u001b[0;34m\u001b[0m\u001b[0;34m\u001b[0m\u001b[0m\n\u001b[0;32m----> 4\u001b[0;31m     \u001b[0mstart\u001b[0m \u001b[0;34m=\u001b[0m \u001b[0mkwargs\u001b[0m\u001b[0;34m[\u001b[0m\u001b[0;34m'start'\u001b[0m\u001b[0;34m]\u001b[0m  \u001b[0;31m# kwarg.get('start', 0)\u001b[0m\u001b[0;34m\u001b[0m\u001b[0;34m\u001b[0m\u001b[0m\n\u001b[0m\u001b[1;32m      5\u001b[0m     \u001b[0mstop\u001b[0m \u001b[0;34m=\u001b[0m \u001b[0mkwargs\u001b[0m\u001b[0;34m[\u001b[0m\u001b[0;34m'stop'\u001b[0m\u001b[0;34m]\u001b[0m\u001b[0;34m\u001b[0m\u001b[0;34m\u001b[0m\u001b[0m\n\u001b[1;32m      6\u001b[0m     \u001b[0moperator\u001b[0m \u001b[0;34m=\u001b[0m \u001b[0mkwargs\u001b[0m\u001b[0;34m[\u001b[0m\u001b[0;34m'operator'\u001b[0m\u001b[0;34m]\u001b[0m\u001b[0;34m\u001b[0m\u001b[0;34m\u001b[0m\u001b[0m\n",
      "\u001b[0;31mNameError\u001b[0m: name 'kwargs' is not defined"
     ]
    }
   ],
   "source": [
    "accumulate3(start=1, stop=3, operator='+')"
   ]
  },
  {
   "cell_type": "code",
   "execution_count": 257,
   "metadata": {
    "ExecuteTime": {
     "end_time": "2022-12-26T08:50:21.317859Z",
     "start_time": "2022-12-26T08:50:12.471035Z"
    },
    "slideshow": {
     "slide_type": "skip"
    }
   },
   "outputs": [
    {
     "name": "stdout",
     "output_type": "stream",
     "text": [
      "키를 입력하시오(cm): 163\n",
      "몸무게를 입력하시오(kg): 79\n",
      "\n",
      "당신의 BMI는 29.73 입니다.\n"
     ]
    }
   ],
   "source": [
    "# 4. 체질량 지수는 비만도를 나타내는 지수로 키가 a미터 이고 몸무게가 b kg일때 b/(a**2) 로 구한다.\n",
    "# 체질량 지수가\n",
    "#- 18.5 미만이면 저체중\n",
    "#- 18.5이상 25미만이면 정상 \n",
    "#- 25이상이면 과체중\n",
    "#- 30이상이면 비만으로 하는데\n",
    "#몸무게와 키를 매개변수로 받아 비만인지 과체중인지 반환하는 함수를 구현하시오.\n",
    "\n",
    "a = int(input(\"키를 입력하시오(cm): \"))    # 키 입력\n",
    "b = int(input(\"몸무게를 입력하시오(kg): \"))    # 몸무게 입력\n",
    "print()\n",
    "BMI = (b/a**2)*10000     # 처리\n",
    "print(f'당신의 BMI는 {BMI:.2f} 입니다.')    # 결과값 출력 - 소수점 2번째자리까지 출력\n"
   ]
  },
  {
   "cell_type": "code",
   "execution_count": 258,
   "metadata": {
    "ExecuteTime": {
     "end_time": "2022-12-26T08:50:25.920625Z",
     "start_time": "2022-12-26T08:50:25.908236Z"
    }
   },
   "outputs": [
    {
     "name": "stdout",
     "output_type": "stream",
     "text": [
      "과체중 입니다.\n"
     ]
    }
   ],
   "source": [
    "if BMI < 18.5 : #저체중\n",
    "    print(\"저체중 입니다.\")\n",
    "elif BMI < 25 : #정상\n",
    "    print(\"정상 입니다.\")\n",
    "elif BMI > 30 : #과체중\n",
    "    print(\"과체중 입니다.\")\n",
    "else:\n",
    "    print(\"비만 입니다.\")"
   ]
  },
  {
   "cell_type": "code",
   "execution_count": 294,
   "metadata": {
    "ExecuteTime": {
     "end_time": "2022-12-27T01:31:51.749861Z",
     "start_time": "2022-12-27T01:31:51.737711Z"
    }
   },
   "outputs": [
    {
     "ename": "IndentationError",
     "evalue": "unexpected indent (2409413881.py, line 15)",
     "output_type": "error",
     "traceback": [
      "\u001b[0;36m  File \u001b[0;32m\"/var/folders/jf/l3x8dj6n62s041cwvf169t5w0000gn/T/ipykernel_19432/2409413881.py\"\u001b[0;36m, line \u001b[0;32m15\u001b[0m\n\u001b[0;31m    bmi = weight / (tall**2)\u001b[0m\n\u001b[0m    ^\u001b[0m\n\u001b[0;31mIndentationError\u001b[0m\u001b[0;31m:\u001b[0m unexpected indent\n"
     ]
    }
   ],
   "source": [
    "#선생님 버전---추후 선생님 버전 복사해서 복습하기.\n",
    "\n",
    "def check_bmi(tall, weight):\n",
    "    \n",
    "   \"\"\"\n",
    "   bmi 지수를 계산해서 비만도 정도를 알려주는 함수\n",
    "   parameter:\n",
    "      tall: float, int - 키를 미터로 입력 받는다.\n",
    "      weight: float, int - 몸무게를 kg으로 입력받는다.\n",
    "   return:\n",
    "      #str - 비만도 (저저중, 정상, 과체중, 비만)\n",
    "      tuple - (비만도, bmi 지수)\n",
    "   raise:\n",
    "   \"\"\"\n",
    "    bmi = weight / (tall**2)\n",
    "    result - None\n",
    "    \n",
    "    if bmi < 18.5:\n",
    "        result = '저체중'\n",
    "    eilf bmi < 25:\n",
    "        result = '정상'\n",
    "    elif bmi > 30 : #과체중\n",
    "        result= '과체중'\n",
    "    else:\n",
    "        result = '비만'\n",
    "    return result, bmi"
   ]
  },
  {
   "cell_type": "code",
   "execution_count": 295,
   "metadata": {
    "ExecuteTime": {
     "end_time": "2022-12-27T01:32:18.217741Z",
     "start_time": "2022-12-27T01:32:18.200951Z"
    }
   },
   "outputs": [
    {
     "ename": "NameError",
     "evalue": "name 'check_bmi' is not defined",
     "output_type": "error",
     "traceback": [
      "\u001b[0;31m---------------------------------------------------------------------------\u001b[0m",
      "\u001b[0;31mNameError\u001b[0m                                 Traceback (most recent call last)",
      "\u001b[0;32m/var/folders/jf/l3x8dj6n62s041cwvf169t5w0000gn/T/ipykernel_19432/3640426702.py\u001b[0m in \u001b[0;36m<module>\u001b[0;34m\u001b[0m\n\u001b[0;32m----> 1\u001b[0;31m \u001b[0mcheck_bmi\u001b[0m\u001b[0;34m(\u001b[0m\u001b[0;36m1.8\u001b[0m\u001b[0;34m,\u001b[0m \u001b[0;36m90\u001b[0m\u001b[0;34m)\u001b[0m\u001b[0;34m\u001b[0m\u001b[0;34m\u001b[0m\u001b[0m\n\u001b[0m",
      "\u001b[0;31mNameError\u001b[0m: name 'check_bmi' is not defined"
     ]
    }
   ],
   "source": [
    "check_bmi(1.8, 90)"
   ]
  },
  {
   "cell_type": "code",
   "execution_count": 259,
   "metadata": {
    "ExecuteTime": {
     "end_time": "2022-12-26T19:40:44.708232Z",
     "start_time": "2022-12-26T19:40:44.696743Z"
    },
    "slideshow": {
     "slide_type": "skip"
    }
   },
   "outputs": [],
   "source": [
    "# 람다식 - \n",
    "#5. filter()를 이용해 다음 리스트에서 양수만 추출하여 리스트를 구현\n",
    "ex1 = [1, -10, -2, 20, 3, -5, -7, 21]\n",
    "\n",
    "def num(x):\n",
    "      return x>0"
   ]
  },
  {
   "cell_type": "code",
   "execution_count": 263,
   "metadata": {
    "ExecuteTime": {
     "end_time": "2022-12-26T19:42:22.900720Z",
     "start_time": "2022-12-26T19:42:22.893425Z"
    }
   },
   "outputs": [
    {
     "name": "stdout",
     "output_type": "stream",
     "text": [
      "[1, 20, 3, 21]\n"
     ]
    }
   ],
   "source": [
    "newList = list(filter(num, ex1))   #filter형식\n",
    "print(newList)"
   ]
  },
  {
   "cell_type": "code",
   "execution_count": 266,
   "metadata": {
    "ExecuteTime": {
     "end_time": "2022-12-26T19:44:12.277037Z",
     "start_time": "2022-12-26T19:44:12.265758Z"
    }
   },
   "outputs": [
    {
     "name": "stdout",
     "output_type": "stream",
     "text": [
      "[1, 20, 3, 21]\n"
     ]
    }
   ],
   "source": [
    "newList = [x for x in ex1 if x>0]  #List Comprehension 형식\n",
    "print(newList)"
   ]
  },
  {
   "cell_type": "code",
   "execution_count": 269,
   "metadata": {
    "ExecuteTime": {
     "end_time": "2022-12-26T19:47:31.465671Z",
     "start_time": "2022-12-26T19:47:31.458234Z"
    }
   },
   "outputs": [
    {
     "name": "stdout",
     "output_type": "stream",
     "text": [
      "[1, 20, 3, 21]\n"
     ]
    }
   ],
   "source": [
    "filterList = list(filter(lambda x: x > 0, ex1))   #Lamda filter 형식\n",
    "print(filterList)"
   ]
  },
  {
   "cell_type": "code",
   "execution_count": 271,
   "metadata": {
    "ExecuteTime": {
     "end_time": "2022-12-26T19:48:06.404140Z",
     "start_time": "2022-12-26T19:48:06.391320Z"
    },
    "scrolled": true
   },
   "outputs": [
    {
     "name": "stdout",
     "output_type": "stream",
     "text": [
      "[1, 20, 3, 21]\n"
     ]
    }
   ],
   "source": [
    "filterList = [x for x in ex1 if x >0]             # Nested List Comprehension 형식\n",
    "print(filterList)"
   ]
  },
  {
   "cell_type": "code",
   "execution_count": 297,
   "metadata": {
    "ExecuteTime": {
     "end_time": "2022-12-27T01:38:36.836284Z",
     "start_time": "2022-12-27T01:38:36.822657Z"
    }
   },
   "outputs": [
    {
     "data": {
      "text/plain": [
       "[1, 20, 3, 21]"
      ]
     },
     "execution_count": 297,
     "metadata": {},
     "output_type": "execute_result"
    }
   ],
   "source": [
    "#선생님 ver.\n",
    "\n",
    "#filter에서 사용하는 함수 : 매개변수-iteravle의 원소를 받는 매개변수를 하나 선언.\n",
    "#                       반환값 - bool : 원소가 조건을 만족하는지 여부\n",
    "\n",
    "def check(element):\n",
    "    return element >= 0\n",
    "\n",
    "#result = filter(check, ex1)\n",
    "#list(result)\n",
    "\n",
    "result = filter(lambda x : x >=0, ex1)\n",
    "list(result)"
   ]
  },
  {
   "cell_type": "code",
   "execution_count": 299,
   "metadata": {
    "ExecuteTime": {
     "end_time": "2022-12-27T01:39:38.074471Z",
     "start_time": "2022-12-27T01:39:38.062237Z"
    }
   },
   "outputs": [
    {
     "data": {
      "text/plain": [
       "[1, 20, 3, 21]"
      ]
     },
     "execution_count": 299,
     "metadata": {},
     "output_type": "execute_result"
    }
   ],
   "source": [
    "[v for v in ex1 if v >= 0]"
   ]
  },
  {
   "cell_type": "code",
   "execution_count": 304,
   "metadata": {
    "ExecuteTime": {
     "end_time": "2022-12-27T01:44:33.992935Z",
     "start_time": "2022-12-27T01:44:33.978527Z"
    },
    "slideshow": {
     "slide_type": "skip"
    }
   },
   "outputs": [
    {
     "ename": "SyntaxError",
     "evalue": "invalid syntax (4025316225.py, line 12)",
     "output_type": "error",
     "traceback": [
      "\u001b[0;36m  File \u001b[0;32m\"/var/folders/jf/l3x8dj6n62s041cwvf169t5w0000gn/T/ipykernel_19432/4025316225.py\"\u001b[0;36m, line \u001b[0;32m12\u001b[0m\n\u001b[0;31m    print(dob)\u001b[0m\n\u001b[0m    ^\u001b[0m\n\u001b[0;31mSyntaxError\u001b[0m\u001b[0;31m:\u001b[0m invalid syntax\n"
     ]
    }
   ],
   "source": [
    "#6. filter()와 map()을 이용해 다음 리스트에서 음수만 추출한 뒤 그 2 제곱한 값들을 가지는 리스트를 구현\n",
    "ex2 = [1, -10, -2, 20, 3, -5, -7, 21]\n",
    "\n",
    "def minus(n):\n",
    "    return n < 0\n",
    "\n",
    "def double(f):\n",
    "    return f**2\n",
    "\n",
    "min = list(filter(minus, ex1))\n",
    "dob = list(map(double, min)\n",
    "print(dob)"
   ]
  },
  {
   "cell_type": "code",
   "execution_count": 301,
   "metadata": {
    "ExecuteTime": {
     "end_time": "2022-12-27T01:42:08.618658Z",
     "start_time": "2022-12-27T01:42:08.605867Z"
    }
   },
   "outputs": [
    {
     "data": {
      "text/plain": [
       "[100, 4, 25, 49]"
      ]
     },
     "execution_count": 301,
     "metadata": {},
     "output_type": "execute_result"
    }
   ],
   "source": [
    "#선생님 ver\n",
    "f = filter(lambda x : x<0, ex2)\n",
    "m = map(lambda y : y**2,f)\n",
    "list(m)"
   ]
  },
  {
   "cell_type": "code",
   "execution_count": 306,
   "metadata": {
    "ExecuteTime": {
     "end_time": "2022-12-27T01:44:44.605376Z",
     "start_time": "2022-12-27T01:44:44.596838Z"
    },
    "slideshow": {
     "slide_type": "skip"
    }
   },
   "outputs": [
    {
     "data": {
      "text/plain": [
       "[100, 4, 25, 49]"
      ]
     },
     "execution_count": 306,
     "metadata": {},
     "output_type": "execute_result"
    }
   ],
   "source": [
    "#선생님 ver 2 - 중첩람다?? 방식?\n",
    "m2 = map(lambda y: y**2, filter(lambda x : x<0, ex2))\n",
    "list(m2)"
   ]
  },
  {
   "cell_type": "code",
   "execution_count": null,
   "metadata": {},
   "outputs": [],
   "source": []
  }
 ],
 "metadata": {
  "kernelspec": {
   "display_name": "Python 3 (ipykernel)",
   "language": "python",
   "name": "python3"
  },
  "language_info": {
   "codemirror_mode": {
    "name": "ipython",
    "version": 3
   },
   "file_extension": ".py",
   "mimetype": "text/x-python",
   "name": "python",
   "nbconvert_exporter": "python",
   "pygments_lexer": "ipython3",
   "version": "3.9.13"
  },
  "toc": {
   "base_numbering": 1,
   "nav_menu": {},
   "number_sections": true,
   "sideBar": true,
   "skip_h1_title": false,
   "title_cell": "Table of Contents",
   "title_sidebar": "Contents",
   "toc_cell": false,
   "toc_position": {},
   "toc_section_display": true,
   "toc_window_display": false
  },
  "varInspector": {
   "cols": {
    "lenName": 16,
    "lenType": 16,
    "lenVar": 40
   },
   "kernels_config": {
    "python": {
     "delete_cmd_postfix": "",
     "delete_cmd_prefix": "del ",
     "library": "var_list.py",
     "varRefreshCmd": "print(var_dic_list())"
    },
    "r": {
     "delete_cmd_postfix": ") ",
     "delete_cmd_prefix": "rm(",
     "library": "var_list.r",
     "varRefreshCmd": "cat(var_dic_list()) "
    }
   },
   "types_to_exclude": [
    "module",
    "function",
    "builtin_function_or_method",
    "instance",
    "_Feature"
   ],
   "window_display": false
  }
 },
 "nbformat": 4,
 "nbformat_minor": 4
}
