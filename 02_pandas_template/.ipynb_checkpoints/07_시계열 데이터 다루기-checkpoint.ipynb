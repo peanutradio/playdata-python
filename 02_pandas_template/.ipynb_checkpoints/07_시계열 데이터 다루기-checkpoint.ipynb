{
 "cells": [
  {
   "cell_type": "markdown",
   "id": "760af56f",
   "metadata": {
    "slideshow": {
     "slide_type": "slide"
    }
   },
   "source": [
    "# 시계열 데이터개요\n",
    "\n",
    "- 시계열 데이터란\n",
    "    - 시간의 흐름에 따라 수집된 데이터를 말한다.\n",
    "    - 일반적으로는 시간의 간격이 균등한 **고정 빈도(fixed frequency)** 데이터가 대부분이지만 불규칙적인 데이텃세도 될 수 있다.                                    \n",
    "    - 판다스는 날짜를 조작하고 다른 시구간에 대해 집계하고 다른 시간대를 샘플링 하는등의 시계열 데이터 분석을 위한 다양한 기능을 제공한다."
   ]
  },
  {
   "cell_type": "markdown",
   "id": "8724dc8d",
   "metadata": {
    "slideshow": {
     "slide_type": "slide"
    }
   },
   "source": [
    "# 파이썬과 판다스의  날짜/시간 데이터 다루기\n",
    "\n",
    "- **파이썬**은 `datetime` 모듈을 이용해 일시를 처리한다. datetime 모듈은 날짜/시간 관련 타입으로 <br/>`date, time, datetime` 세개의 클래스를 제공한다.\n",
    "- **판다스**는 `Timestamp` 단일 타입으로 일시를 처리한다. <br/>`Timestamp`는 나노초(10억분의 1초)의 정밀도를 가진다.\n",
    "- 파이썬, 판다스 모두 timedelta를 이용해 일시의 차이를 관리한다."
   ]
  },
  {
   "cell_type": "markdown",
   "id": "cd6c1307",
   "metadata": {
    "slideshow": {
     "slide_type": "subslide"
    }
   },
   "source": [
    "## 파이썬 datatime module\n",
    "|클래스|설명|\n",
    "|:-|-:|\n",
    "|**date**|날짜타입 - 년/월/일을 저장|\n",
    "|**time**|시간타입 - 시/분/초/마이크로초를 저장|\n",
    "|**datetime**|날짜,시간을 저장|\n",
    "|**timedelta**|두 datetime 간의 차이를 일/초/마이크로초로 표현|\n",
    "|**tzinfo**|타임존-시간대-를 표현|"
   ]
  },
  {
   "cell_type": "markdown",
   "id": "0b64b0a6",
   "metadata": {
    "slideshow": {
     "slide_type": "fragment"
    }
   },
   "source": [
    "### 날짜 시간 객체 생성"
   ]
  },
  {
   "cell_type": "code",
   "execution_count": 4,
   "id": "775b2721",
   "metadata": {
    "ExecuteTime": {
     "end_time": "2023-01-12T05:43:51.780158Z",
     "start_time": "2023-01-12T05:43:51.766846Z"
    },
    "slideshow": {
     "slide_type": "fragment"
    }
   },
   "outputs": [
    {
     "name": "stdout",
     "output_type": "stream",
     "text": [
      "date: 2023-01-02\n",
      "time: 14:40:20.099999\n",
      "datetime: 2022-12-30 11:30:10\n"
     ]
    }
   ],
   "source": [
    "import datetime  #datetime 모듈을 import\n",
    "d = datetime.date(year=2023, month=1, day=2)  # 날짜\n",
    "t = datetime.time(hour=14, minute=40, second=20, microsecond=99999)  # 시간\n",
    "dt = datetime.datetime(year=2022, month=12, day=30, hour=11, minute=30, second=10)         \n",
    "#                  데이트 타임 module에 데이트타임 class \n",
    "#                  마이크로 초는 1/100만 초\n",
    "print(f\"date: {d}\\ntime: {t}\\ndatetime: {dt}\")\n"
   ]
  },
  {
   "cell_type": "code",
   "execution_count": 5,
   "id": "afb81b97",
   "metadata": {
    "ExecuteTime": {
     "end_time": "2023-01-12T05:45:01.049286Z",
     "start_time": "2023-01-12T05:45:01.042885Z"
    }
   },
   "outputs": [
    {
     "name": "stdout",
     "output_type": "stream",
     "text": [
      "2022 30 10\n"
     ]
    }
   ],
   "source": [
    "print(dt.year, dt.day, dt.second)"
   ]
  },
  {
   "cell_type": "code",
   "execution_count": 8,
   "id": "d173dd59",
   "metadata": {
    "ExecuteTime": {
     "end_time": "2023-01-12T05:47:38.708908Z",
     "start_time": "2023-01-12T05:47:38.700675Z"
    }
   },
   "outputs": [
    {
     "name": "stdout",
     "output_type": "stream",
     "text": [
      "현재날짜: 2023-01-12\n",
      "현재일시: 2023-01-12 14:47:38.704452\n"
     ]
    }
   ],
   "source": [
    "from datetime import datetime, time, date\n",
    "# 실행시점의 날짜, 일시 조회\n",
    "print('현재날짜:' ,date.today())\n",
    "print('현재일시:' ,datetime.now())"
   ]
  },
  {
   "cell_type": "markdown",
   "id": "a8eb826d",
   "metadata": {
    "slideshow": {
     "slide_type": "subslide"
    }
   },
   "source": [
    "### timedetla 를 이용한 계산\n",
    "- datetime간의 간격을 표현한다.\n",
    "    - 특정 날짜나 시간에서 일정 기간을 더하거나 뺀 일시를 계산할 때 사용\n",
    "    - 날짜/시간 간의 차이를 계산한 결과로 사용 (두 일시간의 뺄셈의 결과)\n",
    "    - 차이를 day, second, microsends로 표현한다.\n",
    "    - 객체 생성시  weeks, days, hours, minutes, seconds, milliseconds, microseconds 를 넣어 차이를 표현한다."
   ]
  },
  {
   "cell_type": "code",
   "execution_count": 12,
   "id": "d5e34d11",
   "metadata": {
    "ExecuteTime": {
     "end_time": "2023-01-12T06:18:28.207270Z",
     "start_time": "2023-01-12T06:18:28.190725Z"
    },
    "slideshow": {
     "slide_type": "fragment"
    }
   },
   "outputs": [
    {
     "name": "stdout",
     "output_type": "stream",
     "text": [
      "2022-12-26 10:07:57.997589\n",
      "2022-12-09 04:57:27.797589\n",
      "2023-01-12 15:18:28.197589\n"
     ]
    }
   ],
   "source": [
    "from datetime import timedelta\n",
    "tdelta = timedelta(days=1)    # 1일차\n",
    "tdelta = timedelta(weeks=1)   # 1주일차\n",
    "tdelta = timedelta(weeks=2, days=3, hours=5, minutes=10, seconds=30, milliseconds=100, microseconds=100000)\n",
    "\n",
    "c = datetime.now()  - tdelta\n",
    "print(c)\n",
    "print(c - tdelta)\n",
    "print(c + tdelta)"
   ]
  },
  {
   "cell_type": "code",
   "execution_count": 14,
   "id": "52aae4bc",
   "metadata": {
    "ExecuteTime": {
     "end_time": "2023-01-12T06:20:28.345218Z",
     "start_time": "2023-01-12T06:20:28.329550Z"
    }
   },
   "outputs": [
    {
     "data": {
      "text/plain": [
       "datetime.timedelta(days=376)"
      ]
     },
     "execution_count": 14,
     "metadata": {},
     "output_type": "execute_result"
    }
   ],
   "source": [
    "date(2023,1,12) - date(2022, 1,1)   # 날짜 차이를 timedelta"
   ]
  },
  {
   "cell_type": "code",
   "execution_count": 15,
   "id": "1c9aef91",
   "metadata": {
    "ExecuteTime": {
     "end_time": "2023-01-12T06:21:37.518768Z",
     "start_time": "2023-01-12T06:21:37.502583Z"
    }
   },
   "outputs": [
    {
     "ename": "AttributeError",
     "evalue": "type object 'datetime.datetime' has no attribute 'timedelta'",
     "output_type": "error",
     "traceback": [
      "\u001b[0;31m---------------------------------------------------------------------------\u001b[0m",
      "\u001b[0;31mAttributeError\u001b[0m                            Traceback (most recent call last)",
      "\u001b[0;32m/var/folders/jf/l3x8dj6n62s041cwvf169t5w0000gn/T/ipykernel_3587/1584376370.py\u001b[0m in \u001b[0;36m<module>\u001b[0;34m\u001b[0m\n\u001b[0;32m----> 1\u001b[0;31m \u001b[0mdatetime\u001b[0m\u001b[0;34m.\u001b[0m\u001b[0mtimedelta\u001b[0m\u001b[0;34m(\u001b[0m\u001b[0mdays\u001b[0m\u001b[0;34m=\u001b[0m\u001b[0;36m376\u001b[0m\u001b[0;34m,\u001b[0m \u001b[0mseconds\u001b[0m\u001b[0;34m=\u001b[0m\u001b[0;36m18002\u001b[0m\u001b[0;34m,\u001b[0m \u001b[0mmicroseconds\u001b[0m\u001b[0;34m=\u001b[0m\u001b[0;36m384577\u001b[0m\u001b[0;34m)\u001b[0m\u001b[0;34m\u001b[0m\u001b[0;34m\u001b[0m\u001b[0m\n\u001b[0m",
      "\u001b[0;31mAttributeError\u001b[0m: type object 'datetime.datetime' has no attribute 'timedelta'"
     ]
    }
   ],
   "source": [
    "datetime.timedelta(days=376, seconds=18002, microseconds=384577)  ### 선생님 것 ###"
   ]
  },
  {
   "cell_type": "code",
   "execution_count": null,
   "id": "008dc3f8",
   "metadata": {},
   "outputs": [],
   "source": []
  },
  {
   "cell_type": "code",
   "execution_count": null,
   "id": "2ed8096c",
   "metadata": {},
   "outputs": [],
   "source": []
  },
  {
   "cell_type": "markdown",
   "id": "3459ecda",
   "metadata": {
    "slideshow": {
     "slide_type": "subslide"
    }
   },
   "source": [
    "### datetime 과 문자열간 변환\n",
    "\n",
    "- strftime()\n",
    "    - datetime, date, time 객체를 지정한 형식의 문자열로 변환\n",
    "- strptime()\n",
    "    - 일시 형태의 문자열로 부터 datetime 객체를 생성한다.\n",
    "- 요소를 나타내는 주요 형식문자\n",
    "    - %Y, %m, %d : 년, 월, 일\n",
    "    - %H, %M, %S : 시, 분, 초\n",
    "    - https://docs.python.org/ko/3/library/datetime.html#strftime-and-strptime-format-codes"
   ]
  },
  {
   "cell_type": "code",
   "execution_count": null,
   "id": "8ad1669e",
   "metadata": {},
   "outputs": [],
   "source": []
  },
  {
   "cell_type": "code",
   "execution_count": 42,
   "id": "e0df384b",
   "metadata": {
    "ExecuteTime": {
     "end_time": "2023-01-12T07:14:06.260030Z",
     "start_time": "2023-01-12T07:14:06.249144Z"
    },
    "slideshow": {
     "slide_type": "fragment"
    }
   },
   "outputs": [
    {
     "name": "stdout",
     "output_type": "stream",
     "text": [
      "3\n",
      "2023-01-12\n",
      "23년 01월 12일 Thu {dow[today.weekday()]요일}\n",
      "2023/01/01/12/23/16, 04 PM\n"
     ]
    }
   ],
   "source": [
    "today = date.today()\n",
    "print(today.weekday())  #date.weekday(), datetime.weekday() ->요일을 정수반환 (0: 월, 6:일)\n",
    "\n",
    "print(today)\n",
    "print(today.strftime(\"%y년 %m월 %d일 %a {dow[today.weekday()]요일}\"))   ###==> ### 선생님 것###\n",
    "curr = datetime.now()\n",
    "print(curr.strftime('%Y/%m/%D/%H, %I %p'))  ###==> ### 선생님 것###"
   ]
  },
  {
   "cell_type": "code",
   "execution_count": 28,
   "id": "0370f7d4",
   "metadata": {
    "ExecuteTime": {
     "end_time": "2023-01-12T06:36:09.680728Z",
     "start_time": "2023-01-12T06:36:09.669986Z"
    }
   },
   "outputs": [
    {
     "data": {
      "text/plain": [
       "datetime.datetime(2000, 10, 30, 0, 0)"
      ]
     },
     "execution_count": 28,
     "metadata": {},
     "output_type": "execute_result"
    }
   ],
   "source": [
    "s = \"2000년 10월 30일\"\n",
    "# 문자열 -> datatime\n",
    "datetime.strptime(s,\"%Y년 %m월 %d일\")"
   ]
  },
  {
   "cell_type": "markdown",
   "id": "8a5b5f26",
   "metadata": {
    "slideshow": {
     "slide_type": "slide"
    }
   },
   "source": [
    "## 판다스 Timestamp\n",
    "- 날짜 시간을 나노초(10억분의 1초) 단위의 정밀도로 표현한다.\n",
    "- 다양한 방식으로 객체를 생성할 수 있다.\n",
    "    - 직접 원하는 일시를 넣어 생성\n",
    "    - 일시 형태의 문자열을 이용해 생성\n",
    "    - unix time 부터 계산하여 생성  -  1970년 1월 1일 0시 0분 0초 0나노초\n"
   ]
  },
  {
   "cell_type": "code",
   "execution_count": 32,
   "id": "b25f11fc",
   "metadata": {
    "ExecuteTime": {
     "end_time": "2023-01-12T06:43:26.828173Z",
     "start_time": "2023-01-12T06:43:26.806946Z"
    },
    "slideshow": {
     "slide_type": "fragment"
    }
   },
   "outputs": [
    {
     "data": {
      "text/plain": [
       "Timestamp('2020-11-21 17:30:10.000001001')"
      ]
     },
     "execution_count": 32,
     "metadata": {},
     "output_type": "execute_result"
    }
   ],
   "source": [
    "import pandas as pd\n",
    "# 직접 원하는 일시를 넣어서 생성\n",
    "pd.Timestamp(year=2020, month=11, day=21)\n",
    "pd.Timestamp(year=2020, month=11, day=21, hour=17, minute=30)\n",
    "pd.Timestamp(year=2020, month=11, day=21, hour=17, minute=30, second=10, microsecond=1, nanosecond=1)"
   ]
  },
  {
   "cell_type": "code",
   "execution_count": 33,
   "id": "fcd81b07",
   "metadata": {
    "ExecuteTime": {
     "end_time": "2023-01-12T06:45:26.951588Z",
     "start_time": "2023-01-12T06:45:26.932811Z"
    },
    "scrolled": true,
    "slideshow": {
     "slide_type": "fragment"
    }
   },
   "outputs": [
    {
     "data": {
      "text/plain": [
       "Timestamp('2023-01-12 12:30:07')"
      ]
     },
     "execution_count": 33,
     "metadata": {},
     "output_type": "execute_result"
    }
   ],
   "source": [
    "# 문자열 생성\n",
    "# 날짜: '/'나 '~' 로 구분자를 사용, 시간 ~:~ 을 구분자로 사용\n",
    "\n",
    "pd.Timestamp('2023/1/12')\n",
    "pd.Timestamp('2023/1/12 12:23')\n",
    "pd.Timestamp('2023/1/12 12:30.12111')   #날짜와 시간 구분: 공박아냐 T  ==> ### 선샹님 것"
   ]
  },
  {
   "cell_type": "code",
   "execution_count": 36,
   "id": "ee374655",
   "metadata": {
    "ExecuteTime": {
     "end_time": "2023-01-12T06:49:14.251487Z",
     "start_time": "2023-01-12T06:49:14.236872Z"
    }
   },
   "outputs": [
    {
     "data": {
      "text/plain": [
       "Timestamp('1970-03-12 00:00:00')"
      ]
     },
     "execution_count": 36,
     "metadata": {},
     "output_type": "execute_result"
    }
   ],
   "source": [
    "# 유닉스 타입을 기준으로 경과한 날짜\n",
    "pd.Timestamp(100)  # 100나노조 경과함 일시\n",
    "pd.Timestamp(10,unit='Y')    # 10년\n",
    "pd.Timestamp(10,unit='M')    #10개월\n",
    "pd.Timestamp(10,unit='W')    #10주      "
   ]
  },
  {
   "cell_type": "markdown",
   "id": "f156ff64",
   "metadata": {
    "slideshow": {
     "slide_type": "subslide"
    }
   },
   "source": [
    "### to_datetime()\n",
    "- 날짜와 관련된 다양한 값들을 Timestamp로 변환한다.-> 타입을 변환하나는 뜻.\n",
    "- Series나 리스트의 값들을 한번에 변환할 수 있다. "
   ]
  },
  {
   "cell_type": "code",
   "execution_count": 44,
   "id": "8d0a8697",
   "metadata": {
    "ExecuteTime": {
     "end_time": "2023-01-12T07:19:38.852953Z",
     "start_time": "2023-01-12T07:19:38.836311Z"
    }
   },
   "outputs": [
    {
     "data": {
      "text/plain": [
       "0   1970-01-11\n",
       "1   1970-04-11\n",
       "2   1972-09-27\n",
       "3   1997-05-19\n",
       "dtype: datetime64[ns]"
      ]
     },
     "execution_count": 44,
     "metadata": {},
     "output_type": "execute_result"
    }
   ],
   "source": [
    "s1 = pd.Series([10,100,1000,10000])\n",
    "pd.to_datetime(s1, unit='D')"
   ]
  },
  {
   "cell_type": "code",
   "execution_count": 50,
   "id": "f9353bf0",
   "metadata": {
    "ExecuteTime": {
     "end_time": "2023-01-12T07:24:33.891163Z",
     "start_time": "2023-01-12T07:24:33.871208Z"
    }
   },
   "outputs": [
    {
     "data": {
      "text/plain": [
       "0   2000-01-01\n",
       "1   2001-03-10\n",
       "2   2023-01-12\n",
       "3          NaT\n",
       "dtype: datetime64[ns]"
      ]
     },
     "execution_count": 50,
     "metadata": {},
     "output_type": "execute_result"
    }
   ],
   "source": [
    "s2 = pd.Series(['2000-01-01', '2001-03-10', '2023-01-12','qrioperqjg'])\n",
    "result  = pd.to_datetime(s2,\n",
    "                        errors='coerce')  \n",
    "#  변환 못하는 문자열일 경우 어떻게 처리할지 지정 :ignore-antl, coerce-Nat결축치 처리, raise:exception발생-기본값\n",
    "result"
   ]
  },
  {
   "cell_type": "code",
   "execution_count": 49,
   "id": "23fbf74a",
   "metadata": {
    "ExecuteTime": {
     "end_time": "2023-01-12T07:22:32.926579Z",
     "start_time": "2023-01-12T07:22:32.914098Z"
    }
   },
   "outputs": [
    {
     "data": {
      "text/plain": [
       "Timestamp('2000-01-01 00:00:00')"
      ]
     },
     "execution_count": 49,
     "metadata": {},
     "output_type": "execute_result"
    }
   ],
   "source": [
    "result[0]"
   ]
  },
  {
   "cell_type": "code",
   "execution_count": 51,
   "id": "54be8ee6",
   "metadata": {
    "ExecuteTime": {
     "end_time": "2023-01-12T07:29:33.309146Z",
     "start_time": "2023-01-12T07:29:33.299231Z"
    }
   },
   "outputs": [
    {
     "ename": "SyntaxError",
     "evalue": "expression cannot contain assignment, perhaps you meant \"==\"? (1324813702.py, line 2)",
     "output_type": "error",
     "traceback": [
      "\u001b[0;36m  File \u001b[0;32m\"/var/folders/jf/l3x8dj6n62s041cwvf169t5w0000gn/T/ipykernel_3587/1324813702.py\"\u001b[0;36m, line \u001b[0;32m2\u001b[0m\n\u001b[0;31m    pd.to_datetime(s3.format='%Y년 %m월 %d일')   #parsing 안되는 형식의 일시는 그 형식을 지정해 준다\u001b[0m\n\u001b[0m                   ^\u001b[0m\n\u001b[0;31mSyntaxError\u001b[0m\u001b[0;31m:\u001b[0m expression cannot contain assignment, perhaps you meant \"==\"?\n"
     ]
    }
   ],
   "source": [
    "### 선생님 것 ###\n",
    "s3 = pd.Series(['2000년 01월 01일', '2001년 03월 10일', '2023년 01월 12일']) ## ==> 중간에 - 없으면 구분 못하는 형태\n",
    "pd.to_datetime(s3.format='%Y년 %m월 %d일')   #parsing 안되는 형식의 일시는 그 형식을 지정해 준다"
   ]
  },
  {
   "cell_type": "code",
   "execution_count": 52,
   "id": "294c50e8",
   "metadata": {
    "ExecuteTime": {
     "end_time": "2023-01-12T07:31:06.653332Z",
     "start_time": "2023-01-12T07:31:06.618807Z"
    }
   },
   "outputs": [
    {
     "name": "stdout",
     "output_type": "stream",
     "text": [
      "<class 'pandas.core.frame.DataFrame'>\n",
      "RangeIndex: 1258 entries, 0 to 1257\n",
      "Data columns (total 7 columns):\n",
      " #   Column     Non-Null Count  Dtype  \n",
      "---  ------     --------------  -----  \n",
      " 0   Date       1258 non-null   object \n",
      " 1   Open       1258 non-null   float64\n",
      " 2   High       1258 non-null   float64\n",
      " 3   Low        1258 non-null   float64\n",
      " 4   Close      1258 non-null   float64\n",
      " 5   Volume     1258 non-null   int64  \n",
      " 6   Adj Close  1258 non-null   float64\n",
      "dtypes: float64(5), int64(1), object(1)\n",
      "memory usage: 68.9+ KB\n"
     ]
    }
   ],
   "source": [
    "df = pd.read_csv('data/walmart_stock.csv')\n",
    "df.info()"
   ]
  },
  {
   "cell_type": "code",
   "execution_count": 53,
   "id": "62b9e434",
   "metadata": {
    "ExecuteTime": {
     "end_time": "2023-01-12T07:31:38.680888Z",
     "start_time": "2023-01-12T07:31:38.655923Z"
    }
   },
   "outputs": [
    {
     "data": {
      "text/html": [
       "<div>\n",
       "<style scoped>\n",
       "    .dataframe tbody tr th:only-of-type {\n",
       "        vertical-align: middle;\n",
       "    }\n",
       "\n",
       "    .dataframe tbody tr th {\n",
       "        vertical-align: top;\n",
       "    }\n",
       "\n",
       "    .dataframe thead th {\n",
       "        text-align: right;\n",
       "    }\n",
       "</style>\n",
       "<table border=\"1\" class=\"dataframe\">\n",
       "  <thead>\n",
       "    <tr style=\"text-align: right;\">\n",
       "      <th></th>\n",
       "      <th>Date</th>\n",
       "      <th>Open</th>\n",
       "      <th>High</th>\n",
       "      <th>Low</th>\n",
       "      <th>Close</th>\n",
       "      <th>Volume</th>\n",
       "      <th>Adj Close</th>\n",
       "    </tr>\n",
       "  </thead>\n",
       "  <tbody>\n",
       "    <tr>\n",
       "      <th>0</th>\n",
       "      <td>2012-01-03</td>\n",
       "      <td>59.970001</td>\n",
       "      <td>61.060001</td>\n",
       "      <td>59.869999</td>\n",
       "      <td>60.330002</td>\n",
       "      <td>12668800</td>\n",
       "      <td>52.619235</td>\n",
       "    </tr>\n",
       "    <tr>\n",
       "      <th>1</th>\n",
       "      <td>2012-01-04</td>\n",
       "      <td>60.209999</td>\n",
       "      <td>60.349998</td>\n",
       "      <td>59.470001</td>\n",
       "      <td>59.709999</td>\n",
       "      <td>9593300</td>\n",
       "      <td>52.078475</td>\n",
       "    </tr>\n",
       "    <tr>\n",
       "      <th>2</th>\n",
       "      <td>2012-01-05</td>\n",
       "      <td>59.349998</td>\n",
       "      <td>59.619999</td>\n",
       "      <td>58.369999</td>\n",
       "      <td>59.419998</td>\n",
       "      <td>12768200</td>\n",
       "      <td>51.825539</td>\n",
       "    </tr>\n",
       "    <tr>\n",
       "      <th>3</th>\n",
       "      <td>2012-01-06</td>\n",
       "      <td>59.419998</td>\n",
       "      <td>59.450001</td>\n",
       "      <td>58.869999</td>\n",
       "      <td>59.000000</td>\n",
       "      <td>8069400</td>\n",
       "      <td>51.459220</td>\n",
       "    </tr>\n",
       "    <tr>\n",
       "      <th>4</th>\n",
       "      <td>2012-01-09</td>\n",
       "      <td>59.029999</td>\n",
       "      <td>59.549999</td>\n",
       "      <td>58.919998</td>\n",
       "      <td>59.180000</td>\n",
       "      <td>6679300</td>\n",
       "      <td>51.616215</td>\n",
       "    </tr>\n",
       "  </tbody>\n",
       "</table>\n",
       "</div>"
      ],
      "text/plain": [
       "         Date       Open       High        Low      Close    Volume  Adj Close\n",
       "0  2012-01-03  59.970001  61.060001  59.869999  60.330002  12668800  52.619235\n",
       "1  2012-01-04  60.209999  60.349998  59.470001  59.709999   9593300  52.078475\n",
       "2  2012-01-05  59.349998  59.619999  58.369999  59.419998  12768200  51.825539\n",
       "3  2012-01-06  59.419998  59.450001  58.869999  59.000000   8069400  51.459220\n",
       "4  2012-01-09  59.029999  59.549999  58.919998  59.180000   6679300  51.616215"
      ]
     },
     "execution_count": 53,
     "metadata": {},
     "output_type": "execute_result"
    }
   ],
   "source": [
    "df.head()"
   ]
  },
  {
   "cell_type": "code",
   "execution_count": 57,
   "id": "279e9624",
   "metadata": {
    "ExecuteTime": {
     "end_time": "2023-01-12T07:33:58.899226Z",
     "start_time": "2023-01-12T07:33:58.892678Z"
    }
   },
   "outputs": [],
   "source": [
    "df2 = df.copy()"
   ]
  },
  {
   "cell_type": "code",
   "execution_count": 60,
   "id": "176a44da",
   "metadata": {
    "ExecuteTime": {
     "end_time": "2023-01-12T07:35:26.024930Z",
     "start_time": "2023-01-12T07:35:26.006596Z"
    }
   },
   "outputs": [
    {
     "name": "stdout",
     "output_type": "stream",
     "text": [
      "<class 'pandas.core.frame.DataFrame'>\n",
      "RangeIndex: 1258 entries, 0 to 1257\n",
      "Data columns (total 7 columns):\n",
      " #   Column     Non-Null Count  Dtype         \n",
      "---  ------     --------------  -----         \n",
      " 0   Date       1258 non-null   datetime64[ns]\n",
      " 1   Open       1258 non-null   float64       \n",
      " 2   High       1258 non-null   float64       \n",
      " 3   Low        1258 non-null   float64       \n",
      " 4   Close      1258 non-null   float64       \n",
      " 5   Volume     1258 non-null   int64         \n",
      " 6   Adj Close  1258 non-null   float64       \n",
      "dtypes: datetime64[ns](1), float64(5), int64(1)\n",
      "memory usage: 68.9 KB\n"
     ]
    }
   ],
   "source": [
    "# Date : object ->ㅇdatetime 타입의 컬럼으로 변환\n",
    "df['Date'] = pd.to_datetime(df['Date'])\n",
    "df.info()"
   ]
  },
  {
   "cell_type": "code",
   "execution_count": 62,
   "id": "3ef896ae",
   "metadata": {
    "ExecuteTime": {
     "end_time": "2023-01-12T07:36:27.620467Z",
     "start_time": "2023-01-12T07:36:27.601673Z"
    }
   },
   "outputs": [
    {
     "name": "stdout",
     "output_type": "stream",
     "text": [
      "<class 'pandas.core.frame.DataFrame'>\n",
      "RangeIndex: 1258 entries, 0 to 1257\n",
      "Data columns (total 7 columns):\n",
      " #   Column     Non-Null Count  Dtype         \n",
      "---  ------     --------------  -----         \n",
      " 0   Date       1258 non-null   datetime64[ns]\n",
      " 1   Open       1258 non-null   float64       \n",
      " 2   High       1258 non-null   float64       \n",
      " 3   Low        1258 non-null   float64       \n",
      " 4   Close      1258 non-null   float64       \n",
      " 5   Volume     1258 non-null   int64         \n",
      " 6   Adj Close  1258 non-null   float64       \n",
      "dtypes: datetime64[ns](1), float64(5), int64(1)\n",
      "memory usage: 68.9 KB\n"
     ]
    }
   ],
   "source": [
    "df2['Date'] = df2['Date'].astype(\"datetime64\")\n",
    "df2.info()"
   ]
  },
  {
   "cell_type": "code",
   "execution_count": 64,
   "id": "76d0490c",
   "metadata": {
    "ExecuteTime": {
     "end_time": "2023-01-12T07:39:38.655303Z",
     "start_time": "2023-01-12T07:39:38.627798Z"
    }
   },
   "outputs": [
    {
     "name": "stdout",
     "output_type": "stream",
     "text": [
      "<class 'pandas.core.frame.DataFrame'>\n",
      "RangeIndex: 1258 entries, 0 to 1257\n",
      "Data columns (total 7 columns):\n",
      " #   Column     Non-Null Count  Dtype         \n",
      "---  ------     --------------  -----         \n",
      " 0   Date       1258 non-null   datetime64[ns]\n",
      " 1   Open       1258 non-null   float64       \n",
      " 2   High       1258 non-null   float64       \n",
      " 3   Low        1258 non-null   float64       \n",
      " 4   Close      1258 non-null   float64       \n",
      " 5   Volume     1258 non-null   int64         \n",
      " 6   Adj Close  1258 non-null   float64       \n",
      "dtypes: datetime64[ns](1), float64(5), int64(1)\n",
      "memory usage: 68.9 KB\n"
     ]
    }
   ],
   "source": [
    "df3 = pd.read_csv(\"data/walmart_stock.csv\", parse_dates=[0])  #0번째 컬럼은 datetime 타입으로 변환하라.\n",
    "df3.info()"
   ]
  },
  {
   "cell_type": "markdown",
   "id": "c4a54404",
   "metadata": {
    "slideshow": {
     "slide_type": "subslide"
    }
   },
   "source": [
    "### Timestamp 간 연산 및 TimeDelta\n",
    "- element: wise 연산"
   ]
  },
  {
   "cell_type": "code",
   "execution_count": 67,
   "id": "b7f72000",
   "metadata": {
    "ExecuteTime": {
     "end_time": "2023-01-12T07:45:16.778198Z",
     "start_time": "2023-01-12T07:45:16.760945Z"
    },
    "slideshow": {
     "slide_type": "fragment"
    }
   },
   "outputs": [
    {
     "data": {
      "text/plain": [
       "dtype('<M8[ns]')"
      ]
     },
     "execution_count": 67,
     "metadata": {},
     "output_type": "execute_result"
    }
   ],
   "source": [
    "s1 = pd.to_datetime(pd.Series(['2010-01-01', '2010-03-01', '2010-06-01']))\n",
    "s2 = pd.to_datetime(pd.Series(['2012-01-01', '2012-03-01', '2012-06-01']))\n",
    "s2.dtype"
   ]
  },
  {
   "cell_type": "code",
   "execution_count": 68,
   "id": "a6ae09aa",
   "metadata": {
    "ExecuteTime": {
     "end_time": "2023-01-12T07:45:18.432273Z",
     "start_time": "2023-01-12T07:45:18.421694Z"
    }
   },
   "outputs": [
    {
     "data": {
      "text/plain": [
       "0   730 days\n",
       "1   731 days\n",
       "2   731 days\n",
       "dtype: timedelta64[ns]"
      ]
     },
     "execution_count": 68,
     "metadata": {},
     "output_type": "execute_result"
    }
   ],
   "source": [
    "result = s2 - s1  # 같은 index의 원소끼리의 날짜 차이 계산\n",
    "result"
   ]
  },
  {
   "cell_type": "code",
   "execution_count": null,
   "id": "2466f86f",
   "metadata": {},
   "outputs": [],
   "source": [
    "#-------------------------------------------------------"
   ]
  },
  {
   "cell_type": "code",
   "execution_count": 71,
   "id": "03aab58d",
   "metadata": {
    "ExecuteTime": {
     "end_time": "2023-01-12T08:08:04.852244Z",
     "start_time": "2023-01-12T08:08:04.834328Z"
    }
   },
   "outputs": [
    {
     "data": {
      "text/plain": [
       "0   2009-12-15\n",
       "1   2010-02-12\n",
       "2   2010-05-15\n",
       "dtype: datetime64[ns]"
      ]
     },
     "execution_count": 71,
     "metadata": {},
     "output_type": "execute_result"
    }
   ],
   "source": [
    "# Timedalta 객체 생성\n",
    "# 간격: days, seconds, millseconds, microsecond, minutes, hours, weeks)\n",
    "t_dela = pd.Timedelta(days=3)\n",
    "t_dela = pd.Timedelta(weeks=2, days=3)\n",
    "\n",
    "s1 + t_dela     # s1 날짜에서 3일 후 날짜를 계산 => element-wise 연산.\n",
    "s1 - t_dela     # s1 날짜에서 3일 후 날짜를 계산 => element-wise 연산."
   ]
  },
  {
   "cell_type": "markdown",
   "id": "b7743ec6",
   "metadata": {
    "slideshow": {
     "slide_type": "slide"
    }
   },
   "source": [
    "# 시계열 데이터셋\n",
    "\n",
    "- 판다스에서 시계열 데이터셋의 가장 기본적인 형태는 Index가 datetime 타입인 Series나 DataFrame 객체이다.\n",
    "    - DateTimeIndex: datetime 타입의 index 타입"
   ]
  },
  {
   "cell_type": "code",
   "execution_count": 76,
   "id": "7f5090fe",
   "metadata": {
    "ExecuteTime": {
     "end_time": "2023-01-12T08:46:26.929946Z",
     "start_time": "2023-01-12T08:46:26.904936Z"
    },
    "scrolled": true,
    "slideshow": {
     "slide_type": "fragment"
    }
   },
   "outputs": [
    {
     "name": "stdout",
     "output_type": "stream",
     "text": [
      "<class 'pandas.core.series.Series'>\n",
      "DatetimeIndex: 24 entries, 2022-01-01 to 2023-03-04\n",
      "Series name: None\n",
      "Non-Null Count  Dtype  \n",
      "--------------  -----  \n",
      "24 non-null     float64\n",
      "dtypes: float64(1)\n",
      "memory usage: 384.0 bytes\n"
     ]
    },
    {
     "data": {
      "text/plain": [
       "2022-01-01    1.764052\n",
       "2022-01-02    0.400157\n",
       "2022-01-03    0.978738\n",
       "2022-01-04    2.240893\n",
       "2022-02-01    1.867558\n",
       "2022-02-02   -0.977278\n",
       "2022-02-03    0.950088\n",
       "2022-02-04   -0.151357\n",
       "2022-03-01   -0.103219\n",
       "2022-03-02    0.410599\n",
       "2022-03-03    0.144044\n",
       "2022-03-04    1.454274\n",
       "2023-01-01    0.761038\n",
       "2023-01-02    0.121675\n",
       "2023-01-03    0.443863\n",
       "2023-01-04    0.333674\n",
       "2023-02-01    1.494079\n",
       "2023-02-02   -0.205158\n",
       "2023-02-03    0.313068\n",
       "2023-02-04   -0.854096\n",
       "2023-03-01   -2.552990\n",
       "2023-03-02    0.653619\n",
       "2023-03-03    0.864436\n",
       "2023-03-04   -0.742165\n",
       "dtype: float64"
      ]
     },
     "execution_count": 76,
     "metadata": {},
     "output_type": "execute_result"
    }
   ],
   "source": [
    "from datetime import datetime\n",
    "import pandas as pd\n",
    "import numpy as np\n",
    "\n",
    "dates = [\n",
    "    datetime(2022, 1, 1),datetime(2022, 1, 2),\n",
    "    datetime(2022, 1, 3),datetime(2022, 1, 4),\n",
    "    datetime(2022, 2, 1),datetime(2022, 2, 2),\n",
    "    datetime(2022, 2, 3),datetime(2022, 2, 4),\n",
    "    datetime(2022, 3, 1),datetime(2022, 3, 2),\n",
    "    datetime(2022, 3, 3),datetime(2022, 3, 4),\n",
    "    datetime(2023, 1, 1),datetime(2023, 1, 2),\n",
    "    datetime(2023, 1, 3),datetime(2023, 1, 4),\n",
    "    datetime(2023, 2, 1),datetime(2023, 2, 2),\n",
    "    datetime(2023, 2, 3),datetime(2023, 2, 4),\n",
    "    datetime(2023, 3, 1),datetime(2023, 3, 2),\n",
    "    datetime(2023, 3, 3),datetime(2023, 3, 4),\n",
    "]\n",
    "np.random.seed(0)\n",
    "values = np.random.standard_normal(size=24)  # 표준정규분포(평균:0, 표준편차:1) 난수\n",
    "\n",
    "s = pd.Series(values, index=dates)\n",
    "s.info()\n",
    "s"
   ]
  },
  {
   "cell_type": "code",
   "execution_count": 77,
   "id": "80ad6442",
   "metadata": {
    "ExecuteTime": {
     "end_time": "2023-01-12T08:46:39.008465Z",
     "start_time": "2023-01-12T08:46:38.996624Z"
    }
   },
   "outputs": [
    {
     "data": {
      "text/plain": [
       "DatetimeIndex(['2022-01-01', '2022-01-02', '2022-01-03', '2022-01-04',\n",
       "               '2022-02-01', '2022-02-02', '2022-02-03', '2022-02-04',\n",
       "               '2022-03-01', '2022-03-02', '2022-03-03', '2022-03-04',\n",
       "               '2023-01-01', '2023-01-02', '2023-01-03', '2023-01-04',\n",
       "               '2023-02-01', '2023-02-02', '2023-02-03', '2023-02-04',\n",
       "               '2023-03-01', '2023-03-02', '2023-03-03', '2023-03-04'],\n",
       "              dtype='datetime64[ns]', freq=None)"
      ]
     },
     "execution_count": 77,
     "metadata": {},
     "output_type": "execute_result"
    }
   ],
   "source": [
    "s.index"
   ]
  },
  {
   "cell_type": "code",
   "execution_count": 78,
   "id": "f3ca3745",
   "metadata": {
    "ExecuteTime": {
     "end_time": "2023-01-12T08:46:47.967940Z",
     "start_time": "2023-01-12T08:46:47.956929Z"
    }
   },
   "outputs": [
    {
     "data": {
      "text/plain": [
       "Timestamp('2022-01-01 00:00:00')"
      ]
     },
     "execution_count": 78,
     "metadata": {},
     "output_type": "execute_result"
    }
   ],
   "source": [
    "s.index[0]  #DateTimeIndex의 원소들은  Timestamp 타입."
   ]
  },
  {
   "cell_type": "markdown",
   "id": "8b37f70c",
   "metadata": {
    "slideshow": {
     "slide_type": "subslide"
    }
   },
   "source": [
    "## DatatimeIndex indexing 과 slicing\n",
    "- Index가 Datetime 타입일 경우(DatetimeIndex) 날짜 시간의 각 요소들(ex: 년도, 월, 시간등등)을 이용해 다양한 조회가 가능하다."
   ]
  },
  {
   "cell_type": "code",
   "execution_count": 79,
   "id": "8389df1a",
   "metadata": {
    "ExecuteTime": {
     "end_time": "2023-01-12T08:47:15.294677Z",
     "start_time": "2023-01-12T08:47:15.283642Z"
    },
    "slideshow": {
     "slide_type": "fragment"
    }
   },
   "outputs": [
    {
     "data": {
      "text/plain": [
       "0.4001572083672233"
      ]
     },
     "execution_count": 79,
     "metadata": {},
     "output_type": "execute_result"
    }
   ],
   "source": [
    "# indexing - 문자열로 조회\n",
    "# s[pd.Timestamp(2022, 1, 1)]\n",
    "s['2022-01-02']"
   ]
  },
  {
   "cell_type": "code",
   "execution_count": 80,
   "id": "30c25609",
   "metadata": {
    "ExecuteTime": {
     "end_time": "2023-01-12T08:47:16.811800Z",
     "start_time": "2023-01-12T08:47:16.795344Z"
    }
   },
   "outputs": [
    {
     "data": {
      "text/plain": [
       "2022-02-01    1.867558\n",
       "2022-02-02   -0.977278\n",
       "2022-02-03    0.950088\n",
       "2022-02-04   -0.151357\n",
       "dtype: float64"
      ]
     },
     "execution_count": 80,
     "metadata": {},
     "output_type": "execute_result"
    }
   ],
   "source": [
    "# 부분일치 조회\n",
    "s['2022']  # 2022년 원소들\n",
    "s['2022-02'] # 2022년 2월 원소들"
   ]
  },
  {
   "cell_type": "markdown",
   "id": "d16307c7",
   "metadata": {
    "slideshow": {
     "slide_type": "subslide"
    }
   },
   "source": [
    "### slicing\n",
    "- 부분 매칭(날짜/시간의 특정 요소만으로 매칭)으로 slicing이 가능하다."
   ]
  },
  {
   "cell_type": "code",
   "execution_count": 81,
   "id": "bfdb58d5",
   "metadata": {
    "ExecuteTime": {
     "end_time": "2023-01-12T08:48:47.532016Z",
     "start_time": "2023-01-12T08:48:47.514786Z"
    }
   },
   "outputs": [
    {
     "data": {
      "text/plain": [
       "2022-02-02   -0.977278\n",
       "2022-03-01   -0.103219\n",
       "2022-03-04    1.454274\n",
       "2023-01-03    0.443863\n",
       "dtype: float64"
      ]
     },
     "execution_count": 81,
     "metadata": {},
     "output_type": "execute_result"
    }
   ],
   "source": [
    "s['2022-02-02':'2023-01-03']  #start, stop 포함.\n",
    "s['2022-02-02':'2023-01-03':3]"
   ]
  },
  {
   "cell_type": "code",
   "execution_count": 82,
   "id": "319aecf9",
   "metadata": {
    "ExecuteTime": {
     "end_time": "2023-01-12T08:48:49.660395Z",
     "start_time": "2023-01-12T08:48:49.642443Z"
    }
   },
   "outputs": [
    {
     "data": {
      "text/plain": [
       "2022-01-01    1.764052\n",
       "2022-01-02    0.400157\n",
       "2022-01-03    0.978738\n",
       "2022-01-04    2.240893\n",
       "2022-02-01    1.867558\n",
       "2022-02-02   -0.977278\n",
       "2022-02-03    0.950088\n",
       "2022-02-04   -0.151357\n",
       "2022-03-01   -0.103219\n",
       "2022-03-02    0.410599\n",
       "2022-03-03    0.144044\n",
       "2022-03-04    1.454274\n",
       "2023-01-01    0.761038\n",
       "2023-01-02    0.121675\n",
       "2023-01-03    0.443863\n",
       "2023-01-04    0.333674\n",
       "2023-02-01    1.494079\n",
       "2023-02-02   -0.205158\n",
       "2023-02-03    0.313068\n",
       "2023-02-04   -0.854096\n",
       "dtype: float64"
      ]
     },
     "execution_count": 82,
     "metadata": {},
     "output_type": "execute_result"
    }
   ],
   "source": [
    "s['2022-01': '2022-02']\n",
    "s['2022-01': '2023-02']  # 2022년 1월 1일 ~ 2023년 2월 28(마지막날)"
   ]
  },
  {
   "cell_type": "code",
   "execution_count": 83,
   "id": "c1ccff04",
   "metadata": {
    "ExecuteTime": {
     "end_time": "2023-01-12T08:48:51.698091Z",
     "start_time": "2023-01-12T08:48:51.678376Z"
    }
   },
   "outputs": [
    {
     "data": {
      "text/plain": [
       "2022-01-01    1.764052\n",
       "2022-01-02    0.400157\n",
       "2022-01-03    0.978738\n",
       "2022-01-04    2.240893\n",
       "2022-02-01    1.867558\n",
       "2022-02-02   -0.977278\n",
       "2022-02-03    0.950088\n",
       "2022-02-04   -0.151357\n",
       "2022-03-01   -0.103219\n",
       "2022-03-02    0.410599\n",
       "2022-03-03    0.144044\n",
       "2022-03-04    1.454274\n",
       "2023-01-01    0.761038\n",
       "2023-01-02    0.121675\n",
       "2023-01-03    0.443863\n",
       "2023-01-04    0.333674\n",
       "2023-02-01    1.494079\n",
       "2023-02-02   -0.205158\n",
       "2023-02-03    0.313068\n",
       "2023-02-04   -0.854096\n",
       "2023-03-01   -2.552990\n",
       "2023-03-02    0.653619\n",
       "2023-03-03    0.864436\n",
       "2023-03-04   -0.742165\n",
       "dtype: float64"
      ]
     },
     "execution_count": 83,
     "metadata": {},
     "output_type": "execute_result"
    }
   ],
   "source": [
    "s['2022':'2023']  #2022년 1월 1일 ~ 2023년 12월 31일"
   ]
  },
  {
   "cell_type": "code",
   "execution_count": 84,
   "id": "e4353664",
   "metadata": {
    "ExecuteTime": {
     "end_time": "2023-01-12T08:48:54.690869Z",
     "start_time": "2023-01-12T08:48:54.657409Z"
    }
   },
   "outputs": [
    {
     "data": {
      "text/html": [
       "<div>\n",
       "<style scoped>\n",
       "    .dataframe tbody tr th:only-of-type {\n",
       "        vertical-align: middle;\n",
       "    }\n",
       "\n",
       "    .dataframe tbody tr th {\n",
       "        vertical-align: top;\n",
       "    }\n",
       "\n",
       "    .dataframe thead th {\n",
       "        text-align: right;\n",
       "    }\n",
       "</style>\n",
       "<table border=\"1\" class=\"dataframe\">\n",
       "  <thead>\n",
       "    <tr style=\"text-align: right;\">\n",
       "      <th></th>\n",
       "      <th>Open</th>\n",
       "      <th>High</th>\n",
       "      <th>Low</th>\n",
       "      <th>Close</th>\n",
       "      <th>Volume</th>\n",
       "      <th>Adj Close</th>\n",
       "    </tr>\n",
       "    <tr>\n",
       "      <th>Date</th>\n",
       "      <th></th>\n",
       "      <th></th>\n",
       "      <th></th>\n",
       "      <th></th>\n",
       "      <th></th>\n",
       "      <th></th>\n",
       "    </tr>\n",
       "  </thead>\n",
       "  <tbody>\n",
       "    <tr>\n",
       "      <th>2012-01-03</th>\n",
       "      <td>59.970001</td>\n",
       "      <td>61.060001</td>\n",
       "      <td>59.869999</td>\n",
       "      <td>60.330002</td>\n",
       "      <td>12668800</td>\n",
       "      <td>52.619235</td>\n",
       "    </tr>\n",
       "    <tr>\n",
       "      <th>2012-01-04</th>\n",
       "      <td>60.209999</td>\n",
       "      <td>60.349998</td>\n",
       "      <td>59.470001</td>\n",
       "      <td>59.709999</td>\n",
       "      <td>9593300</td>\n",
       "      <td>52.078475</td>\n",
       "    </tr>\n",
       "    <tr>\n",
       "      <th>2012-01-05</th>\n",
       "      <td>59.349998</td>\n",
       "      <td>59.619999</td>\n",
       "      <td>58.369999</td>\n",
       "      <td>59.419998</td>\n",
       "      <td>12768200</td>\n",
       "      <td>51.825539</td>\n",
       "    </tr>\n",
       "    <tr>\n",
       "      <th>2012-01-06</th>\n",
       "      <td>59.419998</td>\n",
       "      <td>59.450001</td>\n",
       "      <td>58.869999</td>\n",
       "      <td>59.000000</td>\n",
       "      <td>8069400</td>\n",
       "      <td>51.459220</td>\n",
       "    </tr>\n",
       "    <tr>\n",
       "      <th>2012-01-09</th>\n",
       "      <td>59.029999</td>\n",
       "      <td>59.549999</td>\n",
       "      <td>58.919998</td>\n",
       "      <td>59.180000</td>\n",
       "      <td>6679300</td>\n",
       "      <td>51.616215</td>\n",
       "    </tr>\n",
       "    <tr>\n",
       "      <th>...</th>\n",
       "      <td>...</td>\n",
       "      <td>...</td>\n",
       "      <td>...</td>\n",
       "      <td>...</td>\n",
       "      <td>...</td>\n",
       "      <td>...</td>\n",
       "    </tr>\n",
       "    <tr>\n",
       "      <th>2016-12-23</th>\n",
       "      <td>69.430000</td>\n",
       "      <td>69.750000</td>\n",
       "      <td>69.360001</td>\n",
       "      <td>69.540001</td>\n",
       "      <td>4803900</td>\n",
       "      <td>69.032411</td>\n",
       "    </tr>\n",
       "    <tr>\n",
       "      <th>2016-12-27</th>\n",
       "      <td>69.300003</td>\n",
       "      <td>69.820000</td>\n",
       "      <td>69.250000</td>\n",
       "      <td>69.699997</td>\n",
       "      <td>4435700</td>\n",
       "      <td>69.191240</td>\n",
       "    </tr>\n",
       "    <tr>\n",
       "      <th>2016-12-28</th>\n",
       "      <td>69.940002</td>\n",
       "      <td>70.000000</td>\n",
       "      <td>69.260002</td>\n",
       "      <td>69.309998</td>\n",
       "      <td>4875700</td>\n",
       "      <td>68.804087</td>\n",
       "    </tr>\n",
       "    <tr>\n",
       "      <th>2016-12-29</th>\n",
       "      <td>69.209999</td>\n",
       "      <td>69.519997</td>\n",
       "      <td>69.120003</td>\n",
       "      <td>69.260002</td>\n",
       "      <td>4298400</td>\n",
       "      <td>68.754456</td>\n",
       "    </tr>\n",
       "    <tr>\n",
       "      <th>2016-12-30</th>\n",
       "      <td>69.120003</td>\n",
       "      <td>69.430000</td>\n",
       "      <td>68.830002</td>\n",
       "      <td>69.120003</td>\n",
       "      <td>6889500</td>\n",
       "      <td>68.615479</td>\n",
       "    </tr>\n",
       "  </tbody>\n",
       "</table>\n",
       "<p>1258 rows × 6 columns</p>\n",
       "</div>"
      ],
      "text/plain": [
       "                 Open       High        Low      Close    Volume  Adj Close\n",
       "Date                                                                       \n",
       "2012-01-03  59.970001  61.060001  59.869999  60.330002  12668800  52.619235\n",
       "2012-01-04  60.209999  60.349998  59.470001  59.709999   9593300  52.078475\n",
       "2012-01-05  59.349998  59.619999  58.369999  59.419998  12768200  51.825539\n",
       "2012-01-06  59.419998  59.450001  58.869999  59.000000   8069400  51.459220\n",
       "2012-01-09  59.029999  59.549999  58.919998  59.180000   6679300  51.616215\n",
       "...               ...        ...        ...        ...       ...        ...\n",
       "2016-12-23  69.430000  69.750000  69.360001  69.540001   4803900  69.032411\n",
       "2016-12-27  69.300003  69.820000  69.250000  69.699997   4435700  69.191240\n",
       "2016-12-28  69.940002  70.000000  69.260002  69.309998   4875700  68.804087\n",
       "2016-12-29  69.209999  69.519997  69.120003  69.260002   4298400  68.754456\n",
       "2016-12-30  69.120003  69.430000  68.830002  69.120003   6889500  68.615479\n",
       "\n",
       "[1258 rows x 6 columns]"
      ]
     },
     "execution_count": 84,
     "metadata": {},
     "output_type": "execute_result"
    }
   ],
   "source": [
    "df = pd.read_csv('data/walmart_stock.csv', parse_dates=[0], index_col=0)\n",
    "df"
   ]
  },
  {
   "cell_type": "code",
   "execution_count": 85,
   "id": "510f585c",
   "metadata": {
    "ExecuteTime": {
     "end_time": "2023-01-12T08:48:57.044966Z",
     "start_time": "2023-01-12T08:48:57.031500Z"
    }
   },
   "outputs": [
    {
     "data": {
      "text/plain": [
       "DatetimeIndex(['2012-01-03', '2012-01-04', '2012-01-05', '2012-01-06',\n",
       "               '2012-01-09', '2012-01-10', '2012-01-11', '2012-01-12',\n",
       "               '2012-01-13', '2012-01-17',\n",
       "               ...\n",
       "               '2016-12-16', '2016-12-19', '2016-12-20', '2016-12-21',\n",
       "               '2016-12-22', '2016-12-23', '2016-12-27', '2016-12-28',\n",
       "               '2016-12-29', '2016-12-30'],\n",
       "              dtype='datetime64[ns]', name='Date', length=1258, freq=None)"
      ]
     },
     "execution_count": 85,
     "metadata": {},
     "output_type": "execute_result"
    }
   ],
   "source": [
    "df.index"
   ]
  },
  {
   "cell_type": "code",
   "execution_count": 86,
   "id": "0738adaf",
   "metadata": {
    "ExecuteTime": {
     "end_time": "2023-01-12T08:48:59.060446Z",
     "start_time": "2023-01-12T08:48:59.046823Z"
    }
   },
   "outputs": [
    {
     "data": {
      "text/plain": [
       "Open         5.997000e+01\n",
       "High         6.106000e+01\n",
       "Low          5.987000e+01\n",
       "Close        6.033000e+01\n",
       "Volume       1.266880e+07\n",
       "Adj Close    5.261924e+01\n",
       "Name: 2012-01-03 00:00:00, dtype: float64"
      ]
     },
     "execution_count": 86,
     "metadata": {},
     "output_type": "execute_result"
    }
   ],
   "source": [
    "df.loc['2012-01-03']"
   ]
  },
  {
   "cell_type": "code",
   "execution_count": 87,
   "id": "b57f1065",
   "metadata": {
    "ExecuteTime": {
     "end_time": "2023-01-12T08:49:01.000563Z",
     "start_time": "2023-01-12T08:49:00.972239Z"
    }
   },
   "outputs": [
    {
     "data": {
      "text/html": [
       "<div>\n",
       "<style scoped>\n",
       "    .dataframe tbody tr th:only-of-type {\n",
       "        vertical-align: middle;\n",
       "    }\n",
       "\n",
       "    .dataframe tbody tr th {\n",
       "        vertical-align: top;\n",
       "    }\n",
       "\n",
       "    .dataframe thead th {\n",
       "        text-align: right;\n",
       "    }\n",
       "</style>\n",
       "<table border=\"1\" class=\"dataframe\">\n",
       "  <thead>\n",
       "    <tr style=\"text-align: right;\">\n",
       "      <th></th>\n",
       "      <th>Open</th>\n",
       "      <th>High</th>\n",
       "      <th>Low</th>\n",
       "      <th>Close</th>\n",
       "      <th>Volume</th>\n",
       "      <th>Adj Close</th>\n",
       "    </tr>\n",
       "    <tr>\n",
       "      <th>Date</th>\n",
       "      <th></th>\n",
       "      <th></th>\n",
       "      <th></th>\n",
       "      <th></th>\n",
       "      <th></th>\n",
       "      <th></th>\n",
       "    </tr>\n",
       "  </thead>\n",
       "  <tbody>\n",
       "    <tr>\n",
       "      <th>2012-01-03</th>\n",
       "      <td>59.970001</td>\n",
       "      <td>61.060001</td>\n",
       "      <td>59.869999</td>\n",
       "      <td>60.330002</td>\n",
       "      <td>12668800</td>\n",
       "      <td>52.619235</td>\n",
       "    </tr>\n",
       "    <tr>\n",
       "      <th>2012-01-04</th>\n",
       "      <td>60.209999</td>\n",
       "      <td>60.349998</td>\n",
       "      <td>59.470001</td>\n",
       "      <td>59.709999</td>\n",
       "      <td>9593300</td>\n",
       "      <td>52.078475</td>\n",
       "    </tr>\n",
       "    <tr>\n",
       "      <th>2012-01-05</th>\n",
       "      <td>59.349998</td>\n",
       "      <td>59.619999</td>\n",
       "      <td>58.369999</td>\n",
       "      <td>59.419998</td>\n",
       "      <td>12768200</td>\n",
       "      <td>51.825539</td>\n",
       "    </tr>\n",
       "    <tr>\n",
       "      <th>2012-01-06</th>\n",
       "      <td>59.419998</td>\n",
       "      <td>59.450001</td>\n",
       "      <td>58.869999</td>\n",
       "      <td>59.000000</td>\n",
       "      <td>8069400</td>\n",
       "      <td>51.459220</td>\n",
       "    </tr>\n",
       "    <tr>\n",
       "      <th>2012-01-09</th>\n",
       "      <td>59.029999</td>\n",
       "      <td>59.549999</td>\n",
       "      <td>58.919998</td>\n",
       "      <td>59.180000</td>\n",
       "      <td>6679300</td>\n",
       "      <td>51.616215</td>\n",
       "    </tr>\n",
       "    <tr>\n",
       "      <th>2012-01-10</th>\n",
       "      <td>59.430000</td>\n",
       "      <td>59.709999</td>\n",
       "      <td>58.980000</td>\n",
       "      <td>59.040001</td>\n",
       "      <td>6907300</td>\n",
       "      <td>51.494109</td>\n",
       "    </tr>\n",
       "    <tr>\n",
       "      <th>2012-01-11</th>\n",
       "      <td>59.060001</td>\n",
       "      <td>59.529999</td>\n",
       "      <td>59.040001</td>\n",
       "      <td>59.400002</td>\n",
       "      <td>6365600</td>\n",
       "      <td>51.808098</td>\n",
       "    </tr>\n",
       "    <tr>\n",
       "      <th>2012-01-12</th>\n",
       "      <td>59.790001</td>\n",
       "      <td>60.000000</td>\n",
       "      <td>59.400002</td>\n",
       "      <td>59.500000</td>\n",
       "      <td>7236400</td>\n",
       "      <td>51.895316</td>\n",
       "    </tr>\n",
       "    <tr>\n",
       "      <th>2012-01-13</th>\n",
       "      <td>59.180000</td>\n",
       "      <td>59.610001</td>\n",
       "      <td>59.009998</td>\n",
       "      <td>59.540001</td>\n",
       "      <td>7729300</td>\n",
       "      <td>51.930204</td>\n",
       "    </tr>\n",
       "    <tr>\n",
       "      <th>2012-01-17</th>\n",
       "      <td>59.869999</td>\n",
       "      <td>60.110001</td>\n",
       "      <td>59.520000</td>\n",
       "      <td>59.849998</td>\n",
       "      <td>8500000</td>\n",
       "      <td>52.200581</td>\n",
       "    </tr>\n",
       "    <tr>\n",
       "      <th>2012-01-18</th>\n",
       "      <td>59.790001</td>\n",
       "      <td>60.029999</td>\n",
       "      <td>59.650002</td>\n",
       "      <td>60.009998</td>\n",
       "      <td>5911400</td>\n",
       "      <td>52.340131</td>\n",
       "    </tr>\n",
       "    <tr>\n",
       "      <th>2012-01-19</th>\n",
       "      <td>59.930000</td>\n",
       "      <td>60.730000</td>\n",
       "      <td>59.750000</td>\n",
       "      <td>60.610001</td>\n",
       "      <td>9234600</td>\n",
       "      <td>52.863447</td>\n",
       "    </tr>\n",
       "    <tr>\n",
       "      <th>2012-01-20</th>\n",
       "      <td>60.750000</td>\n",
       "      <td>61.250000</td>\n",
       "      <td>60.669998</td>\n",
       "      <td>61.009998</td>\n",
       "      <td>10378800</td>\n",
       "      <td>53.212321</td>\n",
       "    </tr>\n",
       "  </tbody>\n",
       "</table>\n",
       "</div>"
      ],
      "text/plain": [
       "                 Open       High        Low      Close    Volume  Adj Close\n",
       "Date                                                                       \n",
       "2012-01-03  59.970001  61.060001  59.869999  60.330002  12668800  52.619235\n",
       "2012-01-04  60.209999  60.349998  59.470001  59.709999   9593300  52.078475\n",
       "2012-01-05  59.349998  59.619999  58.369999  59.419998  12768200  51.825539\n",
       "2012-01-06  59.419998  59.450001  58.869999  59.000000   8069400  51.459220\n",
       "2012-01-09  59.029999  59.549999  58.919998  59.180000   6679300  51.616215\n",
       "2012-01-10  59.430000  59.709999  58.980000  59.040001   6907300  51.494109\n",
       "2012-01-11  59.060001  59.529999  59.040001  59.400002   6365600  51.808098\n",
       "2012-01-12  59.790001  60.000000  59.400002  59.500000   7236400  51.895316\n",
       "2012-01-13  59.180000  59.610001  59.009998  59.540001   7729300  51.930204\n",
       "2012-01-17  59.869999  60.110001  59.520000  59.849998   8500000  52.200581\n",
       "2012-01-18  59.790001  60.029999  59.650002  60.009998   5911400  52.340131\n",
       "2012-01-19  59.930000  60.730000  59.750000  60.610001   9234600  52.863447\n",
       "2012-01-20  60.750000  61.250000  60.669998  61.009998  10378800  53.212321"
      ]
     },
     "execution_count": 87,
     "metadata": {},
     "output_type": "execute_result"
    }
   ],
   "source": [
    "df.loc['2012-01-03': '2012/01/20']"
   ]
  },
  {
   "cell_type": "code",
   "execution_count": 88,
   "id": "c5cfa4a6",
   "metadata": {
    "ExecuteTime": {
     "end_time": "2023-01-12T08:49:04.289638Z",
     "start_time": "2023-01-12T08:49:04.260477Z"
    }
   },
   "outputs": [
    {
     "data": {
      "text/html": [
       "<div>\n",
       "<style scoped>\n",
       "    .dataframe tbody tr th:only-of-type {\n",
       "        vertical-align: middle;\n",
       "    }\n",
       "\n",
       "    .dataframe tbody tr th {\n",
       "        vertical-align: top;\n",
       "    }\n",
       "\n",
       "    .dataframe thead th {\n",
       "        text-align: right;\n",
       "    }\n",
       "</style>\n",
       "<table border=\"1\" class=\"dataframe\">\n",
       "  <thead>\n",
       "    <tr style=\"text-align: right;\">\n",
       "      <th></th>\n",
       "      <th>Open</th>\n",
       "      <th>High</th>\n",
       "      <th>Low</th>\n",
       "      <th>Close</th>\n",
       "      <th>Volume</th>\n",
       "      <th>Adj Close</th>\n",
       "    </tr>\n",
       "    <tr>\n",
       "      <th>Date</th>\n",
       "      <th></th>\n",
       "      <th></th>\n",
       "      <th></th>\n",
       "      <th></th>\n",
       "      <th></th>\n",
       "      <th></th>\n",
       "    </tr>\n",
       "  </thead>\n",
       "  <tbody>\n",
       "    <tr>\n",
       "      <th>2012-01-03</th>\n",
       "      <td>59.970001</td>\n",
       "      <td>61.060001</td>\n",
       "      <td>59.869999</td>\n",
       "      <td>60.330002</td>\n",
       "      <td>12668800</td>\n",
       "      <td>52.619235</td>\n",
       "    </tr>\n",
       "    <tr>\n",
       "      <th>2012-01-04</th>\n",
       "      <td>60.209999</td>\n",
       "      <td>60.349998</td>\n",
       "      <td>59.470001</td>\n",
       "      <td>59.709999</td>\n",
       "      <td>9593300</td>\n",
       "      <td>52.078475</td>\n",
       "    </tr>\n",
       "    <tr>\n",
       "      <th>2012-01-05</th>\n",
       "      <td>59.349998</td>\n",
       "      <td>59.619999</td>\n",
       "      <td>58.369999</td>\n",
       "      <td>59.419998</td>\n",
       "      <td>12768200</td>\n",
       "      <td>51.825539</td>\n",
       "    </tr>\n",
       "    <tr>\n",
       "      <th>2012-01-06</th>\n",
       "      <td>59.419998</td>\n",
       "      <td>59.450001</td>\n",
       "      <td>58.869999</td>\n",
       "      <td>59.000000</td>\n",
       "      <td>8069400</td>\n",
       "      <td>51.459220</td>\n",
       "    </tr>\n",
       "    <tr>\n",
       "      <th>2012-01-09</th>\n",
       "      <td>59.029999</td>\n",
       "      <td>59.549999</td>\n",
       "      <td>58.919998</td>\n",
       "      <td>59.180000</td>\n",
       "      <td>6679300</td>\n",
       "      <td>51.616215</td>\n",
       "    </tr>\n",
       "    <tr>\n",
       "      <th>2012-01-10</th>\n",
       "      <td>59.430000</td>\n",
       "      <td>59.709999</td>\n",
       "      <td>58.980000</td>\n",
       "      <td>59.040001</td>\n",
       "      <td>6907300</td>\n",
       "      <td>51.494109</td>\n",
       "    </tr>\n",
       "    <tr>\n",
       "      <th>2012-01-11</th>\n",
       "      <td>59.060001</td>\n",
       "      <td>59.529999</td>\n",
       "      <td>59.040001</td>\n",
       "      <td>59.400002</td>\n",
       "      <td>6365600</td>\n",
       "      <td>51.808098</td>\n",
       "    </tr>\n",
       "    <tr>\n",
       "      <th>2012-01-12</th>\n",
       "      <td>59.790001</td>\n",
       "      <td>60.000000</td>\n",
       "      <td>59.400002</td>\n",
       "      <td>59.500000</td>\n",
       "      <td>7236400</td>\n",
       "      <td>51.895316</td>\n",
       "    </tr>\n",
       "    <tr>\n",
       "      <th>2012-01-13</th>\n",
       "      <td>59.180000</td>\n",
       "      <td>59.610001</td>\n",
       "      <td>59.009998</td>\n",
       "      <td>59.540001</td>\n",
       "      <td>7729300</td>\n",
       "      <td>51.930204</td>\n",
       "    </tr>\n",
       "    <tr>\n",
       "      <th>2012-01-17</th>\n",
       "      <td>59.869999</td>\n",
       "      <td>60.110001</td>\n",
       "      <td>59.520000</td>\n",
       "      <td>59.849998</td>\n",
       "      <td>8500000</td>\n",
       "      <td>52.200581</td>\n",
       "    </tr>\n",
       "    <tr>\n",
       "      <th>2012-01-18</th>\n",
       "      <td>59.790001</td>\n",
       "      <td>60.029999</td>\n",
       "      <td>59.650002</td>\n",
       "      <td>60.009998</td>\n",
       "      <td>5911400</td>\n",
       "      <td>52.340131</td>\n",
       "    </tr>\n",
       "    <tr>\n",
       "      <th>2012-01-19</th>\n",
       "      <td>59.930000</td>\n",
       "      <td>60.730000</td>\n",
       "      <td>59.750000</td>\n",
       "      <td>60.610001</td>\n",
       "      <td>9234600</td>\n",
       "      <td>52.863447</td>\n",
       "    </tr>\n",
       "    <tr>\n",
       "      <th>2012-01-20</th>\n",
       "      <td>60.750000</td>\n",
       "      <td>61.250000</td>\n",
       "      <td>60.669998</td>\n",
       "      <td>61.009998</td>\n",
       "      <td>10378800</td>\n",
       "      <td>53.212321</td>\n",
       "    </tr>\n",
       "    <tr>\n",
       "      <th>2012-01-23</th>\n",
       "      <td>60.810001</td>\n",
       "      <td>60.980000</td>\n",
       "      <td>60.509998</td>\n",
       "      <td>60.910000</td>\n",
       "      <td>7134100</td>\n",
       "      <td>53.125104</td>\n",
       "    </tr>\n",
       "    <tr>\n",
       "      <th>2012-01-24</th>\n",
       "      <td>60.750000</td>\n",
       "      <td>62.000000</td>\n",
       "      <td>60.750000</td>\n",
       "      <td>61.389999</td>\n",
       "      <td>7362800</td>\n",
       "      <td>53.543754</td>\n",
       "    </tr>\n",
       "    <tr>\n",
       "      <th>2012-01-25</th>\n",
       "      <td>61.180000</td>\n",
       "      <td>61.610001</td>\n",
       "      <td>61.040001</td>\n",
       "      <td>61.470001</td>\n",
       "      <td>5915800</td>\n",
       "      <td>53.613531</td>\n",
       "    </tr>\n",
       "    <tr>\n",
       "      <th>2012-01-26</th>\n",
       "      <td>61.799999</td>\n",
       "      <td>61.840000</td>\n",
       "      <td>60.770000</td>\n",
       "      <td>60.970001</td>\n",
       "      <td>7436200</td>\n",
       "      <td>53.177436</td>\n",
       "    </tr>\n",
       "    <tr>\n",
       "      <th>2012-01-27</th>\n",
       "      <td>60.860001</td>\n",
       "      <td>61.119999</td>\n",
       "      <td>60.540001</td>\n",
       "      <td>60.709999</td>\n",
       "      <td>6287300</td>\n",
       "      <td>52.950665</td>\n",
       "    </tr>\n",
       "    <tr>\n",
       "      <th>2012-01-30</th>\n",
       "      <td>60.470001</td>\n",
       "      <td>61.320000</td>\n",
       "      <td>60.349998</td>\n",
       "      <td>61.299999</td>\n",
       "      <td>7636900</td>\n",
       "      <td>53.465257</td>\n",
       "    </tr>\n",
       "    <tr>\n",
       "      <th>2012-01-31</th>\n",
       "      <td>61.529999</td>\n",
       "      <td>61.570000</td>\n",
       "      <td>60.580002</td>\n",
       "      <td>61.360001</td>\n",
       "      <td>9761500</td>\n",
       "      <td>53.517590</td>\n",
       "    </tr>\n",
       "  </tbody>\n",
       "</table>\n",
       "</div>"
      ],
      "text/plain": [
       "                 Open       High        Low      Close    Volume  Adj Close\n",
       "Date                                                                       \n",
       "2012-01-03  59.970001  61.060001  59.869999  60.330002  12668800  52.619235\n",
       "2012-01-04  60.209999  60.349998  59.470001  59.709999   9593300  52.078475\n",
       "2012-01-05  59.349998  59.619999  58.369999  59.419998  12768200  51.825539\n",
       "2012-01-06  59.419998  59.450001  58.869999  59.000000   8069400  51.459220\n",
       "2012-01-09  59.029999  59.549999  58.919998  59.180000   6679300  51.616215\n",
       "2012-01-10  59.430000  59.709999  58.980000  59.040001   6907300  51.494109\n",
       "2012-01-11  59.060001  59.529999  59.040001  59.400002   6365600  51.808098\n",
       "2012-01-12  59.790001  60.000000  59.400002  59.500000   7236400  51.895316\n",
       "2012-01-13  59.180000  59.610001  59.009998  59.540001   7729300  51.930204\n",
       "2012-01-17  59.869999  60.110001  59.520000  59.849998   8500000  52.200581\n",
       "2012-01-18  59.790001  60.029999  59.650002  60.009998   5911400  52.340131\n",
       "2012-01-19  59.930000  60.730000  59.750000  60.610001   9234600  52.863447\n",
       "2012-01-20  60.750000  61.250000  60.669998  61.009998  10378800  53.212321\n",
       "2012-01-23  60.810001  60.980000  60.509998  60.910000   7134100  53.125104\n",
       "2012-01-24  60.750000  62.000000  60.750000  61.389999   7362800  53.543754\n",
       "2012-01-25  61.180000  61.610001  61.040001  61.470001   5915800  53.613531\n",
       "2012-01-26  61.799999  61.840000  60.770000  60.970001   7436200  53.177436\n",
       "2012-01-27  60.860001  61.119999  60.540001  60.709999   6287300  52.950665\n",
       "2012-01-30  60.470001  61.320000  60.349998  61.299999   7636900  53.465257\n",
       "2012-01-31  61.529999  61.570000  60.580002  61.360001   9761500  53.517590"
      ]
     },
     "execution_count": 88,
     "metadata": {},
     "output_type": "execute_result"
    }
   ],
   "source": [
    "df.loc['2012-01']"
   ]
  },
  {
   "cell_type": "code",
   "execution_count": 89,
   "id": "13a2a422",
   "metadata": {
    "ExecuteTime": {
     "end_time": "2023-01-12T08:49:06.417213Z",
     "start_time": "2023-01-12T08:49:06.390944Z"
    }
   },
   "outputs": [
    {
     "data": {
      "text/html": [
       "<div>\n",
       "<style scoped>\n",
       "    .dataframe tbody tr th:only-of-type {\n",
       "        vertical-align: middle;\n",
       "    }\n",
       "\n",
       "    .dataframe tbody tr th {\n",
       "        vertical-align: top;\n",
       "    }\n",
       "\n",
       "    .dataframe thead th {\n",
       "        text-align: right;\n",
       "    }\n",
       "</style>\n",
       "<table border=\"1\" class=\"dataframe\">\n",
       "  <thead>\n",
       "    <tr style=\"text-align: right;\">\n",
       "      <th></th>\n",
       "      <th>Open</th>\n",
       "      <th>High</th>\n",
       "      <th>Low</th>\n",
       "      <th>Close</th>\n",
       "      <th>Volume</th>\n",
       "      <th>Adj Close</th>\n",
       "    </tr>\n",
       "    <tr>\n",
       "      <th>Date</th>\n",
       "      <th></th>\n",
       "      <th></th>\n",
       "      <th></th>\n",
       "      <th></th>\n",
       "      <th></th>\n",
       "      <th></th>\n",
       "    </tr>\n",
       "  </thead>\n",
       "  <tbody>\n",
       "    <tr>\n",
       "      <th>2012-01-03</th>\n",
       "      <td>59.970001</td>\n",
       "      <td>61.060001</td>\n",
       "      <td>59.869999</td>\n",
       "      <td>60.330002</td>\n",
       "      <td>12668800</td>\n",
       "      <td>52.619235</td>\n",
       "    </tr>\n",
       "    <tr>\n",
       "      <th>2012-01-10</th>\n",
       "      <td>59.430000</td>\n",
       "      <td>59.709999</td>\n",
       "      <td>58.980000</td>\n",
       "      <td>59.040001</td>\n",
       "      <td>6907300</td>\n",
       "      <td>51.494109</td>\n",
       "    </tr>\n",
       "    <tr>\n",
       "      <th>2012-01-18</th>\n",
       "      <td>59.790001</td>\n",
       "      <td>60.029999</td>\n",
       "      <td>59.650002</td>\n",
       "      <td>60.009998</td>\n",
       "      <td>5911400</td>\n",
       "      <td>52.340131</td>\n",
       "    </tr>\n",
       "    <tr>\n",
       "      <th>2012-01-25</th>\n",
       "      <td>61.180000</td>\n",
       "      <td>61.610001</td>\n",
       "      <td>61.040001</td>\n",
       "      <td>61.470001</td>\n",
       "      <td>5915800</td>\n",
       "      <td>53.613531</td>\n",
       "    </tr>\n",
       "    <tr>\n",
       "      <th>2012-02-01</th>\n",
       "      <td>61.790001</td>\n",
       "      <td>62.630001</td>\n",
       "      <td>61.790001</td>\n",
       "      <td>62.180000</td>\n",
       "      <td>12130600</td>\n",
       "      <td>54.232785</td>\n",
       "    </tr>\n",
       "    <tr>\n",
       "      <th>2012-02-08</th>\n",
       "      <td>61.910000</td>\n",
       "      <td>62.020000</td>\n",
       "      <td>61.230000</td>\n",
       "      <td>61.619999</td>\n",
       "      <td>7260000</td>\n",
       "      <td>53.744358</td>\n",
       "    </tr>\n",
       "    <tr>\n",
       "      <th>2012-02-15</th>\n",
       "      <td>62.320000</td>\n",
       "      <td>62.439999</td>\n",
       "      <td>61.590000</td>\n",
       "      <td>61.759998</td>\n",
       "      <td>5833700</td>\n",
       "      <td>53.866464</td>\n",
       "    </tr>\n",
       "    <tr>\n",
       "      <th>2012-02-23</th>\n",
       "      <td>58.590000</td>\n",
       "      <td>58.900002</td>\n",
       "      <td>58.209999</td>\n",
       "      <td>58.540001</td>\n",
       "      <td>14880300</td>\n",
       "      <td>51.058014</td>\n",
       "    </tr>\n",
       "  </tbody>\n",
       "</table>\n",
       "</div>"
      ],
      "text/plain": [
       "                 Open       High        Low      Close    Volume  Adj Close\n",
       "Date                                                                       \n",
       "2012-01-03  59.970001  61.060001  59.869999  60.330002  12668800  52.619235\n",
       "2012-01-10  59.430000  59.709999  58.980000  59.040001   6907300  51.494109\n",
       "2012-01-18  59.790001  60.029999  59.650002  60.009998   5911400  52.340131\n",
       "2012-01-25  61.180000  61.610001  61.040001  61.470001   5915800  53.613531\n",
       "2012-02-01  61.790001  62.630001  61.790001  62.180000  12130600  54.232785\n",
       "2012-02-08  61.910000  62.020000  61.230000  61.619999   7260000  53.744358\n",
       "2012-02-15  62.320000  62.439999  61.590000  61.759998   5833700  53.866464\n",
       "2012-02-23  58.590000  58.900002  58.209999  58.540001  14880300  51.058014"
      ]
     },
     "execution_count": 89,
     "metadata": {},
     "output_type": "execute_result"
    }
   ],
   "source": [
    "df.loc['2012-01': '2012/02']\n",
    "df.loc['2012-01': '2012/02': 5]"
   ]
  },
  {
   "cell_type": "code",
   "execution_count": null,
   "id": "7fb6c7b5",
   "metadata": {},
   "outputs": [],
   "source": []
  },
  {
   "cell_type": "code",
   "execution_count": null,
   "id": "4e2cb29e",
   "metadata": {},
   "outputs": [],
   "source": []
  },
  {
   "cell_type": "markdown",
   "id": "56ca1838",
   "metadata": {
    "slideshow": {
     "slide_type": "slide"
    }
   },
   "source": [
    "## DateOffsets\n",
    "- 빈도를 표현하는 타입이다.\n",
    "- DateOffsets 타입 객체나 문자 별칭을 이용하여 빈도간격을 표현한다.\n",
    "    - 타입: https://pandas.pydata.org/docs/user_guide/timeseries.html#dateoffset-objects\n",
    "    - 별칭: https://pandas.pydata.org/pandas-docs/stable/user_guide/timeseries.html#offset-aliases"
   ]
  },
  {
   "cell_type": "markdown",
   "id": "9066abc1",
   "metadata": {
    "slideshow": {
     "slide_type": "fragment"
    }
   },
   "source": [
    "### DateOffset 이용 메소드\n",
    "- **pd.date_range()**\n",
    "    - 동일한 간격 일시로 구성된(고정빈도)의 DatetimeIndex 생성한다.\n",
    "    - DatetimeIndex\n",
    "        - 일시 타입의 Index\n",
    "    - 주요 매개변수\n",
    "        - start: str 또는 datetime 형식 - 시작 날짜\n",
    "        - end: str 또는 datetime 형식 - 종료 날짜\n",
    "        - period:  생성할 개수\n",
    "            - start에서 end까지 periods에 지정한 개수에 맞춰 등분한 날짜로 구성된 DatetimeIndex를 반환한다.\n",
    "            - end 대신 period로 \n",
    "        - freq: str 또는 DateOffsets - 빈도 기준\n",
    "            - https://pandas.pydata.org/pandas-docs/stable/user_guide/timeseries.html#offset-aliases\n",
    "        - periods와 freq는 둘중 하나만 사용한다. 둘다 생략하면 **일별**로 생성한다.\n",
    "\n",
    "- **first(offset)**\n",
    "    - offset 빈도의 앞의 N개 행을 조회한다."
   ]
  },
  {
   "cell_type": "code",
   "execution_count": null,
   "id": "7ac5ca1e",
   "metadata": {
    "slideshow": {
     "slide_type": "fragment"
    }
   },
   "outputs": [],
   "source": []
  },
  {
   "cell_type": "markdown",
   "id": "240e6347",
   "metadata": {
    "slideshow": {
     "slide_type": "slide"
    }
   },
   "source": [
    "## 데이터 shift\n",
    "- DatetimeIndex의 index는 그대로 두고 데이터를 앞 또는 뒤로 이동시킨다.\n",
    "- DataFrame/Series객체.shift() 이용\n",
    "    - 매개변수\n",
    "        - periods=1 : 이동할 기간 (기본값 1)\n",
    "        - freq: 이동시킬 날짜/시간의 단위. DateOffset 객체/alias, timedelta\n",
    "        "
   ]
  },
  {
   "cell_type": "code",
   "execution_count": null,
   "id": "e0fffde6",
   "metadata": {
    "slideshow": {
     "slide_type": "fragment"
    }
   },
   "outputs": [],
   "source": []
  },
  {
   "cell_type": "markdown",
   "id": "8665fa8b",
   "metadata": {
    "slideshow": {
     "slide_type": "slide"
    }
   },
   "source": [
    "## resample()을 이용한 집계\n",
    "- resample()은 시계열 데이터를 지정한 구간별로 나눠서 집계할 수 있도록 grouping 한다.\n",
    "- groupby() 로 묶을 수도 있지만 DatetimeIndex의 경우 resample이 더 편리하다.\n",
    "    - 매개변수\n",
    "        - rule: group으로 묶을 기준을 offset으로 지정한다.\n",
    "        - closed : \"left\" 또는 \"right\" - 간격의 시작과 끝중 어느부분을 포함시킬지(닫을지)를 설정. \"left\"가 기본으로 왼쪽은 포함하고 오른쪽은 포함되지 않는다.\n",
    "        - on : 기준 컬럼을 지정한다. Index가 아니라 datetime 타입의 열(컬럼)을 기준으로 resample 할 때 사용"
   ]
  },
  {
   "cell_type": "code",
   "execution_count": null,
   "id": "8d1406d7",
   "metadata": {
    "slideshow": {
     "slide_type": "fragment"
    }
   },
   "outputs": [],
   "source": []
  },
  {
   "cell_type": "markdown",
   "id": "de0d5ddb",
   "metadata": {
    "slideshow": {
     "slide_type": "slide"
    }
   },
   "source": [
    "##  기간 이동 집계\n",
    "- 현재값을 기준으로 N개씩 묶어서 집계를 한다.\n",
    "    - 예) 이동평균 구하기\n",
    "- rolling(window, min_periods=None)    \n",
    "    - window: 범위. 정수\n",
    "    - min_periods: 집계할 최소 개수. 생략하면 window size로 지정.\n",
    "    - center: bool - 집계결과를 window의 중간에 둘지 여부. 기본값은 False로 레이블이 창 맨 뒤에 둔다. "
   ]
  },
  {
   "cell_type": "code",
   "execution_count": null,
   "id": "23e68179",
   "metadata": {
    "slideshow": {
     "slide_type": "fragment"
    }
   },
   "outputs": [],
   "source": []
  }
 ],
 "metadata": {
  "kernelspec": {
   "display_name": "Python 3 (ipykernel)",
   "language": "python",
   "name": "python3"
  },
  "language_info": {
   "codemirror_mode": {
    "name": "ipython",
    "version": 3
   },
   "file_extension": ".py",
   "mimetype": "text/x-python",
   "name": "python",
   "nbconvert_exporter": "python",
   "pygments_lexer": "ipython3",
   "version": "3.9.13"
  },
  "toc": {
   "base_numbering": 1,
   "nav_menu": {},
   "number_sections": true,
   "sideBar": true,
   "skip_h1_title": false,
   "title_cell": "Table of Contents",
   "title_sidebar": "Contents",
   "toc_cell": false,
   "toc_position": {},
   "toc_section_display": true,
   "toc_window_display": true
  },
  "varInspector": {
   "cols": {
    "lenName": 16,
    "lenType": 16,
    "lenVar": 40
   },
   "kernels_config": {
    "python": {
     "delete_cmd_postfix": "",
     "delete_cmd_prefix": "del ",
     "library": "var_list.py",
     "varRefreshCmd": "print(var_dic_list())"
    },
    "r": {
     "delete_cmd_postfix": ") ",
     "delete_cmd_prefix": "rm(",
     "library": "var_list.r",
     "varRefreshCmd": "cat(var_dic_list()) "
    }
   },
   "types_to_exclude": [
    "module",
    "function",
    "builtin_function_or_method",
    "instance",
    "_Feature"
   ],
   "window_display": false
  }
 },
 "nbformat": 4,
 "nbformat_minor": 5
}
