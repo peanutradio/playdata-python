{
 "cells": [
  {
   "cell_type": "code",
   "execution_count": 41,
   "metadata": {
    "ExecuteTime": {
     "end_time": "2023-02-08T02:50:56.699173Z",
     "start_time": "2023-02-08T02:50:56.685631Z"
    }
   },
   "outputs": [],
   "source": [
    "import matplotlib.pyplot as plt  # matplotlib 설치시 혹은 터미널 시작시, 1번과 2번, 3번 명령어 입력으로 폰트깨짐 해결.(Mac 한정.)\n",
    "from matplotlib import rc        # 1번\n",
    "rc('font', family='AppleGothic') # 2번\n",
    "plt.rcParams['axes.unicode_minus'] = False #3번"
   ]
  },
  {
   "cell_type": "markdown",
   "metadata": {
    "slideshow": {
     "slide_type": "slide"
    }
   },
   "source": [
    "# 회귀(Regression)\n",
    "\n",
    " - 예측할 값(Target)이 연속형(continuous) 데이터(float)인 지도 학습(Supervised Learning).\n",
    " - 회귀: 얼마나 적게 틀렸는지를 확인하는 것."
   ]
  },
  {
   "cell_type": "markdown",
   "metadata": {
    "slideshow": {
     "slide_type": "fragment"
    }
   },
   "source": [
    "## 회귀의 주요 평가 지표\n",
    "\n",
    "- ### MSE (Mean Squared Error)\n",
    "    - <span style=\"color:orange\"> 실제 값과 예측값의 차를 제곱해 평균 낸 것</span>\n",
    "    - scikit-learn 평가함수: mean_squared_error() \n",
    "    - 교차검증시 지정할 문자열: 'neg_mean_squared_error'\n",
    "    $$\n",
    "    MSE = \\frac{1}{n}\\sum_{i=1}^{n}(y_i - \\hat{y_i})^2\\\\\n",
    "    y_i: 실제값, \\hat{y_i}: 모델이 예측한 값\n",
    "    $$\n",
    "    "
   ]
  },
  {
   "cell_type": "markdown",
   "metadata": {
    "slideshow": {
     "slide_type": "fragment"
    }
   },
   "source": [
    "- ### RMSE (Root Mean Squared Error)\n",
    "    - <span style=\"color:orange\"> MSE는 오차의 제곱한 값이므로 실제 오차의 평균보다 큰 값이 나온다.  MSE의 제곱근이 RMSE이다.</span>\n",
    "    - mean_squared_error() 의 squared=False로 설정해서 계산. 또는 MSE를 구한 뒤 np.sqrt()로 제곱근을 구한다.\n",
    "    - 교차검증시 지정할 문자열: 'neg_root_mean_squared_error'\n",
    "    \n",
    "    $$\n",
    "    RMSE = \\sqrt{\\frac{1}{n}\\sum_{i=1}^{n}(y_i - \\hat{y_i})^2}\n",
    "    $$"
   ]
  },
  {
   "cell_type": "markdown",
   "metadata": {
    "slideshow": {
     "slide_type": "fragment"
    }
   },
   "source": [
    "- ### $R^2$ (R square, 결정계수)\n",
    "    - 결정계수는 회귀모델에서 Feature(독립변수)들이 Target(종속변수)를 얼마나 설명하는지를 나타내는 평가지표이다.\n",
    "        - 평균으로 예측했을 때 오차(총오차) 보다 모델을 사용했을 때 얼마 만큼 더 좋은 성능을 내는지를 비율로 나타낸 값으로 계산한다.\n",
    "        - 모델은 feature들을 이용해 값을 추론하므로 그 성능은 target에 대한 설명력으로 생각할 수 있다.\n",
    "    - 1에 가까울 수록 좋은 모델.\n",
    "    - scikit-learn 평가함수: r2_score()\n",
    "    - 교차검증시 지정할 문자열: 'r2'\n",
    "    - [참고](https://ko.khanacademy.org/math/statistics-probability/describing-relationships-quantitative-data/assessing-the-fit-in-least-squares-regression/a/r-squared-intuition)\n",
    "    $$\n",
    "    R^2 = \\cfrac{\\sum_{i=1}^{n}(\\hat{y_i}-\\bar{y})^2}{\\sum_{i=1}^{n}(y_i - \\bar{y})^2}\\\\\n",
    "    R^2 = 1 - \\cfrac{\\sum_{i=1}^{n}(y_i - \\hat{y_i})^2}{\\sum_{i=1}^{n}(y_i - \\bar{y})^2}\n",
    "    $$\n",
    "\n",
    "- $y_i$ : i번째 정답 값, \n",
    "- $\\hat{y_i}$ : i 번째 예측 값, \n",
    "- $\\bar{y}$ : y의 평균    "
   ]
  },
  {
   "cell_type": "markdown",
   "metadata": {
    "slideshow": {
     "slide_type": "slide"
    }
   },
   "source": [
    "### 예제"
   ]
  },
  {
   "cell_type": "code",
   "execution_count": 1,
   "metadata": {
    "ExecuteTime": {
     "end_time": "2023-02-08T01:35:58.715981Z",
     "start_time": "2023-02-08T01:35:57.893747Z"
    }
   },
   "outputs": [],
   "source": [
    "import pandas as pd\n",
    "import numpy as np\n",
    "import matplotlib.pyplot as plt\n",
    "\n",
    "from sklearn.datasets import make_regression"
   ]
  },
  {
   "cell_type": "markdown",
   "metadata": {
    "slideshow": {
     "slide_type": "slide"
    }
   },
   "source": [
    "##### Dataset 생성\n",
    "- make_xxxxx() 함수\n",
    "    - 머신러닝 학습을 위한 dummy dataset 구현 함수\n",
    "    - 필요한 설정을 직접하여 테스트할 수 있는 데이터셋을 생성해준다.\n",
    "- make_regression(): 회귀 문제를 위한 dummy dataset 생성\n",
    "- make_classification(): 분류 문제를 위한 dummy dataset 생성"
   ]
  },
  {
   "cell_type": "code",
   "execution_count": 11,
   "metadata": {
    "ExecuteTime": {
     "end_time": "2023-02-08T02:14:25.555195Z",
     "start_time": "2023-02-08T02:14:25.539139Z"
    }
   },
   "outputs": [
    {
     "name": "stdout",
     "output_type": "stream",
     "text": [
      "(1000, 1) (1000,)\n"
     ]
    }
   ],
   "source": [
    "X, y = make_regression(n_samples=1000, # 생성할 데이터 개수\n",
    "                      n_features=1,    # feature의 개수\n",
    "                      n_informative=1, # target(label) 값에 영향을 주는 feature의 개수\n",
    "                      noise=30,        # noise(잡음) 값 추가 -> 모델이 찾을 수 없는 값\n",
    "                                       #  -> 번위로 지정: 0~지정한 값 중에 임의의 값을 사용.               \n",
    "                      random_state=0 \n",
    "                      )\n",
    "print(X.shape, y.shape)"
   ]
  },
  {
   "cell_type": "code",
   "execution_count": 4,
   "metadata": {
    "ExecuteTime": {
     "end_time": "2023-02-08T01:49:47.299315Z",
     "start_time": "2023-02-08T01:49:47.285794Z"
    }
   },
   "outputs": [
    {
     "name": "stdout",
     "output_type": "stream",
     "text": [
      "[[-2.55298982]\n",
      " [ 1.76405235]\n",
      " [-1.79132755]\n",
      " [-1.2140774 ]\n",
      " [-1.4449402 ]]\n",
      "[-226.98542474  165.24959267 -110.53873999  -83.35797108 -125.77525151]\n"
     ]
    }
   ],
   "source": [
    "print(X[:5])\n",
    "print(y[:5])"
   ]
  },
  {
   "cell_type": "code",
   "execution_count": null,
   "metadata": {},
   "outputs": [],
   "source": []
  },
  {
   "cell_type": "code",
   "execution_count": null,
   "metadata": {},
   "outputs": [],
   "source": []
  },
  {
   "cell_type": "code",
   "execution_count": null,
   "metadata": {},
   "outputs": [],
   "source": []
  },
  {
   "cell_type": "markdown",
   "metadata": {},
   "source": [
    "> #### Noise란 \n",
    ">  같은 Feature를 가진 데이터포인트가 다른 label을 가지는 이유를 Noise(노이즈)라고 한다. 단 그 이유는 현재 상태에선 모른다. 예를 들어 나이란 Feature가 있고 구매량이란 target이 있을때 같은 나이인데 구매량이 다른 경우 그 이유를 우리는 알 수 없다. 그 차이를 만드는 나이 이외의 Feature가 있는데 그것이 수집이 되지 않은 것이다.  그래서 데이터 수집하고 전처리 할 때 그 이유가 되는 Feature를 찾아야 한다. 찾으면 성능이 올라가는 것이고 못찾으면 모르는 이유가 되어 모델 성능이 떨어진다. "
   ]
  },
  {
   "cell_type": "code",
   "execution_count": 12,
   "metadata": {
    "ExecuteTime": {
     "end_time": "2023-02-08T02:14:29.790278Z",
     "start_time": "2023-02-08T02:14:29.680210Z"
    },
    "scrolled": true
   },
   "outputs": [
    {
     "data": {
      "image/png": "[encoded data removed]",
      "text/plain": [
       "<Figure size 640x480 with 1 Axes>"
      ]
     },
     "metadata": {},
     "output_type": "display_data"
    }
   ],
   "source": [
    "plt.scatter(X, y, alpha=0.3);"
   ]
  },
  {
   "cell_type": "code",
   "execution_count": 7,
   "metadata": {
    "ExecuteTime": {
     "end_time": "2023-02-08T02:09:45.958256Z",
     "start_time": "2023-02-08T02:09:45.943546Z"
    }
   },
   "outputs": [
    {
     "name": "stdout",
     "output_type": "stream",
     "text": [
      "(1000, 1) (1000,)\n"
     ]
    }
   ],
   "source": [
    "# noise 뺄 경우, 어떤 건지 예 확인.\n",
    "X, y = make_regression(n_samples=1000, # 생성할 데이터 개수\n",
    "                      n_features=1,    # feature의 개수\n",
    "                      n_informative=1, # target(label) 값에 영향을 주는 feature의 개수\n",
    "#                       noise=30,        # noise(잡음) 값 추가 -> 모델이 찾을 수 없는 값\n",
    "                                       #  -> 번위로 지정: 0~지정한 값 중에 임의의 값을 사용.               \n",
    "                      random_state=0 \n",
    "                      )\n",
    "print(X.shape, y.shape)"
   ]
  },
  {
   "cell_type": "code",
   "execution_count": 8,
   "metadata": {
    "ExecuteTime": {
     "end_time": "2023-02-08T02:09:47.862658Z",
     "start_time": "2023-02-08T02:09:47.760072Z"
    },
    "collapsed": true
   },
   "outputs": [
    {
     "data": {
      "image/png": "[encoded data removed]",
      "text/plain": [
       "<Figure size 640x480 with 1 Axes>"
      ]
     },
     "metadata": {},
     "output_type": "display_data"
    }
   ],
   "source": [
    "plt.scatter(X, y, alpha=0.3);  # Noize를 없애면 아래처럼 뜬다."
   ]
  },
  {
   "cell_type": "code",
   "execution_count": 14,
   "metadata": {
    "ExecuteTime": {
     "end_time": "2023-02-08T02:14:47.364625Z",
     "start_time": "2023-02-08T02:14:47.355565Z"
    }
   },
   "outputs": [
    {
     "name": "stdout",
     "output_type": "stream",
     "text": [
      "-2.9353214065211493 -3.859887443278972\n",
      "-286.10570741064424 240.32028057363925\n"
     ]
    }
   ],
   "source": [
    "# y의 정보\n",
    "print(y.mean(), np.median(y))\n",
    "print(y.min(), y.max())"
   ]
  },
  {
   "cell_type": "code",
   "execution_count": null,
   "metadata": {},
   "outputs": [],
   "source": []
  },
  {
   "cell_type": "markdown",
   "metadata": {
    "slideshow": {
     "slide_type": "slide"
    }
   },
   "source": [
    "##### 모델 생성, 학습"
   ]
  },
  {
   "cell_type": "code",
   "execution_count": 21,
   "metadata": {
    "ExecuteTime": {
     "end_time": "2023-02-08T02:19:13.421819Z",
     "start_time": "2023-02-08T02:19:13.386953Z"
    }
   },
   "outputs": [
    {
     "data": {
      "text/plain": [
       "LinearRegression()"
      ]
     },
     "execution_count": 21,
     "metadata": {},
     "output_type": "execute_result"
    }
   ],
   "source": [
    "from sklearn.linear_model import LinearRegression\n",
    "\n",
    "lr = LinearRegression()\n",
    "lr.fit(X, y)"
   ]
  },
  {
   "cell_type": "markdown",
   "metadata": {
    "slideshow": {
     "slide_type": "fragment"
    }
   },
   "source": [
    "##### 평가"
   ]
  },
  {
   "cell_type": "code",
   "execution_count": 22,
   "metadata": {
    "ExecuteTime": {
     "end_time": "2023-02-08T02:19:30.276266Z",
     "start_time": "2023-02-08T02:19:30.250256Z"
    },
    "collapsed": true
   },
   "outputs": [
    {
     "data": {
      "text/plain": [
       "array([-2.08602622e+02,  1.45451965e+02, -1.46136237e+02, -9.87940861e+01,\n",
       "       -1.17727890e+02,  1.67746241e+01,  1.22198133e+02,  1.62586707e+01,\n",
       "       -5.39849518e+01,  5.13691886e+01, -3.75111853e+01, -5.82407552e+01,\n",
       "        6.88461762e+01, -8.97977212e+01,  1.07215174e+02,  2.64520220e+01,\n",
       "        6.98012289e+01,  1.14386106e+02,  8.93290912e+00, -1.25654240e+02,\n",
       "       -2.88795987e+01, -6.39049882e+01,  3.37736665e+01, -4.10375654e+01,\n",
       "        9.23864452e+01,  8.52039346e+01, -4.04612960e+01, -5.07351642e+01,\n",
       "       -2.68931813e+00,  1.42451768e+01, -8.06729511e+01,  7.75733999e+01,\n",
       "       -6.61293747e+01, -3.76331393e+00,  2.36658736e+01,  3.11888849e+01,\n",
       "       -1.10800646e+01, -5.90149823e+01,  7.62989373e+01, -3.73055080e+01,\n",
       "       -7.57247180e+01, -3.33123101e+00, -4.07893205e+01, -1.58024240e+02,\n",
       "        1.64635166e+02, -2.91630312e+01, -1.04573960e+02,  1.21283191e+02,\n",
       "       -3.51307101e+01, -8.28526587e+00,  9.76650066e+01,  1.47241341e+02,\n",
       "       -9.40459323e+01, -6.23669793e+01, -1.70164082e+01, -1.11644131e+02,\n",
       "        1.37815769e+02,  3.69468623e+01,  4.02641801e+01, -9.27025574e+01,\n",
       "        6.41933045e+01, -8.85813989e+00,  5.87246778e+01,  7.00252655e+01,\n",
       "        1.36881455e+02,  1.16605889e+02,  3.27691423e+01, -1.22440073e+02,\n",
       "       -9.33312870e+01, -2.44538343e+00, -1.68989838e+02,  6.09538651e+00,\n",
       "       -5.53871624e+01,  5.76749071e+01,  2.37762586e+01,  7.86961508e+01,\n",
       "        7.95668792e+00, -8.39140723e+01,  1.63746816e+00, -1.45752253e+01,\n",
       "        1.41293104e+02, -6.16761111e+01, -7.56419481e+00,  7.81361896e+01,\n",
       "        8.41855076e+01, -1.35096235e+02, -6.16827686e+01, -5.91489177e+01,\n",
       "        7.76016059e+01,  7.64094786e+01, -8.96765773e+01, -3.82732300e+00,\n",
       "        7.19469753e+00,  3.59052092e+01, -8.02412517e+00,  1.78576319e+01,\n",
       "        3.75342720e+01, -7.21104945e+01, -8.30827650e+01,  1.22832702e+02,\n",
       "       -2.30400777e+01, -7.76238130e+01,  5.28573090e+01, -1.28035577e+02,\n",
       "       -5.31843652e+01,  1.55219605e+02,  3.67836601e+01,  3.41077763e+01,\n",
       "        1.10389306e+02, -6.98555757e+01, -4.01496405e+01, -2.87117899e+01,\n",
       "        1.22923226e+02, -2.89732484e+01, -4.93520352e+00, -2.77611494e+01,\n",
       "       -2.45751476e+01, -2.91333693e+01, -2.95014688e+01,  1.20046000e+02,\n",
       "        2.85989080e+00,  1.29511577e+01, -5.59809183e+01,  6.52656263e+01,\n",
       "        2.06332044e+01, -5.27298099e+01, -1.03420255e+02, -1.39160408e+02,\n",
       "        2.44399951e+00,  1.11847986e+01,  5.38262884e+00,  6.36528541e+01,\n",
       "        1.15705148e+02,  3.32606691e+01, -1.11987874e+02, -1.14152695e+02,\n",
       "       -6.63619316e+00, -8.77923475e+01,  7.86271002e+01,  9.42222619e+01,\n",
       "        3.90081435e+01, -6.50918946e+01, -1.36019375e+01,  3.68122617e+01,\n",
       "        4.23766341e+01,  1.13215569e+02,  1.38687871e+02, -9.54353163e+01,\n",
       "       -9.63836505e+01,  6.23162001e+00, -7.66807638e+01,  1.24889257e+02,\n",
       "       -6.70025693e+01, -1.40801691e+02,  1.01231923e+02, -4.84855410e+01,\n",
       "        1.04529452e+02,  1.86069560e+02,  7.84635244e+01, -7.29808236e+00,\n",
       "       -3.22895176e+01,  6.65883713e+01, -1.63595884e+02, -6.90767380e+01,\n",
       "        3.32541185e+01, -5.70184208e+01, -1.89543113e+02,  3.81128643e+00,\n",
       "       -3.12870229e+01,  2.34834878e+01,  3.93580709e+01, -8.62579438e+01,\n",
       "        2.20984986e+00, -1.01304830e+01,  1.68966355e+01,  1.52440426e+02,\n",
       "        1.25436021e+02,  7.82361442e+01,  1.27323944e+02, -3.70797185e+01,\n",
       "       -2.17310986e+02, -3.77725891e+01, -7.67766815e+01, -1.90165651e+01,\n",
       "        1.43386898e+02,  3.30126897e+01, -8.23551453e+00,  1.48392940e+00,\n",
       "       -3.93693352e+00, -2.31581983e+01, -3.86742619e+01, -7.46031381e+01,\n",
       "       -9.97879871e+01, -9.41421196e+01, -1.06106825e+02,  4.82227462e+01,\n",
       "        4.83557100e+00,  1.09557524e+02, -4.39792760e+01,  5.04041823e+01,\n",
       "       -9.27348580e+01,  1.60765726e+02,  2.27079963e+02,  1.06244034e+02,\n",
       "       -2.48098419e+01, -1.31584654e+02,  1.36764986e+02,  4.14549690e+01,\n",
       "       -1.31835466e+02,  6.20556589e+01,  3.57351843e+01, -3.31459025e+01,\n",
       "        6.48449099e+01,  5.05455434e+00,  8.50134263e+00,  9.29935807e+01,\n",
       "       -2.82097530e+01,  6.52226403e+01,  1.07231307e+02, -6.03034236e+01,\n",
       "        4.61404767e+01,  5.43817020e+01, -7.68898428e+00, -8.91468791e+00,\n",
       "        3.46707899e+00, -2.40817403e+01,  6.00801372e+01, -2.88108761e+00,\n",
       "        7.86413979e+01,  9.54346919e+01, -2.79236594e+01, -7.66743861e+01,\n",
       "        7.19044882e+01, -5.23011144e+01,  5.74916566e+01, -3.64416093e+01,\n",
       "       -1.67881725e+01, -1.10743687e+02, -3.51515625e+01, -1.08650524e+02,\n",
       "        1.49239725e+01, -2.15712772e+00, -4.81293150e+01, -3.25459060e+01,\n",
       "        1.38716168e+02,  1.82845166e+01,  4.03772600e+00,  2.44880350e+01,\n",
       "        2.78435744e+01, -7.40871748e+01,  9.10142039e+01, -1.60493651e+01,\n",
       "        1.08416266e+02, -8.75604605e+00,  2.97119583e+01, -1.19365514e+01,\n",
       "        4.89393681e+01,  9.06912774e+01,  3.37045633e+01,  3.38685452e+00,\n",
       "       -1.58638985e+01, -1.46374217e+02,  2.19944993e+01,  6.64113501e+01,\n",
       "        9.82104923e+01,  1.70122651e+01, -7.29488255e+01, -6.79243574e+01,\n",
       "       -6.43943667e+01, -5.70365520e+01,  4.12774784e+01,  3.50019934e+01,\n",
       "        7.54230428e+01, -5.53216180e+01, -1.42119938e+02,  1.00106269e+02,\n",
       "       -6.51138969e+01, -1.93561157e+02, -1.07349581e+02, -5.13714654e+01,\n",
       "        1.02744971e+02, -3.56241056e+01, -6.96707756e+01, -8.66400818e+00,\n",
       "        4.36919385e+01,  8.80863969e+01,  4.02341347e+01, -7.83346228e+01,\n",
       "        1.42882395e+02, -9.67258644e+01, -5.57758794e+01, -4.16670826e+01,\n",
       "       -1.65766672e+02, -7.19842502e+01,  1.09563736e+02, -4.19680933e+01,\n",
       "        9.43617814e+01, -5.30623812e+01, -1.19489873e+02,  1.96225736e+02,\n",
       "       -5.48307592e+01,  1.53940797e+02, -1.66711908e+01,  1.58483021e+02,\n",
       "       -9.98228811e+01,  5.54285588e+01, -4.08468321e+01,  3.71789865e+01,\n",
       "       -1.74697315e+01, -9.97183574e+00,  1.54397086e+01,  4.53350925e+01,\n",
       "       -1.32921510e+02, -5.32337307e+01, -8.74573195e+00,  7.29626462e+01,\n",
       "       -1.17858661e+02,  1.60178986e+02, -7.69302759e+01,  2.14843924e+01,\n",
       "       -4.20001084e+01,  7.77123301e+01,  8.76443009e+00,  7.42237697e+01,\n",
       "       -1.26379396e+02,  8.51626543e+01,  1.65846939e+01, -4.13976628e+01,\n",
       "       -5.43743282e+01, -7.41082516e+01, -1.07145494e+02, -7.95006743e+01,\n",
       "        1.13546331e+01, -1.66533746e+01,  9.52827652e+01, -6.62689248e+01,\n",
       "       -4.29123510e+01,  2.43062923e+01, -1.37105815e+02, -2.26612970e+02,\n",
       "        5.16539175e+01, -2.47204527e+01, -2.92036994e+01, -1.03733470e+01,\n",
       "       -7.26637807e+01,  5.81347824e+01,  6.75777319e+01, -7.12469021e+01,\n",
       "        8.25531973e+01, -1.32927418e+01,  8.10457944e+01,  1.44457598e+01,\n",
       "        5.62917443e+01,  7.15963669e+01, -3.25162662e+01,  4.16232157e+01,\n",
       "       -1.12244754e+02, -7.28224243e+01, -3.09522016e+01, -1.14956850e+01,\n",
       "       -2.11047176e+02,  8.02810879e+00,  6.37544870e+01,  2.75915872e+01,\n",
       "        6.61139832e+01,  1.02199769e+01,  3.48979371e+01,  2.05240898e+01,\n",
       "        5.35366270e+01,  3.28608208e+00, -8.93890863e+01, -9.58048316e+01,\n",
       "        1.21055190e+02,  1.61187020e+02, -2.05124201e+01, -3.08389342e+01,\n",
       "        2.08239257e+01,  8.02375256e+01, -9.38628731e+01, -1.17531970e+01,\n",
       "       -3.16065579e+01, -4.23331572e+01, -3.78221886e+01, -2.77192240e+01,\n",
       "       -7.00867961e+01,  3.77589208e+01, -2.68228957e+00, -6.47868884e+01,\n",
       "       -6.17271479e+01,  2.78879962e+01,  1.25293835e+02,  1.18469368e+02,\n",
       "       -2.42347265e+01, -7.15936931e+01, -1.39798901e+01, -9.33429569e+01,\n",
       "        1.23310583e+02, -9.83427058e+01, -5.33570256e+01,  1.59023490e+02,\n",
       "        1.43141377e+02,  9.37038723e+01, -8.02529065e+01,  6.83145660e+01,\n",
       "       -1.63069270e+01,  2.96269519e+01,  1.89727986e+02,  4.91542790e+01,\n",
       "       -4.68953798e+01, -1.82900843e+02,  1.58125681e+01,  3.18786599e+01,\n",
       "       -4.77085104e+01, -5.98776252e+01,  3.46371985e+01,  1.28080810e+02,\n",
       "       -2.82558578e+01, -5.26163865e+01, -1.69985212e+01, -8.27705585e+00,\n",
       "       -5.31823188e+01, -1.67131302e+02,  7.10477766e+01,  1.75641123e+02,\n",
       "       -9.97256019e+01, -2.18948240e+01,  2.09637036e+01, -9.07419926e+01,\n",
       "       -2.08700279e+01,  2.04252843e+01, -6.49570237e+01, -3.07696874e+01,\n",
       "       -1.25589418e+02, -8.00485948e+01,  6.45408256e+01, -7.06405624e+01,\n",
       "        1.25898066e+01,  3.21654517e+01, -3.76767406e+01,  1.57426931e+02,\n",
       "        6.80475049e+01,  1.92792228e+01,  6.01841309e+01, -1.08482658e+02,\n",
       "        5.07095791e+01, -1.35423034e+02, -3.53488643e+00,  3.18717873e+01,\n",
       "       -3.96824313e+01,  2.13553477e+02, -6.54615365e+01,  1.96028952e+02,\n",
       "        3.40084244e+01,  1.71938947e+00,  7.26062043e+01,  9.31753825e+01,\n",
       "       -1.02811992e+02, -5.12464785e+01, -1.87364029e+01, -2.36464654e+01,\n",
       "       -5.36376721e+01,  2.55830259e+01,  2.32903017e+01, -9.09400495e+01,\n",
       "        1.23343837e+02,  4.63582136e+01,  8.72553232e+01,  1.07544946e+02,\n",
       "       -3.72446774e+01,  2.50369199e+00,  1.76163150e+01, -2.43825257e+01,\n",
       "       -1.09990925e+01,  4.41650382e+01, -5.52747777e+01, -1.93117212e+02,\n",
       "       -6.42697920e+01,  5.68848415e+00, -2.96263065e+01,  8.92027748e+01,\n",
       "        4.12696872e+01, -2.95884522e+01,  5.20535805e+01, -1.37680876e+02,\n",
       "        2.52358045e+01,  7.15206156e+01,  2.40910225e+01, -3.03187901e+01,\n",
       "        2.33792299e+01,  3.44508383e+01,  1.65955913e+02, -7.22904992e+01,\n",
       "       -3.05548148e+01, -4.34396833e+01, -4.72367786e+01,  5.05025523e+01,\n",
       "        4.34265399e+01,  6.81572284e+01, -9.50227973e+01,  2.60635700e+01,\n",
       "        1.24183654e+01,  2.99305388e+01, -4.31229095e+01, -2.49047714e+02,\n",
       "        1.71215811e+01,  5.03653739e+00, -6.27113255e+00, -5.72485025e+01,\n",
       "       -4.46843973e+01, -6.42016635e+01, -4.76162080e+01,  5.73505457e+01,\n",
       "       -1.25915345e+02,  1.62510827e+00, -1.25215985e+02,  7.16715354e+01,\n",
       "        9.02322402e+01, -1.86920802e+02, -1.81572154e+02,  7.70080473e+01,\n",
       "        1.53276192e+01,  4.16755295e+01, -1.49286600e+02, -7.55088149e+01,\n",
       "       -3.14047630e+01, -7.45122120e+01,  1.83333220e+02,  8.92845768e+01,\n",
       "       -2.09110682e+02, -3.21750262e+01,  3.06686133e+01,  9.33359761e+01,\n",
       "       -9.17355292e+01,  5.77549513e+01,  2.26780328e+01,  7.50839797e+01,\n",
       "        1.21039455e+00,  4.52913148e+00,  8.45766774e+01, -1.04131811e+02,\n",
       "       -1.14467707e+00, -1.29045569e+02,  3.02604458e+01, -1.18500904e+02,\n",
       "       -3.23596674e+01,  1.77951204e+00, -5.35867100e+00,  1.85857519e+02,\n",
       "       -4.28223920e+01, -1.90725013e+01, -3.70087920e+01,  4.35105429e+01,\n",
       "        1.36119348e+01, -1.05733170e+02, -5.10481430e+01, -9.91107481e+01,\n",
       "        8.79106811e+00, -3.18052186e+01,  5.60900562e+00,  6.51532320e+01,\n",
       "        1.07510652e+02, -2.59328787e+01,  2.65933131e+00, -7.61422629e+01,\n",
       "       -1.88559329e+01,  1.13541577e+02,  1.44708417e+02, -1.22817484e+02,\n",
       "       -1.43229937e+02, -1.15428724e+02, -1.16015512e+02,  1.39745670e+01,\n",
       "        1.26779578e+02, -6.59124284e+01,  3.82904604e+01, -3.13086479e+01,\n",
       "       -7.83341644e+01, -1.72289421e+01, -9.63175519e+01, -1.61675196e+02,\n",
       "       -7.20338523e+01,  2.00348002e+01, -8.17972001e+01, -1.16369666e+01,\n",
       "        6.81424844e+01,  5.32755838e+01, -9.85042178e+01,  3.37447751e+01,\n",
       "        3.76586710e+01, -2.99907006e+01, -4.10744301e+01, -7.57207706e+01,\n",
       "        1.93232438e+02,  1.16511112e+02,  2.21902380e+02, -1.48597820e+01,\n",
       "        3.00030881e+01, -1.38703414e+01, -6.19571663e-01, -6.13791123e+01,\n",
       "       -2.10194142e+00,  9.40164643e+01,  7.72002258e+01,  1.07552891e+01,\n",
       "       -5.39855723e+01,  1.17479805e+02,  6.31914922e+01,  2.65955044e+01,\n",
       "       -1.41701565e+01, -1.84324677e+01, -1.09757751e+02, -1.36678164e+02,\n",
       "       -9.67328927e+01,  1.12310105e+02,  2.30158712e+01,  8.94634728e+01,\n",
       "        2.85709507e+01,  5.09624553e+01,  7.70821368e+01,  1.09445014e+02,\n",
       "       -1.17141600e+02, -9.47813785e+01, -1.09244157e+02,  8.37607973e+01,\n",
       "       -4.42200782e-01, -5.24779756e+01,  3.95068433e+01,  3.35945141e+01,\n",
       "        8.08736529e+01,  1.66528645e+02, -5.60879277e+00, -5.74307579e+01,\n",
       "        3.38493564e+01,  1.07216857e+02,  3.25384516e+01, -6.05248585e+01,\n",
       "       -3.74762108e+01,  1.01033001e+02,  4.50018974e+01,  6.05714020e+01,\n",
       "        8.05371323e+01,  3.98883048e+01, -4.45393198e+01,  2.67698160e+01,\n",
       "        1.42206398e+01, -3.07889102e+01, -6.52241289e+01,  7.79440236e+01,\n",
       "       -2.47751031e+01, -9.59302272e+01,  3.07807696e+01, -4.82038720e+00,\n",
       "        2.52741042e+00, -5.34743482e+00, -4.74116271e+00, -8.70395573e+01,\n",
       "        6.40418237e+01,  3.17906585e+01, -2.06820615e+01, -1.45335403e+02,\n",
       "        8.01197145e+01,  3.16482025e+01, -8.26096967e+01,  3.78864211e+01,\n",
       "       -1.61925120e+01, -3.28531737e+01, -2.97200209e+00, -1.33103986e+02,\n",
       "       -8.57171630e+01, -1.45015888e+02, -7.93733915e+01,  4.73016375e+01,\n",
       "       -1.33968569e+02,  5.96464822e+00,  3.11258075e+01,  4.37423244e+01,\n",
       "        6.80535706e+01,  7.16400506e+01, -1.30613601e+02,  3.16851896e+01,\n",
       "       -4.77265176e+01,  5.00615534e+00, -2.45668253e+01,  6.74263535e+01,\n",
       "       -1.19105097e+02, -2.17019581e+02, -7.88670984e+01, -5.87322597e+01,\n",
       "        3.35034086e+01,  1.08963008e+02,  4.47791406e+00, -5.55912889e+01,\n",
       "       -1.01969471e+02,  6.40733662e+01, -7.78121962e+00, -3.52430253e+01,\n",
       "       -4.72956159e+00, -4.66970052e+01,  1.36281174e+01, -1.64595700e+02,\n",
       "        5.74006443e+01, -1.01216383e+01, -4.64459057e+01,  8.44439904e+01,\n",
       "       -5.97519738e+01,  7.11374427e+01, -1.14531237e+02, -8.63676800e+00,\n",
       "       -1.01889697e+01, -2.11699829e+01,  3.89668099e+01, -4.02854499e+00,\n",
       "       -3.16376793e+01, -5.27203798e+01,  1.58606520e+01, -2.22165332e+01,\n",
       "       -2.85937658e+01,  1.24272755e+01,  1.84559225e+02,  1.31404607e+02,\n",
       "       -8.49482809e+01,  1.98629454e+02, -1.60676949e+02,  9.93873868e+01,\n",
       "        7.46560206e+01,  3.91901151e+01,  2.42602993e+01,  1.35990120e+01,\n",
       "       -3.65833661e+01, -4.83212176e+01, -1.76158728e+01,  4.85862438e+01,\n",
       "        5.62528093e+01, -1.10219469e+02, -5.33435270e+01, -4.34660913e+01,\n",
       "       -1.83369761e+02,  1.74381204e+02, -1.96825773e+01,  1.92770092e+01,\n",
       "       -1.31795948e+02, -1.06376164e+02, -2.12034955e+01,  2.67876960e+01,\n",
       "        2.99970536e+01, -8.09262924e+01, -2.27522188e+01,  2.03039366e+01,\n",
       "        5.80590568e+01, -3.53851633e+01, -8.28946922e+00, -5.57676295e+01,\n",
       "        2.81420380e+01,  9.05511602e+01,  2.56758654e+01,  8.84082384e+01,\n",
       "       -1.44005224e+01, -6.94720509e+01,  1.09777069e+02, -9.60511355e+01,\n",
       "       -1.44267229e+02, -8.36919954e+01,  7.20428329e+01, -2.76207093e+01,\n",
       "       -5.45278745e+01,  2.94526201e+01, -4.37454975e+01,  2.29120564e+01,\n",
       "       -1.09672330e+02,  1.14704627e+02,  4.95525253e+00, -7.79977426e+01,\n",
       "       -6.18935866e+01,  3.25074524e+01, -8.75600500e+01,  2.25662574e+01,\n",
       "        8.02796861e+01,  2.86579551e+01,  2.51123745e+01, -7.40839983e+01,\n",
       "       -1.12677824e+02,  8.23298269e+01, -1.35496721e+02, -2.48357698e+01,\n",
       "        7.17713228e+01,  4.70324912e+01,  3.87305967e+01,  1.50263784e+02,\n",
       "       -8.88691813e+01, -1.37178256e+00, -2.61908691e+00,  2.60980152e+01,\n",
       "       -5.56354591e+01, -3.84238661e+01, -1.27801373e+02,  1.12685997e+02,\n",
       "       -6.72917528e+01,  7.19152141e+01, -6.92708258e+01, -1.21544543e+01,\n",
       "       -1.15839919e+02,  1.56264329e+02, -9.16383007e+01, -6.59303054e+01,\n",
       "        1.43698229e+02, -5.50072864e+01, -1.59297438e+02,  5.57719784e+01,\n",
       "        8.91655819e+01,  6.62735680e-01, -5.63316730e+01, -2.54128285e+01,\n",
       "       -7.53009467e+00, -8.40452722e+01, -8.44737138e+00, -1.74802842e+01,\n",
       "       -1.30595426e+02, -1.83710283e+01, -4.27785299e+00, -2.03199264e+00,\n",
       "       -1.23108061e+01,  1.98182451e+01,  2.67924191e+01, -1.74859775e+01,\n",
       "        2.05579806e+02,  3.62969112e+01, -1.04175119e+02,  8.56116271e+01,\n",
       "       -4.10218959e+01, -2.90649100e+01, -6.34096202e+01, -2.23913456e+02,\n",
       "       -2.11813656e+01,  5.62550595e+01,  7.80711855e+01,  2.78097741e+01,\n",
       "       -4.06697422e+01, -3.05534622e+01,  1.63843937e+01, -1.09771395e+02,\n",
       "       -6.20213854e+01, -6.96664715e+01,  7.81185865e+01,  9.09629667e+01,\n",
       "       -5.09813168e-01,  6.27570323e+01, -3.19837790e+01,  1.87790160e+01,\n",
       "        5.66760979e+01, -1.48836860e+02, -4.00689242e+01, -4.28948926e+01,\n",
       "       -3.37383251e+00, -2.31694653e+02, -1.05255048e+02,  5.98286244e+01,\n",
       "       -2.75987567e+01, -1.54950075e+01, -7.20333921e+01,  2.79484749e+00,\n",
       "        1.35945203e+02,  7.95658995e+01, -1.71008843e+02,  1.65725991e+02,\n",
       "        1.88608734e+01,  1.81218814e+01, -1.31337019e+02,  1.08559032e+00,\n",
       "       -1.50379766e+02, -7.27330331e+00, -4.11164535e+01, -4.59147949e+01,\n",
       "        3.73044682e+01, -2.52664084e+01,  5.59133944e+01,  8.93193392e+01,\n",
       "        3.39721525e+01,  5.98245213e+01,  6.64332357e+01, -8.12545673e+01,\n",
       "        4.41567040e+01,  1.09231618e+01,  1.09672080e+02, -3.99106291e+01,\n",
       "        2.37338490e+01,  5.45166249e+01, -7.36341451e+01,  1.78190303e+02,\n",
       "       -6.52957074e+01, -6.87971816e+01, -5.61874286e+01, -6.00910256e+01,\n",
       "       -8.27165785e+01,  4.39976467e+01,  9.74518518e+01,  5.69144766e+01,\n",
       "       -3.62364939e+01,  6.27287711e+01,  5.11389623e+01, -1.37760153e-01,\n",
       "       -5.20088989e+01, -1.84209788e+02,  6.89339989e+00,  1.56484785e+01,\n",
       "       -1.15683935e+02,  2.69162129e+01, -1.53784651e+02, -5.15216372e+00,\n",
       "        1.01676444e+02,  7.75772695e+01,  7.06968688e+01,  1.26484507e+02,\n",
       "       -5.28647341e+00, -4.82114947e+01, -1.00495731e+02, -1.21873661e+00,\n",
       "        8.51440644e+00,  3.94454398e+00, -3.09895972e+01,  6.41475296e+01,\n",
       "        3.87591434e+01,  1.05431393e+02, -5.15019441e+01,  8.67239127e+01,\n",
       "       -8.54917610e+01, -3.59791630e+01, -1.79770991e+02, -3.85617968e+01,\n",
       "       -9.43114980e+01,  1.91344619e+01, -2.77570728e+01,  1.86926244e+02,\n",
       "        3.09198729e+01,  1.21444199e+02, -2.04300501e+01,  8.80510695e+00,\n",
       "       -8.81290210e+01, -3.64073083e+01,  1.34840669e+01,  4.35301336e+01,\n",
       "       -7.37542848e+01, -6.58998563e+01, -3.28804104e+01,  5.65432632e+01,\n",
       "       -3.50428159e+01, -2.40121502e+01, -1.53498816e+00,  2.98711530e+01,\n",
       "        1.52467286e+02, -6.91469947e+01, -6.81386049e+01,  1.94255443e+01,\n",
       "       -1.21526530e+02,  8.95093332e+01,  7.41995173e+01,  1.53940877e+02,\n",
       "        1.29476383e+02, -7.21310881e+01,  1.51958084e+01,  1.12937399e+02,\n",
       "       -3.40233326e+01,  3.79924495e+01, -9.89416450e+00,  5.08355141e+01,\n",
       "       -1.33121309e+02,  4.85264489e+01,  8.67595337e+00, -1.19933621e+02,\n",
       "       -1.27737976e+02,  1.41805407e+02,  8.52859018e+01,  2.35749218e+00,\n",
       "        1.39885663e+02, -2.95522619e+01, -1.58797074e+02, -7.62325875e+01,\n",
       "        1.67109196e+01,  5.36793963e+01, -8.61589977e+01,  2.14013776e+01,\n",
       "       -1.00419266e+01,  2.63191089e+01, -5.10048589e+01,  1.75781762e+02,\n",
       "        2.74199352e+01, -1.38490822e+02, -6.07082018e+01,  8.48173565e+00,\n",
       "       -3.40516831e+01, -2.18323044e+01, -3.25269335e+01,  3.41935902e+01,\n",
       "       -8.52188917e+01, -1.50667184e+01,  1.70092063e+02,  1.92656523e+02,\n",
       "       -2.40164986e+01,  4.80644048e+01, -3.49120223e+01,  3.54374674e+01])"
      ]
     },
     "execution_count": 22,
     "metadata": {},
     "output_type": "execute_result"
    }
   ],
   "source": [
    "pred = lr.predict(X)\n",
    "pred"
   ]
  },
  {
   "cell_type": "code",
   "execution_count": 28,
   "metadata": {
    "ExecuteTime": {
     "end_time": "2023-02-08T02:27:13.619813Z",
     "start_time": "2023-02-08T02:27:13.586104Z"
    }
   },
   "outputs": [
    {
     "name": "stdout",
     "output_type": "stream",
     "text": [
      "MSE: 885.9735841406376, RMSE: 29.765308399891268, RMSE2: 29.765308399891268\n",
      " R2: 0.8808989693851077, MAE: 23.62777143027586\n"
     ]
    }
   ],
   "source": [
    "# 평가는 항상 sklearn.metrics 안에 있다. \n",
    "from sklearn.metrics import mean_squared_error, r2_score, mean_absolute_error\n",
    "mse = mean_squared_error(y, pred)   # (정답값, 예측값)\n",
    "rmse = mean_squared_error(y, pred, squared=False)    #np.sqrt(mse)\n",
    "r2 = r2_score(y, pred)\n",
    "mae = mean_absolute_error(y, pred)\n",
    "\n",
    "print(f\"MSE: {mse}, RMSE: {rmse}, RMSE2: {np.sqrt(mse)}\\n R2: {r2}, MAE: {mae}\")"
   ]
  },
  {
   "cell_type": "markdown",
   "metadata": {
    "slideshow": {
     "slide_type": "slide"
    }
   },
   "source": [
    "##### 교차검증 (cross validation)"
   ]
  },
  {
   "cell_type": "code",
   "execution_count": 29,
   "metadata": {
    "ExecuteTime": {
     "end_time": "2023-02-08T02:30:21.513529Z",
     "start_time": "2023-02-08T02:30:21.469518Z"
    }
   },
   "outputs": [
    {
     "name": "stdout",
     "output_type": "stream",
     "text": [
      "[0.89476539 0.85829536 0.88648045 0.88280056]\n",
      "0.8805854394305845\n"
     ]
    }
   ],
   "source": [
    "from sklearn.model_selection import cross_val_score\n",
    "result = cross_val_score(LinearRegression(),\n",
    "                        X, y, cv=4)   #scoring 생략 > 회귀: r2_score, 분류:accuracy\n",
    "\n",
    "print(result)\n",
    "print(result.mean())"
   ]
  },
  {
   "cell_type": "code",
   "execution_count": 32,
   "metadata": {
    "ExecuteTime": {
     "end_time": "2023-02-08T02:35:17.947139Z",
     "start_time": "2023-02-08T02:35:17.900815Z"
    }
   },
   "outputs": [
    {
     "name": "stdout",
     "output_type": "stream",
     "text": [
      "[21.98313529 25.75860229 23.54541203 23.38231982]\n",
      "23.66736735797949\n"
     ]
    }
   ],
   "source": [
    "result = cross_val_score(LinearRegression(),\n",
    "                        X, y, cv=4,\n",
    "#                         scoring='neg_mean_squared_error'\n",
    "#                         scoring='neg_root_mean_squared_error'\n",
    "                        scoring='neg_mean_absolute_error' \n",
    "                        )\n",
    "print(-result)\n",
    "print(-result.mean())                       \n",
    "                        "
   ]
  },
  {
   "cell_type": "code",
   "execution_count": 33,
   "metadata": {
    "ExecuteTime": {
     "end_time": "2023-02-08T02:37:22.935000Z",
     "start_time": "2023-02-08T02:37:22.920304Z"
    }
   },
   "outputs": [
    {
     "data": {
      "text/plain": [
       "array([-5105.97963167])"
      ]
     },
     "execution_count": 33,
     "metadata": {},
     "output_type": "execute_result"
    }
   ],
   "source": [
    "100 * X[0] * 20"
   ]
  },
  {
   "cell_type": "markdown",
   "metadata": {
    "slideshow": {
     "slide_type": "slide"
    }
   },
   "source": [
    "##### 모델이 찾은 계수(coef, 가중치-weigth)와 절편(intercept, 편향-bias) 조회\n",
    "- LinearRegression 모델은 선형 방정식을 이용해 예측값을 추론한다. \n",
    "- 학습이 끝나면 모델이 찾은 각 Feature에 곱해주는 계수와 절편을 다음 attribube로 조회할 수 있다.\n",
    "    - coef_: Feature에 곱하는 가중치\n",
    "    - intercept_: y절편. 모든 Feature가 0일때 예측값"
   ]
  },
  {
   "cell_type": "code",
   "execution_count": 35,
   "metadata": {
    "ExecuteTime": {
     "end_time": "2023-02-08T02:44:07.787309Z",
     "start_time": "2023-02-08T02:44:07.778483Z"
    }
   },
   "outputs": [
    {
     "data": {
      "text/plain": [
       "array([82.01323352])"
      ]
     },
     "execution_count": 35,
     "metadata": {},
     "output_type": "execute_result"
    }
   ],
   "source": [
    "lr.coef_  # feature마다 각각 다른 값들을 찾는다. (feature가 5개 ->coef도 5개)"
   ]
  },
  {
   "cell_type": "code",
   "execution_count": 36,
   "metadata": {
    "ExecuteTime": {
     "end_time": "2023-02-08T02:44:23.688682Z",
     "start_time": "2023-02-08T02:44:23.679540Z"
    }
   },
   "outputs": [
    {
     "data": {
      "text/plain": [
       "0.7763275132894494"
      ]
     },
     "execution_count": 36,
     "metadata": {},
     "output_type": "execute_result"
    }
   ],
   "source": [
    "lr.intercept_  #feature가 몇개든 상관 없이 하나만 찾는다."
   ]
  },
  {
   "cell_type": "code",
   "execution_count": 37,
   "metadata": {
    "ExecuteTime": {
     "end_time": "2023-02-08T02:45:40.351786Z",
     "start_time": "2023-02-08T02:45:40.339825Z"
    }
   },
   "outputs": [
    {
     "data": {
      "text/plain": [
       "array([-208.60262243,  145.45196451, -146.136237  ])"
      ]
     },
     "execution_count": 37,
     "metadata": {},
     "output_type": "execute_result"
    }
   ],
   "source": [
    "lr.predict(X[:3])"
   ]
  },
  {
   "cell_type": "code",
   "execution_count": 38,
   "metadata": {
    "ExecuteTime": {
     "end_time": "2023-02-08T02:46:35.667158Z",
     "start_time": "2023-02-08T02:46:35.647122Z"
    }
   },
   "outputs": [
    {
     "data": {
      "text/plain": [
       "array([[-208.60262243],\n",
       "       [ 145.45196451],\n",
       "       [-146.136237  ]])"
      ]
     },
     "execution_count": 38,
     "metadata": {},
     "output_type": "execute_result"
    }
   ],
   "source": [
    "lr.coef_[0] * X[:3]  + lr.intercept_    # 위와 동일하다. predict가 그 계산을 해준다."
   ]
  },
  {
   "cell_type": "markdown",
   "metadata": {
    "slideshow": {
     "slide_type": "fragment"
    }
   },
   "source": [
    "##### X, y와 추론결과  시각화"
   ]
  },
  {
   "cell_type": "code",
   "execution_count": null,
   "metadata": {},
   "outputs": [],
   "source": []
  },
  {
   "cell_type": "code",
   "execution_count": 43,
   "metadata": {
    "ExecuteTime": {
     "end_time": "2023-02-08T02:52:08.629239Z",
     "start_time": "2023-02-08T02:52:08.502542Z"
    }
   },
   "outputs": [
    {
     "data": {
      "image/png": "[encoded data removed]",
      "text/plain": [
       "<Figure size 640x480 with 1 Axes>"
      ]
     },
     "metadata": {},
     "output_type": "display_data"
    }
   ],
   "source": [
    "plt.scatter(X, y, alpha=0.3, label='데이터셋')\n",
    "X_sample = np.linspace(-3, 3, 100)\n",
    "y_sample = lr.predict(X_sample.reshape(-1,1))\n",
    "plt.plot(X_sample,y_sample, color='red', label = '모델예측결과')\n",
    "plt.legend()\n",
    "plt.show()"
   ]
  },
  {
   "cell_type": "code",
   "execution_count": 58,
   "metadata": {
    "ExecuteTime": {
     "end_time": "2023-02-08T04:33:08.979890Z",
     "start_time": "2023-02-08T04:33:08.946714Z"
    }
   },
   "outputs": [
    {
     "name": "stdout",
     "output_type": "stream",
     "text": [
      "MSE: 885.9735841406376, RMSE: 29.765308399891268, MAE: 23.62777143027586, R2: 0.8808989693851077\n"
     ]
    }
   ],
   "source": [
    "print_metrics_regression(y, pred)"
   ]
  },
  {
   "cell_type": "code",
   "execution_count": 60,
   "metadata": {
    "ExecuteTime": {
     "end_time": "2023-02-08T04:36:23.928806Z",
     "start_time": "2023-02-08T04:36:23.916478Z"
    }
   },
   "outputs": [
    {
     "name": "stdout",
     "output_type": "stream",
     "text": [
      "Overwriting metrics.py\n"
     ]
    }
   ],
   "source": [
    "%%writefile metrics.py\n",
    "# 평가 지표 -> 함수\n",
    "# 평가지표 저장 모듈\n",
    "import matplotlib.pyplot as plt\n",
    "from sklearn.metrics import (confusion_matrix, ConfusionMatrixDisplay, recall_score, \n",
    "                              precision_score, f1_score, accuracy_score, \n",
    "                             average_precision_score, roc_auc_score,\n",
    "                            mean_squared_error, mean_absolute_error, r2_score)\n",
    "\n",
    "\n",
    "__version__=1.2\n",
    "\n",
    "def print_metrics_regression(y, pred, title=None):\n",
    "    \"\"\"\n",
    "    회귀 모델 평가결과들을 출력하는 함수\n",
    "    MSE, RMSE, MAE, R2\n",
    "    [PARAMETER]\n",
    "        y: ndarray - 정답(target)\n",
    "        pred: ndarray - 모델이 추론한 값\n",
    "        title: str = None - 제목\n",
    "    \n",
    "    \"\"\"\n",
    "    if title:\n",
    "        print(title)\n",
    "    mse = mean_squared_error(y, pred)\n",
    "    rmse = mean_squared_error(y, pred, squared=False)\n",
    "    mae = mean_absolute_error(y, pred)\n",
    "    r2 = r2_score(y, pred)\n",
    "    print(f\"MSE: {mse:.3f}, RMSE: {rmse:.3f}, MAE: {mae:.3f}, R2: {r2:.3f}\")\n",
    "    \n",
    "    \n",
    "def plot_confusion_matrix(y, pred, title=None):\n",
    "    '''\n",
    "    Confusion MAtrix 시각화 함수\n",
    "    [parameter]\n",
    "      y: ndarray - 정답\n",
    "      pred: ndarray - 모델 예측값\n",
    "      title: str - 그래프 제목\n",
    "    [return]\n",
    "    [exception]\n",
    "    \n",
    "    '''\n",
    "    cm = confusion_matrix(y, pred)\n",
    "    disp = ConfusionMatrixDisplay(cm)\n",
    "    disp.plot(cmap=\"Blues\")\n",
    "    if title:\n",
    "        plt.title(title)\n",
    "    plt.show()\n",
    "    \n",
    "    \n",
    "def print_metrics_classification(y, pred, title=None):\n",
    "    '''\n",
    "    classficarion(분류) 결과들을 출력하는 함수\n",
    "    accuracy, recall,percision, f1-score\n",
    "    [parameter]\n",
    "      y: ndarray - 정답\n",
    "      pred: ndarray - 모델 예측값\n",
    "      title: str - 그래프 제목\n",
    "    [return]\n",
    "    [exception]\n",
    "    '''\n",
    "    if title:\n",
    "        print(title)\n",
    "    print(\"정확도(accuracy):\", accuracy_score(y,pred))\n",
    "    print(\"재현율/민감도(recall): \", recall_score(y,pred))        \n",
    "    print(\"정밀도(precision): \", precision_score(y,pred))\n",
    "    print(\"f1-score: \", f1_score(y,pred))\n",
    "\n",
    "def print_metrics_classification2(y, pred_pos_proba, title):\n",
    "    \"\"\"\n",
    "    Average Precision Score와 roc-auc score를 출력\n",
    "    [parameter]\n",
    "        y: ndarray - 정담의 label\n",
    "        pred_pos_proba: ndarray - 모델이 추론한 positive(양성)의 활률\n",
    "    \n",
    "    \"\"\"\n",
    "    if title:\n",
    "        print(title)\n",
    "    print('Average Precision:', average_precision_score(y, pred_pos_proba))\n",
    "    print('roc_auc:', roc_auc_score(y, pred_pos_proba))\n"
   ]
  },
  {
   "cell_type": "code",
   "execution_count": 61,
   "metadata": {
    "ExecuteTime": {
     "end_time": "2023-02-08T04:36:29.902738Z",
     "start_time": "2023-02-08T04:36:29.873338Z"
    }
   },
   "outputs": [
    {
     "name": "stdout",
     "output_type": "stream",
     "text": [
      "예제\n",
      "MSE: 885.974, RMSE: 29.765, MAE: 23.628, R2: 0.881\n"
     ]
    }
   ],
   "source": [
    "from metrics import print_metrics_regression as pmr\n",
    "pmr(y, pred, \"예제\")"
   ]
  },
  {
   "cell_type": "code",
   "execution_count": null,
   "metadata": {},
   "outputs": [],
   "source": []
  },
  {
   "cell_type": "markdown",
   "metadata": {
    "slideshow": {
     "slide_type": "slide"
    }
   },
   "source": [
    "## 기존 분류 모델의 회귀 모델"
   ]
  },
  {
   "cell_type": "markdown",
   "metadata": {
    "slideshow": {
     "slide_type": "fragment"
    }
   },
   "source": [
    "##### import"
   ]
  },
  {
   "cell_type": "code",
   "execution_count": 65,
   "metadata": {
    "ExecuteTime": {
     "end_time": "2023-02-08T04:43:11.556212Z",
     "start_time": "2023-02-08T04:43:11.535916Z"
    }
   },
   "outputs": [],
   "source": [
    "from sklearn.model_selection import train_test_split\n",
    "from sklearn.neighbors import KNeighborsRegressor\n",
    "from sklearn.tree import DecisionTreeRegressor, export_graphviz\n",
    "from sklearn.svm import SVR\n",
    "from sklearn.ensemble import RandomForestRegressor, GradientBoostingRegressor, VotingRegressor\n",
    "from sklearn.linear_model import LinearRegression\n",
    "from xgboost import XGBRegressor\n",
    "from metrics import print_metrics_regression as pmr\n",
    "\n",
    "from graphviz import Source"
   ]
  },
  {
   "cell_type": "code",
   "execution_count": 69,
   "metadata": {
    "ExecuteTime": {
     "end_time": "2023-02-08T04:44:16.319298Z",
     "start_time": "2023-02-08T04:44:16.287234Z"
    }
   },
   "outputs": [
    {
     "data": {
      "text/plain": [
       "((800, 1), (200, 1))"
      ]
     },
     "execution_count": 69,
     "metadata": {},
     "output_type": "execute_result"
    }
   ],
   "source": [
    "X_train, X_test, y_train, y_test = train_test_split(X, y, test_size= 0.2,\n",
    "                                                    random_state=0)\n",
    "# stratify 는 분류(classify)) 데이터셋 분리때문 지정하는 것(회귀에서는 지정하지 않는다)\n",
    "X_train.shape, X_test.shape"
   ]
  },
  {
   "cell_type": "code",
   "execution_count": null,
   "metadata": {},
   "outputs": [],
   "source": []
  },
  {
   "cell_type": "markdown",
   "metadata": {
    "slideshow": {
     "slide_type": "fragment"
    }
   },
   "source": [
    "##### 모델들 생성"
   ]
  },
  {
   "cell_type": "code",
   "execution_count": 71,
   "metadata": {
    "ExecuteTime": {
     "end_time": "2023-02-08T04:49:53.348326Z",
     "start_time": "2023-02-08T04:49:53.318517Z"
    }
   },
   "outputs": [],
   "source": [
    "knn = KNeighborsRegressor(n_neighbors=3)\n",
    "tree = DecisionTreeRegressor(max_depth=3, random_state=0)\n",
    "rf = RandomForestRegressor(n_estimators=200, max_depth=3, random_state=0)\n",
    "gb = GradientBoostingRegressor(n_estimators=200, max_depth=1, random_state=0)\n",
    "lr = LinearRegression()\n",
    "xgb = XGBRegressor(n_estimators=200, max_depth=1, random_state=0)\n",
    "svr = SVR()\n",
    "\n",
    "estimators = [\n",
    "    \n",
    "    (\"knn\", knn),\n",
    "    (\"Decision Tree\", tree),\n",
    "    (\"Gradient Boostig\", gb),\n",
    "    (\"Linear Regression\", lr),\n",
    "    (\"XGBoost\", xgb),\n",
    "    (\"SVM\", svr)  \n",
    "]"
   ]
  },
  {
   "cell_type": "markdown",
   "metadata": {
    "slideshow": {
     "slide_type": "fragment"
    }
   },
   "source": [
    "##### 모델 학습 및 평가"
   ]
  },
  {
   "cell_type": "code",
   "execution_count": 72,
   "metadata": {
    "ExecuteTime": {
     "end_time": "2023-02-08T04:52:47.014802Z",
     "start_time": "2023-02-08T04:52:46.091194Z"
    }
   },
   "outputs": [
    {
     "name": "stdout",
     "output_type": "stream",
     "text": [
      "knn - Train Set\n",
      "MSE: 605.566, RMSE: 24.608, MAE: 19.608, R2: 0.921\n",
      "knn - Test Set\n",
      "MSE: 1241.497, RMSE: 35.235, MAE: 27.796, R2: 0.806\n",
      "==================================================\n",
      "Decision Tree - Train Set\n",
      "MSE: 999.747, RMSE: 31.619, MAE: 25.606, R2: 0.870\n",
      "Decision Tree - Test Set\n",
      "MSE: 1057.638, RMSE: 32.521, MAE: 26.122, R2: 0.835\n",
      "==================================================\n",
      "Gradient Boostig - Train Set\n",
      "MSE: 808.368, RMSE: 28.432, MAE: 22.647, R2: 0.895\n",
      "Gradient Boostig - Test Set\n",
      "MSE: 876.818, RMSE: 29.611, MAE: 23.993, R2: 0.863\n",
      "==================================================\n",
      "Linear Regression - Train Set\n",
      "MSE: 899.611, RMSE: 29.994, MAE: 23.768, R2: 0.883\n",
      "Linear Regression - Test Set\n",
      "MSE: 832.134, RMSE: 28.847, MAE: 23.048, R2: 0.870\n",
      "==================================================\n",
      "XGBoost - Train Set\n",
      "MSE: 818.143, RMSE: 28.603, MAE: 22.827, R2: 0.893\n",
      "XGBoost - Test Set\n",
      "MSE: 891.954, RMSE: 29.866, MAE: 23.852, R2: 0.861\n",
      "==================================================\n",
      "SVM - Train Set\n",
      "MSE: 2333.942, RMSE: 48.311, MAE: 33.992, R2: 0.696\n",
      "SVM - Test Set\n",
      "MSE: 1721.769, RMSE: 41.494, MAE: 29.857, R2: 0.731\n",
      "==================================================\n"
     ]
    }
   ],
   "source": [
    "for model_name, model in estimators:\n",
    "    model.fit(X_train, y_train)\n",
    "    pred_train = model.predict(X_train)\n",
    "    pred_test = model.predict(X_test)\n",
    "    pmr(y_train, pred_train, f\"{model_name} - Train Set\")\n",
    "    pmr(y_test, pred_test, f\"{model_name} - Test Set\")    \n",
    "    print(\"=\"*50)"
   ]
  },
  {
   "cell_type": "markdown",
   "metadata": {
    "slideshow": {
     "slide_type": "slide"
    }
   },
   "source": [
    "##### Voting\n",
    "- VotingRegressor \n",
    "    - 각 모델이 예측한 값의 평균을 출력한다."
   ]
  },
  {
   "cell_type": "code",
   "execution_count": 75,
   "metadata": {
    "ExecuteTime": {
     "end_time": "2023-02-08T04:57:09.804542Z",
     "start_time": "2023-02-08T04:57:09.267626Z"
    }
   },
   "outputs": [
    {
     "data": {
      "text/plain": [
       "VotingRegressor(estimators=[('knn', KNeighborsRegressor(n_neighbors=3)),\n",
       "                            ('Decision Tree',\n",
       "                             DecisionTreeRegressor(max_depth=3,\n",
       "                                                   random_state=0)),\n",
       "                            ('Gradient Boostig',\n",
       "                             GradientBoostingRegressor(max_depth=1,\n",
       "                                                       n_estimators=200,\n",
       "                                                       random_state=0)),\n",
       "                            ('Linear Regression', LinearRegression()),\n",
       "                            ('XGBoost',\n",
       "                             XGBRegressor(base_score=None, booster=None,\n",
       "                                          callbacks=None,\n",
       "                                          colsample_byl...\n",
       "                                          gamma=None, gpu_id=None,\n",
       "                                          grow_policy=None,\n",
       "                                          importance_type=None,\n",
       "                                          interaction_constraints=None,\n",
       "                                          learning_rate=None, max_bin=None,\n",
       "                                          max_cat_threshold=None,\n",
       "                                          max_cat_to_onehot=None,\n",
       "                                          max_delta_step=None, max_depth=1,\n",
       "                                          max_leaves=None,\n",
       "                                          min_child_weight=None, missing=nan,\n",
       "                                          monotone_constraints=None,\n",
       "                                          n_estimators=200, n_jobs=None,\n",
       "                                          num_parallel_tree=None,\n",
       "                                          predictor=None, random_state=0, ...))])"
      ]
     },
     "execution_count": 75,
     "metadata": {},
     "output_type": "execute_result"
    }
   ],
   "source": [
    "estimators = [\n",
    "    \n",
    "    (\"knn\", knn),\n",
    "    (\"Decision Tree\", tree),\n",
    "    (\"Gradient Boostig\", gb),\n",
    "    (\"Linear Regression\", lr),\n",
    "    (\"XGBoost\", xgb),\n",
    "\n",
    "]\n",
    "voting = VotingRegressor(estimators)\n",
    "voting.fit(X_train, y_train)"
   ]
  },
  {
   "cell_type": "markdown",
   "metadata": {
    "slideshow": {
     "slide_type": "slide"
    }
   },
   "source": [
    "##### DecisionTreeRegressor Tree 시각화"
   ]
  },
  {
   "cell_type": "code",
   "execution_count": 76,
   "metadata": {
    "ExecuteTime": {
     "end_time": "2023-02-08T04:57:11.932293Z",
     "start_time": "2023-02-08T04:57:11.904727Z"
    }
   },
   "outputs": [
    {
     "name": "stdout",
     "output_type": "stream",
     "text": [
      "MSE: 751.169, RMSE: 27.407, MAE: 22.014, R2: 0.902\n",
      "-----------------\n",
      "MSE: 903.275, RMSE: 30.055, MAE: 24.183, R2: 0.859\n"
     ]
    }
   ],
   "source": [
    "pred_train2 = voting.predict(X_train)\n",
    "pred_test2 = voting.predict(X_test)\n",
    "pmr(y_train, pred_train2)\n",
    "print('-----------------')\n",
    "pmr(y_test, pred_test2)"
   ]
  },
  {
   "cell_type": "code",
   "execution_count": null,
   "metadata": {},
   "outputs": [],
   "source": [
    "# MSE: 817.727, RMSE: 28.596, MAE: 22.953, R2: 0.893\n",
    "# -----------------\n",
    "# MSE: 911.099, RMSE: 30.184, MAE: 24.220, R2: 0.858"
   ]
  },
  {
   "cell_type": "code",
   "execution_count": 77,
   "metadata": {
    "ExecuteTime": {
     "end_time": "2023-02-08T05:15:02.050683Z",
     "start_time": "2023-02-08T05:15:01.791593Z"
    }
   },
   "outputs": [
    {
     "data": {
      "image/svg+xml": [
       "<?xml version=\"1.0\" encoding=\"UTF-8\" standalone=\"no\"?>\n",
       "<!DOCTYPE svg PUBLIC \"-//W3C//DTD SVG 1.1//EN\"\n",
       " \"http://www.w3.org/Graphics/SVG/1.1/DTD/svg11.dtd\">\n",
       "<!-- Generated by graphviz version 2.50.0 (0)\n",
       " -->\n",
       "<!-- Title: Tree Pages: 1 -->\n",
       "<svg width=\"1477pt\" height=\"373pt\"\n",
       " viewBox=\"0.00 0.00 1476.50 373.00\" xmlns=\"http://www.w3.org/2000/svg\" xmlns:xlink=\"http://www.w3.org/1999/xlink\">\n",
       "<g id=\"graph0\" class=\"graph\" transform=\"scale(1 1) rotate(0) translate(4 369)\">\n",
       "<title>Tree</title>\n",
       "<polygon fill=\"white\" stroke=\"transparent\" points=\"-4,4 -4,-369 1472.5,-369 1472.5,4 -4,4\"/>\n",
       "<!-- 0 -->\n",
       "<g id=\"node1\" class=\"node\">\n",
       "<title>0</title>\n",
       "<path fill=\"#f2c19e\" stroke=\"black\" d=\"M816,-365C816,-365 667,-365 667,-365 661,-365 655,-359 655,-353 655,-353 655,-309 655,-309 655,-303 661,-297 667,-297 667,-297 816,-297 816,-297 822,-297 828,-303 828,-309 828,-309 828,-353 828,-353 828,-359 822,-365 816,-365\"/>\n",
       "<text text-anchor=\"middle\" x=\"741.5\" y=\"-349.8\" font-family=\"Helvetica,sans-Serif\" font-size=\"14.00\">X[0] &lt;= 0.072</text>\n",
       "<text text-anchor=\"middle\" x=\"741.5\" y=\"-334.8\" font-family=\"Helvetica,sans-Serif\" font-size=\"14.00\">squared_error = 7666.895</text>\n",
       "<text text-anchor=\"middle\" x=\"741.5\" y=\"-319.8\" font-family=\"Helvetica,sans-Serif\" font-size=\"14.00\">samples = 800</text>\n",
       "<text text-anchor=\"middle\" x=\"741.5\" y=\"-304.8\" font-family=\"Helvetica,sans-Serif\" font-size=\"14.00\">value = &#45;0.458</text>\n",
       "</g>\n",
       "<!-- 1 -->\n",
       "<g id=\"node2\" class=\"node\">\n",
       "<title>1</title>\n",
       "<path fill=\"#f7d8c1\" stroke=\"black\" d=\"M629,-261C629,-261 480,-261 480,-261 474,-261 468,-255 468,-249 468,-249 468,-205 468,-205 468,-199 474,-193 480,-193 480,-193 629,-193 629,-193 635,-193 641,-199 641,-205 641,-205 641,-249 641,-249 641,-255 635,-261 629,-261\"/>\n",
       "<text text-anchor=\"middle\" x=\"554.5\" y=\"-245.8\" font-family=\"Helvetica,sans-Serif\" font-size=\"14.00\">X[0] &lt;= &#45;0.981</text>\n",
       "<text text-anchor=\"middle\" x=\"554.5\" y=\"-230.8\" font-family=\"Helvetica,sans-Serif\" font-size=\"14.00\">squared_error = 3530.538</text>\n",
       "<text text-anchor=\"middle\" x=\"554.5\" y=\"-215.8\" font-family=\"Helvetica,sans-Serif\" font-size=\"14.00\">samples = 438</text>\n",
       "<text text-anchor=\"middle\" x=\"554.5\" y=\"-200.8\" font-family=\"Helvetica,sans-Serif\" font-size=\"14.00\">value = &#45;60.617</text>\n",
       "</g>\n",
       "<!-- 0&#45;&gt;1 -->\n",
       "<g id=\"edge1\" class=\"edge\">\n",
       "<title>0&#45;&gt;1</title>\n",
       "<path fill=\"none\" stroke=\"black\" d=\"M680.79,-296.88C662.73,-287.04 642.81,-276.17 624.23,-266.03\"/>\n",
       "<polygon fill=\"black\" stroke=\"black\" points=\"625.68,-262.84 615.23,-261.12 622.33,-268.99 625.68,-262.84\"/>\n",
       "<text text-anchor=\"middle\" x=\"622.28\" y=\"-281.41\" font-family=\"Helvetica,sans-Serif\" font-size=\"14.00\">True</text>\n",
       "</g>\n",
       "<!-- 8 -->\n",
       "<g id=\"node9\" class=\"node\">\n",
       "<title>8</title>\n",
       "<path fill=\"#eda774\" stroke=\"black\" d=\"M1002,-261C1002,-261 853,-261 853,-261 847,-261 841,-255 841,-249 841,-249 841,-205 841,-205 841,-199 847,-193 853,-193 853,-193 1002,-193 1002,-193 1008,-193 1014,-199 1014,-205 1014,-205 1014,-249 1014,-249 1014,-255 1008,-261 1002,-261\"/>\n",
       "<text text-anchor=\"middle\" x=\"927.5\" y=\"-245.8\" font-family=\"Helvetica,sans-Serif\" font-size=\"14.00\">X[0] &lt;= 1.18</text>\n",
       "<text text-anchor=\"middle\" x=\"927.5\" y=\"-230.8\" font-family=\"Helvetica,sans-Serif\" font-size=\"14.00\">squared_error = 2994.532</text>\n",
       "<text text-anchor=\"middle\" x=\"927.5\" y=\"-215.8\" font-family=\"Helvetica,sans-Serif\" font-size=\"14.00\">samples = 362</text>\n",
       "<text text-anchor=\"middle\" x=\"927.5\" y=\"-200.8\" font-family=\"Helvetica,sans-Serif\" font-size=\"14.00\">value = 72.331</text>\n",
       "</g>\n",
       "<!-- 0&#45;&gt;8 -->\n",
       "<g id=\"edge8\" class=\"edge\">\n",
       "<title>0&#45;&gt;8</title>\n",
       "<path fill=\"none\" stroke=\"black\" d=\"M801.89,-296.88C819.85,-287.04 839.66,-276.17 858.14,-266.03\"/>\n",
       "<polygon fill=\"black\" stroke=\"black\" points=\"860.01,-269 867.1,-261.12 856.65,-262.86 860.01,-269\"/>\n",
       "<text text-anchor=\"middle\" x=\"860.1\" y=\"-281.42\" font-family=\"Helvetica,sans-Serif\" font-size=\"14.00\">False</text>\n",
       "</g>\n",
       "<!-- 2 -->\n",
       "<g id=\"node3\" class=\"node\">\n",
       "<title>2</title>\n",
       "<path fill=\"#fcf0e7\" stroke=\"black\" d=\"M345.5,-157C345.5,-157 203.5,-157 203.5,-157 197.5,-157 191.5,-151 191.5,-145 191.5,-145 191.5,-101 191.5,-101 191.5,-95 197.5,-89 203.5,-89 203.5,-89 345.5,-89 345.5,-89 351.5,-89 357.5,-95 357.5,-101 357.5,-101 357.5,-145 357.5,-145 357.5,-151 351.5,-157 345.5,-157\"/>\n",
       "<text text-anchor=\"middle\" x=\"274.5\" y=\"-141.8\" font-family=\"Helvetica,sans-Serif\" font-size=\"14.00\">X[0] &lt;= &#45;1.567</text>\n",
       "<text text-anchor=\"middle\" x=\"274.5\" y=\"-126.8\" font-family=\"Helvetica,sans-Serif\" font-size=\"14.00\">squared_error = 2258.16</text>\n",
       "<text text-anchor=\"middle\" x=\"274.5\" y=\"-111.8\" font-family=\"Helvetica,sans-Serif\" font-size=\"14.00\">samples = 130</text>\n",
       "<text text-anchor=\"middle\" x=\"274.5\" y=\"-96.8\" font-family=\"Helvetica,sans-Serif\" font-size=\"14.00\">value = &#45;126.701</text>\n",
       "</g>\n",
       "<!-- 1&#45;&gt;2 -->\n",
       "<g id=\"edge2\" class=\"edge\">\n",
       "<title>1&#45;&gt;2</title>\n",
       "<path fill=\"none\" stroke=\"black\" d=\"M467.82,-194.43C435.96,-182.82 399.75,-169.63 367.36,-157.83\"/>\n",
       "<polygon fill=\"black\" stroke=\"black\" points=\"368.49,-154.51 357.89,-154.38 366.09,-161.09 368.49,-154.51\"/>\n",
       "</g>\n",
       "<!-- 5 -->\n",
       "<g id=\"node6\" class=\"node\">\n",
       "<title>5</title>\n",
       "<path fill=\"#f5cdb1\" stroke=\"black\" d=\"M629,-157C629,-157 480,-157 480,-157 474,-157 468,-151 468,-145 468,-145 468,-101 468,-101 468,-95 474,-89 480,-89 480,-89 629,-89 629,-89 635,-89 641,-95 641,-101 641,-101 641,-145 641,-145 641,-151 635,-157 629,-157\"/>\n",
       "<text text-anchor=\"middle\" x=\"554.5\" y=\"-141.8\" font-family=\"Helvetica,sans-Serif\" font-size=\"14.00\">X[0] &lt;= &#45;0.468</text>\n",
       "<text text-anchor=\"middle\" x=\"554.5\" y=\"-126.8\" font-family=\"Helvetica,sans-Serif\" font-size=\"14.00\">squared_error = 1446.327</text>\n",
       "<text text-anchor=\"middle\" x=\"554.5\" y=\"-111.8\" font-family=\"Helvetica,sans-Serif\" font-size=\"14.00\">samples = 308</text>\n",
       "<text text-anchor=\"middle\" x=\"554.5\" y=\"-96.8\" font-family=\"Helvetica,sans-Serif\" font-size=\"14.00\">value = &#45;32.724</text>\n",
       "</g>\n",
       "<!-- 1&#45;&gt;5 -->\n",
       "<g id=\"edge5\" class=\"edge\">\n",
       "<title>1&#45;&gt;5</title>\n",
       "<path fill=\"none\" stroke=\"black\" d=\"M554.5,-192.88C554.5,-184.78 554.5,-175.98 554.5,-167.47\"/>\n",
       "<polygon fill=\"black\" stroke=\"black\" points=\"558,-167.3 554.5,-157.3 551,-167.3 558,-167.3\"/>\n",
       "</g>\n",
       "<!-- 3 -->\n",
       "<g id=\"node4\" class=\"node\">\n",
       "<title>3</title>\n",
       "<path fill=\"#ffffff\" stroke=\"black\" d=\"M161,-53C161,-53 12,-53 12,-53 6,-53 0,-47 0,-41 0,-41 0,-12 0,-12 0,-6 6,0 12,0 12,0 161,0 161,0 167,0 173,-6 173,-12 173,-12 173,-41 173,-41 173,-47 167,-53 161,-53\"/>\n",
       "<text text-anchor=\"middle\" x=\"86.5\" y=\"-37.8\" font-family=\"Helvetica,sans-Serif\" font-size=\"14.00\">squared_error = 1881.067</text>\n",
       "<text text-anchor=\"middle\" x=\"86.5\" y=\"-22.8\" font-family=\"Helvetica,sans-Serif\" font-size=\"14.00\">samples = 49</text>\n",
       "<text text-anchor=\"middle\" x=\"86.5\" y=\"-7.8\" font-family=\"Helvetica,sans-Serif\" font-size=\"14.00\">value = &#45;168.076</text>\n",
       "</g>\n",
       "<!-- 2&#45;&gt;3 -->\n",
       "<g id=\"edge3\" class=\"edge\">\n",
       "<title>2&#45;&gt;3</title>\n",
       "<path fill=\"none\" stroke=\"black\" d=\"M208.75,-88.95C188.45,-78.75 166.22,-67.57 146.35,-57.59\"/>\n",
       "<polygon fill=\"black\" stroke=\"black\" points=\"147.91,-54.45 137.4,-53.09 144.77,-60.71 147.91,-54.45\"/>\n",
       "</g>\n",
       "<!-- 4 -->\n",
       "<g id=\"node5\" class=\"node\">\n",
       "<title>4</title>\n",
       "<path fill=\"#fae7d9\" stroke=\"black\" d=\"M345.5,-53C345.5,-53 203.5,-53 203.5,-53 197.5,-53 191.5,-47 191.5,-41 191.5,-41 191.5,-12 191.5,-12 191.5,-6 197.5,0 203.5,0 203.5,0 345.5,0 345.5,0 351.5,0 357.5,-6 357.5,-12 357.5,-12 357.5,-41 357.5,-41 357.5,-47 351.5,-53 345.5,-53\"/>\n",
       "<text text-anchor=\"middle\" x=\"274.5\" y=\"-37.8\" font-family=\"Helvetica,sans-Serif\" font-size=\"14.00\">squared_error = 824.198</text>\n",
       "<text text-anchor=\"middle\" x=\"274.5\" y=\"-22.8\" font-family=\"Helvetica,sans-Serif\" font-size=\"14.00\">samples = 81</text>\n",
       "<text text-anchor=\"middle\" x=\"274.5\" y=\"-7.8\" font-family=\"Helvetica,sans-Serif\" font-size=\"14.00\">value = &#45;101.671</text>\n",
       "</g>\n",
       "<!-- 2&#45;&gt;4 -->\n",
       "<g id=\"edge4\" class=\"edge\">\n",
       "<title>2&#45;&gt;4</title>\n",
       "<path fill=\"none\" stroke=\"black\" d=\"M274.5,-88.95C274.5,-80.72 274.5,-71.85 274.5,-63.48\"/>\n",
       "<polygon fill=\"black\" stroke=\"black\" points=\"278,-63.24 274.5,-53.24 271,-63.24 278,-63.24\"/>\n",
       "</g>\n",
       "<!-- 6 -->\n",
       "<g id=\"node7\" class=\"node\">\n",
       "<title>6</title>\n",
       "<path fill=\"#f7d6bf\" stroke=\"black\" d=\"M537,-53C537,-53 388,-53 388,-53 382,-53 376,-47 376,-41 376,-41 376,-12 376,-12 376,-6 382,0 388,0 388,0 537,0 537,0 543,0 549,-6 549,-12 549,-12 549,-41 549,-41 549,-47 543,-53 537,-53\"/>\n",
       "<text text-anchor=\"middle\" x=\"462.5\" y=\"-37.8\" font-family=\"Helvetica,sans-Serif\" font-size=\"14.00\">squared_error = 1001.151</text>\n",
       "<text text-anchor=\"middle\" x=\"462.5\" y=\"-22.8\" font-family=\"Helvetica,sans-Serif\" font-size=\"14.00\">samples = 127</text>\n",
       "<text text-anchor=\"middle\" x=\"462.5\" y=\"-7.8\" font-family=\"Helvetica,sans-Serif\" font-size=\"14.00\">value = &#45;57.055</text>\n",
       "</g>\n",
       "<!-- 5&#45;&gt;6 -->\n",
       "<g id=\"edge6\" class=\"edge\">\n",
       "<title>5&#45;&gt;6</title>\n",
       "<path fill=\"none\" stroke=\"black\" d=\"M522.32,-88.95C513.33,-79.71 503.56,-69.67 494.57,-60.44\"/>\n",
       "<polygon fill=\"black\" stroke=\"black\" points=\"497.04,-57.96 487.56,-53.24 492.02,-62.84 497.04,-57.96\"/>\n",
       "</g>\n",
       "<!-- 7 -->\n",
       "<g id=\"node8\" class=\"node\">\n",
       "<title>7</title>\n",
       "<path fill=\"#f3c7a7\" stroke=\"black\" d=\"M728,-53C728,-53 579,-53 579,-53 573,-53 567,-47 567,-41 567,-41 567,-12 567,-12 567,-6 573,0 579,0 579,0 728,0 728,0 734,0 740,-6 740,-12 740,-12 740,-41 740,-41 740,-47 734,-53 728,-53\"/>\n",
       "<text text-anchor=\"middle\" x=\"653.5\" y=\"-37.8\" font-family=\"Helvetica,sans-Serif\" font-size=\"14.00\">squared_error = 1051.846</text>\n",
       "<text text-anchor=\"middle\" x=\"653.5\" y=\"-22.8\" font-family=\"Helvetica,sans-Serif\" font-size=\"14.00\">samples = 181</text>\n",
       "<text text-anchor=\"middle\" x=\"653.5\" y=\"-7.8\" font-family=\"Helvetica,sans-Serif\" font-size=\"14.00\">value = &#45;15.652</text>\n",
       "</g>\n",
       "<!-- 5&#45;&gt;7 -->\n",
       "<g id=\"edge7\" class=\"edge\">\n",
       "<title>5&#45;&gt;7</title>\n",
       "<path fill=\"none\" stroke=\"black\" d=\"M589.13,-88.95C598.9,-79.62 609.53,-69.47 619.28,-60.16\"/>\n",
       "<polygon fill=\"black\" stroke=\"black\" points=\"621.72,-62.67 626.54,-53.24 616.89,-57.61 621.72,-62.67\"/>\n",
       "</g>\n",
       "<!-- 9 -->\n",
       "<g id=\"node10\" class=\"node\">\n",
       "<title>9</title>\n",
       "<path fill=\"#efaf82\" stroke=\"black\" d=\"M998.5,-157C998.5,-157 856.5,-157 856.5,-157 850.5,-157 844.5,-151 844.5,-145 844.5,-145 844.5,-101 844.5,-101 844.5,-95 850.5,-89 856.5,-89 856.5,-89 998.5,-89 998.5,-89 1004.5,-89 1010.5,-95 1010.5,-101 1010.5,-101 1010.5,-145 1010.5,-145 1010.5,-151 1004.5,-157 998.5,-157\"/>\n",
       "<text text-anchor=\"middle\" x=\"927.5\" y=\"-141.8\" font-family=\"Helvetica,sans-Serif\" font-size=\"14.00\">X[0] &lt;= 0.479</text>\n",
       "<text text-anchor=\"middle\" x=\"927.5\" y=\"-126.8\" font-family=\"Helvetica,sans-Serif\" font-size=\"14.00\">squared_error = 1275.29</text>\n",
       "<text text-anchor=\"middle\" x=\"927.5\" y=\"-111.8\" font-family=\"Helvetica,sans-Serif\" font-size=\"14.00\">samples = 271</text>\n",
       "<text text-anchor=\"middle\" x=\"927.5\" y=\"-96.8\" font-family=\"Helvetica,sans-Serif\" font-size=\"14.00\">value = 48.768</text>\n",
       "</g>\n",
       "<!-- 8&#45;&gt;9 -->\n",
       "<g id=\"edge9\" class=\"edge\">\n",
       "<title>8&#45;&gt;9</title>\n",
       "<path fill=\"none\" stroke=\"black\" d=\"M927.5,-192.88C927.5,-184.78 927.5,-175.98 927.5,-167.47\"/>\n",
       "<polygon fill=\"black\" stroke=\"black\" points=\"931,-167.3 927.5,-157.3 924,-167.3 931,-167.3\"/>\n",
       "</g>\n",
       "<!-- 12 -->\n",
       "<g id=\"node13\" class=\"node\">\n",
       "<title>12</title>\n",
       "<path fill=\"#e78d4c\" stroke=\"black\" d=\"M1280,-157C1280,-157 1131,-157 1131,-157 1125,-157 1119,-151 1119,-145 1119,-145 1119,-101 1119,-101 1119,-95 1125,-89 1131,-89 1131,-89 1280,-89 1280,-89 1286,-89 1292,-95 1292,-101 1292,-101 1292,-145 1292,-145 1292,-151 1286,-157 1280,-157\"/>\n",
       "<text text-anchor=\"middle\" x=\"1205.5\" y=\"-141.8\" font-family=\"Helvetica,sans-Serif\" font-size=\"14.00\">X[0] &lt;= 1.77</text>\n",
       "<text text-anchor=\"middle\" x=\"1205.5\" y=\"-126.8\" font-family=\"Helvetica,sans-Serif\" font-size=\"14.00\">squared_error = 1537.033</text>\n",
       "<text text-anchor=\"middle\" x=\"1205.5\" y=\"-111.8\" font-family=\"Helvetica,sans-Serif\" font-size=\"14.00\">samples = 91</text>\n",
       "<text text-anchor=\"middle\" x=\"1205.5\" y=\"-96.8\" font-family=\"Helvetica,sans-Serif\" font-size=\"14.00\">value = 142.502</text>\n",
       "</g>\n",
       "<!-- 8&#45;&gt;12 -->\n",
       "<g id=\"edge12\" class=\"edge\">\n",
       "<title>8&#45;&gt;12</title>\n",
       "<path fill=\"none\" stroke=\"black\" d=\"M1014.32,-194.15C1044.49,-183.07 1078.51,-170.6 1109.39,-159.26\"/>\n",
       "<polygon fill=\"black\" stroke=\"black\" points=\"1110.68,-162.52 1118.86,-155.79 1108.27,-155.95 1110.68,-162.52\"/>\n",
       "</g>\n",
       "<!-- 10 -->\n",
       "<g id=\"node11\" class=\"node\">\n",
       "<title>10</title>\n",
       "<path fill=\"#f0b78e\" stroke=\"black\" d=\"M904.5,-53C904.5,-53 770.5,-53 770.5,-53 764.5,-53 758.5,-47 758.5,-41 758.5,-41 758.5,-12 758.5,-12 758.5,-6 764.5,0 770.5,0 770.5,0 904.5,0 904.5,0 910.5,0 916.5,-6 916.5,-12 916.5,-12 916.5,-41 916.5,-41 916.5,-47 910.5,-53 904.5,-53\"/>\n",
       "<text text-anchor=\"middle\" x=\"837.5\" y=\"-37.8\" font-family=\"Helvetica,sans-Serif\" font-size=\"14.00\">squared_error = 687.02</text>\n",
       "<text text-anchor=\"middle\" x=\"837.5\" y=\"-22.8\" font-family=\"Helvetica,sans-Serif\" font-size=\"14.00\">samples = 126</text>\n",
       "<text text-anchor=\"middle\" x=\"837.5\" y=\"-7.8\" font-family=\"Helvetica,sans-Serif\" font-size=\"14.00\">value = 27.699</text>\n",
       "</g>\n",
       "<!-- 9&#45;&gt;10 -->\n",
       "<g id=\"edge10\" class=\"edge\">\n",
       "<title>9&#45;&gt;10</title>\n",
       "<path fill=\"none\" stroke=\"black\" d=\"M896.02,-88.95C887.31,-79.8 877.85,-69.87 869.13,-60.71\"/>\n",
       "<polygon fill=\"black\" stroke=\"black\" points=\"871.44,-58.06 862.01,-53.24 866.37,-62.89 871.44,-58.06\"/>\n",
       "</g>\n",
       "<!-- 11 -->\n",
       "<g id=\"node12\" class=\"node\">\n",
       "<title>11</title>\n",
       "<path fill=\"#eda977\" stroke=\"black\" d=\"M1096,-53C1096,-53 947,-53 947,-53 941,-53 935,-47 935,-41 935,-41 935,-12 935,-12 935,-6 941,0 947,0 947,0 1096,0 1096,0 1102,0 1108,-6 1108,-12 1108,-12 1108,-41 1108,-41 1108,-47 1102,-53 1096,-53\"/>\n",
       "<text text-anchor=\"middle\" x=\"1021.5\" y=\"-37.8\" font-family=\"Helvetica,sans-Serif\" font-size=\"14.00\">squared_error = 1065.573</text>\n",
       "<text text-anchor=\"middle\" x=\"1021.5\" y=\"-22.8\" font-family=\"Helvetica,sans-Serif\" font-size=\"14.00\">samples = 145</text>\n",
       "<text text-anchor=\"middle\" x=\"1021.5\" y=\"-7.8\" font-family=\"Helvetica,sans-Serif\" font-size=\"14.00\">value = 67.076</text>\n",
       "</g>\n",
       "<!-- 9&#45;&gt;11 -->\n",
       "<g id=\"edge11\" class=\"edge\">\n",
       "<title>9&#45;&gt;11</title>\n",
       "<path fill=\"none\" stroke=\"black\" d=\"M960.38,-88.95C969.57,-79.71 979.55,-69.67 988.74,-60.44\"/>\n",
       "<polygon fill=\"black\" stroke=\"black\" points=\"991.33,-62.79 995.9,-53.24 986.37,-57.86 991.33,-62.79\"/>\n",
       "</g>\n",
       "<!-- 13 -->\n",
       "<g id=\"node14\" class=\"node\">\n",
       "<title>13</title>\n",
       "<path fill=\"#e99457\" stroke=\"black\" d=\"M1272.5,-53C1272.5,-53 1138.5,-53 1138.5,-53 1132.5,-53 1126.5,-47 1126.5,-41 1126.5,-41 1126.5,-12 1126.5,-12 1126.5,-6 1132.5,0 1138.5,0 1138.5,0 1272.5,0 1272.5,0 1278.5,0 1284.5,-6 1284.5,-12 1284.5,-12 1284.5,-41 1284.5,-41 1284.5,-47 1278.5,-53 1272.5,-53\"/>\n",
       "<text text-anchor=\"middle\" x=\"1205.5\" y=\"-37.8\" font-family=\"Helvetica,sans-Serif\" font-size=\"14.00\">squared_error = 856.62</text>\n",
       "<text text-anchor=\"middle\" x=\"1205.5\" y=\"-22.8\" font-family=\"Helvetica,sans-Serif\" font-size=\"14.00\">samples = 57</text>\n",
       "<text text-anchor=\"middle\" x=\"1205.5\" y=\"-7.8\" font-family=\"Helvetica,sans-Serif\" font-size=\"14.00\">value = 123.07</text>\n",
       "</g>\n",
       "<!-- 12&#45;&gt;13 -->\n",
       "<g id=\"edge13\" class=\"edge\">\n",
       "<title>12&#45;&gt;13</title>\n",
       "<path fill=\"none\" stroke=\"black\" d=\"M1205.5,-88.95C1205.5,-80.72 1205.5,-71.85 1205.5,-63.48\"/>\n",
       "<polygon fill=\"black\" stroke=\"black\" points=\"1209,-63.24 1205.5,-53.24 1202,-63.24 1209,-63.24\"/>\n",
       "</g>\n",
       "<!-- 14 -->\n",
       "<g id=\"node15\" class=\"node\">\n",
       "<title>14</title>\n",
       "<path fill=\"#e58139\" stroke=\"black\" d=\"M1456.5,-53C1456.5,-53 1314.5,-53 1314.5,-53 1308.5,-53 1302.5,-47 1302.5,-41 1302.5,-41 1302.5,-12 1302.5,-12 1302.5,-6 1308.5,0 1314.5,0 1314.5,0 1456.5,0 1456.5,0 1462.5,0 1468.5,-6 1468.5,-12 1468.5,-12 1468.5,-41 1468.5,-41 1468.5,-47 1462.5,-53 1456.5,-53\"/>\n",
       "<text text-anchor=\"middle\" x=\"1385.5\" y=\"-37.8\" font-family=\"Helvetica,sans-Serif\" font-size=\"14.00\">squared_error = 983.375</text>\n",
       "<text text-anchor=\"middle\" x=\"1385.5\" y=\"-22.8\" font-family=\"Helvetica,sans-Serif\" font-size=\"14.00\">samples = 34</text>\n",
       "<text text-anchor=\"middle\" x=\"1385.5\" y=\"-7.8\" font-family=\"Helvetica,sans-Serif\" font-size=\"14.00\">value = 175.08</text>\n",
       "</g>\n",
       "<!-- 12&#45;&gt;14 -->\n",
       "<g id=\"edge14\" class=\"edge\">\n",
       "<title>12&#45;&gt;14</title>\n",
       "<path fill=\"none\" stroke=\"black\" d=\"M1268.46,-88.95C1287.71,-78.84 1308.78,-67.78 1327.68,-57.86\"/>\n",
       "<polygon fill=\"black\" stroke=\"black\" points=\"1329.54,-60.83 1336.76,-53.09 1326.28,-54.64 1329.54,-60.83\"/>\n",
       "</g>\n",
       "</g>\n",
       "</svg>\n"
      ],
      "text/plain": [
       "<graphviz.sources.Source at 0x7f8d88354a90>"
      ]
     },
     "execution_count": 77,
     "metadata": {},
     "output_type": "execute_result"
    }
   ],
   "source": [
    "graph = Source(export_graphviz(tree, \n",
    "                              rounded=True, \n",
    "                              filled = True))\n",
    "graph"
   ]
  },
  {
   "cell_type": "code",
   "execution_count": 78,
   "metadata": {
    "ExecuteTime": {
     "end_time": "2023-02-08T05:16:14.479104Z",
     "start_time": "2023-02-08T05:16:14.444972Z"
    }
   },
   "outputs": [
    {
     "data": {
      "text/plain": [
       "26.210684844162312"
      ]
     },
     "execution_count": 78,
     "metadata": {},
     "output_type": "execute_result"
    }
   ],
   "source": [
    "np.sqrt(687)"
   ]
  },
  {
   "cell_type": "code",
   "execution_count": null,
   "metadata": {},
   "outputs": [],
   "source": []
  },
  {
   "cell_type": "code",
   "execution_count": null,
   "metadata": {},
   "outputs": [],
   "source": []
  },
  {
   "cell_type": "code",
   "execution_count": null,
   "metadata": {},
   "outputs": [],
   "source": []
  },
  {
   "cell_type": "code",
   "execution_count": null,
   "metadata": {},
   "outputs": [],
   "source": []
  },
  {
   "cell_type": "code",
   "execution_count": null,
   "metadata": {},
   "outputs": [],
   "source": []
  }
 ],
 "metadata": {
  "kernelspec": {
   "display_name": "Python 3 (ipykernel)",
   "language": "python",
   "name": "python3"
  },
  "language_info": {
   "codemirror_mode": {
    "name": "ipython",
    "version": 3
   },
   "file_extension": ".py",
   "mimetype": "text/x-python",
   "name": "python",
   "nbconvert_exporter": "python",
   "pygments_lexer": "ipython3",
   "version": "3.9.13"
  },
  "toc": {
   "base_numbering": 1,
   "nav_menu": {},
   "number_sections": false,
   "sideBar": true,
   "skip_h1_title": false,
   "title_cell": "Table of Contents",
   "title_sidebar": "Contents",
   "toc_cell": false,
   "toc_position": {},
   "toc_section_display": true,
   "toc_window_display": false
  },
  "varInspector": {
   "cols": {
    "lenName": 16,
    "lenType": 16,
    "lenVar": 40
   },
   "kernels_config": {
    "python": {
     "delete_cmd_postfix": "",
     "delete_cmd_prefix": "del ",
     "library": "var_list.py",
     "varRefreshCmd": "print(var_dic_list())"
    },
    "r": {
     "delete_cmd_postfix": ") ",
     "delete_cmd_prefix": "rm(",
     "library": "var_list.r",
     "varRefreshCmd": "cat(var_dic_list()) "
    }
   },
   "types_to_exclude": [
    "module",
    "function",
    "builtin_function_or_method",
    "instance",
    "_Feature"
   ],
   "window_display": false
  }
 },
 "nbformat": 4,
 "nbformat_minor": 4
}
