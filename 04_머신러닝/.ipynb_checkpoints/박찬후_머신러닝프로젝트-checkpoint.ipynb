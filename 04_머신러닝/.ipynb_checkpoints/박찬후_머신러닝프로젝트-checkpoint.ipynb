{
 "cells": [
  {
   "cell_type": "code",
   "execution_count": null,
   "id": "18328e5d",
   "metadata": {},
   "outputs": [],
   "source": []
  },
  {
   "cell_type": "markdown",
   "id": "633a23cc",
   "metadata": {},
   "source": [
    "# 데이터 전처리"
   ]
  },
  {
   "cell_type": "code",
   "execution_count": 3,
   "id": "abb46c93",
   "metadata": {
    "ExecuteTime": {
     "end_time": "2023-02-11T09:08:55.663757Z",
     "start_time": "2023-02-11T09:08:54.709698Z"
    }
   },
   "outputs": [],
   "source": [
    "import pandas as pd\n",
    "import numpy as np\n",
    "import seaborn as sns\n",
    "import matplotlib.pyplot as plt"
   ]
  },
  {
   "cell_type": "code",
   "execution_count": 4,
   "id": "7f4979ff",
   "metadata": {
    "ExecuteTime": {
     "end_time": "2023-02-11T09:08:55.667196Z",
     "start_time": "2023-02-11T09:08:55.665206Z"
    }
   },
   "outputs": [],
   "source": [
    "# matplotlib 한글설정 \n",
    "import matplotlib.pyplot as plt\n",
    "from matplotlib import rc        \n",
    "rc('font', family='AppleGothic')\n",
    "plt.rcParams['axes.unicode_minus'] = False "
   ]
  },
  {
   "cell_type": "code",
   "execution_count": 5,
   "id": "d3fdea25",
   "metadata": {
    "ExecuteTime": {
     "end_time": "2023-02-11T09:08:55.818463Z",
     "start_time": "2023-02-11T09:08:55.668138Z"
    }
   },
   "outputs": [
    {
     "data": {
      "text/plain": [
       "(150000, 12)"
      ]
     },
     "execution_count": 5,
     "metadata": {},
     "output_type": "execute_result"
    }
   ],
   "source": [
    "# data 읽기\n",
    "data = pd.read_csv('data/cs_data.csv')\n",
    "data.shape"
   ]
  },
  {
   "cell_type": "code",
   "execution_count": 6,
   "id": "758b1418",
   "metadata": {
    "ExecuteTime": {
     "end_time": "2023-02-11T09:08:55.834133Z",
     "start_time": "2023-02-11T09:08:55.820925Z"
    }
   },
   "outputs": [
    {
     "data": {
      "text/html": [
       "<div>\n",
       "<style scoped>\n",
       "    .dataframe tbody tr th:only-of-type {\n",
       "        vertical-align: middle;\n",
       "    }\n",
       "\n",
       "    .dataframe tbody tr th {\n",
       "        vertical-align: top;\n",
       "    }\n",
       "\n",
       "    .dataframe thead th {\n",
       "        text-align: right;\n",
       "    }\n",
       "</style>\n",
       "<table border=\"1\" class=\"dataframe\">\n",
       "  <thead>\n",
       "    <tr style=\"text-align: right;\">\n",
       "      <th></th>\n",
       "      <th>Unnamed: 0</th>\n",
       "      <th>SeriousDlqin2yrs</th>\n",
       "      <th>RevolvingUtilizationOfUnsecuredLines</th>\n",
       "      <th>age</th>\n",
       "      <th>NumberOfTime30-59DaysPastDueNotWorse</th>\n",
       "      <th>DebtRatio</th>\n",
       "      <th>MonthlyIncome</th>\n",
       "      <th>NumberOfOpenCreditLinesAndLoans</th>\n",
       "      <th>NumberOfTimes90DaysLate</th>\n",
       "      <th>NumberRealEstateLoansOrLines</th>\n",
       "      <th>NumberOfTime60-89DaysPastDueNotWorse</th>\n",
       "      <th>NumberOfDependents</th>\n",
       "    </tr>\n",
       "  </thead>\n",
       "  <tbody>\n",
       "    <tr>\n",
       "      <th>0</th>\n",
       "      <td>1</td>\n",
       "      <td>1</td>\n",
       "      <td>0.766127</td>\n",
       "      <td>45</td>\n",
       "      <td>2</td>\n",
       "      <td>0.802982</td>\n",
       "      <td>9120.0</td>\n",
       "      <td>13</td>\n",
       "      <td>0</td>\n",
       "      <td>6</td>\n",
       "      <td>0</td>\n",
       "      <td>2.0</td>\n",
       "    </tr>\n",
       "    <tr>\n",
       "      <th>1</th>\n",
       "      <td>2</td>\n",
       "      <td>0</td>\n",
       "      <td>0.957151</td>\n",
       "      <td>40</td>\n",
       "      <td>0</td>\n",
       "      <td>0.121876</td>\n",
       "      <td>2600.0</td>\n",
       "      <td>4</td>\n",
       "      <td>0</td>\n",
       "      <td>0</td>\n",
       "      <td>0</td>\n",
       "      <td>1.0</td>\n",
       "    </tr>\n",
       "    <tr>\n",
       "      <th>2</th>\n",
       "      <td>3</td>\n",
       "      <td>0</td>\n",
       "      <td>0.658180</td>\n",
       "      <td>38</td>\n",
       "      <td>1</td>\n",
       "      <td>0.085113</td>\n",
       "      <td>3042.0</td>\n",
       "      <td>2</td>\n",
       "      <td>1</td>\n",
       "      <td>0</td>\n",
       "      <td>0</td>\n",
       "      <td>0.0</td>\n",
       "    </tr>\n",
       "    <tr>\n",
       "      <th>3</th>\n",
       "      <td>4</td>\n",
       "      <td>0</td>\n",
       "      <td>0.233810</td>\n",
       "      <td>30</td>\n",
       "      <td>0</td>\n",
       "      <td>0.036050</td>\n",
       "      <td>3300.0</td>\n",
       "      <td>5</td>\n",
       "      <td>0</td>\n",
       "      <td>0</td>\n",
       "      <td>0</td>\n",
       "      <td>0.0</td>\n",
       "    </tr>\n",
       "    <tr>\n",
       "      <th>4</th>\n",
       "      <td>5</td>\n",
       "      <td>0</td>\n",
       "      <td>0.907239</td>\n",
       "      <td>49</td>\n",
       "      <td>1</td>\n",
       "      <td>0.024926</td>\n",
       "      <td>63588.0</td>\n",
       "      <td>7</td>\n",
       "      <td>0</td>\n",
       "      <td>1</td>\n",
       "      <td>0</td>\n",
       "      <td>0.0</td>\n",
       "    </tr>\n",
       "  </tbody>\n",
       "</table>\n",
       "</div>"
      ],
      "text/plain": [
       "   Unnamed: 0  SeriousDlqin2yrs  RevolvingUtilizationOfUnsecuredLines  age  \\\n",
       "0           1                 1                              0.766127   45   \n",
       "1           2                 0                              0.957151   40   \n",
       "2           3                 0                              0.658180   38   \n",
       "3           4                 0                              0.233810   30   \n",
       "4           5                 0                              0.907239   49   \n",
       "\n",
       "   NumberOfTime30-59DaysPastDueNotWorse  DebtRatio  MonthlyIncome  \\\n",
       "0                                     2   0.802982         9120.0   \n",
       "1                                     0   0.121876         2600.0   \n",
       "2                                     1   0.085113         3042.0   \n",
       "3                                     0   0.036050         3300.0   \n",
       "4                                     1   0.024926        63588.0   \n",
       "\n",
       "   NumberOfOpenCreditLinesAndLoans  NumberOfTimes90DaysLate  \\\n",
       "0                               13                        0   \n",
       "1                                4                        0   \n",
       "2                                2                        1   \n",
       "3                                5                        0   \n",
       "4                                7                        0   \n",
       "\n",
       "   NumberRealEstateLoansOrLines  NumberOfTime60-89DaysPastDueNotWorse  \\\n",
       "0                             6                                     0   \n",
       "1                             0                                     0   \n",
       "2                             0                                     0   \n",
       "3                             0                                     0   \n",
       "4                             1                                     0   \n",
       "\n",
       "   NumberOfDependents  \n",
       "0                 2.0  \n",
       "1                 1.0  \n",
       "2                 0.0  \n",
       "3                 0.0  \n",
       "4                 0.0  "
      ]
     },
     "execution_count": 6,
     "metadata": {},
     "output_type": "execute_result"
    }
   ],
   "source": [
    "data.head()"
   ]
  },
  {
   "cell_type": "code",
   "execution_count": 7,
   "id": "c866a773",
   "metadata": {
    "ExecuteTime": {
     "end_time": "2023-02-11T09:08:55.840866Z",
     "start_time": "2023-02-11T09:08:55.835233Z"
    }
   },
   "outputs": [],
   "source": [
    "#필요없는 컬럼 제거\n",
    "data.drop(columns=data.columns[0], inplace=True)"
   ]
  },
  {
   "cell_type": "code",
   "execution_count": 8,
   "id": "5c819a04",
   "metadata": {
    "ExecuteTime": {
     "end_time": "2023-02-11T09:08:55.849308Z",
     "start_time": "2023-02-11T09:08:55.842219Z"
    },
    "scrolled": true
   },
   "outputs": [
    {
     "data": {
      "text/html": [
       "<div>\n",
       "<style scoped>\n",
       "    .dataframe tbody tr th:only-of-type {\n",
       "        vertical-align: middle;\n",
       "    }\n",
       "\n",
       "    .dataframe tbody tr th {\n",
       "        vertical-align: top;\n",
       "    }\n",
       "\n",
       "    .dataframe thead th {\n",
       "        text-align: right;\n",
       "    }\n",
       "</style>\n",
       "<table border=\"1\" class=\"dataframe\">\n",
       "  <thead>\n",
       "    <tr style=\"text-align: right;\">\n",
       "      <th></th>\n",
       "      <th>SeriousDlqin2yrs</th>\n",
       "      <th>RevolvingUtilizationOfUnsecuredLines</th>\n",
       "      <th>age</th>\n",
       "      <th>NumberOfTime30-59DaysPastDueNotWorse</th>\n",
       "      <th>DebtRatio</th>\n",
       "      <th>MonthlyIncome</th>\n",
       "      <th>NumberOfOpenCreditLinesAndLoans</th>\n",
       "      <th>NumberOfTimes90DaysLate</th>\n",
       "      <th>NumberRealEstateLoansOrLines</th>\n",
       "      <th>NumberOfTime60-89DaysPastDueNotWorse</th>\n",
       "      <th>NumberOfDependents</th>\n",
       "    </tr>\n",
       "  </thead>\n",
       "  <tbody>\n",
       "    <tr>\n",
       "      <th>0</th>\n",
       "      <td>1</td>\n",
       "      <td>0.766127</td>\n",
       "      <td>45</td>\n",
       "      <td>2</td>\n",
       "      <td>0.802982</td>\n",
       "      <td>9120.0</td>\n",
       "      <td>13</td>\n",
       "      <td>0</td>\n",
       "      <td>6</td>\n",
       "      <td>0</td>\n",
       "      <td>2.0</td>\n",
       "    </tr>\n",
       "    <tr>\n",
       "      <th>1</th>\n",
       "      <td>0</td>\n",
       "      <td>0.957151</td>\n",
       "      <td>40</td>\n",
       "      <td>0</td>\n",
       "      <td>0.121876</td>\n",
       "      <td>2600.0</td>\n",
       "      <td>4</td>\n",
       "      <td>0</td>\n",
       "      <td>0</td>\n",
       "      <td>0</td>\n",
       "      <td>1.0</td>\n",
       "    </tr>\n",
       "    <tr>\n",
       "      <th>2</th>\n",
       "      <td>0</td>\n",
       "      <td>0.658180</td>\n",
       "      <td>38</td>\n",
       "      <td>1</td>\n",
       "      <td>0.085113</td>\n",
       "      <td>3042.0</td>\n",
       "      <td>2</td>\n",
       "      <td>1</td>\n",
       "      <td>0</td>\n",
       "      <td>0</td>\n",
       "      <td>0.0</td>\n",
       "    </tr>\n",
       "    <tr>\n",
       "      <th>3</th>\n",
       "      <td>0</td>\n",
       "      <td>0.233810</td>\n",
       "      <td>30</td>\n",
       "      <td>0</td>\n",
       "      <td>0.036050</td>\n",
       "      <td>3300.0</td>\n",
       "      <td>5</td>\n",
       "      <td>0</td>\n",
       "      <td>0</td>\n",
       "      <td>0</td>\n",
       "      <td>0.0</td>\n",
       "    </tr>\n",
       "    <tr>\n",
       "      <th>4</th>\n",
       "      <td>0</td>\n",
       "      <td>0.907239</td>\n",
       "      <td>49</td>\n",
       "      <td>1</td>\n",
       "      <td>0.024926</td>\n",
       "      <td>63588.0</td>\n",
       "      <td>7</td>\n",
       "      <td>0</td>\n",
       "      <td>1</td>\n",
       "      <td>0</td>\n",
       "      <td>0.0</td>\n",
       "    </tr>\n",
       "  </tbody>\n",
       "</table>\n",
       "</div>"
      ],
      "text/plain": [
       "   SeriousDlqin2yrs  RevolvingUtilizationOfUnsecuredLines  age  \\\n",
       "0                 1                              0.766127   45   \n",
       "1                 0                              0.957151   40   \n",
       "2                 0                              0.658180   38   \n",
       "3                 0                              0.233810   30   \n",
       "4                 0                              0.907239   49   \n",
       "\n",
       "   NumberOfTime30-59DaysPastDueNotWorse  DebtRatio  MonthlyIncome  \\\n",
       "0                                     2   0.802982         9120.0   \n",
       "1                                     0   0.121876         2600.0   \n",
       "2                                     1   0.085113         3042.0   \n",
       "3                                     0   0.036050         3300.0   \n",
       "4                                     1   0.024926        63588.0   \n",
       "\n",
       "   NumberOfOpenCreditLinesAndLoans  NumberOfTimes90DaysLate  \\\n",
       "0                               13                        0   \n",
       "1                                4                        0   \n",
       "2                                2                        1   \n",
       "3                                5                        0   \n",
       "4                                7                        0   \n",
       "\n",
       "   NumberRealEstateLoansOrLines  NumberOfTime60-89DaysPastDueNotWorse  \\\n",
       "0                             6                                     0   \n",
       "1                             0                                     0   \n",
       "2                             0                                     0   \n",
       "3                             0                                     0   \n",
       "4                             1                                     0   \n",
       "\n",
       "   NumberOfDependents  \n",
       "0                 2.0  \n",
       "1                 1.0  \n",
       "2                 0.0  \n",
       "3                 0.0  \n",
       "4                 0.0  "
      ]
     },
     "execution_count": 8,
     "metadata": {},
     "output_type": "execute_result"
    }
   ],
   "source": [
    "# 제거된 컬럼 확인\n",
    "data.head()"
   ]
  },
  {
   "cell_type": "code",
   "execution_count": 9,
   "id": "664ce9dc",
   "metadata": {
    "ExecuteTime": {
     "end_time": "2023-02-11T09:08:55.853637Z",
     "start_time": "2023-02-11T09:08:55.850523Z"
    }
   },
   "outputs": [
    {
     "data": {
      "text/plain": [
       "Index(['seriousdlqin2yrs', 'revolvingutilizationofunsecuredlines', 'age',\n",
       "       'numberoftime30-59dayspastduenotworse', 'debtratio', 'monthlyincome',\n",
       "       'numberofopencreditlinesandloans', 'numberoftimes90dayslate',\n",
       "       'numberrealestateloansorlines', 'numberoftime60-89dayspastduenotworse',\n",
       "       'numberofdependents'],\n",
       "      dtype='object')"
      ]
     },
     "execution_count": 9,
     "metadata": {},
     "output_type": "execute_result"
    }
   ],
   "source": [
    "#컬럼들 정렬(소문자 변환해서 재정렬)\n",
    "data.columns = [column.lower() for column in data.columns]\n",
    "data.columns"
   ]
  },
  {
   "cell_type": "code",
   "execution_count": 10,
   "id": "64c4bf17",
   "metadata": {
    "ExecuteTime": {
     "end_time": "2023-02-11T09:08:55.867508Z",
     "start_time": "2023-02-11T09:08:55.854915Z"
    }
   },
   "outputs": [
    {
     "name": "stdout",
     "output_type": "stream",
     "text": [
      "<class 'pandas.core.frame.DataFrame'>\n",
      "RangeIndex: 150000 entries, 0 to 149999\n",
      "Data columns (total 11 columns):\n",
      " #   Column                                Non-Null Count   Dtype  \n",
      "---  ------                                --------------   -----  \n",
      " 0   seriousdlqin2yrs                      150000 non-null  int64  \n",
      " 1   revolvingutilizationofunsecuredlines  150000 non-null  float64\n",
      " 2   age                                   150000 non-null  int64  \n",
      " 3   numberoftime30-59dayspastduenotworse  150000 non-null  int64  \n",
      " 4   debtratio                             150000 non-null  float64\n",
      " 5   monthlyincome                         120269 non-null  float64\n",
      " 6   numberofopencreditlinesandloans       150000 non-null  int64  \n",
      " 7   numberoftimes90dayslate               150000 non-null  int64  \n",
      " 8   numberrealestateloansorlines          150000 non-null  int64  \n",
      " 9   numberoftime60-89dayspastduenotworse  150000 non-null  int64  \n",
      " 10  numberofdependents                    146076 non-null  float64\n",
      "dtypes: float64(4), int64(7)\n",
      "memory usage: 12.6 MB\n"
     ]
    }
   ],
   "source": [
    "# 정보 조회\n",
    "data.info()"
   ]
  },
  {
   "cell_type": "code",
   "execution_count": 11,
   "id": "c8d52472",
   "metadata": {
    "ExecuteTime": {
     "end_time": "2023-02-11T09:08:55.923063Z",
     "start_time": "2023-02-11T09:08:55.868840Z"
    }
   },
   "outputs": [
    {
     "data": {
      "text/html": [
       "<div>\n",
       "<style scoped>\n",
       "    .dataframe tbody tr th:only-of-type {\n",
       "        vertical-align: middle;\n",
       "    }\n",
       "\n",
       "    .dataframe tbody tr th {\n",
       "        vertical-align: top;\n",
       "    }\n",
       "\n",
       "    .dataframe thead th {\n",
       "        text-align: right;\n",
       "    }\n",
       "</style>\n",
       "<table border=\"1\" class=\"dataframe\">\n",
       "  <thead>\n",
       "    <tr style=\"text-align: right;\">\n",
       "      <th></th>\n",
       "      <th>count</th>\n",
       "      <th>mean</th>\n",
       "      <th>std</th>\n",
       "      <th>min</th>\n",
       "      <th>25%</th>\n",
       "      <th>50%</th>\n",
       "      <th>75%</th>\n",
       "      <th>max</th>\n",
       "    </tr>\n",
       "  </thead>\n",
       "  <tbody>\n",
       "    <tr>\n",
       "      <th>seriousdlqin2yrs</th>\n",
       "      <td>150000.0</td>\n",
       "      <td>0.066840</td>\n",
       "      <td>0.249746</td>\n",
       "      <td>0.0</td>\n",
       "      <td>0.000000</td>\n",
       "      <td>0.000000</td>\n",
       "      <td>0.000000</td>\n",
       "      <td>1.0</td>\n",
       "    </tr>\n",
       "    <tr>\n",
       "      <th>revolvingutilizationofunsecuredlines</th>\n",
       "      <td>150000.0</td>\n",
       "      <td>6.048438</td>\n",
       "      <td>249.755371</td>\n",
       "      <td>0.0</td>\n",
       "      <td>0.029867</td>\n",
       "      <td>0.154181</td>\n",
       "      <td>0.559046</td>\n",
       "      <td>50708.0</td>\n",
       "    </tr>\n",
       "    <tr>\n",
       "      <th>age</th>\n",
       "      <td>150000.0</td>\n",
       "      <td>52.295207</td>\n",
       "      <td>14.771866</td>\n",
       "      <td>0.0</td>\n",
       "      <td>41.000000</td>\n",
       "      <td>52.000000</td>\n",
       "      <td>63.000000</td>\n",
       "      <td>109.0</td>\n",
       "    </tr>\n",
       "    <tr>\n",
       "      <th>numberoftime30-59dayspastduenotworse</th>\n",
       "      <td>150000.0</td>\n",
       "      <td>0.421033</td>\n",
       "      <td>4.192781</td>\n",
       "      <td>0.0</td>\n",
       "      <td>0.000000</td>\n",
       "      <td>0.000000</td>\n",
       "      <td>0.000000</td>\n",
       "      <td>98.0</td>\n",
       "    </tr>\n",
       "    <tr>\n",
       "      <th>debtratio</th>\n",
       "      <td>150000.0</td>\n",
       "      <td>353.005076</td>\n",
       "      <td>2037.818523</td>\n",
       "      <td>0.0</td>\n",
       "      <td>0.175074</td>\n",
       "      <td>0.366508</td>\n",
       "      <td>0.868254</td>\n",
       "      <td>329664.0</td>\n",
       "    </tr>\n",
       "    <tr>\n",
       "      <th>monthlyincome</th>\n",
       "      <td>120269.0</td>\n",
       "      <td>6670.221237</td>\n",
       "      <td>14384.674215</td>\n",
       "      <td>0.0</td>\n",
       "      <td>3400.000000</td>\n",
       "      <td>5400.000000</td>\n",
       "      <td>8249.000000</td>\n",
       "      <td>3008750.0</td>\n",
       "    </tr>\n",
       "    <tr>\n",
       "      <th>numberofopencreditlinesandloans</th>\n",
       "      <td>150000.0</td>\n",
       "      <td>8.452760</td>\n",
       "      <td>5.145951</td>\n",
       "      <td>0.0</td>\n",
       "      <td>5.000000</td>\n",
       "      <td>8.000000</td>\n",
       "      <td>11.000000</td>\n",
       "      <td>58.0</td>\n",
       "    </tr>\n",
       "    <tr>\n",
       "      <th>numberoftimes90dayslate</th>\n",
       "      <td>150000.0</td>\n",
       "      <td>0.265973</td>\n",
       "      <td>4.169304</td>\n",
       "      <td>0.0</td>\n",
       "      <td>0.000000</td>\n",
       "      <td>0.000000</td>\n",
       "      <td>0.000000</td>\n",
       "      <td>98.0</td>\n",
       "    </tr>\n",
       "    <tr>\n",
       "      <th>numberrealestateloansorlines</th>\n",
       "      <td>150000.0</td>\n",
       "      <td>1.018240</td>\n",
       "      <td>1.129771</td>\n",
       "      <td>0.0</td>\n",
       "      <td>0.000000</td>\n",
       "      <td>1.000000</td>\n",
       "      <td>2.000000</td>\n",
       "      <td>54.0</td>\n",
       "    </tr>\n",
       "    <tr>\n",
       "      <th>numberoftime60-89dayspastduenotworse</th>\n",
       "      <td>150000.0</td>\n",
       "      <td>0.240387</td>\n",
       "      <td>4.155179</td>\n",
       "      <td>0.0</td>\n",
       "      <td>0.000000</td>\n",
       "      <td>0.000000</td>\n",
       "      <td>0.000000</td>\n",
       "      <td>98.0</td>\n",
       "    </tr>\n",
       "    <tr>\n",
       "      <th>numberofdependents</th>\n",
       "      <td>146076.0</td>\n",
       "      <td>0.757222</td>\n",
       "      <td>1.115086</td>\n",
       "      <td>0.0</td>\n",
       "      <td>0.000000</td>\n",
       "      <td>0.000000</td>\n",
       "      <td>1.000000</td>\n",
       "      <td>20.0</td>\n",
       "    </tr>\n",
       "  </tbody>\n",
       "</table>\n",
       "</div>"
      ],
      "text/plain": [
       "                                         count         mean           std  \\\n",
       "seriousdlqin2yrs                      150000.0     0.066840      0.249746   \n",
       "revolvingutilizationofunsecuredlines  150000.0     6.048438    249.755371   \n",
       "age                                   150000.0    52.295207     14.771866   \n",
       "numberoftime30-59dayspastduenotworse  150000.0     0.421033      4.192781   \n",
       "debtratio                             150000.0   353.005076   2037.818523   \n",
       "monthlyincome                         120269.0  6670.221237  14384.674215   \n",
       "numberofopencreditlinesandloans       150000.0     8.452760      5.145951   \n",
       "numberoftimes90dayslate               150000.0     0.265973      4.169304   \n",
       "numberrealestateloansorlines          150000.0     1.018240      1.129771   \n",
       "numberoftime60-89dayspastduenotworse  150000.0     0.240387      4.155179   \n",
       "numberofdependents                    146076.0     0.757222      1.115086   \n",
       "\n",
       "                                      min          25%          50%  \\\n",
       "seriousdlqin2yrs                      0.0     0.000000     0.000000   \n",
       "revolvingutilizationofunsecuredlines  0.0     0.029867     0.154181   \n",
       "age                                   0.0    41.000000    52.000000   \n",
       "numberoftime30-59dayspastduenotworse  0.0     0.000000     0.000000   \n",
       "debtratio                             0.0     0.175074     0.366508   \n",
       "monthlyincome                         0.0  3400.000000  5400.000000   \n",
       "numberofopencreditlinesandloans       0.0     5.000000     8.000000   \n",
       "numberoftimes90dayslate               0.0     0.000000     0.000000   \n",
       "numberrealestateloansorlines          0.0     0.000000     1.000000   \n",
       "numberoftime60-89dayspastduenotworse  0.0     0.000000     0.000000   \n",
       "numberofdependents                    0.0     0.000000     0.000000   \n",
       "\n",
       "                                              75%        max  \n",
       "seriousdlqin2yrs                         0.000000        1.0  \n",
       "revolvingutilizationofunsecuredlines     0.559046    50708.0  \n",
       "age                                     63.000000      109.0  \n",
       "numberoftime30-59dayspastduenotworse     0.000000       98.0  \n",
       "debtratio                                0.868254   329664.0  \n",
       "monthlyincome                         8249.000000  3008750.0  \n",
       "numberofopencreditlinesandloans         11.000000       58.0  \n",
       "numberoftimes90dayslate                  0.000000       98.0  \n",
       "numberrealestateloansorlines             2.000000       54.0  \n",
       "numberoftime60-89dayspastduenotworse     0.000000       98.0  \n",
       "numberofdependents                       1.000000       20.0  "
      ]
     },
     "execution_count": 11,
     "metadata": {},
     "output_type": "execute_result"
    }
   ],
   "source": [
    "#통계값 조회\n",
    "data.describe().T"
   ]
  },
  {
   "cell_type": "code",
   "execution_count": 12,
   "id": "e7629877",
   "metadata": {
    "ExecuteTime": {
     "end_time": "2023-02-11T09:08:55.930729Z",
     "start_time": "2023-02-11T09:08:55.926585Z"
    }
   },
   "outputs": [
    {
     "name": "stdout",
     "output_type": "stream",
     "text": [
      "Target Data 분포\n",
      "0    139974\n",
      "1     10026\n",
      "Name: seriousdlqin2yrs, dtype: int64\n"
     ]
    }
   ],
   "source": [
    "# Target Data 분포확인\n",
    "print('Target Data 분포')\n",
    "print(data['seriousdlqin2yrs'].value_counts())"
   ]
  },
  {
   "cell_type": "code",
   "execution_count": 13,
   "id": "c7f2a941",
   "metadata": {
    "ExecuteTime": {
     "end_time": "2023-02-11T09:08:55.935853Z",
     "start_time": "2023-02-11T09:08:55.932156Z"
    }
   },
   "outputs": [
    {
     "name": "stdout",
     "output_type": "stream",
     "text": [
      "Target Data 분포 비율\n",
      "0    0.93316\n",
      "1    0.06684\n",
      "Name: seriousdlqin2yrs, dtype: float64\n"
     ]
    }
   ],
   "source": [
    "# Target Data 분포 비율 확인\n",
    "print('Target Data 분포 비율')\n",
    "print(data['seriousdlqin2yrs'].value_counts()/len(data['seriousdlqin2yrs']))"
   ]
  },
  {
   "cell_type": "code",
   "execution_count": 14,
   "id": "e402a075",
   "metadata": {
    "ExecuteTime": {
     "end_time": "2023-02-11T09:08:56.036617Z",
     "start_time": "2023-02-11T09:08:55.936761Z"
    }
   },
   "outputs": [
    {
     "data": {
      "image/png": "[encoded data removed]",
      "text/plain": [
       "<Figure size 700x600 with 1 Axes>"
      ]
     },
     "metadata": {},
     "output_type": "display_data"
    }
   ],
   "source": [
    "# Target분포 시각화\n",
    "plt.figure(figsize=(7,6))\n",
    "sns.countplot(x='seriousdlqin2yrs', data=data)\n",
    "plt.show()"
   ]
  },
  {
   "cell_type": "markdown",
   "id": "41ad045c",
   "metadata": {},
   "source": [
    "## 결측치 제거"
   ]
  },
  {
   "cell_type": "code",
   "execution_count": 15,
   "id": "bf9adb8d",
   "metadata": {
    "ExecuteTime": {
     "end_time": "2023-02-11T09:08:56.043217Z",
     "start_time": "2023-02-11T09:08:56.038001Z"
    }
   },
   "outputs": [
    {
     "data": {
      "text/plain": [
       "seriousdlqin2yrs                            0\n",
       "revolvingutilizationofunsecuredlines        0\n",
       "age                                         0\n",
       "numberoftime30-59dayspastduenotworse        0\n",
       "debtratio                                   0\n",
       "monthlyincome                           29731\n",
       "numberofopencreditlinesandloans             0\n",
       "numberoftimes90dayslate                     0\n",
       "numberrealestateloansorlines                0\n",
       "numberoftime60-89dayspastduenotworse        0\n",
       "numberofdependents                       3924\n",
       "dtype: int64"
      ]
     },
     "execution_count": 15,
     "metadata": {},
     "output_type": "execute_result"
    }
   ],
   "source": [
    "# 결측치 확인\n",
    "data.isna().sum()\n",
    "# monthlyincome, numberofdependents  결측치가 많다."
   ]
  },
  {
   "cell_type": "code",
   "execution_count": 16,
   "id": "e988cfb6",
   "metadata": {
    "ExecuteTime": {
     "end_time": "2023-02-11T09:08:56.049244Z",
     "start_time": "2023-02-11T09:08:56.044261Z"
    }
   },
   "outputs": [
    {
     "data": {
      "text/plain": [
       "seriousdlqin2yrs                        0.000000\n",
       "revolvingutilizationofunsecuredlines    0.000000\n",
       "age                                     0.000000\n",
       "numberoftime30-59dayspastduenotworse    0.000000\n",
       "debtratio                               0.000000\n",
       "monthlyincome                           0.198207\n",
       "numberofopencreditlinesandloans         0.000000\n",
       "numberoftimes90dayslate                 0.000000\n",
       "numberrealestateloansorlines            0.000000\n",
       "numberoftime60-89dayspastduenotworse    0.000000\n",
       "numberofdependents                      0.026160\n",
       "dtype: float64"
      ]
     },
     "execution_count": 16,
     "metadata": {},
     "output_type": "execute_result"
    }
   ],
   "source": [
    "data.isna().mean()"
   ]
  },
  {
   "cell_type": "code",
   "execution_count": 17,
   "id": "0d197167",
   "metadata": {
    "ExecuteTime": {
     "end_time": "2023-02-11T09:08:56.169279Z",
     "start_time": "2023-02-11T09:08:56.050642Z"
    }
   },
   "outputs": [
    {
     "data": {
      "image/png": "[encoded data removed]",
      "text/plain": [
       "<Figure size 600x400 with 1 Axes>"
      ]
     },
     "metadata": {},
     "output_type": "display_data"
    }
   ],
   "source": [
    "y = data.isna().sum()\n",
    "plt.figure(figsize=(6,4))\n",
    "plt.title('컬럼별 결측치 비율')\n",
    "sns.barplot(x=y, y=data.columns)\n",
    "plt.xticks(rotation=45)\n",
    "plt.show()"
   ]
  },
  {
   "cell_type": "code",
   "execution_count": 18,
   "id": "ee276d6a",
   "metadata": {
    "ExecuteTime": {
     "end_time": "2023-02-11T09:08:56.175571Z",
     "start_time": "2023-02-11T09:08:56.170792Z"
    }
   },
   "outputs": [],
   "source": [
    "#결측치 처리 - monthlyincome\n",
    "data.monthlyincome.fillna(data.monthlyincome.median(),inplace=True)"
   ]
  },
  {
   "cell_type": "code",
   "execution_count": 19,
   "id": "3b315223",
   "metadata": {
    "ExecuteTime": {
     "end_time": "2023-02-11T09:08:56.184815Z",
     "start_time": "2023-02-11T09:08:56.176952Z"
    }
   },
   "outputs": [
    {
     "data": {
      "text/plain": [
       "0.0     0.579347\n",
       "1.0     0.175440\n",
       "2.0     0.130147\n",
       "3.0     0.063220\n",
       "4.0     0.019080\n",
       "5.0     0.004973\n",
       "6.0     0.001053\n",
       "7.0     0.000340\n",
       "8.0     0.000160\n",
       "10.0    0.000033\n",
       "9.0     0.000033\n",
       "20.0    0.000007\n",
       "13.0    0.000007\n",
       "Name: numberofdependents, dtype: float64"
      ]
     },
     "execution_count": 19,
     "metadata": {},
     "output_type": "execute_result"
    }
   ],
   "source": [
    "#결측치 처리 - numberofdependents  \n",
    "data.numberofdependents.value_counts() #최빈값은 0이 가장 많고\n",
    "data.numberofdependents.value_counts()/len(data) #0의 비율은 58%"
   ]
  },
  {
   "cell_type": "code",
   "execution_count": 20,
   "id": "b4e7a5e3",
   "metadata": {
    "ExecuteTime": {
     "end_time": "2023-02-11T09:08:56.188638Z",
     "start_time": "2023-02-11T09:08:56.186126Z"
    }
   },
   "outputs": [],
   "source": [
    "#결측치 처리 - numberofdependents의 결측치는 최빈값으로 대체해보자.\n",
    "data.numberofdependents.fillna(0, inplace=True)"
   ]
  },
  {
   "cell_type": "code",
   "execution_count": 21,
   "id": "7f84a286",
   "metadata": {
    "ExecuteTime": {
     "end_time": "2023-02-11T09:08:56.194724Z",
     "start_time": "2023-02-11T09:08:56.189909Z"
    }
   },
   "outputs": [
    {
     "data": {
      "text/plain": [
       "seriousdlqin2yrs                        0\n",
       "revolvingutilizationofunsecuredlines    0\n",
       "age                                     0\n",
       "numberoftime30-59dayspastduenotworse    0\n",
       "debtratio                               0\n",
       "monthlyincome                           0\n",
       "numberofopencreditlinesandloans         0\n",
       "numberoftimes90dayslate                 0\n",
       "numberrealestateloansorlines            0\n",
       "numberoftime60-89dayspastduenotworse    0\n",
       "numberofdependents                      0\n",
       "dtype: int64"
      ]
     },
     "execution_count": 21,
     "metadata": {},
     "output_type": "execute_result"
    }
   ],
   "source": [
    "# 결측치 재확인\n",
    "data.isna().sum()"
   ]
  },
  {
   "cell_type": "markdown",
   "id": "2773a2d8",
   "metadata": {
    "ExecuteTime": {
     "end_time": "2023-02-11T09:08:56.197776Z",
     "start_time": "2023-02-11T09:08:56.196036Z"
    }
   },
   "source": [
    "## 이상치 제거"
   ]
  },
  {
   "cell_type": "code",
   "execution_count": 23,
   "id": "d75ff1cd",
   "metadata": {
    "ExecuteTime": {
     "end_time": "2023-02-11T09:08:56.220379Z",
     "start_time": "2023-02-11T09:08:56.199138Z"
    }
   },
   "outputs": [
    {
     "data": {
      "text/html": [
       "<div>\n",
       "<style scoped>\n",
       "    .dataframe tbody tr th:only-of-type {\n",
       "        vertical-align: middle;\n",
       "    }\n",
       "\n",
       "    .dataframe tbody tr th {\n",
       "        vertical-align: top;\n",
       "    }\n",
       "\n",
       "    .dataframe thead th {\n",
       "        text-align: right;\n",
       "    }\n",
       "</style>\n",
       "<table border=\"1\" class=\"dataframe\">\n",
       "  <thead>\n",
       "    <tr style=\"text-align: right;\">\n",
       "      <th></th>\n",
       "      <th>mean</th>\n",
       "      <th>median</th>\n",
       "    </tr>\n",
       "  </thead>\n",
       "  <tbody>\n",
       "    <tr>\n",
       "      <th>seriousdlqin2yrs</th>\n",
       "      <td>0.066840</td>\n",
       "      <td>0.000000</td>\n",
       "    </tr>\n",
       "    <tr>\n",
       "      <th>revolvingutilizationofunsecuredlines</th>\n",
       "      <td>6.048438</td>\n",
       "      <td>0.154181</td>\n",
       "    </tr>\n",
       "    <tr>\n",
       "      <th>age</th>\n",
       "      <td>52.295207</td>\n",
       "      <td>52.000000</td>\n",
       "    </tr>\n",
       "    <tr>\n",
       "      <th>numberoftime30-59dayspastduenotworse</th>\n",
       "      <td>0.421033</td>\n",
       "      <td>0.000000</td>\n",
       "    </tr>\n",
       "    <tr>\n",
       "      <th>debtratio</th>\n",
       "      <td>353.005076</td>\n",
       "      <td>0.366508</td>\n",
       "    </tr>\n",
       "    <tr>\n",
       "      <th>monthlyincome</th>\n",
       "      <td>6418.454920</td>\n",
       "      <td>5400.000000</td>\n",
       "    </tr>\n",
       "    <tr>\n",
       "      <th>numberofopencreditlinesandloans</th>\n",
       "      <td>8.452760</td>\n",
       "      <td>8.000000</td>\n",
       "    </tr>\n",
       "    <tr>\n",
       "      <th>numberoftimes90dayslate</th>\n",
       "      <td>0.265973</td>\n",
       "      <td>0.000000</td>\n",
       "    </tr>\n",
       "    <tr>\n",
       "      <th>numberrealestateloansorlines</th>\n",
       "      <td>1.018240</td>\n",
       "      <td>1.000000</td>\n",
       "    </tr>\n",
       "    <tr>\n",
       "      <th>numberoftime60-89dayspastduenotworse</th>\n",
       "      <td>0.240387</td>\n",
       "      <td>0.000000</td>\n",
       "    </tr>\n",
       "    <tr>\n",
       "      <th>numberofdependents</th>\n",
       "      <td>0.737413</td>\n",
       "      <td>0.000000</td>\n",
       "    </tr>\n",
       "  </tbody>\n",
       "</table>\n",
       "</div>"
      ],
      "text/plain": [
       "                                             mean       median\n",
       "seriousdlqin2yrs                         0.066840     0.000000\n",
       "revolvingutilizationofunsecuredlines     6.048438     0.154181\n",
       "age                                     52.295207    52.000000\n",
       "numberoftime30-59dayspastduenotworse     0.421033     0.000000\n",
       "debtratio                              353.005076     0.366508\n",
       "monthlyincome                         6418.454920  5400.000000\n",
       "numberofopencreditlinesandloans          8.452760     8.000000\n",
       "numberoftimes90dayslate                  0.265973     0.000000\n",
       "numberrealestateloansorlines             1.018240     1.000000\n",
       "numberoftime60-89dayspastduenotworse     0.240387     0.000000\n",
       "numberofdependents                       0.737413     0.000000"
      ]
     },
     "execution_count": 23,
     "metadata": {},
     "output_type": "execute_result"
    }
   ],
   "source": [
    "# 평균값, 중앙값 조회 - 이상치 발견\n",
    "data.aggregate(['mean', 'median']).T\n",
    "# revolvingutilizationofunsecuredlines, debtratio 수상하다."
   ]
  },
  {
   "cell_type": "code",
   "execution_count": 24,
   "id": "093658ba",
   "metadata": {
    "ExecuteTime": {
     "end_time": "2023-02-11T09:08:56.230632Z",
     "start_time": "2023-02-11T09:08:56.221911Z"
    }
   },
   "outputs": [
    {
     "name": "stdout",
     "output_type": "stream",
     "text": [
      "count    150000.000000\n",
      "mean          6.048438\n",
      "std         249.755371\n",
      "min           0.000000\n",
      "25%           0.029867\n",
      "50%           0.154181\n",
      "75%           0.559046\n",
      "max       50708.000000\n",
      "Name: revolvingutilizationofunsecuredlines, dtype: float64\n",
      "3321\n"
     ]
    }
   ],
   "source": [
    "print(data['revolvingutilizationofunsecuredlines'].describe())\n",
    "print((data['revolvingutilizationofunsecuredlines']>1).sum()) #1이 넘는 개수"
   ]
  },
  {
   "cell_type": "code",
   "execution_count": 25,
   "id": "224ba458",
   "metadata": {
    "ExecuteTime": {
     "end_time": "2023-02-11T09:08:56.234826Z",
     "start_time": "2023-02-11T09:08:56.232057Z"
    }
   },
   "outputs": [],
   "source": [
    "# 이상치 제거 - revolvingutilizationofunsecuredlines\n",
    "data.loc[data['revolvingutilizationofunsecuredlines']>1, 'revolvingutilizationofunsecuredlines']=1"
   ]
  },
  {
   "cell_type": "code",
   "execution_count": 26,
   "id": "f5d54e66",
   "metadata": {
    "ExecuteTime": {
     "end_time": "2023-02-11T09:08:56.238028Z",
     "start_time": "2023-02-11T09:08:56.236204Z"
    }
   },
   "outputs": [],
   "source": [
    "# 이상치 제거 - debtratio"
   ]
  },
  {
   "cell_type": "code",
   "execution_count": 27,
   "id": "940ce27f",
   "metadata": {
    "ExecuteTime": {
     "end_time": "2023-02-11T09:08:56.242002Z",
     "start_time": "2023-02-11T09:08:56.239473Z"
    }
   },
   "outputs": [],
   "source": [
    "# 이상치 구하는 함수 구현\n",
    "# 다음 사이트 참고 \n",
    "# - https://fhaktj8-18.tistory.com/entry/%ED%8C%90%EB%8B%A4%EC%8A%A4-pandas-IQR-%ED%99%9C%EC%9A%A9%ED%95%B4%EC%84%9C-%EC%9D%B4%EC%83%81%EC%A0%90outlier-%EC%B0%BE%EA%B3%A0-%EC%82%AD%EC%A0%9C%ED%95%98%EA%B8%B0\n",
    "\n",
    "import numpy as np\n",
    "def remove_outliers(data, multiplier=1.5):\n",
    "    q1 = np.quantile(data, q=0.25)\n",
    "    q3 = np.quantile(data, q=0.75) \n",
    "    iqr = q3 - q1\n",
    "    lower_bound = q1 - iqr * multiplier\n",
    "    upper_bound = q3 + iqr * multiplier\n",
    "    \n",
    "    return (data < lower_bound) | (data > upper_bound)"
   ]
  },
  {
   "cell_type": "code",
   "execution_count": 28,
   "id": "8dc7dd85",
   "metadata": {
    "ExecuteTime": {
     "end_time": "2023-02-11T09:08:56.249508Z",
     "start_time": "2023-02-11T09:08:56.243058Z"
    }
   },
   "outputs": [
    {
     "data": {
      "text/plain": [
       "31311"
      ]
     },
     "execution_count": 28,
     "metadata": {},
     "output_type": "execute_result"
    }
   ],
   "source": [
    "remove_outliers(data['debtratio']).sum()"
   ]
  },
  {
   "cell_type": "code",
   "execution_count": 29,
   "id": "e3724b08",
   "metadata": {
    "ExecuteTime": {
     "end_time": "2023-02-11T09:08:56.259575Z",
     "start_time": "2023-02-11T09:08:56.250520Z"
    }
   },
   "outputs": [
    {
     "data": {
      "text/plain": [
       "count    150000.000000\n",
       "mean        353.005076\n",
       "std        2037.818523\n",
       "min           0.000000\n",
       "25%           0.175074\n",
       "50%           0.366508\n",
       "75%           0.868254\n",
       "max      329664.000000\n",
       "Name: debtratio, dtype: float64"
      ]
     },
     "execution_count": 29,
     "metadata": {},
     "output_type": "execute_result"
    }
   ],
   "source": [
    "data['debtratio'].describe()"
   ]
  },
  {
   "cell_type": "code",
   "execution_count": 30,
   "id": "cf135a3a",
   "metadata": {
    "ExecuteTime": {
     "end_time": "2023-02-11T09:08:56.279553Z",
     "start_time": "2023-02-11T09:08:56.266208Z"
    }
   },
   "outputs": [
    {
     "data": {
      "text/plain": [
       "0"
      ]
     },
     "execution_count": 30,
     "metadata": {},
     "output_type": "execute_result"
    }
   ],
   "source": [
    "# outlier 아닌 값 중 최대값 찾고, 이상치를 최대값으로 대체 \n",
    "max_value_deb= np.max(data.debtratio[~remove_outliers(data['debtratio'])])\n",
    "max_value_deb\n",
    "data.loc[data['debtratio']>max_value_deb, 'debtratio'] = max_value_deb\n",
    "remove_outliers(data['debtratio']).sum()"
   ]
  },
  {
   "cell_type": "code",
   "execution_count": 31,
   "id": "b97a924d",
   "metadata": {
    "ExecuteTime": {
     "end_time": "2023-02-11T09:08:56.286775Z",
     "start_time": "2023-02-11T09:08:56.281084Z"
    }
   },
   "outputs": [
    {
     "data": {
      "text/plain": [
       "0        1\n",
       "21     183\n",
       "22     434\n",
       "23     641\n",
       "24     816\n",
       "      ... \n",
       "102      3\n",
       "103      3\n",
       "105      1\n",
       "107      1\n",
       "109      2\n",
       "Name: age, Length: 86, dtype: int64"
      ]
     },
     "execution_count": 31,
     "metadata": {},
     "output_type": "execute_result"
    }
   ],
   "source": [
    "# 이상치 제거 - age\n",
    "# 20살 이하 대출자들 정리\n",
    "data['age'].value_counts().sort_index()"
   ]
  },
  {
   "cell_type": "code",
   "execution_count": 32,
   "id": "116f1799",
   "metadata": {
    "ExecuteTime": {
     "end_time": "2023-02-11T09:08:56.291670Z",
     "start_time": "2023-02-11T09:08:56.288373Z"
    }
   },
   "outputs": [],
   "source": [
    "data.loc[data['age']==0, 'age'] = data['age'].median()"
   ]
  },
  {
   "cell_type": "code",
   "execution_count": 33,
   "id": "8d856ba4",
   "metadata": {
    "ExecuteTime": {
     "end_time": "2023-02-11T09:08:56.297297Z",
     "start_time": "2023-02-11T09:08:56.292682Z"
    },
    "scrolled": true
   },
   "outputs": [
    {
     "data": {
      "text/plain": [
       "21     183\n",
       "22     434\n",
       "23     641\n",
       "24     816\n",
       "25     953\n",
       "      ... \n",
       "102      3\n",
       "103      3\n",
       "105      1\n",
       "107      1\n",
       "109      2\n",
       "Name: age, Length: 85, dtype: int64"
      ]
     },
     "execution_count": 33,
     "metadata": {},
     "output_type": "execute_result"
    }
   ],
   "source": [
    "data['age'].value_counts().sort_index()"
   ]
  },
  {
   "cell_type": "code",
   "execution_count": 34,
   "id": "60fa86f5",
   "metadata": {
    "ExecuteTime": {
     "end_time": "2023-02-11T09:08:56.305260Z",
     "start_time": "2023-02-11T09:08:56.298694Z"
    }
   },
   "outputs": [
    {
     "data": {
      "text/plain": [
       "9149"
      ]
     },
     "execution_count": 34,
     "metadata": {},
     "output_type": "execute_result"
    }
   ],
   "source": [
    "# 이상치 제거 -  monthlyincome\n",
    "remove_outliers(data['monthlyincome']).sum()"
   ]
  },
  {
   "cell_type": "code",
   "execution_count": 35,
   "id": "23a4f3f5",
   "metadata": {
    "ExecuteTime": {
     "end_time": "2023-02-11T09:08:56.314975Z",
     "start_time": "2023-02-11T09:08:56.306467Z"
    }
   },
   "outputs": [
    {
     "data": {
      "text/plain": [
       "count    1.500000e+05\n",
       "mean     6.418455e+03\n",
       "std      1.289040e+04\n",
       "min      0.000000e+00\n",
       "25%      3.903000e+03\n",
       "50%      5.400000e+03\n",
       "75%      7.400000e+03\n",
       "max      3.008750e+06\n",
       "Name: monthlyincome, dtype: float64"
      ]
     },
     "execution_count": 35,
     "metadata": {},
     "output_type": "execute_result"
    }
   ],
   "source": [
    "data.monthlyincome.describe()"
   ]
  },
  {
   "cell_type": "code",
   "execution_count": 36,
   "id": "14c99992",
   "metadata": {
    "ExecuteTime": {
     "end_time": "2023-02-11T09:08:56.324269Z",
     "start_time": "2023-02-11T09:08:56.316214Z"
    }
   },
   "outputs": [
    {
     "data": {
      "text/plain": [
       "12645.0"
      ]
     },
     "execution_count": 36,
     "metadata": {},
     "output_type": "execute_result"
    }
   ],
   "source": [
    "max_value_income = np.max(data.monthlyincome[~remove_outliers(data['monthlyincome'])])\n",
    "max_value_income"
   ]
  },
  {
   "cell_type": "code",
   "execution_count": 37,
   "id": "0d7ddfbd",
   "metadata": {
    "ExecuteTime": {
     "end_time": "2023-02-11T09:08:56.333043Z",
     "start_time": "2023-02-11T09:08:56.325419Z"
    }
   },
   "outputs": [
    {
     "data": {
      "text/plain": [
       "0"
      ]
     },
     "execution_count": 37,
     "metadata": {},
     "output_type": "execute_result"
    }
   ],
   "source": [
    "data.loc[data['monthlyincome']>=max_value_income, 'monthlyincome'] = max_value_income\n",
    "remove_outliers(data['monthlyincome']).sum()"
   ]
  },
  {
   "cell_type": "code",
   "execution_count": 38,
   "id": "3ee7dd62",
   "metadata": {
    "ExecuteTime": {
     "end_time": "2023-02-11T09:08:56.354630Z",
     "start_time": "2023-02-11T09:08:56.334118Z"
    },
    "scrolled": true
   },
   "outputs": [
    {
     "data": {
      "text/html": [
       "<div>\n",
       "<style scoped>\n",
       "    .dataframe tbody tr th:only-of-type {\n",
       "        vertical-align: middle;\n",
       "    }\n",
       "\n",
       "    .dataframe tbody tr th {\n",
       "        vertical-align: top;\n",
       "    }\n",
       "\n",
       "    .dataframe thead th {\n",
       "        text-align: right;\n",
       "    }\n",
       "</style>\n",
       "<table border=\"1\" class=\"dataframe\">\n",
       "  <thead>\n",
       "    <tr style=\"text-align: right;\">\n",
       "      <th></th>\n",
       "      <th>mean</th>\n",
       "      <th>median</th>\n",
       "    </tr>\n",
       "  </thead>\n",
       "  <tbody>\n",
       "    <tr>\n",
       "      <th>seriousdlqin2yrs</th>\n",
       "      <td>0.066840</td>\n",
       "      <td>0.000000</td>\n",
       "    </tr>\n",
       "    <tr>\n",
       "      <th>revolvingutilizationofunsecuredlines</th>\n",
       "      <td>0.319196</td>\n",
       "      <td>0.154181</td>\n",
       "    </tr>\n",
       "    <tr>\n",
       "      <th>age</th>\n",
       "      <td>52.295553</td>\n",
       "      <td>52.000000</td>\n",
       "    </tr>\n",
       "    <tr>\n",
       "      <th>numberoftime30-59dayspastduenotworse</th>\n",
       "      <td>0.421033</td>\n",
       "      <td>0.000000</td>\n",
       "    </tr>\n",
       "    <tr>\n",
       "      <th>debtratio</th>\n",
       "      <td>0.662995</td>\n",
       "      <td>0.366508</td>\n",
       "    </tr>\n",
       "    <tr>\n",
       "      <th>monthlyincome</th>\n",
       "      <td>5877.217013</td>\n",
       "      <td>5400.000000</td>\n",
       "    </tr>\n",
       "    <tr>\n",
       "      <th>numberofopencreditlinesandloans</th>\n",
       "      <td>8.452760</td>\n",
       "      <td>8.000000</td>\n",
       "    </tr>\n",
       "    <tr>\n",
       "      <th>numberoftimes90dayslate</th>\n",
       "      <td>0.265973</td>\n",
       "      <td>0.000000</td>\n",
       "    </tr>\n",
       "    <tr>\n",
       "      <th>numberrealestateloansorlines</th>\n",
       "      <td>1.018240</td>\n",
       "      <td>1.000000</td>\n",
       "    </tr>\n",
       "    <tr>\n",
       "      <th>numberoftime60-89dayspastduenotworse</th>\n",
       "      <td>0.240387</td>\n",
       "      <td>0.000000</td>\n",
       "    </tr>\n",
       "    <tr>\n",
       "      <th>numberofdependents</th>\n",
       "      <td>0.737413</td>\n",
       "      <td>0.000000</td>\n",
       "    </tr>\n",
       "  </tbody>\n",
       "</table>\n",
       "</div>"
      ],
      "text/plain": [
       "                                             mean       median\n",
       "seriousdlqin2yrs                         0.066840     0.000000\n",
       "revolvingutilizationofunsecuredlines     0.319196     0.154181\n",
       "age                                     52.295553    52.000000\n",
       "numberoftime30-59dayspastduenotworse     0.421033     0.000000\n",
       "debtratio                                0.662995     0.366508\n",
       "monthlyincome                         5877.217013  5400.000000\n",
       "numberofopencreditlinesandloans          8.452760     8.000000\n",
       "numberoftimes90dayslate                  0.265973     0.000000\n",
       "numberrealestateloansorlines             1.018240     1.000000\n",
       "numberoftime60-89dayspastduenotworse     0.240387     0.000000\n",
       "numberofdependents                       0.737413     0.000000"
      ]
     },
     "execution_count": 38,
     "metadata": {},
     "output_type": "execute_result"
    }
   ],
   "source": [
    "# 이상치 제거 재확인\n",
    "data.aggregate(['mean', 'median']).T"
   ]
  },
  {
   "cell_type": "code",
   "execution_count": 39,
   "id": "79f146e4",
   "metadata": {
    "ExecuteTime": {
     "end_time": "2023-02-11T09:08:56.927728Z",
     "start_time": "2023-02-11T09:08:56.355955Z"
    }
   },
   "outputs": [],
   "source": [
    "# 전처리 파일 저장\n",
    "data.to_csv('data/cs_data(2).csv', index=False)"
   ]
  },
  {
   "cell_type": "markdown",
   "id": "d7a0ecfb",
   "metadata": {},
   "source": [
    "# 데이터 모델링"
   ]
  },
  {
   "cell_type": "code",
   "execution_count": 40,
   "id": "98626261",
   "metadata": {
    "ExecuteTime": {
     "end_time": "2023-02-11T09:08:56.958586Z",
     "start_time": "2023-02-11T09:08:56.928886Z"
    }
   },
   "outputs": [],
   "source": [
    "# 라이브러리 import \n",
    "from sklearn.linear_model import LogisticRegressionCV\n",
    "from sklearn.ensemble import GradientBoostingClassifier, RandomForestClassifier\n",
    "from sklearn.neighbors import KNeighborsClassifier\n",
    "from xgboost import XGBClassifier\n",
    "\n",
    "from sklearn.model_selection import train_test_split\n",
    "from sklearn.metrics import roc_auc_score, accuracy_score, recall_score, precision_score\n",
    "\n",
    "import pickle"
   ]
  },
  {
   "cell_type": "code",
   "execution_count": 41,
   "id": "bb265ef2",
   "metadata": {
    "ExecuteTime": {
     "end_time": "2023-02-11T09:08:57.064605Z",
     "start_time": "2023-02-11T09:08:56.959534Z"
    }
   },
   "outputs": [
    {
     "data": {
      "text/plain": [
       "(150000, 11)"
      ]
     },
     "execution_count": 41,
     "metadata": {},
     "output_type": "execute_result"
    }
   ],
   "source": [
    "# 전처리 데이터 로딩\n",
    "import pandas as pd\n",
    "import numpy as np\n",
    "\n",
    "data = pd.read_csv('data/cs_data(2).csv')\n",
    "data.shape"
   ]
  },
  {
   "cell_type": "code",
   "execution_count": 42,
   "id": "1173fe94",
   "metadata": {
    "ExecuteTime": {
     "end_time": "2023-02-11T09:08:57.072866Z",
     "start_time": "2023-02-11T09:08:57.066176Z"
    }
   },
   "outputs": [
    {
     "name": "stdout",
     "output_type": "stream",
     "text": [
      "<class 'pandas.core.frame.DataFrame'>\n",
      "RangeIndex: 150000 entries, 0 to 149999\n",
      "Data columns (total 11 columns):\n",
      " #   Column                                Non-Null Count   Dtype  \n",
      "---  ------                                --------------   -----  \n",
      " 0   seriousdlqin2yrs                      150000 non-null  int64  \n",
      " 1   revolvingutilizationofunsecuredlines  150000 non-null  float64\n",
      " 2   age                                   150000 non-null  int64  \n",
      " 3   numberoftime30-59dayspastduenotworse  150000 non-null  int64  \n",
      " 4   debtratio                             150000 non-null  float64\n",
      " 5   monthlyincome                         150000 non-null  float64\n",
      " 6   numberofopencreditlinesandloans       150000 non-null  int64  \n",
      " 7   numberoftimes90dayslate               150000 non-null  int64  \n",
      " 8   numberrealestateloansorlines          150000 non-null  int64  \n",
      " 9   numberoftime60-89dayspastduenotworse  150000 non-null  int64  \n",
      " 10  numberofdependents                    150000 non-null  float64\n",
      "dtypes: float64(4), int64(7)\n",
      "memory usage: 12.6 MB\n"
     ]
    }
   ],
   "source": [
    "data.info()"
   ]
  },
  {
   "cell_type": "code",
   "execution_count": 43,
   "id": "783ef662",
   "metadata": {
    "ExecuteTime": {
     "end_time": "2023-02-11T09:08:57.116296Z",
     "start_time": "2023-02-11T09:08:57.074122Z"
    }
   },
   "outputs": [
    {
     "data": {
      "text/plain": [
       "((112500,), (37500,))"
      ]
     },
     "execution_count": 43,
     "metadata": {},
     "output_type": "execute_result"
    }
   ],
   "source": [
    "#Train/Test Set 분리\n",
    "y = (data['seriousdlqin2yrs'])\n",
    "X = (data.drop(columns='seriousdlqin2yrs'))\n",
    "\n",
    "X_train, X_test, y_train, y_test = train_test_split(X, y, stratify=y)\n",
    "y_train.shape, y_test.shape"
   ]
  },
  {
   "cell_type": "code",
   "execution_count": 44,
   "id": "75b2ea4a",
   "metadata": {
    "ExecuteTime": {
     "end_time": "2023-02-11T09:08:57.121825Z",
     "start_time": "2023-02-11T09:08:57.118085Z"
    }
   },
   "outputs": [
    {
     "data": {
      "text/plain": [
       "array([0.93315556, 0.06684444])"
      ]
     },
     "execution_count": 44,
     "metadata": {},
     "output_type": "execute_result"
    }
   ],
   "source": [
    "np.unique(y_train, return_counts=True)[1]/y_train.size"
   ]
  },
  {
   "cell_type": "markdown",
   "id": "8ffb9435",
   "metadata": {},
   "source": [
    "## 데이터 모델링"
   ]
  },
  {
   "cell_type": "code",
   "execution_count": 45,
   "id": "21002e8e",
   "metadata": {
    "ExecuteTime": {
     "end_time": "2023-02-11T09:08:57.124776Z",
     "start_time": "2023-02-11T09:08:57.122918Z"
    }
   },
   "outputs": [],
   "source": [
    "# Feature scaler\n",
    "from sklearn.preprocessing import StandardScaler, MinMaxScaler\n",
    "scaler = StandardScaler()\n"
   ]
  },
  {
   "cell_type": "code",
   "execution_count": 46,
   "id": "60b8f8f6",
   "metadata": {
    "ExecuteTime": {
     "end_time": "2023-02-11T09:08:57.129744Z",
     "start_time": "2023-02-11T09:08:57.125759Z"
    }
   },
   "outputs": [],
   "source": [
    "# Baseline 모델 정의\n",
    "from sklearn.linear_model import LogisticRegression\n",
    "from sklearn.ensemble import GradientBoostingClassifier, RandomForestClassifier\n",
    "from sklearn.neighbors import KNeighborsClassifier\n",
    "from xgboost import XGBClassifier\n",
    "from sklearn.pipeline import make_pipeline\n",
    "\n",
    "knn = make_pipeline(scaler, KNeighborsClassifier())\n",
    "lr = make_pipeline(scaler, LogisticRegression(max_iter=2000, random_state=0))\n",
    "rf = RandomForestClassifier(random_state=0)\n",
    "grb = GradientBoostingClassifier(random_state=0)\n",
    "xgb = XGBClassifier(random_state=0)"
   ]
  },
  {
   "cell_type": "code",
   "execution_count": 47,
   "id": "88b35c51",
   "metadata": {
    "ExecuteTime": {
     "end_time": "2023-02-11T09:09:25.298490Z",
     "start_time": "2023-02-11T09:08:57.130728Z"
    }
   },
   "outputs": [
    {
     "data": {
      "text/plain": [
       "XGBClassifier(base_score=None, booster=None, callbacks=None,\n",
       "              colsample_bylevel=None, colsample_bynode=None,\n",
       "              colsample_bytree=None, early_stopping_rounds=None,\n",
       "              enable_categorical=False, eval_metric=None, feature_types=None,\n",
       "              gamma=None, gpu_id=None, grow_policy=None, importance_type=None,\n",
       "              interaction_constraints=None, learning_rate=None, max_bin=None,\n",
       "              max_cat_threshold=None, max_cat_to_onehot=None,\n",
       "              max_delta_step=None, max_depth=None, max_leaves=None,\n",
       "              min_child_weight=None, missing=nan, monotone_constraints=None,\n",
       "              n_estimators=100, n_jobs=None, num_parallel_tree=None,\n",
       "              predictor=None, random_state=0, ...)"
      ]
     },
     "execution_count": 47,
     "metadata": {},
     "output_type": "execute_result"
    }
   ],
   "source": [
    "# 모델 학습\n",
    "knn.fit(X_train, y_train)\n",
    "lr.fit(X_train, y_train)\n",
    "rf.fit(X_train, y_train)\n",
    "grb.fit(X_train, y_train)\n",
    "xgb.fit(X_train, y_train)"
   ]
  },
  {
   "cell_type": "code",
   "execution_count": 48,
   "id": "e9e67852",
   "metadata": {
    "ExecuteTime": {
     "end_time": "2023-02-11T09:09:25.301710Z",
     "start_time": "2023-02-11T09:09:25.299427Z"
    }
   },
   "outputs": [],
   "source": [
    "# 모델 평가 - 예측 오래 걸리는 모델 제외\n",
    "base_line = [knn, lr, rf, grb, xgb]\n",
    "model_names = ['KNN', 'LogisticRegression', 'RandomForest', \n",
    "               'GradientBoosting', 'XGBoost']\n"
   ]
  },
  {
   "cell_type": "code",
   "execution_count": 49,
   "id": "8f7f950f",
   "metadata": {
    "ExecuteTime": {
     "end_time": "2023-02-11T09:09:29.819048Z",
     "start_time": "2023-02-11T09:09:25.303171Z"
    }
   },
   "outputs": [
    {
     "name": "stdout",
     "output_type": "stream",
     "text": [
      "LogisticRegression\n",
      "train 정확도: 0.934, Test 정확도: 0.934\t Train AUC:0.802 , Test AUC:0.811\n",
      "===========================================================================\n",
      "RandomForest\n",
      "train 정확도: 0.999, Test 정확도: 0.935\t Train AUC:1.0 , Test AUC:0.842\n",
      "===========================================================================\n",
      "GradientBoosting\n",
      "train 정확도: 0.938, Test 정확도: 0.938\t Train AUC:0.868 , Test AUC:0.867\n",
      "===========================================================================\n",
      "XGBoost\n",
      "train 정확도: 0.948, Test 정확도: 0.936\t Train AUC:0.917 , Test AUC:0.862\n",
      "===========================================================================\n"
     ]
    }
   ],
   "source": [
    "for model, name in zip(base_line, model_names):\n",
    "    if name =='KNN':\n",
    "        continue\n",
    "    pred_train = model.predict(X_train)\n",
    "    pred_test = model.predict(X_test)\n",
    "    \n",
    "    pred_train_proba = model.predict_proba(X_train)\n",
    "    pred_test_proba = model.predict_proba(X_test)\n",
    "\n",
    "    acc_train = np.round(accuracy_score(y_train, pred_train), 3)\n",
    "    acc_test = np.round(accuracy_score(y_test, pred_test), 3)\n",
    "    \n",
    "    auc_train = np.round(roc_auc_score(y_train, pred_train_proba[:, 1]),3)\n",
    "    auc_test = np.round(roc_auc_score(y_test, pred_test_proba[:, 1]),3)\n",
    "    \n",
    "    print(f'{name}')\n",
    "    print(f'train 정확도: {acc_train}, Test 정확도: {acc_test}\\t Train AUC:{auc_train} , Test AUC:{auc_test}')\n",
    "    print('='*75)"
   ]
  },
  {
   "cell_type": "markdown",
   "id": "caa9d7ff",
   "metadata": {},
   "source": [
    "## GridSearchCV 하이퍼파라미터 튜닝"
   ]
  },
  {
   "cell_type": "markdown",
   "id": "4e22a808",
   "metadata": {},
   "source": [
    "### XGBoogt"
   ]
  },
  {
   "cell_type": "code",
   "execution_count": 50,
   "id": "3a3e2adc",
   "metadata": {
    "ExecuteTime": {
     "end_time": "2023-02-11T09:09:29.822927Z",
     "start_time": "2023-02-11T09:09:29.820485Z"
    }
   },
   "outputs": [],
   "source": [
    "# 파라미터 설정\n",
    "param= {\n",
    "    \n",
    "    'learing_rate': [0.01, 0.1, 0.5, 1, 10],\n",
    "    'n_estimators': [100,200,300,400,500],\n",
    "    'max_depth': range(1, 6),\n",
    "    'subsample': [0.6, 0.7, 0.8, 0.9, 1]\n",
    "}\n"
   ]
  },
  {
   "cell_type": "code",
   "execution_count": 51,
   "id": "5617a9a4",
   "metadata": {
    "ExecuteTime": {
     "end_time": "2023-02-11T09:26:51.930907Z",
     "start_time": "2023-02-11T09:09:29.825335Z"
    }
   },
   "outputs": [
    {
     "name": "stdout",
     "output_type": "stream",
     "text": [
      "[18:26:50] WARNING: /Users/runner/work/xgboost/xgboost/python-package/build/temp.macosx-10.9-x86_64-cpython-38/xgboost/src/learner.cc:767: \n",
      "Parameters: { \"learing_rate\" } are not used.\n",
      "\n"
     ]
    },
    {
     "data": {
      "text/plain": [
       "RandomizedSearchCV(cv=5,\n",
       "                   estimator=XGBClassifier(base_score=None, booster=None,\n",
       "                                           callbacks=None,\n",
       "                                           colsample_bylevel=None,\n",
       "                                           colsample_bynode=None,\n",
       "                                           colsample_bytree=None,\n",
       "                                           early_stopping_rounds=None,\n",
       "                                           enable_categorical=False,\n",
       "                                           eval_metric=None, feature_types=None,\n",
       "                                           gamma=None, gpu_id=None,\n",
       "                                           grow_policy=None,\n",
       "                                           importance_type=None,\n",
       "                                           interaction_constraints=None,\n",
       "                                           learning_rate...\n",
       "                                           max_leaves=None,\n",
       "                                           min_child_weight=None, missing=nan,\n",
       "                                           monotone_constraints=None,\n",
       "                                           n_estimators=100, n_jobs=None,\n",
       "                                           num_parallel_tree=None,\n",
       "                                           predictor=None, random_state=0, ...),\n",
       "                   n_iter=60, n_jobs=-1,\n",
       "                   param_distributions={'learing_rate': [0.01, 0.1, 0.5, 1, 10],\n",
       "                                        'max_depth': range(1, 6),\n",
       "                                        'n_estimators': [100, 200, 300, 400,\n",
       "                                                         500],\n",
       "                                        'subsample': [0.6, 0.7, 0.8, 0.9, 1]},\n",
       "                   scoring='roc_auc')"
      ]
     },
     "execution_count": 51,
     "metadata": {},
     "output_type": "execute_result"
    }
   ],
   "source": [
    "# 랜덤서치 적용\n",
    "from sklearn.model_selection import GridSearchCV, RandomizedSearchCV\n",
    "\n",
    "rs_xgb = RandomizedSearchCV(XGBClassifier(random_state=0), param, \n",
    "                           n_iter=60, scoring='roc_auc', cv=5, n_jobs=-1)\n",
    "rs_xgb.fit(X_train, y_train)"
   ]
  },
  {
   "cell_type": "code",
   "execution_count": 52,
   "id": "c2a59444",
   "metadata": {
    "ExecuteTime": {
     "end_time": "2023-02-11T09:26:51.936672Z",
     "start_time": "2023-02-11T09:26:51.932971Z"
    }
   },
   "outputs": [
    {
     "data": {
      "text/plain": [
       "{'subsample': 1, 'n_estimators': 100, 'max_depth': 2, 'learing_rate': 0.01}"
      ]
     },
     "execution_count": 52,
     "metadata": {},
     "output_type": "execute_result"
    }
   ],
   "source": [
    "# best_parameter 체크\n",
    "rs_xgb.best_params_"
   ]
  },
  {
   "cell_type": "code",
   "execution_count": 53,
   "id": "6daa9015",
   "metadata": {
    "ExecuteTime": {
     "end_time": "2023-02-11T09:26:51.959506Z",
     "start_time": "2023-02-11T09:26:51.938444Z"
    }
   },
   "outputs": [
    {
     "data": {
      "text/html": [
       "<div>\n",
       "<style scoped>\n",
       "    .dataframe tbody tr th:only-of-type {\n",
       "        vertical-align: middle;\n",
       "    }\n",
       "\n",
       "    .dataframe tbody tr th {\n",
       "        vertical-align: top;\n",
       "    }\n",
       "\n",
       "    .dataframe thead th {\n",
       "        text-align: right;\n",
       "    }\n",
       "</style>\n",
       "<table border=\"1\" class=\"dataframe\">\n",
       "  <thead>\n",
       "    <tr style=\"text-align: right;\">\n",
       "      <th></th>\n",
       "      <th>mean_fit_time</th>\n",
       "      <th>std_fit_time</th>\n",
       "      <th>mean_score_time</th>\n",
       "      <th>std_score_time</th>\n",
       "      <th>param_subsample</th>\n",
       "      <th>param_n_estimators</th>\n",
       "      <th>param_max_depth</th>\n",
       "      <th>param_learing_rate</th>\n",
       "      <th>params</th>\n",
       "      <th>split0_test_score</th>\n",
       "      <th>split1_test_score</th>\n",
       "      <th>split2_test_score</th>\n",
       "      <th>split3_test_score</th>\n",
       "      <th>split4_test_score</th>\n",
       "      <th>mean_test_score</th>\n",
       "      <th>std_test_score</th>\n",
       "      <th>rank_test_score</th>\n",
       "    </tr>\n",
       "  </thead>\n",
       "  <tbody>\n",
       "    <tr>\n",
       "      <th>9</th>\n",
       "      <td>6.351392</td>\n",
       "      <td>0.084789</td>\n",
       "      <td>0.029581</td>\n",
       "      <td>0.005920</td>\n",
       "      <td>1</td>\n",
       "      <td>100</td>\n",
       "      <td>2</td>\n",
       "      <td>0.01</td>\n",
       "      <td>{'subsample': 1, 'n_estimators': 100, 'max_dep...</td>\n",
       "      <td>0.867478</td>\n",
       "      <td>0.866123</td>\n",
       "      <td>0.860281</td>\n",
       "      <td>0.860892</td>\n",
       "      <td>0.858490</td>\n",
       "      <td>0.862653</td>\n",
       "      <td>0.003504</td>\n",
       "      <td>1</td>\n",
       "    </tr>\n",
       "    <tr>\n",
       "      <th>1</th>\n",
       "      <td>12.708367</td>\n",
       "      <td>0.039317</td>\n",
       "      <td>0.040672</td>\n",
       "      <td>0.006239</td>\n",
       "      <td>1</td>\n",
       "      <td>200</td>\n",
       "      <td>2</td>\n",
       "      <td>10</td>\n",
       "      <td>{'subsample': 1, 'n_estimators': 200, 'max_dep...</td>\n",
       "      <td>0.867076</td>\n",
       "      <td>0.866162</td>\n",
       "      <td>0.860043</td>\n",
       "      <td>0.860959</td>\n",
       "      <td>0.858287</td>\n",
       "      <td>0.862506</td>\n",
       "      <td>0.003479</td>\n",
       "      <td>2</td>\n",
       "    </tr>\n",
       "    <tr>\n",
       "      <th>50</th>\n",
       "      <td>9.208425</td>\n",
       "      <td>0.083132</td>\n",
       "      <td>0.035165</td>\n",
       "      <td>0.006540</td>\n",
       "      <td>1</td>\n",
       "      <td>100</td>\n",
       "      <td>3</td>\n",
       "      <td>0.01</td>\n",
       "      <td>{'subsample': 1, 'n_estimators': 100, 'max_dep...</td>\n",
       "      <td>0.868001</td>\n",
       "      <td>0.866712</td>\n",
       "      <td>0.859404</td>\n",
       "      <td>0.860017</td>\n",
       "      <td>0.857400</td>\n",
       "      <td>0.862307</td>\n",
       "      <td>0.004232</td>\n",
       "      <td>3</td>\n",
       "    </tr>\n",
       "    <tr>\n",
       "      <th>15</th>\n",
       "      <td>9.267942</td>\n",
       "      <td>0.062709</td>\n",
       "      <td>0.031733</td>\n",
       "      <td>0.007006</td>\n",
       "      <td>1</td>\n",
       "      <td>100</td>\n",
       "      <td>3</td>\n",
       "      <td>0.5</td>\n",
       "      <td>{'subsample': 1, 'n_estimators': 100, 'max_dep...</td>\n",
       "      <td>0.868001</td>\n",
       "      <td>0.866712</td>\n",
       "      <td>0.859404</td>\n",
       "      <td>0.860017</td>\n",
       "      <td>0.857400</td>\n",
       "      <td>0.862307</td>\n",
       "      <td>0.004232</td>\n",
       "      <td>3</td>\n",
       "    </tr>\n",
       "    <tr>\n",
       "      <th>11</th>\n",
       "      <td>9.039024</td>\n",
       "      <td>0.075192</td>\n",
       "      <td>0.034283</td>\n",
       "      <td>0.005747</td>\n",
       "      <td>0.9</td>\n",
       "      <td>100</td>\n",
       "      <td>3</td>\n",
       "      <td>0.1</td>\n",
       "      <td>{'subsample': 0.9, 'n_estimators': 100, 'max_d...</td>\n",
       "      <td>0.868815</td>\n",
       "      <td>0.865976</td>\n",
       "      <td>0.860186</td>\n",
       "      <td>0.858844</td>\n",
       "      <td>0.856599</td>\n",
       "      <td>0.862084</td>\n",
       "      <td>0.004575</td>\n",
       "      <td>5</td>\n",
       "    </tr>\n",
       "  </tbody>\n",
       "</table>\n",
       "</div>"
      ],
      "text/plain": [
       "    mean_fit_time  std_fit_time  mean_score_time  std_score_time  \\\n",
       "9        6.351392      0.084789         0.029581        0.005920   \n",
       "1       12.708367      0.039317         0.040672        0.006239   \n",
       "50       9.208425      0.083132         0.035165        0.006540   \n",
       "15       9.267942      0.062709         0.031733        0.007006   \n",
       "11       9.039024      0.075192         0.034283        0.005747   \n",
       "\n",
       "   param_subsample param_n_estimators param_max_depth param_learing_rate  \\\n",
       "9                1                100               2               0.01   \n",
       "1                1                200               2                 10   \n",
       "50               1                100               3               0.01   \n",
       "15               1                100               3                0.5   \n",
       "11             0.9                100               3                0.1   \n",
       "\n",
       "                                               params  split0_test_score  \\\n",
       "9   {'subsample': 1, 'n_estimators': 100, 'max_dep...           0.867478   \n",
       "1   {'subsample': 1, 'n_estimators': 200, 'max_dep...           0.867076   \n",
       "50  {'subsample': 1, 'n_estimators': 100, 'max_dep...           0.868001   \n",
       "15  {'subsample': 1, 'n_estimators': 100, 'max_dep...           0.868001   \n",
       "11  {'subsample': 0.9, 'n_estimators': 100, 'max_d...           0.868815   \n",
       "\n",
       "    split1_test_score  split2_test_score  split3_test_score  \\\n",
       "9            0.866123           0.860281           0.860892   \n",
       "1            0.866162           0.860043           0.860959   \n",
       "50           0.866712           0.859404           0.860017   \n",
       "15           0.866712           0.859404           0.860017   \n",
       "11           0.865976           0.860186           0.858844   \n",
       "\n",
       "    split4_test_score  mean_test_score  std_test_score  rank_test_score  \n",
       "9            0.858490         0.862653        0.003504                1  \n",
       "1            0.858287         0.862506        0.003479                2  \n",
       "50           0.857400         0.862307        0.004232                3  \n",
       "15           0.857400         0.862307        0.004232                3  \n",
       "11           0.856599         0.862084        0.004575                5  "
      ]
     },
     "execution_count": 53,
     "metadata": {},
     "output_type": "execute_result"
    }
   ],
   "source": [
    "rs_df = pd.DataFrame(rs_xgb.cv_results_)\n",
    "rs_df.sort_values('rank_test_score').head()"
   ]
  },
  {
   "cell_type": "code",
   "execution_count": 54,
   "id": "dc8c4c34",
   "metadata": {
    "ExecuteTime": {
     "end_time": "2023-02-11T09:32:46.015630Z",
     "start_time": "2023-02-11T09:26:51.961434Z"
    }
   },
   "outputs": [
    {
     "name": "stdout",
     "output_type": "stream",
     "text": [
      "[18:32:39] WARNING: /Users/runner/work/xgboost/xgboost/python-package/build/temp.macosx-10.9-x86_64-cpython-38/xgboost/src/learner.cc:767: \n",
      "Parameters: { \"learing_rate\" } are not used.\n",
      "\n"
     ]
    },
    {
     "data": {
      "text/plain": [
       "GridSearchCV(cv=5,\n",
       "             estimator=XGBClassifier(base_score=None, booster=None,\n",
       "                                     callbacks=None, colsample_bylevel=None,\n",
       "                                     colsample_bynode=None,\n",
       "                                     colsample_bytree=None,\n",
       "                                     early_stopping_rounds=None,\n",
       "                                     enable_categorical=False, eval_metric=None,\n",
       "                                     feature_types=None, gamma=None,\n",
       "                                     gpu_id=None, grow_policy=None,\n",
       "                                     importance_type=None,\n",
       "                                     interaction_constraints=None,\n",
       "                                     learing_rate=0.1, learning_rate=None,\n",
       "                                     max_bin=None, max_cat_threshold=None,\n",
       "                                     max_cat_to_onehot=None,\n",
       "                                     max_delta_step=None, max_depth=None,\n",
       "                                     max_leaves=None, min_child_weight=None,\n",
       "                                     missing=nan, monotone_constraints=None,\n",
       "                                     n_estimators=400, n_jobs=None,\n",
       "                                     num_parallel_tree=None, predictor=None, ...),\n",
       "             n_jobs=-1,\n",
       "             param_grid={'max_depth': [2, 3, 4],\n",
       "                         'subsample': [0.6, 0.7, 0.8, 0.9, 1]},\n",
       "             scoring='roc_auc')"
      ]
     },
     "execution_count": 54,
     "metadata": {},
     "output_type": "execute_result"
    }
   ],
   "source": [
    "# GridSearch\n",
    "\n",
    "param = {\n",
    "    \n",
    "    'subsample': [0.6, 0.7, 0.8, 0.9, 1],\n",
    "    'max_depth': [2,3,4]\n",
    "}\n",
    "\n",
    "gs_xgb = GridSearchCV(XGBClassifier(n_estimators=400, \n",
    "                                    learing_rate=0.1, \n",
    "                                    random_state=0), param, \n",
    "                                    scoring='roc_auc', cv=5, \n",
    "                                    n_jobs=-1)\n",
    "gs_xgb.fit(X_train, y_train)"
   ]
  },
  {
   "cell_type": "code",
   "execution_count": 55,
   "id": "e46e7109",
   "metadata": {
    "ExecuteTime": {
     "end_time": "2023-02-11T09:32:46.020335Z",
     "start_time": "2023-02-11T09:32:46.017761Z"
    }
   },
   "outputs": [
    {
     "name": "stdout",
     "output_type": "stream",
     "text": [
      "{'max_depth': 2, 'subsample': 1}\n",
      "0.8610384247455443\n"
     ]
    }
   ],
   "source": [
    "#best_parameter 확인\n",
    "print(gs_xgb.best_params_)\n",
    "print(gs_xgb.best_score_)"
   ]
  },
  {
   "cell_type": "code",
   "execution_count": 56,
   "id": "b9bc0fc4",
   "metadata": {
    "ExecuteTime": {
     "end_time": "2023-02-11T09:32:46.034776Z",
     "start_time": "2023-02-11T09:32:46.021725Z"
    }
   },
   "outputs": [
    {
     "data": {
      "text/html": [
       "<div>\n",
       "<style scoped>\n",
       "    .dataframe tbody tr th:only-of-type {\n",
       "        vertical-align: middle;\n",
       "    }\n",
       "\n",
       "    .dataframe tbody tr th {\n",
       "        vertical-align: top;\n",
       "    }\n",
       "\n",
       "    .dataframe thead th {\n",
       "        text-align: right;\n",
       "    }\n",
       "</style>\n",
       "<table border=\"1\" class=\"dataframe\">\n",
       "  <thead>\n",
       "    <tr style=\"text-align: right;\">\n",
       "      <th></th>\n",
       "      <th>mean_fit_time</th>\n",
       "      <th>std_fit_time</th>\n",
       "      <th>mean_score_time</th>\n",
       "      <th>std_score_time</th>\n",
       "      <th>param_max_depth</th>\n",
       "      <th>param_subsample</th>\n",
       "      <th>params</th>\n",
       "      <th>split0_test_score</th>\n",
       "      <th>split1_test_score</th>\n",
       "      <th>split2_test_score</th>\n",
       "      <th>split3_test_score</th>\n",
       "      <th>split4_test_score</th>\n",
       "      <th>mean_test_score</th>\n",
       "      <th>std_test_score</th>\n",
       "      <th>rank_test_score</th>\n",
       "    </tr>\n",
       "  </thead>\n",
       "  <tbody>\n",
       "    <tr>\n",
       "      <th>4</th>\n",
       "      <td>25.269615</td>\n",
       "      <td>0.159008</td>\n",
       "      <td>0.064698</td>\n",
       "      <td>0.013855</td>\n",
       "      <td>2</td>\n",
       "      <td>1</td>\n",
       "      <td>{'max_depth': 2, 'subsample': 1}</td>\n",
       "      <td>0.864703</td>\n",
       "      <td>0.865946</td>\n",
       "      <td>0.857864</td>\n",
       "      <td>0.859115</td>\n",
       "      <td>0.857564</td>\n",
       "      <td>0.861038</td>\n",
       "      <td>0.003560</td>\n",
       "      <td>1</td>\n",
       "    </tr>\n",
       "    <tr>\n",
       "      <th>3</th>\n",
       "      <td>24.987430</td>\n",
       "      <td>0.242932</td>\n",
       "      <td>0.055558</td>\n",
       "      <td>0.011543</td>\n",
       "      <td>2</td>\n",
       "      <td>0.9</td>\n",
       "      <td>{'max_depth': 2, 'subsample': 0.9}</td>\n",
       "      <td>0.864929</td>\n",
       "      <td>0.865378</td>\n",
       "      <td>0.858254</td>\n",
       "      <td>0.859023</td>\n",
       "      <td>0.856449</td>\n",
       "      <td>0.860806</td>\n",
       "      <td>0.003649</td>\n",
       "      <td>2</td>\n",
       "    </tr>\n",
       "    <tr>\n",
       "      <th>2</th>\n",
       "      <td>23.901970</td>\n",
       "      <td>0.198928</td>\n",
       "      <td>0.058838</td>\n",
       "      <td>0.008427</td>\n",
       "      <td>2</td>\n",
       "      <td>0.8</td>\n",
       "      <td>{'max_depth': 2, 'subsample': 0.8}</td>\n",
       "      <td>0.866009</td>\n",
       "      <td>0.864367</td>\n",
       "      <td>0.858077</td>\n",
       "      <td>0.858774</td>\n",
       "      <td>0.855515</td>\n",
       "      <td>0.860549</td>\n",
       "      <td>0.003974</td>\n",
       "      <td>3</td>\n",
       "    </tr>\n",
       "    <tr>\n",
       "      <th>1</th>\n",
       "      <td>23.064867</td>\n",
       "      <td>0.184060</td>\n",
       "      <td>0.063607</td>\n",
       "      <td>0.005653</td>\n",
       "      <td>2</td>\n",
       "      <td>0.7</td>\n",
       "      <td>{'max_depth': 2, 'subsample': 0.7}</td>\n",
       "      <td>0.865163</td>\n",
       "      <td>0.864004</td>\n",
       "      <td>0.856420</td>\n",
       "      <td>0.857391</td>\n",
       "      <td>0.855604</td>\n",
       "      <td>0.859717</td>\n",
       "      <td>0.004031</td>\n",
       "      <td>4</td>\n",
       "    </tr>\n",
       "    <tr>\n",
       "      <th>0</th>\n",
       "      <td>22.453327</td>\n",
       "      <td>0.301127</td>\n",
       "      <td>0.066912</td>\n",
       "      <td>0.004319</td>\n",
       "      <td>2</td>\n",
       "      <td>0.6</td>\n",
       "      <td>{'max_depth': 2, 'subsample': 0.6}</td>\n",
       "      <td>0.863963</td>\n",
       "      <td>0.863338</td>\n",
       "      <td>0.858552</td>\n",
       "      <td>0.858109</td>\n",
       "      <td>0.854252</td>\n",
       "      <td>0.859643</td>\n",
       "      <td>0.003603</td>\n",
       "      <td>5</td>\n",
       "    </tr>\n",
       "  </tbody>\n",
       "</table>\n",
       "</div>"
      ],
      "text/plain": [
       "   mean_fit_time  std_fit_time  mean_score_time  std_score_time  \\\n",
       "4      25.269615      0.159008         0.064698        0.013855   \n",
       "3      24.987430      0.242932         0.055558        0.011543   \n",
       "2      23.901970      0.198928         0.058838        0.008427   \n",
       "1      23.064867      0.184060         0.063607        0.005653   \n",
       "0      22.453327      0.301127         0.066912        0.004319   \n",
       "\n",
       "  param_max_depth param_subsample                              params  \\\n",
       "4               2               1    {'max_depth': 2, 'subsample': 1}   \n",
       "3               2             0.9  {'max_depth': 2, 'subsample': 0.9}   \n",
       "2               2             0.8  {'max_depth': 2, 'subsample': 0.8}   \n",
       "1               2             0.7  {'max_depth': 2, 'subsample': 0.7}   \n",
       "0               2             0.6  {'max_depth': 2, 'subsample': 0.6}   \n",
       "\n",
       "   split0_test_score  split1_test_score  split2_test_score  split3_test_score  \\\n",
       "4           0.864703           0.865946           0.857864           0.859115   \n",
       "3           0.864929           0.865378           0.858254           0.859023   \n",
       "2           0.866009           0.864367           0.858077           0.858774   \n",
       "1           0.865163           0.864004           0.856420           0.857391   \n",
       "0           0.863963           0.863338           0.858552           0.858109   \n",
       "\n",
       "   split4_test_score  mean_test_score  std_test_score  rank_test_score  \n",
       "4           0.857564         0.861038        0.003560                1  \n",
       "3           0.856449         0.860806        0.003649                2  \n",
       "2           0.855515         0.860549        0.003974                3  \n",
       "1           0.855604         0.859717        0.004031                4  \n",
       "0           0.854252         0.859643        0.003603                5  "
      ]
     },
     "execution_count": 56,
     "metadata": {},
     "output_type": "execute_result"
    }
   ],
   "source": [
    "gs_df = pd.DataFrame(gs_xgb.cv_results_)\n",
    "gs_df.sort_values('rank_test_score').head()"
   ]
  },
  {
   "cell_type": "code",
   "execution_count": 57,
   "id": "356bf678",
   "metadata": {
    "ExecuteTime": {
     "end_time": "2023-02-11T09:32:46.038212Z",
     "start_time": "2023-02-11T09:32:46.036435Z"
    }
   },
   "outputs": [],
   "source": [
    "#best model 등록\n",
    "best_model_xgb = gs_xgb.best_estimator_"
   ]
  },
  {
   "cell_type": "code",
   "execution_count": 58,
   "id": "f936983b",
   "metadata": {
    "ExecuteTime": {
     "end_time": "2023-02-11T09:32:46.047480Z",
     "start_time": "2023-02-11T09:32:46.039831Z"
    }
   },
   "outputs": [],
   "source": [
    "# 모델 저장\n",
    "import os \n",
    "save_dir = 'saved_model'\n",
    "os.makedirs(save_dir, exist_ok=True)\n",
    "\n",
    "xgb_file_path = os.path.join(save_dir, 'xgb_best.pkl')\n",
    "best_model_xgb.save_model(xgb_file_path)"
   ]
  },
  {
   "cell_type": "code",
   "execution_count": 59,
   "id": "d97de839",
   "metadata": {
    "ExecuteTime": {
     "end_time": "2023-02-11T09:32:46.073988Z",
     "start_time": "2023-02-11T09:32:46.069741Z"
    }
   },
   "outputs": [],
   "source": [
    "# 모델 로드\n",
    "saved_xgb = XGBClassifier()\n",
    "saved_xgb.load_model(xgb_file_path)"
   ]
  },
  {
   "cell_type": "code",
   "execution_count": null,
   "id": "bc68dcf1",
   "metadata": {},
   "outputs": [],
   "source": []
  },
  {
   "cell_type": "markdown",
   "id": "69377cb6",
   "metadata": {},
   "source": [
    "###  GradientBoosting"
   ]
  },
  {
   "cell_type": "code",
   "execution_count": 60,
   "id": "a3a8d7dc",
   "metadata": {
    "ExecuteTime": {
     "end_time": "2023-02-11T09:32:46.078021Z",
     "start_time": "2023-02-11T09:32:46.075173Z"
    }
   },
   "outputs": [],
   "source": [
    "# 파라미터 설정\n",
    "\n",
    "param_gb = {\n",
    "    \n",
    "    'learning_rate': [0.001, 0.01, 0.1, 0.5, 1, 10],\n",
    "    'n_estimators': [100, 200, 300, 400, 500], \n",
    "    'max_depth': range(1,6),\n",
    "    'subsample': [0.6, 0.7, 0.8, 0.9, 1]\n",
    "}"
   ]
  },
  {
   "cell_type": "code",
   "execution_count": 61,
   "id": "ad8bc7e6",
   "metadata": {
    "ExecuteTime": {
     "end_time": "2023-02-11T09:32:46.121986Z",
     "start_time": "2023-02-11T09:32:46.079979Z"
    }
   },
   "outputs": [],
   "source": [
    "RandomizedSearchCV?"
   ]
  },
  {
   "cell_type": "code",
   "execution_count": 62,
   "id": "912ec070",
   "metadata": {
    "ExecuteTime": {
     "end_time": "2023-02-11T11:24:35.672761Z",
     "start_time": "2023-02-11T09:32:46.123439Z"
    }
   },
   "outputs": [
    {
     "name": "stdout",
     "output_type": "stream",
     "text": [
      "[18:09:32] WARNING: /Users/runner/work/xgboost/xgboost/python-package/build/temp.macosx-10.9-x86_64-cpython-38/xgboost/src/learner.cc:767: \n",
      "Parameters: { \"learing_rate\" } are not used.\n",
      "\n",
      "[18:09:45] WARNING: /Users/runner/work/xgboost/xgboost/python-package/build/temp.macosx-10.9-x86_64-cpython-38/xgboost/src/learner.cc:767: \n",
      "Parameters: { \"learing_rate\" } are not used.\n",
      "\n",
      "[18:09:58] WARNING: /Users/runner/work/xgboost/xgboost/python-package/build/temp.macosx-10.9-x86_64-cpython-38/xgboost/src/learner.cc:767: \n",
      "Parameters: { \"learing_rate\" } are not used.\n",
      "\n",
      "[18:10:08] WARNING: /Users/runner/work/xgboost/xgboost/python-package/build/temp.macosx-10.9-x86_64-cpython-38/xgboost/src/learner.cc:767: \n",
      "Parameters: { \"learing_rate\" } are not used.\n",
      "\n",
      "[18:10:24] WARNING: /Users/runner/work/xgboost/xgboost/python-package/build/temp.macosx-10.9-x86_64-cpython-38/xgboost/src/learner.cc:767: \n",
      "Parameters: { \"learing_rate\" } are not used.\n",
      "\n",
      "[18:10:40] WARNING: /Users/runner/work/xgboost/xgboost/python-package/build/temp.macosx-10.9-x86_64-cpython-38/xgboost/src/learner.cc:767: \n",
      "Parameters: { \"learing_rate\" } are not used.\n",
      "\n",
      "[18:11:13] WARNING: /Users/runner/work/xgboost/xgboost/python-package/build/temp.macosx-10.9-x86_64-cpython-38/xgboost/src/learner.cc:767: \n",
      "Parameters: { \"learing_rate\" } are not used.\n",
      "\n",
      "[18:11:53] WARNING: /Users/runner/work/xgboost/xgboost/python-package/build/temp.macosx-10.9-x86_64-cpython-38/xgboost/src/learner.cc:767: \n",
      "Parameters: { \"learing_rate\" } are not used.\n",
      "\n",
      "[18:12:15] WARNING: /Users/runner/work/xgboost/xgboost/python-package/build/temp.macosx-10.9-x86_64-cpython-38/xgboost/src/learner.cc:767: \n",
      "Parameters: { \"learing_rate\" } are not used.\n",
      "\n",
      "[18:12:24] WARNING: /Users/runner/work/xgboost/xgboost/python-package/build/temp.macosx-10.9-x86_64-cpython-38/xgboost/src/learner.cc:767: \n",
      "Parameters: { \"learing_rate\" } are not used.\n",
      "\n",
      "[18:12:52] WARNING: /Users/runner/work/xgboost/xgboost/python-package/build/temp.macosx-10.9-x86_64-cpython-38/xgboost/src/learner.cc:767: \n",
      "Parameters: { \"learing_rate\" } are not used.\n",
      "\n",
      "[18:13:34] WARNING: /Users/runner/work/xgboost/xgboost/python-package/build/temp.macosx-10.9-x86_64-cpython-38/xgboost/src/learner.cc:767: \n",
      "Parameters: { \"learing_rate\" } are not used.\n",
      "\n",
      "[18:13:57] WARNING: /Users/runner/work/xgboost/xgboost/python-package/build/temp.macosx-10.9-x86_64-cpython-38/xgboost/src/learner.cc:767: \n",
      "Parameters: { \"learing_rate\" } are not used.\n",
      "\n",
      "[18:14:59] WARNING: /Users/runner/work/xgboost/xgboost/python-package/build/temp.macosx-10.9-x86_64-cpython-38/xgboost/src/learner.cc:767: \n",
      "Parameters: { \"learing_rate\" } are not used.\n",
      "\n",
      "[18:15:29] WARNING: /Users/runner/work/xgboost/xgboost/python-package/build/temp.macosx-10.9-x86_64-cpython-38/xgboost/src/learner.cc:767: \n",
      "Parameters: { \"learing_rate\" } are not used.\n",
      "\n",
      "[18:15:41] WARNING: /Users/runner/work/xgboost/xgboost/python-package/build/temp.macosx-10.9-x86_64-cpython-38/xgboost/src/learner.cc:767: \n",
      "Parameters: { \"learing_rate\" } are not used.\n",
      "\n",
      "[18:15:54] WARNING: /Users/runner/work/xgboost/xgboost/python-package/build/temp.macosx-10.9-x86_64-cpython-38/xgboost/src/learner.cc:767: \n",
      "Parameters: { \"learing_rate\" } are not used.\n",
      "\n",
      "[18:16:11] WARNING: /Users/runner/work/xgboost/xgboost/python-package/build/temp.macosx-10.9-x86_64-cpython-38/xgboost/src/learner.cc:767: \n",
      "Parameters: { \"learing_rate\" } are not used.\n",
      "\n",
      "[18:16:56] WARNING: /Users/runner/work/xgboost/xgboost/python-package/build/temp.macosx-10.9-x86_64-cpython-38/xgboost/src/learner.cc:767: \n",
      "Parameters: { \"learing_rate\" } are not used.\n",
      "\n",
      "[18:18:10] WARNING: /Users/runner/work/xgboost/xgboost/python-package/build/temp.macosx-10.9-x86_64-cpython-38/xgboost/src/learner.cc:767: \n",
      "Parameters: { \"learing_rate\" } are not used.\n",
      "\n",
      "[18:18:26] WARNING: /Users/runner/work/xgboost/xgboost/python-package/build/temp.macosx-10.9-x86_64-cpython-38/xgboost/src/learner.cc:767: \n",
      "Parameters: { \"learing_rate\" } are not used.\n",
      "\n",
      "[18:19:18] WARNING: /Users/runner/work/xgboost/xgboost/python-package/build/temp.macosx-10.9-x86_64-cpython-38/xgboost/src/learner.cc:767: \n",
      "Parameters: { \"learing_rate\" } are not used.\n",
      "\n",
      "[18:19:42] WARNING: /Users/runner/work/xgboost/xgboost/python-package/build/temp.macosx-10.9-x86_64-cpython-38/xgboost/src/learner.cc:767: \n",
      "Parameters: { \"learing_rate\" } are not used.\n",
      "\n",
      "[18:19:47] WARNING: /Users/runner/work/xgboost/xgboost/python-package/build/temp.macosx-10.9-x86_64-cpython-38/xgboost/src/learner.cc:767: \n",
      "Parameters: { \"learing_rate\" } are not used.\n",
      "\n",
      "[18:19:53] WARNING: /Users/runner/work/xgboost/xgboost/python-package/build/temp.macosx-10.9-x86_64-cpython-38/xgboost/src/learner.cc:767: \n",
      "Parameters: { \"learing_rate\" } are not used.\n",
      "\n",
      "[18:20:28] WARNING: /Users/runner/work/xgboost/xgboost/python-package/build/temp.macosx-10.9-x86_64-cpython-38/xgboost/src/learner.cc:767: \n",
      "Parameters: { \"learing_rate\" } are not used.\n",
      "\n",
      "[18:20:37] WARNING: /Users/runner/work/xgboost/xgboost/python-package/build/temp.macosx-10.9-x86_64-cpython-38/xgboost/src/learner.cc:767: \n",
      "Parameters: { \"learing_rate\" } are not used.\n",
      "\n",
      "[18:20:46] WARNING: /Users/runner/work/xgboost/xgboost/python-package/build/temp.macosx-10.9-x86_64-cpython-38/xgboost/src/learner.cc:767: \n",
      "Parameters: { \"learing_rate\" } are not used.\n",
      "\n",
      "[18:21:49] WARNING: /Users/runner/work/xgboost/xgboost/python-package/build/temp.macosx-10.9-x86_64-cpython-38/xgboost/src/learner.cc:767: \n",
      "Parameters: { \"learing_rate\" } are not used.\n",
      "\n",
      "[18:22:31] WARNING: /Users/runner/work/xgboost/xgboost/python-package/build/temp.macosx-10.9-x86_64-cpython-38/xgboost/src/learner.cc:767: \n",
      "Parameters: { \"learing_rate\" } are not used.\n",
      "\n",
      "[18:23:02] WARNING: /Users/runner/work/xgboost/xgboost/python-package/build/temp.macosx-10.9-x86_64-cpython-38/xgboost/src/learner.cc:767: \n",
      "Parameters: { \"learing_rate\" } are not used.\n",
      "\n",
      "[18:23:15] WARNING: /Users/runner/work/xgboost/xgboost/python-package/build/temp.macosx-10.9-x86_64-cpython-38/xgboost/src/learner.cc:767: \n",
      "Parameters: { \"learing_rate\" } are not used.\n",
      "\n",
      "[18:23:42] WARNING: /Users/runner/work/xgboost/xgboost/python-package/build/temp.macosx-10.9-x86_64-cpython-38/xgboost/src/learner.cc:767: \n",
      "Parameters: { \"learing_rate\" } are not used.\n",
      "\n",
      "[18:24:23] WARNING: /Users/runner/work/xgboost/xgboost/python-package/build/temp.macosx-10.9-x86_64-cpython-38/xgboost/src/learner.cc:767: \n",
      "Parameters: { \"learing_rate\" } are not used.\n",
      "\n",
      "[18:24:32] WARNING: /Users/runner/work/xgboost/xgboost/python-package/build/temp.macosx-10.9-x86_64-cpython-38/xgboost/src/learner.cc:767: \n",
      "Parameters: { \"learing_rate\" } are not used.\n",
      "\n",
      "[18:24:48] WARNING: /Users/runner/work/xgboost/xgboost/python-package/build/temp.macosx-10.9-x86_64-cpython-38/xgboost/src/learner.cc:767: \n",
      "Parameters: { \"learing_rate\" } are not used.\n",
      "\n",
      "[18:24:59] WARNING: /Users/runner/work/xgboost/xgboost/python-package/build/temp.macosx-10.9-x86_64-cpython-38/xgboost/src/learner.cc:767: \n",
      "Parameters: { \"learing_rate\" } are not used.\n",
      "\n",
      "[18:25:55] WARNING: /Users/runner/work/xgboost/xgboost/python-package/build/temp.macosx-10.9-x86_64-cpython-38/xgboost/src/learner.cc:767: \n",
      "Parameters: { \"learing_rate\" } are not used.\n",
      "\n",
      "[18:26:22] WARNING: /Users/runner/work/xgboost/xgboost/python-package/build/temp.macosx-10.9-x86_64-cpython-38/xgboost/src/learner.cc:767: \n",
      "Parameters: { \"learing_rate\" } are not used.\n",
      "\n",
      "[18:26:29] WARNING: /Users/runner/work/xgboost/xgboost/python-package/build/temp.macosx-10.9-x86_64-cpython-38/xgboost/src/learner.cc:767: \n",
      "Parameters: { \"learing_rate\" } are not used.\n",
      "\n",
      "[18:26:52] WARNING: /Users/runner/work/xgboost/xgboost/python-package/build/temp.macosx-10.9-x86_64-cpython-38/xgboost/src/learner.cc:767: \n",
      "Parameters: { \"learing_rate\" } are not used.\n",
      "\n",
      "[18:27:14] WARNING: /Users/runner/work/xgboost/xgboost/python-package/build/temp.macosx-10.9-x86_64-cpython-38/xgboost/src/learner.cc:767: \n",
      "Parameters: { \"learing_rate\" } are not used.\n",
      "\n",
      "[18:27:38] WARNING: /Users/runner/work/xgboost/xgboost/python-package/build/temp.macosx-10.9-x86_64-cpython-38/xgboost/src/learner.cc:767: \n",
      "Parameters: { \"learing_rate\" } are not used.\n",
      "\n",
      "[18:28:03] WARNING: /Users/runner/work/xgboost/xgboost/python-package/build/temp.macosx-10.9-x86_64-cpython-38/xgboost/src/learner.cc:767: \n",
      "Parameters: { \"learing_rate\" } are not used.\n",
      "\n",
      "[18:28:36] WARNING: /Users/runner/work/xgboost/xgboost/python-package/build/temp.macosx-10.9-x86_64-cpython-38/xgboost/src/learner.cc:767: \n",
      "Parameters: { \"learing_rate\" } are not used.\n",
      "\n",
      "[18:29:10] WARNING: /Users/runner/work/xgboost/xgboost/python-package/build/temp.macosx-10.9-x86_64-cpython-38/xgboost/src/learner.cc:767: \n",
      "Parameters: { \"learing_rate\" } are not used.\n",
      "\n",
      "[18:29:46] WARNING: /Users/runner/work/xgboost/xgboost/python-package/build/temp.macosx-10.9-x86_64-cpython-38/xgboost/src/learner.cc:767: \n",
      "Parameters: { \"learing_rate\" } are not used.\n",
      "\n",
      "[18:30:28] WARNING: /Users/runner/work/xgboost/xgboost/python-package/build/temp.macosx-10.9-x86_64-cpython-38/xgboost/src/learner.cc:767: \n",
      "Parameters: { \"learing_rate\" } are not used.\n",
      "\n",
      "[18:31:11] WARNING: /Users/runner/work/xgboost/xgboost/python-package/build/temp.macosx-10.9-x86_64-cpython-38/xgboost/src/learner.cc:767: \n",
      "Parameters: { \"learing_rate\" } are not used.\n",
      "\n"
     ]
    },
    {
     "name": "stdout",
     "output_type": "stream",
     "text": [
      "[18:09:32] WARNING: /Users/runner/work/xgboost/xgboost/python-package/build/temp.macosx-10.9-x86_64-cpython-38/xgboost/src/learner.cc:767: \n",
      "Parameters: { \"learing_rate\" } are not used.\n",
      "\n",
      "[18:10:47] WARNING: /Users/runner/work/xgboost/xgboost/python-package/build/temp.macosx-10.9-x86_64-cpython-38/xgboost/src/learner.cc:767: \n",
      "Parameters: { \"learing_rate\" } are not used.\n",
      "\n",
      "[18:11:06] WARNING: /Users/runner/work/xgboost/xgboost/python-package/build/temp.macosx-10.9-x86_64-cpython-38/xgboost/src/learner.cc:767: \n",
      "Parameters: { \"learing_rate\" } are not used.\n",
      "\n",
      "[18:11:45] WARNING: /Users/runner/work/xgboost/xgboost/python-package/build/temp.macosx-10.9-x86_64-cpython-38/xgboost/src/learner.cc:767: \n",
      "Parameters: { \"learing_rate\" } are not used.\n",
      "\n",
      "[18:12:07] WARNING: /Users/runner/work/xgboost/xgboost/python-package/build/temp.macosx-10.9-x86_64-cpython-38/xgboost/src/learner.cc:767: \n",
      "Parameters: { \"learing_rate\" } are not used.\n",
      "\n",
      "[18:12:13] WARNING: /Users/runner/work/xgboost/xgboost/python-package/build/temp.macosx-10.9-x86_64-cpython-38/xgboost/src/learner.cc:767: \n",
      "Parameters: { \"learing_rate\" } are not used.\n",
      "\n",
      "[18:12:23] WARNING: /Users/runner/work/xgboost/xgboost/python-package/build/temp.macosx-10.9-x86_64-cpython-38/xgboost/src/learner.cc:767: \n",
      "Parameters: { \"learing_rate\" } are not used.\n",
      "\n",
      "[18:12:39] WARNING: /Users/runner/work/xgboost/xgboost/python-package/build/temp.macosx-10.9-x86_64-cpython-38/xgboost/src/learner.cc:767: \n",
      "Parameters: { \"learing_rate\" } are not used.\n",
      "\n",
      "[18:13:21] WARNING: /Users/runner/work/xgboost/xgboost/python-package/build/temp.macosx-10.9-x86_64-cpython-38/xgboost/src/learner.cc:767: \n",
      "Parameters: { \"learing_rate\" } are not used.\n",
      "\n",
      "[18:13:44] WARNING: /Users/runner/work/xgboost/xgboost/python-package/build/temp.macosx-10.9-x86_64-cpython-38/xgboost/src/learner.cc:767: \n",
      "Parameters: { \"learing_rate\" } are not used.\n",
      "\n",
      "[18:14:08] WARNING: /Users/runner/work/xgboost/xgboost/python-package/build/temp.macosx-10.9-x86_64-cpython-38/xgboost/src/learner.cc:767: \n",
      "Parameters: { \"learing_rate\" } are not used.\n",
      "\n",
      "[18:15:09] WARNING: /Users/runner/work/xgboost/xgboost/python-package/build/temp.macosx-10.9-x86_64-cpython-38/xgboost/src/learner.cc:767: \n",
      "Parameters: { \"learing_rate\" } are not used.\n",
      "\n",
      "[18:15:26] WARNING: /Users/runner/work/xgboost/xgboost/python-package/build/temp.macosx-10.9-x86_64-cpython-38/xgboost/src/learner.cc:767: \n",
      "Parameters: { \"learing_rate\" } are not used.\n",
      "\n",
      "[18:15:58] WARNING: /Users/runner/work/xgboost/xgboost/python-package/build/temp.macosx-10.9-x86_64-cpython-38/xgboost/src/learner.cc:767: \n",
      "Parameters: { \"learing_rate\" } are not used.\n",
      "\n",
      "[18:16:43] WARNING: /Users/runner/work/xgboost/xgboost/python-package/build/temp.macosx-10.9-x86_64-cpython-38/xgboost/src/learner.cc:767: \n",
      "Parameters: { \"learing_rate\" } are not used.\n",
      "\n",
      "[18:17:18] WARNING: /Users/runner/work/xgboost/xgboost/python-package/build/temp.macosx-10.9-x86_64-cpython-38/xgboost/src/learner.cc:767: \n",
      "Parameters: { \"learing_rate\" } are not used.\n",
      "\n",
      "[18:18:35] WARNING: /Users/runner/work/xgboost/xgboost/python-package/build/temp.macosx-10.9-x86_64-cpython-38/xgboost/src/learner.cc:767: \n",
      "Parameters: { \"learing_rate\" } are not used.\n",
      "\n",
      "[18:19:28] WARNING: /Users/runner/work/xgboost/xgboost/python-package/build/temp.macosx-10.9-x86_64-cpython-38/xgboost/src/learner.cc:767: \n",
      "Parameters: { \"learing_rate\" } are not used.\n",
      "\n",
      "[18:19:59] WARNING: /Users/runner/work/xgboost/xgboost/python-package/build/temp.macosx-10.9-x86_64-cpython-38/xgboost/src/learner.cc:767: \n",
      "Parameters: { \"learing_rate\" } are not used.\n",
      "\n",
      "[18:20:10] WARNING: /Users/runner/work/xgboost/xgboost/python-package/build/temp.macosx-10.9-x86_64-cpython-38/xgboost/src/learner.cc:767: \n",
      "Parameters: { \"learing_rate\" } are not used.\n",
      "\n",
      "[18:20:59] WARNING: /Users/runner/work/xgboost/xgboost/python-package/build/temp.macosx-10.9-x86_64-cpython-38/xgboost/src/learner.cc:767: \n",
      "Parameters: { \"learing_rate\" } are not used.\n",
      "\n",
      "[18:22:02] WARNING: /Users/runner/work/xgboost/xgboost/python-package/build/temp.macosx-10.9-x86_64-cpython-38/xgboost/src/learner.cc:767: \n",
      "Parameters: { \"learing_rate\" } are not used.\n",
      "\n",
      "[18:22:45] WARNING: /Users/runner/work/xgboost/xgboost/python-package/build/temp.macosx-10.9-x86_64-cpython-38/xgboost/src/learner.cc:767: \n",
      "Parameters: { \"learing_rate\" } are not used.\n",
      "\n",
      "[18:23:15] WARNING: /Users/runner/work/xgboost/xgboost/python-package/build/temp.macosx-10.9-x86_64-cpython-38/xgboost/src/learner.cc:767: \n",
      "Parameters: { \"learing_rate\" } are not used.\n",
      "\n",
      "[18:23:42] WARNING: /Users/runner/work/xgboost/xgboost/python-package/build/temp.macosx-10.9-x86_64-cpython-38/xgboost/src/learner.cc:767: \n",
      "Parameters: { \"learing_rate\" } are not used.\n",
      "\n",
      "[18:23:55] WARNING: /Users/runner/work/xgboost/xgboost/python-package/build/temp.macosx-10.9-x86_64-cpython-38/xgboost/src/learner.cc:767: \n",
      "Parameters: { \"learing_rate\" } are not used.\n",
      "\n",
      "[18:24:09] WARNING: /Users/runner/work/xgboost/xgboost/python-package/build/temp.macosx-10.9-x86_64-cpython-38/xgboost/src/learner.cc:767: \n",
      "Parameters: { \"learing_rate\" } are not used.\n",
      "\n",
      "[18:24:15] WARNING: /Users/runner/work/xgboost/xgboost/python-package/build/temp.macosx-10.9-x86_64-cpython-38/xgboost/src/learner.cc:767: \n",
      "Parameters: { \"learing_rate\" } are not used.\n",
      "\n",
      "[18:24:24] WARNING: /Users/runner/work/xgboost/xgboost/python-package/build/temp.macosx-10.9-x86_64-cpython-38/xgboost/src/learner.cc:767: \n",
      "Parameters: { \"learing_rate\" } are not used.\n",
      "\n",
      "[18:24:37] WARNING: /Users/runner/work/xgboost/xgboost/python-package/build/temp.macosx-10.9-x86_64-cpython-38/xgboost/src/learner.cc:767: \n",
      "Parameters: { \"learing_rate\" } are not used.\n",
      "\n",
      "[18:24:50] WARNING: /Users/runner/work/xgboost/xgboost/python-package/build/temp.macosx-10.9-x86_64-cpython-38/xgboost/src/learner.cc:767: \n",
      "Parameters: { \"learing_rate\" } are not used.\n",
      "\n",
      "[18:25:01] WARNING: /Users/runner/work/xgboost/xgboost/python-package/build/temp.macosx-10.9-x86_64-cpython-38/xgboost/src/learner.cc:767: \n",
      "Parameters: { \"learing_rate\" } are not used.\n",
      "\n",
      "[18:25:56] WARNING: /Users/runner/work/xgboost/xgboost/python-package/build/temp.macosx-10.9-x86_64-cpython-38/xgboost/src/learner.cc:767: \n",
      "Parameters: { \"learing_rate\" } are not used.\n",
      "\n",
      "[18:26:23] WARNING: /Users/runner/work/xgboost/xgboost/python-package/build/temp.macosx-10.9-x86_64-cpython-38/xgboost/src/learner.cc:767: \n",
      "Parameters: { \"learing_rate\" } are not used.\n",
      "\n",
      "[18:26:52] WARNING: /Users/runner/work/xgboost/xgboost/python-package/build/temp.macosx-10.9-x86_64-cpython-38/xgboost/src/learner.cc:767: \n",
      "Parameters: { \"learing_rate\" } are not used.\n",
      "\n",
      "[18:27:15] WARNING: /Users/runner/work/xgboost/xgboost/python-package/build/temp.macosx-10.9-x86_64-cpython-38/xgboost/src/learner.cc:767: \n",
      "Parameters: { \"learing_rate\" } are not used.\n",
      "\n",
      "[18:27:39] WARNING: /Users/runner/work/xgboost/xgboost/python-package/build/temp.macosx-10.9-x86_64-cpython-38/xgboost/src/learner.cc:767: \n",
      "Parameters: { \"learing_rate\" } are not used.\n",
      "\n",
      "[18:28:04] WARNING: /Users/runner/work/xgboost/xgboost/python-package/build/temp.macosx-10.9-x86_64-cpython-38/xgboost/src/learner.cc:767: \n",
      "Parameters: { \"learing_rate\" } are not used.\n",
      "\n",
      "[18:28:36] WARNING: /Users/runner/work/xgboost/xgboost/python-package/build/temp.macosx-10.9-x86_64-cpython-38/xgboost/src/learner.cc:767: \n",
      "Parameters: { \"learing_rate\" } are not used.\n",
      "\n",
      "[18:29:10] WARNING: /Users/runner/work/xgboost/xgboost/python-package/build/temp.macosx-10.9-x86_64-cpython-38/xgboost/src/learner.cc:767: \n",
      "Parameters: { \"learing_rate\" } are not used.\n",
      "\n",
      "[18:29:46] WARNING: /Users/runner/work/xgboost/xgboost/python-package/build/temp.macosx-10.9-x86_64-cpython-38/xgboost/src/learner.cc:767: \n",
      "Parameters: { \"learing_rate\" } are not used.\n",
      "\n",
      "[18:30:28] WARNING: /Users/runner/work/xgboost/xgboost/python-package/build/temp.macosx-10.9-x86_64-cpython-38/xgboost/src/learner.cc:767: \n",
      "Parameters: { \"learing_rate\" } are not used.\n",
      "\n",
      "[18:31:14] WARNING: /Users/runner/work/xgboost/xgboost/python-package/build/temp.macosx-10.9-x86_64-cpython-38/xgboost/src/learner.cc:767: \n",
      "Parameters: { \"learing_rate\" } are not used.\n",
      "\n",
      "[18:09:32] WARNING: /Users/runner/work/xgboost/xgboost/python-package/build/temp.macosx-10.9-x86_64-cpython-38/xgboost/src/learner.cc:767: \n",
      "Parameters: { \"learing_rate\" } are not used.\n",
      "\n",
      "[18:10:48] WARNING: /Users/runner/work/xgboost/xgboost/python-package/build/temp.macosx-10.9-x86_64-cpython-38/xgboost/src/learner.cc:767: \n",
      "Parameters: { \"learing_rate\" } are not used.\n",
      "\n",
      "[18:11:06] WARNING: /Users/runner/work/xgboost/xgboost/python-package/build/temp.macosx-10.9-x86_64-cpython-38/xgboost/src/learner.cc:767: \n",
      "Parameters: { \"learing_rate\" } are not used.\n",
      "\n",
      "[18:11:45] WARNING: /Users/runner/work/xgboost/xgboost/python-package/build/temp.macosx-10.9-x86_64-cpython-38/xgboost/src/learner.cc:767: \n",
      "Parameters: { \"learing_rate\" } are not used.\n",
      "\n",
      "[18:12:07] WARNING: /Users/runner/work/xgboost/xgboost/python-package/build/temp.macosx-10.9-x86_64-cpython-38/xgboost/src/learner.cc:767: \n",
      "Parameters: { \"learing_rate\" } are not used.\n",
      "\n",
      "[18:12:13] WARNING: /Users/runner/work/xgboost/xgboost/python-package/build/temp.macosx-10.9-x86_64-cpython-38/xgboost/src/learner.cc:767: \n",
      "Parameters: { \"learing_rate\" } are not used.\n",
      "\n",
      "[18:12:22] WARNING: /Users/runner/work/xgboost/xgboost/python-package/build/temp.macosx-10.9-x86_64-cpython-38/xgboost/src/learner.cc:767: \n",
      "Parameters: { \"learing_rate\" } are not used.\n",
      "\n",
      "[18:12:38] WARNING: /Users/runner/work/xgboost/xgboost/python-package/build/temp.macosx-10.9-x86_64-cpython-38/xgboost/src/learner.cc:767: \n",
      "Parameters: { \"learing_rate\" } are not used.\n",
      "\n",
      "[18:13:20] WARNING: /Users/runner/work/xgboost/xgboost/python-package/build/temp.macosx-10.9-x86_64-cpython-38/xgboost/src/learner.cc:767: \n",
      "Parameters: { \"learing_rate\" } are not used.\n",
      "\n",
      "[18:14:12] WARNING: /Users/runner/work/xgboost/xgboost/python-package/build/temp.macosx-10.9-x86_64-cpython-38/xgboost/src/learner.cc:767: \n",
      "Parameters: { \"learing_rate\" } are not used.\n",
      "\n",
      "[18:14:15] WARNING: /Users/runner/work/xgboost/xgboost/python-package/build/temp.macosx-10.9-x86_64-cpython-38/xgboost/src/learner.cc:767: \n",
      "Parameters: { \"learing_rate\" } are not used.\n",
      "\n",
      "[18:14:18] WARNING: /Users/runner/work/xgboost/xgboost/python-package/build/temp.macosx-10.9-x86_64-cpython-38/xgboost/src/learner.cc:767: \n",
      "Parameters: { \"learing_rate\" } are not used.\n",
      "\n",
      "[18:14:35] WARNING: /Users/runner/work/xgboost/xgboost/python-package/build/temp.macosx-10.9-x86_64-cpython-38/xgboost/src/learner.cc:767: \n",
      "Parameters: { \"learing_rate\" } are not used.\n",
      "\n",
      "[18:14:52] WARNING: /Users/runner/work/xgboost/xgboost/python-package/build/temp.macosx-10.9-x86_64-cpython-38/xgboost/src/learner.cc:767: \n",
      "Parameters: { \"learing_rate\" } are not used.\n",
      "\n",
      "[18:15:22] WARNING: /Users/runner/work/xgboost/xgboost/python-package/build/temp.macosx-10.9-x86_64-cpython-38/xgboost/src/learner.cc:767: \n",
      "Parameters: { \"learing_rate\" } are not used.\n",
      "\n",
      "[18:15:54] WARNING: /Users/runner/work/xgboost/xgboost/python-package/build/temp.macosx-10.9-x86_64-cpython-38/xgboost/src/learner.cc:767: \n",
      "Parameters: { \"learing_rate\" } are not used.\n",
      "\n",
      "[18:16:11] WARNING: /Users/runner/work/xgboost/xgboost/python-package/build/temp.macosx-10.9-x86_64-cpython-38/xgboost/src/learner.cc:767: \n",
      "Parameters: { \"learing_rate\" } are not used.\n",
      "\n",
      "[18:16:17] WARNING: /Users/runner/work/xgboost/xgboost/python-package/build/temp.macosx-10.9-x86_64-cpython-38/xgboost/src/learner.cc:767: \n",
      "Parameters: { \"learing_rate\" } are not used.\n",
      "\n",
      "[18:16:24] WARNING: /Users/runner/work/xgboost/xgboost/python-package/build/temp.macosx-10.9-x86_64-cpython-38/xgboost/src/learner.cc:767: \n",
      "Parameters: { \"learing_rate\" } are not used.\n",
      "\n",
      "[18:17:00] WARNING: /Users/runner/work/xgboost/xgboost/python-package/build/temp.macosx-10.9-x86_64-cpython-38/xgboost/src/learner.cc:767: \n",
      "Parameters: { \"learing_rate\" } are not used.\n",
      "\n",
      "[18:18:14] WARNING: /Users/runner/work/xgboost/xgboost/python-package/build/temp.macosx-10.9-x86_64-cpython-38/xgboost/src/learner.cc:767: \n",
      "Parameters: { \"learing_rate\" } are not used.\n",
      "\n",
      "[18:18:30] WARNING: /Users/runner/work/xgboost/xgboost/python-package/build/temp.macosx-10.9-x86_64-cpython-38/xgboost/src/learner.cc:767: \n",
      "Parameters: { \"learing_rate\" } are not used.\n",
      "\n",
      "[18:19:22] WARNING: /Users/runner/work/xgboost/xgboost/python-package/build/temp.macosx-10.9-x86_64-cpython-38/xgboost/src/learner.cc:767: \n",
      "Parameters: { \"learing_rate\" } are not used.\n",
      "\n",
      "[18:19:53] WARNING: /Users/runner/work/xgboost/xgboost/python-package/build/temp.macosx-10.9-x86_64-cpython-38/xgboost/src/learner.cc:767: \n",
      "Parameters: { \"learing_rate\" } are not used.\n",
      "\n",
      "[18:20:28] WARNING: /Users/runner/work/xgboost/xgboost/python-package/build/temp.macosx-10.9-x86_64-cpython-38/xgboost/src/learner.cc:767: \n",
      "Parameters: { \"learing_rate\" } are not used.\n",
      "\n",
      "[18:20:37] WARNING: /Users/runner/work/xgboost/xgboost/python-package/build/temp.macosx-10.9-x86_64-cpython-38/xgboost/src/learner.cc:767: \n",
      "Parameters: { \"learing_rate\" } are not used.\n",
      "\n",
      "[18:20:46] WARNING: /Users/runner/work/xgboost/xgboost/python-package/build/temp.macosx-10.9-x86_64-cpython-38/xgboost/src/learner.cc:767: \n",
      "Parameters: { \"learing_rate\" } are not used.\n",
      "\n",
      "[18:21:49] WARNING: /Users/runner/work/xgboost/xgboost/python-package/build/temp.macosx-10.9-x86_64-cpython-38/xgboost/src/learner.cc:767: \n",
      "Parameters: { \"learing_rate\" } are not used.\n",
      "\n",
      "[18:23:03] WARNING: /Users/runner/work/xgboost/xgboost/python-package/build/temp.macosx-10.9-x86_64-cpython-38/xgboost/src/learner.cc:767: \n",
      "Parameters: { \"learing_rate\" } are not used.\n",
      "\n",
      "[18:23:16] WARNING: /Users/runner/work/xgboost/xgboost/python-package/build/temp.macosx-10.9-x86_64-cpython-38/xgboost/src/learner.cc:767: \n",
      "Parameters: { \"learing_rate\" } are not used.\n",
      "\n",
      "[18:23:43] WARNING: /Users/runner/work/xgboost/xgboost/python-package/build/temp.macosx-10.9-x86_64-cpython-38/xgboost/src/learner.cc:767: \n",
      "Parameters: { \"learing_rate\" } are not used.\n",
      "\n",
      "[18:23:56] WARNING: /Users/runner/work/xgboost/xgboost/python-package/build/temp.macosx-10.9-x86_64-cpython-38/xgboost/src/learner.cc:767: \n",
      "Parameters: { \"learing_rate\" } are not used.\n",
      "\n",
      "[18:24:09] WARNING: /Users/runner/work/xgboost/xgboost/python-package/build/temp.macosx-10.9-x86_64-cpython-38/xgboost/src/learner.cc:767: \n",
      "Parameters: { \"learing_rate\" } are not used.\n",
      "\n",
      "[18:24:21] WARNING: /Users/runner/work/xgboost/xgboost/python-package/build/temp.macosx-10.9-x86_64-cpython-38/xgboost/src/learner.cc:767: \n",
      "Parameters: { \"learing_rate\" } are not used.\n",
      "\n",
      "[18:24:31] WARNING: /Users/runner/work/xgboost/xgboost/python-package/build/temp.macosx-10.9-x86_64-cpython-38/xgboost/src/learner.cc:767: \n",
      "Parameters: { \"learing_rate\" } are not used.\n",
      "\n",
      "[18:24:44] WARNING: /Users/runner/work/xgboost/xgboost/python-package/build/temp.macosx-10.9-x86_64-cpython-38/xgboost/src/learner.cc:767: \n",
      "Parameters: { \"learing_rate\" } are not used.\n",
      "\n",
      "[18:24:56] WARNING: /Users/runner/work/xgboost/xgboost/python-package/build/temp.macosx-10.9-x86_64-cpython-38/xgboost/src/learner.cc:767: \n",
      "Parameters: { \"learing_rate\" } are not used.\n",
      "\n",
      "[18:25:51] WARNING: /Users/runner/work/xgboost/xgboost/python-package/build/temp.macosx-10.9-x86_64-cpython-38/xgboost/src/learner.cc:767: \n",
      "Parameters: { \"learing_rate\" } are not used.\n",
      "\n",
      "[18:26:52] WARNING: /Users/runner/work/xgboost/xgboost/python-package/build/temp.macosx-10.9-x86_64-cpython-38/xgboost/src/learner.cc:767: \n",
      "Parameters: { \"learing_rate\" } are not used.\n",
      "\n",
      "[18:27:15] WARNING: /Users/runner/work/xgboost/xgboost/python-package/build/temp.macosx-10.9-x86_64-cpython-38/xgboost/src/learner.cc:767: \n",
      "Parameters: { \"learing_rate\" } are not used.\n",
      "\n",
      "[18:27:39] WARNING: /Users/runner/work/xgboost/xgboost/python-package/build/temp.macosx-10.9-x86_64-cpython-38/xgboost/src/learner.cc:767: \n",
      "Parameters: { \"learing_rate\" } are not used.\n",
      "\n",
      "[18:28:04] WARNING: /Users/runner/work/xgboost/xgboost/python-package/build/temp.macosx-10.9-x86_64-cpython-38/xgboost/src/learner.cc:767: \n",
      "Parameters: { \"learing_rate\" } are not used.\n",
      "\n",
      "[18:28:37] WARNING: /Users/runner/work/xgboost/xgboost/python-package/build/temp.macosx-10.9-x86_64-cpython-38/xgboost/src/learner.cc:767: \n",
      "Parameters: { \"learing_rate\" } are not used.\n",
      "\n",
      "[18:29:11] WARNING: /Users/runner/work/xgboost/xgboost/python-package/build/temp.macosx-10.9-x86_64-cpython-38/xgboost/src/learner.cc:767: \n",
      "Parameters: { \"learing_rate\" } are not used.\n",
      "\n",
      "[18:29:48] WARNING: /Users/runner/work/xgboost/xgboost/python-package/build/temp.macosx-10.9-x86_64-cpython-38/xgboost/src/learner.cc:767: \n",
      "Parameters: { \"learing_rate\" } are not used.\n",
      "\n",
      "[18:30:29] WARNING: /Users/runner/work/xgboost/xgboost/python-package/build/temp.macosx-10.9-x86_64-cpython-38/xgboost/src/learner.cc:767: \n",
      "Parameters: { \"learing_rate\" } are not used.\n",
      "\n",
      "[18:31:15] WARNING: /Users/runner/work/xgboost/xgboost/python-package/build/temp.macosx-10.9-x86_64-cpython-38/xgboost/src/learner.cc:767: \n",
      "Parameters: { \"learing_rate\" } are not used.\n",
      "\n"
     ]
    },
    {
     "name": "stdout",
     "output_type": "stream",
     "text": [
      "[18:09:32] WARNING: /Users/runner/work/xgboost/xgboost/python-package/build/temp.macosx-10.9-x86_64-cpython-38/xgboost/src/learner.cc:767: \n",
      "Parameters: { \"learing_rate\" } are not used.\n",
      "\n",
      "[18:09:45] WARNING: /Users/runner/work/xgboost/xgboost/python-package/build/temp.macosx-10.9-x86_64-cpython-38/xgboost/src/learner.cc:767: \n",
      "Parameters: { \"learing_rate\" } are not used.\n",
      "\n",
      "[18:09:58] WARNING: /Users/runner/work/xgboost/xgboost/python-package/build/temp.macosx-10.9-x86_64-cpython-38/xgboost/src/learner.cc:767: \n",
      "Parameters: { \"learing_rate\" } are not used.\n",
      "\n",
      "[18:10:07] WARNING: /Users/runner/work/xgboost/xgboost/python-package/build/temp.macosx-10.9-x86_64-cpython-38/xgboost/src/learner.cc:767: \n",
      "Parameters: { \"learing_rate\" } are not used.\n",
      "\n",
      "[18:10:24] WARNING: /Users/runner/work/xgboost/xgboost/python-package/build/temp.macosx-10.9-x86_64-cpython-38/xgboost/src/learner.cc:767: \n",
      "Parameters: { \"learing_rate\" } are not used.\n",
      "\n",
      "[18:10:40] WARNING: /Users/runner/work/xgboost/xgboost/python-package/build/temp.macosx-10.9-x86_64-cpython-38/xgboost/src/learner.cc:767: \n",
      "Parameters: { \"learing_rate\" } are not used.\n",
      "\n",
      "[18:11:13] WARNING: /Users/runner/work/xgboost/xgboost/python-package/build/temp.macosx-10.9-x86_64-cpython-38/xgboost/src/learner.cc:767: \n",
      "Parameters: { \"learing_rate\" } are not used.\n",
      "\n",
      "[18:11:52] WARNING: /Users/runner/work/xgboost/xgboost/python-package/build/temp.macosx-10.9-x86_64-cpython-38/xgboost/src/learner.cc:767: \n",
      "Parameters: { \"learing_rate\" } are not used.\n",
      "\n",
      "[18:12:15] WARNING: /Users/runner/work/xgboost/xgboost/python-package/build/temp.macosx-10.9-x86_64-cpython-38/xgboost/src/learner.cc:767: \n",
      "Parameters: { \"learing_rate\" } are not used.\n",
      "\n",
      "[18:12:24] WARNING: /Users/runner/work/xgboost/xgboost/python-package/build/temp.macosx-10.9-x86_64-cpython-38/xgboost/src/learner.cc:767: \n",
      "Parameters: { \"learing_rate\" } are not used.\n",
      "\n",
      "[18:12:52] WARNING: /Users/runner/work/xgboost/xgboost/python-package/build/temp.macosx-10.9-x86_64-cpython-38/xgboost/src/learner.cc:767: \n",
      "Parameters: { \"learing_rate\" } are not used.\n",
      "\n",
      "[18:13:02] WARNING: /Users/runner/work/xgboost/xgboost/python-package/build/temp.macosx-10.9-x86_64-cpython-38/xgboost/src/learner.cc:767: \n",
      "Parameters: { \"learing_rate\" } are not used.\n",
      "\n",
      "[18:13:11] WARNING: /Users/runner/work/xgboost/xgboost/python-package/build/temp.macosx-10.9-x86_64-cpython-38/xgboost/src/learner.cc:767: \n",
      "Parameters: { \"learing_rate\" } are not used.\n",
      "\n",
      "[18:14:03] WARNING: /Users/runner/work/xgboost/xgboost/python-package/build/temp.macosx-10.9-x86_64-cpython-38/xgboost/src/learner.cc:767: \n",
      "Parameters: { \"learing_rate\" } are not used.\n",
      "\n",
      "[18:15:05] WARNING: /Users/runner/work/xgboost/xgboost/python-package/build/temp.macosx-10.9-x86_64-cpython-38/xgboost/src/learner.cc:767: \n",
      "Parameters: { \"learing_rate\" } are not used.\n",
      "\n",
      "[18:15:21] WARNING: /Users/runner/work/xgboost/xgboost/python-package/build/temp.macosx-10.9-x86_64-cpython-38/xgboost/src/learner.cc:767: \n",
      "Parameters: { \"learing_rate\" } are not used.\n",
      "\n",
      "[18:15:36] WARNING: /Users/runner/work/xgboost/xgboost/python-package/build/temp.macosx-10.9-x86_64-cpython-38/xgboost/src/learner.cc:767: \n",
      "Parameters: { \"learing_rate\" } are not used.\n",
      "\n",
      "[18:15:49] WARNING: /Users/runner/work/xgboost/xgboost/python-package/build/temp.macosx-10.9-x86_64-cpython-38/xgboost/src/learner.cc:767: \n",
      "Parameters: { \"learing_rate\" } are not used.\n",
      "\n",
      "[18:16:06] WARNING: /Users/runner/work/xgboost/xgboost/python-package/build/temp.macosx-10.9-x86_64-cpython-38/xgboost/src/learner.cc:767: \n",
      "Parameters: { \"learing_rate\" } are not used.\n",
      "\n",
      "[18:16:51] WARNING: /Users/runner/work/xgboost/xgboost/python-package/build/temp.macosx-10.9-x86_64-cpython-38/xgboost/src/learner.cc:767: \n",
      "Parameters: { \"learing_rate\" } are not used.\n",
      "\n",
      "[18:18:05] WARNING: /Users/runner/work/xgboost/xgboost/python-package/build/temp.macosx-10.9-x86_64-cpython-38/xgboost/src/learner.cc:767: \n",
      "Parameters: { \"learing_rate\" } are not used.\n",
      "\n",
      "[18:19:22] WARNING: /Users/runner/work/xgboost/xgboost/python-package/build/temp.macosx-10.9-x86_64-cpython-38/xgboost/src/learner.cc:767: \n",
      "Parameters: { \"learing_rate\" } are not used.\n",
      "\n",
      "[18:19:45] WARNING: /Users/runner/work/xgboost/xgboost/python-package/build/temp.macosx-10.9-x86_64-cpython-38/xgboost/src/learner.cc:767: \n",
      "Parameters: { \"learing_rate\" } are not used.\n",
      "\n",
      "[18:19:51] WARNING: /Users/runner/work/xgboost/xgboost/python-package/build/temp.macosx-10.9-x86_64-cpython-38/xgboost/src/learner.cc:767: \n",
      "Parameters: { \"learing_rate\" } are not used.\n",
      "\n",
      "[18:20:26] WARNING: /Users/runner/work/xgboost/xgboost/python-package/build/temp.macosx-10.9-x86_64-cpython-38/xgboost/src/learner.cc:767: \n",
      "Parameters: { \"learing_rate\" } are not used.\n",
      "\n",
      "[18:21:14] WARNING: /Users/runner/work/xgboost/xgboost/python-package/build/temp.macosx-10.9-x86_64-cpython-38/xgboost/src/learner.cc:767: \n",
      "Parameters: { \"learing_rate\" } are not used.\n",
      "\n",
      "[18:22:29] WARNING: /Users/runner/work/xgboost/xgboost/python-package/build/temp.macosx-10.9-x86_64-cpython-38/xgboost/src/learner.cc:767: \n",
      "Parameters: { \"learing_rate\" } are not used.\n",
      "\n",
      "[18:23:01] WARNING: /Users/runner/work/xgboost/xgboost/python-package/build/temp.macosx-10.9-x86_64-cpython-38/xgboost/src/learner.cc:767: \n",
      "Parameters: { \"learing_rate\" } are not used.\n",
      "\n",
      "[18:23:14] WARNING: /Users/runner/work/xgboost/xgboost/python-package/build/temp.macosx-10.9-x86_64-cpython-38/xgboost/src/learner.cc:767: \n",
      "Parameters: { \"learing_rate\" } are not used.\n",
      "\n",
      "[18:23:40] WARNING: /Users/runner/work/xgboost/xgboost/python-package/build/temp.macosx-10.9-x86_64-cpython-38/xgboost/src/learner.cc:767: \n",
      "Parameters: { \"learing_rate\" } are not used.\n",
      "\n",
      "[18:24:22] WARNING: /Users/runner/work/xgboost/xgboost/python-package/build/temp.macosx-10.9-x86_64-cpython-38/xgboost/src/learner.cc:767: \n",
      "Parameters: { \"learing_rate\" } are not used.\n",
      "\n",
      "[18:24:31] WARNING: /Users/runner/work/xgboost/xgboost/python-package/build/temp.macosx-10.9-x86_64-cpython-38/xgboost/src/learner.cc:767: \n",
      "Parameters: { \"learing_rate\" } are not used.\n",
      "\n",
      "[18:24:47] WARNING: /Users/runner/work/xgboost/xgboost/python-package/build/temp.macosx-10.9-x86_64-cpython-38/xgboost/src/learner.cc:767: \n",
      "Parameters: { \"learing_rate\" } are not used.\n",
      "\n",
      "[18:24:59] WARNING: /Users/runner/work/xgboost/xgboost/python-package/build/temp.macosx-10.9-x86_64-cpython-38/xgboost/src/learner.cc:767: \n",
      "Parameters: { \"learing_rate\" } are not used.\n",
      "\n",
      "[18:25:54] WARNING: /Users/runner/work/xgboost/xgboost/python-package/build/temp.macosx-10.9-x86_64-cpython-38/xgboost/src/learner.cc:767: \n",
      "Parameters: { \"learing_rate\" } are not used.\n",
      "\n",
      "[18:26:52] WARNING: /Users/runner/work/xgboost/xgboost/python-package/build/temp.macosx-10.9-x86_64-cpython-38/xgboost/src/learner.cc:767: \n",
      "Parameters: { \"learing_rate\" } are not used.\n",
      "\n",
      "[18:27:15] WARNING: /Users/runner/work/xgboost/xgboost/python-package/build/temp.macosx-10.9-x86_64-cpython-38/xgboost/src/learner.cc:767: \n",
      "Parameters: { \"learing_rate\" } are not used.\n",
      "\n",
      "[18:27:39] WARNING: /Users/runner/work/xgboost/xgboost/python-package/build/temp.macosx-10.9-x86_64-cpython-38/xgboost/src/learner.cc:767: \n",
      "Parameters: { \"learing_rate\" } are not used.\n",
      "\n",
      "[18:28:05] WARNING: /Users/runner/work/xgboost/xgboost/python-package/build/temp.macosx-10.9-x86_64-cpython-38/xgboost/src/learner.cc:767: \n",
      "Parameters: { \"learing_rate\" } are not used.\n",
      "\n",
      "[18:28:39] WARNING: /Users/runner/work/xgboost/xgboost/python-package/build/temp.macosx-10.9-x86_64-cpython-38/xgboost/src/learner.cc:767: \n",
      "Parameters: { \"learing_rate\" } are not used.\n",
      "\n",
      "[18:29:13] WARNING: /Users/runner/work/xgboost/xgboost/python-package/build/temp.macosx-10.9-x86_64-cpython-38/xgboost/src/learner.cc:767: \n",
      "Parameters: { \"learing_rate\" } are not used.\n",
      "\n",
      "[18:29:50] WARNING: /Users/runner/work/xgboost/xgboost/python-package/build/temp.macosx-10.9-x86_64-cpython-38/xgboost/src/learner.cc:767: \n",
      "Parameters: { \"learing_rate\" } are not used.\n",
      "\n",
      "[18:30:32] WARNING: /Users/runner/work/xgboost/xgboost/python-package/build/temp.macosx-10.9-x86_64-cpython-38/xgboost/src/learner.cc:767: \n",
      "Parameters: { \"learing_rate\" } are not used.\n",
      "\n",
      "[18:31:18] WARNING: /Users/runner/work/xgboost/xgboost/python-package/build/temp.macosx-10.9-x86_64-cpython-38/xgboost/src/learner.cc:767: \n",
      "Parameters: { \"learing_rate\" } are not used.\n",
      "\n",
      "[18:09:32] WARNING: /Users/runner/work/xgboost/xgboost/python-package/build/temp.macosx-10.9-x86_64-cpython-38/xgboost/src/learner.cc:767: \n",
      "Parameters: { \"learing_rate\" } are not used.\n",
      "\n",
      "[18:10:47] WARNING: /Users/runner/work/xgboost/xgboost/python-package/build/temp.macosx-10.9-x86_64-cpython-38/xgboost/src/learner.cc:767: \n",
      "Parameters: { \"learing_rate\" } are not used.\n",
      "\n",
      "[18:11:20] WARNING: /Users/runner/work/xgboost/xgboost/python-package/build/temp.macosx-10.9-x86_64-cpython-38/xgboost/src/learner.cc:767: \n",
      "Parameters: { \"learing_rate\" } are not used.\n",
      "\n",
      "[18:11:41] WARNING: /Users/runner/work/xgboost/xgboost/python-package/build/temp.macosx-10.9-x86_64-cpython-38/xgboost/src/learner.cc:767: \n",
      "Parameters: { \"learing_rate\" } are not used.\n",
      "\n",
      "[18:12:03] WARNING: /Users/runner/work/xgboost/xgboost/python-package/build/temp.macosx-10.9-x86_64-cpython-38/xgboost/src/learner.cc:767: \n",
      "Parameters: { \"learing_rate\" } are not used.\n",
      "\n",
      "[18:12:09] WARNING: /Users/runner/work/xgboost/xgboost/python-package/build/temp.macosx-10.9-x86_64-cpython-38/xgboost/src/learner.cc:767: \n",
      "Parameters: { \"learing_rate\" } are not used.\n",
      "\n",
      "[18:12:15] WARNING: /Users/runner/work/xgboost/xgboost/python-package/build/temp.macosx-10.9-x86_64-cpython-38/xgboost/src/learner.cc:767: \n",
      "Parameters: { \"learing_rate\" } are not used.\n",
      "\n",
      "[18:12:31] WARNING: /Users/runner/work/xgboost/xgboost/python-package/build/temp.macosx-10.9-x86_64-cpython-38/xgboost/src/learner.cc:767: \n",
      "Parameters: { \"learing_rate\" } are not used.\n",
      "\n",
      "[18:12:59] WARNING: /Users/runner/work/xgboost/xgboost/python-package/build/temp.macosx-10.9-x86_64-cpython-38/xgboost/src/learner.cc:767: \n",
      "Parameters: { \"learing_rate\" } are not used.\n",
      "\n",
      "[18:13:09] WARNING: /Users/runner/work/xgboost/xgboost/python-package/build/temp.macosx-10.9-x86_64-cpython-38/xgboost/src/learner.cc:767: \n",
      "Parameters: { \"learing_rate\" } are not used.\n",
      "\n",
      "[18:13:18] WARNING: /Users/runner/work/xgboost/xgboost/python-package/build/temp.macosx-10.9-x86_64-cpython-38/xgboost/src/learner.cc:767: \n",
      "Parameters: { \"learing_rate\" } are not used.\n",
      "\n",
      "[18:14:10] WARNING: /Users/runner/work/xgboost/xgboost/python-package/build/temp.macosx-10.9-x86_64-cpython-38/xgboost/src/learner.cc:767: \n",
      "Parameters: { \"learing_rate\" } are not used.\n",
      "\n",
      "[18:14:13] WARNING: /Users/runner/work/xgboost/xgboost/python-package/build/temp.macosx-10.9-x86_64-cpython-38/xgboost/src/learner.cc:767: \n",
      "Parameters: { \"learing_rate\" } are not used.\n",
      "\n",
      "[18:14:17] WARNING: /Users/runner/work/xgboost/xgboost/python-package/build/temp.macosx-10.9-x86_64-cpython-38/xgboost/src/learner.cc:767: \n",
      "Parameters: { \"learing_rate\" } are not used.\n",
      "\n",
      "[18:14:20] WARNING: /Users/runner/work/xgboost/xgboost/python-package/build/temp.macosx-10.9-x86_64-cpython-38/xgboost/src/learner.cc:767: \n",
      "Parameters: { \"learing_rate\" } are not used.\n",
      "\n",
      "[18:14:37] WARNING: /Users/runner/work/xgboost/xgboost/python-package/build/temp.macosx-10.9-x86_64-cpython-38/xgboost/src/learner.cc:767: \n",
      "Parameters: { \"learing_rate\" } are not used.\n",
      "\n",
      "[18:14:54] WARNING: /Users/runner/work/xgboost/xgboost/python-package/build/temp.macosx-10.9-x86_64-cpython-38/xgboost/src/learner.cc:767: \n",
      "Parameters: { \"learing_rate\" } are not used.\n",
      "\n",
      "[18:15:23] WARNING: /Users/runner/work/xgboost/xgboost/python-package/build/temp.macosx-10.9-x86_64-cpython-38/xgboost/src/learner.cc:767: \n",
      "Parameters: { \"learing_rate\" } are not used.\n",
      "\n",
      "[18:15:55] WARNING: /Users/runner/work/xgboost/xgboost/python-package/build/temp.macosx-10.9-x86_64-cpython-38/xgboost/src/learner.cc:767: \n",
      "Parameters: { \"learing_rate\" } are not used.\n",
      "\n",
      "[18:16:12] WARNING: /Users/runner/work/xgboost/xgboost/python-package/build/temp.macosx-10.9-x86_64-cpython-38/xgboost/src/learner.cc:767: \n",
      "Parameters: { \"learing_rate\" } are not used.\n",
      "\n",
      "[18:16:18] WARNING: /Users/runner/work/xgboost/xgboost/python-package/build/temp.macosx-10.9-x86_64-cpython-38/xgboost/src/learner.cc:767: \n",
      "Parameters: { \"learing_rate\" } are not used.\n",
      "\n",
      "[18:16:54] WARNING: /Users/runner/work/xgboost/xgboost/python-package/build/temp.macosx-10.9-x86_64-cpython-38/xgboost/src/learner.cc:767: \n",
      "Parameters: { \"learing_rate\" } are not used.\n",
      "\n",
      "[18:18:08] WARNING: /Users/runner/work/xgboost/xgboost/python-package/build/temp.macosx-10.9-x86_64-cpython-38/xgboost/src/learner.cc:767: \n",
      "Parameters: { \"learing_rate\" } are not used.\n",
      "\n",
      "[18:18:24] WARNING: /Users/runner/work/xgboost/xgboost/python-package/build/temp.macosx-10.9-x86_64-cpython-38/xgboost/src/learner.cc:767: \n",
      "Parameters: { \"learing_rate\" } are not used.\n",
      "\n",
      "[18:18:40] WARNING: /Users/runner/work/xgboost/xgboost/python-package/build/temp.macosx-10.9-x86_64-cpython-38/xgboost/src/learner.cc:767: \n",
      "Parameters: { \"learing_rate\" } are not used.\n",
      "\n",
      "[18:19:03] WARNING: /Users/runner/work/xgboost/xgboost/python-package/build/temp.macosx-10.9-x86_64-cpython-38/xgboost/src/learner.cc:767: \n",
      "Parameters: { \"learing_rate\" } are not used.\n",
      "\n",
      "[18:19:27] WARNING: /Users/runner/work/xgboost/xgboost/python-package/build/temp.macosx-10.9-x86_64-cpython-38/xgboost/src/learner.cc:767: \n",
      "Parameters: { \"learing_rate\" } are not used.\n",
      "\n",
      "[18:19:57] WARNING: /Users/runner/work/xgboost/xgboost/python-package/build/temp.macosx-10.9-x86_64-cpython-38/xgboost/src/learner.cc:767: \n",
      "Parameters: { \"learing_rate\" } are not used.\n",
      "\n",
      "[18:20:08] WARNING: /Users/runner/work/xgboost/xgboost/python-package/build/temp.macosx-10.9-x86_64-cpython-38/xgboost/src/learner.cc:767: \n",
      "Parameters: { \"learing_rate\" } are not used.\n",
      "\n",
      "[18:20:20] WARNING: /Users/runner/work/xgboost/xgboost/python-package/build/temp.macosx-10.9-x86_64-cpython-38/xgboost/src/learner.cc:767: \n",
      "Parameters: { \"learing_rate\" } are not used.\n",
      "\n",
      "[18:21:07] WARNING: /Users/runner/work/xgboost/xgboost/python-package/build/temp.macosx-10.9-x86_64-cpython-38/xgboost/src/learner.cc:767: \n",
      "Parameters: { \"learing_rate\" } are not used.\n",
      "\n",
      "[18:22:23] WARNING: /Users/runner/work/xgboost/xgboost/python-package/build/temp.macosx-10.9-x86_64-cpython-38/xgboost/src/learner.cc:767: \n",
      "Parameters: { \"learing_rate\" } are not used.\n",
      "\n",
      "[18:23:06] WARNING: /Users/runner/work/xgboost/xgboost/python-package/build/temp.macosx-10.9-x86_64-cpython-38/xgboost/src/learner.cc:767: \n",
      "Parameters: { \"learing_rate\" } are not used.\n",
      "\n",
      "[18:23:19] WARNING: /Users/runner/work/xgboost/xgboost/python-package/build/temp.macosx-10.9-x86_64-cpython-38/xgboost/src/learner.cc:767: \n",
      "Parameters: { \"learing_rate\" } are not used.\n",
      "\n",
      "[18:23:45] WARNING: /Users/runner/work/xgboost/xgboost/python-package/build/temp.macosx-10.9-x86_64-cpython-38/xgboost/src/learner.cc:767: \n",
      "Parameters: { \"learing_rate\" } are not used.\n",
      "\n",
      "[18:23:59] WARNING: /Users/runner/work/xgboost/xgboost/python-package/build/temp.macosx-10.9-x86_64-cpython-38/xgboost/src/learner.cc:767: \n",
      "Parameters: { \"learing_rate\" } are not used.\n",
      "\n",
      "[18:24:05] WARNING: /Users/runner/work/xgboost/xgboost/python-package/build/temp.macosx-10.9-x86_64-cpython-38/xgboost/src/learner.cc:767: \n",
      "Parameters: { \"learing_rate\" } are not used.\n",
      "\n",
      "[18:24:11] WARNING: /Users/runner/work/xgboost/xgboost/python-package/build/temp.macosx-10.9-x86_64-cpython-38/xgboost/src/learner.cc:767: \n",
      "Parameters: { \"learing_rate\" } are not used.\n",
      "\n",
      "[18:24:24] WARNING: /Users/runner/work/xgboost/xgboost/python-package/build/temp.macosx-10.9-x86_64-cpython-38/xgboost/src/learner.cc:767: \n",
      "Parameters: { \"learing_rate\" } are not used.\n",
      "\n",
      "[18:24:37] WARNING: /Users/runner/work/xgboost/xgboost/python-package/build/temp.macosx-10.9-x86_64-cpython-38/xgboost/src/learner.cc:767: \n",
      "Parameters: { \"learing_rate\" } are not used.\n",
      "\n",
      "[18:24:52] WARNING: /Users/runner/work/xgboost/xgboost/python-package/build/temp.macosx-10.9-x86_64-cpython-38/xgboost/src/learner.cc:767: \n",
      "Parameters: { \"learing_rate\" } are not used.\n",
      "\n",
      "[18:25:03] WARNING: /Users/runner/work/xgboost/xgboost/python-package/build/temp.macosx-10.9-x86_64-cpython-38/xgboost/src/learner.cc:767: \n",
      "Parameters: { \"learing_rate\" } are not used.\n",
      "\n",
      "[18:26:03] WARNING: /Users/runner/work/xgboost/xgboost/python-package/build/temp.macosx-10.9-x86_64-cpython-38/xgboost/src/learner.cc:767: \n",
      "Parameters: { \"learing_rate\" } are not used.\n",
      "\n",
      "[18:26:10] WARNING: /Users/runner/work/xgboost/xgboost/python-package/build/temp.macosx-10.9-x86_64-cpython-38/xgboost/src/learner.cc:767: \n",
      "Parameters: { \"learing_rate\" } are not used.\n",
      "\n",
      "[18:26:17] WARNING: /Users/runner/work/xgboost/xgboost/python-package/build/temp.macosx-10.9-x86_64-cpython-38/xgboost/src/learner.cc:767: \n",
      "Parameters: { \"learing_rate\" } are not used.\n",
      "\n",
      "[18:26:23] WARNING: /Users/runner/work/xgboost/xgboost/python-package/build/temp.macosx-10.9-x86_64-cpython-38/xgboost/src/learner.cc:767: \n",
      "Parameters: { \"learing_rate\" } are not used.\n",
      "\n",
      "[18:26:52] WARNING: /Users/runner/work/xgboost/xgboost/python-package/build/temp.macosx-10.9-x86_64-cpython-38/xgboost/src/learner.cc:767: \n",
      "Parameters: { \"learing_rate\" } are not used.\n",
      "\n",
      "[18:27:15] WARNING: /Users/runner/work/xgboost/xgboost/python-package/build/temp.macosx-10.9-x86_64-cpython-38/xgboost/src/learner.cc:767: \n",
      "Parameters: { \"learing_rate\" } are not used.\n",
      "\n",
      "[18:27:40] WARNING: /Users/runner/work/xgboost/xgboost/python-package/build/temp.macosx-10.9-x86_64-cpython-38/xgboost/src/learner.cc:767: \n",
      "Parameters: { \"learing_rate\" } are not used.\n",
      "\n",
      "[18:28:05] WARNING: /Users/runner/work/xgboost/xgboost/python-package/build/temp.macosx-10.9-x86_64-cpython-38/xgboost/src/learner.cc:767: \n",
      "Parameters: { \"learing_rate\" } are not used.\n",
      "\n",
      "[18:28:39] WARNING: /Users/runner/work/xgboost/xgboost/python-package/build/temp.macosx-10.9-x86_64-cpython-38/xgboost/src/learner.cc:767: \n",
      "Parameters: { \"learing_rate\" } are not used.\n",
      "\n",
      "[18:29:14] WARNING: /Users/runner/work/xgboost/xgboost/python-package/build/temp.macosx-10.9-x86_64-cpython-38/xgboost/src/learner.cc:767: \n",
      "Parameters: { \"learing_rate\" } are not used.\n",
      "\n",
      "[18:29:51] WARNING: /Users/runner/work/xgboost/xgboost/python-package/build/temp.macosx-10.9-x86_64-cpython-38/xgboost/src/learner.cc:767: \n",
      "Parameters: { \"learing_rate\" } are not used.\n",
      "\n",
      "[18:30:34] WARNING: /Users/runner/work/xgboost/xgboost/python-package/build/temp.macosx-10.9-x86_64-cpython-38/xgboost/src/learner.cc:767: \n",
      "Parameters: { \"learing_rate\" } are not used.\n",
      "\n",
      "[18:31:20] WARNING: /Users/runner/work/xgboost/xgboost/python-package/build/temp.macosx-10.9-x86_64-cpython-38/xgboost/src/learner.cc:767: \n",
      "Parameters: { \"learing_rate\" } are not used.\n",
      "\n"
     ]
    },
    {
     "name": "stdout",
     "output_type": "stream",
     "text": [
      "[18:09:32] WARNING: /Users/runner/work/xgboost/xgboost/python-package/build/temp.macosx-10.9-x86_64-cpython-38/xgboost/src/learner.cc:767: \n",
      "Parameters: { \"learing_rate\" } are not used.\n",
      "\n",
      "[18:10:47] WARNING: /Users/runner/work/xgboost/xgboost/python-package/build/temp.macosx-10.9-x86_64-cpython-38/xgboost/src/learner.cc:767: \n",
      "Parameters: { \"learing_rate\" } are not used.\n",
      "\n",
      "[18:11:20] WARNING: /Users/runner/work/xgboost/xgboost/python-package/build/temp.macosx-10.9-x86_64-cpython-38/xgboost/src/learner.cc:767: \n",
      "Parameters: { \"learing_rate\" } are not used.\n",
      "\n",
      "[18:11:59] WARNING: /Users/runner/work/xgboost/xgboost/python-package/build/temp.macosx-10.9-x86_64-cpython-38/xgboost/src/learner.cc:767: \n",
      "Parameters: { \"learing_rate\" } are not used.\n",
      "\n",
      "[18:12:06] WARNING: /Users/runner/work/xgboost/xgboost/python-package/build/temp.macosx-10.9-x86_64-cpython-38/xgboost/src/learner.cc:767: \n",
      "Parameters: { \"learing_rate\" } are not used.\n",
      "\n",
      "[18:12:12] WARNING: /Users/runner/work/xgboost/xgboost/python-package/build/temp.macosx-10.9-x86_64-cpython-38/xgboost/src/learner.cc:767: \n",
      "Parameters: { \"learing_rate\" } are not used.\n",
      "\n",
      "[18:12:18] WARNING: /Users/runner/work/xgboost/xgboost/python-package/build/temp.macosx-10.9-x86_64-cpython-38/xgboost/src/learner.cc:767: \n",
      "Parameters: { \"learing_rate\" } are not used.\n",
      "\n",
      "[18:12:34] WARNING: /Users/runner/work/xgboost/xgboost/python-package/build/temp.macosx-10.9-x86_64-cpython-38/xgboost/src/learner.cc:767: \n",
      "Parameters: { \"learing_rate\" } are not used.\n",
      "\n",
      "[18:13:16] WARNING: /Users/runner/work/xgboost/xgboost/python-package/build/temp.macosx-10.9-x86_64-cpython-38/xgboost/src/learner.cc:767: \n",
      "Parameters: { \"learing_rate\" } are not used.\n",
      "\n",
      "[18:14:08] WARNING: /Users/runner/work/xgboost/xgboost/python-package/build/temp.macosx-10.9-x86_64-cpython-38/xgboost/src/learner.cc:767: \n",
      "Parameters: { \"learing_rate\" } are not used.\n",
      "\n",
      "[18:15:09] WARNING: /Users/runner/work/xgboost/xgboost/python-package/build/temp.macosx-10.9-x86_64-cpython-38/xgboost/src/learner.cc:767: \n",
      "Parameters: { \"learing_rate\" } are not used.\n",
      "\n",
      "[18:15:25] WARNING: /Users/runner/work/xgboost/xgboost/python-package/build/temp.macosx-10.9-x86_64-cpython-38/xgboost/src/learner.cc:767: \n",
      "Parameters: { \"learing_rate\" } are not used.\n",
      "\n",
      "[18:15:57] WARNING: /Users/runner/work/xgboost/xgboost/python-package/build/temp.macosx-10.9-x86_64-cpython-38/xgboost/src/learner.cc:767: \n",
      "Parameters: { \"learing_rate\" } are not used.\n",
      "\n",
      "[18:16:42] WARNING: /Users/runner/work/xgboost/xgboost/python-package/build/temp.macosx-10.9-x86_64-cpython-38/xgboost/src/learner.cc:767: \n",
      "Parameters: { \"learing_rate\" } are not used.\n",
      "\n",
      "[18:17:18] WARNING: /Users/runner/work/xgboost/xgboost/python-package/build/temp.macosx-10.9-x86_64-cpython-38/xgboost/src/learner.cc:767: \n",
      "Parameters: { \"learing_rate\" } are not used.\n",
      "\n",
      "[18:18:34] WARNING: /Users/runner/work/xgboost/xgboost/python-package/build/temp.macosx-10.9-x86_64-cpython-38/xgboost/src/learner.cc:767: \n",
      "Parameters: { \"learing_rate\" } are not used.\n",
      "\n",
      "[18:19:27] WARNING: /Users/runner/work/xgboost/xgboost/python-package/build/temp.macosx-10.9-x86_64-cpython-38/xgboost/src/learner.cc:767: \n",
      "Parameters: { \"learing_rate\" } are not used.\n",
      "\n",
      "[18:19:57] WARNING: /Users/runner/work/xgboost/xgboost/python-package/build/temp.macosx-10.9-x86_64-cpython-38/xgboost/src/learner.cc:767: \n",
      "Parameters: { \"learing_rate\" } are not used.\n",
      "\n",
      "[18:20:09] WARNING: /Users/runner/work/xgboost/xgboost/python-package/build/temp.macosx-10.9-x86_64-cpython-38/xgboost/src/learner.cc:767: \n",
      "Parameters: { \"learing_rate\" } are not used.\n",
      "\n",
      "[18:20:20] WARNING: /Users/runner/work/xgboost/xgboost/python-package/build/temp.macosx-10.9-x86_64-cpython-38/xgboost/src/learner.cc:767: \n",
      "Parameters: { \"learing_rate\" } are not used.\n",
      "\n",
      "[18:21:07] WARNING: /Users/runner/work/xgboost/xgboost/python-package/build/temp.macosx-10.9-x86_64-cpython-38/xgboost/src/learner.cc:767: \n",
      "Parameters: { \"learing_rate\" } are not used.\n",
      "\n",
      "[18:22:10] WARNING: /Users/runner/work/xgboost/xgboost/python-package/build/temp.macosx-10.9-x86_64-cpython-38/xgboost/src/learner.cc:767: \n",
      "Parameters: { \"learing_rate\" } are not used.\n",
      "\n",
      "[18:22:53] WARNING: /Users/runner/work/xgboost/xgboost/python-package/build/temp.macosx-10.9-x86_64-cpython-38/xgboost/src/learner.cc:767: \n",
      "Parameters: { \"learing_rate\" } are not used.\n",
      "\n",
      "[18:23:23] WARNING: /Users/runner/work/xgboost/xgboost/python-package/build/temp.macosx-10.9-x86_64-cpython-38/xgboost/src/learner.cc:767: \n",
      "Parameters: { \"learing_rate\" } are not used.\n",
      "\n",
      "[18:24:04] WARNING: /Users/runner/work/xgboost/xgboost/python-package/build/temp.macosx-10.9-x86_64-cpython-38/xgboost/src/learner.cc:767: \n",
      "Parameters: { \"learing_rate\" } are not used.\n",
      "\n",
      "[18:24:11] WARNING: /Users/runner/work/xgboost/xgboost/python-package/build/temp.macosx-10.9-x86_64-cpython-38/xgboost/src/learner.cc:767: \n",
      "Parameters: { \"learing_rate\" } are not used.\n",
      "\n",
      "[18:24:24] WARNING: /Users/runner/work/xgboost/xgboost/python-package/build/temp.macosx-10.9-x86_64-cpython-38/xgboost/src/learner.cc:767: \n",
      "Parameters: { \"learing_rate\" } are not used.\n",
      "\n",
      "[18:24:37] WARNING: /Users/runner/work/xgboost/xgboost/python-package/build/temp.macosx-10.9-x86_64-cpython-38/xgboost/src/learner.cc:767: \n",
      "Parameters: { \"learing_rate\" } are not used.\n",
      "\n",
      "[18:24:52] WARNING: /Users/runner/work/xgboost/xgboost/python-package/build/temp.macosx-10.9-x86_64-cpython-38/xgboost/src/learner.cc:767: \n",
      "Parameters: { \"learing_rate\" } are not used.\n",
      "\n",
      "[18:25:03] WARNING: /Users/runner/work/xgboost/xgboost/python-package/build/temp.macosx-10.9-x86_64-cpython-38/xgboost/src/learner.cc:767: \n",
      "Parameters: { \"learing_rate\" } are not used.\n",
      "\n",
      "[18:26:03] WARNING: /Users/runner/work/xgboost/xgboost/python-package/build/temp.macosx-10.9-x86_64-cpython-38/xgboost/src/learner.cc:767: \n",
      "Parameters: { \"learing_rate\" } are not used.\n",
      "\n",
      "[18:26:52] WARNING: /Users/runner/work/xgboost/xgboost/python-package/build/temp.macosx-10.9-x86_64-cpython-38/xgboost/src/learner.cc:767: \n",
      "Parameters: { \"learing_rate\" } are not used.\n",
      "\n",
      "[18:27:14] WARNING: /Users/runner/work/xgboost/xgboost/python-package/build/temp.macosx-10.9-x86_64-cpython-38/xgboost/src/learner.cc:767: \n",
      "Parameters: { \"learing_rate\" } are not used.\n",
      "\n",
      "[18:27:37] WARNING: /Users/runner/work/xgboost/xgboost/python-package/build/temp.macosx-10.9-x86_64-cpython-38/xgboost/src/learner.cc:767: \n",
      "Parameters: { \"learing_rate\" } are not used.\n",
      "\n",
      "[18:28:02] WARNING: /Users/runner/work/xgboost/xgboost/python-package/build/temp.macosx-10.9-x86_64-cpython-38/xgboost/src/learner.cc:767: \n",
      "Parameters: { \"learing_rate\" } are not used.\n",
      "\n",
      "[18:28:28] WARNING: /Users/runner/work/xgboost/xgboost/python-package/build/temp.macosx-10.9-x86_64-cpython-38/xgboost/src/learner.cc:767: \n",
      "Parameters: { \"learing_rate\" } are not used.\n",
      "\n",
      "[18:29:01] WARNING: /Users/runner/work/xgboost/xgboost/python-package/build/temp.macosx-10.9-x86_64-cpython-38/xgboost/src/learner.cc:767: \n",
      "Parameters: { \"learing_rate\" } are not used.\n",
      "\n",
      "[18:29:36] WARNING: /Users/runner/work/xgboost/xgboost/python-package/build/temp.macosx-10.9-x86_64-cpython-38/xgboost/src/learner.cc:767: \n",
      "Parameters: { \"learing_rate\" } are not used.\n",
      "\n",
      "[18:30:13] WARNING: /Users/runner/work/xgboost/xgboost/python-package/build/temp.macosx-10.9-x86_64-cpython-38/xgboost/src/learner.cc:767: \n",
      "Parameters: { \"learing_rate\" } are not used.\n",
      "\n",
      "[18:30:57] WARNING: /Users/runner/work/xgboost/xgboost/python-package/build/temp.macosx-10.9-x86_64-cpython-38/xgboost/src/learner.cc:767: \n",
      "Parameters: { \"learing_rate\" } are not used.\n",
      "\n",
      "[18:31:43] WARNING: /Users/runner/work/xgboost/xgboost/python-package/build/temp.macosx-10.9-x86_64-cpython-38/xgboost/src/learner.cc:767: \n",
      "Parameters: { \"learing_rate\" } are not used.\n",
      "\n",
      "[18:09:32] WARNING: /Users/runner/work/xgboost/xgboost/python-package/build/temp.macosx-10.9-x86_64-cpython-38/xgboost/src/learner.cc:767: \n",
      "Parameters: { \"learing_rate\" } are not used.\n",
      "\n",
      "[18:09:45] WARNING: /Users/runner/work/xgboost/xgboost/python-package/build/temp.macosx-10.9-x86_64-cpython-38/xgboost/src/learner.cc:767: \n",
      "Parameters: { \"learing_rate\" } are not used.\n",
      "\n",
      "[18:09:55] WARNING: /Users/runner/work/xgboost/xgboost/python-package/build/temp.macosx-10.9-x86_64-cpython-38/xgboost/src/learner.cc:767: \n",
      "Parameters: { \"learing_rate\" } are not used.\n",
      "\n",
      "[18:10:05] WARNING: /Users/runner/work/xgboost/xgboost/python-package/build/temp.macosx-10.9-x86_64-cpython-38/xgboost/src/learner.cc:767: \n",
      "Parameters: { \"learing_rate\" } are not used.\n",
      "\n",
      "[18:10:14] WARNING: /Users/runner/work/xgboost/xgboost/python-package/build/temp.macosx-10.9-x86_64-cpython-38/xgboost/src/learner.cc:767: \n",
      "Parameters: { \"learing_rate\" } are not used.\n",
      "\n",
      "[18:10:30] WARNING: /Users/runner/work/xgboost/xgboost/python-package/build/temp.macosx-10.9-x86_64-cpython-38/xgboost/src/learner.cc:767: \n",
      "Parameters: { \"learing_rate\" } are not used.\n",
      "\n",
      "[18:11:04] WARNING: /Users/runner/work/xgboost/xgboost/python-package/build/temp.macosx-10.9-x86_64-cpython-38/xgboost/src/learner.cc:767: \n",
      "Parameters: { \"learing_rate\" } are not used.\n",
      "\n",
      "[18:11:22] WARNING: /Users/runner/work/xgboost/xgboost/python-package/build/temp.macosx-10.9-x86_64-cpython-38/xgboost/src/learner.cc:767: \n",
      "Parameters: { \"learing_rate\" } are not used.\n",
      "\n",
      "[18:11:43] WARNING: /Users/runner/work/xgboost/xgboost/python-package/build/temp.macosx-10.9-x86_64-cpython-38/xgboost/src/learner.cc:767: \n",
      "Parameters: { \"learing_rate\" } are not used.\n",
      "\n",
      "[18:12:05] WARNING: /Users/runner/work/xgboost/xgboost/python-package/build/temp.macosx-10.9-x86_64-cpython-38/xgboost/src/learner.cc:767: \n",
      "Parameters: { \"learing_rate\" } are not used.\n",
      "\n",
      "[18:12:11] WARNING: /Users/runner/work/xgboost/xgboost/python-package/build/temp.macosx-10.9-x86_64-cpython-38/xgboost/src/learner.cc:767: \n",
      "Parameters: { \"learing_rate\" } are not used.\n",
      "\n",
      "[18:12:17] WARNING: /Users/runner/work/xgboost/xgboost/python-package/build/temp.macosx-10.9-x86_64-cpython-38/xgboost/src/learner.cc:767: \n",
      "Parameters: { \"learing_rate\" } are not used.\n",
      "\n",
      "[18:12:33] WARNING: /Users/runner/work/xgboost/xgboost/python-package/build/temp.macosx-10.9-x86_64-cpython-38/xgboost/src/learner.cc:767: \n",
      "Parameters: { \"learing_rate\" } are not used.\n",
      "\n",
      "[18:13:01] WARNING: /Users/runner/work/xgboost/xgboost/python-package/build/temp.macosx-10.9-x86_64-cpython-38/xgboost/src/learner.cc:767: \n",
      "Parameters: { \"learing_rate\" } are not used.\n",
      "\n",
      "[18:13:10] WARNING: /Users/runner/work/xgboost/xgboost/python-package/build/temp.macosx-10.9-x86_64-cpython-38/xgboost/src/learner.cc:767: \n",
      "Parameters: { \"learing_rate\" } are not used.\n",
      "\n",
      "[18:14:02] WARNING: /Users/runner/work/xgboost/xgboost/python-package/build/temp.macosx-10.9-x86_64-cpython-38/xgboost/src/learner.cc:767: \n",
      "Parameters: { \"learing_rate\" } are not used.\n",
      "\n",
      "[18:15:04] WARNING: /Users/runner/work/xgboost/xgboost/python-package/build/temp.macosx-10.9-x86_64-cpython-38/xgboost/src/learner.cc:767: \n",
      "Parameters: { \"learing_rate\" } are not used.\n",
      "\n",
      "[18:15:34] WARNING: /Users/runner/work/xgboost/xgboost/python-package/build/temp.macosx-10.9-x86_64-cpython-38/xgboost/src/learner.cc:767: \n",
      "Parameters: { \"learing_rate\" } are not used.\n",
      "\n",
      "[18:15:46] WARNING: /Users/runner/work/xgboost/xgboost/python-package/build/temp.macosx-10.9-x86_64-cpython-38/xgboost/src/learner.cc:767: \n",
      "Parameters: { \"learing_rate\" } are not used.\n",
      "\n",
      "[18:15:59] WARNING: /Users/runner/work/xgboost/xgboost/python-package/build/temp.macosx-10.9-x86_64-cpython-38/xgboost/src/learner.cc:767: \n",
      "Parameters: { \"learing_rate\" } are not used.\n",
      "\n",
      "[18:16:45] WARNING: /Users/runner/work/xgboost/xgboost/python-package/build/temp.macosx-10.9-x86_64-cpython-38/xgboost/src/learner.cc:767: \n",
      "Parameters: { \"learing_rate\" } are not used.\n",
      "\n",
      "[18:17:59] WARNING: /Users/runner/work/xgboost/xgboost/python-package/build/temp.macosx-10.9-x86_64-cpython-38/xgboost/src/learner.cc:767: \n",
      "Parameters: { \"learing_rate\" } are not used.\n",
      "\n",
      "[18:19:15] WARNING: /Users/runner/work/xgboost/xgboost/python-package/build/temp.macosx-10.9-x86_64-cpython-38/xgboost/src/learner.cc:767: \n",
      "Parameters: { \"learing_rate\" } are not used.\n",
      "\n",
      "[18:19:39] WARNING: /Users/runner/work/xgboost/xgboost/python-package/build/temp.macosx-10.9-x86_64-cpython-38/xgboost/src/learner.cc:767: \n",
      "Parameters: { \"learing_rate\" } are not used.\n",
      "\n",
      "[18:19:44] WARNING: /Users/runner/work/xgboost/xgboost/python-package/build/temp.macosx-10.9-x86_64-cpython-38/xgboost/src/learner.cc:767: \n",
      "Parameters: { \"learing_rate\" } are not used.\n",
      "\n",
      "[18:19:50] WARNING: /Users/runner/work/xgboost/xgboost/python-package/build/temp.macosx-10.9-x86_64-cpython-38/xgboost/src/learner.cc:767: \n",
      "Parameters: { \"learing_rate\" } are not used.\n",
      "\n",
      "[18:20:26] WARNING: /Users/runner/work/xgboost/xgboost/python-package/build/temp.macosx-10.9-x86_64-cpython-38/xgboost/src/learner.cc:767: \n",
      "Parameters: { \"learing_rate\" } are not used.\n",
      "\n",
      "[18:21:13] WARNING: /Users/runner/work/xgboost/xgboost/python-package/build/temp.macosx-10.9-x86_64-cpython-38/xgboost/src/learner.cc:767: \n",
      "Parameters: { \"learing_rate\" } are not used.\n",
      "\n",
      "[18:22:29] WARNING: /Users/runner/work/xgboost/xgboost/python-package/build/temp.macosx-10.9-x86_64-cpython-38/xgboost/src/learner.cc:767: \n",
      "Parameters: { \"learing_rate\" } are not used.\n",
      "\n",
      "[18:23:12] WARNING: /Users/runner/work/xgboost/xgboost/python-package/build/temp.macosx-10.9-x86_64-cpython-38/xgboost/src/learner.cc:767: \n",
      "Parameters: { \"learing_rate\" } are not used.\n",
      "\n",
      "[18:23:25] WARNING: /Users/runner/work/xgboost/xgboost/python-package/build/temp.macosx-10.9-x86_64-cpython-38/xgboost/src/learner.cc:767: \n",
      "Parameters: { \"learing_rate\" } are not used.\n",
      "\n",
      "[18:24:06] WARNING: /Users/runner/work/xgboost/xgboost/python-package/build/temp.macosx-10.9-x86_64-cpython-38/xgboost/src/learner.cc:767: \n",
      "Parameters: { \"learing_rate\" } are not used.\n",
      "\n",
      "[18:24:13] WARNING: /Users/runner/work/xgboost/xgboost/python-package/build/temp.macosx-10.9-x86_64-cpython-38/xgboost/src/learner.cc:767: \n",
      "Parameters: { \"learing_rate\" } are not used.\n",
      "\n",
      "[18:24:25] WARNING: /Users/runner/work/xgboost/xgboost/python-package/build/temp.macosx-10.9-x86_64-cpython-38/xgboost/src/learner.cc:767: \n",
      "Parameters: { \"learing_rate\" } are not used.\n",
      "\n",
      "[18:24:38] WARNING: /Users/runner/work/xgboost/xgboost/python-package/build/temp.macosx-10.9-x86_64-cpython-38/xgboost/src/learner.cc:767: \n",
      "Parameters: { \"learing_rate\" } are not used.\n",
      "\n",
      "[18:24:51] WARNING: /Users/runner/work/xgboost/xgboost/python-package/build/temp.macosx-10.9-x86_64-cpython-38/xgboost/src/learner.cc:767: \n",
      "Parameters: { \"learing_rate\" } are not used.\n",
      "\n",
      "[18:25:02] WARNING: /Users/runner/work/xgboost/xgboost/python-package/build/temp.macosx-10.9-x86_64-cpython-38/xgboost/src/learner.cc:767: \n",
      "Parameters: { \"learing_rate\" } are not used.\n",
      "\n",
      "[18:26:02] WARNING: /Users/runner/work/xgboost/xgboost/python-package/build/temp.macosx-10.9-x86_64-cpython-38/xgboost/src/learner.cc:767: \n",
      "Parameters: { \"learing_rate\" } are not used.\n",
      "\n",
      "[18:26:29] WARNING: /Users/runner/work/xgboost/xgboost/python-package/build/temp.macosx-10.9-x86_64-cpython-38/xgboost/src/learner.cc:767: \n",
      "Parameters: { \"learing_rate\" } are not used.\n",
      "\n",
      "[18:26:52] WARNING: /Users/runner/work/xgboost/xgboost/python-package/build/temp.macosx-10.9-x86_64-cpython-38/xgboost/src/learner.cc:767: \n",
      "Parameters: { \"learing_rate\" } are not used.\n",
      "\n",
      "[18:27:14] WARNING: /Users/runner/work/xgboost/xgboost/python-package/build/temp.macosx-10.9-x86_64-cpython-38/xgboost/src/learner.cc:767: \n",
      "Parameters: { \"learing_rate\" } are not used.\n",
      "\n",
      "[18:27:38] WARNING: /Users/runner/work/xgboost/xgboost/python-package/build/temp.macosx-10.9-x86_64-cpython-38/xgboost/src/learner.cc:767: \n",
      "Parameters: { \"learing_rate\" } are not used.\n",
      "\n",
      "[18:28:03] WARNING: /Users/runner/work/xgboost/xgboost/python-package/build/temp.macosx-10.9-x86_64-cpython-38/xgboost/src/learner.cc:767: \n",
      "Parameters: { \"learing_rate\" } are not used.\n",
      "\n",
      "[18:28:35] WARNING: /Users/runner/work/xgboost/xgboost/python-package/build/temp.macosx-10.9-x86_64-cpython-38/xgboost/src/learner.cc:767: \n",
      "Parameters: { \"learing_rate\" } are not used.\n",
      "\n",
      "[18:29:08] WARNING: /Users/runner/work/xgboost/xgboost/python-package/build/temp.macosx-10.9-x86_64-cpython-38/xgboost/src/learner.cc:767: \n",
      "Parameters: { \"learing_rate\" } are not used.\n",
      "\n",
      "[18:29:44] WARNING: /Users/runner/work/xgboost/xgboost/python-package/build/temp.macosx-10.9-x86_64-cpython-38/xgboost/src/learner.cc:767: \n",
      "Parameters: { \"learing_rate\" } are not used.\n",
      "\n",
      "[18:30:20] WARNING: /Users/runner/work/xgboost/xgboost/python-package/build/temp.macosx-10.9-x86_64-cpython-38/xgboost/src/learner.cc:767: \n",
      "Parameters: { \"learing_rate\" } are not used.\n",
      "\n",
      "[18:31:04] WARNING: /Users/runner/work/xgboost/xgboost/python-package/build/temp.macosx-10.9-x86_64-cpython-38/xgboost/src/learner.cc:767: \n",
      "Parameters: { \"learing_rate\" } are not used.\n",
      "\n",
      "[18:31:52] WARNING: /Users/runner/work/xgboost/xgboost/python-package/build/temp.macosx-10.9-x86_64-cpython-38/xgboost/src/learner.cc:767: \n",
      "Parameters: { \"learing_rate\" } are not used.\n",
      "\n"
     ]
    },
    {
     "name": "stdout",
     "output_type": "stream",
     "text": [
      "[18:09:32] WARNING: /Users/runner/work/xgboost/xgboost/python-package/build/temp.macosx-10.9-x86_64-cpython-38/xgboost/src/learner.cc:767: \n",
      "Parameters: { \"learing_rate\" } are not used.\n",
      "\n",
      "[18:10:47] WARNING: /Users/runner/work/xgboost/xgboost/python-package/build/temp.macosx-10.9-x86_64-cpython-38/xgboost/src/learner.cc:767: \n",
      "Parameters: { \"learing_rate\" } are not used.\n",
      "\n",
      "[18:11:06] WARNING: /Users/runner/work/xgboost/xgboost/python-package/build/temp.macosx-10.9-x86_64-cpython-38/xgboost/src/learner.cc:767: \n",
      "Parameters: { \"learing_rate\" } are not used.\n",
      "\n",
      "[18:11:24] WARNING: /Users/runner/work/xgboost/xgboost/python-package/build/temp.macosx-10.9-x86_64-cpython-38/xgboost/src/learner.cc:767: \n",
      "Parameters: { \"learing_rate\" } are not used.\n",
      "\n",
      "[18:11:46] WARNING: /Users/runner/work/xgboost/xgboost/python-package/build/temp.macosx-10.9-x86_64-cpython-38/xgboost/src/learner.cc:767: \n",
      "Parameters: { \"learing_rate\" } are not used.\n",
      "\n",
      "[18:12:08] WARNING: /Users/runner/work/xgboost/xgboost/python-package/build/temp.macosx-10.9-x86_64-cpython-38/xgboost/src/learner.cc:767: \n",
      "Parameters: { \"learing_rate\" } are not used.\n",
      "\n",
      "[18:12:14] WARNING: /Users/runner/work/xgboost/xgboost/python-package/build/temp.macosx-10.9-x86_64-cpython-38/xgboost/src/learner.cc:767: \n",
      "Parameters: { \"learing_rate\" } are not used.\n",
      "\n",
      "[18:12:23] WARNING: /Users/runner/work/xgboost/xgboost/python-package/build/temp.macosx-10.9-x86_64-cpython-38/xgboost/src/learner.cc:767: \n",
      "Parameters: { \"learing_rate\" } are not used.\n",
      "\n",
      "[18:12:52] WARNING: /Users/runner/work/xgboost/xgboost/python-package/build/temp.macosx-10.9-x86_64-cpython-38/xgboost/src/learner.cc:767: \n",
      "Parameters: { \"learing_rate\" } are not used.\n",
      "\n",
      "[18:13:33] WARNING: /Users/runner/work/xgboost/xgboost/python-package/build/temp.macosx-10.9-x86_64-cpython-38/xgboost/src/learner.cc:767: \n",
      "Parameters: { \"learing_rate\" } are not used.\n",
      "\n",
      "[18:13:56] WARNING: /Users/runner/work/xgboost/xgboost/python-package/build/temp.macosx-10.9-x86_64-cpython-38/xgboost/src/learner.cc:767: \n",
      "Parameters: { \"learing_rate\" } are not used.\n",
      "\n",
      "[18:14:20] WARNING: /Users/runner/work/xgboost/xgboost/python-package/build/temp.macosx-10.9-x86_64-cpython-38/xgboost/src/learner.cc:767: \n",
      "Parameters: { \"learing_rate\" } are not used.\n",
      "\n",
      "[18:14:37] WARNING: /Users/runner/work/xgboost/xgboost/python-package/build/temp.macosx-10.9-x86_64-cpython-38/xgboost/src/learner.cc:767: \n",
      "Parameters: { \"learing_rate\" } are not used.\n",
      "\n",
      "[18:15:07] WARNING: /Users/runner/work/xgboost/xgboost/python-package/build/temp.macosx-10.9-x86_64-cpython-38/xgboost/src/learner.cc:767: \n",
      "Parameters: { \"learing_rate\" } are not used.\n",
      "\n",
      "[18:15:22] WARNING: /Users/runner/work/xgboost/xgboost/python-package/build/temp.macosx-10.9-x86_64-cpython-38/xgboost/src/learner.cc:767: \n",
      "Parameters: { \"learing_rate\" } are not used.\n",
      "\n",
      "[18:15:54] WARNING: /Users/runner/work/xgboost/xgboost/python-package/build/temp.macosx-10.9-x86_64-cpython-38/xgboost/src/learner.cc:767: \n",
      "Parameters: { \"learing_rate\" } are not used.\n",
      "\n",
      "[18:16:11] WARNING: /Users/runner/work/xgboost/xgboost/python-package/build/temp.macosx-10.9-x86_64-cpython-38/xgboost/src/learner.cc:767: \n",
      "Parameters: { \"learing_rate\" } are not used.\n",
      "\n",
      "[18:16:18] WARNING: /Users/runner/work/xgboost/xgboost/python-package/build/temp.macosx-10.9-x86_64-cpython-38/xgboost/src/learner.cc:767: \n",
      "Parameters: { \"learing_rate\" } are not used.\n",
      "\n",
      "[18:16:24] WARNING: /Users/runner/work/xgboost/xgboost/python-package/build/temp.macosx-10.9-x86_64-cpython-38/xgboost/src/learner.cc:767: \n",
      "Parameters: { \"learing_rate\" } are not used.\n",
      "\n",
      "[18:17:00] WARNING: /Users/runner/work/xgboost/xgboost/python-package/build/temp.macosx-10.9-x86_64-cpython-38/xgboost/src/learner.cc:767: \n",
      "Parameters: { \"learing_rate\" } are not used.\n",
      "\n",
      "[18:18:16] WARNING: /Users/runner/work/xgboost/xgboost/python-package/build/temp.macosx-10.9-x86_64-cpython-38/xgboost/src/learner.cc:767: \n",
      "Parameters: { \"learing_rate\" } are not used.\n",
      "\n",
      "[18:18:32] WARNING: /Users/runner/work/xgboost/xgboost/python-package/build/temp.macosx-10.9-x86_64-cpython-38/xgboost/src/learner.cc:767: \n",
      "Parameters: { \"learing_rate\" } are not used.\n",
      "\n",
      "[18:19:25] WARNING: /Users/runner/work/xgboost/xgboost/python-package/build/temp.macosx-10.9-x86_64-cpython-38/xgboost/src/learner.cc:767: \n",
      "Parameters: { \"learing_rate\" } are not used.\n",
      "\n",
      "[18:19:55] WARNING: /Users/runner/work/xgboost/xgboost/python-package/build/temp.macosx-10.9-x86_64-cpython-38/xgboost/src/learner.cc:767: \n",
      "Parameters: { \"learing_rate\" } are not used.\n",
      "\n",
      "[18:20:30] WARNING: /Users/runner/work/xgboost/xgboost/python-package/build/temp.macosx-10.9-x86_64-cpython-38/xgboost/src/learner.cc:767: \n",
      "Parameters: { \"learing_rate\" } are not used.\n",
      "\n",
      "[18:20:40] WARNING: /Users/runner/work/xgboost/xgboost/python-package/build/temp.macosx-10.9-x86_64-cpython-38/xgboost/src/learner.cc:767: \n",
      "Parameters: { \"learing_rate\" } are not used.\n",
      "\n",
      "[18:21:43] WARNING: /Users/runner/work/xgboost/xgboost/python-package/build/temp.macosx-10.9-x86_64-cpython-38/xgboost/src/learner.cc:767: \n",
      "Parameters: { \"learing_rate\" } are not used.\n",
      "\n",
      "[18:22:57] WARNING: /Users/runner/work/xgboost/xgboost/python-package/build/temp.macosx-10.9-x86_64-cpython-38/xgboost/src/learner.cc:767: \n",
      "Parameters: { \"learing_rate\" } are not used.\n",
      "\n",
      "[18:23:28] WARNING: /Users/runner/work/xgboost/xgboost/python-package/build/temp.macosx-10.9-x86_64-cpython-38/xgboost/src/learner.cc:767: \n",
      "Parameters: { \"learing_rate\" } are not used.\n",
      "\n",
      "[18:24:10] WARNING: /Users/runner/work/xgboost/xgboost/python-package/build/temp.macosx-10.9-x86_64-cpython-38/xgboost/src/learner.cc:767: \n",
      "Parameters: { \"learing_rate\" } are not used.\n",
      "\n",
      "[18:24:22] WARNING: /Users/runner/work/xgboost/xgboost/python-package/build/temp.macosx-10.9-x86_64-cpython-38/xgboost/src/learner.cc:767: \n",
      "Parameters: { \"learing_rate\" } are not used.\n",
      "\n",
      "[18:24:31] WARNING: /Users/runner/work/xgboost/xgboost/python-package/build/temp.macosx-10.9-x86_64-cpython-38/xgboost/src/learner.cc:767: \n",
      "Parameters: { \"learing_rate\" } are not used.\n",
      "\n",
      "[18:24:47] WARNING: /Users/runner/work/xgboost/xgboost/python-package/build/temp.macosx-10.9-x86_64-cpython-38/xgboost/src/learner.cc:767: \n",
      "Parameters: { \"learing_rate\" } are not used.\n",
      "\n",
      "[18:24:59] WARNING: /Users/runner/work/xgboost/xgboost/python-package/build/temp.macosx-10.9-x86_64-cpython-38/xgboost/src/learner.cc:767: \n",
      "Parameters: { \"learing_rate\" } are not used.\n",
      "\n",
      "[18:25:54] WARNING: /Users/runner/work/xgboost/xgboost/python-package/build/temp.macosx-10.9-x86_64-cpython-38/xgboost/src/learner.cc:767: \n",
      "Parameters: { \"learing_rate\" } are not used.\n",
      "\n",
      "[18:26:21] WARNING: /Users/runner/work/xgboost/xgboost/python-package/build/temp.macosx-10.9-x86_64-cpython-38/xgboost/src/learner.cc:767: \n",
      "Parameters: { \"learing_rate\" } are not used.\n",
      "\n",
      "[18:26:28] WARNING: /Users/runner/work/xgboost/xgboost/python-package/build/temp.macosx-10.9-x86_64-cpython-38/xgboost/src/learner.cc:767: \n",
      "Parameters: { \"learing_rate\" } are not used.\n",
      "\n",
      "[18:26:52] WARNING: /Users/runner/work/xgboost/xgboost/python-package/build/temp.macosx-10.9-x86_64-cpython-38/xgboost/src/learner.cc:767: \n",
      "Parameters: { \"learing_rate\" } are not used.\n",
      "\n",
      "[18:27:14] WARNING: /Users/runner/work/xgboost/xgboost/python-package/build/temp.macosx-10.9-x86_64-cpython-38/xgboost/src/learner.cc:767: \n",
      "Parameters: { \"learing_rate\" } are not used.\n",
      "\n",
      "[18:27:37] WARNING: /Users/runner/work/xgboost/xgboost/python-package/build/temp.macosx-10.9-x86_64-cpython-38/xgboost/src/learner.cc:767: \n",
      "Parameters: { \"learing_rate\" } are not used.\n",
      "\n",
      "[18:28:02] WARNING: /Users/runner/work/xgboost/xgboost/python-package/build/temp.macosx-10.9-x86_64-cpython-38/xgboost/src/learner.cc:767: \n",
      "Parameters: { \"learing_rate\" } are not used.\n",
      "\n",
      "[18:28:35] WARNING: /Users/runner/work/xgboost/xgboost/python-package/build/temp.macosx-10.9-x86_64-cpython-38/xgboost/src/learner.cc:767: \n",
      "Parameters: { \"learing_rate\" } are not used.\n",
      "\n",
      "[18:29:08] WARNING: /Users/runner/work/xgboost/xgboost/python-package/build/temp.macosx-10.9-x86_64-cpython-38/xgboost/src/learner.cc:767: \n",
      "Parameters: { \"learing_rate\" } are not used.\n",
      "\n",
      "[18:29:44] WARNING: /Users/runner/work/xgboost/xgboost/python-package/build/temp.macosx-10.9-x86_64-cpython-38/xgboost/src/learner.cc:767: \n",
      "Parameters: { \"learing_rate\" } are not used.\n",
      "\n",
      "[18:30:26] WARNING: /Users/runner/work/xgboost/xgboost/python-package/build/temp.macosx-10.9-x86_64-cpython-38/xgboost/src/learner.cc:767: \n",
      "Parameters: { \"learing_rate\" } are not used.\n",
      "\n",
      "[18:31:10] WARNING: /Users/runner/work/xgboost/xgboost/python-package/build/temp.macosx-10.9-x86_64-cpython-38/xgboost/src/learner.cc:767: \n",
      "Parameters: { \"learing_rate\" } are not used.\n",
      "\n",
      "[18:31:58] WARNING: /Users/runner/work/xgboost/xgboost/python-package/build/temp.macosx-10.9-x86_64-cpython-38/xgboost/src/learner.cc:767: \n",
      "Parameters: { \"learing_rate\" } are not used.\n",
      "\n"
     ]
    },
    {
     "data": {
      "text/plain": [
       "RandomizedSearchCV(cv=5, estimator=GradientBoostingClassifier(random_state=0),\n",
       "                   n_iter=60, n_jobs=1,\n",
       "                   param_distributions={'learning_rate': [0.001, 0.01, 0.1, 0.5,\n",
       "                                                          1, 10],\n",
       "                                        'max_depth': range(1, 6),\n",
       "                                        'n_estimators': [100, 200, 300, 400,\n",
       "                                                         500],\n",
       "                                        'subsample': [0.6, 0.7, 0.8, 0.9, 1]},\n",
       "                   scoring='roc_auc')"
      ]
     },
     "execution_count": 62,
     "metadata": {},
     "output_type": "execute_result"
    }
   ],
   "source": [
    "# Random Search 적용\n",
    "rs_gb = RandomizedSearchCV(GradientBoostingClassifier(random_state=0), param_distributions=param_gb,\n",
    "                          n_iter=60, cv=5, scoring='roc_auc', n_jobs=1)\n",
    "rs_gb.fit(X_train, y_train)"
   ]
  },
  {
   "cell_type": "code",
   "execution_count": 63,
   "id": "2e110e59",
   "metadata": {
    "ExecuteTime": {
     "end_time": "2023-02-11T11:24:35.678238Z",
     "start_time": "2023-02-11T11:24:35.674866Z"
    }
   },
   "outputs": [
    {
     "data": {
      "text/plain": [
       "{'subsample': 1, 'n_estimators': 400, 'max_depth': 2, 'learning_rate': 0.1}"
      ]
     },
     "execution_count": 63,
     "metadata": {},
     "output_type": "execute_result"
    }
   ],
   "source": [
    "# Best parameter 체크\n",
    "rs_gb.best_params_"
   ]
  },
  {
   "cell_type": "code",
   "execution_count": 64,
   "id": "72f1c8a0",
   "metadata": {
    "ExecuteTime": {
     "end_time": "2023-02-11T11:24:35.682582Z",
     "start_time": "2023-02-11T11:24:35.679726Z"
    }
   },
   "outputs": [
    {
     "data": {
      "text/plain": [
       "0.8626317848536498"
      ]
     },
     "execution_count": 64,
     "metadata": {},
     "output_type": "execute_result"
    }
   ],
   "source": [
    "rs_gb.best_score_"
   ]
  },
  {
   "cell_type": "code",
   "execution_count": 65,
   "id": "60682946",
   "metadata": {
    "ExecuteTime": {
     "end_time": "2023-02-11T11:24:35.697413Z",
     "start_time": "2023-02-11T11:24:35.683919Z"
    }
   },
   "outputs": [
    {
     "data": {
      "text/html": [
       "<div>\n",
       "<style scoped>\n",
       "    .dataframe tbody tr th:only-of-type {\n",
       "        vertical-align: middle;\n",
       "    }\n",
       "\n",
       "    .dataframe tbody tr th {\n",
       "        vertical-align: top;\n",
       "    }\n",
       "\n",
       "    .dataframe thead th {\n",
       "        text-align: right;\n",
       "    }\n",
       "</style>\n",
       "<table border=\"1\" class=\"dataframe\">\n",
       "  <thead>\n",
       "    <tr style=\"text-align: right;\">\n",
       "      <th></th>\n",
       "      <th>mean_fit_time</th>\n",
       "      <th>std_fit_time</th>\n",
       "      <th>mean_score_time</th>\n",
       "      <th>std_score_time</th>\n",
       "      <th>param_subsample</th>\n",
       "      <th>param_n_estimators</th>\n",
       "      <th>param_max_depth</th>\n",
       "      <th>param_learning_rate</th>\n",
       "      <th>params</th>\n",
       "      <th>split0_test_score</th>\n",
       "      <th>split1_test_score</th>\n",
       "      <th>split2_test_score</th>\n",
       "      <th>split3_test_score</th>\n",
       "      <th>split4_test_score</th>\n",
       "      <th>mean_test_score</th>\n",
       "      <th>std_test_score</th>\n",
       "      <th>rank_test_score</th>\n",
       "    </tr>\n",
       "  </thead>\n",
       "  <tbody>\n",
       "    <tr>\n",
       "      <th>39</th>\n",
       "      <td>23.278164</td>\n",
       "      <td>0.014576</td>\n",
       "      <td>0.052388</td>\n",
       "      <td>0.000731</td>\n",
       "      <td>1</td>\n",
       "      <td>400</td>\n",
       "      <td>2</td>\n",
       "      <td>0.1</td>\n",
       "      <td>{'subsample': 1, 'n_estimators': 400, 'max_dep...</td>\n",
       "      <td>0.867744</td>\n",
       "      <td>0.865523</td>\n",
       "      <td>0.860682</td>\n",
       "      <td>0.860589</td>\n",
       "      <td>0.858621</td>\n",
       "      <td>0.862632</td>\n",
       "      <td>0.003422</td>\n",
       "      <td>1</td>\n",
       "    </tr>\n",
       "    <tr>\n",
       "      <th>6</th>\n",
       "      <td>8.508357</td>\n",
       "      <td>0.008665</td>\n",
       "      <td>0.026023</td>\n",
       "      <td>0.000249</td>\n",
       "      <td>1</td>\n",
       "      <td>100</td>\n",
       "      <td>3</td>\n",
       "      <td>0.1</td>\n",
       "      <td>{'subsample': 1, 'n_estimators': 100, 'max_dep...</td>\n",
       "      <td>0.868226</td>\n",
       "      <td>0.865640</td>\n",
       "      <td>0.859757</td>\n",
       "      <td>0.859595</td>\n",
       "      <td>0.857886</td>\n",
       "      <td>0.862221</td>\n",
       "      <td>0.003988</td>\n",
       "      <td>2</td>\n",
       "    </tr>\n",
       "    <tr>\n",
       "      <th>25</th>\n",
       "      <td>27.328390</td>\n",
       "      <td>0.097169</td>\n",
       "      <td>0.056843</td>\n",
       "      <td>0.000820</td>\n",
       "      <td>1</td>\n",
       "      <td>200</td>\n",
       "      <td>5</td>\n",
       "      <td>0.1</td>\n",
       "      <td>{'subsample': 1, 'n_estimators': 200, 'max_dep...</td>\n",
       "      <td>0.868857</td>\n",
       "      <td>0.866771</td>\n",
       "      <td>0.858893</td>\n",
       "      <td>0.859204</td>\n",
       "      <td>0.856647</td>\n",
       "      <td>0.862074</td>\n",
       "      <td>0.004814</td>\n",
       "      <td>3</td>\n",
       "    </tr>\n",
       "    <tr>\n",
       "      <th>56</th>\n",
       "      <td>7.993372</td>\n",
       "      <td>0.011247</td>\n",
       "      <td>0.025707</td>\n",
       "      <td>0.000365</td>\n",
       "      <td>0.9</td>\n",
       "      <td>100</td>\n",
       "      <td>3</td>\n",
       "      <td>0.1</td>\n",
       "      <td>{'subsample': 0.9, 'n_estimators': 100, 'max_d...</td>\n",
       "      <td>0.868262</td>\n",
       "      <td>0.865297</td>\n",
       "      <td>0.859817</td>\n",
       "      <td>0.859629</td>\n",
       "      <td>0.857340</td>\n",
       "      <td>0.862069</td>\n",
       "      <td>0.004054</td>\n",
       "      <td>4</td>\n",
       "    </tr>\n",
       "    <tr>\n",
       "      <th>30</th>\n",
       "      <td>11.741532</td>\n",
       "      <td>0.032904</td>\n",
       "      <td>0.031862</td>\n",
       "      <td>0.000759</td>\n",
       "      <td>1</td>\n",
       "      <td>200</td>\n",
       "      <td>2</td>\n",
       "      <td>0.1</td>\n",
       "      <td>{'subsample': 1, 'n_estimators': 200, 'max_dep...</td>\n",
       "      <td>0.866982</td>\n",
       "      <td>0.864592</td>\n",
       "      <td>0.859912</td>\n",
       "      <td>0.860144</td>\n",
       "      <td>0.857989</td>\n",
       "      <td>0.861924</td>\n",
       "      <td>0.003329</td>\n",
       "      <td>5</td>\n",
       "    </tr>\n",
       "  </tbody>\n",
       "</table>\n",
       "</div>"
      ],
      "text/plain": [
       "    mean_fit_time  std_fit_time  mean_score_time  std_score_time  \\\n",
       "39      23.278164      0.014576         0.052388        0.000731   \n",
       "6        8.508357      0.008665         0.026023        0.000249   \n",
       "25      27.328390      0.097169         0.056843        0.000820   \n",
       "56       7.993372      0.011247         0.025707        0.000365   \n",
       "30      11.741532      0.032904         0.031862        0.000759   \n",
       "\n",
       "   param_subsample param_n_estimators param_max_depth param_learning_rate  \\\n",
       "39               1                400               2                 0.1   \n",
       "6                1                100               3                 0.1   \n",
       "25               1                200               5                 0.1   \n",
       "56             0.9                100               3                 0.1   \n",
       "30               1                200               2                 0.1   \n",
       "\n",
       "                                               params  split0_test_score  \\\n",
       "39  {'subsample': 1, 'n_estimators': 400, 'max_dep...           0.867744   \n",
       "6   {'subsample': 1, 'n_estimators': 100, 'max_dep...           0.868226   \n",
       "25  {'subsample': 1, 'n_estimators': 200, 'max_dep...           0.868857   \n",
       "56  {'subsample': 0.9, 'n_estimators': 100, 'max_d...           0.868262   \n",
       "30  {'subsample': 1, 'n_estimators': 200, 'max_dep...           0.866982   \n",
       "\n",
       "    split1_test_score  split2_test_score  split3_test_score  \\\n",
       "39           0.865523           0.860682           0.860589   \n",
       "6            0.865640           0.859757           0.859595   \n",
       "25           0.866771           0.858893           0.859204   \n",
       "56           0.865297           0.859817           0.859629   \n",
       "30           0.864592           0.859912           0.860144   \n",
       "\n",
       "    split4_test_score  mean_test_score  std_test_score  rank_test_score  \n",
       "39           0.858621         0.862632        0.003422                1  \n",
       "6            0.857886         0.862221        0.003988                2  \n",
       "25           0.856647         0.862074        0.004814                3  \n",
       "56           0.857340         0.862069        0.004054                4  \n",
       "30           0.857989         0.861924        0.003329                5  "
      ]
     },
     "execution_count": 65,
     "metadata": {},
     "output_type": "execute_result"
    }
   ],
   "source": [
    "rs_df2 = pd.DataFrame(rs_gb.cv_results_)\n",
    "rs_df2.sort_values('rank_test_score').head()"
   ]
  },
  {
   "cell_type": "code",
   "execution_count": 66,
   "id": "6aa8fdba",
   "metadata": {
    "ExecuteTime": {
     "end_time": "2023-02-11T11:24:35.703259Z",
     "start_time": "2023-02-11T11:24:35.699685Z"
    }
   },
   "outputs": [],
   "source": [
    "#GridSearch->subsample, max_depth, n_estimator을 GridSearch로 튜닝해보자\n",
    "\n",
    "param = {\n",
    "    \n",
    "    \"subsample\": [0.6, 0.7, 0.8], \n",
    "    \"n_estimators\": [300, 400, 500],\n",
    "    \"max_depth\": [2,3,4]\n",
    "}"
   ]
  },
  {
   "cell_type": "code",
   "execution_count": 67,
   "id": "14c0ab6d",
   "metadata": {
    "ExecuteTime": {
     "end_time": "2023-02-11T11:34:59.677975Z",
     "start_time": "2023-02-11T11:24:35.704871Z"
    }
   },
   "outputs": [
    {
     "data": {
      "text/plain": [
       "GridSearchCV(cv=5, estimator=GradientBoostingClassifier(random_state=0),\n",
       "             n_jobs=-1,\n",
       "             param_grid={'max_depth': [2, 3, 4],\n",
       "                         'n_estimators': [300, 400, 500],\n",
       "                         'subsample': [0.6, 0.7, 0.8]},\n",
       "             scoring='roc_auc')"
      ]
     },
     "execution_count": 67,
     "metadata": {},
     "output_type": "execute_result"
    }
   ],
   "source": [
    "gs_gb = GridSearchCV(GradientBoostingClassifier(learning_rate=0.1, random_state=0),\n",
    "                     param_grid=param, scoring='roc_auc', cv=5, n_jobs=-1)\n",
    "gs_gb.fit(X_train, y_train)                              "
   ]
  },
  {
   "cell_type": "code",
   "execution_count": 68,
   "id": "54c9e845",
   "metadata": {
    "ExecuteTime": {
     "end_time": "2023-02-11T11:34:59.683599Z",
     "start_time": "2023-02-11T11:34:59.680007Z"
    }
   },
   "outputs": [
    {
     "data": {
      "text/plain": [
       "{'max_depth': 3, 'n_estimators': 300, 'subsample': 0.8}"
      ]
     },
     "execution_count": 68,
     "metadata": {},
     "output_type": "execute_result"
    }
   ],
   "source": [
    "gs_gb.best_params_"
   ]
  },
  {
   "cell_type": "code",
   "execution_count": 69,
   "id": "6f3ed069",
   "metadata": {
    "ExecuteTime": {
     "end_time": "2023-02-11T11:34:59.687849Z",
     "start_time": "2023-02-11T11:34:59.685121Z"
    }
   },
   "outputs": [
    {
     "data": {
      "text/plain": [
       "0.8631676075331474"
      ]
     },
     "execution_count": 69,
     "metadata": {},
     "output_type": "execute_result"
    }
   ],
   "source": [
    "gs_gb.best_score_"
   ]
  },
  {
   "cell_type": "code",
   "execution_count": 70,
   "id": "664a65fe",
   "metadata": {
    "ExecuteTime": {
     "end_time": "2023-02-11T11:34:59.704709Z",
     "start_time": "2023-02-11T11:34:59.689176Z"
    }
   },
   "outputs": [
    {
     "data": {
      "text/html": [
       "<div>\n",
       "<style scoped>\n",
       "    .dataframe tbody tr th:only-of-type {\n",
       "        vertical-align: middle;\n",
       "    }\n",
       "\n",
       "    .dataframe tbody tr th {\n",
       "        vertical-align: top;\n",
       "    }\n",
       "\n",
       "    .dataframe thead th {\n",
       "        text-align: right;\n",
       "    }\n",
       "</style>\n",
       "<table border=\"1\" class=\"dataframe\">\n",
       "  <thead>\n",
       "    <tr style=\"text-align: right;\">\n",
       "      <th></th>\n",
       "      <th>mean_fit_time</th>\n",
       "      <th>std_fit_time</th>\n",
       "      <th>mean_score_time</th>\n",
       "      <th>std_score_time</th>\n",
       "      <th>param_max_depth</th>\n",
       "      <th>param_n_estimators</th>\n",
       "      <th>param_subsample</th>\n",
       "      <th>params</th>\n",
       "      <th>split0_test_score</th>\n",
       "      <th>split1_test_score</th>\n",
       "      <th>split2_test_score</th>\n",
       "      <th>split3_test_score</th>\n",
       "      <th>split4_test_score</th>\n",
       "      <th>mean_test_score</th>\n",
       "      <th>std_test_score</th>\n",
       "      <th>rank_test_score</th>\n",
       "    </tr>\n",
       "  </thead>\n",
       "  <tbody>\n",
       "    <tr>\n",
       "      <th>11</th>\n",
       "      <td>28.351058</td>\n",
       "      <td>0.125950</td>\n",
       "      <td>0.064669</td>\n",
       "      <td>0.002497</td>\n",
       "      <td>3</td>\n",
       "      <td>300</td>\n",
       "      <td>0.8</td>\n",
       "      <td>{'max_depth': 3, 'n_estimators': 300, 'subsamp...</td>\n",
       "      <td>0.868731</td>\n",
       "      <td>0.866366</td>\n",
       "      <td>0.861959</td>\n",
       "      <td>0.860392</td>\n",
       "      <td>0.858391</td>\n",
       "      <td>0.863168</td>\n",
       "      <td>0.003825</td>\n",
       "      <td>1</td>\n",
       "    </tr>\n",
       "    <tr>\n",
       "      <th>14</th>\n",
       "      <td>38.464407</td>\n",
       "      <td>0.259099</td>\n",
       "      <td>0.086259</td>\n",
       "      <td>0.003949</td>\n",
       "      <td>3</td>\n",
       "      <td>400</td>\n",
       "      <td>0.8</td>\n",
       "      <td>{'max_depth': 3, 'n_estimators': 400, 'subsamp...</td>\n",
       "      <td>0.868427</td>\n",
       "      <td>0.866102</td>\n",
       "      <td>0.862106</td>\n",
       "      <td>0.860269</td>\n",
       "      <td>0.858541</td>\n",
       "      <td>0.863089</td>\n",
       "      <td>0.003665</td>\n",
       "      <td>2</td>\n",
       "    </tr>\n",
       "    <tr>\n",
       "      <th>10</th>\n",
       "      <td>25.682170</td>\n",
       "      <td>0.066510</td>\n",
       "      <td>0.063774</td>\n",
       "      <td>0.002993</td>\n",
       "      <td>3</td>\n",
       "      <td>300</td>\n",
       "      <td>0.7</td>\n",
       "      <td>{'max_depth': 3, 'n_estimators': 300, 'subsamp...</td>\n",
       "      <td>0.868728</td>\n",
       "      <td>0.866457</td>\n",
       "      <td>0.860556</td>\n",
       "      <td>0.860196</td>\n",
       "      <td>0.858097</td>\n",
       "      <td>0.862807</td>\n",
       "      <td>0.004061</td>\n",
       "      <td>3</td>\n",
       "    </tr>\n",
       "    <tr>\n",
       "      <th>17</th>\n",
       "      <td>47.028768</td>\n",
       "      <td>0.060916</td>\n",
       "      <td>0.100410</td>\n",
       "      <td>0.006027</td>\n",
       "      <td>3</td>\n",
       "      <td>500</td>\n",
       "      <td>0.8</td>\n",
       "      <td>{'max_depth': 3, 'n_estimators': 500, 'subsamp...</td>\n",
       "      <td>0.867977</td>\n",
       "      <td>0.865905</td>\n",
       "      <td>0.861601</td>\n",
       "      <td>0.859916</td>\n",
       "      <td>0.858513</td>\n",
       "      <td>0.862782</td>\n",
       "      <td>0.003594</td>\n",
       "      <td>4</td>\n",
       "    </tr>\n",
       "    <tr>\n",
       "      <th>13</th>\n",
       "      <td>34.082818</td>\n",
       "      <td>0.043100</td>\n",
       "      <td>0.080975</td>\n",
       "      <td>0.003972</td>\n",
       "      <td>3</td>\n",
       "      <td>400</td>\n",
       "      <td>0.7</td>\n",
       "      <td>{'max_depth': 3, 'n_estimators': 400, 'subsamp...</td>\n",
       "      <td>0.868106</td>\n",
       "      <td>0.866522</td>\n",
       "      <td>0.860528</td>\n",
       "      <td>0.859968</td>\n",
       "      <td>0.857826</td>\n",
       "      <td>0.862590</td>\n",
       "      <td>0.003993</td>\n",
       "      <td>5</td>\n",
       "    </tr>\n",
       "  </tbody>\n",
       "</table>\n",
       "</div>"
      ],
      "text/plain": [
       "    mean_fit_time  std_fit_time  mean_score_time  std_score_time  \\\n",
       "11      28.351058      0.125950         0.064669        0.002497   \n",
       "14      38.464407      0.259099         0.086259        0.003949   \n",
       "10      25.682170      0.066510         0.063774        0.002993   \n",
       "17      47.028768      0.060916         0.100410        0.006027   \n",
       "13      34.082818      0.043100         0.080975        0.003972   \n",
       "\n",
       "   param_max_depth param_n_estimators param_subsample  \\\n",
       "11               3                300             0.8   \n",
       "14               3                400             0.8   \n",
       "10               3                300             0.7   \n",
       "17               3                500             0.8   \n",
       "13               3                400             0.7   \n",
       "\n",
       "                                               params  split0_test_score  \\\n",
       "11  {'max_depth': 3, 'n_estimators': 300, 'subsamp...           0.868731   \n",
       "14  {'max_depth': 3, 'n_estimators': 400, 'subsamp...           0.868427   \n",
       "10  {'max_depth': 3, 'n_estimators': 300, 'subsamp...           0.868728   \n",
       "17  {'max_depth': 3, 'n_estimators': 500, 'subsamp...           0.867977   \n",
       "13  {'max_depth': 3, 'n_estimators': 400, 'subsamp...           0.868106   \n",
       "\n",
       "    split1_test_score  split2_test_score  split3_test_score  \\\n",
       "11           0.866366           0.861959           0.860392   \n",
       "14           0.866102           0.862106           0.860269   \n",
       "10           0.866457           0.860556           0.860196   \n",
       "17           0.865905           0.861601           0.859916   \n",
       "13           0.866522           0.860528           0.859968   \n",
       "\n",
       "    split4_test_score  mean_test_score  std_test_score  rank_test_score  \n",
       "11           0.858391         0.863168        0.003825                1  \n",
       "14           0.858541         0.863089        0.003665                2  \n",
       "10           0.858097         0.862807        0.004061                3  \n",
       "17           0.858513         0.862782        0.003594                4  \n",
       "13           0.857826         0.862590        0.003993                5  "
      ]
     },
     "execution_count": 70,
     "metadata": {},
     "output_type": "execute_result"
    }
   ],
   "source": [
    "gs_df2 = pd.DataFrame(gs_gb.cv_results_)\n",
    "gs_df2.sort_values('rank_test_score').head()\n",
    "#max_depth는 3, subsample은 0.8로 설정하는게 가장 좋아보임."
   ]
  },
  {
   "cell_type": "code",
   "execution_count": 71,
   "id": "a5168261",
   "metadata": {
    "ExecuteTime": {
     "end_time": "2023-02-11T11:34:59.708457Z",
     "start_time": "2023-02-11T11:34:59.706348Z"
    }
   },
   "outputs": [],
   "source": [
    "# best model 등록\n",
    "best_model_gb = gs_gb.best_estimator_"
   ]
  },
  {
   "cell_type": "code",
   "execution_count": 72,
   "id": "5db52f4b",
   "metadata": {
    "ExecuteTime": {
     "end_time": "2023-02-11T11:34:59.718147Z",
     "start_time": "2023-02-11T11:34:59.710187Z"
    }
   },
   "outputs": [],
   "source": [
    "# 모델 저장\n",
    "gb_file_path = os.path.join(save_dir, 'gradient_boosting_best.pkl')\n",
    "\n",
    "with open(gb_file_path, 'wb') as fw:\n",
    "    pickle.dump(best_model_gb, fw)"
   ]
  },
  {
   "cell_type": "code",
   "execution_count": 73,
   "id": "fafebece",
   "metadata": {
    "ExecuteTime": {
     "end_time": "2023-02-11T11:34:59.729100Z",
     "start_time": "2023-02-11T11:34:59.719212Z"
    }
   },
   "outputs": [],
   "source": [
    "# 모델 로드\n",
    "with open(gb_file_path, 'rb') as fo:\n",
    "    saved_gb = pickle.load(fo)"
   ]
  },
  {
   "cell_type": "code",
   "execution_count": null,
   "id": "f27d0c8c",
   "metadata": {},
   "outputs": [],
   "source": []
  },
  {
   "cell_type": "markdown",
   "id": "8956b08d",
   "metadata": {},
   "source": [
    "###  RandomForest "
   ]
  },
  {
   "cell_type": "code",
   "execution_count": 75,
   "id": "fa6a1fd0",
   "metadata": {
    "ExecuteTime": {
     "end_time": "2023-02-11T11:36:01.915617Z",
     "start_time": "2023-02-11T11:36:01.907485Z"
    }
   },
   "outputs": [],
   "source": [
    "# 파라미터 설정\n",
    "\n",
    "param_rf = {\n",
    "    \n",
    "    'learning_rate': [0.001, 0.01, 0.1, 0.5, 1, 10],\n",
    "    'n_estimators': [100, 200, 300, 400, 500], \n",
    "    'max_depth': range(1,6),\n",
    "    'subsample': [0.6, 0.7, 0.8, 0.9, 1]\n",
    "}"
   ]
  },
  {
   "cell_type": "code",
   "execution_count": 76,
   "id": "cc1919ce",
   "metadata": {
    "ExecuteTime": {
     "end_time": "2023-02-11T13:11:05.217168Z",
     "start_time": "2023-02-11T11:36:04.463282Z"
    }
   },
   "outputs": [
    {
     "data": {
      "text/plain": [
       "RandomizedSearchCV(cv=5, estimator=GradientBoostingClassifier(random_state=0),\n",
       "                   n_iter=60, n_jobs=1,\n",
       "                   param_distributions={'learning_rate': [0.001, 0.01, 0.1, 0.5,\n",
       "                                                          1, 10],\n",
       "                                        'max_depth': range(1, 6),\n",
       "                                        'n_estimators': [100, 200, 300, 400,\n",
       "                                                         500],\n",
       "                                        'subsample': [0.6, 0.7, 0.8, 0.9, 1]},\n",
       "                   scoring='roc_auc')"
      ]
     },
     "execution_count": 76,
     "metadata": {},
     "output_type": "execute_result"
    }
   ],
   "source": [
    "# Random Search 적용\n",
    "rs_rf = RandomizedSearchCV(GradientBoostingClassifier(random_state=0), param_distributions=param_gb,\n",
    "                          n_iter=60, cv=5, scoring='roc_auc', n_jobs=1)\n",
    "rs_rf.fit(X_train, y_train)"
   ]
  },
  {
   "cell_type": "code",
   "execution_count": 77,
   "id": "0553a946",
   "metadata": {
    "ExecuteTime": {
     "end_time": "2023-02-11T13:12:48.267454Z",
     "start_time": "2023-02-11T13:12:48.253967Z"
    }
   },
   "outputs": [
    {
     "data": {
      "text/plain": [
       "{'subsample': 1, 'n_estimators': 200, 'max_depth': 3, 'learning_rate': 0.1}"
      ]
     },
     "execution_count": 77,
     "metadata": {},
     "output_type": "execute_result"
    }
   ],
   "source": [
    "# Best parameter 체크\n",
    "rs_rf.best_params_"
   ]
  },
  {
   "cell_type": "code",
   "execution_count": 78,
   "id": "a55629f4",
   "metadata": {
    "ExecuteTime": {
     "end_time": "2023-02-11T13:12:51.668995Z",
     "start_time": "2023-02-11T13:12:51.660269Z"
    }
   },
   "outputs": [
    {
     "data": {
      "text/plain": [
       "0.863158927435013"
      ]
     },
     "execution_count": 78,
     "metadata": {},
     "output_type": "execute_result"
    }
   ],
   "source": [
    "rs_rf.best_score_"
   ]
  },
  {
   "cell_type": "code",
   "execution_count": 79,
   "id": "cbf42f96",
   "metadata": {
    "ExecuteTime": {
     "end_time": "2023-02-11T13:12:54.494020Z",
     "start_time": "2023-02-11T13:12:54.463934Z"
    }
   },
   "outputs": [
    {
     "data": {
      "text/html": [
       "<div>\n",
       "<style scoped>\n",
       "    .dataframe tbody tr th:only-of-type {\n",
       "        vertical-align: middle;\n",
       "    }\n",
       "\n",
       "    .dataframe tbody tr th {\n",
       "        vertical-align: top;\n",
       "    }\n",
       "\n",
       "    .dataframe thead th {\n",
       "        text-align: right;\n",
       "    }\n",
       "</style>\n",
       "<table border=\"1\" class=\"dataframe\">\n",
       "  <thead>\n",
       "    <tr style=\"text-align: right;\">\n",
       "      <th></th>\n",
       "      <th>mean_fit_time</th>\n",
       "      <th>std_fit_time</th>\n",
       "      <th>mean_score_time</th>\n",
       "      <th>std_score_time</th>\n",
       "      <th>param_subsample</th>\n",
       "      <th>param_n_estimators</th>\n",
       "      <th>param_max_depth</th>\n",
       "      <th>param_learning_rate</th>\n",
       "      <th>params</th>\n",
       "      <th>split0_test_score</th>\n",
       "      <th>split1_test_score</th>\n",
       "      <th>split2_test_score</th>\n",
       "      <th>split3_test_score</th>\n",
       "      <th>split4_test_score</th>\n",
       "      <th>mean_test_score</th>\n",
       "      <th>std_test_score</th>\n",
       "      <th>rank_test_score</th>\n",
       "    </tr>\n",
       "  </thead>\n",
       "  <tbody>\n",
       "    <tr>\n",
       "      <th>0</th>\n",
       "      <td>16.994186</td>\n",
       "      <td>0.098788</td>\n",
       "      <td>0.040523</td>\n",
       "      <td>0.000586</td>\n",
       "      <td>1</td>\n",
       "      <td>200</td>\n",
       "      <td>3</td>\n",
       "      <td>0.1</td>\n",
       "      <td>{'subsample': 1, 'n_estimators': 200, 'max_dep...</td>\n",
       "      <td>0.868679</td>\n",
       "      <td>0.866806</td>\n",
       "      <td>0.860427</td>\n",
       "      <td>0.860879</td>\n",
       "      <td>0.859003</td>\n",
       "      <td>0.863159</td>\n",
       "      <td>0.003840</td>\n",
       "      <td>1</td>\n",
       "    </tr>\n",
       "    <tr>\n",
       "      <th>33</th>\n",
       "      <td>10.358628</td>\n",
       "      <td>0.020475</td>\n",
       "      <td>0.031248</td>\n",
       "      <td>0.001285</td>\n",
       "      <td>0.9</td>\n",
       "      <td>100</td>\n",
       "      <td>4</td>\n",
       "      <td>0.1</td>\n",
       "      <td>{'subsample': 0.9, 'n_estimators': 100, 'max_d...</td>\n",
       "      <td>0.869096</td>\n",
       "      <td>0.866591</td>\n",
       "      <td>0.860446</td>\n",
       "      <td>0.859779</td>\n",
       "      <td>0.857589</td>\n",
       "      <td>0.862700</td>\n",
       "      <td>0.004377</td>\n",
       "      <td>2</td>\n",
       "    </tr>\n",
       "    <tr>\n",
       "      <th>14</th>\n",
       "      <td>17.384691</td>\n",
       "      <td>0.014359</td>\n",
       "      <td>0.046835</td>\n",
       "      <td>0.000864</td>\n",
       "      <td>0.6</td>\n",
       "      <td>400</td>\n",
       "      <td>2</td>\n",
       "      <td>0.1</td>\n",
       "      <td>{'subsample': 0.6, 'n_estimators': 400, 'max_d...</td>\n",
       "      <td>0.867526</td>\n",
       "      <td>0.865443</td>\n",
       "      <td>0.860041</td>\n",
       "      <td>0.860513</td>\n",
       "      <td>0.858432</td>\n",
       "      <td>0.862391</td>\n",
       "      <td>0.003476</td>\n",
       "      <td>3</td>\n",
       "    </tr>\n",
       "    <tr>\n",
       "      <th>3</th>\n",
       "      <td>33.072855</td>\n",
       "      <td>0.073866</td>\n",
       "      <td>0.064283</td>\n",
       "      <td>0.001669</td>\n",
       "      <td>1</td>\n",
       "      <td>300</td>\n",
       "      <td>4</td>\n",
       "      <td>0.1</td>\n",
       "      <td>{'subsample': 1, 'n_estimators': 300, 'max_dep...</td>\n",
       "      <td>0.867969</td>\n",
       "      <td>0.866939</td>\n",
       "      <td>0.859848</td>\n",
       "      <td>0.859341</td>\n",
       "      <td>0.857610</td>\n",
       "      <td>0.862341</td>\n",
       "      <td>0.004252</td>\n",
       "      <td>4</td>\n",
       "    </tr>\n",
       "    <tr>\n",
       "      <th>19</th>\n",
       "      <td>8.513491</td>\n",
       "      <td>0.010446</td>\n",
       "      <td>0.026111</td>\n",
       "      <td>0.000162</td>\n",
       "      <td>1</td>\n",
       "      <td>100</td>\n",
       "      <td>3</td>\n",
       "      <td>0.1</td>\n",
       "      <td>{'subsample': 1, 'n_estimators': 100, 'max_dep...</td>\n",
       "      <td>0.868226</td>\n",
       "      <td>0.865640</td>\n",
       "      <td>0.859757</td>\n",
       "      <td>0.859595</td>\n",
       "      <td>0.857886</td>\n",
       "      <td>0.862221</td>\n",
       "      <td>0.003988</td>\n",
       "      <td>5</td>\n",
       "    </tr>\n",
       "  </tbody>\n",
       "</table>\n",
       "</div>"
      ],
      "text/plain": [
       "    mean_fit_time  std_fit_time  mean_score_time  std_score_time  \\\n",
       "0       16.994186      0.098788         0.040523        0.000586   \n",
       "33      10.358628      0.020475         0.031248        0.001285   \n",
       "14      17.384691      0.014359         0.046835        0.000864   \n",
       "3       33.072855      0.073866         0.064283        0.001669   \n",
       "19       8.513491      0.010446         0.026111        0.000162   \n",
       "\n",
       "   param_subsample param_n_estimators param_max_depth param_learning_rate  \\\n",
       "0                1                200               3                 0.1   \n",
       "33             0.9                100               4                 0.1   \n",
       "14             0.6                400               2                 0.1   \n",
       "3                1                300               4                 0.1   \n",
       "19               1                100               3                 0.1   \n",
       "\n",
       "                                               params  split0_test_score  \\\n",
       "0   {'subsample': 1, 'n_estimators': 200, 'max_dep...           0.868679   \n",
       "33  {'subsample': 0.9, 'n_estimators': 100, 'max_d...           0.869096   \n",
       "14  {'subsample': 0.6, 'n_estimators': 400, 'max_d...           0.867526   \n",
       "3   {'subsample': 1, 'n_estimators': 300, 'max_dep...           0.867969   \n",
       "19  {'subsample': 1, 'n_estimators': 100, 'max_dep...           0.868226   \n",
       "\n",
       "    split1_test_score  split2_test_score  split3_test_score  \\\n",
       "0            0.866806           0.860427           0.860879   \n",
       "33           0.866591           0.860446           0.859779   \n",
       "14           0.865443           0.860041           0.860513   \n",
       "3            0.866939           0.859848           0.859341   \n",
       "19           0.865640           0.859757           0.859595   \n",
       "\n",
       "    split4_test_score  mean_test_score  std_test_score  rank_test_score  \n",
       "0            0.859003         0.863159        0.003840                1  \n",
       "33           0.857589         0.862700        0.004377                2  \n",
       "14           0.858432         0.862391        0.003476                3  \n",
       "3            0.857610         0.862341        0.004252                4  \n",
       "19           0.857886         0.862221        0.003988                5  "
      ]
     },
     "execution_count": 79,
     "metadata": {},
     "output_type": "execute_result"
    }
   ],
   "source": [
    "rs_df3 = pd.DataFrame(rs_rf.cv_results_)\n",
    "rs_df3.sort_values('rank_test_score').head()"
   ]
  },
  {
   "cell_type": "code",
   "execution_count": 80,
   "id": "3ab27e8d",
   "metadata": {
    "ExecuteTime": {
     "end_time": "2023-02-11T13:13:00.954489Z",
     "start_time": "2023-02-11T13:13:00.945734Z"
    }
   },
   "outputs": [],
   "source": [
    "#GridSearch->subsample, max_depth, n_estimator을 GridSearch로 튜닝해보자\n",
    "\n",
    "param = {\n",
    "    \n",
    "    \"subsample\": [0.6, 0.7, 0.8], \n",
    "    \"n_estimators\": [300, 400, 500],\n",
    "    \"max_depth\": [2,3,4]\n",
    "}"
   ]
  },
  {
   "cell_type": "code",
   "execution_count": 81,
   "id": "d3ce4edc",
   "metadata": {
    "ExecuteTime": {
     "end_time": "2023-02-11T13:24:12.002255Z",
     "start_time": "2023-02-11T13:13:46.971870Z"
    }
   },
   "outputs": [
    {
     "data": {
      "text/plain": [
       "GridSearchCV(cv=5, estimator=GradientBoostingClassifier(random_state=0),\n",
       "             n_jobs=-1,\n",
       "             param_grid={'max_depth': [2, 3, 4],\n",
       "                         'n_estimators': [300, 400, 500],\n",
       "                         'subsample': [0.6, 0.7, 0.8]},\n",
       "             scoring='roc_auc')"
      ]
     },
     "execution_count": 81,
     "metadata": {},
     "output_type": "execute_result"
    }
   ],
   "source": [
    "gs_rf = GridSearchCV(GradientBoostingClassifier(learning_rate=0.1, random_state=0),\n",
    "                     param_grid=param, scoring='roc_auc', cv=5, n_jobs=-1)\n",
    "gs_rf.fit(X_train, y_train)   "
   ]
  },
  {
   "cell_type": "code",
   "execution_count": 82,
   "id": "72c30ed7",
   "metadata": {
    "ExecuteTime": {
     "end_time": "2023-02-11T13:39:13.276886Z",
     "start_time": "2023-02-11T13:39:13.268618Z"
    }
   },
   "outputs": [
    {
     "data": {
      "text/plain": [
       "{'max_depth': 3, 'n_estimators': 300, 'subsample': 0.8}"
      ]
     },
     "execution_count": 82,
     "metadata": {},
     "output_type": "execute_result"
    }
   ],
   "source": [
    "gs_rf.best_params_"
   ]
  },
  {
   "cell_type": "code",
   "execution_count": 83,
   "id": "dfab5b49",
   "metadata": {
    "ExecuteTime": {
     "end_time": "2023-02-11T13:39:16.536494Z",
     "start_time": "2023-02-11T13:39:16.520379Z"
    }
   },
   "outputs": [
    {
     "data": {
      "text/plain": [
       "0.8631676075331474"
      ]
     },
     "execution_count": 83,
     "metadata": {},
     "output_type": "execute_result"
    }
   ],
   "source": [
    "gs_rf.best_score_"
   ]
  },
  {
   "cell_type": "code",
   "execution_count": 84,
   "id": "a1c75fd1",
   "metadata": {
    "ExecuteTime": {
     "end_time": "2023-02-11T13:39:19.769542Z",
     "start_time": "2023-02-11T13:39:19.737605Z"
    }
   },
   "outputs": [
    {
     "data": {
      "text/html": [
       "<div>\n",
       "<style scoped>\n",
       "    .dataframe tbody tr th:only-of-type {\n",
       "        vertical-align: middle;\n",
       "    }\n",
       "\n",
       "    .dataframe tbody tr th {\n",
       "        vertical-align: top;\n",
       "    }\n",
       "\n",
       "    .dataframe thead th {\n",
       "        text-align: right;\n",
       "    }\n",
       "</style>\n",
       "<table border=\"1\" class=\"dataframe\">\n",
       "  <thead>\n",
       "    <tr style=\"text-align: right;\">\n",
       "      <th></th>\n",
       "      <th>mean_fit_time</th>\n",
       "      <th>std_fit_time</th>\n",
       "      <th>mean_score_time</th>\n",
       "      <th>std_score_time</th>\n",
       "      <th>param_max_depth</th>\n",
       "      <th>param_n_estimators</th>\n",
       "      <th>param_subsample</th>\n",
       "      <th>params</th>\n",
       "      <th>split0_test_score</th>\n",
       "      <th>split1_test_score</th>\n",
       "      <th>split2_test_score</th>\n",
       "      <th>split3_test_score</th>\n",
       "      <th>split4_test_score</th>\n",
       "      <th>mean_test_score</th>\n",
       "      <th>std_test_score</th>\n",
       "      <th>rank_test_score</th>\n",
       "    </tr>\n",
       "  </thead>\n",
       "  <tbody>\n",
       "    <tr>\n",
       "      <th>11</th>\n",
       "      <td>28.120148</td>\n",
       "      <td>0.059332</td>\n",
       "      <td>0.068336</td>\n",
       "      <td>0.004781</td>\n",
       "      <td>3</td>\n",
       "      <td>300</td>\n",
       "      <td>0.8</td>\n",
       "      <td>{'max_depth': 3, 'n_estimators': 300, 'subsamp...</td>\n",
       "      <td>0.868731</td>\n",
       "      <td>0.866366</td>\n",
       "      <td>0.861959</td>\n",
       "      <td>0.860392</td>\n",
       "      <td>0.858391</td>\n",
       "      <td>0.863168</td>\n",
       "      <td>0.003825</td>\n",
       "      <td>1</td>\n",
       "    </tr>\n",
       "    <tr>\n",
       "      <th>14</th>\n",
       "      <td>37.415066</td>\n",
       "      <td>0.050385</td>\n",
       "      <td>0.084606</td>\n",
       "      <td>0.005671</td>\n",
       "      <td>3</td>\n",
       "      <td>400</td>\n",
       "      <td>0.8</td>\n",
       "      <td>{'max_depth': 3, 'n_estimators': 400, 'subsamp...</td>\n",
       "      <td>0.868427</td>\n",
       "      <td>0.866102</td>\n",
       "      <td>0.862106</td>\n",
       "      <td>0.860269</td>\n",
       "      <td>0.858541</td>\n",
       "      <td>0.863089</td>\n",
       "      <td>0.003665</td>\n",
       "      <td>2</td>\n",
       "    </tr>\n",
       "    <tr>\n",
       "      <th>10</th>\n",
       "      <td>25.429652</td>\n",
       "      <td>0.056401</td>\n",
       "      <td>0.066619</td>\n",
       "      <td>0.003105</td>\n",
       "      <td>3</td>\n",
       "      <td>300</td>\n",
       "      <td>0.7</td>\n",
       "      <td>{'max_depth': 3, 'n_estimators': 300, 'subsamp...</td>\n",
       "      <td>0.868728</td>\n",
       "      <td>0.866457</td>\n",
       "      <td>0.860556</td>\n",
       "      <td>0.860196</td>\n",
       "      <td>0.858097</td>\n",
       "      <td>0.862807</td>\n",
       "      <td>0.004061</td>\n",
       "      <td>3</td>\n",
       "    </tr>\n",
       "    <tr>\n",
       "      <th>17</th>\n",
       "      <td>46.777740</td>\n",
       "      <td>0.112343</td>\n",
       "      <td>0.098028</td>\n",
       "      <td>0.005294</td>\n",
       "      <td>3</td>\n",
       "      <td>500</td>\n",
       "      <td>0.8</td>\n",
       "      <td>{'max_depth': 3, 'n_estimators': 500, 'subsamp...</td>\n",
       "      <td>0.867977</td>\n",
       "      <td>0.865905</td>\n",
       "      <td>0.861601</td>\n",
       "      <td>0.859916</td>\n",
       "      <td>0.858513</td>\n",
       "      <td>0.862782</td>\n",
       "      <td>0.003594</td>\n",
       "      <td>4</td>\n",
       "    </tr>\n",
       "    <tr>\n",
       "      <th>13</th>\n",
       "      <td>33.869968</td>\n",
       "      <td>0.045785</td>\n",
       "      <td>0.077849</td>\n",
       "      <td>0.004183</td>\n",
       "      <td>3</td>\n",
       "      <td>400</td>\n",
       "      <td>0.7</td>\n",
       "      <td>{'max_depth': 3, 'n_estimators': 400, 'subsamp...</td>\n",
       "      <td>0.868106</td>\n",
       "      <td>0.866522</td>\n",
       "      <td>0.860528</td>\n",
       "      <td>0.859968</td>\n",
       "      <td>0.857826</td>\n",
       "      <td>0.862590</td>\n",
       "      <td>0.003993</td>\n",
       "      <td>5</td>\n",
       "    </tr>\n",
       "  </tbody>\n",
       "</table>\n",
       "</div>"
      ],
      "text/plain": [
       "    mean_fit_time  std_fit_time  mean_score_time  std_score_time  \\\n",
       "11      28.120148      0.059332         0.068336        0.004781   \n",
       "14      37.415066      0.050385         0.084606        0.005671   \n",
       "10      25.429652      0.056401         0.066619        0.003105   \n",
       "17      46.777740      0.112343         0.098028        0.005294   \n",
       "13      33.869968      0.045785         0.077849        0.004183   \n",
       "\n",
       "   param_max_depth param_n_estimators param_subsample  \\\n",
       "11               3                300             0.8   \n",
       "14               3                400             0.8   \n",
       "10               3                300             0.7   \n",
       "17               3                500             0.8   \n",
       "13               3                400             0.7   \n",
       "\n",
       "                                               params  split0_test_score  \\\n",
       "11  {'max_depth': 3, 'n_estimators': 300, 'subsamp...           0.868731   \n",
       "14  {'max_depth': 3, 'n_estimators': 400, 'subsamp...           0.868427   \n",
       "10  {'max_depth': 3, 'n_estimators': 300, 'subsamp...           0.868728   \n",
       "17  {'max_depth': 3, 'n_estimators': 500, 'subsamp...           0.867977   \n",
       "13  {'max_depth': 3, 'n_estimators': 400, 'subsamp...           0.868106   \n",
       "\n",
       "    split1_test_score  split2_test_score  split3_test_score  \\\n",
       "11           0.866366           0.861959           0.860392   \n",
       "14           0.866102           0.862106           0.860269   \n",
       "10           0.866457           0.860556           0.860196   \n",
       "17           0.865905           0.861601           0.859916   \n",
       "13           0.866522           0.860528           0.859968   \n",
       "\n",
       "    split4_test_score  mean_test_score  std_test_score  rank_test_score  \n",
       "11           0.858391         0.863168        0.003825                1  \n",
       "14           0.858541         0.863089        0.003665                2  \n",
       "10           0.858097         0.862807        0.004061                3  \n",
       "17           0.858513         0.862782        0.003594                4  \n",
       "13           0.857826         0.862590        0.003993                5  "
      ]
     },
     "execution_count": 84,
     "metadata": {},
     "output_type": "execute_result"
    }
   ],
   "source": [
    "gs_df3 = pd.DataFrame(gs_rf.cv_results_)\n",
    "gs_df3.sort_values('rank_test_score').head()\n",
    "#max_depth는 3, subsample은 0.8로 설정하는게 가장 좋아보임."
   ]
  },
  {
   "cell_type": "code",
   "execution_count": 85,
   "id": "5117d76f",
   "metadata": {
    "ExecuteTime": {
     "end_time": "2023-02-11T13:39:25.231991Z",
     "start_time": "2023-02-11T13:39:25.222772Z"
    }
   },
   "outputs": [],
   "source": [
    "# best model 등록\n",
    "best_model_rf = gs_rf.best_estimator_"
   ]
  },
  {
   "cell_type": "code",
   "execution_count": 86,
   "id": "83ac62d7",
   "metadata": {
    "ExecuteTime": {
     "end_time": "2023-02-11T13:39:28.340842Z",
     "start_time": "2023-02-11T13:39:28.319221Z"
    }
   },
   "outputs": [],
   "source": [
    "# 모델 저장\n",
    "rf_file_path = os.path.join(save_dir, 'random_forest_best.pkl')\n",
    "\n",
    "with open(rf_file_path, 'wb') as fw:\n",
    "    pickle.dump(best_model_rf, fw)"
   ]
  },
  {
   "cell_type": "code",
   "execution_count": 87,
   "id": "a3378bb6",
   "metadata": {
    "ExecuteTime": {
     "end_time": "2023-02-11T13:39:32.730610Z",
     "start_time": "2023-02-11T13:39:32.707717Z"
    }
   },
   "outputs": [],
   "source": [
    "# 모델 로드\n",
    "with open(rf_file_path, 'rb') as fo:\n",
    "    saved_rf = pickle.load(fo)"
   ]
  },
  {
   "cell_type": "code",
   "execution_count": null,
   "id": "09d84397",
   "metadata": {},
   "outputs": [],
   "source": []
  },
  {
   "cell_type": "markdown",
   "id": "f9ba2bda",
   "metadata": {},
   "source": [
    "## VotingClassifier 적용"
   ]
  },
  {
   "cell_type": "code",
   "execution_count": 88,
   "id": "08bb1332",
   "metadata": {
    "ExecuteTime": {
     "end_time": "2023-02-11T13:39:35.281114Z",
     "start_time": "2023-02-11T13:39:35.263200Z"
    }
   },
   "outputs": [],
   "source": [
    "# VotingClassifier 객체생성\n",
    "from sklearn.ensemble import VotingClassifier\n",
    "estimators = [('xgb', saved_xgb),('gradient boost', saved_gb), ('random forest', saved_rf)]\n",
    "voting_clf = VotingClassifier(estimators=estimators, voting='soft', n_jobs=-1)"
   ]
  },
  {
   "cell_type": "code",
   "execution_count": 89,
   "id": "3f08c764",
   "metadata": {
    "ExecuteTime": {
     "end_time": "2023-02-11T13:40:10.618083Z",
     "start_time": "2023-02-11T13:39:38.804822Z"
    }
   },
   "outputs": [
    {
     "data": {
      "text/plain": [
       "VotingClassifier(estimators=[('xgb',\n",
       "                              XGBClassifier(base_score=None, booster=None,\n",
       "                                            callbacks=None,\n",
       "                                            colsample_bylevel=None,\n",
       "                                            colsample_bynode=None,\n",
       "                                            colsample_bytree=None,\n",
       "                                            early_stopping_rounds=None,\n",
       "                                            enable_categorical=False,\n",
       "                                            eval_metric=None,\n",
       "                                            feature_types=None, gamma=None,\n",
       "                                            gpu_id=None, grow_policy=None,\n",
       "                                            importance_type=None,\n",
       "                                            interaction_constraints=None,\n",
       "                                            learing_rat...\n",
       "                                            max_leaves=None,\n",
       "                                            min_child_weight=None, missing=nan,\n",
       "                                            monotone_constraints=None,\n",
       "                                            n_estimators=400, n_jobs=None,\n",
       "                                            num_parallel_tree=None,\n",
       "                                            predictor=None, ...)),\n",
       "                             ('gradient boost',\n",
       "                              GradientBoostingClassifier(n_estimators=300,\n",
       "                                                         random_state=0,\n",
       "                                                         subsample=0.8)),\n",
       "                             ('random forest',\n",
       "                              GradientBoostingClassifier(n_estimators=300,\n",
       "                                                         random_state=0,\n",
       "                                                         subsample=0.8))],\n",
       "                 n_jobs=-1, voting='soft')"
      ]
     },
     "execution_count": 89,
     "metadata": {},
     "output_type": "execute_result"
    }
   ],
   "source": [
    "#VotingClassifier 학습\n",
    "voting_clf.fit(X_train, y_train)"
   ]
  },
  {
   "cell_type": "code",
   "execution_count": 90,
   "id": "01585bc4",
   "metadata": {
    "ExecuteTime": {
     "end_time": "2023-02-11T14:23:59.059644Z",
     "start_time": "2023-02-11T14:23:58.833510Z"
    }
   },
   "outputs": [],
   "source": [
    "# 모델 예측\n",
    "pred_proba = voting_clf.predict_proba(X_test)\n",
    "auc_score = roc_auc_score(y_test, pred_proba[:,1])"
   ]
  },
  {
   "cell_type": "code",
   "execution_count": null,
   "id": "32dcdd98",
   "metadata": {},
   "outputs": [],
   "source": [
    "# 결과확인"
   ]
  },
  {
   "cell_type": "code",
   "execution_count": null,
   "id": "dac1442e",
   "metadata": {},
   "outputs": [],
   "source": []
  },
  {
   "cell_type": "markdown",
   "id": "0de8737b",
   "metadata": {},
   "source": [
    "## Test Set으로 검증"
   ]
  },
  {
   "cell_type": "code",
   "execution_count": 91,
   "id": "8552dfbc",
   "metadata": {
    "ExecuteTime": {
     "end_time": "2023-02-11T14:24:11.673701Z",
     "start_time": "2023-02-11T14:24:11.662331Z"
    }
   },
   "outputs": [],
   "source": [
    "# test 함수 정의\n",
    "def test(estimator, X, y):\n",
    "    pred_prob = estimator.predict_proba(X)\n",
    "    \n",
    "    return roc_auc_score(y, pred_prob[:, 1])"
   ]
  },
  {
   "cell_type": "code",
   "execution_count": 92,
   "id": "851e2918",
   "metadata": {
    "ExecuteTime": {
     "end_time": "2023-02-11T14:24:16.201499Z",
     "start_time": "2023-02-11T14:24:16.144847Z"
    }
   },
   "outputs": [
    {
     "data": {
      "text/plain": [
       "0.86742108132914"
      ]
     },
     "execution_count": 92,
     "metadata": {},
     "output_type": "execute_result"
    }
   ],
   "source": [
    "# model 검증 - 성능이 가장 좋았던 xgboost, gradient boosting 모델들을 검증한다.\n",
    "test(saved_xgb, X_test, y_test)"
   ]
  },
  {
   "cell_type": "code",
   "execution_count": 93,
   "id": "1b44efbd",
   "metadata": {
    "ExecuteTime": {
     "end_time": "2023-02-11T14:24:19.740968Z",
     "start_time": "2023-02-11T14:24:19.617595Z"
    }
   },
   "outputs": [
    {
     "data": {
      "text/plain": [
       "0.8678574062702163"
      ]
     },
     "execution_count": 93,
     "metadata": {},
     "output_type": "execute_result"
    }
   ],
   "source": [
    "test(saved_gb, X_test, y_test)"
   ]
  },
  {
   "cell_type": "code",
   "execution_count": null,
   "id": "7f0815d4",
   "metadata": {},
   "outputs": [],
   "source": []
  }
 ],
 "metadata": {
  "kernelspec": {
   "display_name": "Python 3 (ipykernel)",
   "language": "python",
   "name": "python3"
  },
  "language_info": {
   "codemirror_mode": {
    "name": "ipython",
    "version": 3
   },
   "file_extension": ".py",
   "mimetype": "text/x-python",
   "name": "python",
   "nbconvert_exporter": "python",
   "pygments_lexer": "ipython3",
   "version": "3.9.13"
  },
  "toc": {
   "base_numbering": 1,
   "nav_menu": {},
   "number_sections": true,
   "sideBar": true,
   "skip_h1_title": false,
   "title_cell": "Table of Contents",
   "title_sidebar": "Contents",
   "toc_cell": false,
   "toc_position": {
    "height": "calc(100% - 180px)",
    "left": "10px",
    "top": "150px",
    "width": "475px"
   },
   "toc_section_display": true,
   "toc_window_display": true
  },
  "varInspector": {
   "cols": {
    "lenName": 16,
    "lenType": 16,
    "lenVar": 40
   },
   "kernels_config": {
    "python": {
     "delete_cmd_postfix": "",
     "delete_cmd_prefix": "del ",
     "library": "var_list.py",
     "varRefreshCmd": "print(var_dic_list())"
    },
    "r": {
     "delete_cmd_postfix": ") ",
     "delete_cmd_prefix": "rm(",
     "library": "var_list.r",
     "varRefreshCmd": "cat(var_dic_list()) "
    }
   },
   "types_to_exclude": [
    "module",
    "function",
    "builtin_function_or_method",
    "instance",
    "_Feature"
   ],
   "window_display": false
  }
 },
 "nbformat": 4,
 "nbformat_minor": 5
}
