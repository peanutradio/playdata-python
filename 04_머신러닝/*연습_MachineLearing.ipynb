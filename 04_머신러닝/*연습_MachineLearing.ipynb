{
 "cells": [
  {
   "cell_type": "code",
   "execution_count": 3,
   "metadata": {
    "ExecuteTime": {
     "end_time": "2023-02-06T23:05:30.400026Z",
     "start_time": "2023-02-06T23:05:30.385245Z"
    }
   },
   "outputs": [],
   "source": [
    "# SVC 분류\n",
    "# import\n",
    "\n",
    "import numpy as np\n",
    "import pandas as pd\n",
    "\n",
    "from sklearn.datasets import load_breast_cancer\n",
    "from sklearn.model_selection import train_test_split, GridSearchCV\n",
    "from sklearn.preprocessing import StandardScaler\n",
    "\n",
    "from sklearn.svm import SVC, LinearSVC\n",
    "from sklearn.metrics import accuracy_score\n"
   ]
  },
  {
   "cell_type": "code",
   "execution_count": 4,
   "metadata": {
    "ExecuteTime": {
     "end_time": "2023-02-06T23:05:31.689169Z",
     "start_time": "2023-02-06T23:05:31.662196Z"
    }
   },
   "outputs": [],
   "source": [
    "# 대이터 로딩, train. test set 나누기\n",
    "X, y = load_breast_cancer(return_X_y=True)\n",
    "X_train, X_test, y_train, y_test = train_test_split(X, y, stratify=y, random_state=0)"
   ]
  },
  {
   "cell_type": "code",
   "execution_count": 5,
   "metadata": {
    "ExecuteTime": {
     "end_time": "2023-02-06T23:07:10.060697Z",
     "start_time": "2023-02-06T23:07:10.053205Z"
    }
   },
   "outputs": [],
   "source": [
    "# feature Scaling\n",
    "scaler = StandardScaler()\n",
    "X_train_scaled = scaler.fit_transform(X_train)\n",
    "X_test_scaled = scaler.transform(X_test)"
   ]
  },
  {
   "cell_type": "code",
   "execution_count": 18,
   "metadata": {
    "ExecuteTime": {
     "end_time": "2023-02-06T23:17:51.729831Z",
     "start_time": "2023-02-06T23:17:51.649418Z"
    }
   },
   "outputs": [],
   "source": [
    "# 모델 생성 및 학습\n",
    "# : c값 변경하면서 성능 확인\n",
    "c_list = [0.0001, 0.001, 0.01, 0.1, 1, 10, 100]\n",
    "train_acc_list = []\n",
    "test_acc_list = []\n",
    "\n",
    "for c in c_list:\n",
    "    # 모델생성\n",
    "    svc = SVC(kernel='linear', C=c, random_state=0)\n",
    "    svc.fit(X_train_scaled, y_train)\n",
    "    \n",
    "    train_pred = svc.predict(X_train_scaled)\n",
    "    test_pred = svc.predict(X_test_scaled)\n",
    "    \n",
    "    train_acc_list.append(accuracy_score(y_train, train_pred))\n",
    "    test_acc_list.append(accuracy_score(y_test, test_pred))"
   ]
  },
  {
   "cell_type": "code",
   "execution_count": 19,
   "metadata": {
    "ExecuteTime": {
     "end_time": "2023-02-06T23:17:52.767293Z",
     "start_time": "2023-02-06T23:17:52.739676Z"
    }
   },
   "outputs": [
    {
     "data": {
      "text/html": [
       "<div>\n",
       "<style scoped>\n",
       "    .dataframe tbody tr th:only-of-type {\n",
       "        vertical-align: middle;\n",
       "    }\n",
       "\n",
       "    .dataframe tbody tr th {\n",
       "        vertical-align: top;\n",
       "    }\n",
       "\n",
       "    .dataframe thead th {\n",
       "        text-align: right;\n",
       "    }\n",
       "</style>\n",
       "<table border=\"1\" class=\"dataframe\">\n",
       "  <thead>\n",
       "    <tr style=\"text-align: right;\">\n",
       "      <th></th>\n",
       "      <th>train</th>\n",
       "      <th>test</th>\n",
       "    </tr>\n",
       "    <tr>\n",
       "      <th>C</th>\n",
       "      <th></th>\n",
       "      <th></th>\n",
       "    </tr>\n",
       "  </thead>\n",
       "  <tbody>\n",
       "    <tr>\n",
       "      <th>0.0001</th>\n",
       "      <td>0.643192</td>\n",
       "      <td>0.643357</td>\n",
       "    </tr>\n",
       "    <tr>\n",
       "      <th>0.0010</th>\n",
       "      <td>0.936620</td>\n",
       "      <td>0.944056</td>\n",
       "    </tr>\n",
       "    <tr>\n",
       "      <th>0.0100</th>\n",
       "      <td>0.978873</td>\n",
       "      <td>0.965035</td>\n",
       "    </tr>\n",
       "    <tr>\n",
       "      <th>0.1000</th>\n",
       "      <td>0.990610</td>\n",
       "      <td>0.958042</td>\n",
       "    </tr>\n",
       "    <tr>\n",
       "      <th>1.0000</th>\n",
       "      <td>0.990610</td>\n",
       "      <td>0.965035</td>\n",
       "    </tr>\n",
       "    <tr>\n",
       "      <th>10.0000</th>\n",
       "      <td>0.992958</td>\n",
       "      <td>0.958042</td>\n",
       "    </tr>\n",
       "    <tr>\n",
       "      <th>100.0000</th>\n",
       "      <td>1.000000</td>\n",
       "      <td>0.916084</td>\n",
       "    </tr>\n",
       "  </tbody>\n",
       "</table>\n",
       "</div>"
      ],
      "text/plain": [
       "             train      test\n",
       "C                           \n",
       "0.0001    0.643192  0.643357\n",
       "0.0010    0.936620  0.944056\n",
       "0.0100    0.978873  0.965035\n",
       "0.1000    0.990610  0.958042\n",
       "1.0000    0.990610  0.965035\n",
       "10.0000   0.992958  0.958042\n",
       "100.0000  1.000000  0.916084"
      ]
     },
     "execution_count": 19,
     "metadata": {},
     "output_type": "execute_result"
    }
   ],
   "source": [
    "# 결과확인\n",
    "result = pd.DataFrame({\n",
    "    \"train\": train_acc_list, \n",
    "    \"test\": test_acc_list, \n",
    "     }, index=c_list)     # c_list를 인덱스로!!\n",
    "    \n",
    "result.rename_axis('C', axis=0, inplace=True)  #1번 방향 axis 이름 지정.(C, train, test)\n",
    "result"
   ]
  },
  {
   "cell_type": "code",
   "execution_count": 30,
   "metadata": {
    "ExecuteTime": {
     "end_time": "2023-02-06T23:20:35.185254Z",
     "start_time": "2023-02-06T23:20:35.072949Z"
    }
   },
   "outputs": [
    {
     "data": {
      "text/plain": [
       "<AxesSubplot:xlabel='C'>"
      ]
     },
     "execution_count": 30,
     "metadata": {},
     "output_type": "execute_result"
    },
    {
     "data": {
      "image/png": "[encoded data removed]",
      "text/plain": [
       "<Figure size 640x480 with 1 Axes>"
      ]
     },
     "metadata": {},
     "output_type": "display_data"
    }
   ],
   "source": [
    "import matplotlib.pyplot as plt\n",
    "result.plot(ylim = (0.94, 1.0))"
   ]
  },
  {
   "cell_type": "code",
   "execution_count": 34,
   "metadata": {
    "ExecuteTime": {
     "end_time": "2023-02-06T23:22:50.731830Z",
     "start_time": "2023-02-06T23:22:50.623591Z"
    }
   },
   "outputs": [
    {
     "name": "stdout",
     "output_type": "stream",
     "text": [
      "[0.0001, 0.001, 0.01, 0.1, 1, 10, 100]\n",
      "[-4. -3. -2. -1.  0.  1.  2.]\n"
     ]
    },
    {
     "data": {
      "image/png": "[encoded data removed]",
      "text/plain": [
       "<Figure size 640x480 with 1 Axes>"
      ]
     },
     "metadata": {},
     "output_type": "display_data"
    }
   ],
   "source": [
    "c = np.log10(np.array(c_list))\n",
    "print(c_list)\n",
    "print(c)\n",
    "\n",
    "plt.plot(c, result['train'], label = 'Train set')\n",
    "plt.plot(c, result['test'], label = 'Test set')\n",
    "plt.legend()\n",
    "plt.ylim(0.85, 1.0)\n",
    "plt.show()"
   ]
  },
  {
   "cell_type": "code",
   "execution_count": null,
   "metadata": {},
   "outputs": [],
   "source": [
    "#========================================================"
   ]
  },
  {
   "cell_type": "code",
   "execution_count": 39,
   "metadata": {
    "ExecuteTime": {
     "end_time": "2023-02-06T23:33:11.845465Z",
     "start_time": "2023-02-06T23:33:11.630478Z"
    }
   },
   "outputs": [],
   "source": [
    "# Kernal SVC\n",
    "gamma_list =[0.0001, 0.001, 0.01, 0.1, 1, 10, 100]\n",
    "train_acc_list = []\n",
    "test_acc_list = []\n",
    "\n",
    "for gamma in gamma_list:\n",
    "    svc =  SVC(kernel='rbf', C=1, gamma=gamma,random_state=0)\n",
    "    svc.fit(X_train_scaled, y_train)\n",
    "    \n",
    "    train_pred = svc.predict(X_train_scaled)\n",
    "    test_pred  = svc.predict(X_test_scaled)\n",
    "    \n",
    "    train_acc_list.append(accuracy_score(y_train,train_pred))\n",
    "    test_acc_list.append(accuracy_score(y_test, test_pred))"
   ]
  },
  {
   "cell_type": "code",
   "execution_count": 40,
   "metadata": {
    "ExecuteTime": {
     "end_time": "2023-02-06T23:33:13.140758Z",
     "start_time": "2023-02-06T23:33:13.133045Z"
    }
   },
   "outputs": [],
   "source": [
    "result2 = pd.DataFrame({\n",
    "    \"train\": train_acc_list, \n",
    "    \"test\": test_acc_list}, index=gamma_list)\n",
    "result2.rename_axis('gamma', axis=0, inplace=True)"
   ]
  },
  {
   "cell_type": "code",
   "execution_count": 42,
   "metadata": {
    "ExecuteTime": {
     "end_time": "2023-02-06T23:33:33.558685Z",
     "start_time": "2023-02-06T23:33:33.537340Z"
    }
   },
   "outputs": [
    {
     "data": {
      "text/html": [
       "<div>\n",
       "<style scoped>\n",
       "    .dataframe tbody tr th:only-of-type {\n",
       "        vertical-align: middle;\n",
       "    }\n",
       "\n",
       "    .dataframe tbody tr th {\n",
       "        vertical-align: top;\n",
       "    }\n",
       "\n",
       "    .dataframe thead th {\n",
       "        text-align: right;\n",
       "    }\n",
       "</style>\n",
       "<table border=\"1\" class=\"dataframe\">\n",
       "  <thead>\n",
       "    <tr style=\"text-align: right;\">\n",
       "      <th></th>\n",
       "      <th>train</th>\n",
       "      <th>test</th>\n",
       "    </tr>\n",
       "    <tr>\n",
       "      <th>gamma</th>\n",
       "      <th></th>\n",
       "      <th></th>\n",
       "    </tr>\n",
       "  </thead>\n",
       "  <tbody>\n",
       "    <tr>\n",
       "      <th>0.0001</th>\n",
       "      <td>0.791080</td>\n",
       "      <td>0.797203</td>\n",
       "    </tr>\n",
       "    <tr>\n",
       "      <th>0.0010</th>\n",
       "      <td>0.950704</td>\n",
       "      <td>0.958042</td>\n",
       "    </tr>\n",
       "    <tr>\n",
       "      <th>0.0100</th>\n",
       "      <td>0.985915</td>\n",
       "      <td>0.958042</td>\n",
       "    </tr>\n",
       "    <tr>\n",
       "      <th>0.1000</th>\n",
       "      <td>0.995305</td>\n",
       "      <td>0.923077</td>\n",
       "    </tr>\n",
       "    <tr>\n",
       "      <th>1.0000</th>\n",
       "      <td>1.000000</td>\n",
       "      <td>0.636364</td>\n",
       "    </tr>\n",
       "    <tr>\n",
       "      <th>10.0000</th>\n",
       "      <td>1.000000</td>\n",
       "      <td>0.629371</td>\n",
       "    </tr>\n",
       "    <tr>\n",
       "      <th>100.0000</th>\n",
       "      <td>1.000000</td>\n",
       "      <td>0.629371</td>\n",
       "    </tr>\n",
       "  </tbody>\n",
       "</table>\n",
       "</div>"
      ],
      "text/plain": [
       "             train      test\n",
       "gamma                       \n",
       "0.0001    0.791080  0.797203\n",
       "0.0010    0.950704  0.958042\n",
       "0.0100    0.985915  0.958042\n",
       "0.1000    0.995305  0.923077\n",
       "1.0000    1.000000  0.636364\n",
       "10.0000   1.000000  0.629371\n",
       "100.0000  1.000000  0.629371"
      ]
     },
     "execution_count": 42,
     "metadata": {},
     "output_type": "execute_result"
    }
   ],
   "source": [
    "result2"
   ]
  },
  {
   "cell_type": "code",
   "execution_count": 48,
   "metadata": {
    "ExecuteTime": {
     "end_time": "2023-02-06T23:57:43.716063Z",
     "start_time": "2023-02-06T23:57:43.642189Z"
    }
   },
   "outputs": [
    {
     "data": {
      "text/plain": [
       "SVC(gamma=0.001, probability=True, random_state=0)"
      ]
     },
     "execution_count": 48,
     "metadata": {},
     "output_type": "execute_result"
    }
   ],
   "source": [
    "# ROC AUC score, AP score\n",
    "c = SVC(C=1.0, gamma= 0.001, random_state=0,\n",
    "        probability=True)\n",
    "c.fit(X_train_scaled, y_train)\n"
   ]
  },
  {
   "cell_type": "code",
   "execution_count": 62,
   "metadata": {
    "ExecuteTime": {
     "end_time": "2023-02-07T00:05:36.982119Z",
     "start_time": "2023-02-07T00:05:36.962689Z"
    },
    "collapsed": true
   },
   "outputs": [
    {
     "ename": "AttributeError",
     "evalue": "predict_proba is not available when  probability=False",
     "output_type": "error",
     "traceback": [
      "\u001b[0;31m---------------------------------------------------------------------------\u001b[0m",
      "\u001b[0;31mAttributeError\u001b[0m                            Traceback (most recent call last)",
      "\u001b[0;32m/var/folders/jf/l3x8dj6n62s041cwvf169t5w0000gn/T/ipykernel_26660/905613274.py\u001b[0m in \u001b[0;36m<module>\u001b[0;34m\u001b[0m\n\u001b[0;32m----> 1\u001b[0;31m \u001b[0mtest_proba\u001b[0m \u001b[0;34m=\u001b[0m \u001b[0msvc\u001b[0m\u001b[0;34m.\u001b[0m\u001b[0mpredict_proba\u001b[0m\u001b[0;34m(\u001b[0m\u001b[0mX_test_scaled\u001b[0m\u001b[0;34m)\u001b[0m\u001b[0;34m[\u001b[0m\u001b[0;34m:\u001b[0m\u001b[0;34m,\u001b[0m \u001b[0;36m1\u001b[0m\u001b[0;34m]\u001b[0m\u001b[0;34m\u001b[0m\u001b[0;34m\u001b[0m\u001b[0m\n\u001b[0m",
      "\u001b[0;32m~/opt/anaconda3/lib/python3.9/site-packages/sklearn/utils/metaestimators.py\u001b[0m in \u001b[0;36m__get__\u001b[0;34m(self, obj, owner)\u001b[0m\n\u001b[1;32m    107\u001b[0m             \u001b[0;31m# delegate only on instances, not the classes.\u001b[0m\u001b[0;34m\u001b[0m\u001b[0;34m\u001b[0m\u001b[0m\n\u001b[1;32m    108\u001b[0m             \u001b[0;31m# this is to allow access to the docstrings.\u001b[0m\u001b[0;34m\u001b[0m\u001b[0;34m\u001b[0m\u001b[0m\n\u001b[0;32m--> 109\u001b[0;31m             \u001b[0;32mif\u001b[0m \u001b[0;32mnot\u001b[0m \u001b[0mself\u001b[0m\u001b[0;34m.\u001b[0m\u001b[0mcheck\u001b[0m\u001b[0;34m(\u001b[0m\u001b[0mobj\u001b[0m\u001b[0;34m)\u001b[0m\u001b[0;34m:\u001b[0m\u001b[0;34m\u001b[0m\u001b[0;34m\u001b[0m\u001b[0m\n\u001b[0m\u001b[1;32m    110\u001b[0m                 \u001b[0;32mraise\u001b[0m \u001b[0mattr_err\u001b[0m\u001b[0;34m\u001b[0m\u001b[0;34m\u001b[0m\u001b[0m\n\u001b[1;32m    111\u001b[0m \u001b[0;34m\u001b[0m\u001b[0m\n",
      "\u001b[0;32m~/opt/anaconda3/lib/python3.9/site-packages/sklearn/svm/_base.py\u001b[0m in \u001b[0;36m_check_proba\u001b[0;34m(self)\u001b[0m\n\u001b[1;32m    798\u001b[0m     \u001b[0;32mdef\u001b[0m \u001b[0m_check_proba\u001b[0m\u001b[0;34m(\u001b[0m\u001b[0mself\u001b[0m\u001b[0;34m)\u001b[0m\u001b[0;34m:\u001b[0m\u001b[0;34m\u001b[0m\u001b[0;34m\u001b[0m\u001b[0m\n\u001b[1;32m    799\u001b[0m         \u001b[0;32mif\u001b[0m \u001b[0;32mnot\u001b[0m \u001b[0mself\u001b[0m\u001b[0;34m.\u001b[0m\u001b[0mprobability\u001b[0m\u001b[0;34m:\u001b[0m\u001b[0;34m\u001b[0m\u001b[0;34m\u001b[0m\u001b[0m\n\u001b[0;32m--> 800\u001b[0;31m             raise AttributeError(\n\u001b[0m\u001b[1;32m    801\u001b[0m                 \u001b[0;34m\"predict_proba is not available when  probability=False\"\u001b[0m\u001b[0;34m\u001b[0m\u001b[0;34m\u001b[0m\u001b[0m\n\u001b[1;32m    802\u001b[0m             )\n",
      "\u001b[0;31mAttributeError\u001b[0m: predict_proba is not available when  probability=False"
     ]
    }
   ],
   "source": [
    "test_proba = svc.predict_proba(X_test_scaled)[:, 1]"
   ]
  },
  {
   "cell_type": "code",
   "execution_count": 63,
   "metadata": {
    "ExecuteTime": {
     "end_time": "2023-02-07T00:05:39.559744Z",
     "start_time": "2023-02-07T00:05:39.530114Z"
    },
    "collapsed": true
   },
   "outputs": [
    {
     "ename": "ValueError",
     "evalue": "y should be a 1d array, got an array of shape (143, 2) instead.",
     "output_type": "error",
     "traceback": [
      "\u001b[0;31m---------------------------------------------------------------------------\u001b[0m",
      "\u001b[0;31mValueError\u001b[0m                                Traceback (most recent call last)",
      "\u001b[0;32m/var/folders/jf/l3x8dj6n62s041cwvf169t5w0000gn/T/ipykernel_26660/675452896.py\u001b[0m in \u001b[0;36m<module>\u001b[0;34m\u001b[0m\n\u001b[1;32m      1\u001b[0m \u001b[0;32mfrom\u001b[0m \u001b[0msklearn\u001b[0m\u001b[0;34m.\u001b[0m\u001b[0mmetrics\u001b[0m \u001b[0;32mimport\u001b[0m \u001b[0mroc_auc_score\u001b[0m\u001b[0;34m,\u001b[0m \u001b[0maverage_precision_score\u001b[0m\u001b[0;34m\u001b[0m\u001b[0;34m\u001b[0m\u001b[0m\n\u001b[0;32m----> 2\u001b[0;31m \u001b[0mprint\u001b[0m\u001b[0;34m(\u001b[0m\u001b[0mroc_auc_score\u001b[0m\u001b[0;34m(\u001b[0m\u001b[0my_test\u001b[0m\u001b[0;34m,\u001b[0m \u001b[0mtest_proba\u001b[0m\u001b[0;34m)\u001b[0m\u001b[0;34m)\u001b[0m\u001b[0;34m\u001b[0m\u001b[0;34m\u001b[0m\u001b[0m\n\u001b[0m\u001b[1;32m      3\u001b[0m \u001b[0mprint\u001b[0m\u001b[0;34m(\u001b[0m\u001b[0maverage_precision_score\u001b[0m\u001b[0;34m(\u001b[0m\u001b[0my_test\u001b[0m\u001b[0;34m,\u001b[0m \u001b[0mtest_proba\u001b[0m\u001b[0;34m)\u001b[0m\u001b[0;34m)\u001b[0m\u001b[0;34m\u001b[0m\u001b[0;34m\u001b[0m\u001b[0m\n",
      "\u001b[0;32m~/opt/anaconda3/lib/python3.9/site-packages/sklearn/metrics/_ranking.py\u001b[0m in \u001b[0;36mroc_auc_score\u001b[0;34m(y_true, y_score, average, sample_weight, max_fpr, multi_class, labels)\u001b[0m\n\u001b[1;32m    565\u001b[0m         \u001b[0mlabels\u001b[0m \u001b[0;34m=\u001b[0m \u001b[0mnp\u001b[0m\u001b[0;34m.\u001b[0m\u001b[0munique\u001b[0m\u001b[0;34m(\u001b[0m\u001b[0my_true\u001b[0m\u001b[0;34m)\u001b[0m\u001b[0;34m\u001b[0m\u001b[0;34m\u001b[0m\u001b[0m\n\u001b[1;32m    566\u001b[0m         \u001b[0my_true\u001b[0m \u001b[0;34m=\u001b[0m \u001b[0mlabel_binarize\u001b[0m\u001b[0;34m(\u001b[0m\u001b[0my_true\u001b[0m\u001b[0;34m,\u001b[0m \u001b[0mclasses\u001b[0m\u001b[0;34m=\u001b[0m\u001b[0mlabels\u001b[0m\u001b[0;34m)\u001b[0m\u001b[0;34m[\u001b[0m\u001b[0;34m:\u001b[0m\u001b[0;34m,\u001b[0m \u001b[0;36m0\u001b[0m\u001b[0;34m]\u001b[0m\u001b[0;34m\u001b[0m\u001b[0;34m\u001b[0m\u001b[0m\n\u001b[0;32m--> 567\u001b[0;31m         return _average_binary_score(\n\u001b[0m\u001b[1;32m    568\u001b[0m             \u001b[0mpartial\u001b[0m\u001b[0;34m(\u001b[0m\u001b[0m_binary_roc_auc_score\u001b[0m\u001b[0;34m,\u001b[0m \u001b[0mmax_fpr\u001b[0m\u001b[0;34m=\u001b[0m\u001b[0mmax_fpr\u001b[0m\u001b[0;34m)\u001b[0m\u001b[0;34m,\u001b[0m\u001b[0;34m\u001b[0m\u001b[0;34m\u001b[0m\u001b[0m\n\u001b[1;32m    569\u001b[0m             \u001b[0my_true\u001b[0m\u001b[0;34m,\u001b[0m\u001b[0;34m\u001b[0m\u001b[0;34m\u001b[0m\u001b[0m\n",
      "\u001b[0;32m~/opt/anaconda3/lib/python3.9/site-packages/sklearn/metrics/_base.py\u001b[0m in \u001b[0;36m_average_binary_score\u001b[0;34m(binary_metric, y_true, y_score, average, sample_weight)\u001b[0m\n\u001b[1;32m     73\u001b[0m \u001b[0;34m\u001b[0m\u001b[0m\n\u001b[1;32m     74\u001b[0m     \u001b[0;32mif\u001b[0m \u001b[0my_type\u001b[0m \u001b[0;34m==\u001b[0m \u001b[0;34m\"binary\"\u001b[0m\u001b[0;34m:\u001b[0m\u001b[0;34m\u001b[0m\u001b[0;34m\u001b[0m\u001b[0m\n\u001b[0;32m---> 75\u001b[0;31m         \u001b[0;32mreturn\u001b[0m \u001b[0mbinary_metric\u001b[0m\u001b[0;34m(\u001b[0m\u001b[0my_true\u001b[0m\u001b[0;34m,\u001b[0m \u001b[0my_score\u001b[0m\u001b[0;34m,\u001b[0m \u001b[0msample_weight\u001b[0m\u001b[0;34m=\u001b[0m\u001b[0msample_weight\u001b[0m\u001b[0;34m)\u001b[0m\u001b[0;34m\u001b[0m\u001b[0;34m\u001b[0m\u001b[0m\n\u001b[0m\u001b[1;32m     76\u001b[0m \u001b[0;34m\u001b[0m\u001b[0m\n\u001b[1;32m     77\u001b[0m     \u001b[0mcheck_consistent_length\u001b[0m\u001b[0;34m(\u001b[0m\u001b[0my_true\u001b[0m\u001b[0;34m,\u001b[0m \u001b[0my_score\u001b[0m\u001b[0;34m,\u001b[0m \u001b[0msample_weight\u001b[0m\u001b[0;34m)\u001b[0m\u001b[0;34m\u001b[0m\u001b[0;34m\u001b[0m\u001b[0m\n",
      "\u001b[0;32m~/opt/anaconda3/lib/python3.9/site-packages/sklearn/metrics/_ranking.py\u001b[0m in \u001b[0;36m_binary_roc_auc_score\u001b[0;34m(y_true, y_score, sample_weight, max_fpr)\u001b[0m\n\u001b[1;32m    340\u001b[0m         )\n\u001b[1;32m    341\u001b[0m \u001b[0;34m\u001b[0m\u001b[0m\n\u001b[0;32m--> 342\u001b[0;31m     \u001b[0mfpr\u001b[0m\u001b[0;34m,\u001b[0m \u001b[0mtpr\u001b[0m\u001b[0;34m,\u001b[0m \u001b[0m_\u001b[0m \u001b[0;34m=\u001b[0m \u001b[0mroc_curve\u001b[0m\u001b[0;34m(\u001b[0m\u001b[0my_true\u001b[0m\u001b[0;34m,\u001b[0m \u001b[0my_score\u001b[0m\u001b[0;34m,\u001b[0m \u001b[0msample_weight\u001b[0m\u001b[0;34m=\u001b[0m\u001b[0msample_weight\u001b[0m\u001b[0;34m)\u001b[0m\u001b[0;34m\u001b[0m\u001b[0;34m\u001b[0m\u001b[0m\n\u001b[0m\u001b[1;32m    343\u001b[0m     \u001b[0;32mif\u001b[0m \u001b[0mmax_fpr\u001b[0m \u001b[0;32mis\u001b[0m \u001b[0;32mNone\u001b[0m \u001b[0;32mor\u001b[0m \u001b[0mmax_fpr\u001b[0m \u001b[0;34m==\u001b[0m \u001b[0;36m1\u001b[0m\u001b[0;34m:\u001b[0m\u001b[0;34m\u001b[0m\u001b[0;34m\u001b[0m\u001b[0m\n\u001b[1;32m    344\u001b[0m         \u001b[0;32mreturn\u001b[0m \u001b[0mauc\u001b[0m\u001b[0;34m(\u001b[0m\u001b[0mfpr\u001b[0m\u001b[0;34m,\u001b[0m \u001b[0mtpr\u001b[0m\u001b[0;34m)\u001b[0m\u001b[0;34m\u001b[0m\u001b[0;34m\u001b[0m\u001b[0m\n",
      "\u001b[0;32m~/opt/anaconda3/lib/python3.9/site-packages/sklearn/metrics/_ranking.py\u001b[0m in \u001b[0;36mroc_curve\u001b[0;34m(y_true, y_score, pos_label, sample_weight, drop_intermediate)\u001b[0m\n\u001b[1;32m    960\u001b[0m \u001b[0;34m\u001b[0m\u001b[0m\n\u001b[1;32m    961\u001b[0m     \"\"\"\n\u001b[0;32m--> 962\u001b[0;31m     fps, tps, thresholds = _binary_clf_curve(\n\u001b[0m\u001b[1;32m    963\u001b[0m         \u001b[0my_true\u001b[0m\u001b[0;34m,\u001b[0m \u001b[0my_score\u001b[0m\u001b[0;34m,\u001b[0m \u001b[0mpos_label\u001b[0m\u001b[0;34m=\u001b[0m\u001b[0mpos_label\u001b[0m\u001b[0;34m,\u001b[0m \u001b[0msample_weight\u001b[0m\u001b[0;34m=\u001b[0m\u001b[0msample_weight\u001b[0m\u001b[0;34m\u001b[0m\u001b[0;34m\u001b[0m\u001b[0m\n\u001b[1;32m    964\u001b[0m     )\n",
      "\u001b[0;32m~/opt/anaconda3/lib/python3.9/site-packages/sklearn/metrics/_ranking.py\u001b[0m in \u001b[0;36m_binary_clf_curve\u001b[0;34m(y_true, y_score, pos_label, sample_weight)\u001b[0m\n\u001b[1;32m    733\u001b[0m     \u001b[0mcheck_consistent_length\u001b[0m\u001b[0;34m(\u001b[0m\u001b[0my_true\u001b[0m\u001b[0;34m,\u001b[0m \u001b[0my_score\u001b[0m\u001b[0;34m,\u001b[0m \u001b[0msample_weight\u001b[0m\u001b[0;34m)\u001b[0m\u001b[0;34m\u001b[0m\u001b[0;34m\u001b[0m\u001b[0m\n\u001b[1;32m    734\u001b[0m     \u001b[0my_true\u001b[0m \u001b[0;34m=\u001b[0m \u001b[0mcolumn_or_1d\u001b[0m\u001b[0;34m(\u001b[0m\u001b[0my_true\u001b[0m\u001b[0;34m)\u001b[0m\u001b[0;34m\u001b[0m\u001b[0;34m\u001b[0m\u001b[0m\n\u001b[0;32m--> 735\u001b[0;31m     \u001b[0my_score\u001b[0m \u001b[0;34m=\u001b[0m \u001b[0mcolumn_or_1d\u001b[0m\u001b[0;34m(\u001b[0m\u001b[0my_score\u001b[0m\u001b[0;34m)\u001b[0m\u001b[0;34m\u001b[0m\u001b[0;34m\u001b[0m\u001b[0m\n\u001b[0m\u001b[1;32m    736\u001b[0m     \u001b[0massert_all_finite\u001b[0m\u001b[0;34m(\u001b[0m\u001b[0my_true\u001b[0m\u001b[0;34m)\u001b[0m\u001b[0;34m\u001b[0m\u001b[0;34m\u001b[0m\u001b[0m\n\u001b[1;32m    737\u001b[0m     \u001b[0massert_all_finite\u001b[0m\u001b[0;34m(\u001b[0m\u001b[0my_score\u001b[0m\u001b[0;34m)\u001b[0m\u001b[0;34m\u001b[0m\u001b[0;34m\u001b[0m\u001b[0m\n",
      "\u001b[0;32m~/opt/anaconda3/lib/python3.9/site-packages/sklearn/utils/validation.py\u001b[0m in \u001b[0;36mcolumn_or_1d\u001b[0;34m(y, warn)\u001b[0m\n\u001b[1;32m   1036\u001b[0m         \u001b[0;32mreturn\u001b[0m \u001b[0mnp\u001b[0m\u001b[0;34m.\u001b[0m\u001b[0mravel\u001b[0m\u001b[0;34m(\u001b[0m\u001b[0my\u001b[0m\u001b[0;34m)\u001b[0m\u001b[0;34m\u001b[0m\u001b[0;34m\u001b[0m\u001b[0m\n\u001b[1;32m   1037\u001b[0m \u001b[0;34m\u001b[0m\u001b[0m\n\u001b[0;32m-> 1038\u001b[0;31m     raise ValueError(\n\u001b[0m\u001b[1;32m   1039\u001b[0m         \u001b[0;34m\"y should be a 1d array, got an array of shape {} instead.\"\u001b[0m\u001b[0;34m.\u001b[0m\u001b[0mformat\u001b[0m\u001b[0;34m(\u001b[0m\u001b[0mshape\u001b[0m\u001b[0;34m)\u001b[0m\u001b[0;34m\u001b[0m\u001b[0;34m\u001b[0m\u001b[0m\n\u001b[1;32m   1040\u001b[0m     )\n",
      "\u001b[0;31mValueError\u001b[0m: y should be a 1d array, got an array of shape (143, 2) instead."
     ]
    }
   ],
   "source": [
    "from sklearn.metrics import roc_auc_score, average_precision_score\n",
    "print(roc_auc_score(y_test, test_proba))\n",
    "print(average_precision_score(y_test, test_proba))"
   ]
  },
  {
   "cell_type": "code",
   "execution_count": null,
   "metadata": {},
   "outputs": [],
   "source": [
    "=============================================="
   ]
  },
  {
   "cell_type": "code",
   "execution_count": null,
   "metadata": {},
   "outputs": [],
   "source": [
    "# GridSearch로 최적의 조합찾기"
   ]
  },
  {
   "cell_type": "code",
   "execution_count": 52,
   "metadata": {
    "ExecuteTime": {
     "end_time": "2023-02-07T00:01:19.180398Z",
     "start_time": "2023-02-07T00:01:19.166645Z"
    }
   },
   "outputs": [],
   "source": [
    "from sklearn.pipeline import Pipeline\n",
    "order = [\n",
    "    ('scaler', StandardScaler()), \n",
    "    ('svc', SVC(random_state=0,probability=True))\n",
    "    \n",
    "]\n",
    "pipeline = Pipeline(order, verbose=True)"
   ]
  },
  {
   "cell_type": "code",
   "execution_count": 53,
   "metadata": {
    "ExecuteTime": {
     "end_time": "2023-02-07T00:03:33.514960Z",
     "start_time": "2023-02-07T00:03:29.623633Z"
    }
   },
   "outputs": [
    {
     "name": "stdout",
     "output_type": "stream",
     "text": [
      "[Pipeline] ............ (step 1 of 2) Processing scaler, total=   0.0s\n",
      "[Pipeline] ............... (step 2 of 2) Processing svc, total=   0.0s\n"
     ]
    },
    {
     "data": {
      "text/plain": [
       "GridSearchCV(cv=4,\n",
       "             estimator=Pipeline(steps=[('scaler', StandardScaler()),\n",
       "                                       ('svc',\n",
       "                                        SVC(probability=True, random_state=0))],\n",
       "                                verbose=True),\n",
       "             n_jobs=-1,\n",
       "             param_grid={'svc__C': [0.0001, 0.001, 0.01, 0.1, 1, 10],\n",
       "                         'svc__gamma': [0.0001, 0.001, 0.01, 0.1, 1, 10],\n",
       "                         'svc__kernel': ['linear', 'rbf', 'poly']},\n",
       "             refit='accuracy', scoring=['accuracy', 'roc_auc'])"
      ]
     },
     "execution_count": 53,
     "metadata": {},
     "output_type": "execute_result"
    }
   ],
   "source": [
    "params = {\n",
    "    \"svc__kernel\": ['linear', 'rbf', 'poly'],\n",
    "    \"svc__C\": [0.0001, 0.001, 0.01, 0.1, 1, 10],\n",
    "    \"svc__gamma\": [0.0001, 0.001, 0.01, 0.1, 1, 10]   \n",
    "}\n",
    "\n",
    "gs= GridSearchCV(pipeline, \n",
    "                param_grid=params,\n",
    "                scoring=['accuracy', 'roc_auc'],\n",
    "                refit = 'accuracy', \n",
    "                 cv=4, \n",
    "                 n_jobs=-1)\n",
    "\n",
    "gs.fit(X_train, y_train)"
   ]
  },
  {
   "cell_type": "code",
   "execution_count": 54,
   "metadata": {
    "ExecuteTime": {
     "end_time": "2023-02-07T00:03:46.390859Z",
     "start_time": "2023-02-07T00:03:46.365344Z"
    }
   },
   "outputs": [
    {
     "data": {
      "text/plain": [
       "{'svc__C': 10, 'svc__gamma': 0.01, 'svc__kernel': 'rbf'}"
      ]
     },
     "execution_count": 54,
     "metadata": {},
     "output_type": "execute_result"
    }
   ],
   "source": [
    "gs.best_params_"
   ]
  },
  {
   "cell_type": "code",
   "execution_count": 55,
   "metadata": {
    "ExecuteTime": {
     "end_time": "2023-02-07T00:03:51.530368Z",
     "start_time": "2023-02-07T00:03:51.518172Z"
    }
   },
   "outputs": [
    {
     "data": {
      "text/plain": [
       "0.9812643272791395"
      ]
     },
     "execution_count": 55,
     "metadata": {},
     "output_type": "execute_result"
    }
   ],
   "source": [
    "gs.best_score_\n",
    "# 0.985959266443308"
   ]
  },
  {
   "cell_type": "code",
   "execution_count": 56,
   "metadata": {
    "ExecuteTime": {
     "end_time": "2023-02-07T00:03:57.530211Z",
     "start_time": "2023-02-07T00:03:57.489527Z"
    }
   },
   "outputs": [
    {
     "data": {
      "text/html": [
       "<div>\n",
       "<style scoped>\n",
       "    .dataframe tbody tr th:only-of-type {\n",
       "        vertical-align: middle;\n",
       "    }\n",
       "\n",
       "    .dataframe tbody tr th {\n",
       "        vertical-align: top;\n",
       "    }\n",
       "\n",
       "    .dataframe thead th {\n",
       "        text-align: right;\n",
       "    }\n",
       "</style>\n",
       "<table border=\"1\" class=\"dataframe\">\n",
       "  <thead>\n",
       "    <tr style=\"text-align: right;\">\n",
       "      <th></th>\n",
       "      <th>mean_fit_time</th>\n",
       "      <th>std_fit_time</th>\n",
       "      <th>mean_score_time</th>\n",
       "      <th>std_score_time</th>\n",
       "      <th>param_svc__C</th>\n",
       "      <th>param_svc__gamma</th>\n",
       "      <th>param_svc__kernel</th>\n",
       "      <th>params</th>\n",
       "      <th>split0_test_accuracy</th>\n",
       "      <th>split1_test_accuracy</th>\n",
       "      <th>...</th>\n",
       "      <th>mean_test_accuracy</th>\n",
       "      <th>std_test_accuracy</th>\n",
       "      <th>rank_test_accuracy</th>\n",
       "      <th>split0_test_roc_auc</th>\n",
       "      <th>split1_test_roc_auc</th>\n",
       "      <th>split2_test_roc_auc</th>\n",
       "      <th>split3_test_roc_auc</th>\n",
       "      <th>mean_test_roc_auc</th>\n",
       "      <th>std_test_roc_auc</th>\n",
       "      <th>rank_test_roc_auc</th>\n",
       "    </tr>\n",
       "  </thead>\n",
       "  <tbody>\n",
       "    <tr>\n",
       "      <th>97</th>\n",
       "      <td>0.013878</td>\n",
       "      <td>0.005841</td>\n",
       "      <td>0.002123</td>\n",
       "      <td>0.000257</td>\n",
       "      <td>10</td>\n",
       "      <td>0.01</td>\n",
       "      <td>rbf</td>\n",
       "      <td>{'svc__C': 10, 'svc__gamma': 0.01, 'svc__kerne...</td>\n",
       "      <td>0.971963</td>\n",
       "      <td>0.971963</td>\n",
       "      <td>...</td>\n",
       "      <td>0.981264</td>\n",
       "      <td>0.009302</td>\n",
       "      <td>1</td>\n",
       "      <td>0.993657</td>\n",
       "      <td>0.987687</td>\n",
       "      <td>1.0</td>\n",
       "      <td>0.999621</td>\n",
       "      <td>0.995241</td>\n",
       "      <td>0.005035</td>\n",
       "      <td>4</td>\n",
       "    </tr>\n",
       "    <tr>\n",
       "      <th>75</th>\n",
       "      <td>0.006889</td>\n",
       "      <td>0.001309</td>\n",
       "      <td>0.001153</td>\n",
       "      <td>0.000042</td>\n",
       "      <td>1</td>\n",
       "      <td>0.001</td>\n",
       "      <td>linear</td>\n",
       "      <td>{'svc__C': 1, 'svc__gamma': 0.001, 'svc__kerne...</td>\n",
       "      <td>0.981308</td>\n",
       "      <td>0.971963</td>\n",
       "      <td>...</td>\n",
       "      <td>0.981242</td>\n",
       "      <td>0.006578</td>\n",
       "      <td>2</td>\n",
       "      <td>0.986940</td>\n",
       "      <td>0.982463</td>\n",
       "      <td>1.0</td>\n",
       "      <td>0.997348</td>\n",
       "      <td>0.991688</td>\n",
       "      <td>0.007225</td>\n",
       "      <td>23</td>\n",
       "    </tr>\n",
       "    <tr>\n",
       "      <th>72</th>\n",
       "      <td>0.007160</td>\n",
       "      <td>0.002881</td>\n",
       "      <td>0.001150</td>\n",
       "      <td>0.000050</td>\n",
       "      <td>1</td>\n",
       "      <td>0.0001</td>\n",
       "      <td>linear</td>\n",
       "      <td>{'svc__C': 1, 'svc__gamma': 0.0001, 'svc__kern...</td>\n",
       "      <td>0.981308</td>\n",
       "      <td>0.971963</td>\n",
       "      <td>...</td>\n",
       "      <td>0.981242</td>\n",
       "      <td>0.006578</td>\n",
       "      <td>2</td>\n",
       "      <td>0.986940</td>\n",
       "      <td>0.982463</td>\n",
       "      <td>1.0</td>\n",
       "      <td>0.997348</td>\n",
       "      <td>0.991688</td>\n",
       "      <td>0.007225</td>\n",
       "      <td>23</td>\n",
       "    </tr>\n",
       "    <tr>\n",
       "      <th>81</th>\n",
       "      <td>0.005906</td>\n",
       "      <td>0.000436</td>\n",
       "      <td>0.001639</td>\n",
       "      <td>0.000902</td>\n",
       "      <td>1</td>\n",
       "      <td>0.1</td>\n",
       "      <td>linear</td>\n",
       "      <td>{'svc__C': 1, 'svc__gamma': 0.1, 'svc__kernel'...</td>\n",
       "      <td>0.981308</td>\n",
       "      <td>0.971963</td>\n",
       "      <td>...</td>\n",
       "      <td>0.981242</td>\n",
       "      <td>0.006578</td>\n",
       "      <td>2</td>\n",
       "      <td>0.986940</td>\n",
       "      <td>0.982463</td>\n",
       "      <td>1.0</td>\n",
       "      <td>0.997348</td>\n",
       "      <td>0.991688</td>\n",
       "      <td>0.007225</td>\n",
       "      <td>23</td>\n",
       "    </tr>\n",
       "    <tr>\n",
       "      <th>84</th>\n",
       "      <td>0.007698</td>\n",
       "      <td>0.001842</td>\n",
       "      <td>0.001218</td>\n",
       "      <td>0.000023</td>\n",
       "      <td>1</td>\n",
       "      <td>1</td>\n",
       "      <td>linear</td>\n",
       "      <td>{'svc__C': 1, 'svc__gamma': 1, 'svc__kernel': ...</td>\n",
       "      <td>0.981308</td>\n",
       "      <td>0.971963</td>\n",
       "      <td>...</td>\n",
       "      <td>0.981242</td>\n",
       "      <td>0.006578</td>\n",
       "      <td>2</td>\n",
       "      <td>0.986940</td>\n",
       "      <td>0.982463</td>\n",
       "      <td>1.0</td>\n",
       "      <td>0.997348</td>\n",
       "      <td>0.991688</td>\n",
       "      <td>0.007225</td>\n",
       "      <td>23</td>\n",
       "    </tr>\n",
       "  </tbody>\n",
       "</table>\n",
       "<p>5 rows × 22 columns</p>\n",
       "</div>"
      ],
      "text/plain": [
       "    mean_fit_time  std_fit_time  mean_score_time  std_score_time param_svc__C  \\\n",
       "97       0.013878      0.005841         0.002123        0.000257           10   \n",
       "75       0.006889      0.001309         0.001153        0.000042            1   \n",
       "72       0.007160      0.002881         0.001150        0.000050            1   \n",
       "81       0.005906      0.000436         0.001639        0.000902            1   \n",
       "84       0.007698      0.001842         0.001218        0.000023            1   \n",
       "\n",
       "   param_svc__gamma param_svc__kernel  \\\n",
       "97             0.01               rbf   \n",
       "75            0.001            linear   \n",
       "72           0.0001            linear   \n",
       "81              0.1            linear   \n",
       "84                1            linear   \n",
       "\n",
       "                                               params  split0_test_accuracy  \\\n",
       "97  {'svc__C': 10, 'svc__gamma': 0.01, 'svc__kerne...              0.971963   \n",
       "75  {'svc__C': 1, 'svc__gamma': 0.001, 'svc__kerne...              0.981308   \n",
       "72  {'svc__C': 1, 'svc__gamma': 0.0001, 'svc__kern...              0.981308   \n",
       "81  {'svc__C': 1, 'svc__gamma': 0.1, 'svc__kernel'...              0.981308   \n",
       "84  {'svc__C': 1, 'svc__gamma': 1, 'svc__kernel': ...              0.981308   \n",
       "\n",
       "    split1_test_accuracy  ...  mean_test_accuracy  std_test_accuracy  \\\n",
       "97              0.971963  ...            0.981264           0.009302   \n",
       "75              0.971963  ...            0.981242           0.006578   \n",
       "72              0.971963  ...            0.981242           0.006578   \n",
       "81              0.971963  ...            0.981242           0.006578   \n",
       "84              0.971963  ...            0.981242           0.006578   \n",
       "\n",
       "    rank_test_accuracy  split0_test_roc_auc  split1_test_roc_auc  \\\n",
       "97                   1             0.993657             0.987687   \n",
       "75                   2             0.986940             0.982463   \n",
       "72                   2             0.986940             0.982463   \n",
       "81                   2             0.986940             0.982463   \n",
       "84                   2             0.986940             0.982463   \n",
       "\n",
       "    split2_test_roc_auc  split3_test_roc_auc  mean_test_roc_auc  \\\n",
       "97                  1.0             0.999621           0.995241   \n",
       "75                  1.0             0.997348           0.991688   \n",
       "72                  1.0             0.997348           0.991688   \n",
       "81                  1.0             0.997348           0.991688   \n",
       "84                  1.0             0.997348           0.991688   \n",
       "\n",
       "    std_test_roc_auc  rank_test_roc_auc  \n",
       "97          0.005035                  4  \n",
       "75          0.007225                 23  \n",
       "72          0.007225                 23  \n",
       "81          0.007225                 23  \n",
       "84          0.007225                 23  \n",
       "\n",
       "[5 rows x 22 columns]"
      ]
     },
     "execution_count": 56,
     "metadata": {},
     "output_type": "execute_result"
    }
   ],
   "source": [
    "result = pd.DataFrame(gs.cv_results_)\n",
    "result.sort_values('rank_test_accuracy').head()"
   ]
  },
  {
   "cell_type": "code",
   "execution_count": 57,
   "metadata": {
    "ExecuteTime": {
     "end_time": "2023-02-07T00:04:06.208083Z",
     "start_time": "2023-02-07T00:04:06.166919Z"
    }
   },
   "outputs": [
    {
     "data": {
      "text/html": [
       "<div>\n",
       "<style scoped>\n",
       "    .dataframe tbody tr th:only-of-type {\n",
       "        vertical-align: middle;\n",
       "    }\n",
       "\n",
       "    .dataframe tbody tr th {\n",
       "        vertical-align: top;\n",
       "    }\n",
       "\n",
       "    .dataframe thead th {\n",
       "        text-align: right;\n",
       "    }\n",
       "</style>\n",
       "<table border=\"1\" class=\"dataframe\">\n",
       "  <thead>\n",
       "    <tr style=\"text-align: right;\">\n",
       "      <th></th>\n",
       "      <th>mean_fit_time</th>\n",
       "      <th>std_fit_time</th>\n",
       "      <th>mean_score_time</th>\n",
       "      <th>std_score_time</th>\n",
       "      <th>param_svc__C</th>\n",
       "      <th>param_svc__gamma</th>\n",
       "      <th>param_svc__kernel</th>\n",
       "      <th>params</th>\n",
       "      <th>split0_test_accuracy</th>\n",
       "      <th>split1_test_accuracy</th>\n",
       "      <th>...</th>\n",
       "      <th>mean_test_accuracy</th>\n",
       "      <th>std_test_accuracy</th>\n",
       "      <th>rank_test_accuracy</th>\n",
       "      <th>split0_test_roc_auc</th>\n",
       "      <th>split1_test_roc_auc</th>\n",
       "      <th>split2_test_roc_auc</th>\n",
       "      <th>split3_test_roc_auc</th>\n",
       "      <th>mean_test_roc_auc</th>\n",
       "      <th>std_test_roc_auc</th>\n",
       "      <th>rank_test_roc_auc</th>\n",
       "    </tr>\n",
       "  </thead>\n",
       "  <tbody>\n",
       "    <tr>\n",
       "      <th>65</th>\n",
       "      <td>0.013562</td>\n",
       "      <td>0.006871</td>\n",
       "      <td>0.002817</td>\n",
       "      <td>0.001784</td>\n",
       "      <td>0.1</td>\n",
       "      <td>0.1</td>\n",
       "      <td>poly</td>\n",
       "      <td>{'svc__C': 0.1, 'svc__gamma': 0.1, 'svc__kerne...</td>\n",
       "      <td>0.859813</td>\n",
       "      <td>0.943925</td>\n",
       "      <td>...</td>\n",
       "      <td>0.922633</td>\n",
       "      <td>0.036270</td>\n",
       "      <td>53</td>\n",
       "      <td>0.998507</td>\n",
       "      <td>0.988433</td>\n",
       "      <td>1.0</td>\n",
       "      <td>0.998864</td>\n",
       "      <td>0.996451</td>\n",
       "      <td>0.004662</td>\n",
       "      <td>1</td>\n",
       "    </tr>\n",
       "    <tr>\n",
       "      <th>14</th>\n",
       "      <td>0.011791</td>\n",
       "      <td>0.004695</td>\n",
       "      <td>0.003046</td>\n",
       "      <td>0.002219</td>\n",
       "      <td>0.0001</td>\n",
       "      <td>1</td>\n",
       "      <td>poly</td>\n",
       "      <td>{'svc__C': 0.0001, 'svc__gamma': 1, 'svc__kern...</td>\n",
       "      <td>0.859813</td>\n",
       "      <td>0.943925</td>\n",
       "      <td>...</td>\n",
       "      <td>0.922633</td>\n",
       "      <td>0.036270</td>\n",
       "      <td>53</td>\n",
       "      <td>0.998134</td>\n",
       "      <td>0.988433</td>\n",
       "      <td>1.0</td>\n",
       "      <td>0.998864</td>\n",
       "      <td>0.996358</td>\n",
       "      <td>0.004623</td>\n",
       "      <td>2</td>\n",
       "    </tr>\n",
       "    <tr>\n",
       "      <th>94</th>\n",
       "      <td>0.012528</td>\n",
       "      <td>0.004493</td>\n",
       "      <td>0.003742</td>\n",
       "      <td>0.002045</td>\n",
       "      <td>10</td>\n",
       "      <td>0.001</td>\n",
       "      <td>rbf</td>\n",
       "      <td>{'svc__C': 10, 'svc__gamma': 0.001, 'svc__kern...</td>\n",
       "      <td>0.953271</td>\n",
       "      <td>0.962617</td>\n",
       "      <td>...</td>\n",
       "      <td>0.971896</td>\n",
       "      <td>0.014721</td>\n",
       "      <td>14</td>\n",
       "      <td>0.997015</td>\n",
       "      <td>0.985448</td>\n",
       "      <td>1.0</td>\n",
       "      <td>1.000000</td>\n",
       "      <td>0.995616</td>\n",
       "      <td>0.005996</td>\n",
       "      <td>3</td>\n",
       "    </tr>\n",
       "    <tr>\n",
       "      <th>97</th>\n",
       "      <td>0.013878</td>\n",
       "      <td>0.005841</td>\n",
       "      <td>0.002123</td>\n",
       "      <td>0.000257</td>\n",
       "      <td>10</td>\n",
       "      <td>0.01</td>\n",
       "      <td>rbf</td>\n",
       "      <td>{'svc__C': 10, 'svc__gamma': 0.01, 'svc__kerne...</td>\n",
       "      <td>0.971963</td>\n",
       "      <td>0.971963</td>\n",
       "      <td>...</td>\n",
       "      <td>0.981264</td>\n",
       "      <td>0.009302</td>\n",
       "      <td>1</td>\n",
       "      <td>0.993657</td>\n",
       "      <td>0.987687</td>\n",
       "      <td>1.0</td>\n",
       "      <td>0.999621</td>\n",
       "      <td>0.995241</td>\n",
       "      <td>0.005035</td>\n",
       "      <td>4</td>\n",
       "    </tr>\n",
       "    <tr>\n",
       "      <th>79</th>\n",
       "      <td>0.013069</td>\n",
       "      <td>0.000484</td>\n",
       "      <td>0.002919</td>\n",
       "      <td>0.000124</td>\n",
       "      <td>1</td>\n",
       "      <td>0.01</td>\n",
       "      <td>rbf</td>\n",
       "      <td>{'svc__C': 1, 'svc__gamma': 0.01, 'svc__kernel...</td>\n",
       "      <td>0.934579</td>\n",
       "      <td>0.962617</td>\n",
       "      <td>...</td>\n",
       "      <td>0.964865</td>\n",
       "      <td>0.020184</td>\n",
       "      <td>16</td>\n",
       "      <td>0.994030</td>\n",
       "      <td>0.986194</td>\n",
       "      <td>1.0</td>\n",
       "      <td>0.998864</td>\n",
       "      <td>0.994772</td>\n",
       "      <td>0.005436</td>\n",
       "      <td>5</td>\n",
       "    </tr>\n",
       "  </tbody>\n",
       "</table>\n",
       "<p>5 rows × 22 columns</p>\n",
       "</div>"
      ],
      "text/plain": [
       "    mean_fit_time  std_fit_time  mean_score_time  std_score_time param_svc__C  \\\n",
       "65       0.013562      0.006871         0.002817        0.001784          0.1   \n",
       "14       0.011791      0.004695         0.003046        0.002219       0.0001   \n",
       "94       0.012528      0.004493         0.003742        0.002045           10   \n",
       "97       0.013878      0.005841         0.002123        0.000257           10   \n",
       "79       0.013069      0.000484         0.002919        0.000124            1   \n",
       "\n",
       "   param_svc__gamma param_svc__kernel  \\\n",
       "65              0.1              poly   \n",
       "14                1              poly   \n",
       "94            0.001               rbf   \n",
       "97             0.01               rbf   \n",
       "79             0.01               rbf   \n",
       "\n",
       "                                               params  split0_test_accuracy  \\\n",
       "65  {'svc__C': 0.1, 'svc__gamma': 0.1, 'svc__kerne...              0.859813   \n",
       "14  {'svc__C': 0.0001, 'svc__gamma': 1, 'svc__kern...              0.859813   \n",
       "94  {'svc__C': 10, 'svc__gamma': 0.001, 'svc__kern...              0.953271   \n",
       "97  {'svc__C': 10, 'svc__gamma': 0.01, 'svc__kerne...              0.971963   \n",
       "79  {'svc__C': 1, 'svc__gamma': 0.01, 'svc__kernel...              0.934579   \n",
       "\n",
       "    split1_test_accuracy  ...  mean_test_accuracy  std_test_accuracy  \\\n",
       "65              0.943925  ...            0.922633           0.036270   \n",
       "14              0.943925  ...            0.922633           0.036270   \n",
       "94              0.962617  ...            0.971896           0.014721   \n",
       "97              0.971963  ...            0.981264           0.009302   \n",
       "79              0.962617  ...            0.964865           0.020184   \n",
       "\n",
       "    rank_test_accuracy  split0_test_roc_auc  split1_test_roc_auc  \\\n",
       "65                  53             0.998507             0.988433   \n",
       "14                  53             0.998134             0.988433   \n",
       "94                  14             0.997015             0.985448   \n",
       "97                   1             0.993657             0.987687   \n",
       "79                  16             0.994030             0.986194   \n",
       "\n",
       "    split2_test_roc_auc  split3_test_roc_auc  mean_test_roc_auc  \\\n",
       "65                  1.0             0.998864           0.996451   \n",
       "14                  1.0             0.998864           0.996358   \n",
       "94                  1.0             1.000000           0.995616   \n",
       "97                  1.0             0.999621           0.995241   \n",
       "79                  1.0             0.998864           0.994772   \n",
       "\n",
       "    std_test_roc_auc  rank_test_roc_auc  \n",
       "65          0.004662                  1  \n",
       "14          0.004623                  2  \n",
       "94          0.005996                  3  \n",
       "97          0.005035                  4  \n",
       "79          0.005436                  5  \n",
       "\n",
       "[5 rows x 22 columns]"
      ]
     },
     "execution_count": 57,
     "metadata": {},
     "output_type": "execute_result"
    }
   ],
   "source": [
    "result.sort_values('rank_test_roc_auc').head()"
   ]
  },
  {
   "cell_type": "code",
   "execution_count": 58,
   "metadata": {
    "ExecuteTime": {
     "end_time": "2023-02-07T00:04:38.137189Z",
     "start_time": "2023-02-07T00:04:38.107094Z"
    }
   },
   "outputs": [],
   "source": [
    "# 최종 테스트\n",
    "best_svc = gs.best_estimator_\n",
    "test_pred = best_svc.predict(X_test)\n",
    "test_proba = best_svc.predict_proba(X_test)"
   ]
  },
  {
   "cell_type": "code",
   "execution_count": 59,
   "metadata": {
    "ExecuteTime": {
     "end_time": "2023-02-07T00:04:47.356827Z",
     "start_time": "2023-02-07T00:04:47.336096Z"
    }
   },
   "outputs": [
    {
     "data": {
      "text/plain": [
       "0.972027972027972"
      ]
     },
     "execution_count": 59,
     "metadata": {},
     "output_type": "execute_result"
    }
   ],
   "source": [
    "accuracy_score(y_test, test_pred)"
   ]
  },
  {
   "cell_type": "code",
   "execution_count": 64,
   "metadata": {
    "ExecuteTime": {
     "end_time": "2023-02-07T00:05:47.253748Z",
     "start_time": "2023-02-07T00:05:47.230841Z"
    }
   },
   "outputs": [
    {
     "data": {
      "text/plain": [
       "0.9953878406708596"
      ]
     },
     "execution_count": 64,
     "metadata": {},
     "output_type": "execute_result"
    }
   ],
   "source": [
    "roc_auc_score(y_test, test_proba[:, 1])"
   ]
  },
  {
   "cell_type": "code",
   "execution_count": null,
   "metadata": {},
   "outputs": [],
   "source": []
  },
  {
   "cell_type": "code",
   "execution_count": null,
   "metadata": {},
   "outputs": [],
   "source": []
  }
 ],
 "metadata": {
  "kernelspec": {
   "display_name": "Python 3 (ipykernel)",
   "language": "python",
   "name": "python3"
  },
  "language_info": {
   "codemirror_mode": {
    "name": "ipython",
    "version": 3
   },
   "file_extension": ".py",
   "mimetype": "text/x-python",
   "name": "python",
   "nbconvert_exporter": "python",
   "pygments_lexer": "ipython3",
   "version": "3.9.13"
  },
  "toc": {
   "base_numbering": 1,
   "nav_menu": {},
   "number_sections": false,
   "sideBar": true,
   "skip_h1_title": false,
   "title_cell": "Table of Contents",
   "title_sidebar": "Contents",
   "toc_cell": false,
   "toc_position": {},
   "toc_section_display": true,
   "toc_window_display": false
  },
  "varInspector": {
   "cols": {
    "lenName": 16,
    "lenType": 16,
    "lenVar": 40
   },
   "kernels_config": {
    "python": {
     "delete_cmd_postfix": "",
     "delete_cmd_prefix": "del ",
     "library": "var_list.py",
     "varRefreshCmd": "print(var_dic_list())"
    },
    "r": {
     "delete_cmd_postfix": ") ",
     "delete_cmd_prefix": "rm(",
     "library": "var_list.r",
     "varRefreshCmd": "cat(var_dic_list()) "
    }
   },
   "types_to_exclude": [
    "module",
    "function",
    "builtin_function_or_method",
    "instance",
    "_Feature"
   ],
   "window_display": false
  }
 },
 "nbformat": 4,
 "nbformat_minor": 4
}
